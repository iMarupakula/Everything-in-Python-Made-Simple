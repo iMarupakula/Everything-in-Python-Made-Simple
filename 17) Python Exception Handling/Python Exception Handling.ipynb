{
 "cells": [
  {
   "cell_type": "markdown",
   "metadata": {},
   "source": [
    "# Python Exception Handling"
   ]
  },
  {
   "cell_type": "markdown",
   "metadata": {},
   "source": [
    "In any programming language there are 2 types of errors are possible.<br>\n",
    "> 1) Syntax Errors<br>\n",
    "> 2) Runtime Errors<br>\n",
    "<br>\n",
    "### 1) Syntax Errors:\n",
    "The errors which occur because of invalid syntax are called syntax errors."
   ]
  },
  {
   "cell_type": "code",
   "execution_count": 1,
   "metadata": {},
   "outputs": [
    {
     "ename": "SyntaxError",
     "evalue": "invalid syntax (<ipython-input-1-2860cf9e56dc>, line 2)",
     "output_type": "error",
     "traceback": [
      "\u001b[1;36m  File \u001b[1;32m\"<ipython-input-1-2860cf9e56dc>\"\u001b[1;36m, line \u001b[1;32m2\u001b[0m\n\u001b[1;33m    if x==10 # colon is missing, will raise an syntax error\u001b[0m\n\u001b[1;37m             ^\u001b[0m\n\u001b[1;31mSyntaxError\u001b[0m\u001b[1;31m:\u001b[0m invalid syntax\n"
     ]
    }
   ],
   "source": [
    "x=10\n",
    "if x==10 # colon is missing, will raise an syntax error\n",
    "    print(\"Hello\")"
   ]
  },
  {
   "cell_type": "code",
   "execution_count": 2,
   "metadata": {},
   "outputs": [
    {
     "name": "stdout",
     "output_type": "stream",
     "text": [
      "Hello\n"
     ]
    }
   ],
   "source": [
    "x=10\n",
    "if x==10: \n",
    "    print(\"Hello\")"
   ]
  },
  {
   "cell_type": "code",
   "execution_count": 3,
   "metadata": {},
   "outputs": [
    {
     "ename": "SyntaxError",
     "evalue": "Missing parentheses in call to 'print'. Did you mean print(\"Hello World\")? (<ipython-input-3-5e5d16634faa>, line 2)",
     "output_type": "error",
     "traceback": [
      "\u001b[1;36m  File \u001b[1;32m\"<ipython-input-3-5e5d16634faa>\"\u001b[1;36m, line \u001b[1;32m2\u001b[0m\n\u001b[1;33m    print \"Hello World\"\u001b[0m\n\u001b[1;37m          ^\u001b[0m\n\u001b[1;31mSyntaxError\u001b[0m\u001b[1;31m:\u001b[0m Missing parentheses in call to 'print'. Did you mean print(\"Hello World\")?\n"
     ]
    }
   ],
   "source": [
    "# Example 2\n",
    "print \"Hello World\" # in python 2 it is valid. but in python3 paranthesis is must so syntax error will be raised."
   ]
  },
  {
   "cell_type": "code",
   "execution_count": 4,
   "metadata": {},
   "outputs": [
    {
     "name": "stdout",
     "output_type": "stream",
     "text": [
      "Hello World\n"
     ]
    }
   ],
   "source": [
    "print(\"Hello World\")"
   ]
  },
  {
   "cell_type": "markdown",
   "metadata": {},
   "source": [
    "Python Virtual Machine will start executing the program only if all the syntax Errors are corrected by end user.<br><br>\n",
    "\n",
    "**Note:** Programmer is responsible to correct these syntax errors. Once all syntax errors are corrected then only program execution will be started.<br><br>\n",
    "\n",
    "### 2) Runtime Errors:<br>\n",
    "- Also known as exceptions.<br>\n",
    "- While executing the program if something goes wrong because of end user input or programming logic or memory problems etc then we will get Runtime Errors."
   ]
  },
  {
   "cell_type": "code",
   "execution_count": 9,
   "metadata": {},
   "outputs": [
    {
     "name": "stdout",
     "output_type": "stream",
     "text": [
      "Enter First Number:10\n",
      "Enter Second Number:0\n"
     ]
    },
    {
     "ename": "ZeroDivisionError",
     "evalue": "division by zero",
     "output_type": "error",
     "traceback": [
      "\u001b[1;31m---------------------------------------------------------------------------\u001b[0m",
      "\u001b[1;31mZeroDivisionError\u001b[0m                         Traceback (most recent call last)",
      "\u001b[1;32m<ipython-input-9-4c99b4080919>\u001b[0m in \u001b[0;36m<module>\u001b[1;34m\u001b[0m\n\u001b[0;32m      2\u001b[0m \u001b[0mx\u001b[0m\u001b[1;33m=\u001b[0m\u001b[0mint\u001b[0m\u001b[1;33m(\u001b[0m\u001b[0minput\u001b[0m\u001b[1;33m(\u001b[0m\u001b[1;34m\"Enter First Number:\"\u001b[0m\u001b[1;33m)\u001b[0m\u001b[1;33m)\u001b[0m\u001b[1;33m\u001b[0m\u001b[1;33m\u001b[0m\u001b[0m\n\u001b[0;32m      3\u001b[0m \u001b[0my\u001b[0m\u001b[1;33m=\u001b[0m\u001b[0mint\u001b[0m\u001b[1;33m(\u001b[0m\u001b[0minput\u001b[0m\u001b[1;33m(\u001b[0m\u001b[1;34m\"Enter Second Number:\"\u001b[0m\u001b[1;33m)\u001b[0m\u001b[1;33m)\u001b[0m\u001b[1;33m\u001b[0m\u001b[1;33m\u001b[0m\u001b[0m\n\u001b[1;32m----> 4\u001b[1;33m \u001b[0mprint\u001b[0m\u001b[1;33m(\u001b[0m\u001b[1;34m\"The result\"\u001b[0m\u001b[1;33m,\u001b[0m\u001b[0mx\u001b[0m\u001b[1;33m/\u001b[0m\u001b[0my\u001b[0m\u001b[1;33m)\u001b[0m \u001b[1;31m# mistake from end user, can't be divided with zero.\u001b[0m\u001b[1;33m\u001b[0m\u001b[1;33m\u001b[0m\u001b[0m\n\u001b[0m",
      "\u001b[1;31mZeroDivisionError\u001b[0m: division by zero"
     ]
    }
   ],
   "source": [
    "# Example 1\n",
    "x=int(input(\"Enter First Number:\"))\n",
    "y=int(input(\"Enter Second Number:\"))\n",
    "print(\"The result\",x/y) # mistake from end user, can't be divided with zero.\n",
    "# This type of error is Runtime Errors"
   ]
  },
  {
   "cell_type": "code",
   "execution_count": 10,
   "metadata": {},
   "outputs": [
    {
     "name": "stdout",
     "output_type": "stream",
     "text": [
      "Enter First Number:10\n",
      "Enter Second Number:ten\n"
     ]
    },
    {
     "ename": "ValueError",
     "evalue": "invalid literal for int() with base 10: 'ten'",
     "output_type": "error",
     "traceback": [
      "\u001b[1;31m---------------------------------------------------------------------------\u001b[0m",
      "\u001b[1;31mValueError\u001b[0m                                Traceback (most recent call last)",
      "\u001b[1;32m<ipython-input-10-1403d372c512>\u001b[0m in \u001b[0;36m<module>\u001b[1;34m\u001b[0m\n\u001b[0;32m      1\u001b[0m \u001b[1;31m# Example 2\u001b[0m\u001b[1;33m\u001b[0m\u001b[1;33m\u001b[0m\u001b[1;33m\u001b[0m\u001b[0m\n\u001b[0;32m      2\u001b[0m \u001b[0mx\u001b[0m\u001b[1;33m=\u001b[0m\u001b[0mint\u001b[0m\u001b[1;33m(\u001b[0m\u001b[0minput\u001b[0m\u001b[1;33m(\u001b[0m\u001b[1;34m\"Enter First Number:\"\u001b[0m\u001b[1;33m)\u001b[0m\u001b[1;33m)\u001b[0m\u001b[1;33m\u001b[0m\u001b[1;33m\u001b[0m\u001b[0m\n\u001b[1;32m----> 3\u001b[1;33m \u001b[0my\u001b[0m\u001b[1;33m=\u001b[0m\u001b[0mint\u001b[0m\u001b[1;33m(\u001b[0m\u001b[0minput\u001b[0m\u001b[1;33m(\u001b[0m\u001b[1;34m\"Enter Second Number:\"\u001b[0m\u001b[1;33m)\u001b[0m\u001b[1;33m)\u001b[0m\u001b[1;33m\u001b[0m\u001b[1;33m\u001b[0m\u001b[0m\n\u001b[0m\u001b[0;32m      4\u001b[0m \u001b[0mprint\u001b[0m\u001b[1;33m(\u001b[0m\u001b[1;34m\"The result\"\u001b[0m\u001b[1;33m,\u001b[0m\u001b[0mx\u001b[0m\u001b[1;33m/\u001b[0m\u001b[0my\u001b[0m\u001b[1;33m)\u001b[0m\u001b[1;33m\u001b[0m\u001b[1;33m\u001b[0m\u001b[0m\n",
      "\u001b[1;31mValueError\u001b[0m: invalid literal for int() with base 10: 'ten'"
     ]
    }
   ],
   "source": [
    "# Example 2\n",
    "x=int(input(\"Enter First Number:\"))\n",
    "y=int(input(\"Enter Second Number:\"))\n",
    "print(\"The result\",x/y) \n",
    "# ValueError will be raised artithmetic operations can't be performed with int and str types."
   ]
  },
  {
   "cell_type": "code",
   "execution_count": 11,
   "metadata": {},
   "outputs": [
    {
     "ename": "FileNotFoundError",
     "evalue": "[Errno 2] No such file or directory: 'xyzxyz.txt'",
     "output_type": "error",
     "traceback": [
      "\u001b[1;31m---------------------------------------------------------------------------\u001b[0m",
      "\u001b[1;31mFileNotFoundError\u001b[0m                         Traceback (most recent call last)",
      "\u001b[1;32m<ipython-input-11-c303774ef471>\u001b[0m in \u001b[0;36m<module>\u001b[1;34m\u001b[0m\n\u001b[0;32m      1\u001b[0m \u001b[1;31m# Example 3\u001b[0m\u001b[1;33m\u001b[0m\u001b[1;33m\u001b[0m\u001b[1;33m\u001b[0m\u001b[0m\n\u001b[1;32m----> 2\u001b[1;33m \u001b[0mf\u001b[0m\u001b[1;33m=\u001b[0m\u001b[0mopen\u001b[0m\u001b[1;33m(\u001b[0m\u001b[1;34m\"xyzxyz.txt\"\u001b[0m\u001b[1;33m)\u001b[0m\u001b[1;33m\u001b[0m\u001b[1;33m\u001b[0m\u001b[0m\n\u001b[0m\u001b[0;32m      3\u001b[0m \u001b[0mprint\u001b[0m\u001b[1;33m(\u001b[0m\u001b[0mf\u001b[0m\u001b[1;33m.\u001b[0m\u001b[0mread\u001b[0m\u001b[1;33m(\u001b[0m\u001b[1;33m)\u001b[0m\u001b[1;33m)\u001b[0m\u001b[1;33m\u001b[0m\u001b[1;33m\u001b[0m\u001b[0m\n\u001b[0;32m      4\u001b[0m \u001b[1;31m# if the file doesn't found, then it will raise FileNotFoundError\u001b[0m\u001b[1;33m\u001b[0m\u001b[1;33m\u001b[0m\u001b[1;33m\u001b[0m\u001b[0m\n",
      "\u001b[1;31mFileNotFoundError\u001b[0m: [Errno 2] No such file or directory: 'xyzxyz.txt'"
     ]
    }
   ],
   "source": [
    "# Example 3\n",
    "f=open(\"xyzxyz.txt\")\n",
    "print(f.read())\n",
    "# if the file doesn't found, then it will raise FileNotFoundError"
   ]
  },
  {
   "cell_type": "code",
   "execution_count": 12,
   "metadata": {},
   "outputs": [
    {
     "name": "stdout",
     "output_type": "stream",
     "text": [
      "Hello This is the Text from abc.txt File\n"
     ]
    }
   ],
   "source": [
    "f=open(\"Supportive_Files/abc.txt\")\n",
    "print(f.read())\n",
    "# Now the file is available, so this will execute fine without rising FileNotFoundError"
   ]
  },
  {
   "cell_type": "markdown",
   "metadata": {},
   "source": [
    "**Note:** Exception Handling concept applicable for Runtime Errors but not for syntax errors"
   ]
  },
  {
   "cell_type": "markdown",
   "metadata": {},
   "source": [
    "# 3 Most Important Questions:\n",
    "**1) What is an Exception?**<br>\n",
    "> **Answer:** An unwanted and unexpected event that disturbs normal flow of program is called exception.<br><br>\n",
    "> Eg:<br>\n",
    "- ZeroDivisionError<br>\n",
    "- TypeError<br>\n",
    "- ValueError<br>\n",
    "- FileNotFoundError<br>\n",
    "- EOFError<br>\n",
    "- SleepingError<br>\n",
    "- TyrePuncturedError<br>\n",
    "\n",
    "**2) What is the main objective of Exception Handling?**<br>\n",
    "> **Answer:** <br>It is highly recommended to handle exceptions.<br>\n",
    "> The main objective of exception handling is Graceful Termination of the program (i.e we should not block our resources and we should not miss anything)<br>\n",
    "\n",
    "**3) What is the meaning of Exception Handling?**<br>\n",
    "> **Answer:** Exception handling does not mean repairing exception. We have to define alternative way to continue rest of the program normally.<br><br>\n",
    "> **Eg:** For example our programming requirement is reading data from remote file locating at London. At runtime if London file is not available then the program should not be terminated abnormally. We have to provide local file to continue rest of the program normally. **This way of defining alternative is nothing but exception handling.**<br><br>\n",
    "**try:**<br>\n",
    "&ensp;&ensp;&nbsp;Read Data from Remote File locating at London.<br>\n",
    "**except FileNotFoundError:**<br>\n",
    "&ensp;&ensp;&ensp;&ensp;use local file and continue rest of the program normally"
   ]
  },
  {
   "cell_type": "markdown",
   "metadata": {},
   "source": [
    "# Default Exception Handing and Exception Hierarchy in Python:\n",
    "\n",
    "- Every exception in Python is an object. For every exception type the corresponding classes are available.<br><br>\n",
    "\n",
    "- Whevever an exception occurs PVM will create the corresponding exception object and will check for handling code. If handling code is not available then Python interpreter terminates the program abnormally and prints corresponding exception information to the console.<br><br>\n",
    "\n",
    "- If handling code is not available then PVM will terminates program abnormally and print corresponding exception information to the console.The rest of the program won't be executed.<br><br>\n",
    "\n",
    "- To prevent this abnormal termination we should handle exceptions explictly. Ofcourse by using try-exxcept blocks."
   ]
  },
  {
   "cell_type": "code",
   "execution_count": 13,
   "metadata": {},
   "outputs": [
    {
     "name": "stdout",
     "output_type": "stream",
     "text": [
      "Hello\n"
     ]
    },
    {
     "ename": "ZeroDivisionError",
     "evalue": "division by zero",
     "output_type": "error",
     "traceback": [
      "\u001b[1;31m---------------------------------------------------------------------------\u001b[0m",
      "\u001b[1;31mZeroDivisionError\u001b[0m                         Traceback (most recent call last)",
      "\u001b[1;32m<ipython-input-13-f2b2f17c093c>\u001b[0m in \u001b[0;36m<module>\u001b[1;34m\u001b[0m\n\u001b[0;32m      1\u001b[0m \u001b[0mprint\u001b[0m\u001b[1;33m(\u001b[0m\u001b[1;34m\"Hello\"\u001b[0m\u001b[1;33m)\u001b[0m\u001b[1;33m\u001b[0m\u001b[1;33m\u001b[0m\u001b[0m\n\u001b[1;32m----> 2\u001b[1;33m \u001b[0mprint\u001b[0m\u001b[1;33m(\u001b[0m\u001b[1;36m10\u001b[0m\u001b[1;33m/\u001b[0m\u001b[1;36m0\u001b[0m\u001b[1;33m)\u001b[0m\u001b[1;33m\u001b[0m\u001b[1;33m\u001b[0m\u001b[0m\n\u001b[0m\u001b[0;32m      3\u001b[0m \u001b[0mprint\u001b[0m\u001b[1;33m(\u001b[0m\u001b[1;34m'Hi'\u001b[0m\u001b[1;33m)\u001b[0m\u001b[1;33m\u001b[0m\u001b[1;33m\u001b[0m\u001b[0m\n",
      "\u001b[1;31mZeroDivisionError\u001b[0m: division by zero"
     ]
    }
   ],
   "source": [
    "print(\"Hello\")\n",
    "print(10/0) # RunTimeError will be raise and then it will check for Exception Handling, if not available it will tterminate from program.\n",
    "print('Hi')\n",
    "# Abnormal Termination"
   ]
  },
  {
   "cell_type": "markdown",
   "metadata": {},
   "source": [
    "<img src=\"Supportive_Files/python_exception_hierarchy.png\"><br>\n",
    "\n",
    "- Every Exception in Python is a class.<br><br>\n",
    "- All exception classes are child classes of BaseException.i.e every exception class extends BaseException either directly or indirectly. Hence BaseException acts as root for Python Exception Hierarchy.<br><br>\n",
    "- Most of the times being a programmer we have to concentrate Exception and its child classes."
   ]
  },
  {
   "cell_type": "markdown",
   "metadata": {},
   "source": [
    "## Customized Exception Handling by using try-except:\n",
    "- It is highly recommended to handle exceptions.<br>\n",
    "- The code which may raise exception is called risky code and we have to take risky code inside try block. The corresponding handling code we have to take inside except block.<br><br>\n",
    "\n",
    "**try:**<br>\n",
    "&ensp;&ensp;&nbsp;Risky Code<br>\n",
    "**except XXX:**<br>\n",
    "&ensp;&ensp;&ensp;&ensp;Handling Code/Alternative Code"
   ]
  },
  {
   "cell_type": "code",
   "execution_count": 14,
   "metadata": {},
   "outputs": [
    {
     "name": "stdout",
     "output_type": "stream",
     "text": [
      "Statement 1\n"
     ]
    },
    {
     "ename": "ZeroDivisionError",
     "evalue": "division by zero",
     "output_type": "error",
     "traceback": [
      "\u001b[1;31m---------------------------------------------------------------------------\u001b[0m",
      "\u001b[1;31mZeroDivisionError\u001b[0m                         Traceback (most recent call last)",
      "\u001b[1;32m<ipython-input-14-98f6c486f810>\u001b[0m in \u001b[0;36m<module>\u001b[1;34m\u001b[0m\n\u001b[0;32m      1\u001b[0m \u001b[1;31m# Without try-except\u001b[0m\u001b[1;33m\u001b[0m\u001b[1;33m\u001b[0m\u001b[1;33m\u001b[0m\u001b[0m\n\u001b[0;32m      2\u001b[0m \u001b[0mprint\u001b[0m\u001b[1;33m(\u001b[0m\u001b[1;34m'Statement 1'\u001b[0m\u001b[1;33m)\u001b[0m\u001b[1;33m\u001b[0m\u001b[1;33m\u001b[0m\u001b[0m\n\u001b[1;32m----> 3\u001b[1;33m \u001b[0mprint\u001b[0m\u001b[1;33m(\u001b[0m\u001b[1;36m10\u001b[0m\u001b[1;33m/\u001b[0m\u001b[1;36m0\u001b[0m\u001b[1;33m)\u001b[0m\u001b[1;33m\u001b[0m\u001b[1;33m\u001b[0m\u001b[0m\n\u001b[0m\u001b[0;32m      4\u001b[0m \u001b[0mprint\u001b[0m\u001b[1;33m(\u001b[0m\u001b[1;34m\"Statement 2\"\u001b[0m\u001b[1;33m)\u001b[0m\u001b[1;33m\u001b[0m\u001b[1;33m\u001b[0m\u001b[0m\n",
      "\u001b[1;31mZeroDivisionError\u001b[0m: division by zero"
     ]
    }
   ],
   "source": [
    "# Without try-except\n",
    "print('Statement 1')\n",
    "print(10/0)\n",
    "print(\"Statement 2\")"
   ]
  },
  {
   "cell_type": "code",
   "execution_count": 15,
   "metadata": {},
   "outputs": [
    {
     "name": "stdout",
     "output_type": "stream",
     "text": [
      "Statement 1\n",
      "5.0\n",
      "Statement 3\n"
     ]
    }
   ],
   "source": [
    "#with try-except\n",
    "print('Statement 1')\n",
    "try:\n",
    "    print(10/0) # if this raise error\n",
    "except ZeroDivisionError: # then except the error and try the below alternative code\n",
    "    print(10/2)\n",
    "print(\"Statement 3\")\n",
    "\n",
    "# Above os the Normal/Graceful Termination"
   ]
  },
  {
   "cell_type": "markdown",
   "metadata": {},
   "source": [
    "# Control Flow in try-except\n",
    "\n",
    "**try:**<br>\n",
    "&ensp;&ensp;&nbsp;Statement-1<br>\n",
    "&ensp;&ensp;&nbsp;Statement-2<br>\n",
    "&ensp;&ensp;&nbsp;Statement-3<br>\n",
    "**except XXX:**<br>\n",
    "&ensp;&ensp;&ensp;Statement-4<br><br>\n",
    "Statement-5<br>"
   ]
  },
  {
   "cell_type": "markdown",
   "metadata": {},
   "source": [
    "**Case-1:** If there is no exception 1,2,3,5 and Normal Termination<br><br>\n",
    "**Case-2:** If an exception raised at Statement-2 and corresponding except block matched. Control Flow will be Statements 1,4,5 and it is a Normal Termination<br><br>\n",
    "**Case-3:** If an exception rose at Statement-2 and corresponding except block not matched. Control Flow will be only Statements 1 and it is an Abnormal Termination<br><br>\n",
    "**Case-4:** If an exception rose at Statement-4 or at Statement-5 then it is always abnormal termination.<br><br>\n",
    "## Conclusions:<br>\n",
    "\n",
    "1) Within the try block if anywhere exception raised then rest of the try block won’t be executed eventhough we handled that exception. Hence we have to take only risky code inside try block and length of the try block should be as less as possible. <br><br>\n",
    "2) In addition to try block, there may be a chance of raising exceptions inside except and finally blocks also.<br><br>\n",
    "3) If any statement which is not part of try block raises an exception then it is always abnormal termination."
   ]
  },
  {
   "cell_type": "markdown",
   "metadata": {},
   "source": [
    "# How to Print Exception Information: "
   ]
  },
  {
   "cell_type": "code",
   "execution_count": 20,
   "metadata": {},
   "outputs": [
    {
     "name": "stdout",
     "output_type": "stream",
     "text": [
      "The Type of Exception: <class 'ZeroDivisionError'>\n",
      "The Type of Exception: <class 'ZeroDivisionError'>\n",
      "The Exception Class Name: ZeroDivisionError\n",
      "The Description of Exception: division by zero\n"
     ]
    }
   ],
   "source": [
    "try:\n",
    "    print(10/0)\n",
    "except ZeroDivisionError as msg: # we can use anything inplace of msg, as msg is just a reference for Exception Error.\n",
    "    print(\"The Type of Exception:\",type(msg))\n",
    "    print(\"The Type of Exception:\",msg.__class__)\n",
    "    print(\"The Exception Class Name:\",msg.__class__.__name__) # to print the class name of the error\n",
    "    print(\"The Description of Exception:\",msg) #to print description of the error\n",
    "    "
   ]
  },
  {
   "cell_type": "code",
   "execution_count": 25,
   "metadata": {},
   "outputs": [
    {
     "name": "stdout",
     "output_type": "stream",
     "text": [
      "Enter First Number:10\n",
      "Enter Second Number:0\n",
      "The Type of Exception: <class 'ZeroDivisionError'>\n",
      "The Type of Exception: <class 'ZeroDivisionError'>\n",
      "The Exception Class Name: ZeroDivisionError\n",
      "The Description of Exception: division by zero\n"
     ]
    }
   ],
   "source": [
    "try:\n",
    "    x=int(input(\"Enter First Number:\"))\n",
    "    y=int(input(\"Enter Second Number:\"))\n",
    "    print(\"The result:\",x/y)\n",
    "except BaseException as e: # This BaseException can handle all its child exceptions\n",
    "    print(\"The Type of Exception:\",type(e))\n",
    "    print(\"The Type of Exception:\",e.__class__)\n",
    "    print(\"The Exception Class Name:\",e.__class__.__name__) # to print the class name of the error\n",
    "    print(\"The Description of Exception:\",e) #to print description of the error\n",
    "    "
   ]
  },
  {
   "cell_type": "code",
   "execution_count": 26,
   "metadata": {},
   "outputs": [
    {
     "name": "stdout",
     "output_type": "stream",
     "text": [
      "Enter First Number:10\n",
      "Enter Second Number:str\n",
      "The Type of Exception: <class 'ValueError'>\n",
      "The Type of Exception: <class 'ValueError'>\n",
      "The Exception Class Name: ValueError\n",
      "The Description of Exception: invalid literal for int() with base 10: 'str'\n"
     ]
    }
   ],
   "source": [
    "try:\n",
    "    x=int(input(\"Enter First Number:\"))\n",
    "    y=int(input(\"Enter Second Number:\"))\n",
    "    print(\"The result:\",x/y)\n",
    "except BaseException as e: # This BaseException can handle all its child exceptions\n",
    "    print(\"The Type of Exception:\",type(e))\n",
    "    print(\"The Type of Exception:\",e.__class__)\n",
    "    print(\"The Exception Class Name:\",e.__class__.__name__) # to print the class name of the error\n",
    "    print(\"The Description of Exception:\",e) #to print description of the error\n",
    "    "
   ]
  },
  {
   "cell_type": "markdown",
   "metadata": {},
   "source": [
    "### try with Multiple except Blocks:<br>\n",
    "The way of handling exception is varied from exception to exception. <br><br>\n",
    "Hence for every exception type a seperate except block we have to provide. i.e try with multiple except blocks is possible and recommended to use.<br>\n",
    "\n",
    "**Example:**<br><br>\n",
    "**try:**<br>\n",
    "&ensp;&ensp;-------<br>\n",
    "&ensp;&ensp;-------<br>\n",
    "&ensp;&ensp;-------<br>\n",
    "**except ZeroDivisionError:**<br>\n",
    "&ensp;&ensp;&ensp;&ensp;&ensp;&ensp;perform alternative arithmetic operations <br>\n",
    "**except FileNotFoundError:**<br>\n",
    "&ensp;&ensp;&ensp;&ensp;&ensp;&ensp;use local file instead of remote file<br><br>\n",
    "\n",
    "If try with multiple except blocks available then based on raised exception the corresponding except block will be executed."
   ]
  },
  {
   "cell_type": "code",
   "execution_count": 27,
   "metadata": {},
   "outputs": [
    {
     "name": "stdout",
     "output_type": "stream",
     "text": [
      "Enter First Number:10\n",
      "Enter Second Number:0\n",
      "Can't Divide with zero\n"
     ]
    }
   ],
   "source": [
    "try:\n",
    "    x=int(input(\"Enter First Number:\"))\n",
    "    y=int(input(\"Enter Second Number:\"))\n",
    "    print(x/y)\n",
    "except ZeroDivisionError:\n",
    "    print(\"Can't Divide with zero\")\n",
    "except ValueError:\n",
    "    print(\"please provide int value only\")"
   ]
  },
  {
   "cell_type": "code",
   "execution_count": 29,
   "metadata": {},
   "outputs": [
    {
     "name": "stdout",
     "output_type": "stream",
     "text": [
      "Enter First Number:10\n",
      "Enter Second Number:two\n",
      "please provide int value only\n"
     ]
    }
   ],
   "source": [
    "try:\n",
    "    x=int(input(\"Enter First Number:\"))\n",
    "    y=int(input(\"Enter Second Number:\"))\n",
    "    print(x/y)\n",
    "except ZeroDivisionError:\n",
    "    print(\"Can't Divide with zero\")\n",
    "except ValueError:\n",
    "    print(\"please provide int value only\")"
   ]
  },
  {
   "cell_type": "code",
   "execution_count": 30,
   "metadata": {},
   "outputs": [
    {
     "name": "stdout",
     "output_type": "stream",
     "text": [
      "Enter First Number:10\n",
      "Enter Second Number:5\n",
      "2.0\n"
     ]
    }
   ],
   "source": [
    "try:\n",
    "    x=int(input(\"Enter First Number:\"))\n",
    "    y=int(input(\"Enter Second Number:\"))\n",
    "    print(x/y)\n",
    "except ZeroDivisionError:\n",
    "    print(\"Can't Divide with zero\")\n",
    "except ValueError:\n",
    "    print(\"please provide int value only\")"
   ]
  },
  {
   "cell_type": "markdown",
   "metadata": {},
   "source": [
    "If try with multiple except blocks available then the order of these except blocks is important. Python interpreter will always consider from top to bottom until matched except block identified."
   ]
  },
  {
   "cell_type": "code",
   "execution_count": 31,
   "metadata": {},
   "outputs": [
    {
     "name": "stdout",
     "output_type": "stream",
     "text": [
      "ZeroDivisionError\n"
     ]
    }
   ],
   "source": [
    "try:\n",
    "    print(10/0)\n",
    "except ZeroDivisionError:\n",
    "    print(\"ZeroDivisionError\")\n",
    "except ArithmeticError:\n",
    "    print(\"ArithmeticError\")"
   ]
  },
  {
   "cell_type": "code",
   "execution_count": 32,
   "metadata": {},
   "outputs": [
    {
     "name": "stdout",
     "output_type": "stream",
     "text": [
      "ArithmeticError\n"
     ]
    }
   ],
   "source": [
    "try:\n",
    "    print(10/0)\n",
    "except ArithmeticError: # Hierarchy wise, ArithmeticError is the parent of ZeroDivisionError.\n",
    "    # ArthmeticError can handle all its child cases. so ArithmeticError will be raised since it is at top.\n",
    "    print(\"ArithmeticError\")\n",
    "except ZeroDivisionError:\n",
    "    print(\"ZeroDivisionError\")    "
   ]
  },
  {
   "cell_type": "markdown",
   "metadata": {},
   "source": [
    "## Single except Block that can handle Multiple Exceptions:\n",
    "If handling code is same for multiple exceptions, then instead of taking different except blocks, We can write a single except block that can handle multiple different types of exceptions.<br><br>\n",
    "**except (Exception1,Exception2,exception3,..):** OR <br>\n",
    "**except (Exception1,Exception2,exception3,..) as msg:**<br><br>\n",
    "Parentheses are mandatory and this group of exceptions internally considered as tuple."
   ]
  },
  {
   "cell_type": "code",
   "execution_count": 1,
   "metadata": {},
   "outputs": [
    {
     "name": "stdout",
     "output_type": "stream",
     "text": [
      "Enter First Number:10\n",
      "Enter Second Number:0\n",
      "Exception Name: ZeroDivisionError\n",
      "Please provide valid input only\n"
     ]
    }
   ],
   "source": [
    "try:\n",
    "    x=int(input(\"Enter First Number:\"))\n",
    "    y=int(input(\"Enter Second Number:\"))\n",
    "    print(\"The result:\",x/y)\n",
    "except (ZeroDivisionError,ValueError) as msg:\n",
    "    print(\"Exception Name:\",msg.__class__.__name__)\n",
    "    print(\"Please provide valid input only\")"
   ]
  },
  {
   "cell_type": "code",
   "execution_count": 2,
   "metadata": {},
   "outputs": [
    {
     "name": "stdout",
     "output_type": "stream",
     "text": [
      "Enter First Number:10\n",
      "Enter Second Number:two\n",
      "Exception Name: ValueError\n",
      "Please provide valid input only\n"
     ]
    }
   ],
   "source": [
    "try:\n",
    "    x=int(input(\"Enter First Number:\"))\n",
    "    y=int(input(\"Enter Second Number:\"))\n",
    "    print(\"The result:\",x/y)\n",
    "except (ZeroDivisionError,ValueError) as msg:\n",
    "    print(\"Exception Name:\",msg.__class__.__name__)\n",
    "    print(\"Please provide valid input only\")"
   ]
  },
  {
   "cell_type": "markdown",
   "metadata": {},
   "source": [
    "## Default Except Block and Various Except Block Syntaxes"
   ]
  },
  {
   "cell_type": "markdown",
   "metadata": {},
   "source": [
    "### Default Except Block:\n",
    "We can use default except block to handle any type of exceptions.<br>\n",
    "In default except block generally we can print normal error messages or Exception information to the console.<br><br>\n",
    "This restriction is applicable only for default except block but not for normal except blocks. i.e normal except blocks can be in any order.<br><br>\n",
    "**Syntax:**<br>\n",
    "except:<br>\n",
    "&emsp;&emsp;&nbsp;statements"
   ]
  },
  {
   "cell_type": "code",
   "execution_count": 3,
   "metadata": {},
   "outputs": [
    {
     "name": "stdout",
     "output_type": "stream",
     "text": [
      "Enter First Number:10\n",
      "Enter Second Number:0\n",
      "ZeroDivisionError: divide by zero\n"
     ]
    }
   ],
   "source": [
    "try:\n",
    "    x=int(input(\"Enter First Number:\"))\n",
    "    y=int(input(\"Enter Second Number:\"))\n",
    "    print(\"The result:\",x/y)\n",
    "except ZeroDivisionError:\n",
    "    print(\"ZeroDivisionError: divide by zero\")\n",
    "except: # Otherthan ZeoDivisionError if any other error occured, this defaault block will be executed\n",
    "    print(\"Default except block: provide int values\")"
   ]
  },
  {
   "cell_type": "code",
   "execution_count": 4,
   "metadata": {},
   "outputs": [
    {
     "name": "stdout",
     "output_type": "stream",
     "text": [
      "Enter First Number:10\n",
      "Enter Second Number:two\n",
      "Default except block: provide int values\n"
     ]
    }
   ],
   "source": [
    "try:\n",
    "    x=int(input(\"Enter First Number:\"))\n",
    "    y=int(input(\"Enter Second Number:\"))\n",
    "    print(\"The result:\",x/y)\n",
    "except ZeroDivisionError: # if ZeroDivisionError Occured, this except block will be executed.\n",
    "    print(\"ZeroDivisionError: divide by zero\")\n",
    "except: # Otherthan ZeoDivisionError if any other error occured, this defaault block will be executed\n",
    "    print(\"Default except block: provide int values\")"
   ]
  },
  {
   "cell_type": "code",
   "execution_count": 5,
   "metadata": {},
   "outputs": [
    {
     "name": "stdout",
     "output_type": "stream",
     "text": [
      "Enter First Number:10\n",
      "Enter Second Number:0\n",
      "Default except block: provide int values\n"
     ]
    }
   ],
   "source": [
    "try:\n",
    "    x=int(input(\"Enter First Number:\"))\n",
    "    y=int(input(\"Enter Second Number:\"))\n",
    "    print(\"The result:\",x/y)\n",
    "except: # Now it can handle, all errors including ZeroDivisionError\n",
    "    print(\"Default except block: provide int values\")"
   ]
  },
  {
   "cell_type": "markdown",
   "metadata": {},
   "source": [
    "**Note:** If try with multiple except blocks available then default except block should be last, otherwise we will get SyntaxError."
   ]
  },
  {
   "cell_type": "code",
   "execution_count": 6,
   "metadata": {},
   "outputs": [
    {
     "ename": "SyntaxError",
     "evalue": "default 'except:' must be last (<ipython-input-6-185a9e182097>, line 4)",
     "output_type": "error",
     "traceback": [
      "\u001b[1;36m  File \u001b[1;32m\"<ipython-input-6-185a9e182097>\"\u001b[1;36m, line \u001b[1;32m4\u001b[0m\n\u001b[1;33m    print(\"The result:\",x/y)\u001b[0m\n\u001b[1;37m    ^\u001b[0m\n\u001b[1;31mSyntaxError\u001b[0m\u001b[1;31m:\u001b[0m default 'except:' must be last\n"
     ]
    }
   ],
   "source": [
    "try:\n",
    "    x=int(input(\"Enter First Number:\"))\n",
    "    y=int(input(\"Enter Second Number:\"))\n",
    "    print(\"The result:\",x/y)\n",
    "except: # Default Except block must be at last, if taken at top, it will raise error like below.\n",
    "    print(\"Default except block: provide int values\")\n",
    "except ZeroDivisionError:\n",
    "    print(\"ZeroDivisionError: divide by zero\")\n"
   ]
  },
  {
   "cell_type": "markdown",
   "metadata": {},
   "source": [
    "### Various possible combinations of except blocks"
   ]
  },
  {
   "cell_type": "markdown",
   "metadata": {},
   "source": [
    "**Note:**<br>\n",
    "The following are various possible combinations of except blocks<br><br>\n",
    "**1) except ZeroDivisionError:**<br>\n",
    "**2) except (ZeroDivisionError):**<br>\n",
    "**3) except ZeroDivisionError as msg:**<br>\n",
    "**4) except (ZeroDivisionError) as msg:**<br>\n",
    "**5) except (ZeroDivisionError,ValueError):**<br>\n",
    "**6) except (ZeroDivisionError,ValueError) as msg:**<br>\n",
    "**7) except:**<br><br>\n",
    "\n",
    "Invalid Combinations:<br><br>\n",
    "**1) except (ZeroDivisionError as msg)**<br>\n",
    "**2) except ZeroDivisionError,ValueError:**<br>\n",
    "**3) except (ZeroDivisionError,ValueError as msg):**"
   ]
  },
  {
   "cell_type": "markdown",
   "metadata": {},
   "source": [
    "## finally Block:\n",
    "☕ It is not recommended to maintain clean up code(Resource Deallocating Code or Resource Releasing code) inside try block because there is no guarentee for the execution of every statement inside try block always.<br><br>\n",
    "☕ It is not recommended to maintain clean up code inside except block, because if there is no exception then except block won't be executed. <br><br>\n",
    "☕ Hence we required some place to maintain clean up code which should be executed always irrespective of whether exception raised or not raised and whether exception handled or not handled. Such type of best place is nothing but finally block.<br><br>\n",
    "☕ Hence the main purpose of finally block is to maintain clean up code.<br><br>\n",
    "\n",
    "**try:** <br>\n",
    "&ensp;&ensp;&ensp;**Risky Code**<br> \n",
    "**except:**<br>\n",
    "&ensp;&ensp;&ensp;**Handling Code**<br> \n",
    "**finally:**<br>\n",
    "&ensp;&ensp;&ensp;**Cleanup code**<br><br>\n",
    "\n",
    "The speciality of finally block is it will be executed always whether exception raised or not raised and whether exception handled or not handled."
   ]
  },
  {
   "cell_type": "markdown",
   "metadata": {},
   "source": [
    "**Case-1: If there is no exception**"
   ]
  },
  {
   "cell_type": "code",
   "execution_count": 7,
   "metadata": {},
   "outputs": [
    {
     "name": "stdout",
     "output_type": "stream",
     "text": [
      "try\n",
      "finally\n"
     ]
    }
   ],
   "source": [
    "try:\n",
    "    print(\"try\")\n",
    "except:\n",
    "    print(\"except\")\n",
    "finally:\n",
    "    print(\"finally\")"
   ]
  },
  {
   "cell_type": "markdown",
   "metadata": {},
   "source": [
    "**Case-2: If there is an exception raised but handled**"
   ]
  },
  {
   "cell_type": "code",
   "execution_count": 8,
   "metadata": {},
   "outputs": [
    {
     "name": "stdout",
     "output_type": "stream",
     "text": [
      "try\n",
      "except\n",
      "finally\n"
     ]
    }
   ],
   "source": [
    "try:\n",
    "    print(\"try\")\n",
    "    print(10/0)\n",
    "except ZeroDivisionError:\n",
    "    print(\"except\")\n",
    "finally:\n",
    "    print(\"finally\")"
   ]
  },
  {
   "cell_type": "markdown",
   "metadata": {},
   "source": [
    "**Case-3: If there is an exception raised but not handled**"
   ]
  },
  {
   "cell_type": "code",
   "execution_count": 9,
   "metadata": {},
   "outputs": [
    {
     "name": "stdout",
     "output_type": "stream",
     "text": [
      "try\n",
      "finally\n"
     ]
    },
    {
     "ename": "ZeroDivisionError",
     "evalue": "division by zero",
     "output_type": "error",
     "traceback": [
      "\u001b[1;31m---------------------------------------------------------------------------\u001b[0m",
      "\u001b[1;31mZeroDivisionError\u001b[0m                         Traceback (most recent call last)",
      "\u001b[1;32m<ipython-input-9-0010f7c00949>\u001b[0m in \u001b[0;36m<module>\u001b[1;34m\u001b[0m\n\u001b[0;32m      1\u001b[0m \u001b[1;32mtry\u001b[0m\u001b[1;33m:\u001b[0m\u001b[1;33m\u001b[0m\u001b[1;33m\u001b[0m\u001b[0m\n\u001b[0;32m      2\u001b[0m     \u001b[0mprint\u001b[0m\u001b[1;33m(\u001b[0m\u001b[1;34m\"try\"\u001b[0m\u001b[1;33m)\u001b[0m\u001b[1;33m\u001b[0m\u001b[1;33m\u001b[0m\u001b[0m\n\u001b[1;32m----> 3\u001b[1;33m     \u001b[0mprint\u001b[0m\u001b[1;33m(\u001b[0m\u001b[1;36m10\u001b[0m\u001b[1;33m/\u001b[0m\u001b[1;36m0\u001b[0m\u001b[1;33m)\u001b[0m\u001b[1;33m\u001b[0m\u001b[1;33m\u001b[0m\u001b[0m\n\u001b[0m\u001b[0;32m      4\u001b[0m \u001b[1;32mexcept\u001b[0m \u001b[0mNameError\u001b[0m\u001b[1;33m:\u001b[0m\u001b[1;33m\u001b[0m\u001b[1;33m\u001b[0m\u001b[0m\n\u001b[0;32m      5\u001b[0m     \u001b[0mprint\u001b[0m\u001b[1;33m(\u001b[0m\u001b[1;34m\"except\"\u001b[0m\u001b[1;33m)\u001b[0m\u001b[1;33m\u001b[0m\u001b[1;33m\u001b[0m\u001b[0m\n",
      "\u001b[1;31mZeroDivisionError\u001b[0m: division by zero"
     ]
    }
   ],
   "source": [
    "try:\n",
    "    print(\"try\")\n",
    "    print(10/0)\n",
    "except NameError:\n",
    "    print(\"except\")\n",
    "finally:\n",
    "    print(\"finally\")"
   ]
  },
  {
   "cell_type": "markdown",
   "metadata": {},
   "source": [
    "**Note:** There is only one situation where finally block won't be executed i.e. whenever we are using os.\\_exit(0) function.<br><br>\n",
    "Whenever we are using os.\\_exit(0) function then Python Virtual Machine itself will be shutdown.In this particular case finally won't be executed."
   ]
  },
  {
   "cell_type": "code",
   "execution_count": null,
   "metadata": {},
   "outputs": [],
   "source": [
    "import os\n",
    "try:\n",
    "    print('try')\n",
    "    #os._exit(0) # 0 represents status code. 0 means Normal Termination. Non-Zero means Abnormal Termination.\n",
    "except ValueError:\n",
    "    print('except')\n",
    "finally:\n",
    "        print(\"finally\")"
   ]
  },
  {
   "cell_type": "markdown",
   "metadata": {},
   "source": [
    "#### Difference between finally block and destructor\n",
    "\n",
    "finally block meant for cleanup activities related to try block i.e. whatever resources we opened as the part of try block will be closed inside finally block.<br><br>\n",
    "\n",
    "Destructor meant for cleanup activities relate to object. Whatever resources associated with the object should be deallocated inside destructor, which will be executed before destroying object.\n"
   ]
  },
  {
   "cell_type": "markdown",
   "metadata": {},
   "source": [
    "## Control Flow in try-except-finally\n",
    "\n",
    "**try:**<br>\n",
    "&ensp;&ensp;&ensp;statement-1<br>\n",
    "&ensp;&ensp;&ensp;statement-2<br>\n",
    "&ensp;&ensp;&ensp;statement-3<br>\n",
    "**except:**<br>\n",
    "&ensp;&ensp;&ensp;statement-4<br>\n",
    "**finally:**<br>\n",
    "&ensp;&ensp;&ensp;statement-5<br>\n",
    "statement-6"
   ]
  },
  {
   "cell_type": "markdown",
   "metadata": {},
   "source": [
    "**Case-1:** If there is no exception. Control Flow of execution will be 1,2,3,5,6 Normal Termination<br><br>\n",
    "**Case-2:** If an exception raised at statement-2 and the corresponding except block matched. Control Flow of execution will be 1,4,5,6 Normal Termination<br><br>\n",
    "**Case-3:** If an exception raised at statement-2 but the corresponding except block not matched. Control Flow of execution will be 1,5 Abnormal Termination<br><br>\n",
    "**Case-4:** If an exception raised at statement-4 then it is always abnormal termination but before that finally block will be executed.<br><br>\n",
    "**Case-5:** If an exception raised at statement-5 or at statement-6 then it is always abnormal termination"
   ]
  },
  {
   "cell_type": "markdown",
   "metadata": {},
   "source": [
    "## Nested try-except-finally Blocks: \n",
    "We can take try-except-finally blocks inside try or except or finally blocks. i.e nesting of try-except-finally is possible.<br><br>\n",
    "**try:**<br>\n",
    "&ensp;&ensp;&ensp;&ensp;&ensp;&ensp;--------<br>\n",
    "&ensp;&ensp;&ensp;&ensp;&ensp;&ensp;--------<br>\n",
    "&ensp;&ensp;&ensp;&ensp;&ensp;&ensp;--------<br>\n",
    "&ensp;&ensp;&ensp;**try:**<br>\n",
    "&ensp;&ensp;&ensp;&ensp;&ensp;&ensp;&ensp;&ensp;&ensp;--------<br>\n",
    "&ensp;&ensp;&ensp;&ensp;&ensp;&ensp;&ensp;&ensp;&ensp;--------<br>\n",
    "&ensp;&ensp;&ensp;&ensp;&ensp;&ensp;&ensp;&ensp;&ensp;--------<br>\n",
    "&ensp;&ensp;&ensp;**except:**<br>\n",
    "&ensp;&ensp;&ensp;&ensp;&ensp;&ensp;&ensp;&ensp;&ensp;--------<br>\n",
    "&ensp;&ensp;&ensp;&ensp;&ensp;&ensp;&ensp;&ensp;&ensp;--------<br>\n",
    "&ensp;&ensp;&ensp;&ensp;&ensp;&ensp;&ensp;&ensp;&ensp;--------<br>\n",
    "**except:**<br>\n",
    "&ensp;&ensp;&ensp;&ensp;&ensp;&ensp;--------<br>\n",
    "&ensp;&ensp;&ensp;&ensp;&ensp;&ensp;--------<br>\n",
    "&ensp;&ensp;&ensp;&ensp;&ensp;&ensp;--------<br><br><br>\n",
    "\n",
    "General Risky code we have to take inside outer try block and too much risky code we have to take inside inner try block.<br>\n",
    "<br>Inside Inner try block if an exception raised then inner except block is responsible to handle. If it is unable to handle then outer except block is responsible to handle."
   ]
  },
  {
   "cell_type": "code",
   "execution_count": 2,
   "metadata": {},
   "outputs": [
    {
     "name": "stdout",
     "output_type": "stream",
     "text": [
      "Outer try block\n",
      "Inner try block\n",
      "Inner finally block\n",
      "outer finally block\n"
     ]
    }
   ],
   "source": [
    "try:\n",
    "    print(\"Outer try block\")\n",
    "    \n",
    "    try:\n",
    "        print(\"Inner try block\")\n",
    "    except ZeroDivisionError:\n",
    "        print(\"Inner except block\")\n",
    "    finally:\n",
    "        print(\"Inner finally block\")\n",
    "except:\n",
    "    print(\"outer except block\")\n",
    "finally:\n",
    "    print(\"outer finally block\")\n",
    "# SInce there are no errors raised, except blocks won't execute."
   ]
  },
  {
   "cell_type": "code",
   "execution_count": 3,
   "metadata": {},
   "outputs": [
    {
     "name": "stdout",
     "output_type": "stream",
     "text": [
      "Outer try block\n",
      "Inner try block\n",
      "Inner except block\n",
      "Inner finally block\n",
      "outer finally block\n"
     ]
    }
   ],
   "source": [
    "try:\n",
    "    print(\"Outer try block\") # will be executed\n",
    "    \n",
    "    try:\n",
    "        print(\"Inner try block\") # will be executed\n",
    "        print(10/0) # This will raise ZeroDivisionError\n",
    "    except ZeroDivisionError: \n",
    "        print(\"Inner except block\") # This will execute, since exception code available for ZeroDivisionError\n",
    "    finally:\n",
    "        print(\"Inner finally block\") # This will execute\n",
    "except:\n",
    "    print(\"outer except block\") # No error raised, so won't be executed\n",
    "finally:\n",
    "    print(\"outer finally block\") # This will be executed.\n",
    "\n",
    "# Above code is with the exception raised inside Inner try block and exception available    "
   ]
  },
  {
   "cell_type": "code",
   "execution_count": 4,
   "metadata": {},
   "outputs": [
    {
     "name": "stdout",
     "output_type": "stream",
     "text": [
      "Outer try block\n",
      "Inner try block\n",
      "Inner finally block\n",
      "outer except block\n",
      "outer finally block\n"
     ]
    }
   ],
   "source": [
    "try:\n",
    "    print(\"Outer try block\") # will be executed\n",
    "    \n",
    "    try:\n",
    "        print(\"Inner try block\") # will be executed\n",
    "        print(10/0) # This will raise ZeroDivisionError\n",
    "    except ValueError: \n",
    "        print(\"Inner except block\") # This will not execute, since exception code is for ValueError\n",
    "    finally:\n",
    "        print(\"Inner finally block\") # This will execute\n",
    "except:\n",
    "    print(\"outer except block\") # Since inner except block unable to handle the error, it will come to outer except block\n",
    "finally:\n",
    "    print(\"outer finally block\") # This will be executed.\n",
    "\n",
    "# Above code is with the exception raised inside Inner try block and exception not available in inner except block.    "
   ]
  },
  {
   "cell_type": "code",
   "execution_count": 6,
   "metadata": {},
   "outputs": [
    {
     "name": "stdout",
     "output_type": "stream",
     "text": [
      "Outer try block\n",
      "Outer except block\n",
      "Outer finally block\n"
     ]
    }
   ],
   "source": [
    "try:\n",
    "    print(\"Outer try block\") # will be executed\n",
    "    print(10/0) # This will raise ZeroDivisionError\n",
    "    try:\n",
    "        print(\"Inner try block\") # will not be executed\n",
    "        \n",
    "    except ValueError: \n",
    "        print(\"Inner except block\") # This will not execute, since exception code is for ValueError\n",
    "    finally:\n",
    "        print(\"Inner finally block\") # This will not execute\n",
    "except:\n",
    "    print(\"Outer except block\") # Since inner except block unable to handle the error, it will come to outer except block\n",
    "finally:\n",
    "    print(\"Outer finally block\") # This will be executed.\n",
    "\n",
    "# Above code is with the exception raised inside outer try block, inner try block will not be executed since problem is in outer try block so it will directly navigate to outer except and finally bloacks\n"
   ]
  },
  {
   "cell_type": "markdown",
   "metadata": {},
   "source": [
    "If the control not entered in the try block, then corresponding finally block won't be executed.<br><br>\n",
    "\n",
    "Once contol entered in the try block, compulsary the corresponding finally bloack will be executed."
   ]
  },
  {
   "cell_type": "markdown",
   "metadata": {},
   "source": [
    "### Control Flow in nested try-except-finally\n",
    "\n",
    "e can take try-except-finally blocks inside try or except or finally blocks. i.e nesting of try-except-finally is possible.<br><br>\n",
    "**try:**<br>\n",
    "&ensp;&ensp;&ensp;&ensp;&ensp;&ensp;Statement-1<br>\n",
    "&ensp;&ensp;&ensp;&ensp;&ensp;&ensp;Statement-2<br>\n",
    "&ensp;&ensp;&ensp;&ensp;&ensp;&ensp;Statement-3<br>\n",
    "&ensp;&ensp;&ensp;**try:**<br>\n",
    "&ensp;&ensp;&ensp;&ensp;&ensp;&ensp;&ensp;&ensp;&ensp;Statement-4<br>\n",
    "&ensp;&ensp;&ensp;&ensp;&ensp;&ensp;&ensp;&ensp;&ensp;Statement-5<br>\n",
    "&ensp;&ensp;&ensp;&ensp;&ensp;&ensp;&ensp;&ensp;&ensp;Statement-6<br>\n",
    "&ensp;&ensp;&ensp;**except XXX:**<br>\n",
    "&ensp;&ensp;&ensp;&ensp;&ensp;&ensp;&ensp;&ensp;&ensp;Statement-7<br>\n",
    "&ensp;&ensp;&ensp;**finally:**<br>\n",
    "&ensp;&ensp;&ensp;&ensp;&ensp;&ensp;&ensp;&ensp;&ensp;Statement-8<br>\n",
    "&ensp;&ensp;&ensp;Statement-9<br>\n",
    "**except YYY:**<br>\n",
    "&ensp;&ensp;&ensp;&ensp;&ensp;&ensp;Statement-10<br>\n",
    "**finally:**<br>\n",
    "&ensp;&ensp;&ensp;&ensp;&ensp;&ensp;Statement-11<br>\n",
    "Statement-12<br>\n"
   ]
  },
  {
   "cell_type": "markdown",
   "metadata": {},
   "source": [
    "**Case-1:** If there is no exception then control flow of execution will be 1,2,3,4,5,6,8,9,11,12 Normal Termination<br><br>\n",
    "**Case-2:** If an exception raised at Statement-2 and the corresponding except block matched then control flow of execution will be 1,10,11,12 Normal Termination<br><br>\n",
    "**Case-3:** If an exceptiion raised at Statement-2 and the corresponding except block not matched then control flow of execution will be 1,11,Abnormal Termination<br><br>\n",
    "**Case-4:** If an exception raised at Statement-5 and inner except block matched then control flow of execution will be 1,2,3,4,7,8,9,11,12 Normal Termination<br><br>\n",
    "**Case-5:** If an exception raised at Statement-5 and inner except block not matched but outer except block matched then control flow of execution will be 1,2,3,4,8,10,11,12,Normal Termination<br><br>\n",
    "**Case-6:** If an exception raised at Statement-5 and both inner and outer except blocks are not matched then control flow of execution will be 1,2,3,4,8,11,Abnormal Termination<br><br>\n",
    "**Case-7:** If an exception raised at Statement-7 and corresponding except block matched then control flow of execution will be 1,2,3,.,.,.,8,10,11,12,Normal Termination<br><br>\n",
    "**Case-8:** If an exception raised at Statement-7 and corresponding except block not matched then control flow of execution will be 1,2,3,.,.,.,8,11,Abnormal Termination<br><br>\n",
    "**Case-9:** If an exception raised at Statement-8 and corresponding except block matched then control flow of execution will be 1,2,3,.,.,.,.,10,11,12 Normal Termination<br><br>\n",
    "**Case-10:** If an exception raised at Statement-8 and corresponding except block not matched then control flow of execution will be 1,2,3,.,.,.,.,11,Abnormal Termination<br><br>\n",
    "**Case-11:** If an exception raised at Statement-9 and corresponding except block matched then control flow of execution will be 1,2,3,.,.,.,.,8,10,11,12,Normal Termination<br><br>\n",
    "**Case-12:** If an exception raised at Statement-9 and corresponding except block not matched then control flow of execution will be 1,2,3,.,.,.,.,8,11,Abnormal Termination<br><br>\n",
    "**Case-13:** If an exception raised at Statement-10 then it is always abonormal termination but before abnormal termination finally block(Statement-11) will be executed.<br><br>\n",
    "**Case-14:** If an exception raised at Statement-11 or Statement-12 then it is always abnormal termination.<br><br>\n",
    "**Note:** If the control entered into try block then compulsary finally block will be executed. If the control not entered into try block then finally block won't be executed."
   ]
  },
  {
   "cell_type": "markdown",
   "metadata": {},
   "source": [
    "# else block with try except-finally\n",
    "\n",
    "We can use else block with try-except-finally blocks. else block will be executed if and only if there are no exceptions inside try block.<br><br>\n",
    "\n",
    "**try:**<br>\n",
    "&ensp;&ensp;&ensp;&ensp;Risky Code <br>\n",
    "**except:**<br>\n",
    "&ensp;&ensp;&ensp;&ensp;Handling Code<br>\n",
    "&ensp;&ensp;&ensp;&ensp;will be executed if exception inside try block<br>\n",
    "**else:**<br>\n",
    "&ensp;&ensp;&ensp;&ensp;will be executed if there is no exception inside try block<br>\n",
    "**finally:**<br>\n",
    "&ensp;&ensp;&ensp;&ensp;Cleanup Code<br>\n",
    "&ensp;&ensp;&ensp;&ensp;will be executed whether exception raised or not raised and handled or not handled"
   ]
  },
  {
   "cell_type": "code",
   "execution_count": 1,
   "metadata": {},
   "outputs": [
    {
     "name": "stdout",
     "output_type": "stream",
     "text": [
      "try\n",
      "else\n",
      "Finally\n"
     ]
    }
   ],
   "source": [
    "# Example\n",
    "try:\n",
    "    print('try') # This will execute\n",
    "except:\n",
    "    print(\"Except\") # This will not execute, since there is no exception\n",
    "else:\n",
    "    print(\"else\")# this will be executed since there is no exception raised in try block\n",
    "finally:\n",
    "    print(\"Finally\") # This will execute\n",
    "    \n",
    "# Since there is no exception except block will not execute and else block will be executed.    "
   ]
  },
  {
   "cell_type": "code",
   "execution_count": 2,
   "metadata": {},
   "outputs": [
    {
     "name": "stdout",
     "output_type": "stream",
     "text": [
      "try\n",
      "Except\n",
      "Finally\n"
     ]
    }
   ],
   "source": [
    "try:\n",
    "    print('try') # This will execute\n",
    "    print(10/0) # Exception will be raised\n",
    "except:\n",
    "    print(\"Except\") # This will execute, since there is exception\n",
    "else:\n",
    "    print(\"else\")# this will be not executed since there exception raised in try block\n",
    "finally:\n",
    "    print(\"Finally\") # This will execute"
   ]
  },
  {
   "cell_type": "code",
   "execution_count": 3,
   "metadata": {},
   "outputs": [
    {
     "ename": "SyntaxError",
     "evalue": "invalid syntax (<ipython-input-3-59e52b315775>, line 3)",
     "output_type": "error",
     "traceback": [
      "\u001b[1;36m  File \u001b[1;32m\"<ipython-input-3-59e52b315775>\"\u001b[1;36m, line \u001b[1;32m3\u001b[0m\n\u001b[1;33m    else:\u001b[0m\n\u001b[1;37m    ^\u001b[0m\n\u001b[1;31mSyntaxError\u001b[0m\u001b[1;31m:\u001b[0m invalid syntax\n"
     ]
    }
   ],
   "source": [
    "try:\n",
    "    print(\"try\")\n",
    "else:\n",
    "    print(\"else\")\n",
    "finally:\n",
    "    print(\"Finally\")"
   ]
  },
  {
   "cell_type": "markdown",
   "metadata": {},
   "source": [
    "**Note:**<br>\n",
    "\n",
    "- There is no chance of executing both except and else simulatneously.<br>\n",
    "- If we want ot take else block, compulsary except block should be there. i.e else without except block is always invalid as shown above.\n"
   ]
  },
  {
   "cell_type": "code",
   "execution_count": 4,
   "metadata": {},
   "outputs": [
    {
     "name": "stdout",
     "output_type": "stream",
     "text": [
      "File opened Successfully\n",
      "The data present in the file is:\n",
      "##############################\n",
      "Hello This is the Text from abc.txt File\n"
     ]
    }
   ],
   "source": [
    "# Example for when the else block will be executed in try except else finally.\n",
    "f=None\n",
    "try:\n",
    "    f=open('Supportive_Files/abc.txt','r')\n",
    "except:\n",
    "    print(\"Some Problem while locating and opening the file\")\n",
    "else:\n",
    "    print(\"File opened Successfully\")\n",
    "    print(\"The data present in the file is:\")\n",
    "    print(\"#\"*30)\n",
    "    print(f.read())\n",
    "finally:\n",
    "    if f is not None:\n",
    "        f.close()"
   ]
  },
  {
   "cell_type": "code",
   "execution_count": 5,
   "metadata": {},
   "outputs": [
    {
     "name": "stdout",
     "output_type": "stream",
     "text": [
      "Some Problem while locating and opening the file\n"
     ]
    }
   ],
   "source": [
    "f=None\n",
    "try:\n",
    "    f=open('Supportive_Files/abcd.txt','r')\n",
    "except:\n",
    "    print(\"Some Problem while locating and opening the file\")\n",
    "else:\n",
    "    print(\"File opened Successfully\")\n",
    "    print(\"The data present in the file is:\")\n",
    "    print(\"#\"*30)\n",
    "    print(f.read())\n",
    "finally:\n",
    "    if f is not None:\n",
    "        f.close()"
   ]
  },
  {
   "cell_type": "markdown",
   "metadata": {},
   "source": [
    "# Various possible Combinations of try-except-else-finally: \n",
    "1) Whenever we are writing try block, compulsory we should write except or finally block.**i.e.** without except or finally block we cannot write try block.<br><br>\n",
    "2) Wheneever we are writing except block, compulsory we should write try block. **i.e.** except without try is always invalid. <br><br>\n",
    "3) Whenever we are writing finally block, compulsory we should write try block. **i.e.** finally without try is always invalid.<br><br>\n",
    "4) We can write multiple except blocks for the same try,but we cannot write multiple finally blocks for the same try<br><br>\n",
    "5) Whenever we are writing else block compulsory except block should be there. **i.e.** without except we cannot write else block.<br><br> 6) In try-except-else-finally order is important. <br><br>\n",
    "7) We can define try-except-else-finally inside try, except, else and finally blocks. **i.e.** nesting of try-except-else-finally is always possible.<br><br>\n",
    "\n",
    "<img src=\"Supportive_Files/tryelse1.png\">\n",
    "<img src=\"Supportive_Files/tryelse2.png\">\n",
    "<img src=\"Supportive_Files/tryelse3.png\">\n",
    "<img src=\"Supportive_Files/tryelse4.png\">\n",
    "<img src=\"Supportive_Files/tryelse5.png\">"
   ]
  },
  {
   "cell_type": "markdown",
   "metadata": {},
   "source": [
    "# Types of Exceptions: \n",
    "In Python there are 2 types of exceptions are possible. <br>\n",
    "1) Predefined Exceptions<br>\n",
    "2) User Definded Exceptions<br><br>\n",
    "\n",
    "### 1) Predefined Exceptions: \n",
    "- Also known as inbuilt exceptions.<br>\n",
    "- The exceptions which are raised automatically by Python virtual machine whenver a particular event occurs are called pre defined exceptions.<br><br>\n",
    "\n",
    "**Eg 1:** Whenever we are trying to perform Division by zero, automatically Python will raise ZeroDivisionError. <br>\n",
    "**print(10/0)**<br><br>\n",
    "\n",
    "**Eg 2:** Whenever we are trying to convert input value to int type and if input value is not int value then Python will raise ValueError automatically<br> **x=int(\"ten\") ==> ValueError**<br><br>\n",
    "\n",
    "### 2) User Defined Exceptions:<br>\n",
    "- Also known as Customized Exceptions or Programatic Exceptions <br><br>\n",
    "- Some time we have to define and raise exceptions explicitly to indicate that something goes wrong, such type of exceptions are called User Defined Exceptions or Customized Exceptions<br><br>\n",
    "- Programmer is responsible to define these exceptions and Python not having any idea about these. Hence we have to raise explicitly based on our requirement by using \"raise\" keyword.<br><br>\n",
    "**Eg:**<br>\n",
    "- InSufficientFundsException<br>\n",
    "- InvalidInputException<br>\n",
    "- TooYoungException<br>\n",
    "- TooOldException<br><br>"
   ]
  },
  {
   "cell_type": "markdown",
   "metadata": {},
   "source": [
    "# How to Define and Raise Customized Exceptions:\n",
    "Every exception in Python is a class that extends Exception class either directly or indirectly.<br><br>\n",
    "**Syntax:**<br><br>\n",
    "**class classname(predefined exception class name):**<br> \n",
    "&ensp;&ensp;&ensp;&ensp;**def \\_\\_init\\_\\_(self,arg):**<br>\n",
    "&ensp;&ensp;&ensp;&ensp;&ensp;&ensp;&ensp;&ensp;**self.msg=arg**<br><br>\n"
   ]
  },
  {
   "cell_type": "code",
   "execution_count": 6,
   "metadata": {},
   "outputs": [],
   "source": [
    "class TooYoungException(Exception):\n",
    "    def __init__(self,msg):\n",
    "        self.msg = msg"
   ]
  },
  {
   "cell_type": "markdown",
   "metadata": {},
   "source": [
    "TooYoungException is our class name which is the child class of Exception<br><br>\n",
    "We can raise exception by using raise keyword as follows<br> \n",
    "**raise TooYoungException(\"message\")**"
   ]
  },
  {
   "cell_type": "code",
   "execution_count": 10,
   "metadata": {},
   "outputs": [
    {
     "name": "stdout",
     "output_type": "stream",
     "text": [
      "Enter Age:10\n"
     ]
    },
    {
     "ename": "TooYoungException",
     "evalue": "Please wait some more time, definitely you will get last match",
     "output_type": "error",
     "traceback": [
      "\u001b[1;31m---------------------------------------------------------------------------\u001b[0m",
      "\u001b[1;31mTooYoungException\u001b[0m                         Traceback (most recent call last)",
      "\u001b[1;32m<ipython-input-10-2f9058c698c5>\u001b[0m in \u001b[0;36m<module>\u001b[1;34m\u001b[0m\n\u001b[0;32m      9\u001b[0m \u001b[0mage\u001b[0m\u001b[1;33m=\u001b[0m\u001b[0mint\u001b[0m\u001b[1;33m(\u001b[0m\u001b[0minput\u001b[0m\u001b[1;33m(\u001b[0m\u001b[1;34m\"Enter Age:\"\u001b[0m\u001b[1;33m)\u001b[0m\u001b[1;33m)\u001b[0m\u001b[1;33m\u001b[0m\u001b[1;33m\u001b[0m\u001b[0m\n\u001b[0;32m     10\u001b[0m \u001b[1;32mif\u001b[0m \u001b[0mage\u001b[0m\u001b[1;33m<\u001b[0m\u001b[1;36m18\u001b[0m\u001b[1;33m:\u001b[0m\u001b[1;33m\u001b[0m\u001b[1;33m\u001b[0m\u001b[0m\n\u001b[1;32m---> 11\u001b[1;33m     \u001b[1;32mraise\u001b[0m \u001b[0mTooYoungException\u001b[0m\u001b[1;33m(\u001b[0m\u001b[1;34m\"Please wait some more time, definitely you will get last match\"\u001b[0m\u001b[1;33m)\u001b[0m\u001b[1;33m\u001b[0m\u001b[1;33m\u001b[0m\u001b[0m\n\u001b[0m\u001b[0;32m     12\u001b[0m \u001b[1;32melif\u001b[0m \u001b[0mage\u001b[0m\u001b[1;33m>\u001b[0m\u001b[1;36m60\u001b[0m\u001b[1;33m:\u001b[0m\u001b[1;33m\u001b[0m\u001b[1;33m\u001b[0m\u001b[0m\n\u001b[0;32m     13\u001b[0m     \u001b[1;32mraise\u001b[0m \u001b[0mTooOldException\u001b[0m\u001b[1;33m(\u001b[0m\u001b[1;34m\"Your age already crossed Marrriage Age, no chance of getting marriage\"\u001b[0m\u001b[1;33m)\u001b[0m\u001b[1;33m\u001b[0m\u001b[1;33m\u001b[0m\u001b[0m\n",
      "\u001b[1;31mTooYoungException\u001b[0m: Please wait some more time, definitely you will get last match"
     ]
    }
   ],
   "source": [
    "class TooYoungException(Exception):\n",
    "    def __init__(self,msg):\n",
    "        self.msg = msg\n",
    "        \n",
    "class TooOldException(Exception):\n",
    "    def __init__(self,msg):\n",
    "        self.msg = msg\n",
    "        \n",
    "age=int(input(\"Enter Age:\"))\n",
    "if age<18:\n",
    "    raise TooYoungException(\"Please wait some more time, definitely you will get last match\")\n",
    "elif age>60:\n",
    "    raise TooOldException(\"Your age already crossed Marrriage Age, no chance of getting marriage\")\n",
    "else:\n",
    "    print(\"you will get match details soon by mail\")"
   ]
  },
  {
   "cell_type": "code",
   "execution_count": 11,
   "metadata": {},
   "outputs": [
    {
     "name": "stdout",
     "output_type": "stream",
     "text": [
      "Enter Age:65\n"
     ]
    },
    {
     "ename": "TooOldException",
     "evalue": "Your age already crossed Marrriage Age, no chance of getting marriage",
     "output_type": "error",
     "traceback": [
      "\u001b[1;31m---------------------------------------------------------------------------\u001b[0m",
      "\u001b[1;31mTooOldException\u001b[0m                           Traceback (most recent call last)",
      "\u001b[1;32m<ipython-input-11-2f9058c698c5>\u001b[0m in \u001b[0;36m<module>\u001b[1;34m\u001b[0m\n\u001b[0;32m     11\u001b[0m     \u001b[1;32mraise\u001b[0m \u001b[0mTooYoungException\u001b[0m\u001b[1;33m(\u001b[0m\u001b[1;34m\"Please wait some more time, definitely you will get last match\"\u001b[0m\u001b[1;33m)\u001b[0m\u001b[1;33m\u001b[0m\u001b[1;33m\u001b[0m\u001b[0m\n\u001b[0;32m     12\u001b[0m \u001b[1;32melif\u001b[0m \u001b[0mage\u001b[0m\u001b[1;33m>\u001b[0m\u001b[1;36m60\u001b[0m\u001b[1;33m:\u001b[0m\u001b[1;33m\u001b[0m\u001b[1;33m\u001b[0m\u001b[0m\n\u001b[1;32m---> 13\u001b[1;33m     \u001b[1;32mraise\u001b[0m \u001b[0mTooOldException\u001b[0m\u001b[1;33m(\u001b[0m\u001b[1;34m\"Your age already crossed Marrriage Age, no chance of getting marriage\"\u001b[0m\u001b[1;33m)\u001b[0m\u001b[1;33m\u001b[0m\u001b[1;33m\u001b[0m\u001b[0m\n\u001b[0m\u001b[0;32m     14\u001b[0m \u001b[1;32melse\u001b[0m\u001b[1;33m:\u001b[0m\u001b[1;33m\u001b[0m\u001b[1;33m\u001b[0m\u001b[0m\n\u001b[0;32m     15\u001b[0m     \u001b[0mprint\u001b[0m\u001b[1;33m(\u001b[0m\u001b[1;34m\"you will get match details soon by mail\"\u001b[0m\u001b[1;33m)\u001b[0m\u001b[1;33m\u001b[0m\u001b[1;33m\u001b[0m\u001b[0m\n",
      "\u001b[1;31mTooOldException\u001b[0m: Your age already crossed Marrriage Age, no chance of getting marriage"
     ]
    }
   ],
   "source": [
    "class TooYoungException(Exception):\n",
    "    def __init__(self,msg):\n",
    "        self.msg = msg\n",
    "        \n",
    "class TooOldException(Exception):\n",
    "    def __init__(self,msg):\n",
    "        self.msg = msg\n",
    "        \n",
    "age=int(input(\"Enter Age:\"))\n",
    "if age<18:\n",
    "    raise TooYoungException(\"Please wait some more time, definitely you will get last match\")\n",
    "elif age>60:\n",
    "    raise TooOldException(\"Your age already crossed Marrriage Age, no chance of getting marriage\")\n",
    "else:\n",
    "    print(\"you will get match details soon by mail\")"
   ]
  },
  {
   "cell_type": "code",
   "execution_count": 12,
   "metadata": {},
   "outputs": [
    {
     "name": "stdout",
     "output_type": "stream",
     "text": [
      "Enter Age:25\n",
      "you will get match details soon by mail\n"
     ]
    }
   ],
   "source": [
    "class TooYoungException(Exception):\n",
    "    def __init__(self,msg):\n",
    "        self.msg = msg\n",
    "        \n",
    "class TooOldException(Exception):\n",
    "    def __init__(self,msg):\n",
    "        self.msg = msg\n",
    "        \n",
    "age=int(input(\"Enter Age:\"))\n",
    "if age<18:\n",
    "    raise TooYoungException(\"Please wait some more time, definitely you will get last match\")\n",
    "elif age>60:\n",
    "    raise TooOldException(\"Your age already crossed Marrriage Age, no chance of getting marriage\")\n",
    "else:\n",
    "    print(\"you will get match details soon by mail\")"
   ]
  },
  {
   "cell_type": "markdown",
   "metadata": {},
   "source": [
    "Above are the examples of how to define user defined exceptions."
   ]
  },
  {
   "cell_type": "markdown",
   "metadata": {},
   "source": [
    "# ====================== THE END ====================== "
   ]
  }
 ],
 "metadata": {
  "kernelspec": {
   "display_name": "Python 3",
   "language": "python",
   "name": "python3"
  },
  "language_info": {
   "codemirror_mode": {
    "name": "ipython",
    "version": 3
   },
   "file_extension": ".py",
   "mimetype": "text/x-python",
   "name": "python",
   "nbconvert_exporter": "python",
   "pygments_lexer": "ipython3",
   "version": "3.8.3"
  }
 },
 "nbformat": 4,
 "nbformat_minor": 4
}
