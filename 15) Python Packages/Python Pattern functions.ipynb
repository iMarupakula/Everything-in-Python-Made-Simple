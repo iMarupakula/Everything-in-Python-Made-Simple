{
 "cells": [
  {
   "cell_type": "markdown",
   "metadata": {},
   "source": [
    "**To Print Square Pattern with * sumbols**"
   ]
  },
  {
   "cell_type": "code",
   "execution_count": 2,
   "metadata": {},
   "outputs": [],
   "source": [
    "def square():\n",
    "    inp=int(input(\"Enter n Value:\"))\n",
    "    for i in range(inp):\n",
    "        print(\"* \"*inp)"
   ]
  },
  {
   "cell_type": "markdown",
   "metadata": {},
   "source": [
    "**To print Right Angle Triangle pattern with *\n",
    "symbols**"
   ]
  },
  {
   "cell_type": "code",
   "execution_count": 5,
   "metadata": {},
   "outputs": [
    {
     "name": "stdout",
     "output_type": "stream",
     "text": [
      "Enter n Value:5\n",
      "* \n",
      "* * \n",
      "* * * \n",
      "* * * * \n",
      "* * * * * \n"
     ]
    }
   ],
   "source": [
    "def right_angle_triangle():\n",
    "    inp=int(input(\"Enter n Value:\"))\n",
    "    for i in range(inp):\n",
    "        for j in range(i+1):\n",
    "            print('*',end=\" \")\n",
    "        print()     "
   ]
  },
  {
   "cell_type": "markdown",
   "metadata": {},
   "source": [
    "**To print Inverted Right Angle Triangle\n",
    "pattern with * symbols**"
   ]
  },
  {
   "cell_type": "code",
   "execution_count": 8,
   "metadata": {},
   "outputs": [
    {
     "name": "stdout",
     "output_type": "stream",
     "text": [
      "Enter n Value:5\n",
      "*****\n",
      "****\n",
      "***\n",
      "**\n",
      "*\n",
      "\n"
     ]
    }
   ],
   "source": [
    "def inverted_right_angle_triangle():\n",
    "    inp=int(input(\"Enter n Value:\"))\n",
    "    for i in range(inp):\n",
    "        print('*'*(inp-i))\n",
    "    print()    "
   ]
  },
  {
   "cell_type": "markdown",
   "metadata": {},
   "source": [
    "**To print Pyramid pattern with * symbols**"
   ]
  },
  {
   "cell_type": "code",
   "execution_count": 11,
   "metadata": {},
   "outputs": [],
   "source": [
    "def pyramid():\n",
    "    n=int(input(\"Enter n Value:\"))\n",
    "    for i in range(n):\n",
    "        print(' '*(n-i-1)+'* '*(i+1))\n",
    "    print()    "
   ]
  },
  {
   "cell_type": "markdown",
   "metadata": {},
   "source": [
    "**To print Inverted Pyramid Pattern with *\n",
    "symbols**"
   ]
  },
  {
   "cell_type": "code",
   "execution_count": 13,
   "metadata": {},
   "outputs": [],
   "source": [
    "def inverted_pyramid():\n",
    "    n=int(input(\"Enter n Value:\"))\n",
    "    for i in range(n):\n",
    "        print(' '*(i)+'* '*(n-i))\n",
    "    print()    "
   ]
  },
  {
   "cell_type": "markdown",
   "metadata": {},
   "source": [
    "**To print Diamond Pattern with * symbols**"
   ]
  },
  {
   "cell_type": "code",
   "execution_count": 15,
   "metadata": {},
   "outputs": [
    {
     "name": "stdout",
     "output_type": "stream",
     "text": [
      "Enter n Value:5\n",
      "    * \n",
      "   * * \n",
      "  * * * \n",
      " * * * * \n",
      "* * * * * \n",
      " * * * * \n",
      "  * * * \n",
      "   * * \n",
      "    * \n",
      "\n"
     ]
    }
   ],
   "source": [
    "def diamond():\n",
    "    n=int(input(\"Enter n Value:\"))\n",
    "    for i in range(n):\n",
    "        print(' '*(n-i-1)+'* '*(i+1))\n",
    "    for i in range(n-1):\n",
    "        print(' '*(i+1)+'* '*(n-i-1))\n",
    "    print()\n",
    "    \n",
    "diamond()    "
   ]
  },
  {
   "cell_type": "code",
   "execution_count": null,
   "metadata": {},
   "outputs": [],
   "source": []
  }
 ],
 "metadata": {
  "kernelspec": {
   "display_name": "Python 3",
   "language": "python",
   "name": "python3"
  },
  "language_info": {
   "codemirror_mode": {
    "name": "ipython",
    "version": 3
   },
   "file_extension": ".py",
   "mimetype": "text/x-python",
   "name": "python",
   "nbconvert_exporter": "python",
   "pygments_lexer": "ipython3",
   "version": "3.8.3"
  }
 },
 "nbformat": 4,
 "nbformat_minor": 4
}
