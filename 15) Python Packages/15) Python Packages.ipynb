{
 "cells": [
  {
   "cell_type": "markdown",
   "metadata": {},
   "source": [
    "# Introduction to Python Packages"
   ]
  },
  {
   "cell_type": "markdown",
   "metadata": {},
   "source": [
    "- It is an encapsulation mechanism to group related modules into a single unit.<br>\n",
    "- package is nothing but folder or directory which represents collection of Python modules.<br>\n",
    "- Any folder or directory contains **\\_\\_init\\_\\_.py** file, is considered as a Python package.This file can be empty.<br>\n",
    "- A package can contains sub packages also as shown below i.e. Home Loan and Vechile Loan are the Sub-Packages of Loan Package.\n",
    "\n",
    "![Image](p1.PNG)"
   ]
  },
  {
   "cell_type": "markdown",
   "metadata": {},
   "source": [
    "### Advantages of Python Packages\n",
    "The main advantages of package statement are<br>\n",
    "> 1) We can resolve naming conflicts<br>\n",
    ">> i.e. we can access the file/modules with same name in packages/sub-packages as follows.<br>\n",
    ">> **Loan.Home_Loan.File_1** ==> This is the **File 1** which is accessible from **Home Loan** Sub-Package.<br>\n",
    ">> **Loan.Vechile_Loan.File_1** ==> This is the **File 1** which is accessible from **Vechile Loan** Sub-Package.<br>\n",
    "\n",
    "> 2) We can identify our components uniquely<br>\n",
    "> 3) It improves modularity of the application<br>\n",
    "> 4) Readability of the Application will be improved since there is a clear division of the packages and its files<br>\n",
    "> 5) Maintainability of the application will be improved **i.e** we can change the content inside the files as required so enhancement and maintability will be easy.<br>\n",
    "> **For Example:** Vechile Loan Current Interest change from 10.5% to 12.5%"
   ]
  },
  {
   "cell_type": "markdown",
   "metadata": {},
   "source": [
    "I have created **Pack1** folder and added **module1.py** and **\\_\\_init\\_\\_.py** files into it for demonstration. I have created the **Pack1** and **Pack1_without_init** folders in the current working directory itself."
   ]
  },
  {
   "cell_type": "code",
   "execution_count": 1,
   "metadata": {},
   "outputs": [
    {
     "name": "stdout",
     "output_type": "stream",
     "text": [
      "This is the f1 function present in module1 module of pack1 package\n"
     ]
    }
   ],
   "source": [
    "import Pack1.module1 # We are importing module1 file from Pack1 Folder.\n",
    "\n",
    "Pack1.module1.f1() # accessing the function f1 present in the module1 from Pack1 folder."
   ]
  },
  {
   "cell_type": "code",
   "execution_count": 2,
   "metadata": {},
   "outputs": [
    {
     "name": "stdout",
     "output_type": "stream",
     "text": [
      "This is the f1 function present in module1 module of pack1 package\n"
     ]
    }
   ],
   "source": [
    "from Pack1.module1 import f1 # Directly importing  the f1 function\n",
    "\n",
    "f1()"
   ]
  },
  {
   "cell_type": "markdown",
   "metadata": {},
   "source": [
    "**Note:** From 3.3 and later versions it is not mandatory to have empty **\\_\\_init\\_\\_** file. We can still call the f1 function from module1 module stored in Pack1 Folder, This will work fine without any errors."
   ]
  },
  {
   "cell_type": "code",
   "execution_count": 3,
   "metadata": {},
   "outputs": [
    {
     "name": "stdout",
     "output_type": "stream",
     "text": [
      "This is the f1 function present in module1 module of pack1 package\n"
     ]
    }
   ],
   "source": [
    "from Pack1_without_init.module1 import f1 # this is the f1 function importing from module1 in Pack1_without_init folder without empty __init__.py file\n",
    "\n",
    "f1()"
   ]
  },
  {
   "cell_type": "markdown",
   "metadata": {},
   "source": [
    "Now Lets create the sub-packages and understand the calling of a function from sub-package as below. In this current working directory i want to create **com** folder with **\\_\\_init\\_\\_** and **module1.py** files along with sub-package **PySubPack** folder which consists of  **\\_\\_init\\_\\_** and **module2.py** files."
   ]
  },
  {
   "cell_type": "code",
   "execution_count": 4,
   "metadata": {},
   "outputs": [
    {
     "name": "stdout",
     "output_type": "stream",
     "text": [
      "This is from f1 function of module1 present in com package\n",
      "This is from f2 function of module2 present in com.PySubPack package\n"
     ]
    }
   ],
   "source": [
    "from com.module1 import f1\n",
    "from com.PySubPack.module2 import f2\n",
    "\n",
    "f1() # calling f1() from module1 stored in com package.\n",
    "f2() # calling f2() from module2 present in sub-package \"PySubPack\" stored in \"com\" package."
   ]
  },
  {
   "cell_type": "markdown",
   "metadata": {},
   "source": [
    "As seen above, this is how we can create package and access items from it.\n",
    "\n",
    "# Importance of \\_\\_init\\_\\_.py file"
   ]
  },
  {
   "cell_type": "markdown",
   "metadata": {},
   "source": [
    "At the time of using a package if we want to perform any activity automatically then we have to define that activity inside this **\\_\\_init\\_\\_.py** file.<br>\n",
    "Hence, **\\_\\_init\\_\\_.py** file meant for initialization activity."
   ]
  },
  {
   "cell_type": "code",
   "execution_count": 5,
   "metadata": {},
   "outputs": [
    {
     "name": "stdout",
     "output_type": "stream",
     "text": [
      "##################################################\n",
      "Welcome to com_with_comments_in_init package\n",
      "__init__.py will automatically perform the activity defined in it.\n",
      "This is to demonstrate the activity of __init__.py\n",
      "##################################################\n",
      "This is from f1 function of module1 present in com package\n"
     ]
    }
   ],
   "source": [
    "from com_with_comments_in_init.module1 import f1\n",
    "from com_with_comments_in_init.PySubPack.module2 import f2\n",
    "\n",
    "f1()"
   ]
  },
  {
   "cell_type": "markdown",
   "metadata": {},
   "source": [
    "Tough we didn't call \\_\\_init\\_\\_.py file, the text in it is displayed. It is because, \\_\\_init\\_\\_.py file will run automatically whenever a Python Package is used. So At the time of using the package if you want to perform some activity automatically, we need to go for \\_\\_init\\_\\_.py file.  "
   ]
  },
  {
   "cell_type": "markdown",
   "metadata": {},
   "source": [
    "![Image](rltn_bw_library_func_module_package.PNG)"
   ]
  },
  {
   "cell_type": "markdown",
   "metadata": {},
   "source": [
    "**If we want to use a package, compulsary it should be available in the current working directory. We cannot use from anywhere in our system.<br><br>\n",
    "To Make our package available throughout our system i.e from any location in the system, then we have to install package.**"
   ]
  },
  {
   "cell_type": "markdown",
   "metadata": {},
   "source": [
    "# How to install a python package"
   ]
  },
  {
   "cell_type": "markdown",
   "metadata": {},
   "source": [
    "We can install our own python package or other python packages in our system. we need to make sure of some things to install our defined packages in system as follows<br>\n",
    "We need to write a **setup.py** script in which we have to call the **setup()** function upon importing **setuptools** module.<br>\n",
    "**Note:** we have to make sure that setup.py script is located in the same location as of package we have created. i have located **patterns.py**,**__init__.py** in **patterns folder** and **setup.py** in patternapp folder."
   ]
  },
  {
   "cell_type": "markdown",
   "metadata": {},
   "source": [
    "I have created **setup.py** already using another jupyter notebook and named it as setup and dowloaded it in **.py** format as setup.py in **patternapp** folder."
   ]
  },
  {
   "cell_type": "code",
   "execution_count": 12,
   "metadata": {},
   "outputs": [],
   "source": [
    "#from setuptools import setup\n",
    "#setup(name='patterns',version='0.1',packages=['patterns'])"
   ]
  },
  {
   "cell_type": "markdown",
   "metadata": {},
   "source": [
    "### for Installing the own python package. \n",
    "1) open the command prompt or anaconda prompt<br>\n",
    "2) go the path where the package and setup script is available using **cd \"path\"**.<br>\n",
    "3) type **pip install .** and press enter, This will install the package as below<br>\n",
    "\n",
    "![Image](installing_packages.PNG)"
   ]
  },
  {
   "cell_type": "code",
   "execution_count": 6,
   "metadata": {},
   "outputs": [],
   "source": [
    "from patterns.patterns import *\n",
    "# after the package is installed we are directly calling the functions from the patterns module in patterns package."
   ]
  },
  {
   "cell_type": "code",
   "execution_count": 7,
   "metadata": {},
   "outputs": [
    {
     "name": "stdout",
     "output_type": "stream",
     "text": [
      "Enter n Value:5\n",
      "    * \n",
      "   * * \n",
      "  * * * \n",
      " * * * * \n",
      "* * * * * \n",
      "\n"
     ]
    }
   ],
   "source": [
    "pyramid()"
   ]
  },
  {
   "cell_type": "code",
   "execution_count": 8,
   "metadata": {},
   "outputs": [
    {
     "name": "stdout",
     "output_type": "stream",
     "text": [
      "Enter n Value:5\n",
      "* * * * * \n",
      " * * * * \n",
      "  * * * \n",
      "   * * \n",
      "    * \n",
      "\n"
     ]
    }
   ],
   "source": [
    "inverted_pyramid()"
   ]
  },
  {
   "cell_type": "code",
   "execution_count": 9,
   "metadata": {},
   "outputs": [
    {
     "name": "stdout",
     "output_type": "stream",
     "text": [
      "Enter n Value:10\n",
      "* * * * * * * * * * \n",
      "* * * * * * * * * * \n",
      "* * * * * * * * * * \n",
      "* * * * * * * * * * \n",
      "* * * * * * * * * * \n",
      "* * * * * * * * * * \n",
      "* * * * * * * * * * \n",
      "* * * * * * * * * * \n",
      "* * * * * * * * * * \n",
      "* * * * * * * * * * \n"
     ]
    }
   ],
   "source": [
    "square()"
   ]
  },
  {
   "cell_type": "code",
   "execution_count": 10,
   "metadata": {},
   "outputs": [
    {
     "name": "stdout",
     "output_type": "stream",
     "text": [
      "Enter n Value:5\n",
      "    * \n",
      "   * * \n",
      "  * * * \n",
      " * * * * \n",
      "* * * * * \n",
      " * * * * \n",
      "  * * * \n",
      "   * * \n",
      "    * \n",
      "\n"
     ]
    }
   ],
   "source": [
    "diamond()"
   ]
  },
  {
   "cell_type": "markdown",
   "metadata": {},
   "source": [
    "we can use find_packages module to get all the packages available in a folder/library."
   ]
  },
  {
   "cell_type": "code",
   "execution_count": null,
   "metadata": {},
   "outputs": [],
   "source": [
    "#from setuptools import setup, find_packages\n",
    "#setup(name='patterns',version='0.1',packages=find_packages())  "
   ]
  },
  {
   "cell_type": "markdown",
   "metadata": {},
   "source": [
    "Instead of giving package names individually, we can call **find_packages()** function directly to get all the packages available."
   ]
  },
  {
   "cell_type": "markdown",
   "metadata": {},
   "source": [
    "This is how we can define our own packages and install them. Hope you enjoyed it."
   ]
  },
  {
   "cell_type": "markdown",
   "metadata": {},
   "source": [
    "# This is all about Packages"
   ]
  }
 ],
 "metadata": {
  "kernelspec": {
   "display_name": "Python 3",
   "language": "python",
   "name": "python3"
  },
  "language_info": {
   "codemirror_mode": {
    "name": "ipython",
    "version": 3
   },
   "file_extension": ".py",
   "mimetype": "text/x-python",
   "name": "python",
   "nbconvert_exporter": "python",
   "pygments_lexer": "ipython3",
   "version": "3.8.3"
  }
 },
 "nbformat": 4,
 "nbformat_minor": 4
}
