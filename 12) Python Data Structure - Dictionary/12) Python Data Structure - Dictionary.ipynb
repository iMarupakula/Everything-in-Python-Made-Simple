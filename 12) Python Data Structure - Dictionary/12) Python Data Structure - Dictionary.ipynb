{
 "cells": [
  {
   "cell_type": "markdown",
   "metadata": {},
   "source": [
    "# Dictionary\n",
    "<br>If you want to represent a group of objects as **Key-Value** pairs then we should go for dictionary. we can't represent Kay-Value pairs in List or Tuple or Set since they are meant for individual objects. Only choice we have is dictionary.<br><br>\n",
    "Example:\n",
    "> - Roll Number - Name<br>\n",
    "> - Mobile Number - Address<br>\n",
    "> - IP Address - Domain Name\n",
    "\n",
    "Syntax:<br>\n",
    "> - d=**{** Key1:Value1, Key2:Value2, Key3:Value3,...... **}**<br>\n",
    "> - **Example:** d = {100:\"Sairam\", 200:\"Dhana\", 300: \"Lakshmi\", 400: \"Prasad\", 500: \"Subanjali\"}<br>\n",
    "> - Dictionary is represented in curly brackets **\"{ }\"**\n"
   ]
  },
  {
   "cell_type": "markdown",
   "metadata": {},
   "source": [
    "**Properties of Dictionary:**"
   ]
  },
  {
   "cell_type": "markdown",
   "metadata": {},
   "source": [
    "> 1) Dictionary is represented in **\"{ }\"** with a group of **Key:Value** pairs.<br>\n",
    "> 2) Duplicate Keys Not Allowed, But Duplicate Values are allowed **i.e** Key's should be unique in dictionary<br>\n",
    "> 3) Insertion order is not preserved, it is based on hash code of the Key's.<br>\n",
    "> 4) Indexing and Slicing not allowed.<br>\n",
    "> 5) Heterogenous objects are allowed for both Keys and Values.<br>\n",
    "> 6) Dictionary is **mutable**, key-value pairs can be added or deleted.<br>\n",
    "> 7) Dictionary is **Dynamic** because its size can be increased or decreased based on the requirement.  \n"
   ]
  },
  {
   "cell_type": "code",
   "execution_count": 31,
   "metadata": {},
   "outputs": [
    {
     "name": "stdout",
     "output_type": "stream",
     "text": [
      "{100: 'Sairam', 'A': 300, 200: 'Ravi', 'B': 400}\n"
     ]
    }
   ],
   "source": [
    "# Heterogenous objects allowed\n",
    "d={100:\"Sairam\",'A':300,200:'Ravi','B':400}\n",
    "print(d)"
   ]
  },
  {
   "cell_type": "markdown",
   "metadata": {},
   "source": [
    "**Note:** Duplicate Keys Not allowed in dictionary. **if we try to add duplicate key, old value will be replaced with new value** as shown in the example below."
   ]
  },
  {
   "cell_type": "code",
   "execution_count": 32,
   "metadata": {},
   "outputs": [
    {
     "name": "stdout",
     "output_type": "stream",
     "text": [
      "{100: 'Kandukuri Sairam', 'A': 300, 200: 'Ravi', 'B': 400}\n"
     ]
    }
   ],
   "source": [
    "d={100:\"Sairam\",'A':300,200:'Ravi','B':400,100:\"Kandukuri Sairam\"}\n",
    "print(d)"
   ]
  },
  {
   "cell_type": "markdown",
   "metadata": {},
   "source": [
    "## Creation of Dictionary Object"
   ]
  },
  {
   "cell_type": "markdown",
   "metadata": {},
   "source": [
    "1) **Empty Dict:**<br>"
   ]
  },
  {
   "cell_type": "markdown",
   "metadata": {},
   "source": [
    " - d = { }<br>\n",
    " - d = dict()"
   ]
  },
  {
   "cell_type": "code",
   "execution_count": 33,
   "metadata": {},
   "outputs": [
    {
     "name": "stdout",
     "output_type": "stream",
     "text": [
      "{}\n",
      "{}\n"
     ]
    }
   ],
   "source": [
    "d1 = { }\n",
    "d2 = dict()\n",
    "print(d1)\n",
    "print(d2)"
   ]
  },
  {
   "cell_type": "markdown",
   "metadata": {},
   "source": [
    "2) **If we know data already:**"
   ]
  },
  {
   "cell_type": "code",
   "execution_count": 34,
   "metadata": {},
   "outputs": [
    {
     "name": "stdout",
     "output_type": "stream",
     "text": [
      "{100: 'Durga', 200: 'Ravi'}\n"
     ]
    }
   ],
   "source": [
    "d={100:'Durga',200:'Ravi'}\n",
    "print(d)"
   ]
  },
  {
   "cell_type": "markdown",
   "metadata": {},
   "source": [
    "3) **By using dict() function:**<br>"
   ]
  },
  {
   "cell_type": "code",
   "execution_count": 35,
   "metadata": {},
   "outputs": [
    {
     "name": "stdout",
     "output_type": "stream",
     "text": [
      "{100: 'A', 200: 'B', 300: 'C'}\n"
     ]
    }
   ],
   "source": [
    "L=[(100,'A'),(200,'B'),(300,'C')] # List of tuples\n",
    "D=dict(L) # creating dictionary for given List of tuples\n",
    "print(D)"
   ]
  },
  {
   "cell_type": "markdown",
   "metadata": {},
   "source": [
    "it can be \n",
    "> - List of tuples<br>\n",
    "> - Tuple of tuples<br>\n",
    "> - Set of tuples<br>\n",
    "> - List of Lists<br>\n",
    "> - Tuple of Lists<br>\n",
    "> - <span style = \"color:red\">**Set of Lists** is Not acceptable since lists are unhashable<span>"
   ]
  },
  {
   "cell_type": "code",
   "execution_count": 36,
   "metadata": {},
   "outputs": [
    {
     "name": "stdout",
     "output_type": "stream",
     "text": [
      "{100: 'A', 200: 'B', 300: 'C'}\n"
     ]
    }
   ],
   "source": [
    "T=((100,'A'),(200,'B'),(300,'C')) # tuple of tuples\n",
    "D=dict(T) # creating dictionary for given tuple of tuples\n",
    "print(D)"
   ]
  },
  {
   "cell_type": "code",
   "execution_count": 37,
   "metadata": {},
   "outputs": [
    {
     "name": "stdout",
     "output_type": "stream",
     "text": [
      "{100: 'A', 200: 'B', 300: 'C'}\n"
     ]
    }
   ],
   "source": [
    "T=[[100,'A'],[200,'B'],[300,'C']] # List of Lists\n",
    "D=dict(T) # creating dictionary for given List of Lists\n",
    "print(D)"
   ]
  },
  {
   "cell_type": "code",
   "execution_count": 38,
   "metadata": {},
   "outputs": [
    {
     "name": "stdout",
     "output_type": "stream",
     "text": [
      "{100: 'A', 200: 'B', 300: 'C'}\n"
     ]
    }
   ],
   "source": [
    "T=([100,'A'],[200,'B'],[300,'C']) # tuple of Lists\n",
    "D=dict(T) # creating dictionary for given tuple of Lists\n",
    "print(D)"
   ]
  },
  {
   "cell_type": "code",
   "execution_count": 39,
   "metadata": {},
   "outputs": [
    {
     "ename": "TypeError",
     "evalue": "unhashable type: 'list'",
     "output_type": "error",
     "traceback": [
      "\u001b[1;31m---------------------------------------------------------------------------\u001b[0m",
      "\u001b[1;31mTypeError\u001b[0m                                 Traceback (most recent call last)",
      "\u001b[1;32m<ipython-input-39-73fa771baafa>\u001b[0m in \u001b[0;36m<module>\u001b[1;34m\u001b[0m\n\u001b[1;32m----> 1\u001b[1;33m \u001b[0mT\u001b[0m\u001b[1;33m=\u001b[0m\u001b[1;33m{\u001b[0m\u001b[1;33m[\u001b[0m\u001b[1;36m100\u001b[0m\u001b[1;33m,\u001b[0m\u001b[1;34m'A'\u001b[0m\u001b[1;33m]\u001b[0m\u001b[1;33m,\u001b[0m\u001b[1;33m[\u001b[0m\u001b[1;36m200\u001b[0m\u001b[1;33m,\u001b[0m\u001b[1;34m'B'\u001b[0m\u001b[1;33m]\u001b[0m\u001b[1;33m,\u001b[0m\u001b[1;33m[\u001b[0m\u001b[1;36m300\u001b[0m\u001b[1;33m,\u001b[0m\u001b[1;34m'C'\u001b[0m\u001b[1;33m]\u001b[0m\u001b[1;33m}\u001b[0m \u001b[1;31m# set of Lists\u001b[0m\u001b[1;33m\u001b[0m\u001b[1;33m\u001b[0m\u001b[0m\n\u001b[0m\u001b[0;32m      2\u001b[0m \u001b[0mD\u001b[0m\u001b[1;33m=\u001b[0m\u001b[0mdict\u001b[0m\u001b[1;33m(\u001b[0m\u001b[0mT\u001b[0m\u001b[1;33m)\u001b[0m \u001b[1;31m# creating dictionary for given set of Lists\u001b[0m\u001b[1;33m\u001b[0m\u001b[1;33m\u001b[0m\u001b[0m\n\u001b[0;32m      3\u001b[0m \u001b[0mprint\u001b[0m\u001b[1;33m(\u001b[0m\u001b[0mD\u001b[0m\u001b[1;33m)\u001b[0m\u001b[1;33m\u001b[0m\u001b[1;33m\u001b[0m\u001b[0m\n",
      "\u001b[1;31mTypeError\u001b[0m: unhashable type: 'list'"
     ]
    }
   ],
   "source": [
    "T={[100,'A'],[200,'B'],[300,'C']} # set of Lists\n",
    "D=dict(T) # creating dictionary for given set of Lists\n",
    "print(D)"
   ]
  },
  {
   "cell_type": "markdown",
   "metadata": {},
   "source": [
    "4) **By using Dynamic input:**"
   ]
  },
  {
   "cell_type": "code",
   "execution_count": 41,
   "metadata": {},
   "outputs": [
    {
     "name": "stdout",
     "output_type": "stream",
     "text": [
      "Enter any Dictionary:{'A':100,'B':200}\n",
      "{'A': 100, 'B': 200}\n",
      "<class 'dict'>\n"
     ]
    }
   ],
   "source": [
    "d=eval(input(\"Enter any Dictionary:\"))\n",
    "print(d)\n",
    "print(type(d))"
   ]
  },
  {
   "cell_type": "markdown",
   "metadata": {},
   "source": [
    "# Accessing Data from Dictionary"
   ]
  },
  {
   "cell_type": "code",
   "execution_count": 42,
   "metadata": {},
   "outputs": [
    {
     "name": "stdout",
     "output_type": "stream",
     "text": [
      "Sairam\n",
      "20.6\n",
      "500\n"
     ]
    }
   ],
   "source": [
    "d={10:\"Sairam\",20:\"Kandukuri\",30:500,40:20.6}\n",
    "print(d[10]) # d[Key] is used to get the value for the specified key.\n",
    "print((d[40]))\n",
    "print(d[30])"
   ]
  },
  {
   "cell_type": "code",
   "execution_count": 43,
   "metadata": {},
   "outputs": [
    {
     "ename": "KeyError",
     "evalue": "100",
     "output_type": "error",
     "traceback": [
      "\u001b[1;31m---------------------------------------------------------------------------\u001b[0m",
      "\u001b[1;31mKeyError\u001b[0m                                  Traceback (most recent call last)",
      "\u001b[1;32m<ipython-input-43-1146db5944c5>\u001b[0m in \u001b[0;36m<module>\u001b[1;34m\u001b[0m\n\u001b[1;32m----> 1\u001b[1;33m \u001b[0mprint\u001b[0m\u001b[1;33m(\u001b[0m\u001b[0md\u001b[0m\u001b[1;33m[\u001b[0m\u001b[1;36m100\u001b[0m\u001b[1;33m]\u001b[0m\u001b[1;33m)\u001b[0m \u001b[1;31m#Note: if the specified key is not available in the dictionary, \"KeyError\" will be raised.\u001b[0m\u001b[1;33m\u001b[0m\u001b[1;33m\u001b[0m\u001b[0m\n\u001b[0m",
      "\u001b[1;31mKeyError\u001b[0m: 100"
     ]
    }
   ],
   "source": [
    "print(d[100]) #Note: if the specified key is not available in the dictionary, \"KeyError\" will be raised."
   ]
  },
  {
   "cell_type": "code",
   "execution_count": 44,
   "metadata": {},
   "outputs": [
    {
     "name": "stdout",
     "output_type": "stream",
     "text": [
      "Enter Key to find value: 10\n",
      "key: Sairam\n"
     ]
    }
   ],
   "source": [
    "# We can prevent KeyError using Membership Operator\n",
    "d={10:\"Sairam\",20:\"Kandukuri\",30:500,\"A\":20.6}\n",
    "key=eval(input(\"Enter Key to find value: \"))\n",
    "if key in d:\n",
    "    print(\"key:\",d[key])\n",
    "else:\n",
    "    print(\"Specified Key Not Available\")"
   ]
  },
  {
   "cell_type": "markdown",
   "metadata": {},
   "source": [
    "## Add / Update data to dictionary"
   ]
  },
  {
   "cell_type": "markdown",
   "metadata": {},
   "source": [
    "**Syntax:**<br>\n",
    "> - d[Key] = Value<br>\n",
    "> - if the specified key is already available in the dictionary then the old value will be replaced with the new value.<br>"
   ]
  },
  {
   "cell_type": "code",
   "execution_count": 45,
   "metadata": {},
   "outputs": [
    {
     "name": "stdout",
     "output_type": "stream",
     "text": [
      "{100: 'Sairam', 200: 'Kandukuri', 300: 'Dhana'}\n"
     ]
    }
   ],
   "source": [
    "d={100:'Sairam',200:'Kandukuri'}\n",
    "d[300]=\"Dhana\" # Since 300 Not availabe in Dict, Key 300 will be added to the d along with its value \"Dhana\"\n",
    "print(d)"
   ]
  },
  {
   "cell_type": "code",
   "execution_count": 46,
   "metadata": {},
   "outputs": [
    {
     "name": "stdout",
     "output_type": "stream",
     "text": [
      "{100: 'Sairam', 200: 'Kandukuri', 300: 'Dhana Lakshmi'}\n"
     ]
    }
   ],
   "source": [
    "d[300]='Dhana Lakshmi' #Since 300 is already available in Dict d, Old value \"Dhana\" will be replaced with New Value \"Dhana Lakshmi\"\n",
    "print(d)"
   ]
  },
  {
   "cell_type": "markdown",
   "metadata": {},
   "source": [
    "## Delete Data from Dictionary"
   ]
  },
  {
   "cell_type": "markdown",
   "metadata": {},
   "source": [
    "Syntax:\n",
    "> - del d[Key]<br>\n",
    "> - with the above syntax, Specified key along with its value will be deleted from the dictionary.<br>\n",
    "> - If the key is not available in the dictionary, KeyError will be raised."
   ]
  },
  {
   "cell_type": "code",
   "execution_count": 47,
   "metadata": {},
   "outputs": [
    {
     "name": "stdout",
     "output_type": "stream",
     "text": [
      "Before Deletion:  {100: 'Sairam', 200: 'Kandukuri', 300: 'Dhana Lakshmi'}\n",
      "After Deletion: {100: 'Sairam', 200: 'Kandukuri'}\n"
     ]
    }
   ],
   "source": [
    "d={100:'Sairam',200:'Kandukuri',300:\"Dhana Lakshmi\"}\n",
    "print(\"Before Deletion: \",d)\n",
    "del d[300]\n",
    "print(\"After Deletion:\",d)"
   ]
  },
  {
   "cell_type": "code",
   "execution_count": 48,
   "metadata": {},
   "outputs": [
    {
     "ename": "KeyError",
     "evalue": "300",
     "output_type": "error",
     "traceback": [
      "\u001b[1;31m---------------------------------------------------------------------------\u001b[0m",
      "\u001b[1;31mKeyError\u001b[0m                                  Traceback (most recent call last)",
      "\u001b[1;32m<ipython-input-48-f0445a8b5ad0>\u001b[0m in \u001b[0;36m<module>\u001b[1;34m\u001b[0m\n\u001b[1;32m----> 1\u001b[1;33m \u001b[1;32mdel\u001b[0m \u001b[0md\u001b[0m\u001b[1;33m[\u001b[0m\u001b[1;36m300\u001b[0m\u001b[1;33m]\u001b[0m\u001b[1;33m\u001b[0m\u001b[1;33m\u001b[0m\u001b[0m\n\u001b[0m\u001b[0;32m      2\u001b[0m \u001b[0mprint\u001b[0m\u001b[1;33m(\u001b[0m\u001b[0md\u001b[0m\u001b[1;33m)\u001b[0m\u001b[1;33m\u001b[0m\u001b[1;33m\u001b[0m\u001b[0m\n",
      "\u001b[1;31mKeyError\u001b[0m: 300"
     ]
    }
   ],
   "source": [
    "del d[300]\n",
    "print(d)"
   ]
  },
  {
   "cell_type": "code",
   "execution_count": 49,
   "metadata": {},
   "outputs": [
    {
     "name": "stdout",
     "output_type": "stream",
     "text": [
      "{}\n"
     ]
    }
   ],
   "source": [
    "# Multiple keys can be deleted at once.\n",
    "del d[100],d[200]\n",
    "print(d) # returns empty dict since we have removed all the keys from d"
   ]
  },
  {
   "cell_type": "markdown",
   "metadata": {},
   "source": [
    "**WAP to enter name and marks into dictionary and display information on the screen**"
   ]
  },
  {
   "cell_type": "code",
   "execution_count": 51,
   "metadata": {},
   "outputs": [
    {
     "name": "stdout",
     "output_type": "stream",
     "text": [
      "Enter No. of students:2\n",
      "Enter Student Name: A\n",
      "Enter Marks of the Student: 10\n",
      "Enter Student Name: B\n",
      "Enter Marks of the Student: 20\n",
      "******************************\n",
      "Name \t\t Marks\n",
      "******************************\n",
      "A \t\t 10\n",
      "B \t\t 20\n"
     ]
    }
   ],
   "source": [
    "n=int(input(\"Enter No. of students:\"))\n",
    "d={}\n",
    "for i in range(n):\n",
    "    name=input(\"Enter Student Name: \")\n",
    "    marks=int(input(\"Enter Marks of the Student: \"))\n",
    "    d[name]=marks\n",
    "print('*'*30)\n",
    "print('Name','\\t\\t','Marks')\n",
    "print('*'*30)\n",
    "for name in d:\n",
    "    print(name,'\\t\\t',d[name])"
   ]
  },
  {
   "cell_type": "markdown",
   "metadata": {},
   "source": [
    "# Operators for Dictionary"
   ]
  },
  {
   "cell_type": "code",
   "execution_count": 52,
   "metadata": {},
   "outputs": [
    {
     "ename": "TypeError",
     "evalue": "unsupported operand type(s) for +: 'dict' and 'dict'",
     "output_type": "error",
     "traceback": [
      "\u001b[1;31m---------------------------------------------------------------------------\u001b[0m",
      "\u001b[1;31mTypeError\u001b[0m                                 Traceback (most recent call last)",
      "\u001b[1;32m<ipython-input-52-3db0477b2493>\u001b[0m in \u001b[0;36m<module>\u001b[1;34m\u001b[0m\n\u001b[0;32m      1\u001b[0m \u001b[0md1\u001b[0m\u001b[1;33m=\u001b[0m\u001b[1;33m{\u001b[0m\u001b[1;36m100\u001b[0m\u001b[1;33m:\u001b[0m\u001b[1;34m'A'\u001b[0m\u001b[1;33m,\u001b[0m\u001b[1;36m200\u001b[0m\u001b[1;33m:\u001b[0m\u001b[1;34m'B'\u001b[0m\u001b[1;33m}\u001b[0m\u001b[1;33m\u001b[0m\u001b[1;33m\u001b[0m\u001b[0m\n\u001b[0;32m      2\u001b[0m \u001b[0md2\u001b[0m\u001b[1;33m=\u001b[0m\u001b[1;33m{\u001b[0m\u001b[1;36m300\u001b[0m\u001b[1;33m:\u001b[0m\u001b[1;34m'C'\u001b[0m\u001b[1;33m,\u001b[0m\u001b[1;36m400\u001b[0m\u001b[1;33m:\u001b[0m\u001b[1;34m'D'\u001b[0m\u001b[1;33m}\u001b[0m\u001b[1;33m\u001b[0m\u001b[1;33m\u001b[0m\u001b[0m\n\u001b[1;32m----> 3\u001b[1;33m \u001b[0mprint\u001b[0m\u001b[1;33m(\u001b[0m\u001b[0md1\u001b[0m\u001b[1;33m+\u001b[0m\u001b[0md2\u001b[0m\u001b[1;33m)\u001b[0m \u001b[1;31m# Dictionary concatenation not allowed, TypeError will be raised\u001b[0m\u001b[1;33m\u001b[0m\u001b[1;33m\u001b[0m\u001b[0m\n\u001b[0m",
      "\u001b[1;31mTypeError\u001b[0m: unsupported operand type(s) for +: 'dict' and 'dict'"
     ]
    }
   ],
   "source": [
    "d1={100:'A',200:'B'}\n",
    "d2={300:'C',400:'D'}\n",
    "print(d1+d2) # Dictionary concatenation not allowed, TypeError will be raised"
   ]
  },
  {
   "cell_type": "code",
   "execution_count": 53,
   "metadata": {},
   "outputs": [
    {
     "ename": "TypeError",
     "evalue": "unsupported operand type(s) for *: 'dict' and 'int'",
     "output_type": "error",
     "traceback": [
      "\u001b[1;31m---------------------------------------------------------------------------\u001b[0m",
      "\u001b[1;31mTypeError\u001b[0m                                 Traceback (most recent call last)",
      "\u001b[1;32m<ipython-input-53-1456a6ea58ef>\u001b[0m in \u001b[0;36m<module>\u001b[1;34m\u001b[0m\n\u001b[1;32m----> 1\u001b[1;33m \u001b[0mprint\u001b[0m\u001b[1;33m(\u001b[0m\u001b[0md1\u001b[0m\u001b[1;33m*\u001b[0m\u001b[1;36m3\u001b[0m\u001b[1;33m)\u001b[0m \u001b[1;31m# Repetition not allowed in dictionary since duplicates not allowed in dictionary, TypeError will be raised.\u001b[0m\u001b[1;33m\u001b[0m\u001b[1;33m\u001b[0m\u001b[0m\n\u001b[0m",
      "\u001b[1;31mTypeError\u001b[0m: unsupported operand type(s) for *: 'dict' and 'int'"
     ]
    }
   ],
   "source": [
    "print(d1*3) # Repetition not allowed in dictionary since duplicates not allowed in dictionary, TypeError will be raised."
   ]
  },
  {
   "cell_type": "code",
   "execution_count": 54,
   "metadata": {},
   "outputs": [
    {
     "name": "stdout",
     "output_type": "stream",
     "text": [
      "d1==d3 : True\n",
      "d1==d2 : False\n"
     ]
    }
   ],
   "source": [
    "# Equality Operators applicable for Dictionary\n",
    "d1={100:'A',200:'B'}\n",
    "d2={300:'C',400:'D'}\n",
    "d3={200:'B',100:'A'}\n",
    "print(\"d1==d3 :\",d1==d3)\n",
    "print(\"d1==d2 :\",d1==d2)"
   ]
  },
  {
   "cell_type": "markdown",
   "metadata": {},
   "source": [
    "**Relational Operators Not applicable for Dictionaries**"
   ]
  },
  {
   "cell_type": "code",
   "execution_count": 55,
   "metadata": {},
   "outputs": [
    {
     "ename": "TypeError",
     "evalue": "'>' not supported between instances of 'dict' and 'dict'",
     "output_type": "error",
     "traceback": [
      "\u001b[1;31m---------------------------------------------------------------------------\u001b[0m",
      "\u001b[1;31mTypeError\u001b[0m                                 Traceback (most recent call last)",
      "\u001b[1;32m<ipython-input-55-ef8a0156ddcc>\u001b[0m in \u001b[0;36m<module>\u001b[1;34m\u001b[0m\n\u001b[1;32m----> 1\u001b[1;33m \u001b[0mprint\u001b[0m\u001b[1;33m(\u001b[0m\u001b[0md1\u001b[0m\u001b[1;33m>\u001b[0m\u001b[0md2\u001b[0m\u001b[1;33m)\u001b[0m\u001b[1;33m\u001b[0m\u001b[1;33m\u001b[0m\u001b[0m\n\u001b[0m",
      "\u001b[1;31mTypeError\u001b[0m: '>' not supported between instances of 'dict' and 'dict'"
     ]
    }
   ],
   "source": [
    "print(d1>d2)"
   ]
  },
  {
   "cell_type": "code",
   "execution_count": 56,
   "metadata": {},
   "outputs": [
    {
     "ename": "TypeError",
     "evalue": "'<' not supported between instances of 'dict' and 'dict'",
     "output_type": "error",
     "traceback": [
      "\u001b[1;31m---------------------------------------------------------------------------\u001b[0m",
      "\u001b[1;31mTypeError\u001b[0m                                 Traceback (most recent call last)",
      "\u001b[1;32m<ipython-input-56-bce75a6b57eb>\u001b[0m in \u001b[0;36m<module>\u001b[1;34m\u001b[0m\n\u001b[1;32m----> 1\u001b[1;33m \u001b[0mprint\u001b[0m\u001b[1;33m(\u001b[0m\u001b[0md1\u001b[0m\u001b[1;33m<\u001b[0m\u001b[0md2\u001b[0m\u001b[1;33m)\u001b[0m\u001b[1;33m\u001b[0m\u001b[1;33m\u001b[0m\u001b[0m\n\u001b[0m",
      "\u001b[1;31mTypeError\u001b[0m: '<' not supported between instances of 'dict' and 'dict'"
     ]
    }
   ],
   "source": [
    "print(d1<d2)"
   ]
  },
  {
   "cell_type": "code",
   "execution_count": 57,
   "metadata": {},
   "outputs": [
    {
     "name": "stdout",
     "output_type": "stream",
     "text": [
      "True\n",
      "False\n"
     ]
    }
   ],
   "source": [
    "# Membership Operations applicable for dictionaries, but only applicabe for keys.\n",
    "d1={100:'A',200:'B'}\n",
    "d2={300:'C',400:'D'}\n",
    "print(200 in d1)\n",
    "print(200 in d2)"
   ]
  },
  {
   "cell_type": "markdown",
   "metadata": {},
   "source": [
    "# Important Methods and Functions for Dictionary"
   ]
  },
  {
   "cell_type": "markdown",
   "metadata": {},
   "source": [
    "**len(dict)**\n",
    "> Returns the no. of key value pairs present in a dictionary"
   ]
  },
  {
   "cell_type": "code",
   "execution_count": 58,
   "metadata": {},
   "outputs": [
    {
     "name": "stdout",
     "output_type": "stream",
     "text": [
      "3\n"
     ]
    }
   ],
   "source": [
    "d1={100:'A',200:'B',300:'C'} \n",
    "print(len(d1)) "
   ]
  },
  {
   "cell_type": "markdown",
   "metadata": {},
   "source": [
    "**dict.get(Key,Default_Value)**\n",
    "> - It will return the value of the specified key, but it will not return any KeyError like d[Key] if key is not present in the dictionary. It will return \"None\" if key is not available.<br>\n",
    "> - We can give the default value for not getting the \"None\" if Specified Key is not available"
   ]
  },
  {
   "cell_type": "code",
   "execution_count": 59,
   "metadata": {},
   "outputs": [
    {
     "name": "stdout",
     "output_type": "stream",
     "text": [
      "C\n",
      "None\n"
     ]
    },
    {
     "ename": "KeyError",
     "evalue": "400",
     "output_type": "error",
     "traceback": [
      "\u001b[1;31m---------------------------------------------------------------------------\u001b[0m",
      "\u001b[1;31mKeyError\u001b[0m                                  Traceback (most recent call last)",
      "\u001b[1;32m<ipython-input-59-390dbd528908>\u001b[0m in \u001b[0;36m<module>\u001b[1;34m\u001b[0m\n\u001b[0;32m      2\u001b[0m \u001b[0mprint\u001b[0m\u001b[1;33m(\u001b[0m\u001b[0md1\u001b[0m\u001b[1;33m.\u001b[0m\u001b[0mget\u001b[0m\u001b[1;33m(\u001b[0m\u001b[1;36m300\u001b[0m\u001b[1;33m)\u001b[0m\u001b[1;33m)\u001b[0m\u001b[1;33m\u001b[0m\u001b[1;33m\u001b[0m\u001b[0m\n\u001b[0;32m      3\u001b[0m \u001b[0mprint\u001b[0m\u001b[1;33m(\u001b[0m\u001b[0md1\u001b[0m\u001b[1;33m.\u001b[0m\u001b[0mget\u001b[0m\u001b[1;33m(\u001b[0m\u001b[1;36m400\u001b[0m\u001b[1;33m)\u001b[0m\u001b[1;33m)\u001b[0m\u001b[1;33m\u001b[0m\u001b[1;33m\u001b[0m\u001b[0m\n\u001b[1;32m----> 4\u001b[1;33m \u001b[0mprint\u001b[0m\u001b[1;33m(\u001b[0m\u001b[0md1\u001b[0m\u001b[1;33m[\u001b[0m\u001b[1;36m400\u001b[0m\u001b[1;33m]\u001b[0m\u001b[1;33m)\u001b[0m \u001b[1;31m# Normal Method d[Key] will return KeyErrr\u001b[0m\u001b[1;33m\u001b[0m\u001b[1;33m\u001b[0m\u001b[0m\n\u001b[0m",
      "\u001b[1;31mKeyError\u001b[0m: 400"
     ]
    }
   ],
   "source": [
    "d1={100:'A',200:'B',300:'C'}\n",
    "print(d1.get(300))\n",
    "print(d1.get(400))\n",
    "print(d1[400]) # Normal Method d[Key] will return KeyErrr"
   ]
  },
  {
   "cell_type": "code",
   "execution_count": 60,
   "metadata": {},
   "outputs": [
    {
     "name": "stdout",
     "output_type": "stream",
     "text": [
      "Key Not Available\n"
     ]
    }
   ],
   "source": [
    "print(d1.get(400,'Key Not Available')) # It returns \"Key Not Available\" instead of \"None\" since the Key is not avilable in Dictionary"
   ]
  },
  {
   "cell_type": "markdown",
   "metadata": {},
   "source": [
    "**dict2.update(dict2)**\n",
    "> It will add all the Key-Value Pairs present in the dict2 to the dict1"
   ]
  },
  {
   "cell_type": "code",
   "execution_count": 61,
   "metadata": {},
   "outputs": [
    {
     "name": "stdout",
     "output_type": "stream",
     "text": [
      "{100: 'A', 200: 'B', 300: 'C', 400: 'D'}\n"
     ]
    }
   ],
   "source": [
    "d1={100:'A',200:'B'}\n",
    "d2={300:'C',400:'D'}\n",
    "d1.update(d2) # Adding all the Key-Value pairs of d2 to d1.\n",
    "print(d1)"
   ]
  },
  {
   "cell_type": "code",
   "execution_count": 62,
   "metadata": {},
   "outputs": [
    {
     "name": "stdout",
     "output_type": "stream",
     "text": [
      "{100: 'E', 200: 'B', 300: 'C', 400: 'D'}\n"
     ]
    }
   ],
   "source": [
    "d1={100:'A',200:'B'}\n",
    "d2={300:'C',400:'D',100:'E'}\n",
    "d1.update(d2) # Adding all the Key-Value pairs of d2 to d1.\n",
    "# since duplicates not allowed Old Value 'A' in d1 will be replaced with New Value 'E' present in d2.\n",
    "print(d1)"
   ]
  },
  {
   "cell_type": "markdown",
   "metadata": {},
   "source": [
    "**dict.keys()**\n",
    "> it will return all the keys present in a dictionary."
   ]
  },
  {
   "cell_type": "code",
   "execution_count": 63,
   "metadata": {},
   "outputs": [
    {
     "name": "stdout",
     "output_type": "stream",
     "text": [
      "dict_keys([300, 400, 100])\n"
     ]
    }
   ],
   "source": [
    "d2={300:'C',400:'D',100:'E'}\n",
    "k=d2.keys()\n",
    "print(k)"
   ]
  },
  {
   "cell_type": "code",
   "execution_count": 64,
   "metadata": {},
   "outputs": [
    {
     "name": "stdout",
     "output_type": "stream",
     "text": [
      "300\n",
      "400\n",
      "100\n"
     ]
    }
   ],
   "source": [
    "for key in d2.keys():\n",
    "    print(key)"
   ]
  },
  {
   "cell_type": "markdown",
   "metadata": {},
   "source": [
    "**dict.values()**\n",
    "> It will return all the values present in dictionary."
   ]
  },
  {
   "cell_type": "code",
   "execution_count": 65,
   "metadata": {},
   "outputs": [
    {
     "name": "stdout",
     "output_type": "stream",
     "text": [
      "dict_values(['C', 'D', 'E'])\n"
     ]
    }
   ],
   "source": [
    "d2={300:'C',400:'D',100:'E'}\n",
    "k=d2.values()\n",
    "print(k)"
   ]
  },
  {
   "cell_type": "code",
   "execution_count": 66,
   "metadata": {},
   "outputs": [
    {
     "name": "stdout",
     "output_type": "stream",
     "text": [
      "C\n",
      "D\n",
      "E\n"
     ]
    }
   ],
   "source": [
    "for i in k:\n",
    "    print(i)"
   ]
  },
  {
   "cell_type": "markdown",
   "metadata": {},
   "source": [
    "**dict.items()**\n",
    "> It will return all the Key-Value pairs in a dictionary in list of tuples format as below."
   ]
  },
  {
   "cell_type": "code",
   "execution_count": 67,
   "metadata": {},
   "outputs": [
    {
     "name": "stdout",
     "output_type": "stream",
     "text": [
      "dict_items([(300, 'C'), (400, 'D'), (100, 'A'), (200, 'B')])\n"
     ]
    }
   ],
   "source": [
    "d={300:'C',400:'D',100:'A',200:'B'}\n",
    "print(d.items())"
   ]
  },
  {
   "cell_type": "code",
   "execution_count": 68,
   "metadata": {},
   "outputs": [
    {
     "name": "stdout",
     "output_type": "stream",
     "text": [
      "(300, 'C')\n",
      "(400, 'D')\n",
      "(100, 'A')\n",
      "(200, 'B')\n"
     ]
    }
   ],
   "source": [
    "for key_value in d.items():\n",
    "    print(key_value)"
   ]
  },
  {
   "cell_type": "code",
   "execution_count": 69,
   "metadata": {},
   "outputs": [
    {
     "name": "stdout",
     "output_type": "stream",
     "text": [
      "300 -- C\n",
      "400 -- D\n",
      "100 -- A\n",
      "200 -- B\n"
     ]
    }
   ],
   "source": [
    "for key,value in d.items(): # Most commonly used way to access both key and values\n",
    "    print(key,'--',value)"
   ]
  },
  {
   "cell_type": "markdown",
   "metadata": {},
   "source": [
    "**WAP to get value based on key**"
   ]
  },
  {
   "cell_type": "code",
   "execution_count": 70,
   "metadata": {},
   "outputs": [
    {
     "name": "stdout",
     "output_type": "stream",
     "text": [
      "Enter Key Value: 100\n",
      "100 corresponding value is  A\n"
     ]
    }
   ],
   "source": [
    "d={300:'C',400:'D',100:'A',200:'B'}\n",
    "key=int(input(\"Enter Key Value: \"))\n",
    "if key in d.keys():\n",
    "    print(key,'corresponding value is ',d.get(key))\n",
    "else:\n",
    "    print(\"The Specified Key is not available\")"
   ]
  },
  {
   "cell_type": "markdown",
   "metadata": {},
   "source": [
    "**WAP to get key based on value**"
   ]
  },
  {
   "cell_type": "code",
   "execution_count": 72,
   "metadata": {},
   "outputs": [
    {
     "name": "stdout",
     "output_type": "stream",
     "text": [
      "Enter value to find key: A\n",
      "corresponding Key for the value A is 100\n",
      "corresponding Key for the value A is 500\n",
      "corresponding Key for the value A is 600\n"
     ]
    }
   ],
   "source": [
    "d={300:'C',400:'D',100:'A',200:'B',500:'A',600:'A'}\n",
    "value=input(\"Enter value to find key: \")\n",
    "available=False\n",
    "for k,v in d.items():\n",
    "    if v==value:\n",
    "        print('corresponding Key for the value {} is {}'.format(v,k))\n",
    "        available=True\n",
    "if available == False:\n",
    "    print(\"Specified value not available in the Dicionary\")"
   ]
  },
  {
   "cell_type": "markdown",
   "metadata": {},
   "source": [
    "**dict.pop(key)**\n",
    "> - It Removes items associated with specified key and returns the corresponding value which removed.<br>\n",
    "> - If specified key is not aavailable, KeyError will be raised."
   ]
  },
  {
   "cell_type": "code",
   "execution_count": 73,
   "metadata": {},
   "outputs": [
    {
     "name": "stdout",
     "output_type": "stream",
     "text": [
      "A\n",
      "{300: 'C', 400: 'D', 100: 'A', 200: 'B', 500: 'A'}\n"
     ]
    }
   ],
   "source": [
    "d={300:'C',400:'D',100:'A',200:'B',500:'A',600:'A'}\n",
    "print(d.pop(600))\n",
    "print(d)"
   ]
  },
  {
   "cell_type": "code",
   "execution_count": 74,
   "metadata": {},
   "outputs": [
    {
     "ename": "KeyError",
     "evalue": "700",
     "output_type": "error",
     "traceback": [
      "\u001b[1;31m---------------------------------------------------------------------------\u001b[0m",
      "\u001b[1;31mKeyError\u001b[0m                                  Traceback (most recent call last)",
      "\u001b[1;32m<ipython-input-74-fc4103844b3a>\u001b[0m in \u001b[0;36m<module>\u001b[1;34m\u001b[0m\n\u001b[1;32m----> 1\u001b[1;33m \u001b[0mprint\u001b[0m\u001b[1;33m(\u001b[0m\u001b[0md\u001b[0m\u001b[1;33m.\u001b[0m\u001b[0mpop\u001b[0m\u001b[1;33m(\u001b[0m\u001b[1;36m700\u001b[0m\u001b[1;33m)\u001b[0m\u001b[1;33m)\u001b[0m \u001b[1;31m# Key 700 is not in the List\u001b[0m\u001b[1;33m\u001b[0m\u001b[1;33m\u001b[0m\u001b[0m\n\u001b[0m",
      "\u001b[1;31mKeyError\u001b[0m: 700"
     ]
    }
   ],
   "source": [
    "print(d.pop(700)) # Key 700 is not in the List"
   ]
  },
  {
   "cell_type": "markdown",
   "metadata": {},
   "source": [
    "**dict.pop(key,value)**\n",
    "> - It Removes items associated with specified key and returns the corresponding value which removed.<br>\n",
    "> - If specified key is not aavailable, KeyError will not raise as we will specify the Value to be displayed. Provided value will be returned instead of KeyError."
   ]
  },
  {
   "cell_type": "code",
   "execution_count": 75,
   "metadata": {},
   "outputs": [
    {
     "name": "stdout",
     "output_type": "stream",
     "text": [
      "Key Value Not Available\n"
     ]
    }
   ],
   "source": [
    "d={300:'C',400:'D',100:'A',200:'B',500:'A',600:'A'}\n",
    "print(d.pop(700,'Key Value Not Available')) #returns 'Key Value Not Available' as Key 700 is not avaiable in the dictionary."
   ]
  },
  {
   "cell_type": "markdown",
   "metadata": {},
   "source": [
    "**dict.popitem()**\n",
    "> - It removes a random Key-Value Pair from the dictionary.<br>\n",
    "> - If all the items are removed from the dict, KeyError will be raised if the popitem() is performed on empty Dictionary."
   ]
  },
  {
   "cell_type": "code",
   "execution_count": 76,
   "metadata": {},
   "outputs": [
    {
     "name": "stdout",
     "output_type": "stream",
     "text": [
      "(600, 'A')\n",
      "{300: 'C', 400: 'D', 100: 'A', 200: 'B', 500: 'A'}\n"
     ]
    }
   ],
   "source": [
    "d={300:'C',400:'D',100:'A',200:'B',500:'A',600:'A'}\n",
    "print(d.popitem())\n",
    "print(d)"
   ]
  },
  {
   "cell_type": "code",
   "execution_count": 77,
   "metadata": {},
   "outputs": [
    {
     "name": "stdout",
     "output_type": "stream",
     "text": [
      "(500, 'A')\n"
     ]
    }
   ],
   "source": [
    "print(d.popitem())"
   ]
  },
  {
   "cell_type": "code",
   "execution_count": 78,
   "metadata": {},
   "outputs": [
    {
     "name": "stdout",
     "output_type": "stream",
     "text": [
      "(200, 'B')\n"
     ]
    }
   ],
   "source": [
    "print(d.popitem())"
   ]
  },
  {
   "cell_type": "markdown",
   "metadata": {},
   "source": [
    "**dict.clear()**\n",
    "> It removes all the items from the dictionary. Dictionary will become empty"
   ]
  },
  {
   "cell_type": "code",
   "execution_count": 79,
   "metadata": {},
   "outputs": [
    {
     "name": "stdout",
     "output_type": "stream",
     "text": [
      "{}\n"
     ]
    }
   ],
   "source": [
    "d={300:'C',400:'D',100:'A',200:'B',500:'A',600:'A'}\n",
    "d.clear() # All items will be removed\n",
    "print(d) # empty dictionary will be displayed"
   ]
  },
  {
   "cell_type": "markdown",
   "metadata": {},
   "source": [
    "**dict.setdefault(key,value)**\n",
    "> - It will add the new key-value pair to the dict if the specified key is not available in the dict.<br>\n",
    "> - If the key is already available in the dict,then simply it will return the associated value without any replacement. it will not replace the old value with the value specified like in **\"dict[key]=value\"**."
   ]
  },
  {
   "cell_type": "code",
   "execution_count": 80,
   "metadata": {},
   "outputs": [
    {
     "name": "stdout",
     "output_type": "stream",
     "text": [
      "C\n",
      "{100: 'A', 200: 'B', 300: 'C'}\n"
     ]
    }
   ],
   "source": [
    "d={100:'A',200:'B'}\n",
    "print(d.setdefault(300,'C')) #Since Key 300 is not available in d. it will add this Key-Value (300,'C') to d.\n",
    "print(d)"
   ]
  },
  {
   "cell_type": "code",
   "execution_count": 81,
   "metadata": {},
   "outputs": [
    {
     "name": "stdout",
     "output_type": "stream",
     "text": [
      "A\n",
      "{100: 'A', 200: 'B', 300: 'C'}\n"
     ]
    }
   ],
   "source": [
    "print(d.setdefault(100,'Sunny')) # It simply displays the existing value of key 100 instead of replacing old value with new value\n",
    "print(d)"
   ]
  },
  {
   "cell_type": "markdown",
   "metadata": {},
   "source": [
    "### Aliasing and Cloning"
   ]
  },
  {
   "cell_type": "markdown",
   "metadata": {},
   "source": [
    "**Aliasing** and **cloning** applicable for dictionaries"
   ]
  },
  {
   "cell_type": "code",
   "execution_count": 82,
   "metadata": {},
   "outputs": [
    {
     "name": "stdout",
     "output_type": "stream",
     "text": [
      "{100: 'A', 200: 'B', 300: 'C'}\n",
      "{100: 'A', 200: 'B', 300: 'C'}\n"
     ]
    }
   ],
   "source": [
    "#After Aliasing, if any change made to any one dict, that changes will be applicable to other dictionary as well.\n",
    "d1={100:'A',200:'B'}\n",
    "d2=d1 # Aliasing\n",
    "d1[300]='C' # This change will be made to d2 also.\n",
    "print(d1)\n",
    "print(d2)"
   ]
  },
  {
   "cell_type": "code",
   "execution_count": 83,
   "metadata": {},
   "outputs": [
    {
     "name": "stdout",
     "output_type": "stream",
     "text": [
      "{100: 'A', 200: 'B', 300: 'C'}\n",
      "{100: 'A', 200: 'B'}\n"
     ]
    }
   ],
   "source": [
    "#After cloning, if any change made to any one dict, that changes will be not applicable to other dictionary.\n",
    "d1={100:'A',200:'B'}\n",
    "d2=d1.copy() # cloning\n",
    "d1[300]='C' # This change will be made only to d1. d2 will remain same.\n",
    "print(d1)\n",
    "print(d2)"
   ]
  },
  {
   "cell_type": "markdown",
   "metadata": {},
   "source": [
    "**Program to take dictionary from the keyboard and print sum of values**"
   ]
  },
  {
   "cell_type": "code",
   "execution_count": 84,
   "metadata": {},
   "outputs": [
    {
     "name": "stdout",
     "output_type": "stream",
     "text": [
      "Enter Dictionary: {'A':100,'B':200}\n",
      "The Sum of values: 300\n"
     ]
    }
   ],
   "source": [
    "d=eval(input(\"Enter Dictionary: \"))\n",
    "sum=0\n",
    "for item in d.items():\n",
    "    sum=sum+item[1]\n",
    "print(\"The Sum of values:\",sum)    "
   ]
  },
  {
   "cell_type": "code",
   "execution_count": 2,
   "metadata": {},
   "outputs": [
    {
     "name": "stdout",
     "output_type": "stream",
     "text": [
      "Enter Dictionary: {'A':100,'B':200}\n"
     ]
    },
    {
     "data": {
      "text/plain": [
       "dict_values([100, 200])"
      ]
     },
     "execution_count": 2,
     "metadata": {},
     "output_type": "execute_result"
    }
   ],
   "source": [
    "d1=eval(input(\"Enter Dictionary: \"))\n",
    "d1.values()"
   ]
  },
  {
   "cell_type": "code",
   "execution_count": 3,
   "metadata": {},
   "outputs": [
    {
     "name": "stdout",
     "output_type": "stream",
     "text": [
      "300\n"
     ]
    }
   ],
   "source": [
    "print(sum(d1.values()))"
   ]
  },
  {
   "cell_type": "markdown",
   "metadata": {},
   "source": [
    "**Program to find number of occurrences of each letter present in the given string**"
   ]
  },
  {
   "cell_type": "code",
   "execution_count": 5,
   "metadata": {},
   "outputs": [
    {
     "name": "stdout",
     "output_type": "stream",
     "text": [
      "Enter any string: AAABBC\n",
      "A  Occurs  3  times\n",
      "B  Occurs  2  times\n",
      "C  Occurs  1  times\n"
     ]
    }
   ],
   "source": [
    "word=input(\"Enter any string: \")\n",
    "d={}\n",
    "for ch in word:\n",
    "    d[ch]=d.get(ch,0)+1\n",
    "for k,v in d.items():\n",
    "    print(k,' Occurs ',v,' times')"
   ]
  },
  {
   "cell_type": "markdown",
   "metadata": {},
   "source": [
    "**Program to find number of occurrences of each vowel present in the given string**"
   ]
  },
  {
   "cell_type": "code",
   "execution_count": 9,
   "metadata": {},
   "outputs": [
    {
     "name": "stdout",
     "output_type": "stream",
     "text": [
      "Enter any string: Marias Irukudnak\n",
      "I  Occurs  1  times\n",
      "a  Occurs  3  times\n",
      "i  Occurs  1  times\n",
      "u  Occurs  2  times\n"
     ]
    }
   ],
   "source": [
    "word=input(\"Enter any string: \")\n",
    "vowels=['a','e','i','o','u','A','E','I','O','U']\n",
    "d={}\n",
    "for ch in word:\n",
    "    if ch in vowels:\n",
    "        d[ch]=d.get(ch,0)+1\n",
    "for k,v in sorted(d.items()):\n",
    "    print(k,' Occurs ',v,' times')"
   ]
  },
  {
   "cell_type": "markdown",
   "metadata": {},
   "source": [
    "**WAP to accept student name and marks from the keyboard and creates a dictionary. Also display student marks by taking student name as input.**  "
   ]
  },
  {
   "cell_type": "code",
   "execution_count": 18,
   "metadata": {},
   "outputs": [
    {
     "name": "stdout",
     "output_type": "stream",
     "text": [
      "Enter No. of students:3\n",
      "Enter Student Name: ram\n",
      "Enter Marks of the Student: 20\n",
      "Enter Student Name: sai\n",
      "Enter Marks of the Student: 25\n",
      "Enter Student Name: dhana\n",
      "Enter Marks of the Student: 22\n",
      "\n",
      "Student Data Insertion Completed\n",
      "\n",
      "*************************\n",
      "NAME \t\t MARKS\n",
      "*************************\n",
      "ram \t\t 20\n",
      "sai \t\t 25\n",
      "dhana \t\t 22\n",
      "\n",
      "Search Operation Started\n",
      "\n",
      "\n",
      "Enter Student Name to get the Marks:ram\n",
      "\n",
      "Marks of  ram  are:  20\n",
      "\n",
      "Do you want to find another student marks(Yes or No)donkey\n",
      "\n",
      "Enter Student Name to get the Marks:donkey\n",
      "\n",
      "Student Name Not Found\n",
      "\n",
      "\n",
      "Do you want to find another student marks(Yes or No)yes\n",
      "\n",
      "Enter Student Name to get the Marks:dhana\n",
      "\n",
      "Marks of  dhana  are:  22\n",
      "\n",
      "Do you want to find another student marks(Yes or No)no\n",
      "\n",
      "Thanks for using our application\n"
     ]
    }
   ],
   "source": [
    "n=int(input(\"Enter No. of students:\"))\n",
    "d={}\n",
    "for i in range(n):\n",
    "    name=input(\"Enter Student Name: \")\n",
    "    marks=int(input(\"Enter Marks of the Student: \"))\n",
    "    d[name]=marks\n",
    "print(\"\\nStudent Data Insertion Completed\\n\")\n",
    "print(\"*\"*25)\n",
    "print(\"NAME\",'\\t\\t','MARKS')\n",
    "print(\"*\"*25)\n",
    "for k,v in d.items():\n",
    "    print(k,'\\t\\t',v)\n",
    "print(\"\\nSearch Operation Started\\n\")\n",
    "while True:\n",
    "    name=input(\"\\nEnter Student Name to get the Marks:\")\n",
    "    marks=d.get(name,-1)\n",
    "    if marks == -1:\n",
    "        print(\"\\nStudent Name Not Found\\n\")\n",
    "    else:\n",
    "        print(\"\\nMarks of \",name,\" are: \",marks)\n",
    "    option=input(\"\\nDo you want to find another student marks(Yes or No)\")\n",
    "    if option.lower()=='no':\n",
    "        break\n",
    "print(\"\\nThanks for using our application\")    "
   ]
  },
  {
   "cell_type": "markdown",
   "metadata": {},
   "source": [
    "# Dict Comprehension"
   ]
  },
  {
   "cell_type": "code",
   "execution_count": 20,
   "metadata": {},
   "outputs": [
    {
     "name": "stdout",
     "output_type": "stream",
     "text": [
      "{1: 1, 2: 4, 3: 9, 4: 16, 5: 25}\n"
     ]
    }
   ],
   "source": [
    "# Comprehesion Concept applicable for Dictionary also.\n",
    "# Before : whatever there is considered as \"Key\" and After Column the espression is considered a \"Value\"\n",
    "d={x:x*x for x in range(1,6)}\n",
    "print(d)"
   ]
  },
  {
   "cell_type": "code",
   "execution_count": 22,
   "metadata": {},
   "outputs": [
    {
     "name": "stdout",
     "output_type": "stream",
     "text": [
      "{1: 2, 2: 4, 3: 8, 4: 16, 5: 32}\n"
     ]
    }
   ],
   "source": [
    "d={x:2**x for x in range(1,6)}\n",
    "print(d)"
   ]
  },
  {
   "cell_type": "markdown",
   "metadata": {},
   "source": [
    "# Merging of Collections"
   ]
  },
  {
   "cell_type": "markdown",
   "metadata": {},
   "source": [
    "**1) List Merging:**<br>\n"
   ]
  },
  {
   "cell_type": "code",
   "execution_count": 23,
   "metadata": {},
   "outputs": [
    {
     "name": "stdout",
     "output_type": "stream",
     "text": [
      "[10, 20, 30, 40]\n"
     ]
    }
   ],
   "source": [
    "l1=[10,20]\n",
    "l2=[30,40]\n",
    "l3=l1+l2\n",
    "print(l3)"
   ]
  },
  {
   "cell_type": "markdown",
   "metadata": {},
   "source": [
    "Since we can't apply '+' operator for sets and dictionaries, we need an alternative method to merge the collections unlike the traditional method we used for list and tuple."
   ]
  },
  {
   "cell_type": "code",
   "execution_count": 25,
   "metadata": {},
   "outputs": [
    {
     "name": "stdout",
     "output_type": "stream",
     "text": [
      "[10, 20, 30, 40]\n"
     ]
    }
   ],
   "source": [
    "l3=[*l1,*l2] # (*l1) all objects of l1 and (*l2) all objects of l2 are added to l3\n",
    "print(l3) #all values of l1 and l2 will returned"
   ]
  },
  {
   "cell_type": "markdown",
   "metadata": {},
   "source": [
    " - *l1 means \"all objects present in l1\"<br>\n",
    " - *l2 means \"all objects present in l2\""
   ]
  },
  {
   "cell_type": "markdown",
   "metadata": {},
   "source": [
    "**2) Tuple Merging**"
   ]
  },
  {
   "cell_type": "code",
   "execution_count": 26,
   "metadata": {},
   "outputs": [
    {
     "name": "stdout",
     "output_type": "stream",
     "text": [
      "(10, 20, 30, 40)\n"
     ]
    }
   ],
   "source": [
    "t1=(10,20)\n",
    "t2=(30,40)\n",
    "t3=t1+t2\n",
    "print(t3)"
   ]
  },
  {
   "cell_type": "code",
   "execution_count": 28,
   "metadata": {},
   "outputs": [
    {
     "name": "stdout",
     "output_type": "stream",
     "text": [
      "(10, 20, 30, 40)\n"
     ]
    }
   ],
   "source": [
    "t4=(*t1,*t2) # (*t1) all objects of t1 and (*t2) all objects of t2 are added to t4\n",
    "print(t4)"
   ]
  },
  {
   "cell_type": "markdown",
   "metadata": {},
   "source": [
    "**3) Set Merging**"
   ]
  },
  {
   "cell_type": "code",
   "execution_count": 29,
   "metadata": {},
   "outputs": [
    {
     "ename": "TypeError",
     "evalue": "unsupported operand type(s) for +: 'set' and 'set'",
     "output_type": "error",
     "traceback": [
      "\u001b[1;31m---------------------------------------------------------------------------\u001b[0m",
      "\u001b[1;31mTypeError\u001b[0m                                 Traceback (most recent call last)",
      "\u001b[1;32m<ipython-input-29-d7de92ae0d63>\u001b[0m in \u001b[0;36m<module>\u001b[1;34m\u001b[0m\n\u001b[0;32m      1\u001b[0m \u001b[0ms1\u001b[0m\u001b[1;33m=\u001b[0m\u001b[1;33m{\u001b[0m\u001b[1;36m10\u001b[0m\u001b[1;33m,\u001b[0m\u001b[1;36m20\u001b[0m\u001b[1;33m}\u001b[0m\u001b[1;33m\u001b[0m\u001b[1;33m\u001b[0m\u001b[0m\n\u001b[0;32m      2\u001b[0m \u001b[0ms2\u001b[0m\u001b[1;33m=\u001b[0m\u001b[1;33m{\u001b[0m\u001b[1;36m30\u001b[0m\u001b[1;33m,\u001b[0m\u001b[1;36m40\u001b[0m\u001b[1;33m}\u001b[0m\u001b[1;33m\u001b[0m\u001b[1;33m\u001b[0m\u001b[0m\n\u001b[1;32m----> 3\u001b[1;33m \u001b[0ms3\u001b[0m\u001b[1;33m=\u001b[0m\u001b[0ms1\u001b[0m\u001b[1;33m+\u001b[0m\u001b[0ms2\u001b[0m \u001b[1;31m# '+' Operator not applicable for set, this will raise an TypeError\u001b[0m\u001b[1;33m\u001b[0m\u001b[1;33m\u001b[0m\u001b[0m\n\u001b[0m\u001b[0;32m      4\u001b[0m \u001b[0mprint\u001b[0m\u001b[1;33m(\u001b[0m\u001b[0ms3\u001b[0m\u001b[1;33m)\u001b[0m\u001b[1;33m\u001b[0m\u001b[1;33m\u001b[0m\u001b[0m\n",
      "\u001b[1;31mTypeError\u001b[0m: unsupported operand type(s) for +: 'set' and 'set'"
     ]
    }
   ],
   "source": [
    "s1={10,20}\n",
    "s2={30,40}\n",
    "s3=s1+s2 # '+' Operator not applicable for set, this will raise an TypeError. This approach will not work for set merging.\n",
    "print(s3)\n"
   ]
  },
  {
   "cell_type": "code",
   "execution_count": 31,
   "metadata": {},
   "outputs": [
    {
     "name": "stdout",
     "output_type": "stream",
     "text": [
      "{40, 10, 20, 30}\n"
     ]
    }
   ],
   "source": [
    "s3={*s1,*s2} # (*s1) all objects of s1 and (*s2) all objects of s2 are added to s3, we cant guarantee the order.\n",
    "print(s3)"
   ]
  },
  {
   "cell_type": "code",
   "execution_count": 32,
   "metadata": {},
   "outputs": [
    {
     "name": "stdout",
     "output_type": "stream",
     "text": [
      "{20, 40, 10, 30}\n"
     ]
    }
   ],
   "source": [
    "# Duplicate values will be removed while merging if exists in s1 and s2.\n",
    "s1={10,20}\n",
    "s2={30,40,10}\n",
    "s3={*s1,*s2}\n",
    "print(s3)"
   ]
  },
  {
   "cell_type": "markdown",
   "metadata": {},
   "source": [
    "**4) Dictionary Merging**"
   ]
  },
  {
   "cell_type": "code",
   "execution_count": 33,
   "metadata": {},
   "outputs": [
    {
     "ename": "TypeError",
     "evalue": "unsupported operand type(s) for +: 'dict' and 'dict'",
     "output_type": "error",
     "traceback": [
      "\u001b[1;31m---------------------------------------------------------------------------\u001b[0m",
      "\u001b[1;31mTypeError\u001b[0m                                 Traceback (most recent call last)",
      "\u001b[1;32m<ipython-input-33-131c77f70bba>\u001b[0m in \u001b[0;36m<module>\u001b[1;34m\u001b[0m\n\u001b[0;32m      1\u001b[0m \u001b[0md1\u001b[0m\u001b[1;33m=\u001b[0m\u001b[1;33m{\u001b[0m\u001b[1;36m100\u001b[0m\u001b[1;33m:\u001b[0m\u001b[1;34m'A'\u001b[0m\u001b[1;33m,\u001b[0m\u001b[1;36m200\u001b[0m\u001b[1;33m:\u001b[0m\u001b[1;34m'B'\u001b[0m\u001b[1;33m}\u001b[0m\u001b[1;33m\u001b[0m\u001b[1;33m\u001b[0m\u001b[0m\n\u001b[0;32m      2\u001b[0m \u001b[0md2\u001b[0m\u001b[1;33m=\u001b[0m\u001b[1;33m{\u001b[0m\u001b[1;36m300\u001b[0m\u001b[1;33m:\u001b[0m\u001b[1;34m'C'\u001b[0m\u001b[1;33m,\u001b[0m\u001b[1;36m400\u001b[0m\u001b[1;33m:\u001b[0m\u001b[1;34m'D'\u001b[0m\u001b[1;33m}\u001b[0m\u001b[1;33m\u001b[0m\u001b[1;33m\u001b[0m\u001b[0m\n\u001b[1;32m----> 3\u001b[1;33m \u001b[0md3\u001b[0m\u001b[1;33m=\u001b[0m\u001b[0md1\u001b[0m\u001b[1;33m+\u001b[0m\u001b[0md2\u001b[0m \u001b[1;31m# this will raise TypeError\u001b[0m\u001b[1;33m\u001b[0m\u001b[1;33m\u001b[0m\u001b[0m\n\u001b[0m\u001b[0;32m      4\u001b[0m \u001b[0mprint\u001b[0m\u001b[1;33m(\u001b[0m\u001b[0md3\u001b[0m\u001b[1;33m)\u001b[0m\u001b[1;33m\u001b[0m\u001b[1;33m\u001b[0m\u001b[0m\n",
      "\u001b[1;31mTypeError\u001b[0m: unsupported operand type(s) for +: 'dict' and 'dict'"
     ]
    }
   ],
   "source": [
    "d1={100:'A',200:'B'}\n",
    "d2={300:'C',400:'D'}\n",
    "d3=d1+d2 # this will raise TypeError\n",
    "print(d3)"
   ]
  },
  {
   "cell_type": "markdown",
   "metadata": {},
   "source": [
    "Since we will have Keys and values in dict. We need to capture both and merge as follows from both dictionaries.<br><br>\n",
    "Assume, since key and value are two, we need two stars for remembering it simply. Actual reason will be discussed later."
   ]
  },
  {
   "cell_type": "code",
   "execution_count": 34,
   "metadata": {},
   "outputs": [
    {
     "name": "stdout",
     "output_type": "stream",
     "text": [
      "{100: 'A', 200: 'B', 300: 'C', 400: 'D'}\n"
     ]
    }
   ],
   "source": [
    "d3={**d1,**d2}#(**d1) all Key-Value pairs of d1 and (**d2) all Key-Value pairs of d2 are added to d3.\n",
    "print(d3)"
   ]
  },
  {
   "cell_type": "markdown",
   "metadata": {},
   "source": [
    "If there is any duplicate key while merging, new value will be merged to key. i.e if duplicate key of d2 is present in d1 also, d1 key value will be replaced with the value of the duplicate key in d2.<br><br> For Example"
   ]
  },
  {
   "cell_type": "code",
   "execution_count": 35,
   "metadata": {},
   "outputs": [
    {
     "name": "stdout",
     "output_type": "stream",
     "text": [
      "{100: 'E', 200: 'B', 300: 'C', 400: 'D'}\n"
     ]
    }
   ],
   "source": [
    "d1={100:'A',200:'B'}\n",
    "d2={300:'C',400:'D',100:'E'} # A in d1 will be replaced with E while merging since the 100 is duplicate in both d1 and d2.\n",
    "d3={**d1,**d2}\n",
    "print(d3)"
   ]
  },
  {
   "cell_type": "markdown",
   "metadata": {},
   "source": [
    "# Nested Collections"
   ]
  },
  {
   "cell_type": "code",
   "execution_count": 36,
   "metadata": {},
   "outputs": [
    {
     "data": {
      "text/plain": [
       "20"
      ]
     },
     "execution_count": 36,
     "metadata": {},
     "output_type": "execute_result"
    }
   ],
   "source": [
    "l1=[(10,20,30),(40,50,60)]\n",
    "l1[0][1] # to access 20 from l1"
   ]
  },
  {
   "cell_type": "code",
   "execution_count": 37,
   "metadata": {},
   "outputs": [
    {
     "data": {
      "text/plain": [
       "60"
      ]
     },
     "execution_count": 37,
     "metadata": {},
     "output_type": "execute_result"
    }
   ],
   "source": [
    "l1[1][2] # to access 60 from 1"
   ]
  },
  {
   "cell_type": "code",
   "execution_count": 38,
   "metadata": {},
   "outputs": [
    {
     "data": {
      "text/plain": [
       "(40, 50, 60)"
      ]
     },
     "execution_count": 38,
     "metadata": {},
     "output_type": "execute_result"
    }
   ],
   "source": [
    "l1[1] # 2nd tuple will be returned"
   ]
  },
  {
   "cell_type": "code",
   "execution_count": 39,
   "metadata": {},
   "outputs": [],
   "source": [
    "d={'cars':('Innova','Ford','Maruti'),\n",
    "  'mobiles':('Samsung','iphone','Nokia')}"
   ]
  },
  {
   "cell_type": "code",
   "execution_count": 43,
   "metadata": {},
   "outputs": [
    {
     "name": "stdout",
     "output_type": "stream",
     "text": [
      "('Innova', 'Ford', 'Maruti')\n",
      "Ford\n"
     ]
    }
   ],
   "source": [
    "# To Display second  car\n",
    "print(d['cars'])\n",
    "print(d['cars'][1]) # Normal way to access the values of the keys"
   ]
  },
  {
   "cell_type": "code",
   "execution_count": 44,
   "metadata": {},
   "outputs": [
    {
     "name": "stdout",
     "output_type": "stream",
     "text": [
      "Ford\n"
     ]
    }
   ],
   "source": [
    "print(d.get('cars')[1]) # This is one method to access the values in nested collections"
   ]
  },
  {
   "cell_type": "code",
   "execution_count": 46,
   "metadata": {},
   "outputs": [
    {
     "name": "stdout",
     "output_type": "stream",
     "text": [
      "Samsung\n",
      "iphone\n",
      "Nokia\n"
     ]
    }
   ],
   "source": [
    "# to display all mobile phones\n",
    "for x in d['mobiles']:\n",
    "    print(x)"
   ]
  },
  {
   "cell_type": "markdown",
   "metadata": {},
   "source": [
    "**Implementation of supermarket by using dict**"
   ]
  },
  {
   "cell_type": "code",
   "execution_count": 48,
   "metadata": {},
   "outputs": [],
   "source": [
    "supermarket={\n",
    "'store1':{\n",
    "    'name':'Durga General Store',\n",
    "    'items':[\n",
    "        {'name':'soap','quantity':20},\n",
    "        {'name':'brush','quantity':30},\n",
    "        {'name':'pen','quantity':40}]  \n",
    "    },\n",
    "'store2':{\n",
    "    'name':'Sunny Book Store',\n",
    "    'items':[\n",
    "        {'name':'python','quantity':100},\n",
    "        {'name':'Django','quantity':200},\n",
    "        {'name':'Java','quantity':300}\n",
    "    ]\n",
    "}}"
   ]
  },
  {
   "cell_type": "code",
   "execution_count": 53,
   "metadata": {},
   "outputs": [
    {
     "name": "stdout",
     "output_type": "stream",
     "text": [
      "Name of Store1: Durga General Store\n",
      "Name of Store1: Durga General Store\n"
     ]
    }
   ],
   "source": [
    "# To print name of store1\n",
    "print(\"Name of Store1:\",supermarket['store1']['name'])\n",
    "print(\"Name of Store1:\",supermarket.get('store1').get('name'))"
   ]
  },
  {
   "cell_type": "code",
   "execution_count": 54,
   "metadata": {},
   "outputs": [
    {
     "name": "stdout",
     "output_type": "stream",
     "text": [
      "soap\n",
      "brush\n",
      "pen\n"
     ]
    }
   ],
   "source": [
    "# Dispay names of all items present in store1\n",
    "for d in supermarket['store1']['items']:\n",
    "    print(d['name'])"
   ]
  },
  {
   "cell_type": "code",
   "execution_count": 55,
   "metadata": {},
   "outputs": [
    {
     "name": "stdout",
     "output_type": "stream",
     "text": [
      "200\n"
     ]
    }
   ],
   "source": [
    "# print the value of quantity for django\n",
    "for d in supermarket['store2']['items']:\n",
    "    if d['name']=='Django':\n",
    "        print(d['quantity'])"
   ]
  },
  {
   "cell_type": "markdown",
   "metadata": {},
   "source": [
    "### List Inside Set and Dictionary"
   ]
  },
  {
   "cell_type": "markdown",
   "metadata": {},
   "source": [
    "> - In set we can add elements based on hashcode.<br>\n",
    "> - In case of dictionary, elemets will be added based on hash code of the keys. Therefore in dict, key should be hashable.<br>\n",
    "> - In tuple is also hashable.<br>\n",
    "> - List is unhashable, so we cant add List as element in the Set and also we can't add list as a key in the dict. "
   ]
  },
  {
   "cell_type": "code",
   "execution_count": 56,
   "metadata": {},
   "outputs": [
    {
     "ename": "TypeError",
     "evalue": "unhashable type: 'list'",
     "output_type": "error",
     "traceback": [
      "\u001b[1;31m---------------------------------------------------------------------------\u001b[0m",
      "\u001b[1;31mTypeError\u001b[0m                                 Traceback (most recent call last)",
      "\u001b[1;32m<ipython-input-56-e033aa3ddea4>\u001b[0m in \u001b[0;36m<module>\u001b[1;34m\u001b[0m\n\u001b[1;32m----> 1\u001b[1;33m \u001b[0ms\u001b[0m\u001b[1;33m=\u001b[0m\u001b[1;33m{\u001b[0m\u001b[1;33m(\u001b[0m\u001b[1;36m10\u001b[0m\u001b[1;33m,\u001b[0m\u001b[1;36m20\u001b[0m\u001b[1;33m,\u001b[0m\u001b[1;36m30\u001b[0m\u001b[1;33m)\u001b[0m\u001b[1;33m,\u001b[0m\u001b[1;33m[\u001b[0m\u001b[1;36m30\u001b[0m\u001b[1;33m,\u001b[0m\u001b[1;36m40\u001b[0m\u001b[1;33m,\u001b[0m\u001b[1;36m50\u001b[0m\u001b[1;33m]\u001b[0m\u001b[1;33m}\u001b[0m\u001b[1;33m\u001b[0m\u001b[1;33m\u001b[0m\u001b[0m\n\u001b[0m\u001b[0;32m      2\u001b[0m \u001b[0mprint\u001b[0m\u001b[1;33m(\u001b[0m\u001b[0ms\u001b[0m\u001b[1;33m)\u001b[0m\u001b[1;33m\u001b[0m\u001b[1;33m\u001b[0m\u001b[0m\n",
      "\u001b[1;31mTypeError\u001b[0m: unhashable type: 'list'"
     ]
    }
   ],
   "source": [
    "s={(10,20,30),[30,40,50]}\n",
    "print(s)"
   ]
  },
  {
   "cell_type": "code",
   "execution_count": 57,
   "metadata": {},
   "outputs": [
    {
     "name": "stdout",
     "output_type": "stream",
     "text": [
      "{(10, 20): 'item1'}\n"
     ]
    }
   ],
   "source": [
    "d={(10,20):'item1'}\n",
    "print(d)"
   ]
  },
  {
   "cell_type": "code",
   "execution_count": 58,
   "metadata": {},
   "outputs": [
    {
     "ename": "TypeError",
     "evalue": "unhashable type: 'list'",
     "output_type": "error",
     "traceback": [
      "\u001b[1;31m---------------------------------------------------------------------------\u001b[0m",
      "\u001b[1;31mTypeError\u001b[0m                                 Traceback (most recent call last)",
      "\u001b[1;32m<ipython-input-58-b368b81cc498>\u001b[0m in \u001b[0;36m<module>\u001b[1;34m\u001b[0m\n\u001b[1;32m----> 1\u001b[1;33m \u001b[0md\u001b[0m\u001b[1;33m=\u001b[0m\u001b[1;33m{\u001b[0m\u001b[1;33m(\u001b[0m\u001b[1;36m10\u001b[0m\u001b[1;33m,\u001b[0m\u001b[1;36m20\u001b[0m\u001b[1;33m)\u001b[0m\u001b[1;33m:\u001b[0m\u001b[1;34m'item1'\u001b[0m\u001b[1;33m,\u001b[0m\u001b[1;33m[\u001b[0m\u001b[1;36m30\u001b[0m\u001b[1;33m,\u001b[0m\u001b[1;36m40\u001b[0m\u001b[1;33m]\u001b[0m\u001b[1;33m:\u001b[0m\u001b[1;34m'item2'\u001b[0m\u001b[1;33m}\u001b[0m\u001b[1;33m\u001b[0m\u001b[1;33m\u001b[0m\u001b[0m\n\u001b[0m\u001b[0;32m      2\u001b[0m \u001b[0mprint\u001b[0m\u001b[1;33m(\u001b[0m\u001b[0md\u001b[0m\u001b[1;33m)\u001b[0m\u001b[1;33m\u001b[0m\u001b[1;33m\u001b[0m\u001b[0m\n",
      "\u001b[1;31mTypeError\u001b[0m: unhashable type: 'list'"
     ]
    }
   ],
   "source": [
    "d={(10,20):'item1',[30,40]:'item2'} # TypeError will be raised because, dict can't accept the unhashable items as keys.\n",
    "print(d)"
   ]
  },
  {
   "cell_type": "code",
   "execution_count": 59,
   "metadata": {},
   "outputs": [
    {
     "name": "stdout",
     "output_type": "stream",
     "text": [
      "{(10, 20): 'item1', (30, 40): [30, 40]}\n"
     ]
    }
   ],
   "source": [
    "d={(10,20):'item1',(30,40):[30,40]} # As a value we can take the list, As a key we cant add List in Dict.\n",
    "print(d)"
   ]
  },
  {
   "cell_type": "markdown",
   "metadata": {},
   "source": [
    "# The END"
   ]
  }
 ],
 "metadata": {
  "kernelspec": {
   "display_name": "Python 3",
   "language": "python",
   "name": "python3"
  },
  "language_info": {
   "codemirror_mode": {
    "name": "ipython",
    "version": 3
   },
   "file_extension": ".py",
   "mimetype": "text/x-python",
   "name": "python",
   "nbconvert_exporter": "python",
   "pygments_lexer": "ipython3",
   "version": "3.8.3"
  }
 },
 "nbformat": 4,
 "nbformat_minor": 4
}
