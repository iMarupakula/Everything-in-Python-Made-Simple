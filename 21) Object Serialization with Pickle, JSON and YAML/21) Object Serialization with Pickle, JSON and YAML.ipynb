{
 "cells": [
  {
   "cell_type": "markdown",
   "metadata": {},
   "source": [
    "# Object Serialization\n",
    "The process of converting an object from python supported form to either file supported form or network supported form, is called serialization (Marshalling or pickling)<br><br>\n",
    "The process of converting an object from either file supported form or network supported form to python supported form is called deserialization (Unmarshalling or unpickling).<br><br>\n",
    "Object Serialization by using Pickle<br>\n",
    "Object Serialization by using JSON<br>\n",
    "Object Serialization by using YAML<br><br>\n",
    "\n",
    "### Object Serialization by using Pickle:\n",
    "We can perform serialization and deserialization of an object wrt file by using **pickle** module. It is Python's inbuilt module.<br><br>\n",
    "pickle module contains dump() function to perform Serialization(pickling).<br> &ensp;&ensp;&ensp;&ensp;&ensp;&ensp;**pickle.dump(object,file)**<br><br>\n",
    "pickle module contains load() function to perform Deserialization (unpickling).<br> &ensp;&ensp;&ensp;&ensp;&ensp;&ensp;**object = pickle.load(file)**<br><br>\n",
    "\n",
    "**Program to perform pickling and unpickling of Employee Object:**"
   ]
  },
  {
   "cell_type": "code",
   "execution_count": 4,
   "metadata": {},
   "outputs": [
    {
     "name": "stdout",
     "output_type": "stream",
     "text": [
      "Pickling of employee object completed\n",
      "Unpicking of Employee Object completed\n",
      "Printing Employee Information....\n",
      "Eno:100,EName:Sairam,ESal:1000,EAddress:Hyd\n"
     ]
    }
   ],
   "source": [
    "import pickle\n",
    "class Employee:\n",
    "    def __init__(self,eno,ename,esal,eaddress):\n",
    "        self.eno = eno\n",
    "        self.ename = ename\n",
    "        self.esal = esal\n",
    "        self.eaddress = eaddress\n",
    "    \n",
    "    def display(self):\n",
    "        print('Eno:{},EName:{},ESal:{},EAddress:{}'.format(self.eno,self.ename,self.esal,self.eaddress))\n",
    "\n",
    "e=Employee(100,'Sairam',1000,'Hyd')\n",
    "\n",
    "# Performing Serialization\n",
    "with open(\"Supportive_Files/emp.ser\",'wb') as f:\n",
    "    pickle.dump(e,f)\n",
    "print(\"Pickling of employee object completed\")\n",
    "\n",
    "# Performing deserialization\n",
    "with open(\"Supportive_Files/emp.ser\",'rb') as f:\n",
    "    newobj = pickle.load(f)\n",
    "print(\"Unpicking of Employee Object completed\")\n",
    "print(\"Printing Employee Information....\")\n",
    "newobj.display()"
   ]
  },
  {
   "cell_type": "markdown",
   "metadata": {},
   "source": [
    "### Program for Serializing Multiple Employee objects to the file:\n",
    "Based on our requirement, we can serialize any number of objects to the file."
   ]
  },
  {
   "cell_type": "code",
   "execution_count": 1,
   "metadata": {},
   "outputs": [],
   "source": [
    "# This is the code in the saved in emp.py file.\n",
    "\n",
    "class Employee:\n",
    "    def __init__(self,eno,ename,esal,eaddress):\n",
    "        self.eno = eno\n",
    "        self.ename = ename\n",
    "        self.esal = esal\n",
    "        self.eaddress = eaddress\n",
    "    \n",
    "    def display(self):\n",
    "        print('Eno:{},EName:{},ESal:{},EAddress {}'.format(self.eno,self.ename,self.esal,self.eaddress))"
   ]
  },
  {
   "cell_type": "code",
   "execution_count": 1,
   "metadata": {},
   "outputs": [
    {
     "name": "stdout",
     "output_type": "stream",
     "text": [
      "Enter Eno:1\n",
      "Enter EName:sai\n",
      "Enter ESal:25000\n",
      "Enter EAddress:A-404\n",
      "Do You want to serealize another object [Yes|No]:yes\n",
      "Enter Eno:2\n",
      "Enter EName:ram\n",
      "Enter ESal:30000\n",
      "Enter EAddress:A-402\n",
      "Do You want to serealize another object [Yes|No]:yes\n",
      "Enter Eno:3\n",
      "Enter EName:dhana\n",
      "Enter ESal:25000\n",
      "Enter EAddress:A-403\n",
      "Do You want to serealize another object [Yes|No]:no\n",
      "Multiple Employee Objects Serialized\n"
     ]
    }
   ],
   "source": [
    "# sender code is responsilble to create multiple Employee objects and serialize and save to file. \n",
    "\n",
    "from emp import Employee\n",
    "import pickle\n",
    "f=open(\"Supportive_Files/emp.ser\",'wb')\n",
    "while True:\n",
    "    eno = int(input(\"Enter Eno:\"))\n",
    "    ename = input(\"Enter EName:\")\n",
    "    esal = float(input(\"Enter ESal:\"))\n",
    "    eaddress = input(\"Enter EAddress:\")\n",
    "    e = Employee(eno,ename,esal,eaddress)\n",
    "    pickle.dump(e,f)\n",
    "    option = input(\"Do You want to serealize another object [Yes|No]:\")\n",
    "    if option.lower()=='no':\n",
    "        break\n",
    "print(\"Multiple Employee Objects Serialized\")"
   ]
  },
  {
   "cell_type": "code",
   "execution_count": 2,
   "metadata": {},
   "outputs": [
    {
     "name": "stdout",
     "output_type": "stream",
     "text": [
      "Deserialize Employee Object & Printing Data:\n",
      "Eno:1,EName:sai,ESal:25000.0,EAddress:A-404\n",
      "Eno:2,EName:ram,ESal:30000.0,EAddress:A-402\n",
      "Eno:3,EName:dhana,ESal:25000.0,EAddress:A-403\n"
     ]
    },
    {
     "ename": "EOFError",
     "evalue": "Ran out of input",
     "output_type": "error",
     "traceback": [
      "\u001b[1;31m---------------------------------------------------------------------------\u001b[0m",
      "\u001b[1;31mEOFError\u001b[0m                                  Traceback (most recent call last)",
      "\u001b[1;32m<ipython-input-2-2b9a33fb6c1d>\u001b[0m in \u001b[0;36m<module>\u001b[1;34m\u001b[0m\n\u001b[0;32m      6\u001b[0m \u001b[0mprint\u001b[0m\u001b[1;33m(\u001b[0m\u001b[1;34m\"Deserialize Employee Object & Printing Data:\"\u001b[0m\u001b[1;33m)\u001b[0m\u001b[1;33m\u001b[0m\u001b[1;33m\u001b[0m\u001b[0m\n\u001b[0;32m      7\u001b[0m \u001b[1;32mwhile\u001b[0m \u001b[1;32mTrue\u001b[0m\u001b[1;33m:\u001b[0m\u001b[1;33m\u001b[0m\u001b[1;33m\u001b[0m\u001b[0m\n\u001b[1;32m----> 8\u001b[1;33m     \u001b[0me\u001b[0m\u001b[1;33m=\u001b[0m\u001b[0mpickle\u001b[0m\u001b[1;33m.\u001b[0m\u001b[0mload\u001b[0m\u001b[1;33m(\u001b[0m\u001b[0mf\u001b[0m\u001b[1;33m)\u001b[0m\u001b[1;33m\u001b[0m\u001b[1;33m\u001b[0m\u001b[0m\n\u001b[0m\u001b[0;32m      9\u001b[0m     \u001b[0me\u001b[0m\u001b[1;33m.\u001b[0m\u001b[0mdisplay\u001b[0m\u001b[1;33m(\u001b[0m\u001b[1;33m)\u001b[0m\u001b[1;33m\u001b[0m\u001b[1;33m\u001b[0m\u001b[0m\n",
      "\u001b[1;31mEOFError\u001b[0m: Ran out of input"
     ]
    }
   ],
   "source": [
    "# Furtherly, Receiver will read this Employee data from saved file whenever required.\n",
    "# So Deserialization of the data will be done.\n",
    "\n",
    "import pickle\n",
    "f = open(\"Supportive_Files/emp.ser\",'rb')\n",
    "print(\"Deserialize Employee Object & Printing Data:\")\n",
    "while True:\n",
    "    e=pickle.load(f)\n",
    "    e.display()"
   ]
  },
  {
   "cell_type": "markdown",
   "metadata": {},
   "source": [
    "In Serialized file, we don't know how many inputs are there. So EOFError will be raised. We can handle the above error with the following code. "
   ]
  },
  {
   "cell_type": "code",
   "execution_count": 3,
   "metadata": {},
   "outputs": [
    {
     "name": "stdout",
     "output_type": "stream",
     "text": [
      "Deserialize Employee Object & Printing Data:\n",
      "Eno:1,EName:sai,ESal:25000.0,EAddress:A-404\n",
      "Eno:2,EName:ram,ESal:30000.0,EAddress:A-402\n",
      "Eno:3,EName:dhana,ESal:25000.0,EAddress:A-403\n",
      "Deserialization of all Employee Objects Completed.\n"
     ]
    }
   ],
   "source": [
    "# Receiver code is resonsble for deserializing the object.\n",
    "import pickle\n",
    "f = open(\"Supportive_Files/emp.ser\",'rb')\n",
    "print(\"Deserialize Employee Object & Printing Data:\")\n",
    "while True:\n",
    "    try: \n",
    "        e=pickle.load(f)\n",
    "        e.display()\n",
    "    except EOFError:\n",
    "        break\n",
    "print(\"Deserialization of all Employee Objects Completed.\")"
   ]
  },
  {
   "cell_type": "markdown",
   "metadata": {},
   "source": [
    "# Object Serialization by using JSON\n",
    "### Importance of JSON:\n",
    "JSON ==> JavaScript Object Notation<br><br>\n",
    "Any programming language can understand json. Hence JSON is the most commonly used message format for applications irrespective of programming language and platform. It is very helpful for interoperability between applications. <br>\n",
    "It is human readable format.<br>\n",
    "It is light weight and required less memory to store data.<br><br>\n",
    "**Eg:**<br>\n",
    "Java Application sends request to Python application <br>\n",
    "Python application provide required response in json form. <br>\n",
    "Java application can understand json form and can be used based on its requirement.<br><br>\n",
    "\n",
    "## What is JSON?\n",
    "### Python Data Types vs JavaScript Data Types \n",
    "int ==> number<br>\n",
    "float ==> number<br>\n",
    "list ==> array<br>\n",
    "**dict ==> object(JSON)**<br>\n",
    "str ==> string<br>\n",
    "True ==> true<br>\n",
    "False ==> false<br>\n",
    "None ==> null<br>\n",
    "etc.<br><br>\n",
    "\n",
    "In javascript if we want to represent a group of key value pairs, then we should go for object data type, which is nothing but json.<br><br>\n",
    "JSON is very similar to Python's dict object.\n",
    "\n",
    "#### Why preference for JSON over XML:\n",
    "1) Light weight<br>\n",
    "2) Human readable<br><br>\n",
    "\n",
    "#### Python's json module:\n",
    "As the part of programming, it is very common requirement to convert python object into json form and from json form to python object. For these conversions (Serialization and Deserialization) Python provides inbuilt module json.<br><br>\n",
    "\n",
    "json module defines the following important functions:<br><br>\n",
    "\n",
    "#### For Serialization Purpose (From Python to JSON Form): \n",
    "1) **dumps()** ==> It serializes python dict object to json string.<br>\n",
    "2) **dump()** ==> Converting python dict object to json and write that json to provided json file. It serializes to a file.<br><br>\n",
    "\n",
    "#### For Deserialization Purpose (From JSON form to Python form): \n",
    "1) **loads()** ==> Converting JSON string to python dict. It deserializes to a string.<br>\n",
    "2) **load()** ==> Reading json from a file and converting to python dict object. Deserializes from a json file.<br><br>\n",
    "\n",
    "##### Demo Program for Serialization"
   ]
  },
  {
   "cell_type": "code",
   "execution_count": 6,
   "metadata": {},
   "outputs": [
    {
     "name": "stdout",
     "output_type": "stream",
     "text": [
      "{\n",
      "    \"name\": \"sairam\",\n",
      "    \"age\": 35,\n",
      "    \"salary\": 10000.0,\n",
      "    \"isMarried\": true,\n",
      "    \"isHavingGF\": null\n",
      "}\n",
      "open emp.json to see json data\n"
     ]
    }
   ],
   "source": [
    "import json\n",
    "employee = {'name':'sairam',\n",
    "           'age':35,\n",
    "           'salary':10000.0,\n",
    "           'isMarried': True,\n",
    "           'isHavingGF':None\n",
    "           }\n",
    "# Lets say one java person sent a request to python application for employee data.\n",
    "# Python can't send the above dictionary as it is. If we do so Java person can't understand.\n",
    "# So We have to convert this python dict object to JSON. This coversion is called serialization.\n",
    "\n",
    "# Serializing to a JSON String\n",
    "json_string = json.dumps(employee,indent=4)\n",
    "print(json_string) # prints the converted json object.\n",
    "\n",
    "# For serializing to a JSON file.\n",
    "with open(\"Supportive_Files/emp.json\",'w') as f:\n",
    "    json.dump(employee,f,indent=4)\n",
    "print(\"open emp.json to see json data\")"
   ]
  },
  {
   "cell_type": "markdown",
   "metadata": {},
   "source": [
    "Below is the output for the serialization to json file<br>\n",
    "<img src=\"Supportive_Files/emp_json.png\"><br><br>\n",
    "\n",
    "### Demo Program for Deserialization from JSON String"
   ]
  },
  {
   "cell_type": "code",
   "execution_count": 11,
   "metadata": {},
   "outputs": [
    {
     "name": "stdout",
     "output_type": "stream",
     "text": [
      "<class 'dict'>\n",
      "Employee Name: sairam\n",
      "Employee Age: 35\n",
      "Employee Salary: 10000.0\n",
      "Employee Marital Status: True\n",
      "Is Employee has GF: None\n",
      "\n",
      "\n",
      "name : sairam\n",
      "age : 35\n",
      "salary : 10000.0\n",
      "isMarried : True\n",
      "isHavingGF : None\n"
     ]
    }
   ],
   "source": [
    "json_String = '''{\n",
    "    \"name\": \"sairam\",\n",
    "    \"age\": 35,\n",
    "    \"salary\": 10000.0,\n",
    "    \"isMarried\": true,\n",
    "    \"isHavingGF\": null\n",
    "    }'''\n",
    "employee = json.loads(json_String)\n",
    "print(type(employee)) # Print the python dict.\n",
    "print(\"Employee Name:\",employee['name'])\n",
    "print(\"Employee Age:\",employee['age'])\n",
    "print(\"Employee Salary:\",employee['salary'])\n",
    "print(\"Employee Marital Status:\",employee['isMarried'])\n",
    "print(\"Is Employee has GF:\",employee['isHavingGF'])\n",
    "print()\n",
    "print()\n",
    "\n",
    "for k,v in employee.items():\n",
    "    print(k,\":\",v)"
   ]
  },
  {
   "cell_type": "markdown",
   "metadata": {},
   "source": [
    "### Demo Program for Deserialization from JSON File"
   ]
  },
  {
   "cell_type": "code",
   "execution_count": 12,
   "metadata": {},
   "outputs": [
    {
     "name": "stdout",
     "output_type": "stream",
     "text": [
      "<class 'dict'>\n",
      "name : sairam\n",
      "age : 35\n",
      "salary : 10000.0\n",
      "isMarried : True\n",
      "isHavingGF : None\n"
     ]
    }
   ],
   "source": [
    "# load is the function to be used for deserliazing from a json file\n",
    "\n",
    "import json\n",
    "with open(\"Supportive_Files/emp.json\",'r') as f: # Already emp.json contains data in json format.\n",
    "    employee = json.load(f)\n",
    "print(type(employee)) # Dict\n",
    "\n",
    "for k,v in employee.items():\n",
    "    print(k,\":\",v)"
   ]
  },
  {
   "cell_type": "markdown",
   "metadata": {},
   "source": [
    "#### FAQs from json module:\n",
    "Q1. What is the difference between dump() and load() functions of json module?<br>\n",
    "Q2. What is the difference between dump() and dumps() functions of json module?<br>\n",
    "Q3. What is the difference between load() and loads() functions of json module?"
   ]
  },
  {
   "cell_type": "markdown",
   "metadata": {},
   "source": [
    "## Communicate with coindesk application to get bitcoin price: \n",
    "If we send http request to coindesk application it will provide bitcoin current price information.<br><br>\n",
    "We can send http request from python application by using requests module. We have to install this module separately.<br><br>\n",
    "pip install requests<br><br>\n",
    "We can send request to coindesk application by using the following url:<br>\n",
    "https://api.coindesk.com/v1/bpi/currentprice.json<br><br>\n",
    "It will provide the following response in json format.<br><br>\n",
    "\n",
    "{ \"time\":{\"updated\":\"Sep 18, 2013 17:27:00 UTC\",\"updatedISO\":\"2013-09-18T17:27:00+00:00\"},<br><br>\n",
    "\n",
    "\"disclaimer\":\"This data was produced from the CoinDesk Bitcoin Price Index. Non-USD currency data converted using hourly conversion rate from openexchangerates.org\",<br><br>\n",
    "\n",
    "\"bpi\":{\"USD\":{\"code\":\"USD\",\"symbol\":\"$\",\"rate\":\"126.5235\",\"description\":\"United States Dollar\",\"rate_float\":126.5235},<br>\n",
    "\n",
    "\"GBP\":{\"code\":\"GBP\",\"symbol\":\"£\",\"rate\":\"79.2495\",\"description\":\"British Pound Sterling\",\"rate_float\":79.2495},<br>\n",
    "\n",
    "\"EUR\":{\"code\":\"EUR\",\"symbol\":\"€\",\"rate\":\"94.7398\",\"description\":\"Euro\",\"rate_float\":94.7398}}}"
   ]
  },
  {
   "cell_type": "code",
   "execution_count": 1,
   "metadata": {},
   "outputs": [
    {
     "name": "stdout",
     "output_type": "stream",
     "text": [
      "Requirement already satisfied: requests in c:\\users\\kksai\\anaconda3\\lib\\site-packages (2.24.0)\n",
      "Requirement already satisfied: idna<3,>=2.5 in c:\\users\\kksai\\anaconda3\\lib\\site-packages (from requests) (2.10)\n",
      "Requirement already satisfied: urllib3!=1.25.0,!=1.25.1,<1.26,>=1.21.1 in c:\\users\\kksai\\anaconda3\\lib\\site-packages (from requests) (1.25.9)\n",
      "Requirement already satisfied: chardet<4,>=3.0.2 in c:\\users\\kksai\\anaconda3\\lib\\site-packages (from requests) (3.0.4)\n",
      "Requirement already satisfied: certifi>=2017.4.17 in c:\\users\\kksai\\anaconda3\\lib\\site-packages (from requests) (2020.6.20)\n"
     ]
    }
   ],
   "source": [
    "# !pip install requests"
   ]
  },
  {
   "cell_type": "code",
   "execution_count": 2,
   "metadata": {},
   "outputs": [
    {
     "name": "stdout",
     "output_type": "stream",
     "text": [
      "<class 'dict'>\n",
      "{'time': {'updated': 'May 30, 2021 10:17:00 UTC', 'updatedISO': '2021-05-30T10:17:00+00:00', 'updateduk': 'May 30, 2021 at 11:17 BST'}, 'disclaimer': 'This data was produced from the CoinDesk Bitcoin Price Index (USD). Non-USD currency data converted using hourly conversion rate from openexchangerates.org', 'chartName': 'Bitcoin', 'bpi': {'USD': {'code': 'USD', 'symbol': '&#36;', 'rate': '35,790.4867', 'description': 'United States Dollar', 'rate_float': 35790.4867}, 'GBP': {'code': 'GBP', 'symbol': '&pound;', 'rate': '25,223.2381', 'description': 'British Pound Sterling', 'rate_float': 25223.2381}, 'EUR': {'code': 'EUR', 'symbol': '&euro;', 'rate': '29,354.3908', 'description': 'Euro', 'rate_float': 29354.3908}}}\n"
     ]
    }
   ],
   "source": [
    "import requests\n",
    "response=requests.get('https://api.coindesk.com/v1/bpi/currentprice.json')\n",
    "binfo=response.json() # provides python's dict object\n",
    "print(type(binfo))\n",
    "print(binfo)"
   ]
  },
  {
   "cell_type": "code",
   "execution_count": 3,
   "metadata": {},
   "outputs": [
    {
     "name": "stdout",
     "output_type": "stream",
     "text": [
      "Bitcoin Price as on May 30, 2021 10:18:00 UTC\n",
      "1 BitCoin = $ 35,776.9282\n"
     ]
    }
   ],
   "source": [
    "import requests\n",
    "response=requests.get('https://api.coindesk.com/v1/bpi/currentprice.json')\n",
    "binfo=response.json() # provides python's dict object\n",
    "#print(type(binfo))\n",
    "#print(binfo)\n",
    "print('Bitcoin Price as on',binfo['time']['updated'])\n",
    "print('1 BitCoin = $',binfo['bpi']['USD']['rate'])"
   ]
  },
  {
   "cell_type": "markdown",
   "metadata": {},
   "source": [
    "### How to perform serialization and deserialization of customized class objects:\n",
    "**json.dumps()** ==> python dict to json string<br>\n",
    "**json.dump()** ==> python dict to json file<br><br>\n",
    "dump(),dumps() functions will work only for python dict objects, and we cannot use for our customized class objects like Employee, Customer etc.<br><br>\n",
    "\n",
    "\n",
    "**json.loads()** ==> json string to python dict<br>\n",
    "**json.load()** ==> json file to python dict<br><br>\n",
    "\n",
    "load() and loads() functions will always provide python dict objects as return type and we won't get our customized class objects directly.<br><br>\n",
    "\n",
    "The required conversions we have to take care explicitly."
   ]
  },
  {
   "cell_type": "code",
   "execution_count": 9,
   "metadata": {},
   "outputs": [
    {
     "name": "stdout",
     "output_type": "stream",
     "text": [
      "<class 'dict'>\n",
      "{'eno': 100, 'ename': 'Sairam', 'esal': 10000.0, 'eaddr': 'Hyderabad'}\n",
      "\n",
      "{\n",
      "    \"eno\": 100,\n",
      "    \"ename\": \"Sairam\",\n",
      "    \"esal\": 10000.0,\n",
      "    \"eaddr\": \"Hyderabad\"\n",
      "}\n"
     ]
    }
   ],
   "source": [
    "import json\n",
    "class Employee:\n",
    "    def __init__(self,eno,ename,esal,eaddr):\n",
    "        self.eno=eno\n",
    "        self.ename=ename\n",
    "        self.esal = esal\n",
    "        self.eaddr = eaddr\n",
    "        \n",
    "    def display(self):\n",
    "        print('Eno:{},EName:{},ESal:{},EAddress {}'.format(self.eno,self.ename,self.esal,self.eaddr))\n",
    "\n",
    "# If we want to serialize the object, then we need to convert that object into dictionary and then use dump(),dumps() to json.        \n",
    "e=Employee(100,'Sairam',10000.00,'Hyderabad')\n",
    "# e_dict = {'eno':e.eno,'ename':e.ename,'esal':e.esal,'eaddr':e.eaddr}\n",
    "e_dict=e.__dict__ # Another shortcut.\n",
    "print(type(e_dict))\n",
    "print(e_dict)\n",
    "print()\n",
    "# Serializing to JSON String\n",
    "json_string = json.dumps(e_dict,indent=4)\n",
    "print(json_string)\n",
    "\n",
    "# Serializing to JSON File\n",
    "with open('Supportive_Files/emp1.json','w') as f:\n",
    "    json.dump(e_dict,f,indent=4)"
   ]
  },
  {
   "cell_type": "code",
   "execution_count": 12,
   "metadata": {},
   "outputs": [
    {
     "name": "stdout",
     "output_type": "stream",
     "text": [
      "<class 'dict'>\n",
      "{'eno': 100, 'ename': 'Sairam', 'esal': 10000.0, 'eaddr': 'Hyderabad'}\n",
      "\n",
      "Eno:100,EName:Sairam,ESal:10000.0,EAddress Hyderabad\n"
     ]
    }
   ],
   "source": [
    "# After Deserialization to dict type we are responsible to create required object from dict.\n",
    "\n",
    "#Deserialization from a file\n",
    "\n",
    "with open('Supportive_Files/emp1.json','r') as f:\n",
    "    edict = json.load(f)\n",
    "print(type(edict))\n",
    "print(edict)\n",
    "print()\n",
    "e=Employee(edict['eno'],edict['ename'],edict['esal'],edict['eaddr'])\n",
    "e.display()"
   ]
  },
  {
   "cell_type": "markdown",
   "metadata": {},
   "source": [
    "**Note:** In the above program, we converted Employee object to dict object explicitly to perform serialization, because dump() function will always accept dict type only.<br><br>\n",
    "\n",
    "load() function always returns dict type only and hence we have to convert that dict object to Employee object explicitly.<br><br>"
   ]
  },
  {
   "cell_type": "markdown",
   "metadata": {},
   "source": [
    "### jsonpickle module:\n",
    "By using jsonpickle module we can serialize our custom class objects directly to json and we can deserialize json to our custom class objects directly.<br><br>\n",
    "\n",
    "jsonpickle module is not available bydefault and we have to install explicitly.<br>\n",
    "**pip install jsonpickle**<br><br>\n",
    "\n",
    "This module contains<br>\n",
    "1. encode() ==> To convert any object to json_string directly<br>\n",
    "2. decode() ==> To convert json_string to our original object"
   ]
  },
  {
   "cell_type": "code",
   "execution_count": 13,
   "metadata": {},
   "outputs": [
    {
     "name": "stdout",
     "output_type": "stream",
     "text": [
      "Collecting jsonpickle\n",
      "  Downloading jsonpickle-2.0.0-py2.py3-none-any.whl (37 kB)\n",
      "Installing collected packages: jsonpickle\n",
      "Successfully installed jsonpickle-2.0.0\n"
     ]
    }
   ],
   "source": [
    "#!pip install jsonpickle"
   ]
  },
  {
   "cell_type": "markdown",
   "metadata": {},
   "source": [
    "### Demo Program for serialization and deserialization by using jsonpickle"
   ]
  },
  {
   "cell_type": "code",
   "execution_count": 20,
   "metadata": {},
   "outputs": [
    {
     "name": "stdout",
     "output_type": "stream",
     "text": [
      "{\"py/object\": \"__main__.Employee\", \"eno\": 100, \"ename\": \"Sairam\", \"esal\": 10000.0, \"eaddr\": \"Hyderabad\"}\n",
      "<class '__main__.Employee'>\n",
      "Eno:100,EName:Sairam,ESal:10000.0,EAddress Hyderabad\n",
      "Eno:100,EName:Sairam,ESal:10000.0,EAddress Hyderabad\n"
     ]
    }
   ],
   "source": [
    "import jsonpickle\n",
    "class Employee:\n",
    "    def __init__(self,eno,ename,esal,eaddr):\n",
    "        self.eno=eno\n",
    "        self.ename=ename\n",
    "        self.esal = esal\n",
    "        self.eaddr = eaddr\n",
    "        \n",
    "    def display(self):\n",
    "        print('Eno:{},EName:{},ESal:{},EAddress {}'.format(self.eno,self.ename,self.esal,self.eaddr))\n",
    "\n",
    "e=Employee(100,'Sairam',10000.00,'Hyderabad')\n",
    "\n",
    "# Serialzing employee object to JSON string directly using jsonpickle.\n",
    "json_string = jsonpickle.encode(e)\n",
    "print(json_string)\n",
    "\n",
    "# Serialization to a file:\n",
    "with open('Supportive_Files/emp2.json','w') as f:\n",
    "    f.write(json_string)\n",
    "    \n",
    "# DeSerialization from JSON String:\n",
    "e2=jsonpickle.decode(json_string)\n",
    "print(type(e2))\n",
    "e2.display()\n",
    "\n",
    "# DeSerialization from JSON File:\n",
    "with open('Supportive_Files/emp2.json','r') as f:\n",
    "    json_string = f.readline()\n",
    "e3 = jsonpickle.decode(json_string)\n",
    "e3.display()"
   ]
  },
  {
   "cell_type": "markdown",
   "metadata": {},
   "source": [
    "## Object Serialization with YAML YAML:\n",
    "A retronym for YAML Ain't Markup Language that meant originally Yet Another Markup Language.<br><br>\n",
    "It is alternative to JSON.<br>\n",
    "It is also light weight and human understandable form.<br>\n",
    "It is more readable than JSON.<br><br>\n",
    "\n",
    "To serialize and deserialize our python data to yaml, we have to go for pyaml libray. This library by default not available and we have to install separately.<br><br>\n",
    "\n",
    "**pip install pyaml**<br><br>\n",
    "pyaml library contains yaml module.<br>\n",
    "yaml module contains the following functions to perform serialization and deserialization.<br><br>\n",
    "\n",
    "#### For Serialization\n",
    "1. dump() ==> To serialize python dict object to yaml string or yaml file.<br>\n",
    "\n",
    "#### For Deserialization\n",
    "2. load() ==> To deserialize from yaml string or yaml file to python dict object<br><br>\n",
    "\n",
    "**Note:** load() is deprecated and we have to use **safe_load()** function."
   ]
  },
  {
   "cell_type": "code",
   "execution_count": 21,
   "metadata": {},
   "outputs": [
    {
     "name": "stdout",
     "output_type": "stream",
     "text": [
      "Collecting pyaml\n",
      "  Downloading pyaml-20.4.0-py2.py3-none-any.whl (17 kB)\n",
      "Requirement already satisfied: PyYAML in c:\\users\\kksai\\anaconda3\\lib\\site-packages (from pyaml) (5.3.1)\n",
      "Installing collected packages: pyaml\n",
      "Successfully installed pyaml-20.4.0\n"
     ]
    }
   ],
   "source": [
    "#!pip install pyaml"
   ]
  },
  {
   "cell_type": "code",
   "execution_count": 25,
   "metadata": {},
   "outputs": [
    {
     "name": "stdout",
     "output_type": "stream",
     "text": [
      "age: 35\n",
      "isMarried: true\n",
      "name: Sairam\n",
      "salary: 10000.0\n",
      "\n"
     ]
    }
   ],
   "source": [
    "from pyaml import yaml\n",
    "emp_dict= {\n",
    "    \"name\": \"Sairam\",\n",
    "    \"age\": 35,\n",
    "    \"salary\": 10000.0,\n",
    "    \"isMarried\": True\n",
    "    }\n",
    "\n",
    "# Serialization to YAML String\n",
    "yaml_string = yaml.dump(emp_dict)\n",
    "print(yaml_string)\n",
    "\n",
    "# Serialization to YAML File:\n",
    "with open('Supportive_Files/emp.yaml','w') as f:\n",
    "    yaml.dump(emp_dict,f)"
   ]
  },
  {
   "cell_type": "markdown",
   "metadata": {},
   "source": [
    "<img src='Supportive_Files/emp_yaml.png'>"
   ]
  },
  {
   "cell_type": "code",
   "execution_count": 27,
   "metadata": {},
   "outputs": [
    {
     "name": "stdout",
     "output_type": "stream",
     "text": [
      "<class 'dict'>\n",
      "{'age': 35, 'isMarried': True, 'name': 'Sairam', 'salary': 10000.0}\n",
      "\n",
      "age : 35\n",
      "isMarried : True\n",
      "name : Sairam\n",
      "salary : 10000.0\n"
     ]
    }
   ],
   "source": [
    "# Deserialization from YAML String.\n",
    "new_dict = yaml.safe_load(yaml_string)\n",
    "print(type(new_dict))\n",
    "print(new_dict)\n",
    "print()\n",
    "for k,v in new_dict.items():\n",
    "    print(k,':',v)\n",
    "    \n",
    "# Deserialization from YAML File.\n",
    "with open('Supportive_Files/emp.yaml','r') as f:\n",
    "    new_dict2 = yaml.safe_load(f)\n",
    "print(new_dict2)"
   ]
  },
  {
   "cell_type": "markdown",
   "metadata": {},
   "source": [
    "# ===================== THE END ==================="
   ]
  },
  {
   "cell_type": "code",
   "execution_count": null,
   "metadata": {},
   "outputs": [],
   "source": []
  }
 ],
 "metadata": {
  "kernelspec": {
   "display_name": "Python 3",
   "language": "python",
   "name": "python3"
  },
  "language_info": {
   "codemirror_mode": {
    "name": "ipython",
    "version": 3
   },
   "file_extension": ".py",
   "mimetype": "text/x-python",
   "name": "python",
   "nbconvert_exporter": "python",
   "pygments_lexer": "ipython3",
   "version": "3.8.3"
  }
 },
 "nbformat": 4,
 "nbformat_minor": 4
}
