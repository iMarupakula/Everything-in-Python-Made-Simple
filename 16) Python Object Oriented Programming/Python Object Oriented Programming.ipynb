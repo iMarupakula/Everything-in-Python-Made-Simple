{
 "cells": [
  {
   "cell_type": "markdown",
   "metadata": {},
   "source": [
    "# ======================== PART - 1 ==========================="
   ]
  },
  {
   "cell_type": "markdown",
   "metadata": {},
   "source": [
    "# Object Oriented Programming"
   ]
  },
  {
   "cell_type": "markdown",
   "metadata": {},
   "source": [
    "In Oops, 3 important terms are used very frequently. They are<br><br>\n",
    "1) Class<br>\n",
    "2) Object<br>\n",
    "3) Reference Variable<br><br>\n",
    "\n",
    "Lets understand each of this terms in detail.<br><br>\n",
    "\n",
    "**For example**, we want to build a 100 Floors building. To construct it we need to approach an architect for a plan. This plan is the blueprint for the builing i.e. it clearly describes no. of floors and no. of flats to each floor and it also contains measurements for rooms in a flat .... etc. So, The Complete information will be available in the Plan.<br><br>\n",
    "\n",
    "Since Plan is ready we can start construction of the **builing(B1)**. We can also construct the other buildings **B1, B2, B3 .... etc** with same plan in some other places also.<br><br>\n",
    "\n",
    "Since the plan is as a blueprint to construct many buildings, Plan acts as a <span style=\"color:dark orange\">**Class**</span> and the physical existence of the plan is called an <span style=\"color:dark orange\">**Object**</span>. Hence the buildings are the **objects**<br><br>\n",
    "\n",
    "<span style=\"color:Green\">**With One class**</span>(Plan/BluePrint) <span style=\"color:Green\">**we can create many Objects**</span>(buildings).\n",
    "\n"
   ]
  },
  {
   "cell_type": "markdown",
   "metadata": {},
   "source": [
    "Lets understand reference variable:<br><br>\n",
    "Lets say, we want to buy one **Sony KD-65 Model TV**. Out of many such TV's **(Objects)** manufactured from a sony company with same specifications and design of Sony KD-65 Model **(Plan)**. We bought one TV. To Operate the Sony KD-65 Model TV, we need a device called **Remote**. This Remote is the Reference to operate the TV. Hence, this remote acts as a <span style=\"color:dark orange\">**Reference Variable**</span>.<br><br>\n",
    "\n",
    "<span style=\"color:Light Green\">**By using the Reference Variable, we can perform the required operation on the Object**</span>\n",
    "\n",
    "Lets say, Remote is lost somewhere and you bought one more remote for existing Sony KD-65 Model TV. After some days, you find the old remote which is lost. Now, you have two remotes for one device and both are working to operate one TV. So we have Two Reference Variables (Remotes) for One Object(Sony KD-65 Model TV).<br><br>\n",
    "\n",
    "<span style=\"color:Green\">**An object can have any number of reference variables.**</span><br>"
   ]
  },
  {
   "cell_type": "markdown",
   "metadata": {},
   "source": [
    "## Class"
   ]
  },
  {
   "cell_type": "markdown",
   "metadata": {},
   "source": [
    "### What is Class:\n",
    "⚽ In Python every thing is an object. To create objects we required some Model or Plan or Blue print, which is nothing but class.<br> ⚽ We can write a class to represent properties (attributes) and actions (behaviour) of object.<br>\n",
    "⚽ Properties can be represented by variables<br> ⚽ Actions can be represented by Methods.<br>\n",
    "⚽ Hence class contains both variables and methods.<br>"
   ]
  },
  {
   "cell_type": "markdown",
   "metadata": {},
   "source": [
    "### How to define a Class?\n",
    "We can define a class by using class keyword.<br>\n",
    "**Syntax:**<br><br> \n",
    "**class** className:<br>\n",
    "&nbsp;&nbsp;&nbsp;&nbsp;    ''' documentation string '''<br> \n",
    "&nbsp;&nbsp;&nbsp;&nbsp;    **variables:** instance variables,static and local variables. Variables represent attributes/properties<br> \n",
    "&nbsp;&nbsp;&nbsp;&nbsp;    **methods:** instance methods,static methods,class methods. This represents actions/behaviours<br><br>\n",
    "\n",
    "Documentation string represents description of the class. Within the class doc string is always optional. We can get doc string by using the following 2 ways.<br>\n",
    "1) print(classname.\\_\\_doc\\_\\_) <br>\n",
    "2) help(classname)<br><br>\n",
    "Example:"
   ]
  },
  {
   "cell_type": "code",
   "execution_count": 2,
   "metadata": {},
   "outputs": [
    {
     "name": "stdout",
     "output_type": "stream",
     "text": [
      "This is the student class with required data\n",
      "Help on class Student in module __main__:\n",
      "\n",
      "class Student(builtins.object)\n",
      " |  This is the student class with required data\n",
      " |  \n",
      " |  Data descriptors defined here:\n",
      " |  \n",
      " |  __dict__\n",
      " |      dictionary for instance variables (if defined)\n",
      " |  \n",
      " |  __weakref__\n",
      " |      list of weak references to the object (if defined)\n",
      "\n"
     ]
    }
   ],
   "source": [
    "class Student:\n",
    "    '''This is the student class with required data'''\n",
    "    # variables\n",
    "    # methods\n",
    "print(Student.__doc__)\n",
    "help(Student)"
   ]
  },
  {
   "cell_type": "markdown",
   "metadata": {},
   "source": [
    "Within the Python class we can represent data by using variables.<br><br>\n",
    "There are 3 types of variables are allowed.<br><br>\n",
    "> **1) Instance Variables (Object Level Variables)<br> \n",
    "> 2) Static Variables (Class Level Variables)<br> \n",
    "> 3) Local variables (Method Level Variables)**"
   ]
  },
  {
   "cell_type": "markdown",
   "metadata": {},
   "source": [
    "Within the Python class, we can represent operations by using methods. The following are various types of allowed methods\n",
    "> **1) Instance Methods<br>\n",
    "> 2) Class Methods<br>\n",
    "> 3) Static Methods**\n",
    "\n",
    "Example for Class:"
   ]
  },
  {
   "cell_type": "code",
   "execution_count": 4,
   "metadata": {},
   "outputs": [
    {
     "name": "stdout",
     "output_type": "stream",
     "text": [
      "Sairam\n",
      "101\n",
      "90\n",
      "Hello I am  Sairam\n",
      "My Rollno is  101\n",
      "My marks are  90\n"
     ]
    }
   ],
   "source": [
    "class Student:\n",
    "    '''This is the demonstration of class with variables and methods'''\n",
    "    def __init__(self): #we will discuss about __init__ further\n",
    "        self.name = \"Sairam\" #variable1\n",
    "        self.rollno = 101 #variable2\n",
    "        self.marks = 90 #variable3\n",
    "    \n",
    "    def talk(self): # method1\n",
    "        print(\"Hello I am \",self.name)\n",
    "        print(\"My Rollno is \",self.rollno)\n",
    "        print(\"My marks are \",self.marks)\n",
    "        \n",
    "s = Student() # s is the Reference Variable of the Object/class Student\n",
    "print(s.name) # With Reference vaiable we can access the propeties of the an object/class\n",
    "print(s.rollno)\n",
    "print(s.marks)\n",
    "s.talk() # Reference variable can also access the methods defined in the Class"
   ]
  },
  {
   "cell_type": "markdown",
   "metadata": {},
   "source": [
    "### What is Object: \n",
    "Pysical existence of a class is nothing but object. We can create any number of objects for a class.<br>\n",
    "**Syntax to Create Object:<span style=\"color:green\"> referencevariable = classname()**</span><br>\n",
    "**Example:** s = Student()"
   ]
  },
  {
   "cell_type": "markdown",
   "metadata": {},
   "source": [
    "### What is Reference Variable? \n",
    "The variable which can be used to refer object is called reference variable. By using reference variable, we can access properties and methods of object.<br><br>\n",
    "**Program:** Write a Python program to create a Student class and Creates an object to it. Call the method talk() to display student details"
   ]
  },
  {
   "cell_type": "code",
   "execution_count": 5,
   "metadata": {},
   "outputs": [
    {
     "name": "stdout",
     "output_type": "stream",
     "text": [
      "Hello I am  Sunny\n",
      "My Rollno is  101\n",
      "My marks are  90\n",
      "**************************************************\n",
      "Hello I am  Katrina\n",
      "My Rollno is  102\n",
      "My marks are  95\n"
     ]
    }
   ],
   "source": [
    "class Student:\n",
    "    '''This is the demonstration of class with variables and methods. \n",
    "    For evry student, name, roll no, marks will varied. So, we method should be dynamic as follows'''\n",
    "    #Since variables will be vary for every student. we should be able to get the variables from user\n",
    "    def __init__(self,name,rollno,marks): \n",
    "        self.name = name # \n",
    "        self.rollno = rollno #variable2\n",
    "        self.marks = marks #variable3\n",
    "    \n",
    "    def talk(self): \n",
    "        print(\"Hello I am \",self.name)\n",
    "        print(\"My Rollno is \",self.rollno)\n",
    "        print(\"My marks are \",self.marks)\n",
    "        \n",
    "s1 = Student(\"Sunny\",101,90) # This parameters will be passed to __init__ method arguments.\n",
    "\n",
    "# Since, we made it dynamic. We can create n number of objects like below.\n",
    "\n",
    "s2 = Student(\"Katrina\",102,95)\n",
    "s1.talk() # Student object will be called with a reference variable s1 and talk() method will be executed with the parameters passed from the s1.  \n",
    "print(\"*\"*50)\n",
    "s2.talk() # Student object will be called with a reference variable s2 and talk() method will be executed with the parameters passed from the s2."
   ]
  },
  {
   "cell_type": "markdown",
   "metadata": {},
   "source": [
    "# Complete Understanding of \"self\" variable "
   ]
  },
  {
   "cell_type": "markdown",
   "metadata": {},
   "source": [
    "# Self Variable: \n",
    "\n",
    " - **self** is the default reference variable which is always pointing to current object.<br>\n",
    " - By using **self** we can access instance variables and instance methods of object.<br>\n",
    "\n",
    "**Note:**<br>\n",
    "1) self should be first parameter inside constructor<br>\n",
    ">    def **\\_\\_init\\_\\_**(self):<br>\n",
    "\n",
    "2) self should be first parameter inside instance methods.<br>\n",
    "> def talk(self):"
   ]
  },
  {
   "cell_type": "code",
   "execution_count": 1,
   "metadata": {},
   "outputs": [],
   "source": [
    "class Test:\n",
    "    def __init__(self):\n",
    "        pass\n",
    "\n",
    "t=Test() # t is the reference variable for Test Object, can be used only outside of the class.\n",
    "    "
   ]
  },
  {
   "cell_type": "markdown",
   "metadata": {},
   "source": [
    "We cannot use **t** within the class, since it is declared outside the class. Within the class to use this current object some reference variable must be required, that reference variable is nothing but \"**self**\".<br>\n",
    "<br>Now Both **t** and **self** pointing to same object. Lets see the example below for proof<br>\n",
    "![Image](images/self.png)"
   ]
  },
  {
   "cell_type": "code",
   "execution_count": 2,
   "metadata": {},
   "outputs": [
    {
     "name": "stdout",
     "output_type": "stream",
     "text": [
      "Address of object pointed by self : 1752463999520\n",
      "Address of object pointed by 't' : 1752463999520\n"
     ]
    }
   ],
   "source": [
    "class Test:\n",
    "    def __init__(self):\n",
    "        print(\"Address of object pointed by self :\",id(self))\n",
    "\n",
    "t=Test() # t is the reference variable for Test Object, can be used only outside of the class.\n",
    "print(\"Address of object pointed by 't' :\",id(t))    "
   ]
  },
  {
   "cell_type": "markdown",
   "metadata": {},
   "source": [
    "If we observe, both **t** and **self** are pointing to same address of the object.<br>\n",
    "Hence, we can say<br>\n",
    "> **t** should be used as a reference variable outside the object.<br>\n",
    "> **self** is reference variable pointing to current object, we should use self within the python class to refer current object."
   ]
  },
  {
   "cell_type": "code",
   "execution_count": 4,
   "metadata": {},
   "outputs": [
    {
     "name": "stdout",
     "output_type": "stream",
     "text": [
      "Constructor\n",
      "x value : 10\n"
     ]
    }
   ],
   "source": [
    "class Test:\n",
    "    def __init__(self):\n",
    "        print(\"Constructor\")\n",
    "    \n",
    "    def m1(self,x):\n",
    "        print('x value :',x)  \n",
    "        \n",
    "t=Test()\n",
    "t.m1(10) # we are passing only one value for x. Python takes responsibility to provide the value for self internally."
   ]
  },
  {
   "cell_type": "markdown",
   "metadata": {},
   "source": [
    "**Note:** whenever we are calling a method, we are not required to provide a value for the self variable, internally python virtual machine is responsible to provide a value for self."
   ]
  },
  {
   "cell_type": "code",
   "execution_count": 5,
   "metadata": {},
   "outputs": [],
   "source": [
    "class Student:\n",
    "    \n",
    "    def __init__(self,name,rollno,marks): \n",
    "        self.name = name # \n",
    "        self.rollno = rollno #variable2\n",
    "        self.marks = marks #variable3\n",
    "    \n",
    "    def talk(self): \n",
    "        print(\"Hello I am \",self.name)\n",
    "        print(\"My Rollno is \",self.rollno)\n",
    "        print(\"My marks are \",self.marks)\n",
    "        \n",
    "s1 = Student(\"Sairam\",\"14911A263\",100)"
   ]
  },
  {
   "cell_type": "markdown",
   "metadata": {},
   "source": [
    "Whenever an object is called constructor will be executed.<br>\n",
    "we have passed \"name = Sairam\", \"rollno = 14911A0263\", \"marks = 100\".<br>\n",
    "We have not passed any value for self because python itself is responsible for that. Internally self is used as follows:<br><br>\n",
    "\n",
    "1) Whenever we are creating an object lets say **s1** is created, automatically constuctor is executed.<br>\n",
    "2) within the constructor, **self.name** means **current object name variable**. So a name variable is created in the current object and for this name variable we are assigning the value of this name which is passed as \"Sairam\" from s1.<br>\n",
    "3) Similiarly **rollno** and **marks** variables will be created for current object s1 with the passed values \"14911A0263\" and \"100\". <br><br>\n",
    "![Image](images/instance_variables.png)\n",
    "\n",
    " - The First purpose we are using **self** variable in the constuctor is to declare **instance variables**<br>\n",
    " - The Second Pupose we are using **self** is to access the instance variables created for the using them in methods or some other places. **For example**: instance variables **self.name**, **self.rollno**, **self.marks** will be used in talk method<br>\n",
    "\n"
   ]
  },
  {
   "cell_type": "code",
   "execution_count": 6,
   "metadata": {},
   "outputs": [
    {
     "name": "stdout",
     "output_type": "stream",
     "text": [
      "Hello I am  Sairam\n",
      "My Rollno is  14911A263\n",
      "My marks are  100\n"
     ]
    }
   ],
   "source": [
    "s1.talk() # all the instance variables created for s1 object will be used in talk() method to display the below output."
   ]
  },
  {
   "cell_type": "markdown",
   "metadata": {},
   "source": [
    "**is self a keyword in python ?**<br><br>\n",
    " - self is not a keyword in python, we can use any other words inplace of self. But it is not recommended universally, so restricting to self is best.<br>\n",
    " - Even if we use other words like delf,kelf etc in place of self this will work fine.<br>\n",
    " - **The first argument whatever you are using is implicit variable pointing towards current object**, so any name can be used in place of first argument instead of self, it will work fine as shown below.<br><br>\n",
    " \n",
    "**Note:** using **self** as first argument is recommended universally instead of other names."
   ]
  },
  {
   "cell_type": "code",
   "execution_count": 1,
   "metadata": {},
   "outputs": [
    {
     "name": "stdout",
     "output_type": "stream",
     "text": [
      "Hello I am  Sairam\n",
      "My Rollno is  14911A263\n",
      "My marks are  100\n"
     ]
    }
   ],
   "source": [
    "class Student:\n",
    "    \n",
    "    def __init__(delf,name,rollno,marks): # self replaced with delf\n",
    "        delf.name = name # \n",
    "        delf.rollno = rollno #variable2\n",
    "        delf.marks = marks #variable3\n",
    "    \n",
    "    def talk(kelf): # using kelf as first argument instead of self\n",
    "        print(\"Hello I am \",kelf.name)\n",
    "        print(\"My Rollno is \",kelf.rollno)\n",
    "        print(\"My marks are \",kelf.marks)\n",
    "        \n",
    "s1 = Student(\"Sairam\",\"14911A263\",100)\n",
    "s1.talk()"
   ]
  },
  {
   "cell_type": "markdown",
   "metadata": {},
   "source": [
    "**What if we don't give self argument ?**"
   ]
  },
  {
   "cell_type": "code",
   "execution_count": 2,
   "metadata": {},
   "outputs": [
    {
     "ename": "TypeError",
     "evalue": "__init__() takes 3 positional arguments but 4 were given",
     "output_type": "error",
     "traceback": [
      "\u001b[1;31m---------------------------------------------------------------------------\u001b[0m",
      "\u001b[1;31mTypeError\u001b[0m                                 Traceback (most recent call last)",
      "\u001b[1;32m<ipython-input-2-28fa442b53b1>\u001b[0m in \u001b[0;36m<module>\u001b[1;34m\u001b[0m\n\u001b[0;32m     11\u001b[0m         \u001b[0mprint\u001b[0m\u001b[1;33m(\u001b[0m\u001b[1;34m\"My marks are \"\u001b[0m\u001b[1;33m,\u001b[0m\u001b[0mkelf\u001b[0m\u001b[1;33m.\u001b[0m\u001b[0mmarks\u001b[0m\u001b[1;33m)\u001b[0m\u001b[1;33m\u001b[0m\u001b[1;33m\u001b[0m\u001b[0m\n\u001b[0;32m     12\u001b[0m \u001b[1;33m\u001b[0m\u001b[0m\n\u001b[1;32m---> 13\u001b[1;33m \u001b[0ms1\u001b[0m \u001b[1;33m=\u001b[0m \u001b[0mStudent\u001b[0m\u001b[1;33m(\u001b[0m\u001b[1;34m\"Sairam\"\u001b[0m\u001b[1;33m,\u001b[0m\u001b[1;34m\"14911A263\"\u001b[0m\u001b[1;33m,\u001b[0m\u001b[1;36m100\u001b[0m\u001b[1;33m)\u001b[0m\u001b[1;33m\u001b[0m\u001b[1;33m\u001b[0m\u001b[0m\n\u001b[0m\u001b[0;32m     14\u001b[0m \u001b[0ms1\u001b[0m\u001b[1;33m.\u001b[0m\u001b[0mtalk\u001b[0m\u001b[1;33m(\u001b[0m\u001b[1;33m)\u001b[0m\u001b[1;33m\u001b[0m\u001b[1;33m\u001b[0m\u001b[0m\n",
      "\u001b[1;31mTypeError\u001b[0m: __init__() takes 3 positional arguments but 4 were given"
     ]
    }
   ],
   "source": [
    "class Student:\n",
    "    \n",
    "    def __init__(name,rollno,marks): # if we don't give self argument, whatever first argument avaialble is considered as self.\n",
    "        delf.name = name  \n",
    "        delf.rollno = rollno \n",
    "        delf.marks = marks \n",
    "    \n",
    "    def talk(kelf): # using kelf as first argument instead of self\n",
    "        print(\"Hello I am \",kelf.name)\n",
    "        print(\"My Rollno is \",kelf.rollno)\n",
    "        print(\"My marks are \",kelf.marks)\n",
    "        \n",
    "s1 = Student(\"Sairam\",\"14911A263\",100)\n",
    "s1.talk()"
   ]
  },
  {
   "cell_type": "markdown",
   "metadata": {},
   "source": [
    "name is considered as self, remaining two arguments are normal arguments. In s1 we are passing one extra parameter to the \\_\\_init\\_\\_. Hence, Type error will be raised."
   ]
  },
  {
   "cell_type": "markdown",
   "metadata": {},
   "source": [
    "#### self Variable conclusions\n",
    "\n",
    "1) Within the python class to refer current object,some variable must be required which is nothing but **self**.<br>\n",
    "2) self is the reference variable pointing to the current object.<br>\n",
    "3) The first argument to the constructor and instance methods is self.<br>\n",
    "4) At the time of calling the constructor or instance method we are not required to pass any value to self variable. Internally PVM is responsible to provide variable.<br>\n",
    "5) The main purpose of self variable within the class is to declare instance variables and to access the values of instance variables.<br>\n",
    "6) self is not a keyword instead of 'self' we can use any name like delf, kelf etc. but it is recommended to use **self** only.<br>\n",
    "7) We can use self from outside the class.<br>"
   ]
  },
  {
   "cell_type": "markdown",
   "metadata": {},
   "source": [
    "## The Complete Story of Python Constructors"
   ]
  },
  {
   "cell_type": "markdown",
   "metadata": {},
   "source": [
    "#### Constructor Concept:\n",
    "\n",
    "☕ Constructor is a special method in python.<br> ☕ The name of the constructor should be **\\_\\_init\\_\\_(self)**<br> ☕ Constructor will be executed automatically at the time of object creation.<br> ☕ The main purpose of constructor is to declare and initialize instance variables.<br> ☕ Per object constructor will be exeucted only once. if we are creating 3 objects, constructor will be executed 3 times.\n",
    "<br> ☕ Constructor can take atleast one argument(atleast self)<br> ☕ Constructor is optional and if we are not providing any constructor then python will provide default constructor."
   ]
  },
  {
   "cell_type": "code",
   "execution_count": 8,
   "metadata": {},
   "outputs": [
    {
     "name": "stdout",
     "output_type": "stream",
     "text": [
      "Constructor Execution....\n"
     ]
    }
   ],
   "source": [
    "class Test:\n",
    "    def __init__(self):\n",
    "        print(\"Constructor Execution....\")\n",
    "t1=Test() # constructor is executed only one time because only one object has created."
   ]
  },
  {
   "cell_type": "code",
   "execution_count": 9,
   "metadata": {},
   "outputs": [
    {
     "name": "stdout",
     "output_type": "stream",
     "text": [
      "Constructor Execution....\n",
      "Constructor Execution....\n",
      "Constructor Execution....\n"
     ]
    }
   ],
   "source": [
    "t1=Test()\n",
    "t2=Test()\n",
    "t3=Test()\n",
    "\n",
    "# This will execute constructor 3 times"
   ]
  },
  {
   "cell_type": "code",
   "execution_count": 12,
   "metadata": {},
   "outputs": [
    {
     "name": "stdout",
     "output_type": "stream",
     "text": [
      "Creating instane variables and performing initialization...\n",
      "Sunny 121 95\n",
      "Creating instane variables and performing initialization...\n",
      "Sairam 122 96\n"
     ]
    }
   ],
   "source": [
    "# The main purpose of constructor is to declare and initialize instance variables.\n",
    "\n",
    "class Student:\n",
    "    \n",
    "    def __init__(self,name,rollno,marks):\n",
    "        print(\"Creating instane variables and performing initialization...\")\n",
    "        self.name = name  \n",
    "        self.rollno = rollno \n",
    "        self.marks = marks\n",
    "        \n",
    "s1 = Student('Sunny',121,95) # All the Instance variables for the object s1 will be created using constructor.\n",
    "print(s1.name,s1.rollno,s1.marks)\n",
    "s2 = Student(\"Sairam\",122,96) # All the Instance variables for the object s2 will be created using constructor.\n",
    "print(s2.name,s2.rollno,s2.marks)"
   ]
  },
  {
   "cell_type": "markdown",
   "metadata": {},
   "source": [
    "**Within Pyhton class constructor is always optional, if we are not providing any constructor then python will provide default constructor.**"
   ]
  },
  {
   "cell_type": "code",
   "execution_count": 18,
   "metadata": {},
   "outputs": [
    {
     "name": "stdout",
     "output_type": "stream",
     "text": [
      "Method Executed without Constructor in class\n"
     ]
    }
   ],
   "source": [
    "# Lets say we are not creating any constructor method in python class. lets see will it execute or not\n",
    "\n",
    "class Test:\n",
    "    \n",
    "    def m1(self):\n",
    "        print(\"Method Executed without Constructor in class\")\n",
    "t = Test()\n",
    "t.m1()"
   ]
  },
  {
   "cell_type": "markdown",
   "metadata": {},
   "source": [
    "without creating any constructor method within python class, the Test class is executed. It is because, python has provided default constuctor."
   ]
  },
  {
   "cell_type": "code",
   "execution_count": 14,
   "metadata": {},
   "outputs": [
    {
     "name": "stdout",
     "output_type": "stream",
     "text": [
      "Constructor Execution\n",
      "Constructor Execution\n",
      "Constructor Execution\n"
     ]
    }
   ],
   "source": [
    "class Test:\n",
    "    \n",
    "    def __init__(self):\n",
    "        print(\"Constructor Execution\")\n",
    "        \n",
    "t = Test() # this will execute a constructor method because we are creating an object t.\n",
    "t.__init__() # if we call a constructor explicitly,new object won't be created, it will be executed just like a normal method\n",
    "t.__init__() # if we call a constructor explicitly,new object won't be created, it will be executed just like a normal method\n",
    "\n",
    "# Total 3 times construction execution will be done"
   ]
  },
  {
   "cell_type": "markdown",
   "metadata": {},
   "source": [
    "At the time of creating an object constructor method will be called automatically. If we call a constructor explicitly outside the class, new object won't be created, it will be executed just like a normal method as shown above."
   ]
  },
  {
   "cell_type": "markdown",
   "metadata": {},
   "source": [
    "Two constuctor Methods with same name and different arguments will not support in python i.e. Overloading is not supported in python. Lets see the below example"
   ]
  },
  {
   "cell_type": "code",
   "execution_count": 16,
   "metadata": {},
   "outputs": [
    {
     "ename": "TypeError",
     "evalue": "__init__() missing 1 required positional argument: 'x'",
     "output_type": "error",
     "traceback": [
      "\u001b[1;31m---------------------------------------------------------------------------\u001b[0m",
      "\u001b[1;31mTypeError\u001b[0m                                 Traceback (most recent call last)",
      "\u001b[1;32m<ipython-input-16-c52b60e5c534>\u001b[0m in \u001b[0;36m<module>\u001b[1;34m\u001b[0m\n\u001b[0;32m      7\u001b[0m         \u001b[0mprint\u001b[0m\u001b[1;33m(\u001b[0m\u001b[1;34m\"One-Argument Constructor\"\u001b[0m\u001b[1;33m)\u001b[0m\u001b[1;33m\u001b[0m\u001b[1;33m\u001b[0m\u001b[0m\n\u001b[0;32m      8\u001b[0m \u001b[1;33m\u001b[0m\u001b[0m\n\u001b[1;32m----> 9\u001b[1;33m \u001b[0mt1\u001b[0m \u001b[1;33m=\u001b[0m \u001b[0mTest\u001b[0m\u001b[1;33m(\u001b[0m\u001b[1;33m)\u001b[0m\u001b[1;33m\u001b[0m\u001b[1;33m\u001b[0m\u001b[0m\n\u001b[0m",
      "\u001b[1;31mTypeError\u001b[0m: __init__() missing 1 required positional argument: 'x'"
     ]
    }
   ],
   "source": [
    "class Test:\n",
    "    \n",
    "    def __init__(self):\n",
    "        print(\"No-argument constructor\")\n",
    "        \n",
    "    def __init__(self,x): # only Latest Constructor method will be considered, even if we provide two constructor methods\n",
    "        print(\"One-Argument Constructor\")\n",
    "        \n",
    "t1 = Test()"
   ]
  },
  {
   "cell_type": "markdown",
   "metadata": {},
   "source": [
    "We got error because, it has considered the latest constructor method which should be passed x value. we didn't passed any x value to t1. hence the error. Lets check t2 = Test(10)"
   ]
  },
  {
   "cell_type": "code",
   "execution_count": 17,
   "metadata": {},
   "outputs": [
    {
     "name": "stdout",
     "output_type": "stream",
     "text": [
      "One-Argument Constructor\n"
     ]
    }
   ],
   "source": [
    "t2 = Test(10) # This worked fine."
   ]
  },
  {
   "cell_type": "markdown",
   "metadata": {},
   "source": [
    "### Constructor Conclusions\n",
    "\n",
    "**1)** Constructor is a special method in python.<br>\n",
    "**2)** The name of the Constructor is always \\_\\_init\\_\\_()<br>\n",
    "**3)** We are not required to call constructor explicitly. Whenever we are creating an object, automatically constructor will be executed.<br>\n",
    "**4)** Per object constructor will be exeucted only once. if we are creating 3 objects, constructor will be executed 3 times.<br>\n",
    "**5)** The main purpose of constructor is to declare and initialize instance variables.<br>\n",
    "**6)** Constructor can take atleast one argument(atleast self)<br>\n",
    "**7)** within the class, Constructor is optional and if we are not providing any constructor then python will provide default constructor.<br>\n",
    "**8)** Based on our requirement we can call constructor explictly, then it will be executed just like a normal method.<br>\n",
    "**9)** Overloading Concept is not applicable for constructors. Hence we cannot define multiple constructors within the same class. If we are trying to define multiple constructors, only the latest constructor will be considered.\n",
    "\n"
   ]
  },
  {
   "cell_type": "markdown",
   "metadata": {},
   "source": [
    "### A small Application to explain OOP "
   ]
  },
  {
   "cell_type": "markdown",
   "metadata": {},
   "source": [
    "**Write a program to add movie name,hero,heroine name to temporary memory like list by taking input from user and finally display all the movies listed in the memory.**"
   ]
  },
  {
   "cell_type": "code",
   "execution_count": 6,
   "metadata": {},
   "outputs": [
    {
     "name": "stdout",
     "output_type": "stream",
     "text": [
      "Enter Movie Name: Bahubali\n",
      "Enter Hero Name: Prabhas\n",
      "Enter Heroine Name: Anushka\n",
      "Movie added Successfully...\n",
      "\n",
      "Do you want to add one more movie [yes/no]: yes\n",
      "\n",
      "Enter Movie Name: Temper\n",
      "Enter Hero Name: NTR\n",
      "Enter Heroine Name: Kajal Agarwal\n",
      "Movie added Successfully...\n",
      "\n",
      "Do you want to add one more movie [yes/no]: no\n",
      "\n",
      "All Movies Information....\n",
      "\n",
      "Movie Name :  Bahubali\n",
      "Hero Name :  Prabhas\n",
      "Heroine Name :  Anushka\n",
      "\n",
      "Movie Name :  Temper\n",
      "Hero Name :  NTR\n",
      "Heroine Name :  Kajal Agarwal\n",
      "\n"
     ]
    }
   ],
   "source": [
    "class Movie:\n",
    "    '''This Movie class to get title, ero, heroine of the movie '''\n",
    "    def __init__(self,title,hero,heroine):\n",
    "        self.title = title\n",
    "        self.hero = hero\n",
    "        self.heroine = heroine\n",
    "        \n",
    "    def info(self):\n",
    "        print(\"Movie Name : \",self.title)\n",
    "        print(\"Hero Name : \",self.hero)\n",
    "        print(\"Heroine Name : \",self.heroine)\n",
    "\n",
    "list_of_movies = []\n",
    "while True:\n",
    "    title = input('Enter Movie Name: ')\n",
    "    hero = input('Enter Hero Name: ')\n",
    "    heroine = input('Enter Heroine Name: ')\n",
    "    m=Movie(title,hero,heroine)\n",
    "    list_of_movies.append(m)\n",
    "    print('Movie added Successfully...')\n",
    "    print()\n",
    "    option = input('Do you want to add one more movie [yes/no]: ')\n",
    "    print()\n",
    "    if option.lower()=='no':\n",
    "        break\n",
    "        \n",
    "print('All Movies Information....')\n",
    "print()\n",
    "for movie in list_of_movies:\n",
    "    movie.info()\n",
    "    print()"
   ]
  },
  {
   "cell_type": "markdown",
   "metadata": {},
   "source": [
    "<img src = \"images/method_vs_constructor.png\" width=800>"
   ]
  },
  {
   "cell_type": "markdown",
   "metadata": {},
   "source": [
    "**What happens if we provide method name same as class name**"
   ]
  },
  {
   "cell_type": "code",
   "execution_count": 7,
   "metadata": {},
   "outputs": [
    {
     "name": "stdout",
     "output_type": "stream",
     "text": [
      "Method\n"
     ]
    }
   ],
   "source": [
    "class Test:\n",
    "    def Test(self):\n",
    "        print('Method')\n",
    "t = Test() # This will execute the default constructor automatically\n",
    "t.Test() # Test method inside class Test will be executed."
   ]
  },
  {
   "cell_type": "markdown",
   "metadata": {},
   "source": [
    "Yes, we can give method name same as class name, tough it is legal,but it is not recommended."
   ]
  },
  {
   "cell_type": "markdown",
   "metadata": {},
   "source": [
    "# Understanding Eveything in Types of variables - Instance, Static and Local "
   ]
  },
  {
   "cell_type": "markdown",
   "metadata": {},
   "source": [
    "#### Types of Variables:\n",
    "\n",
    "Inside Python class 3 types of variables are allowed.<br>\n",
    "> 1) Instance Variables (Object Level Variables)<br>\n",
    "> 2) Static Variables (Class Level Variables)<br>\n",
    "> 3) Local variables (Method Level Variables)"
   ]
  },
  {
   "cell_type": "markdown",
   "metadata": {},
   "source": [
    "## 1) Instance Variables:\n",
    " - If the value of a variable is varied from object to object, then such type of variables are called instance variables or object level variables.<br>\n",
    "> **Example:** **name**,**rollno** and **marks** of the student \n",
    "![Image](images/instance.png)\n",
    " - For every object a separate copy of instance variables will be created.<br>\n",
    " - Most of the times instance variables will be declared inside the constructor by using self variable. \n",
    " \n",
    "**Where we can declare Instance Variables:**<br>\n",
    "> 1) Inside Constructor by using self variable<br>\n",
    "> 2) Inside Instance Method by using self variable<br>\n",
    "> 3) Outside of the class by using object reference variable"
   ]
  },
  {
   "cell_type": "markdown",
   "metadata": {},
   "source": [
    "### 1) Inside Constructor by using Self Variable: <br><br>\n",
    "We can declare instance variables inside a constructor by using self keyword. Once we creates object, automatically these variables will be added to the object."
   ]
  },
  {
   "cell_type": "code",
   "execution_count": 2,
   "metadata": {},
   "outputs": [
    {
     "name": "stdout",
     "output_type": "stream",
     "text": [
      "Creating instane variables and performing initialization...\n",
      "Creating instane variables and performing initialization...\n",
      "Creating instane variables and performing initialization...\n"
     ]
    }
   ],
   "source": [
    "class Student:\n",
    "    \n",
    "    def __init__(self,name,rollno,marks):\n",
    "        print(\"Creating instane variables and performing initialization...\")\n",
    "        self.name = name  \n",
    "        self.rollno = rollno \n",
    "        self.marks = marks\n",
    "\n",
    "# For student object from s1,s2, ...... ,s200, instance variables will be created\n",
    "# and values will be assigned upon calling Student Class with required parameters.         \n",
    "\n",
    "s1 = Student('Sairam',1,100) \n",
    "s2 = Student(\"Dhana\",2,95)\n",
    "# .......\n",
    "# .......\n",
    "# .......\n",
    "s200 = Student(\"Prasad\",200,100)\n"
   ]
  },
  {
   "cell_type": "code",
   "execution_count": 3,
   "metadata": {},
   "outputs": [
    {
     "name": "stdout",
     "output_type": "stream",
     "text": [
      "Sairam 1 100\n",
      "Dhana 2 95\n",
      "Prasad 200 100\n"
     ]
    }
   ],
   "source": [
    "print(s1.name,s1.rollno,s1.marks)\n",
    "print(s2.name,s2.rollno,s2.marks)\n",
    "print(s200.name,s200.rollno,s200.marks)"
   ]
  },
  {
   "cell_type": "code",
   "execution_count": 6,
   "metadata": {},
   "outputs": [
    {
     "name": "stdout",
     "output_type": "stream",
     "text": [
      "{'name': 'Sairam', 'rollno': 1, 'marks': 100}\n",
      "{'name': 'Dhana', 'rollno': 2, 'marks': 95}\n",
      "{'name': 'Prasad', 'rollno': 200, 'marks': 100}\n"
     ]
    }
   ],
   "source": [
    "# we can get the no. of instance variables of an object with \"object.__dict__\" as follows\n",
    "print(s1.__dict__)\n",
    "print(s2.__dict__)\n",
    "print(s200.__dict__)"
   ]
  },
  {
   "cell_type": "markdown",
   "metadata": {},
   "source": [
    "### 2) Inside Instance Method by using self variable"
   ]
  },
  {
   "cell_type": "markdown",
   "metadata": {},
   "source": [
    " - We can also declare instance variables inside instance method by using self variable.<br>\n",
    " - If any instance variable declared inside instance method, that instance variable will be added once we call that method.<br>\n",
    " - If we are not calling the Instance method then those variables won't be added to the object."
   ]
  },
  {
   "cell_type": "code",
   "execution_count": 7,
   "metadata": {},
   "outputs": [
    {
     "name": "stdout",
     "output_type": "stream",
     "text": [
      "{'a': 10, 'b': 20}\n"
     ]
    }
   ],
   "source": [
    "class Test:\n",
    "    \n",
    "    def __init__(self):\n",
    "        self.a = 10\n",
    "        self.b = 20\n",
    "        \n",
    "    def m1(self): \n",
    "        self.c = 30 # declaring Instance variable inside the method, this variable will be execute only if it is called explicitly\n",
    "        \n",
    "t = Test() # Only the constructor method will be called automatically\n",
    "print(t.__dict__)"
   ]
  },
  {
   "cell_type": "markdown",
   "metadata": {},
   "source": [
    "Tough we have declared Instance Variable inside the method, it will not execute and show up in the Instance variables dict. It is because, we haven't called the method m1.<br><br> upon calling the m1() method, self.c will be added to Instance variable dict as follows."
   ]
  },
  {
   "cell_type": "code",
   "execution_count": 8,
   "metadata": {},
   "outputs": [
    {
     "name": "stdout",
     "output_type": "stream",
     "text": [
      "{'a': 10, 'b': 20, 'c': 30}\n"
     ]
    }
   ],
   "source": [
    "class Test:\n",
    "    \n",
    "    def __init__(self):\n",
    "        self.a = 10\n",
    "        self.b = 20\n",
    "        \n",
    "    def m1(self): \n",
    "        self.c = 30 # this will be executed and added to the instance variables dict upon calling the method \n",
    "        \n",
    "t = Test() # Only the constructor method will be called automatically\n",
    "t.m1() # all the instance variables declared inside a method will be executed and adds to the instance variables dict on calling the method\n",
    "print(t.__dict__)"
   ]
  },
  {
   "cell_type": "markdown",
   "metadata": {},
   "source": [
    "Since we have called the method m1, Instance variable dict has resulted 3 instance variables."
   ]
  },
  {
   "cell_type": "markdown",
   "metadata": {},
   "source": [
    "### 3) Outside of the Class by using Object Reference Variable:\n",
    "\n",
    "We can also add instance variables outside of a class to a particular object."
   ]
  },
  {
   "cell_type": "code",
   "execution_count": 10,
   "metadata": {},
   "outputs": [
    {
     "name": "stdout",
     "output_type": "stream",
     "text": [
      "{'a': 10, 'b': 20, 'c': 30, 'd': 40}\n"
     ]
    }
   ],
   "source": [
    "class Test:\n",
    "    \n",
    "    def __init__(self):\n",
    "        self.a = 10\n",
    "        self.b = 20\n",
    "        \n",
    "    def m1(self): \n",
    "        self.c = 30 \n",
    "        \n",
    "t = Test() # a,b will be added to the object \n",
    "t.m1() # c will be added to the object \n",
    "t.d = 40 # d will be added to the object, this Instance variable is declared outside the class\n",
    "print(t.__dict__) # hence a,b,c,d will be resulted in Instance Variables dict as follows"
   ]
  },
  {
   "cell_type": "code",
   "execution_count": 11,
   "metadata": {},
   "outputs": [
    {
     "name": "stdout",
     "output_type": "stream",
     "text": [
      "{'a': 10, 'b': 20, 'c': 30, 'd': 40}\n",
      "{'a': 10, 'b': 20}\n"
     ]
    }
   ],
   "source": [
    "class Test:\n",
    "    \n",
    "    def __init__(self):\n",
    "        self.a = 10\n",
    "        self.b = 20\n",
    "        \n",
    "    def m1(self): \n",
    "        self.c = 30 \n",
    "        \n",
    "t1 = Test() # a,b will be added to the object automatically upon creating an object. \n",
    "t1.m1() # c will be added to the object from inside the Instance Method only upon calling the method m1.\n",
    "t1.d = 40 # d will be added to the object from outside of the class using object reference variable.\n",
    "t2 = Test()\n",
    "print(t1.__dict__) # a,b,c,d will be added to the object t1\n",
    "print(t2.__dict__) # only a,b will be added to the object t2"
   ]
  },
  {
   "cell_type": "markdown",
   "metadata": {},
   "source": [
    "From above example we can see that, **Number Instance Variables will vary from object to object** "
   ]
  },
  {
   "cell_type": "markdown",
   "metadata": {},
   "source": [
    "### How to Access Instance Variables: \n",
    "\n",
    "We can access instance variables with in the class by using **self** variable and outside of the class by using **object reference**."
   ]
  },
  {
   "cell_type": "code",
   "execution_count": 14,
   "metadata": {},
   "outputs": [
    {
     "name": "stdout",
     "output_type": "stream",
     "text": [
      "10\n",
      "20\n",
      "10\n",
      "20\n"
     ]
    }
   ],
   "source": [
    "class Test:\n",
    "    \n",
    "    def __init__(self):\n",
    "        self.a = 10\n",
    "        self.b = 20\n",
    "        \n",
    "    def display(self): \n",
    "        print(self.a) # Accessing the Instance Variable a from constructor and printing it \n",
    "        print(self.b) # Accessing the Instance Variable b from constructor and printing it\n",
    "        \n",
    "t = Test()\n",
    "t.display()\n",
    "print(t.a) # Accessing value of a using object reference\n",
    "print(t.b) # Accessing value of b using object reference"
   ]
  },
  {
   "cell_type": "markdown",
   "metadata": {},
   "source": [
    "### How to delete Instance Variable from the Object:\n",
    "\n",
    "1) Within a class we can delete instance variable as follows: <br>\n",
    "> **del self.variableName**<br>\n",
    "> Example : <span Style=\"color:orange\">del self.a</span>\n",
    "\n",
    "2) From outside of class we can delete instance variables as follows: <br> \n",
    "> **del objectreference.variableName**<br>\n",
    "> Example: <span Style=\"color:orange\">del t2.b, t2.d</span>"
   ]
  },
  {
   "cell_type": "code",
   "execution_count": 16,
   "metadata": {},
   "outputs": [
    {
     "name": "stdout",
     "output_type": "stream",
     "text": [
      "Values Before calling m1 method :  {'a': 10, 'b': 20, 'c': 30, 'd': 40}\n",
      "Values After Calling m1 method :  {'a': 10, 'b': 20, 'd': 40}\n"
     ]
    }
   ],
   "source": [
    "class Test:\n",
    "    \n",
    "    def __init__(self):\n",
    "        self.a = 10\n",
    "        self.b = 20\n",
    "        self.c = 30\n",
    "        self.d = 40\n",
    "        \n",
    "    def m1(self): \n",
    "        del self.c # deleting the Instance Variable within the class upon calling the method\n",
    "        \n",
    "t1 = Test()\n",
    "print(\"Values Before calling m1 method : \",t1.__dict__) # All Instance Variables will present\n",
    "t1.m1() # Upon calling m1() Instance Variable c will be deleted\n",
    "print(\"Values After Calling m1 method : \",t1.__dict__) # All Instance Variables after deleting Instance Variable c"
   ]
  },
  {
   "cell_type": "code",
   "execution_count": 19,
   "metadata": {},
   "outputs": [
    {
     "name": "stdout",
     "output_type": "stream",
     "text": [
      "Values Before deleting Instance Variables Outside the Class :  {'a': 10, 'b': 20, 'c': 30, 'd': 40}\n",
      "Values After deleting Instance Variables Outside the Class :  {'a': 10, 'c': 30}\n"
     ]
    }
   ],
   "source": [
    "t2 = Test()\n",
    "print(\"Values Before deleting Instance Variables Outside the Class : \",t2.__dict__) # All Instance Variables will present\n",
    "del t2.b,t2.d\n",
    "print(\"Values After deleting Instance Variables Outside the Class : \",t2.__dict__)"
   ]
  },
  {
   "cell_type": "markdown",
   "metadata": {},
   "source": [
    "**Note:** The instance variables which are deleted from one object,will not be deleted from other objects."
   ]
  },
  {
   "cell_type": "markdown",
   "metadata": {},
   "source": [
    "### Updating Instance Variables of an Object:\n",
    "\n",
    "If we change the values of instance variables of one object then those changes won't be reflected to the remaining objects, because for every object we are separate copy of instance variables are available."
   ]
  },
  {
   "cell_type": "code",
   "execution_count": 21,
   "metadata": {},
   "outputs": [
    {
     "name": "stdout",
     "output_type": "stream",
     "text": [
      "values of Instance Variables of object t1 before Updating are: {'a': 10, 'b': 20}\n",
      "values of Instance Variables of object t1 After Updating are: {'a': 888, 'b': 999}\n",
      "values of Instance Variables of object t1 After Updating in t1 will not change in t2: {'a': 10, 'b': 20}\n"
     ]
    }
   ],
   "source": [
    "class Test:\n",
    "    \n",
    "    def __init__(self):\n",
    "        self.a = 10\n",
    "        self.b = 20\n",
    "        \n",
    "t1 = Test()\n",
    "print(\"values of Instance Variables of object t1 before Updating are:\",t1.__dict__)\n",
    "t1.a = 888\n",
    "t1.b = 999\n",
    "print(\"values of Instance Variables of object t1 After Updating are:\",t1.__dict__)\n",
    "t2 = Test()\n",
    "print(\"values of Instance Variables of object t1 After Updating in t1 will not change in t2:\" ,t2.__dict__)"
   ]
  },
  {
   "cell_type": "code",
   "execution_count": 26,
   "metadata": {},
   "outputs": [
    {
     "name": "stdout",
     "output_type": "stream",
     "text": [
      "t1.a = 888, t1.b = 999 \n",
      "t2.a = 10, t2.b = 20 \n"
     ]
    }
   ],
   "source": [
    "print(\"t1.a = {}, t1.b = {} \".format(t1.a,t1.b))\n",
    "print(\"t2.a = {}, t2.b = {} \".format(t2.a,t2.b))"
   ]
  },
  {
   "cell_type": "markdown",
   "metadata": {},
   "source": [
    "## 2) Static Variables"
   ]
  },
  {
   "cell_type": "markdown",
   "metadata": {},
   "source": [
    "☕ If the value of a variable is not varied from object to object,then it is not recommended to declare those variables as instance variables. we have to declare with in the class directly but outside of methods. Such types of variables are called Static variables.<br>\n",
    "> **Example**: College Name of the student will be same for all the 200 students.\n",
    "![Image](images/static-variable.png)\n",
    "\n",
    "☕ In the case of instance variables, for every object a seperate copy will be created. In case of static variables, only one copy will be created and shared by all objects of that class.<br>\n",
    "☕ Most of the times, static variables should be declared within the class directly<br>\n",
    "☕ We can access static variables either by class name or by object reference. But recommended to use class name.\n",
    "<br><br>\n",
    "#### Instance Variable vs Static Variable:\n",
    "**Note:** In the case of instance variables for every object a seperate copy will be created,but in the case of static variables for total class only one copy will be created and shared by every object of that class."
   ]
  },
  {
   "cell_type": "code",
   "execution_count": 7,
   "metadata": {},
   "outputs": [
    {
     "name": "stdout",
     "output_type": "stream",
     "text": [
      "Creating instane variables and performing initialization...\n",
      "Creating instane variables and performing initialization...\n",
      "Creating instane variables and performing initialization...\n"
     ]
    }
   ],
   "source": [
    "class Student:\n",
    "    \n",
    "    college_name = 'VJIT' # Static Variable\n",
    "    def __init__(self,name,rollno,marks):\n",
    "        print(\"Creating instane variables and performing initialization...\")\n",
    "        self.name = name  # Instance Variable\n",
    "        self.rollno = rollno # Instance Variable\n",
    "        self.marks = marks # Instance Variable\n",
    "\n",
    "# For student object from s1,s2, ...... ,s200, instance variables will be created\n",
    "# and values will be assigned upon calling Student Class with required parameters.         \n",
    "\n",
    "s1 = Student('Sairam',1,100) \n",
    "s2 = Student(\"Dhana\",2,95)\n",
    "# .......\n",
    "# .......\n",
    "# .......\n",
    "s200 = Student(\"Prasad\",200,100)"
   ]
  },
  {
   "cell_type": "markdown",
   "metadata": {},
   "source": [
    "### Various Places to declare Static Variables:\n",
    "1) In general we can declare within the class directly but from out side of any method<br>\n",
    "2) Inside constructor by using class name<br>\n",
    "3) Inside instance method by using class name<br>\n",
    "4) Inside classmethod by using either class name or cls variable<br>\n",
    "5) Inside static method by using class name<br>\n",
    "6) Outside of class by using Class Name."
   ]
  },
  {
   "cell_type": "code",
   "execution_count": 1,
   "metadata": {},
   "outputs": [],
   "source": [
    "class Test:\n",
    "    a = 10 # 1) declaring within the class directly but from outside of any method\n",
    "    def __init__(self):\n",
    "        Test.b = 20 # 2) Declaring Inside constructor by using class name, This will be executed at time of object creation.\n",
    "    def m1(self):\n",
    "        Test.c = 30 # 3) Declaring Inside Instance Method using class name, this method has to be called other wise it will not add to the class."
   ]
  },
  {
   "cell_type": "code",
   "execution_count": 2,
   "metadata": {},
   "outputs": [
    {
     "name": "stdout",
     "output_type": "stream",
     "text": [
      "{'__module__': '__main__', 'a': 10, '__init__': <function Test.__init__ at 0x0000017E601671F0>, 'm1': <function Test.m1 at 0x0000017E60167C10>, '__dict__': <attribute '__dict__' of 'Test' objects>, '__weakref__': <attribute '__weakref__' of 'Test' objects>, '__doc__': None}\n"
     ]
    }
   ],
   "source": [
    "print(Test.__dict__) # Only a = 10 is available in the class dict. since only Test class is called."
   ]
  },
  {
   "cell_type": "code",
   "execution_count": 4,
   "metadata": {},
   "outputs": [
    {
     "name": "stdout",
     "output_type": "stream",
     "text": [
      "{'__module__': '__main__', 'a': 10, '__init__': <function Test.__init__ at 0x0000017E601671F0>, 'm1': <function Test.m1 at 0x0000017E60167C10>, '__dict__': <attribute '__dict__' of 'Test' objects>, '__weakref__': <attribute '__weakref__' of 'Test' objects>, '__doc__': None, 'b': 20}\n"
     ]
    }
   ],
   "source": [
    "# To add b to the dict, we need to create an object. constructor will be called automatically and b = 20 will be added to dict.\n",
    "t = Test()\n",
    "print(Test.__dict__) # Now a=10 and b=20, both will be added to the class dict."
   ]
  },
  {
   "cell_type": "code",
   "execution_count": 5,
   "metadata": {},
   "outputs": [
    {
     "name": "stdout",
     "output_type": "stream",
     "text": [
      "{'__module__': '__main__', 'a': 10, '__init__': <function Test.__init__ at 0x0000017E601671F0>, 'm1': <function Test.m1 at 0x0000017E60167C10>, '__dict__': <attribute '__dict__' of 'Test' objects>, '__weakref__': <attribute '__weakref__' of 'Test' objects>, '__doc__': None, 'b': 20, 'c': 30}\n"
     ]
    }
   ],
   "source": [
    "# We have to call the the Instance Method, otherwise static variable won't be added to the class.\n",
    "t.m1()\n",
    "print(Test.__dict__) # Now a=10,b=20,c=30 all three will be added to class Test."
   ]
  },
  {
   "cell_type": "code",
   "execution_count": 12,
   "metadata": {},
   "outputs": [
    {
     "name": "stdout",
     "output_type": "stream",
     "text": [
      "{'__module__': '__main__', 'a': 10, '__init__': <function Test.__init__ at 0x0000017E602459D0>, 'm1': <function Test.m1 at 0x0000017E60245940>, 'm2': <classmethod object at 0x0000017E602580D0>, 'm3': <staticmethod object at 0x0000017E60258100>, '__dict__': <attribute '__dict__' of 'Test' objects>, '__weakref__': <attribute '__weakref__' of 'Test' objects>, '__doc__': None}\n",
      "\n",
      "{'__module__': '__main__', 'a': 10, '__init__': <function Test.__init__ at 0x0000017E602459D0>, 'm1': <function Test.m1 at 0x0000017E60245940>, 'm2': <classmethod object at 0x0000017E602580D0>, 'm3': <staticmethod object at 0x0000017E60258100>, '__dict__': <attribute '__dict__' of 'Test' objects>, '__weakref__': <attribute '__weakref__' of 'Test' objects>, '__doc__': None, 'b': 20}\n",
      "\n",
      "{'__module__': '__main__', 'a': 10, '__init__': <function Test.__init__ at 0x0000017E602459D0>, 'm1': <function Test.m1 at 0x0000017E60245940>, 'm2': <classmethod object at 0x0000017E602580D0>, 'm3': <staticmethod object at 0x0000017E60258100>, '__dict__': <attribute '__dict__' of 'Test' objects>, '__weakref__': <attribute '__weakref__' of 'Test' objects>, '__doc__': None, 'b': 20, 'c': 30}\n",
      "\n",
      "{'__module__': '__main__', 'a': 10, '__init__': <function Test.__init__ at 0x0000017E602459D0>, 'm1': <function Test.m1 at 0x0000017E60245940>, 'm2': <classmethod object at 0x0000017E602580D0>, 'm3': <staticmethod object at 0x0000017E60258100>, '__dict__': <attribute '__dict__' of 'Test' objects>, '__weakref__': <attribute '__weakref__' of 'Test' objects>, '__doc__': None, 'b': 20, 'c': 30, 'd': 40, 'e': 50}\n",
      "\n",
      "{'__module__': '__main__', 'a': 10, '__init__': <function Test.__init__ at 0x0000017E602459D0>, 'm1': <function Test.m1 at 0x0000017E60245940>, 'm2': <classmethod object at 0x0000017E602580D0>, 'm3': <staticmethod object at 0x0000017E60258100>, '__dict__': <attribute '__dict__' of 'Test' objects>, '__weakref__': <attribute '__weakref__' of 'Test' objects>, '__doc__': None, 'b': 20, 'c': 30, 'd': 40, 'e': 50, 'f': 60}\n",
      "\n",
      "{'__module__': '__main__', 'a': 10, '__init__': <function Test.__init__ at 0x0000017E602459D0>, 'm1': <function Test.m1 at 0x0000017E60245940>, 'm2': <classmethod object at 0x0000017E602580D0>, 'm3': <staticmethod object at 0x0000017E60258100>, '__dict__': <attribute '__dict__' of 'Test' objects>, '__weakref__': <attribute '__weakref__' of 'Test' objects>, '__doc__': None, 'b': 20, 'c': 30, 'd': 40, 'e': 50, 'f': 60, 'g': 70}\n"
     ]
    }
   ],
   "source": [
    "class Test:\n",
    "    a = 10 # 1) declaring within the class directly but from outside of any method\n",
    "    def __init__(self):\n",
    "        Test.b = 20 # 2) Declaring Inside constructor by using class name, This will be executed at time of object creation.\n",
    "    def m1(self):\n",
    "        Test.c = 30 # 3) Declaring Inside Instance Method using class name, this method has to be called other wise it will not add to the class.\n",
    "    \n",
    "    @classmethod\n",
    "    def m2(cls):\n",
    "        cls.d=40 # 4) We can declare static variables Inside Class Method either by using cls or class name i.e d=40 using cls\n",
    "        Test.e=50 # 4) We can declare static variables Inside Class Method either by using cls or class name i.e e=50 using class name Test\n",
    "        \n",
    "    @staticmethod\n",
    "    def m3():\n",
    "        Test.f = 60 # 5) declaring Inside static method by using class name\n",
    "print(Test.__dict__)\n",
    "print()\n",
    "t=Test()\n",
    "print(Test.__dict__)\n",
    "print()\n",
    "t.m1()\n",
    "print(Test.__dict__)\n",
    "print()\n",
    "Test.m2() # calling the m2 to add d=40 and e=50 to the class.\n",
    "print(Test.__dict__)\n",
    "print()\n",
    "Test.m3() # # calling the m2 to add f=60 to the class.\n",
    "print(Test.__dict__)\n",
    "print()\n",
    "Test.g = 70 # 6) declaring static variable Outside of class by using Class Name\n",
    "print(Test.__dict__) # all the static variables which are declared in various places inside class will be executed and will be added to the class Test."
   ]
  },
  {
   "cell_type": "markdown",
   "metadata": {},
   "source": [
    "### How to access Static Variables:\n",
    "\n",
    "1) **inside constructor**: by using either self or classname<br>\n",
    "2) **inside instance method**: by using either self or classname<br>\n",
    "3) **inside class method**: by using either cls variable or classname<br>\n",
    "4) **inside static method**: by using classname <br>\n",
    "5) **From outside of class**: by using either object reference or classname"
   ]
  },
  {
   "cell_type": "code",
   "execution_count": 13,
   "metadata": {},
   "outputs": [
    {
     "name": "stdout",
     "output_type": "stream",
     "text": [
      "10\n",
      "10\n"
     ]
    }
   ],
   "source": [
    "class Test:\n",
    "    a=10\n",
    "    def __init__(self):\n",
    "        print(self.a) # 1) Accessing Static Variable with Self inside Constructor\n",
    "        print(Test.a) # 1) Accessing Static Variable with Class name(Test) inside Constructor\n",
    "\n",
    "t=Test() # Both will be printed with same value.\n"
   ]
  },
  {
   "cell_type": "code",
   "execution_count": 21,
   "metadata": {},
   "outputs": [
    {
     "name": "stdout",
     "output_type": "stream",
     "text": [
      "1) Accessing Static Variable with Self inside Constructor : 10\n",
      "1) Accessing Static Variable with Class name(Test) inside Constructor : 10\n",
      "\n",
      "2) Accessing Static Variable with Self inside Class Method :  10\n",
      "2) Accessing Static Variable with Class name(Test) inside Class Method :  10\n",
      "\n",
      "3) Accessing the Static Variable using cls variable inside class method :  10\n",
      "3) Accessing the Static Variable using class name inside class method :  10\n",
      "\n",
      "4) Accessing The Static Variable inside Static Method using class name 10\n",
      "\n",
      "5) Accessing the Static Variable outside of class using object reference 10\n",
      "5) Accessing the Static Variable outside of class using Class Name 10\n"
     ]
    }
   ],
   "source": [
    "class Test:\n",
    "    a=10\n",
    "    def __init__(self):\n",
    "        print(\"1) Accessing Static Variable with Self inside Constructor :\",self.a) # 1) Accessing Static Variable with Self inside Constructor\n",
    "        print(\"1) Accessing Static Variable with Class name(Test) inside Constructor :\",Test.a) # 1) Accessing Static Variable with Class name(Test) inside Constructor\n",
    "        print()\n",
    "        \n",
    "    def m1(self):\n",
    "        print(\"2) Accessing Static Variable with Self inside Class Method : \",self.a) # 2) Accessing Static Variable with Self inside Class Method\n",
    "        print(\"2) Accessing Static Variable with Class name(Test) inside Class Method : \",Test.a) # 2) Accessing Static Variable with Class name(Test) inside Class Method\n",
    "        print()\n",
    "        \n",
    "    @classmethod\n",
    "    def m2(cls):\n",
    "        print(\"3) Accessing the Static Variable using cls variable inside class method : \",cls.a)\n",
    "        print(\"3) Accessing the Static Variable using class name inside class method : \",Test.a)\n",
    "        print()\n",
    "        \n",
    "    @staticmethod\n",
    "    def m3():\n",
    "        print(\"4) Accessing The Static Variable inside Static Method using class name\",Test.a)\n",
    "        print()\n",
    "        \n",
    "t=Test() # Both will be printed with same value.\n",
    "t.m1()\n",
    "t.m2()\n",
    "t.m3()\n",
    "print(\"5) Accessing the Static Variable outside of class using object reference\",t.a)\n",
    "print(\"5) Accessing the Static Variable outside of class using Class Name\",Test.a)\n"
   ]
  },
  {
   "cell_type": "markdown",
   "metadata": {},
   "source": [
    "### Where we can modify the Value of Static Variable: \n",
    "Anywhere either with in the class or outside of class we can modify by using classname. But inside class method, by using cls variable.<br><br>\n",
    "**Note:** We cannot modify static variable value using self or object reference"
   ]
  },
  {
   "cell_type": "code",
   "execution_count": 23,
   "metadata": {},
   "outputs": [
    {
     "name": "stdout",
     "output_type": "stream",
     "text": [
      "10\n"
     ]
    }
   ],
   "source": [
    "class Test:\n",
    "    a=10\n",
    "    \n",
    "print(Test.a) #This has to print the static variable value in class Test i.e a=10        "
   ]
  },
  {
   "cell_type": "code",
   "execution_count": 25,
   "metadata": {},
   "outputs": [
    {
     "name": "stdout",
     "output_type": "stream",
     "text": [
      "20\n"
     ]
    }
   ],
   "source": [
    "class Test:\n",
    "    a=10\n",
    "    def __init__(self):\n",
    "        Test.a = 20 #on creating the object, this should update the value of 'a'\n",
    "\n",
    "t=Test()\n",
    "print(Test.a) #This has to print the Updated static variable value from the constructor i.e a=20        "
   ]
  },
  {
   "cell_type": "code",
   "execution_count": 26,
   "metadata": {},
   "outputs": [
    {
     "name": "stdout",
     "output_type": "stream",
     "text": [
      "Value Before Updating the Static Variable inside constructor using class name:  10\n",
      "Value After Updating the Static Variable inside constructor using class name:  20\n",
      "\n",
      "Value After Updating the Static Variable inside Instance Method using class name:  30\n",
      "\n",
      "Value After Updating the Static Variable inside class Method using class variable:  40\n",
      "Value After Updating the Static Variable inside class Method using class Name:  50\n",
      "\n",
      "Value After Updating the Static Variable inside Static Method using class Name:  60\n",
      "\n",
      "Value After Updating the Static Variable outside of class object using class Name:  70\n"
     ]
    }
   ],
   "source": [
    "class Test:\n",
    "    a=10\n",
    "    def __init__(self):\n",
    "        print(\"Value Before Updating the Static Variable inside constructor using class name: \",Test.a)\n",
    "        Test.a = 20\n",
    "        print(\"Value After Updating the Static Variable inside constructor using class name: \",Test.a)\n",
    "        print()\n",
    "        \n",
    "    def m1(self):\n",
    "        Test.a = 30\n",
    "        print(\"Value After Updating the Static Variable inside Instance Method using class name: \",Test.a)\n",
    "        print()\n",
    "\n",
    "    @classmethod\n",
    "    def m2(cls):\n",
    "        cls.a = 40\n",
    "        print(\"Value After Updating the Static Variable inside class Method using class variable: \",Test.a)\n",
    "        Test.a = 50\n",
    "        print(\"Value After Updating the Static Variable inside class Method using class Name: \",Test.a)\n",
    "        print()\n",
    "        \n",
    "    @staticmethod\n",
    "    def m3():\n",
    "        Test.a = 60\n",
    "        print(\"Value After Updating the Static Variable inside Static Method using class Name: \",Test.a)\n",
    "        print()\n",
    "        \n",
    "t= Test()\n",
    "t.m1()\n",
    "Test.m2()\n",
    "Test.m3()\n",
    "Test.a = 70\n",
    "print(\"Value After Updating the Static Variable outside of class object using class Name: \",Test.a)"
   ]
  },
  {
   "cell_type": "markdown",
   "metadata": {},
   "source": [
    "## Example Programs for Instance and Static Variables"
   ]
  },
  {
   "cell_type": "markdown",
   "metadata": {},
   "source": [
    "### If we change the Value of Static Variable by using either self OR Object Reference Variable:\n",
    "\n",
    "If we change the value of static variable by using either self or object reference variable, then the value of static variable won't be changed, just a new instance variable with that name will be added to that particular object."
   ]
  },
  {
   "cell_type": "code",
   "execution_count": 2,
   "metadata": {},
   "outputs": [
    {
     "name": "stdout",
     "output_type": "stream",
     "text": [
      "10\n",
      "888\n"
     ]
    }
   ],
   "source": [
    "class Test:\n",
    "    a = 10\n",
    "    def __init__(self):\n",
    "        self.a = 888 # trying to change the static variable value of 'a' using self, this will only create a create new instance variable.\n",
    "        \n",
    "t1 = Test()\n",
    "print(Test.a)\n",
    "print(t1.a) # For Object Reference, Instance Variable is the first priority, if it is not available then it will consider static variable.\n",
    "# since Instance Variable is created, a will result 888."
   ]
  },
  {
   "cell_type": "code",
   "execution_count": 3,
   "metadata": {},
   "outputs": [
    {
     "name": "stdout",
     "output_type": "stream",
     "text": [
      "888\n",
      "888\n"
     ]
    }
   ],
   "source": [
    "class Test:\n",
    "    a = 10\n",
    "    def m1(self):\n",
    "        Test.a = 888 # on calling this method, this will update the static variable 'a' value to 888.\n",
    "        #since we are updating using class name 'Test.a' \n",
    "        \n",
    "t1 = Test()\n",
    "t1.m1() # a=10 will be updated with a=888 upon calling m1 method since we are using class name ' Test' for updating the static variable value.\n",
    "print(Test.a) # since the variable is updated at class level, this will result 888\n",
    "print(t1.a) # Since Instance Variable is Not Available in Test class, as a second priority static variable value will be preferred i.e a=888"
   ]
  },
  {
   "cell_type": "code",
   "execution_count": 4,
   "metadata": {},
   "outputs": [
    {
     "name": "stdout",
     "output_type": "stream",
     "text": [
      "t1: 10 20\n",
      "t2: 10 20\n",
      "t1: 888 999\n",
      "t2: 10 20\n"
     ]
    }
   ],
   "source": [
    "class Test:\n",
    "    a=10 # Static Variable\n",
    "    def __init__(self):\n",
    "        self.b = 20 # Instance Variable\n",
    "        \n",
    "t1=Test() \n",
    "t2=Test()\n",
    "print('t1:',t1.a,t1.b) # static Variable is Second piority of Object Reference if Instance Variable is Not Available hence t1.a = 10 \n",
    "# and Instance Variable b is readily available hence t1.b = 20 will be displayed\n",
    "print('t2:',t2.a,t2.b) # same as above\n",
    "t1.a = 888 # we can't modify the static variable with object reference, so new instance variable will be created hence t1.a = 888 will be created\n",
    "t1.b = 999 # Since Instance Variable 'b' is already available, this will modify the value of Instance Variable b from 20 to 999. \n",
    "print('t1:',t1.a,t1.b) # This will result t1.a = 888, t1.b = 999\n",
    "print('t2:',t2.a,t2.b) # This will result t1.a = 10, t1.b = 20"
   ]
  },
  {
   "cell_type": "markdown",
   "metadata": {},
   "source": [
    "**Important Conclusion:**<br>\n",
    "\n",
    "<span style='color:green'>**If we are trying to change the value of static variable by using self (or) object reference variable, then the value of the static variable won't be changed, just a new instance variable with that name will be added to that particular object.**</span>    "
   ]
  },
  {
   "cell_type": "code",
   "execution_count": 5,
   "metadata": {},
   "outputs": [
    {
     "name": "stdout",
     "output_type": "stream",
     "text": [
      "t1: 10 20\n",
      "t2: 10 20\n",
      "t1: 888 20\n",
      "t2: 888 20\n",
      "Test:  888 999\n"
     ]
    }
   ],
   "source": [
    "class Test:\n",
    "    a=10 # Static Variable\n",
    "    def __init__(self):\n",
    "        self.b = 20 # Instance Variable\n",
    "        \n",
    "t1=Test() \n",
    "t2=Test()\n",
    "\n",
    "print('t1:',t1.a,t1.b) # static Variable is Second piority of Object Reference if Instance Variable is Not Available hence t1.a = 10 \n",
    "# and Instance Variable b is readily available hence t1.b = 20 will be displayed\n",
    "\n",
    "print('t2:',t2.a,t2.b) # same as above\n",
    "\n",
    "Test.a = 888 # We are modifying the Static Variable at class level from outside of the class, so a= 10 will be replaced with 888 \n",
    "Test.b = 999 # Since Static Variable 'b' is Not available at class level, this will create new Static Variable b with value 999. \n",
    "\n",
    "print('t1:',t1.a,t1.b) # This will result t1.a = 888, t1.b = 20\n",
    "# Instance Variable a is not available in Test Class, hence Static variable t1.a = 888 will be preferred and instance variable b is\n",
    "# readily available hence t1.b will be 20\n",
    "\n",
    "print('t2:',t2.a,t2.b) # This will result t1.a = 888, t1.b = 20; Same as above\n",
    "\n",
    "\n",
    "print('Test: ',Test.a,Test.b) # This will result Test.a = 888, Test.b = 999\n",
    "# At class level, both Static variables a and b are available "
   ]
  },
  {
   "cell_type": "code",
   "execution_count": 6,
   "metadata": {},
   "outputs": [
    {
     "name": "stdout",
     "output_type": "stream",
     "text": [
      "t1: 888 999\n",
      "t2: 888 20\n"
     ]
    }
   ],
   "source": [
    "class Test:\n",
    "    a=10\n",
    "    def __init__(self):\n",
    "        self.b = 20\n",
    "\n",
    "t1=Test()\n",
    "t2=Test()\n",
    "Test.a = 888 # Static Variable 'a=10' will be replaced with 888.\n",
    "t1.b = 999 # Instance Variable 'b=20' of object t1 will be replaced with 999\n",
    "print(\"t1:\",t1.a,t1.b) # Since Instance Variable a not availble, hence static variable a=888 will be considered.\n",
    "# t1.b is already modified with 999, hence 999 will be displayed\n",
    "\n",
    "print(\"t2:\",t2.a,t2.b) # Static variable a = 888 will be displayed and Instance Variable b=20 of t2 object is already available without any update.\n"
   ]
  },
  {
   "cell_type": "markdown",
   "metadata": {},
   "source": [
    "**As Seen Above**<br>\n",
    "\n",
    "<span style='color:Green'>**If we perform any change to instance variable in an object, that change won't reflect in other objects.**</span><br>\n",
    "> i.e in object t1 b=20 will be replaced with 999, whereas in t2 its still 20 since changes made in t1 Instance Variables didn't reflected in t2.\n",
    "\n",
    "<span style='color:Green'>**If we perform any change to Static variable, that change will reflect in all objects.**</span><br>\n",
    "> i.e Test Class a=10 is be replaced with 888, and that change at class level is reflected in t1 and  t2 with value 888 of static variable 'a'\n"
   ]
  },
  {
   "cell_type": "code",
   "execution_count": 7,
   "metadata": {},
   "outputs": [
    {
     "name": "stdout",
     "output_type": "stream",
     "text": [
      "t1:  888 999\n",
      "t2:  10 20\n"
     ]
    }
   ],
   "source": [
    "class Test:\n",
    "    a=10\n",
    "    def __init__(self):\n",
    "        self.b = 20\n",
    "        \n",
    "    def m1(self):\n",
    "        self.a=888\n",
    "        self.b=999\n",
    "        \n",
    "t1=Test() # on calling this Static Variable a =10 and Instance Variable b=20 are available\n",
    "t2=Test() # on calling this Static Variable a =10 and Instance Variable b=20 are available\n",
    "t1.m1() # on calling this method m1, Instance Variable a=888 will created in t1 and b=20 will be replaced with 999 in t1\n",
    "print(\"t1: \",t1.a,t1.b) #Since both the instance variables are available in t1 i.e a=888,b=999 will be displayed \n",
    "print(\"t2: \",t2.a,t2.b) # In t2, Instance Variable 'a' is not Available, hence Static Variable a=10 will be considered and \n",
    "# Instance Variable b is readily available in t2 hence it will be displayed directly."
   ]
  },
  {
   "cell_type": "code",
   "execution_count": 8,
   "metadata": {},
   "outputs": [
    {
     "name": "stdout",
     "output_type": "stream",
     "text": [
      "t1:  888 999\n",
      "t2:  888 999\n"
     ]
    }
   ],
   "source": [
    "class Test:\n",
    "    a=10\n",
    "    def __init__(self):\n",
    "        self.b = 20\n",
    "        \n",
    "    def m1(self):\n",
    "        self.a=888\n",
    "        self.b=999\n",
    "        \n",
    "t1=Test() # on calling this Static Variable a =10 and Instance Variable b=20 are available\n",
    "t2=Test() # on calling this Static Variable a =10 and Instance Variable b=20 are available\n",
    "t1.m1() # on calling this method m1, Instance Variable a=888 will created in t1 and b=20 will be replaced with 999 in t1\n",
    "t2.m1() # on calling this method m1, Instance Variable a=888 will created in t2 and b=20 will be replaced with 999 in t2\n",
    "print(\"t1: \",t1.a,t1.b) #Since both the instance variables are available in t1 i.e a=888,b=999 will be displayed \n",
    "print(\"t2: \",t2.a,t2.b) #Since both the instance variables are available in t2 i.e a=888,b=999 will be displayed "
   ]
  },
  {
   "cell_type": "code",
   "execution_count": 9,
   "metadata": {},
   "outputs": [
    {
     "name": "stdout",
     "output_type": "stream",
     "text": [
      "t1:  888 20\n",
      "t2:  888 20\n",
      "Test:  888 999\n"
     ]
    }
   ],
   "source": [
    "class Test:\n",
    "    a=10\n",
    "    def __init__(self):\n",
    "        self.b = 20\n",
    "    \n",
    "    @classmethod    \n",
    "    def m1(cls):\n",
    "        cls.a=888\n",
    "        cls.b=999\n",
    "        \n",
    "t1=Test() # on calling this Static Variable a =10 and Instance Variable b=20 are available\n",
    "t2=Test() # on calling this Static Variable a =10 and Instance Variable b=20 are available\n",
    "t1.m1() # on calling m1 method, Static variable a=10 will be replaced with 888 and static variaable b=999 will be created at class level\n",
    "print(\"t1: \",t1.a,t1.b) # Since Instance Variable 'a' is not Available in t1, hence static variable a=888 will be considered and\n",
    "# Instance Variable b is readily available, hence a=888 and b=20 will be dispalyed\n",
    "print(\"t2: \",t2.a,t2.b)  # Since Instance Variable 'a' is not Available in t2, hence static variable a=888 will be considered and\n",
    "# Instance Variable b is readily available, hence a=888 and b=20 will be dispalyed\n",
    "print('Test: ',Test.a,Test.b) # The Updated Static Variable a=888 and newly Created Static Variable b=999 will be displayed.  "
   ]
  },
  {
   "cell_type": "markdown",
   "metadata": {},
   "source": [
    "### How to Delete Static Variables of a Class:\n",
    "1) We can delete static variables from anywhere by using the following syntax <br>\n",
    "> <span style='color:orange'>**del**</span> <span style='color:green'>**classname.variablename**</span>\n",
    "\n",
    "2) But inside classmethod we can also use cls variable<br>\n",
    "> <span style='color:orange'>**del**</span> <span style='color:green'>**cls.variablename**</span>"
   ]
  },
  {
   "cell_type": "code",
   "execution_count": 10,
   "metadata": {},
   "outputs": [
    {
     "name": "stdout",
     "output_type": "stream",
     "text": [
      "{'__module__': '__main__', 'a': 10, 'm1': <classmethod object at 0x0000018741E4AAC0>, '__dict__': <attribute '__dict__' of 'Test' objects>, '__weakref__': <attribute '__weakref__' of 'Test' objects>, '__doc__': None}\n"
     ]
    }
   ],
   "source": [
    "# Deleting Static Variable from inside the class\n",
    "class Test:\n",
    "    a=10\n",
    "    @classmethod\n",
    "    def m1(cls):\n",
    "        del Test.a\n",
    "print(Test.__dict__) # a will be present in the Class Dictionary, but once we call the m1 method, a will be deleted from class."
   ]
  },
  {
   "cell_type": "code",
   "execution_count": 11,
   "metadata": {},
   "outputs": [
    {
     "name": "stdout",
     "output_type": "stream",
     "text": [
      "{'__module__': '__main__', 'm1': <classmethod object at 0x0000018741E4A640>, '__dict__': <attribute '__dict__' of 'Test' objects>, '__weakref__': <attribute '__weakref__' of 'Test' objects>, '__doc__': None}\n"
     ]
    }
   ],
   "source": [
    "# Deleting Static Variable from inside the class\n",
    "class Test:\n",
    "    a=10\n",
    "    @classmethod\n",
    "    def m1(cls):\n",
    "        del Test.a\n",
    "        \n",
    "Test.m1() # on calling this m1 method, Static Variable a=10 will be deleted.        \n",
    "print(Test.__dict__) # Static Variable 'a' will not be available in Class Dictionary."
   ]
  },
  {
   "cell_type": "code",
   "execution_count": 12,
   "metadata": {},
   "outputs": [
    {
     "name": "stdout",
     "output_type": "stream",
     "text": [
      "{'__module__': '__main__', 'm1': <classmethod object at 0x0000018741D79520>, '__dict__': <attribute '__dict__' of 'Test' objects>, '__weakref__': <attribute '__weakref__' of 'Test' objects>, '__doc__': None}\n"
     ]
    }
   ],
   "source": [
    "# Deleting Static Variable from inside the class\n",
    "class Test:\n",
    "    a=10\n",
    "    @classmethod\n",
    "    def m1(cls):\n",
    "        #del Test.a\n",
    "        del cls.a # we can do like this also for deleting the static variable\n",
    "        \n",
    "Test.m1() # on calling this m1 method, Static Variable a=10 will be deleted.        \n",
    "print(Test.__dict__) # Static Variable 'a' will not be available in Class Dictionary."
   ]
  },
  {
   "cell_type": "code",
   "execution_count": 13,
   "metadata": {},
   "outputs": [
    {
     "name": "stdout",
     "output_type": "stream",
     "text": [
      "{'__module__': '__main__', 'm1': <classmethod object at 0x0000018741E4A8E0>, '__dict__': <attribute '__dict__' of 'Test' objects>, '__weakref__': <attribute '__weakref__' of 'Test' objects>, '__doc__': None}\n"
     ]
    }
   ],
   "source": [
    "# Deleting Static Variable from outside the class\n",
    "class Test:\n",
    "    a=10\n",
    "    @classmethod\n",
    "    def m1(cls):\n",
    "        #del Test.a\n",
    "        del cls.a # we can do like this also for deleting the static variable\n",
    "        \n",
    "del Test.a # directly deleting the Static Variable from outside of the Test Class        \n",
    "print(Test.__dict__) # Static Variable 'a' will not be available in Class Dictionary."
   ]
  },
  {
   "cell_type": "code",
   "execution_count": 22,
   "metadata": {},
   "outputs": [
    {
     "name": "stdout",
     "output_type": "stream",
     "text": [
      "{'__module__': '__main__', 'a': 10, '__init__': <function Test.__init__ at 0x0000018741E66AF0>, 'm1': <function Test.m1 at 0x0000018741E66A60>, 'm2': <classmethod object at 0x0000018741E4A3A0>, 'm3': <staticmethod object at 0x0000018741E4AA00>, '__dict__': <attribute '__dict__' of 'Test' objects>, '__weakref__': <attribute '__weakref__' of 'Test' objects>, '__doc__': None}\n",
      "\n",
      "{'__module__': '__main__', '__init__': <function Test.__init__ at 0x0000018741E66AF0>, 'm1': <function Test.m1 at 0x0000018741E66A60>, 'm2': <classmethod object at 0x0000018741E4A3A0>, 'm3': <staticmethod object at 0x0000018741E4AA00>, '__dict__': <attribute '__dict__' of 'Test' objects>, '__weakref__': <attribute '__weakref__' of 'Test' objects>, '__doc__': None, 'b': 20}\n",
      "\n",
      "{'__module__': '__main__', '__init__': <function Test.__init__ at 0x0000018741E66AF0>, 'm1': <function Test.m1 at 0x0000018741E66A60>, 'm2': <classmethod object at 0x0000018741E4A3A0>, 'm3': <staticmethod object at 0x0000018741E4AA00>, '__dict__': <attribute '__dict__' of 'Test' objects>, '__weakref__': <attribute '__weakref__' of 'Test' objects>, '__doc__': None, 'c': 30}\n",
      "\n",
      "{'__module__': '__main__', '__init__': <function Test.__init__ at 0x0000018741E66AF0>, 'm1': <function Test.m1 at 0x0000018741E66A60>, 'm2': <classmethod object at 0x0000018741E4A3A0>, 'm3': <staticmethod object at 0x0000018741E4AA00>, '__dict__': <attribute '__dict__' of 'Test' objects>, '__weakref__': <attribute '__weakref__' of 'Test' objects>, '__doc__': None, 'd': 40}\n",
      "\n",
      "{'__module__': '__main__', '__init__': <function Test.__init__ at 0x0000018741E66AF0>, 'm1': <function Test.m1 at 0x0000018741E66A60>, 'm2': <classmethod object at 0x0000018741E4A3A0>, 'm3': <staticmethod object at 0x0000018741E4AA00>, '__dict__': <attribute '__dict__' of 'Test' objects>, '__weakref__': <attribute '__weakref__' of 'Test' objects>, '__doc__': None, 'e': 50}\n",
      "\n",
      "{'__module__': '__main__', '__init__': <function Test.__init__ at 0x0000018741E66AF0>, 'm1': <function Test.m1 at 0x0000018741E66A60>, 'm2': <classmethod object at 0x0000018741E4A3A0>, 'm3': <staticmethod object at 0x0000018741E4AA00>, '__dict__': <attribute '__dict__' of 'Test' objects>, '__weakref__': <attribute '__weakref__' of 'Test' objects>, '__doc__': None}\n"
     ]
    }
   ],
   "source": [
    "class Test:\n",
    "    a=10\n",
    "    def __init__(self):\n",
    "        Test.b=20\n",
    "        del Test.a\n",
    "    \n",
    "    def m1(self):\n",
    "        Test.c=30\n",
    "        del Test.b\n",
    "        \n",
    "    @classmethod\n",
    "    def m2(cls):\n",
    "        cls.d=40\n",
    "        del Test.c\n",
    "        \n",
    "    @staticmethod\n",
    "    def m3():\n",
    "        Test.e=50\n",
    "        del Test.d\n",
    "        \n",
    "print(Test.__dict__) # a will be present in the class dict\n",
    "print()\n",
    "t=Test() #After creating object, Static Variable a=10 will be deleted and Static Variable b=20 will added automaticlly by __init__\n",
    "print(Test.__dict__) # b:20 will be present in the class dict and a will be deleted\n",
    "print()\n",
    "t.m1() # b=20 will be deleted and c=30 will be added on calling the m1 method\n",
    "print(Test.__dict__) # c:30 will be present in the class dict and b:20 will be deleted\n",
    "print()\n",
    "t.m2() # c=30 will be deleted and d=40 will be added on calling the class method m2\n",
    "print(Test.__dict__) # d:40 will be present in the class dict and c:30 will be deleted\n",
    "print()\n",
    "t.m3() # d=40 will be deleted and e=50 will be added on calling the static method m3\n",
    "print(Test.__dict__) # e:50 will be present in the class dict and d:40 will be deleted\n",
    "print()\n",
    "del Test.e\n",
    "print(Test.__dict__) # e:50 also deleted and No static variable is present in the Class Dictionary. "
   ]
  },
  {
   "cell_type": "markdown",
   "metadata": {},
   "source": [
    "**Conclusions:**<br><br>\n",
    "⚽ We can delete Static Variables either by using **Class Name** or **cls** variable<br>\n",
    "\n",
    "> **Note:** We cannot modify/delete static variables by using object reference or self. But we can access static variables by using object reference/self and class Name<br><br>\n",
    "\n",
    "⚽ If we are trying to modify, then a new instance variable will be added to that particular object.<br>\n",
    "⚽ t1.a = 70 <br>\n",
    "⚽ If we are trying to delete then we will get error."
   ]
  },
  {
   "cell_type": "code",
   "execution_count": 24,
   "metadata": {},
   "outputs": [
    {
     "name": "stdout",
     "output_type": "stream",
     "text": [
      "10\n"
     ]
    },
    {
     "ename": "AttributeError",
     "evalue": "a",
     "output_type": "error",
     "traceback": [
      "\u001b[1;31m---------------------------------------------------------------------------\u001b[0m",
      "\u001b[1;31mAttributeError\u001b[0m                            Traceback (most recent call last)",
      "\u001b[1;32m<ipython-input-24-cf33454ee048>\u001b[0m in \u001b[0;36m<module>\u001b[1;34m\u001b[0m\n\u001b[0;32m      4\u001b[0m \u001b[0mt1\u001b[0m\u001b[1;33m=\u001b[0m\u001b[0mTest\u001b[0m\u001b[1;33m(\u001b[0m\u001b[1;33m)\u001b[0m\u001b[1;33m\u001b[0m\u001b[1;33m\u001b[0m\u001b[0m\n\u001b[0;32m      5\u001b[0m \u001b[0mprint\u001b[0m\u001b[1;33m(\u001b[0m\u001b[0mt1\u001b[0m\u001b[1;33m.\u001b[0m\u001b[0ma\u001b[0m\u001b[1;33m)\u001b[0m \u001b[1;31m# we can access the static variable using object reference.\u001b[0m\u001b[1;33m\u001b[0m\u001b[1;33m\u001b[0m\u001b[0m\n\u001b[1;32m----> 6\u001b[1;33m \u001b[1;32mdel\u001b[0m \u001b[0mt1\u001b[0m\u001b[1;33m.\u001b[0m\u001b[0ma\u001b[0m \u001b[1;31m# We will get attribute error, since we can't use object reference or self to delete static variable\u001b[0m\u001b[1;33m\u001b[0m\u001b[1;33m\u001b[0m\u001b[0m\n\u001b[0m",
      "\u001b[1;31mAttributeError\u001b[0m: a"
     ]
    }
   ],
   "source": [
    "class Test:\n",
    "    a=10\n",
    "    \n",
    "t1=Test()\n",
    "print(t1.a) # we can access the static variable using object reference.\n",
    "del t1.a # We will get attribute error, since we can't use object reference or self to delete static variable"
   ]
  },
  {
   "cell_type": "code",
   "execution_count": 25,
   "metadata": {},
   "outputs": [],
   "source": [
    "del Test.a # this is perfectly valid as we are using Class Name "
   ]
  },
  {
   "cell_type": "markdown",
   "metadata": {},
   "source": [
    "### Instance Variable vs Static Variable"
   ]
  },
  {
   "cell_type": "markdown",
   "metadata": {},
   "source": [
    "<img src = \"images/instance_vs_static_variables.png\" width = 700>"
   ]
  },
  {
   "cell_type": "markdown",
   "metadata": {},
   "source": [
    "## 3) Local Variables: \n",
    "⚽ Sometimes to meet temporary requirements of programmer, we can declare variables inside a method directly without using self,class name or cls variable. such type of variables are called local variable or temporary variables.<br>\n",
    "⚽ Local variables can be used to hold temporary results.<br> \n",
    "⚽ Local variables will be created at the time of method execution and destroyed once method completes.<br>\n",
    "⚽ Local variables of a method cannot be accessed from outside of method."
   ]
  },
  {
   "cell_type": "code",
   "execution_count": 9,
   "metadata": {},
   "outputs": [],
   "source": [
    "class Student:\n",
    "    \n",
    "    college_name = 'VJIT' # Static Variable\n",
    "    \n",
    "    def __init__(self,name,rollno,marks):\n",
    "        print(\"Creating instane variables and performing initialization...\")\n",
    "        self.name = name  # Instance Variable\n",
    "        self.rollno = rollno # Instance Variable\n",
    "        self.marks = marks # Instance Variable\n",
    "        \n",
    "    def info(self):\n",
    "        x=10 # Local Variable\n",
    "        for i in range(x):\n",
    "            print(i)"
   ]
  },
  {
   "cell_type": "code",
   "execution_count": 3,
   "metadata": {},
   "outputs": [
    {
     "name": "stdout",
     "output_type": "stream",
     "text": [
      "Average =  30.0\n",
      "\n",
      "0  Hello, Sairam\n",
      "1  Hello, Sairam\n",
      "2  Hello, Sairam\n",
      "3  Hello, Sairam\n",
      "4  Hello, Sairam\n"
     ]
    }
   ],
   "source": [
    "class Test:\n",
    "    \n",
    "    @staticmethod\n",
    "    def average(list1):\n",
    "        result = sum(list1)/len(list1) # to hold sum(list1)/len(list1) formula, temperary variable must be used. It is called a local variable\n",
    "        print(\"Average = \",result)\n",
    "    \n",
    "    @staticmethod\n",
    "    def wish(name):\n",
    "        for i in range(5): # here 'i' is the local variable since it is holding the temporary sequence values of range \n",
    "            print(i,\" Hello,\",name)\n",
    "    \n",
    "list1 = [10,20,30,40,50]\n",
    "Test.average(list1)\n",
    "print()\n",
    "Test.wish(\"Sairam\")"
   ]
  },
  {
   "cell_type": "code",
   "execution_count": 5,
   "metadata": {},
   "outputs": [
    {
     "name": "stdout",
     "output_type": "stream",
     "text": [
      "10\n"
     ]
    },
    {
     "ename": "NameError",
     "evalue": "name 'a' is not defined",
     "output_type": "error",
     "traceback": [
      "\u001b[1;31m---------------------------------------------------------------------------\u001b[0m",
      "\u001b[1;31mNameError\u001b[0m                                 Traceback (most recent call last)",
      "\u001b[1;32m<ipython-input-5-f5355b623d03>\u001b[0m in \u001b[0;36m<module>\u001b[1;34m\u001b[0m\n\u001b[0;32m     10\u001b[0m \u001b[0mt\u001b[0m\u001b[1;33m=\u001b[0m\u001b[0mTest\u001b[0m\u001b[1;33m(\u001b[0m\u001b[1;33m)\u001b[0m\u001b[1;33m\u001b[0m\u001b[1;33m\u001b[0m\u001b[0m\n\u001b[0;32m     11\u001b[0m \u001b[0mt\u001b[0m\u001b[1;33m.\u001b[0m\u001b[0mm1\u001b[0m\u001b[1;33m(\u001b[0m\u001b[1;33m)\u001b[0m\u001b[1;33m\u001b[0m\u001b[1;33m\u001b[0m\u001b[0m\n\u001b[1;32m---> 12\u001b[1;33m \u001b[0mt\u001b[0m\u001b[1;33m.\u001b[0m\u001b[0mm2\u001b[0m\u001b[1;33m(\u001b[0m\u001b[1;33m)\u001b[0m\u001b[1;33m\u001b[0m\u001b[1;33m\u001b[0m\u001b[0m\n\u001b[0m",
      "\u001b[1;32m<ipython-input-5-f5355b623d03>\u001b[0m in \u001b[0;36mm2\u001b[1;34m(self)\u001b[0m\n\u001b[0;32m      6\u001b[0m \u001b[1;33m\u001b[0m\u001b[0m\n\u001b[0;32m      7\u001b[0m     \u001b[1;32mdef\u001b[0m \u001b[0mm2\u001b[0m\u001b[1;33m(\u001b[0m\u001b[0mself\u001b[0m\u001b[1;33m)\u001b[0m\u001b[1;33m:\u001b[0m\u001b[1;33m\u001b[0m\u001b[1;33m\u001b[0m\u001b[0m\n\u001b[1;32m----> 8\u001b[1;33m         \u001b[0mprint\u001b[0m\u001b[1;33m(\u001b[0m\u001b[0ma\u001b[0m\u001b[1;33m)\u001b[0m\u001b[1;33m\u001b[0m\u001b[1;33m\u001b[0m\u001b[0m\n\u001b[0m\u001b[0;32m      9\u001b[0m \u001b[1;33m\u001b[0m\u001b[0m\n\u001b[0;32m     10\u001b[0m \u001b[0mt\u001b[0m\u001b[1;33m=\u001b[0m\u001b[0mTest\u001b[0m\u001b[1;33m(\u001b[0m\u001b[1;33m)\u001b[0m\u001b[1;33m\u001b[0m\u001b[1;33m\u001b[0m\u001b[0m\n",
      "\u001b[1;31mNameError\u001b[0m: name 'a' is not defined"
     ]
    }
   ],
   "source": [
    "class Test:\n",
    "    \n",
    "    def m1(self):\n",
    "        a=10\n",
    "        print(a)\n",
    "        \n",
    "    def m2(self):\n",
    "        print(a) # We can't the access the local variables of the other methods\n",
    "        \n",
    "t=Test()\n",
    "t.m1()\n",
    "t.m2() # We will get NameError, since local variables of one method can't be accessed to other methods"
   ]
  },
  {
   "cell_type": "markdown",
   "metadata": {},
   "source": [
    "#### Mini Bank Application Example to Understand Instance,Static and Local variables"
   ]
  },
  {
   "cell_type": "code",
   "execution_count": 6,
   "metadata": {},
   "outputs": [
    {
     "name": "stdout",
     "output_type": "stream",
     "text": [
      "Welcome to  Kotak Bank\n",
      "\n",
      "Enter Your Name:sairam\n",
      "\n",
      "d - deposit\n",
      "w - withdraw \n",
      "e - exit\n",
      "\n",
      "Choose your option:d\n",
      "\n",
      "Enter amount to deposit:10000\n",
      "After Deposit, Balance is:  10000.0\n",
      "\n",
      "\n",
      "d - deposit\n",
      "w - withdraw \n",
      "e - exit\n",
      "\n",
      "Choose your option:t\n",
      "\n",
      "your option is invalid, please chose valid option\n",
      "\n",
      "d - deposit\n",
      "w - withdraw \n",
      "e - exit\n",
      "\n",
      "Choose your option:w\n",
      "\n",
      "Enter amount to withdraw:20000\n",
      "Insufficient Funds...cannot perform this operation\n",
      "\n",
      "\n",
      "d - deposit\n",
      "w - withdraw \n",
      "e - exit\n",
      "\n",
      "Choose your option:w\n",
      "\n",
      "Enter amount to withdraw:8000\n",
      "After Withdraw, balance is:  2000.0\n",
      "\n",
      "\n",
      "d - deposit\n",
      "w - withdraw \n",
      "e - exit\n",
      "\n",
      "Choose your option:e\n",
      "\n",
      "Thanks for Banking\n"
     ]
    }
   ],
   "source": [
    "class Customer:\n",
    "    '''This class describes bank operations'''\n",
    "    bankname = \"Kotak Bank\" # Static Variable\n",
    "    def __init__(self,name,balance = 0.0):\n",
    "        self.name = name # Instance Variable\n",
    "        self.balance = balance ## Instance Variable\n",
    "\n",
    "    def deposit(self,amount): # Intsance Method\n",
    "        self.balance = self.balance + amount\n",
    "        print(\"After Deposit, Balance is: \",self.balance)\n",
    "        print()\n",
    "        \n",
    "    def withdraw(self,amount): ## Intsance Method\n",
    "        if amount>self.balance:\n",
    "            print(\"Insufficient Funds...cannot perform this operation\")\n",
    "            print()\n",
    "        else:\n",
    "            self.balance = self.balance-amount\n",
    "            print(\"After Withdraw, balance is: \",self.balance)\n",
    "            print()\n",
    "            \n",
    "print(\"Welcome to \",Customer.bankname)\n",
    "print()\n",
    "name = input(\"Enter Your Name:\")\n",
    "c=Customer(name)\n",
    "while True:\n",
    "    print()\n",
    "    print('d - deposit\\nw - withdraw \\ne - exit')\n",
    "    print()\n",
    "    option=input(\"Choose your option:\")\n",
    "    print()\n",
    "    if option.lower()=='d':\n",
    "        amount = float(input(\"Enter amount to deposit:\"))\n",
    "        c.deposit(amount)\n",
    "    elif option.lower() == 'w':\n",
    "        amount = float(input(\"Enter amount to withdraw:\"))\n",
    "        c.withdraw(amount)\n",
    "    elif option.lower() == 'e':\n",
    "        print(\"Thanks for Banking\")\n",
    "        break\n",
    "    else:\n",
    "        print(\"your option is invalid, please chose valid option\")"
   ]
  },
  {
   "cell_type": "markdown",
   "metadata": {},
   "source": [
    "# Understanding Eveything in Types of Methods - Instance, Static and Class "
   ]
  },
  {
   "cell_type": "markdown",
   "metadata": {},
   "source": [
    "## Types of Methods:<br>\n",
    "Inside Python class 3 types of methods are allowed<br>\n",
    "> 1) Instance Methods<br>\n",
    "> 2) Class Methods<br>\n",
    "> 3) Static Methods<br><br>\n",
    "\n",
    "### 1) Instance Methods: \n",
    "⚽ Inside method implementation if we are using atleast one instance variable, then such type of methods are called instance methods.<br> ⚽ Inside instance method declaration, we have to pass self variable. **def m1(self):**<br>\n",
    "⚽ The first argument to the instance method is always **self**,which is reference variable to that current object.<br>\n",
    "⚽ Within the class we can call instance method by using self variable and from outside of the class we can call by using object reference."
   ]
  },
  {
   "cell_type": "code",
   "execution_count": 4,
   "metadata": {},
   "outputs": [
    {
     "name": "stdout",
     "output_type": "stream",
     "text": [
      "Enter No. of Students: 2\n",
      "Enter Student Name: sairam\n",
      "Enter Student Marks: 90\n",
      "Creating instane variables and performing initialization...\n",
      "Hi  sairam\n",
      "Your Marks are :  90\n",
      "You got First Class\n",
      "\n",
      "Enter Student Name: dhana\n",
      "Enter Student Marks: 80\n",
      "Creating instane variables and performing initialization...\n",
      "Hi  dhana\n",
      "Your Marks are :  80\n",
      "You got First Class\n",
      "\n"
     ]
    }
   ],
   "source": [
    "class Student:\n",
    "    \n",
    "    college_name = 'VJIT' # Static Variable\n",
    "    \n",
    "    def __init__(self,name,marks):\n",
    "        print(\"Creating instane variables and performing initialization...\")\n",
    "        self.name = name  # Instance Variable\n",
    "        self.marks = marks # Instance Variable\n",
    "        \n",
    "    def display(self): # This is an Instance Method, Since Instance Atleast one Instance Variable used in this method. \n",
    "        print(\"Hi \",self.name) # Instance Variable is used\n",
    "        print(\"Your Marks are : \",self.marks) # Instance Variable is used\n",
    "        \n",
    "    def grade(self): # Instance Method\n",
    "        if self.marks > 60: # Instance Variable is used\n",
    "            print(\"You got First Class\")\n",
    "        elif self.marks >= 50: # Instance Variable is used\n",
    "            print(\"You got second Class\")\n",
    "        elif self.marks >= 35: # Instance Variable is used\n",
    "            print(\"You got Third Class\")\n",
    "        else:\n",
    "            print(\"You are Failed\")\n",
    "            \n",
    "n = int(input(\"Enter No. of Students: \"))\n",
    "\n",
    "for i in range(n):\n",
    "    name = input(\"Enter Student Name: \")\n",
    "    marks = int(input(\"Enter Student Marks: \"))\n",
    "    s = Student(name,marks)\n",
    "    s.display()\n",
    "    s.grade()\n",
    "    print()"
   ]
  },
  {
   "cell_type": "markdown",
   "metadata": {},
   "source": [
    "## Setter and Getter Methods: \n",
    " \n",
    "We can set and get the values of instance variables by using getter and setter methods.<br><br>\n",
    "\n",
    "### Setter Method:\n",
    "setter methods can be used to set values to the instance variables. setter methods also known as mutator methods.<br>\n",
    "\n",
    "**Syntax:**<br>\n",
    "\n",
    "<span style='color:orange'>**def**</span> <span style='color:blue'>**setVariable(self,variable):<br> \n",
    "&emsp;&emsp;self.variable = variable**</span><br><br>\n",
    "\n",
    "\n",
    "**Example:**"
   ]
  },
  {
   "cell_type": "code",
   "execution_count": 5,
   "metadata": {},
   "outputs": [],
   "source": [
    "def setName(self,name):\n",
    "    self.name=name"
   ]
  },
  {
   "cell_type": "markdown",
   "metadata": {},
   "source": [
    "### Getter Method: \n",
    "\n",
    "Getter methods can be used to get values of the instance variables. Getter methods also known as accessor methods.<br><br>\n",
    "**Syntax:**<br><br>\n",
    "<span style='color:orange'>**def**</span> <span style='color:blue'>**getVariable(self): <br>\n",
    "&emsp;&emsp;return self.variable**</span><br><br>\n",
    "\n",
    "**Example:**"
   ]
  },
  {
   "cell_type": "code",
   "execution_count": 6,
   "metadata": {},
   "outputs": [],
   "source": [
    "def getName(self): \n",
    "    return self.name"
   ]
  },
  {
   "cell_type": "markdown",
   "metadata": {},
   "source": [
    "**Example of Getter and Setter methods:**"
   ]
  },
  {
   "cell_type": "code",
   "execution_count": 7,
   "metadata": {},
   "outputs": [
    {
     "name": "stdout",
     "output_type": "stream",
     "text": [
      "Enter no. of students:3\n",
      "Enter Student Name: sairam\n",
      "Enter Student Marks: 100\n",
      "Enter Student Name: dhana\n",
      "Enter Student Marks: 90\n",
      "Enter Student Name: prasad\n",
      "Enter Student Marks: 90\n",
      "Hello  sairam\n",
      "Your Marks are: 100\n",
      "\n",
      "Hello  dhana\n",
      "Your Marks are: 90\n",
      "\n",
      "Hello  prasad\n",
      "Your Marks are: 90\n",
      "\n"
     ]
    }
   ],
   "source": [
    "class Student:\n",
    "    def setName(self,name):\n",
    "        self.name = name\n",
    "    \n",
    "    def getName(self):\n",
    "        return self.name\n",
    "    \n",
    "    def setMarks(self,marks):\n",
    "        self.marks = marks\n",
    "        \n",
    "    def getMarks(self):\n",
    "        return self.marks\n",
    "    \n",
    "n = int(input(\"Enter no. of students:\"))\n",
    "students = []\n",
    "for i in range(n):\n",
    "    s = Student()\n",
    "    name = input(\"Enter Student Name: \")\n",
    "    marks = int(input(\"Enter Student Marks: \"))\n",
    "    s.setName(name)\n",
    "    s.setMarks(marks)\n",
    "    students.append(s)\n",
    "    \n",
    "for s in students:\n",
    "    print(\"Hello \",s.getName())\n",
    "    print(\"Your Marks are:\",s.getMarks())\n",
    "    print()"
   ]
  },
  {
   "cell_type": "markdown",
   "metadata": {},
   "source": [
    "For Clear Explanation of Getter and Setter Methods, find the link https://www.python-course.eu/python3_properties.php"
   ]
  },
  {
   "cell_type": "markdown",
   "metadata": {},
   "source": [
    "### 2) Class Methods:\n",
    "\n",
    "⚽ Inside method implementation if we are using only class variables (static variables) and if we are not usingg any instance variable, then that method is no way related to a particular object and it is class level method, then such type of methods we should declare as class method.<br>\n",
    "⚽ We can declare class method explicitly by using **@classmethod** decorator.<br>\n",
    "⚽ The first argument of the class method is always **cls**, which is reference variable to class object at the time of declaration **eg:** def m1(cls):<br>\n",
    "⚽ For every class one special object will be created by PVM to maintain class level information, which is nothing but class level object. **cls** is the reference variable pointing to that object.<br>\n",
    "⚽ We can call classmethod by using classname or object reference variable."
   ]
  },
  {
   "cell_type": "code",
   "execution_count": 13,
   "metadata": {},
   "outputs": [
    {
     "name": "stdout",
     "output_type": "stream",
     "text": [
      "1795643957216\n",
      "1795643957216\n"
     ]
    }
   ],
   "source": [
    "class Test:\n",
    "    \n",
    "    @classmethod\n",
    "    def m1(cls):\n",
    "        print(id(cls))\n",
    "        \n",
    "print(id(Test))\n",
    "Test.m1()"
   ]
  },
  {
   "cell_type": "markdown",
   "metadata": {},
   "source": [
    "As seen above, address of the class object and address of the cls are pointing to the same object."
   ]
  },
  {
   "cell_type": "code",
   "execution_count": 1,
   "metadata": {},
   "outputs": [
    {
     "name": "stdout",
     "output_type": "stream",
     "text": [
      "Parrot flying with 2 wings\n",
      "Eagle flying with 2 wings\n"
     ]
    }
   ],
   "source": [
    "class Bird:\n",
    "    \n",
    "    wings = 2\n",
    "    \n",
    "    @classmethod # Declaring class method\n",
    "    def fly(cls,name):\n",
    "        print(\"{} flying with {} wings\".format(name,cls.wings)) # only static variable of Bird Class is used with cls. No istance Variables used\n",
    "        \n",
    "Bird.fly('Parrot')\n",
    "Bird.fly('Eagle')"
   ]
  },
  {
   "cell_type": "code",
   "execution_count": 3,
   "metadata": {},
   "outputs": [
    {
     "name": "stdout",
     "output_type": "stream",
     "text": [
      "The No. of objects created: 0\n",
      "The No. of objects created: 2\n",
      "The No. of objects created: 5\n"
     ]
    }
   ],
   "source": [
    "# Program to track the Number of Objects created for a Class:\n",
    "\n",
    "class Test:\n",
    "    \n",
    "    count = 0 # Static Variable\n",
    "    def __init__(self):\n",
    "        Test.count = Test.count + 1 # For every object we create, count will be incremented. We are accessing the static variable\n",
    "        # count with Class Name. \n",
    "    @classmethod\n",
    "    def Get_No_of_Objects(cls):\n",
    "        print(\"The No. of objects created:\",cls.count)\n",
    "        \n",
    "Test.Get_No_of_Objects() # will be 0 since no object is created yet.\n",
    "t1=Test()\n",
    "t2=Test()\n",
    "Test.Get_No_of_Objects() # Will be 2 since two objects are created above.\n",
    "t3=Test()\n",
    "t4=Test()\n",
    "t5=Test()\n",
    "Test.Get_No_of_Objects() # will be 5, since 5 objects are created in total.\n",
    "\n",
    "    "
   ]
  },
  {
   "cell_type": "code",
   "execution_count": 25,
   "metadata": {},
   "outputs": [
    {
     "name": "stdout",
     "output_type": "stream",
     "text": [
      "Student is From VJIT college\n"
     ]
    }
   ],
   "source": [
    "class Student:\n",
    "    \n",
    "    college_name = 'VJIT' # Static Variable\n",
    "    \n",
    "    def __init__(self,name,rollno,marks):\n",
    "        print(\"Creating instane variables and performing initialization...\")\n",
    "        self.name = name  # Instance Variable\n",
    "        self.rollno = rollno # Instance Variable\n",
    "        self.marks = marks # Instance Variable\n",
    "        \n",
    "    def get_student_info(self): # This is an Instance Method, Since Instance Atleast one Instance Variable used in this method. \n",
    "        print(\"Student Name : \",self.name)\n",
    "        print(\"Student rollno : \",self.rollno)\n",
    "    \n",
    "    @classmethod\n",
    "    def college(cls): # Class Method\n",
    "        print(\"Student is From {} college\".format(cls.college_name))\n",
    "\n",
    "Student.college()"
   ]
  },
  {
   "cell_type": "markdown",
   "metadata": {},
   "source": [
    "# Instance Method vs Class Method"
   ]
  },
  {
   "cell_type": "markdown",
   "metadata": {},
   "source": [
    "<img src = 'images/instance_vs_class_methods.png' width = 700>"
   ]
  },
  {
   "cell_type": "markdown",
   "metadata": {},
   "source": [
    "### 3) Static Methods: \n",
    "\n",
    "⚽ Inside a method Implementation, if we are not using any instance variable or Static variables, such type of methods are called **general utility methods** and these methods we have to declare as static methods.<br> \n",
    "⚽ For Static Methods, we won't provide **self** or **cls** arguments at the time of declaration.<br> \n",
    "⚽ We can declare static method explicitly by using **@staticmethod** decorator<br>\n",
    "⚽ We can access static methods by using classname or object reference, But recommended to use Class Name<br>"
   ]
  },
  {
   "cell_type": "code",
   "execution_count": 28,
   "metadata": {},
   "outputs": [
    {
     "name": "stdout",
     "output_type": "stream",
     "text": [
      "3\n"
     ]
    }
   ],
   "source": [
    "class Student:\n",
    "    \n",
    "    college_name = 'VJIT' # Static Variable\n",
    "    \n",
    "    def __init__(self,name,rollno,marks):\n",
    "        print(\"Creating instane variables and performing initialization...\")\n",
    "        self.name = name  # Instance Variable\n",
    "        self.rollno = rollno # Instance Variable\n",
    "        self.marks = marks # Instance Variable\n",
    "        \n",
    "    def get_student_info(self): # This is an Instance Method, Since Instance Atleast one Instance Variable used in this method. \n",
    "        print(\"Student Name : \",self.name)\n",
    "        print(\"Student rollno : \",self.rollno)\n",
    "    \n",
    "    @classmethod\n",
    "    def college(cls): # Class Method, Only static variable is used. No Instance Variables should be used inside classmethod.\n",
    "        print(\"Student is From {} college\".format(cls.college_name))\n",
    "        \n",
    "    @staticmethod\n",
    "    def getsum(a,b): # Static Method. No Instance or Static Variables should used in Static Method. Only Local Variables used. \n",
    "        sum = a+b\n",
    "        print(sum)\n",
    "\n",
    "Student.getsum(1,2)"
   ]
  },
  {
   "cell_type": "code",
   "execution_count": 6,
   "metadata": {},
   "outputs": [
    {
     "name": "stdout",
     "output_type": "stream",
     "text": [
      "The SUM:  30\n",
      "The Product:  200\n",
      "The Average:  15.0\n"
     ]
    }
   ],
   "source": [
    "# Example for Static Method\n",
    "\n",
    "class RKmath:\n",
    "    \n",
    "    @staticmethod\n",
    "    def add(x,y): # This Method is nowhere related to Instance or Static Variables. Hence, Declaring as Staticmethod for general utility\n",
    "        print(\"The SUM: \",x+y)\n",
    "        \n",
    "    @staticmethod\n",
    "    def product(x,y):\n",
    "        print(\"The Product: \",x*y)\n",
    "    \n",
    "    @staticmethod\n",
    "    def average(x,y):\n",
    "        print(\"The Average: \",(x+y)/2)\n",
    "        \n",
    "RKmath.add(10,20) # Directly calling the staticmethods with Class Name \"RKmath\"\n",
    "RKmath.product(10,20)\n",
    "RKmath.average(10,20)"
   ]
  },
  {
   "cell_type": "markdown",
   "metadata": {},
   "source": [
    "## Instance Methods vs Class Method vs Static Methods "
   ]
  },
  {
   "cell_type": "markdown",
   "metadata": {},
   "source": [
    " - If we are using only Instance Variables ==> **Instance Method**<br>\n",
    " - If we are using only Static Variables ==> **Class Method**<br>\n",
    " - If we are using Instance Variables and Static Variables ==> **Instance Method**<br>\n",
    " - If we are using Instance Variables and Local Variables ==> **Instance Method**<br>\n",
    " - If we are using Static Variables and Local Variable ==> **Class Method**<br>\n",
    " - If we are using only Local Variables ==> **Static Method**<br>"
   ]
  },
  {
   "cell_type": "markdown",
   "metadata": {},
   "source": [
    "**What happens if we are not using any decorator ?**"
   ]
  },
  {
   "cell_type": "markdown",
   "metadata": {},
   "source": [
    "1) For **Class Methods** : The Decorator **@classmethod** is **Mandatory** ==> if we dont give decorator, its not treated as class method.<br>\n",
    "2) For **Static Methods** : The Decorator **@staticmethod** is **Optional**<br>\n",
    "3) For **Instance Methods** : The Decorator is Not Required.<br><br>\n",
    "\n",
    "If a Method is Not given a decorator, it can be a **Instance Method** or a **Static Method**.<br>\n",
    "We can decide a method, Instance or Static Method as follows:<br>\n",
    "> class Test:<br>&ensp;&ensp;&ensp; def m1(x):<br>&ensp;&ensp;&ensp;&ensp;&ensp;&ensp;&ensp;pass<br>t1 = Test()<br>**t1.m1()** # calling with method m1 with object reference<br>**Test.m1()** # calling the method m1 with class name<br> \n",
    "\n",
    "> If we are calling the above method by using Object Reference i.e **t1.m1()** ==> Then the method m1 acts as **Instance Method**<br>\n",
    "> if we are calling the above method by using Class Name i.e **Test.m1()** ==> Then the method m1 acts as **Static Method** \n"
   ]
  },
  {
   "cell_type": "code",
   "execution_count": 7,
   "metadata": {},
   "outputs": [
    {
     "ename": "TypeError",
     "evalue": "m1() takes 0 positional arguments but 1 was given",
     "output_type": "error",
     "traceback": [
      "\u001b[1;31m---------------------------------------------------------------------------\u001b[0m",
      "\u001b[1;31mTypeError\u001b[0m                                 Traceback (most recent call last)",
      "\u001b[1;32m<ipython-input-7-8d518764f2be>\u001b[0m in \u001b[0;36m<module>\u001b[1;34m\u001b[0m\n\u001b[0;32m      5\u001b[0m \u001b[1;33m\u001b[0m\u001b[0m\n\u001b[0;32m      6\u001b[0m \u001b[0mt1\u001b[0m\u001b[1;33m=\u001b[0m\u001b[0mTest\u001b[0m\u001b[1;33m(\u001b[0m\u001b[1;33m)\u001b[0m\u001b[1;33m\u001b[0m\u001b[1;33m\u001b[0m\u001b[0m\n\u001b[1;32m----> 7\u001b[1;33m \u001b[0mt1\u001b[0m\u001b[1;33m.\u001b[0m\u001b[0mm1\u001b[0m\u001b[1;33m(\u001b[0m\u001b[1;33m)\u001b[0m\u001b[1;33m\u001b[0m\u001b[1;33m\u001b[0m\u001b[0m\n\u001b[0m",
      "\u001b[1;31mTypeError\u001b[0m: m1() takes 0 positional arguments but 1 was given"
     ]
    }
   ],
   "source": [
    "class Test:\n",
    "    \n",
    "    def m1():\n",
    "        print(\"Some Method\")\n",
    "        \n",
    "t1=Test()\n",
    "t1.m1() "
   ]
  },
  {
   "cell_type": "markdown",
   "metadata": {},
   "source": [
    "Because m1 doesn't have any arguments. PVM consider it as Instance method and provides **self** to m1,since there are no arguments in m1. This will raise an error."
   ]
  },
  {
   "cell_type": "code",
   "execution_count": 8,
   "metadata": {},
   "outputs": [
    {
     "name": "stdout",
     "output_type": "stream",
     "text": [
      "Some Method\n"
     ]
    }
   ],
   "source": [
    "class Test:\n",
    "    \n",
    "    def m1(x): # Now giving one argument x in m1 method.\n",
    "        print(\"Some Method\")\n",
    "        \n",
    "t1=Test()\n",
    "t1.m1() #This will work fine, PVM will pass self to x "
   ]
  },
  {
   "cell_type": "code",
   "execution_count": 9,
   "metadata": {},
   "outputs": [
    {
     "ename": "TypeError",
     "evalue": "m1() takes 1 positional argument but 2 were given",
     "output_type": "error",
     "traceback": [
      "\u001b[1;31m---------------------------------------------------------------------------\u001b[0m",
      "\u001b[1;31mTypeError\u001b[0m                                 Traceback (most recent call last)",
      "\u001b[1;32m<ipython-input-9-7b945915f023>\u001b[0m in \u001b[0;36m<module>\u001b[1;34m\u001b[0m\n\u001b[0;32m      5\u001b[0m \u001b[1;33m\u001b[0m\u001b[0m\n\u001b[0;32m      6\u001b[0m \u001b[0mt1\u001b[0m\u001b[1;33m=\u001b[0m\u001b[0mTest\u001b[0m\u001b[1;33m(\u001b[0m\u001b[1;33m)\u001b[0m\u001b[1;33m\u001b[0m\u001b[1;33m\u001b[0m\u001b[0m\n\u001b[1;32m----> 7\u001b[1;33m \u001b[0mt1\u001b[0m\u001b[1;33m.\u001b[0m\u001b[0mm1\u001b[0m\u001b[1;33m(\u001b[0m\u001b[1;36m10\u001b[0m\u001b[1;33m)\u001b[0m \u001b[1;31m# This will become invalid and raise error, we gave only one argument in m1 by default will be considered for self by PVM.\u001b[0m\u001b[1;33m\u001b[0m\u001b[1;33m\u001b[0m\u001b[0m\n\u001b[0m\u001b[0;32m      8\u001b[0m \u001b[1;31m# and we are also passing a value to m1, which is already occupied for self hence error will raise.\u001b[0m\u001b[1;33m\u001b[0m\u001b[1;33m\u001b[0m\u001b[1;33m\u001b[0m\u001b[0m\n",
      "\u001b[1;31mTypeError\u001b[0m: m1() takes 1 positional argument but 2 were given"
     ]
    }
   ],
   "source": [
    "class Test:\n",
    "    \n",
    "    def m1(x): # Now giving one argument x in m1 method.\n",
    "        print(\"Some Method\")\n",
    "        \n",
    "t1=Test()\n",
    "t1.m1(10) # This will become invalid and raise error, we gave only one argument in m1 by default will be considered for self by PVM.\n",
    "# and we are also passing a value to m1, which is already occupied for self hence error will raise."
   ]
  },
  {
   "cell_type": "code",
   "execution_count": 10,
   "metadata": {},
   "outputs": [
    {
     "name": "stdout",
     "output_type": "stream",
     "text": [
      "Some Method\n"
     ]
    }
   ],
   "source": [
    "# calling m1 with Class Name\n",
    "\n",
    "class Test:\n",
    "    \n",
    "    def m1():\n",
    "        print(\"Some Method\")\n",
    "        \n",
    "Test.m1() # This acts as Static Method since we are calling m1 without decorator with Class Name"
   ]
  },
  {
   "cell_type": "code",
   "execution_count": 11,
   "metadata": {},
   "outputs": [
    {
     "ename": "TypeError",
     "evalue": "m1() missing 1 required positional argument: 'x'",
     "output_type": "error",
     "traceback": [
      "\u001b[1;31m---------------------------------------------------------------------------\u001b[0m",
      "\u001b[1;31mTypeError\u001b[0m                                 Traceback (most recent call last)",
      "\u001b[1;32m<ipython-input-11-1310a6197124>\u001b[0m in \u001b[0;36m<module>\u001b[1;34m\u001b[0m\n\u001b[0;32m      4\u001b[0m         \u001b[0mprint\u001b[0m\u001b[1;33m(\u001b[0m\u001b[1;34m\"Some Method\"\u001b[0m\u001b[1;33m)\u001b[0m\u001b[1;33m\u001b[0m\u001b[1;33m\u001b[0m\u001b[0m\n\u001b[0;32m      5\u001b[0m \u001b[1;33m\u001b[0m\u001b[0m\n\u001b[1;32m----> 6\u001b[1;33m \u001b[0mTest\u001b[0m\u001b[1;33m.\u001b[0m\u001b[0mm1\u001b[0m\u001b[1;33m(\u001b[0m\u001b[1;33m)\u001b[0m \u001b[1;31m# This a Static Method, We have to pass a value compulsary to m1, if not error will be raised.\u001b[0m\u001b[1;33m\u001b[0m\u001b[1;33m\u001b[0m\u001b[0m\n\u001b[0m",
      "\u001b[1;31mTypeError\u001b[0m: m1() missing 1 required positional argument: 'x'"
     ]
    }
   ],
   "source": [
    "class Test:\n",
    "    \n",
    "    def m1(x):\n",
    "        print(\"Some Method\")\n",
    "        \n",
    "Test.m1() # This a Static Method, We have to pass a value compulsary to m1, if not error will be raised."
   ]
  },
  {
   "cell_type": "markdown",
   "metadata": {},
   "source": [
    "# Accessing Members of one class inside another class"
   ]
  },
  {
   "cell_type": "markdown",
   "metadata": {},
   "source": [
    "We can access members of one class inside another class.<br><br>\n",
    "Lets understand with one simple example."
   ]
  },
  {
   "cell_type": "code",
   "execution_count": 12,
   "metadata": {},
   "outputs": [
    {
     "name": "stdout",
     "output_type": "stream",
     "text": [
      "Employee Number: 101\n",
      "Employee Name: Sairam\n",
      "Employee Salary: 46000\n"
     ]
    }
   ],
   "source": [
    "class Employee: # Class 1\n",
    "    \n",
    "    def __init__(self,eno,ename,esal):\n",
    "        self.eno = eno\n",
    "        self.ename = ename\n",
    "        self.esal = esal\n",
    "        \n",
    "    def display(self):\n",
    "        print(\"Employee Number:\",self.eno)\n",
    "        print(\"Employee Name:\",self.ename)\n",
    "        print(\"Employee Salary:\",self.esal)\n",
    "        \n",
    "class Manager: # Class 2\n",
    "    \n",
    "    def UpdateEmpSal(emp):\n",
    "        emp.esal = emp.esal + 1000 # This will access the self.esal from Employee Class\n",
    "        emp.display() ## This will access the display method from Employee Class\n",
    "        \n",
    "emp = Employee(101,'Sairam',45000)\n",
    "Manager.UpdateEmpSal(emp)"
   ]
  },
  {
   "cell_type": "markdown",
   "metadata": {},
   "source": [
    "# Inner Classes\n",
    "\n",
    "Sometimes we can declare a class inside another class, such type of classes are called inner classes.<br><br>\n",
    "\n",
    "**When We should go for Inner Classes:**<br><br>\n",
    "<span style='color:green'>***Without existing one type of object, if there is no chance of existing another type of object***</span>, then we should go for inner classes."
   ]
  },
  {
   "cell_type": "markdown",
   "metadata": {},
   "source": [
    "For Example:<br><br>\n",
    "**Without existing university object, there is no chance of existing department object.**"
   ]
  },
  {
   "cell_type": "markdown",
   "metadata": {},
   "source": [
    "A university consists of Several Departments like EEE,ECE,CSE,IT,MECH,MBA etc. All the Departments will exist if and only if the university exists.<br> If the University is Removed, All the Departments will not exist.<br><br>\n",
    "class University: **# Outer Class Object**<br> \n",
    "&emsp;&emsp;..............<br>\n",
    "&emsp;&emsp;..............<br>\n",
    "&emsp;&emsp;..............<br>\n",
    "&emsp;&emsp;&emsp;class Department:           **# Inner Class Object**<br> \n",
    "&emsp;&emsp;&emsp;&emsp;&emsp;&emsp;pass<br><br>\n",
    "Without existing outer class object, there is no chance of inner class object existence.<br><br>\n",
    "**Some More Examples:**<br>\n",
    "\n",
    "<img src=\"images/inner_class_ex.png\" width=600>"
   ]
  },
  {
   "cell_type": "markdown",
   "metadata": {},
   "source": [
    "**Advantages of Inner Classes:**<br>\n",
    "1) It improves modularity of the application i.e we can define the the Inner class(department) wherever it is required inside an outerclass.<br>\n",
    "2) It improves security of the application i.e. We can't access Inner class(department) information without Accessing the Outer Class (university).\n"
   ]
  },
  {
   "cell_type": "markdown",
   "metadata": {},
   "source": [
    "**Demo Program to understand Inner Classes:**"
   ]
  },
  {
   "cell_type": "code",
   "execution_count": 2,
   "metadata": {},
   "outputs": [
    {
     "name": "stdout",
     "output_type": "stream",
     "text": [
      "Outer Class object creation\n"
     ]
    },
    {
     "ename": "NameError",
     "evalue": "name 'Inner' is not defined",
     "output_type": "error",
     "traceback": [
      "\u001b[1;31m---------------------------------------------------------------------------\u001b[0m",
      "\u001b[1;31mNameError\u001b[0m                                 Traceback (most recent call last)",
      "\u001b[1;32m<ipython-input-2-4b4bec24a1c3>\u001b[0m in \u001b[0;36m<module>\u001b[1;34m\u001b[0m\n\u001b[0;32m     13\u001b[0m \u001b[1;33m\u001b[0m\u001b[0m\n\u001b[0;32m     14\u001b[0m \u001b[0mo\u001b[0m \u001b[1;33m=\u001b[0m \u001b[0mOuter\u001b[0m\u001b[1;33m(\u001b[0m\u001b[1;33m)\u001b[0m \u001b[1;31m# Acessing Outer Class\u001b[0m\u001b[1;33m\u001b[0m\u001b[1;33m\u001b[0m\u001b[0m\n\u001b[1;32m---> 15\u001b[1;33m \u001b[0mi\u001b[0m \u001b[1;33m=\u001b[0m \u001b[0mInner\u001b[0m\u001b[1;33m(\u001b[0m\u001b[1;33m)\u001b[0m \u001b[1;31m# We directly can't access Inner Class without accesiing Outer Class. This will raise an error.\u001b[0m\u001b[1;33m\u001b[0m\u001b[1;33m\u001b[0m\u001b[0m\n\u001b[0m\u001b[0;32m     16\u001b[0m \u001b[0mi\u001b[0m\u001b[1;33m.\u001b[0m\u001b[0mm1\u001b[0m\u001b[1;33m\u001b[0m\u001b[1;33m\u001b[0m\u001b[0m\n",
      "\u001b[1;31mNameError\u001b[0m: name 'Inner' is not defined"
     ]
    }
   ],
   "source": [
    "class Outer:\n",
    "    \n",
    "    def __init__(self):\n",
    "        print(\"Outer Class object creation\")\n",
    "        \n",
    "    class Inner:\n",
    "        \n",
    "        def __init__(self):\n",
    "            print(\"Inner Class object creation\")\n",
    "            \n",
    "        def m1(self):\n",
    "            print(\"Inner Class Method\")\n",
    "            \n",
    "o = Outer() # Acessing Outer Class\n",
    "i = Inner() # We directly can't access Inner Class without accesiing Outer Class. This will raise an error.\n",
    "i.m1"
   ]
  },
  {
   "cell_type": "code",
   "execution_count": 3,
   "metadata": {},
   "outputs": [
    {
     "name": "stdout",
     "output_type": "stream",
     "text": [
      "Outer Class object creation\n",
      "Inner Class object creation\n",
      "Inner Class Method\n"
     ]
    }
   ],
   "source": [
    "o = Outer() # Acessing Outer Class\n",
    "i = o.Inner() # We should access Inner Class from the Outer Class like this syntax using . notation\n",
    "i.m1() # Accessing the method from the inner class."
   ]
  },
  {
   "cell_type": "code",
   "execution_count": 5,
   "metadata": {},
   "outputs": [
    {
     "name": "stdout",
     "output_type": "stream",
     "text": [
      "Outer Class object creation\n",
      "Inner Class object creation\n",
      "Inner Class Method\n"
     ]
    }
   ],
   "source": [
    "i=Outer().Inner() # This is also valid.\n",
    "i.m1()"
   ]
  },
  {
   "cell_type": "code",
   "execution_count": 6,
   "metadata": {},
   "outputs": [
    {
     "name": "stdout",
     "output_type": "stream",
     "text": [
      "Outer Class object creation\n",
      "Inner Class object creation\n",
      "Inner Class Method\n"
     ]
    }
   ],
   "source": [
    "Outer().Inner().m1() # This Single Line code is also valid"
   ]
  },
  {
   "cell_type": "markdown",
   "metadata": {},
   "source": [
    "**Nesting of Inner Classes Demo Program:**"
   ]
  },
  {
   "cell_type": "code",
   "execution_count": 12,
   "metadata": {},
   "outputs": [
    {
     "name": "stdout",
     "output_type": "stream",
     "text": [
      "********* With Sytax 1 **********\n",
      "Outer Class Object Creation\n",
      "Inner Class Object Creation\n",
      "InnerInner Class Object Creation\n",
      "Nested Inner Class Method\n",
      "\n",
      "********* With Sytax 2 **********\n",
      "Outer Class Object Creation\n",
      "Inner Class Object Creation\n",
      "InnerInner Class Object Creation\n",
      "Nested Inner Class Method\n"
     ]
    }
   ],
   "source": [
    "class Outer:\n",
    "    def __init__(self):\n",
    "        print(\"Outer Class Object Creation\")\n",
    "        \n",
    "    class Inner:\n",
    "        def __init__(self):\n",
    "            print(\"Inner Class Object Creation\")\n",
    "            \n",
    "        class InnerInner:\n",
    "            def __init__(self):\n",
    "                print(\"InnerInner Class Object Creation\")\n",
    "                    \n",
    "            def m1(self):\n",
    "                print(\"Nested Inner Class Method\")\n",
    "                    \n",
    "# To call the m1 method\n",
    "print(\"********* With Sytax 1 **********\")\n",
    "o=Outer()\n",
    "i=o.Inner()\n",
    "ii=i.InnerInner()\n",
    "ii.m1()\n",
    "print()\n",
    "print(\"********* With Sytax 2 **********\")\n",
    "Outer().Inner().InnerInner().m1()"
   ]
  },
  {
   "cell_type": "code",
   "execution_count": 16,
   "metadata": {},
   "outputs": [
    {
     "name": "stdout",
     "output_type": "stream",
     "text": [
      "********* Accessing Static Method **********\n",
      "Outer Class Object Creation\n",
      "Inner Class Object Creation\n",
      "Nested Inner Class Static Method\n"
     ]
    }
   ],
   "source": [
    "class Outer:\n",
    "    def __init__(self):\n",
    "        print(\"Outer Class Object Creation\")\n",
    "        \n",
    "    class Inner:\n",
    "        def __init__(self):\n",
    "            print(\"Inner Class Object Creation\")\n",
    "            \n",
    "        class InnerInner:\n",
    "            def __init__(self):\n",
    "                print(\"InnerInner Class Object Creation\")\n",
    "                    \n",
    "            @staticmethod\n",
    "            def m1():\n",
    "                print(\"Nested Inner Class Static Method\")\n",
    "                    \n",
    "\n",
    "print(\"********* Accessing Static Method **********\")\n",
    "Outer().Inner().InnerInner.m1()\n",
    "# We don't need to create InnerInner Object for accessing the static method, we can access it directly from Inner class with above syntax."
   ]
  },
  {
   "cell_type": "code",
   "execution_count": 17,
   "metadata": {},
   "outputs": [
    {
     "name": "stdout",
     "output_type": "stream",
     "text": [
      "talking....\n",
      "Thinking....\n"
     ]
    }
   ],
   "source": [
    "# Example 2\n",
    "\n",
    "class Human:\n",
    "    class Head:\n",
    "        def talk(self):\n",
    "            print('talking....')\n",
    "            \n",
    "        class Brain:\n",
    "            def think(self):\n",
    "                print(\"Thinking....\")\n",
    "                \n",
    "human = Human()\n",
    "head = human.Head()\n",
    "head.talk()\n",
    "brain = head.Brain()\n",
    "brain.think()"
   ]
  },
  {
   "cell_type": "markdown",
   "metadata": {},
   "source": [
    "Till now we have been creating the objects individually, But we want to automate the creation of objects. like If we create Human object automatically the Head and Brain Objects should also be created.<br><br> We can automate it like below example:"
   ]
  },
  {
   "cell_type": "code",
   "execution_count": 25,
   "metadata": {},
   "outputs": [
    {
     "name": "stdout",
     "output_type": "stream",
     "text": [
      "Hello, My Name is  Sairam\n",
      "I am always busy with\n",
      "Talking...\n",
      "Thinking...\n"
     ]
    }
   ],
   "source": [
    "# Example 3\n",
    "class Human:\n",
    "    \n",
    "    def __init__(self,name):\n",
    "        self.name = name\n",
    "        self.head = self.Head() # directly calling the Head class from constructor upon creating a human object\n",
    "        \n",
    "    def info(self):\n",
    "        print(\"Hello, My Name is \",self.name)\n",
    "        print(\"I am always busy with\")\n",
    "        self.head.talk() # Since Head class is already called an information is available, this will be displayed\n",
    "        self.head.brain.think() # On calling the Head class, Constructor will automatically call the Brain class and the brain info will be accessed.\n",
    "        \n",
    "    class Head: # Head Class will respond to the self.Head() from the constructor of Human Class\n",
    "        \n",
    "        def __init__(self):\n",
    "            self.brain = self.Brain() # Calling the Brain Class from Head class Constructor upon a call from Human class Constructor.\n",
    "            \n",
    "        def talk(self):\n",
    "            print(\"Talking...\") # This will be printed for self.head.talk()\n",
    "            \n",
    "        class Brain: # Brain class will respond to self.Brain() from the constructor of Head Class which is called with self.Head() from the constructor of Human Class\n",
    "            def think(self):\n",
    "                print(\"Thinking...\")\n",
    "              \n",
    "human = Human(\"Sairam\")\n",
    "human.info()          "
   ]
  },
  {
   "cell_type": "code",
   "execution_count": 29,
   "metadata": {},
   "outputs": [
    {
     "name": "stdout",
     "output_type": "stream",
     "text": [
      "Person Object Creation....\n",
      "DOB Object Creation\n",
      "Name =  SAIRAM KANDUKURI\n",
      "DOB = 19/6/1996\n"
     ]
    }
   ],
   "source": [
    "# Example 3\n",
    "# Without a person existance, date of birth can't be defined. Lets do it with code\n",
    "\n",
    "class Person:\n",
    "    \n",
    "    def __init__(self,name,dd,mm,yyyy): # on calling the person class, all the parameters given will be passed to respective instance variables and arguments.\n",
    "        print(\"Person Object Creation....\")\n",
    "        self.name = name # \n",
    "        self.dob = self.DOB(dd,mm,yyyy) #dd,mm,yyyy will be passed to the DOB Class for Creating the Instance Variables in DOB Class\n",
    "        \n",
    "    def info(self): \n",
    "        print(\"Name = \",self.name)\n",
    "        self.dob.display() # Since DOB Class is already called and information is available, display from DOB will be called and executed.\n",
    "    \n",
    "    \n",
    "    class DOB: # DOB Class will respond to the self.DOB(dd,mm,yyyy) from the constructor of Person Class\n",
    "        \n",
    "        def __init__(self,dd,mm,yyyy): # all the parameters received from the self.DOB(dd,mm,yyyy) will be used for Instance Variables Creation\n",
    "            print(\"DOB Object Creation\")\n",
    "            self.dd = dd # This will create Instance variable date 'dd'.\n",
    "            self.mm = mm # This will create Instance variable month 'mm'.\n",
    "            self.yyyy = yyyy # This will create Instance variable year 'yyyy'.\n",
    "            \n",
    "        def display(self): # upon calling this function this will be executed.\n",
    "            print(\"DOB = {}/{}/{}\".format(self.dd,self.mm,self.yyyy)) # This will be printed for self.dob.display()\n",
    "\n",
    "p = Person(\"SAIRAM KANDUKURI\",19,6,1996)\n",
    "p.info()"
   ]
  },
  {
   "cell_type": "markdown",
   "metadata": {},
   "source": [
    "This is all about Inner Classes, Hope You got the clear clarity with the above examples.<br><br>\n",
    "# Nested Methods"
   ]
  },
  {
   "cell_type": "markdown",
   "metadata": {},
   "source": [
    "When we require, method specific repeated functionality, then we should go for Nested Methods"
   ]
  },
  {
   "cell_type": "code",
   "execution_count": 41,
   "metadata": {},
   "outputs": [
    {
     "name": "stdout",
     "output_type": "stream",
     "text": [
      "The SUM 30\n",
      "The Product 200\n",
      "The Difference -10\n",
      "The Average 15.0\n",
      "\n",
      "The SUM 300\n",
      "The Product 20000\n",
      "The Difference -100\n",
      "The Average 150.0\n",
      "\n",
      "The SUM 3000\n",
      "The Product 2000000\n",
      "The Difference -1000\n",
      "The Average 1500.0\n"
     ]
    }
   ],
   "source": [
    "class Test:\n",
    "    def m1(self):\n",
    "        a=10\n",
    "        b=20\n",
    "        print(\"The SUM\",a+b)\n",
    "        print(\"The Product\",a*b)\n",
    "        print(\"The Difference\",a-b)\n",
    "        print(\"The Average\",(a+b)/2)\n",
    "        print()\n",
    "        # again for other values of a and b we need same functionality above.\n",
    "        a=100\n",
    "        b=200\n",
    "        print(\"The SUM\",a+b)\n",
    "        print(\"The Product\",a*b)\n",
    "        print(\"The Difference\",a-b)\n",
    "        print(\"The Average\",(a+b)/2)\n",
    "        print()\n",
    "        # again for other values of a and b we need same functionality above.\n",
    "        a=1000\n",
    "        b=2000\n",
    "        print(\"The SUM\",a+b)\n",
    "        print(\"The Product\",a*b)\n",
    "        print(\"The Difference\",a-b)\n",
    "        print(\"The Average\",(a+b)/2)\n",
    "        \n",
    "t=Test()\n",
    "t.m1()"
   ]
  },
  {
   "cell_type": "markdown",
   "metadata": {},
   "source": [
    "The above program is lenghty and memory consuming and there is no modularity. We can do the above program as below using nested methods"
   ]
  },
  {
   "cell_type": "code",
   "execution_count": 39,
   "metadata": {},
   "outputs": [
    {
     "name": "stdout",
     "output_type": "stream",
     "text": [
      "The SUM 30\n",
      "The Product 200\n",
      "The Difference -10\n",
      "The Average 15.0\n",
      "\n",
      "The SUM 300\n",
      "The Product 20000\n",
      "The Difference -100\n",
      "The Average 150.0\n",
      "\n",
      "The SUM 3000\n",
      "The Product 2000000\n",
      "The Difference -1000\n",
      "The Average 1500.0\n",
      "\n"
     ]
    }
   ],
   "source": [
    "class Test:\n",
    "    \n",
    "    def m1(self):\n",
    "        \n",
    "        def calc(a,b):\n",
    "            print(\"The SUM\",a+b)\n",
    "            print(\"The Product\",a*b)\n",
    "            print(\"The Difference\",a-b)\n",
    "            print(\"The Average\",(a+b)/2)\n",
    "            print()\n",
    "            \n",
    "        calc(10,20)\n",
    "        calc(100,200)\n",
    "        calc(1000,2000)\n",
    "        \n",
    "t=Test()\n",
    "t.m1()"
   ]
  },
  {
   "cell_type": "markdown",
   "metadata": {},
   "source": [
    "# Garbage Collections"
   ]
  },
  {
   "cell_type": "markdown",
   "metadata": {},
   "source": [
    "⚽ In old languages like C++, programmer is responsible for both creation and destruction of objects.Usually programmer taking very much care while creating object, but neglecting destruction of useless objects. Because of his neglectance, total memory can be filled with useless objects which creates memory problems and total application will be down with Out of memory error <br><br>\n",
    "⚽ But in Python, We have some assistant which is always running in the background to destroy useless objects.Because this assistant the chance of failing Python program with memory problems is very less. This assistant is nothing but Garbage Collector.<br><br>\n",
    "⚽ Hence the main objective of Garbage Collector is to destroy useless objects.<br><br>\n",
    "⚽ If an object does not have any reference variable then that object eligible for Garbage Collection. i.e if the reference count is zero, then only object is eligible for garbage collector.<br>"
   ]
  },
  {
   "cell_type": "markdown",
   "metadata": {},
   "source": [
    "**How to enable and disable Garbage Collector in our Program:**<br>\n",
    "By default Gargbage collector is enabled, but we can disable based on our requirement. In this context we can use the following functions of gc module.<br><br>\n",
    "1) **gc.isenabled()** ==> Returns True if GC enabled <br>\n",
    "2) **gc.disable()** ==> To disable GC explicitly <br>\n",
    "3) **gc.enable()** ==> To enable GC explicitly<br>"
   ]
  },
  {
   "cell_type": "code",
   "execution_count": 2,
   "metadata": {},
   "outputs": [
    {
     "name": "stdout",
     "output_type": "stream",
     "text": [
      "True\n"
     ]
    }
   ],
   "source": [
    "import gc # we need to import the gc module for performing garbage collector functions\n",
    "print(gc.isenabled()) # By default, GC is Always Enabled. So this will return TRUE"
   ]
  },
  {
   "cell_type": "code",
   "execution_count": 4,
   "metadata": {},
   "outputs": [
    {
     "name": "stdout",
     "output_type": "stream",
     "text": [
      "False\n"
     ]
    }
   ],
   "source": [
    "gc.disable() # We can disable Garbage Collector (GC) if we don't want.\n",
    "print(gc.isenabled())"
   ]
  },
  {
   "cell_type": "code",
   "execution_count": 5,
   "metadata": {},
   "outputs": [
    {
     "name": "stdout",
     "output_type": "stream",
     "text": [
      "True\n"
     ]
    }
   ],
   "source": [
    "gc.enable() # We can again Enable the Garbage Collector like this.\n",
    "print(gc.isenabled())"
   ]
  },
  {
   "cell_type": "markdown",
   "metadata": {},
   "source": [
    "# Destructors"
   ]
  },
  {
   "cell_type": "markdown",
   "metadata": {},
   "source": [
    "⚽ Destructor is a special method and the name should be **\\_\\_del\\_\\_** <br>\n",
    "⚽ Just before destroying an object Garbage Collector always calls destructor to perform clean up activities (Resource deallocation activities like close database connection, close network connection etc).<br> \n",
    "⚽ Once destructor execution completed then Garbage Collector automatically destroys that object.<br><br>\n",
    "**Note:** The job of destructor is not to destroy object and it is just to perform clean up activities.<br>"
   ]
  },
  {
   "cell_type": "code",
   "execution_count": 11,
   "metadata": {},
   "outputs": [
    {
     "name": "stdout",
     "output_type": "stream",
     "text": [
      "Object Initialization Activities\n",
      "End of Application\n"
     ]
    }
   ],
   "source": [
    "# Example\n",
    "\n",
    "import time\n",
    "\n",
    "import time\n",
    "\n",
    "class Test:\n",
    "    \n",
    "    def __init__(self):\n",
    "        print(\"Object Initialization Activities\")\n",
    "    \n",
    "    def __del__(self):\n",
    "        print(\"Fulfiling Last wish and performing cleanup activities...\")\n",
    "        \n",
    "t = Test() # Here only Object Initialization is happening, since t is pointing to Test object. So, Destructor will not exceute since there are no eligible objects for destruction\n",
    "# t = None\n",
    "time.sleep(10)\n",
    "print(\"End of Application\")\n",
    "        \n",
    "t = Test() # Here only Object Initialization is happening, since t is pointing to Test object. So, Destructor will not exceute since there are no eligible objects for destruction\n",
    "# t = None\n",
    "time.sleep(10)\n",
    "print(\"End of Application\")"
   ]
  },
  {
   "cell_type": "markdown",
   "metadata": {},
   "source": [
    "**In above example, only Object Initialization is happening, since t is pointing only to Test object. So, Destructor will not exceute since there are no eligible objects for Garabge Collection**"
   ]
  },
  {
   "cell_type": "code",
   "execution_count": 13,
   "metadata": {},
   "outputs": [
    {
     "name": "stdout",
     "output_type": "stream",
     "text": [
      "Object Initialization Activities\n",
      "Fulfiling Last wish and performing cleanup activities...\n",
      "End of Application\n"
     ]
    }
   ],
   "source": [
    "t = Test()\n",
    "t = None # Now t is poinitng to None, Instead of Test() object. Nothing is pointing to Test. Hence, Test Object is eliglbe for Grabage Collection. So __del__ will be executed.\n",
    "time.sleep(10)\n",
    "print(\"End of Application\")"
   ]
  },
  {
   "cell_type": "markdown",
   "metadata": {},
   "source": [
    "Now t is poinitng to None, Instead of Test() object. Nothing is pointing to Test. Hence, Test Object is eliglbe for Grabage Collection. So **\\_\\_del\\_\\_** will be executed."
   ]
  },
  {
   "cell_type": "markdown",
   "metadata": {},
   "source": [
    "**Note:** <br>\n",
    "1) If the object doesn't contain any reference variable then only it is eligible for garbage collection. i.e. if the reference count is zero then only object eligible for Garbage Collection.<br><br>\n",
    "2) Once Control reaches end of program, all objects which are created as the part of that program are by default eligible for Garbage Collection."
   ]
  },
  {
   "cell_type": "code",
   "execution_count": 5,
   "metadata": {},
   "outputs": [
    {
     "name": "stdout",
     "output_type": "stream",
     "text": [
      "Constructor Execution\n",
      "object not destroyed after deleting t1\n",
      "Object not destroyed even after deleting t2\n",
      "Deleting Last Reference\n",
      "Destructor Execution\n",
      "End of application\n"
     ]
    }
   ],
   "source": [
    "# Example for 2) Point\n",
    "import time\n",
    "\n",
    "class Test:\n",
    "    \n",
    "    def __init__(self):\n",
    "        print(\"Constructor Execution\")\n",
    "    \n",
    "    def __del__(self):\n",
    "        print(\"Destructor Execution\")\n",
    "        \n",
    "m1=Test()\n",
    "m2=m1\n",
    "m3=m1\n",
    "# all m1,m2,m3 are pointing to Test object\n",
    "del m1 # this will not delete Test object, since m2 and m3 are still pointing to Test Object\n",
    "time.sleep(5)\n",
    "print(\"object not destroyed after deleting t1\")\n",
    "del m2 # this will not delete Test object, since m3 is still pointing to Test Object\n",
    "time.sleep(5)\n",
    "print(\"Object not destroyed even after deleting t2\")\n",
    "print(\"Deleting Last Reference\")\n",
    "del m3 #After deleting last reference m3 of Test Object. Now Test Object is eligble for Garbage Colection.\n",
    "print(\"End of application\")"
   ]
  },
  {
   "cell_type": "code",
   "execution_count": 6,
   "metadata": {},
   "outputs": [
    {
     "name": "stdout",
     "output_type": "stream",
     "text": [
      "Constructor Execution\n",
      "Constructor Execution\n",
      "Constructor Execution\n",
      "Making List object eligible for GC\n",
      "Destructor Execution\n",
      "Destructor Execution\n",
      "Destructor Execution\n",
      "End of Application\n"
     ]
    }
   ],
   "source": [
    "# Example 3\n",
    "\n",
    "import time\n",
    "\n",
    "class Test:\n",
    "    \n",
    "    def __init__(self):\n",
    "        print(\"Constructor Execution\")\n",
    "    \n",
    "    def __del__(self):\n",
    "        print(\"Destructor Execution\")\n",
    "        \n",
    "l = [Test(), Test(), Test()]\n",
    "print(\"Making List object eligible for GC\")\n",
    "del l # on deleting the list, List and all objects inside list for Garbage Collection\n",
    "time.sleep(5)\n",
    "print(\"End of Application\")"
   ]
  },
  {
   "cell_type": "markdown",
   "metadata": {},
   "source": [
    "# The 3 Important Interview Questions"
   ]
  },
  {
   "cell_type": "markdown",
   "metadata": {},
   "source": [
    "Q1. What is the difference between **del t1** and **t1=None** ?"
   ]
  },
  {
   "cell_type": "code",
   "execution_count": 8,
   "metadata": {},
   "outputs": [
    {
     "name": "stdout",
     "output_type": "stream",
     "text": [
      "Constructor\n",
      "Destructor\n",
      "End of Application\n"
     ]
    }
   ],
   "source": [
    "# If we don't want both object and reference variable then go for del.\n",
    "class Test:\n",
    "    def __init__(self):\n",
    "        print(\"Constructor\")\n",
    "        \n",
    "    def __del__(self):\n",
    "        print(\"Destructor\")\n",
    "        \n",
    "t=Test()\n",
    "del t # reference variable t be deleted, and Test object is eligible for GC\n",
    "print(\"End of Application\")"
   ]
  },
  {
   "cell_type": "code",
   "execution_count": 9,
   "metadata": {},
   "outputs": [
    {
     "ename": "NameError",
     "evalue": "name 't' is not defined",
     "output_type": "error",
     "traceback": [
      "\u001b[1;31m---------------------------------------------------------------------------\u001b[0m",
      "\u001b[1;31mNameError\u001b[0m                                 Traceback (most recent call last)",
      "\u001b[1;32m<ipython-input-9-febd3e668534>\u001b[0m in \u001b[0;36m<module>\u001b[1;34m\u001b[0m\n\u001b[1;32m----> 1\u001b[1;33m \u001b[0mprint\u001b[0m\u001b[1;33m(\u001b[0m\u001b[0mt\u001b[0m\u001b[1;33m)\u001b[0m\u001b[1;33m\u001b[0m\u001b[1;33m\u001b[0m\u001b[0m\n\u001b[0m",
      "\u001b[1;31mNameError\u001b[0m: name 't' is not defined"
     ]
    }
   ],
   "source": [
    "print(t) # can't use t anymore since it is destroyed."
   ]
  },
  {
   "cell_type": "code",
   "execution_count": 10,
   "metadata": {},
   "outputs": [
    {
     "name": "stdout",
     "output_type": "stream",
     "text": [
      "Constructor\n",
      "Destructor\n",
      "end of application\n"
     ]
    }
   ],
   "source": [
    "# if you don't want object, but need reference variable. Better to use this reassignment approach\n",
    "class Test:\n",
    "    def __init__(self):\n",
    "        print(\"Constructor\")\n",
    "        \n",
    "    def __del__(self):\n",
    "        print(\"Destructor\")\n",
    "        \n",
    "t=Test()\n",
    "t=None # By using this, Test is no longer reference to t, t assigned to None now.\n",
    "# Hence, Test() is eligble for GC.\n",
    "print(\"end of application\")"
   ]
  },
  {
   "cell_type": "code",
   "execution_count": 11,
   "metadata": {},
   "outputs": [
    {
     "name": "stdout",
     "output_type": "stream",
     "text": [
      "None\n"
     ]
    }
   ],
   "source": [
    "print(t) # t is avialble"
   ]
  },
  {
   "cell_type": "markdown",
   "metadata": {},
   "source": [
    "Q2. How to find number of references of an object ?"
   ]
  },
  {
   "cell_type": "markdown",
   "metadata": {},
   "source": [
    "we have to import **sys** module. it contains **getrefcount()** function for this purpose. <br>\n",
    "**sys.getrefcount(objectreference)** is the syntax"
   ]
  },
  {
   "cell_type": "code",
   "execution_count": 12,
   "metadata": {},
   "outputs": [
    {
     "name": "stdout",
     "output_type": "stream",
     "text": [
      "2\n"
     ]
    }
   ],
   "source": [
    "import sys\n",
    "\n",
    "class Test:\n",
    "    pass\n",
    "t1=Test()\n",
    "print(sys.getrefcount(t1)) # one is Self and other is t1 pointing to Test object"
   ]
  },
  {
   "cell_type": "code",
   "execution_count": 13,
   "metadata": {},
   "outputs": [
    {
     "name": "stdout",
     "output_type": "stream",
     "text": [
      "5\n"
     ]
    }
   ],
   "source": [
    "import sys\n",
    "\n",
    "class Test:\n",
    "    pass\n",
    "t1=Test()\n",
    "t2=t1\n",
    "t3=t2\n",
    "t4=t3\n",
    "print(sys.getrefcount(t1))"
   ]
  },
  {
   "cell_type": "code",
   "execution_count": 14,
   "metadata": {},
   "outputs": [
    {
     "name": "stdout",
     "output_type": "stream",
     "text": [
      "3\n"
     ]
    }
   ],
   "source": [
    "del t3,t4 # deleting two references, now we should get 3\n",
    "print(sys.getrefcount(t1))"
   ]
  },
  {
   "cell_type": "markdown",
   "metadata": {},
   "source": [
    "**Note:** For every object, Python internally maintains one default reference variable self."
   ]
  },
  {
   "cell_type": "markdown",
   "metadata": {},
   "source": [
    "Q3. What id the difference between Constructor and Destructor?<br>\n",
    "<img src=\"images/constructor_vs_destructor.png\" width = 700>"
   ]
  },
  {
   "cell_type": "markdown",
   "metadata": {},
   "source": [
    " "
   ]
  },
  {
   "cell_type": "markdown",
   "metadata": {},
   "source": [
    " "
   ]
  },
  {
   "cell_type": "markdown",
   "metadata": {},
   "source": [
    "# ========================== PART - 2 =========================="
   ]
  },
  {
   "cell_type": "markdown",
   "metadata": {},
   "source": [
    "## Using Members of One Class inside Another Class: \n",
    "We can use members of one class inside another class by using the following ways<br>\n",
    "1) **By Composition (Has-A Relationship)**<br>\n",
    "2) **By Inheritance (IS-A Relationship)**"
   ]
  },
  {
   "cell_type": "markdown",
   "metadata": {},
   "source": [
    "### 1) By Composition (Has-A Relationship):<br>\n",
    " - By using Class Name or by creating object we can access members of one class inside another class is nothing but composition (Has-A Relationship).<br>\n",
    " - The main advantage of Has-A Relationship is Code Reusability i.e. **write once, use anywhere**<br>\n",
    " \n",
    " <img src=\"images/HAS-A.png\" width = 700><br>This Type of Relations between the objects is called **Composition** or **HAS-A Relationship**<br>\n",
    " <img src=\"images/HAS-A2.png\">"
   ]
  },
  {
   "cell_type": "code",
   "execution_count": 17,
   "metadata": {},
   "outputs": [
    {
     "name": "stdout",
     "output_type": "stream",
     "text": [
      "Car required Engine Functionality\n",
      "Engine Specific Functionality\n",
      "125KW\n"
     ]
    }
   ],
   "source": [
    "# Example 1\n",
    "\n",
    "class Engine:\n",
    "    \n",
    "    def __init__(self):\n",
    "        self.power = '125KW'\n",
    "    \n",
    "    def m1(self):\n",
    "        print(\"Engine Specific Functionality\")\n",
    "        \n",
    "class Car:\n",
    "    \n",
    "    def __init__(self):\n",
    "        self.engine = Engine() # Class Car is accessing the Engine object and its Functionalities\n",
    "        \n",
    "    def CarEngine(self):\n",
    "        print(\"Car required Engine Functionality\")\n",
    "        self.engine.m1() # Engine Specific Functionality is used in Car Class\n",
    "        print(self.engine.power)\n",
    "        \n",
    "c = Car()\n",
    "c.CarEngine()"
   ]
  },
  {
   "cell_type": "code",
   "execution_count": 20,
   "metadata": {},
   "outputs": [
    {
     "name": "stdout",
     "output_type": "stream",
     "text": [
      "Employee Name :  Sairam\n",
      "Employee Number :  101\n",
      "Employee Car Info:\n",
      "Car Name : Audi, Model : 2.5V, Color : Grey\n"
     ]
    }
   ],
   "source": [
    "# Example 2\n",
    "# Employee HAS-A Car\n",
    "\n",
    "class Car:\n",
    "    def __init__(self,name,model,color):\n",
    "        self.name = name\n",
    "        self.model = model\n",
    "        self.color = color\n",
    "        \n",
    "    def getInfo(self):\n",
    "        print(\"Car Name : {}, Model : {}, Color : {}\".format(self.name,self.model,self.color))\n",
    "        \n",
    "class Employee:\n",
    "    def __init__(self,ename,eno,car):\n",
    "        self.ename = ename\n",
    "        self.eno = eno\n",
    "        self.car = car\n",
    "    \n",
    "    def EmpInfo(self):\n",
    "        print(\"Employee Name : \",self.ename)\n",
    "        print(\"Employee Number : \",self.eno)\n",
    "        print(\"Employee Car Info:\")\n",
    "        self.car.getInfo()\n",
    "        \n",
    "car = Car(\"Audi\",'2.5V','Grey')\n",
    "emp = Employee(\"Sairam\",101,car)\n",
    "emp.EmpInfo()"
   ]
  },
  {
   "cell_type": "markdown",
   "metadata": {},
   "source": [
    "In the above program Employee class Has-A Car reference and hence Employee class can access all members of Car class."
   ]
  },
  {
   "cell_type": "markdown",
   "metadata": {},
   "source": [
    "**Exmaple 3**<br>\n",
    "I want to develop RK News Channel Functionality where i want to present sports news, Movie news etc.<br><br>\n",
    "1) i have SportsNews Class which consists of Sports Information.<br>\n",
    "2) i have MovieNews Class which consists of Movies Information.<br>\n",
    "3) i have PoliticsNews Class which consists of Politics Information.<br>\n",
    "<br>RKNews should be created and all the information of Above 3 News should be accessible. "
   ]
  },
  {
   "cell_type": "code",
   "execution_count": 24,
   "metadata": {},
   "outputs": [
    {
     "name": "stdout",
     "output_type": "stream",
     "text": [
      "Welcome to RK News:\n",
      "\n",
      "Sports Information 1.........\n",
      "Sports Information 2.........\n",
      "Sports Information 3.........\n",
      "Sports Information 4.........\n",
      "\n",
      "Movies Information 1.........\n",
      "Movies Information 2.........\n",
      "Movies Information 3.........\n",
      "Movies Information 4.........\n",
      "\n",
      "Politics Information 1.........\n",
      "Politics Information 2.........\n",
      "Politics Information 3.........\n",
      "Politics Information 4.........\n",
      "\n"
     ]
    }
   ],
   "source": [
    "class SportsNews:\n",
    "    def SportsInfo(self):\n",
    "        print(\"Sports Information 1.........\")\n",
    "        print(\"Sports Information 2.........\")\n",
    "        print(\"Sports Information 3.........\")\n",
    "        print(\"Sports Information 4.........\")\n",
    "        print()\n",
    "        \n",
    "class MovieNews:\n",
    "    def MoviesInfo(self):\n",
    "        print(\"Movies Information 1.........\")\n",
    "        print(\"Movies Information 2.........\")\n",
    "        print(\"Movies Information 3.........\")\n",
    "        print(\"Movies Information 4.........\")\n",
    "        print()\n",
    "\n",
    "class PoliticsNews:\n",
    "    def PoliticsInfo(self):\n",
    "        print(\"Politics Information 1.........\")\n",
    "        print(\"Politics Information 2.........\")\n",
    "        print(\"Politics Information 3.........\")\n",
    "        print(\"Politics Information 4.........\")\n",
    "        print()\n",
    "\n",
    "\n",
    "class RKNews:\n",
    "    def __init__(self):\n",
    "        self.sports = SportsNews()\n",
    "        self.movies = MovieNews()\n",
    "        self.politics = PoliticsNews()\n",
    "        \n",
    "    def GetTotalNews(self):\n",
    "        print(\"Welcome to RK News:\")\n",
    "        print()\n",
    "        self.sports.SportsInfo()\n",
    "        self.movies.MoviesInfo()\n",
    "        self.politics.PoliticsInfo()\n",
    "        \n",
    "rknews = RKNews()\n",
    "rknews.GetTotalNews()"
   ]
  },
  {
   "cell_type": "code",
   "execution_count": 26,
   "metadata": {},
   "outputs": [
    {
     "name": "stdout",
     "output_type": "stream",
     "text": [
      "Welcome to RK News:\n",
      "\n",
      "Sports Information 1.........\n",
      "Sports Information 2.........\n",
      "Sports Information 3.........\n",
      "Sports Information 4.........\n",
      "\n",
      "Movies Information 1.........\n",
      "Movies Information 2.........\n",
      "Movies Information 3.........\n",
      "Movies Information 4.........\n",
      "\n",
      "Politics Information 1.........\n",
      "Politics Information 2.........\n",
      "Politics Information 3.........\n",
      "Politics Information 4.........\n",
      "\n"
     ]
    }
   ],
   "source": [
    "# Method 2\n",
    "class SportsNews:\n",
    "    def SportsInfo(self):\n",
    "        print(\"Sports Information 1.........\")\n",
    "        print(\"Sports Information 2.........\")\n",
    "        print(\"Sports Information 3.........\")\n",
    "        print(\"Sports Information 4.........\")\n",
    "        print()\n",
    "        \n",
    "class MovieNews:\n",
    "    def MoviesInfo(self):\n",
    "        print(\"Movies Information 1.........\")\n",
    "        print(\"Movies Information 2.........\")\n",
    "        print(\"Movies Information 3.........\")\n",
    "        print(\"Movies Information 4.........\")\n",
    "        print()\n",
    "\n",
    "class PoliticsNews:\n",
    "    def PoliticsInfo(self):\n",
    "        print(\"Politics Information 1.........\")\n",
    "        print(\"Politics Information 2.........\")\n",
    "        print(\"Politics Information 3.........\")\n",
    "        print(\"Politics Information 4.........\")\n",
    "        print()\n",
    "        \n",
    "class RKNews:\n",
    "    def __init__(self,SportsNews,MovieNews,PoliticsNews):\n",
    "        self.sports = SportsNews\n",
    "        self.movies = MovieNews\n",
    "        self.politics = PoliticsNews\n",
    "        \n",
    "    def GetTotalNews(self):\n",
    "        print(\"Welcome to RK News:\")\n",
    "        print()\n",
    "        self.sports.SportsInfo()\n",
    "        self.movies.MoviesInfo()\n",
    "        self.politics.PoliticsInfo()\n",
    "    \n",
    "Sports = SportsNews()\n",
    "Movie = MovieNews()\n",
    "Politics = PoliticsNews()\n",
    "\n",
    "rknews = RKNews(Sports,Movie,Politics)\n",
    "rknews.GetTotalNews()"
   ]
  },
  {
   "cell_type": "markdown",
   "metadata": {},
   "source": [
    "### 2) By Inheritance (IS-A Relationship)\n",
    "1) Parent to Child Relationship<br>\n",
    "2) Parent class members i.e. what ever variables, methods and constructors available in the parent class by default available to the child classes and hence child class can use parent class functionality without rewriting (**Code Resusability**).<br> \n",
    "3) Child class can define new members also. Hence child class can extend parent class functionality (**Code Extendability**).<br>\n",
    "<br>Hence the main advantage of inheritance is<br><br>\n",
    "> 1) **Code Reusability :** We can use the code of the parent class in the child class.<br>\n",
    "> 2) **Code Extendability :** we can extend existing functionality with some more extra functionality.<br><br>\n",
    "\n",
    "**Syntax:** <span style='color:green'>**class**</span> <span style='color:blue'>**childclass**</span>**(parentclass)**<br>\n",
    "<br>Example:<br><br>\n",
    "**class P:** ===> Parent Class<br>\n",
    "&emsp;&emsp;10 Methods<br>\n",
    "**class C(P):** ===> Child Class<br>\n",
    "&emsp;&emsp;5 Methods<br><br>\n",
    "\n",
    "In the above example Parent class contains 10 methods and these methods automatically available to the child class and we are not required to rewrite those methods(Code Reusability)<br>Hence child class contains 15 methods."
   ]
  },
  {
   "cell_type": "code",
   "execution_count": 2,
   "metadata": {},
   "outputs": [
    {
     "name": "stdout",
     "output_type": "stream",
     "text": [
      "Parent Class Method\n",
      "Child Class Method\n"
     ]
    }
   ],
   "source": [
    "# Example 1\n",
    "\n",
    "class P:\n",
    "    def m1(self):\n",
    "        print(\"Parent Class Method\")\n",
    "        \n",
    "class C(P): # Child class with parent class methods and fucntionalites. Now C has two methods\n",
    "    def m2(self):\n",
    "        print(\"Child Class Method\")\n",
    "        \n",
    "c=C()\n",
    "c.m1()\n",
    "c.m2()"
   ]
  },
  {
   "cell_type": "code",
   "execution_count": 4,
   "metadata": {},
   "outputs": [
    {
     "name": "stdout",
     "output_type": "stream",
     "text": [
      "Parent Constructor\n",
      "10\n",
      "20\n",
      "Parnet Instance Method\n",
      "Parent Class Method\n",
      "Parent Static Method\n"
     ]
    }
   ],
   "source": [
    "# Example 2\n",
    "\n",
    "class P:\n",
    "    a=10\n",
    "    def __init__(self):\n",
    "        print(\"Parent Constructor\")\n",
    "        self.b = 20\n",
    "        \n",
    "    def m1(self):\n",
    "        print(\"Parnet Instance Method\")\n",
    "        \n",
    "    @classmethod\n",
    "    def m2(cls):\n",
    "        print(\"Parent Class Method\")\n",
    "        \n",
    "    @staticmethod\n",
    "    def m3():\n",
    "        print(\"Parent Static Method\")\n",
    "        \n",
    "# Parent Class Inheriting to child class\n",
    "class C(P): # This child is lazy to have its own methods init, it only parents functionalities\n",
    "    pass\n",
    "\n",
    "c = C()\n",
    "print(c.a) # 10\n",
    "print(c.b) # 20\n",
    "c.m1()\n",
    "c.m2()\n",
    "c.m3()"
   ]
  },
  {
   "cell_type": "markdown",
   "metadata": {},
   "source": [
    "If we observe in the above example, even if the child doesn't have anything on its own. All the information we are getting from child class. It is because we are inheriting parent class to the child class."
   ]
  },
  {
   "cell_type": "code",
   "execution_count": 9,
   "metadata": {},
   "outputs": [
    {
     "name": "stdout",
     "output_type": "stream",
     "text": [
      "Eat Biryani and Drink Beer\n",
      "Coding Python Program\n",
      "Employee Name: Sairam\n",
      "Employee Age: 24\n",
      "Employee Number: 263\n",
      "Employee Salary: 25000\n"
     ]
    }
   ],
   "source": [
    "# Example 3\n",
    "# Developing Employee and Person Classes with inheritence\n",
    "# Person consists of Name,age,person can eat and drink.\n",
    "# Employee is a person with work. All the person information can be used by employee.\n",
    "\n",
    "class Person:\n",
    "    def __init__(self,name,age):\n",
    "        self.name = name\n",
    "        self.age = age\n",
    "        \n",
    "    def eatndrink(self):\n",
    "        print(\"Eat Biryani and Drink Beer\")\n",
    "        \n",
    "class Employee(Person):\n",
    "    def __init__(self,name,age,eno,esal):\n",
    "        self.name = name\n",
    "        self.age = age\n",
    "        self.eno = eno\n",
    "        self.esal = esal\n",
    "    \n",
    "    def work(self):\n",
    "        print(\"Coding Python Program\")\n",
    "        \n",
    "    def empInfo(self):\n",
    "        print(\"Employee Name:\",self.name)\n",
    "        print(\"Employee Age:\",self.age)\n",
    "        print(\"Employee Number:\",self.eno)\n",
    "        print(\"Employee Salary:\",self.esal)\n",
    "        \n",
    "e = Employee(\"Sairam\",24,263,25000)\n",
    "e.eatndrink()\n",
    "e.work()\n",
    "e.empInfo()"
   ]
  },
  {
   "cell_type": "markdown",
   "metadata": {},
   "source": [
    "In th above program, we have wrote self.name and self.age tough they are available in the parent class. We can remove them and access from parent class by using **super()** function. This function will be discussed later.<br><br>\n",
    "From child class if we want to use parent class members, we need to call them using super() function. After calling parent class is repsonsible for creating Instance Variables name and Age of an employee.<br><br>\n",
    "Lets write the above code with super()"
   ]
  },
  {
   "cell_type": "code",
   "execution_count": 10,
   "metadata": {},
   "outputs": [
    {
     "name": "stdout",
     "output_type": "stream",
     "text": [
      "Eat Biryani and Drink Beer\n",
      "Coding Python Program\n",
      "Employee Name: Sairam\n",
      "Employee Age: 24\n",
      "Employee Number: 263\n",
      "Employee Salary: 25000\n"
     ]
    }
   ],
   "source": [
    "class Person:\n",
    "    def __init__(self,name,age):\n",
    "        self.name = name\n",
    "        self.age = age\n",
    "        \n",
    "    def eatndrink(self):\n",
    "        print(\"Eat Biryani and Drink Beer\")\n",
    "        \n",
    "class Employee(Person):\n",
    "    def __init__(self,name,age,eno,esal):\n",
    "        super().__init__(name,age) # This will call the constructor from parent class and will initialize the Instance Variables \n",
    "        self.eno = eno\n",
    "        self.esal = esal\n",
    "    \n",
    "    def work(self): # extended method along with parent class\n",
    "        print(\"Coding Python Program\")\n",
    "        \n",
    "    def empInfo(self):\n",
    "        print(\"Employee Name:\",self.name)\n",
    "        print(\"Employee Age:\",self.age)\n",
    "        print(\"Employee Number:\",self.eno)\n",
    "        print(\"Employee Salary:\",self.esal)\n",
    "        \n",
    "e = Employee(\"Sairam\",24,263,25000)\n",
    "e.eatndrink()\n",
    "e.work()\n",
    "e.empInfo()"
   ]
  },
  {
   "cell_type": "markdown",
   "metadata": {},
   "source": [
    "# Inheritence Importance"
   ]
  },
  {
   "cell_type": "markdown",
   "metadata": {},
   "source": [
    "We can avoid time consumption and also long lenghty codes with the help of inheritance.<br>We can do it by writing the most commonly used methods in the Parent class and we have to define specific methods in the child classes.<br><br>\n",
    "We can access the common methods of parent class inside the child class simply with inheritance concept. "
   ]
  },
  {
   "cell_type": "markdown",
   "metadata": {},
   "source": [
    "# IS-A vs HAS-A Relationships"
   ]
  },
  {
   "cell_type": "markdown",
   "metadata": {},
   "source": [
    " - If we want to extend existing functionality with some more extra functionality then we should go for **IS-A Relationship** or **Inheritance** Concept.  <br>\n",
    " - If we dont want to extend and just we have to use existing functionality then we should go for **HAS-A Relationship** or **Composition**<br>\n",
    " - Eg: Employee class extends Person class Functionality But Employee class just uses Car functionality but not extending<br>\n",
    "<img src=\"images/IS-A_vs_HAS-A.png\" width = 600><br>\n",
    "Employee **IS-A** Person<br>\n",
    "Employee **HAS-A** Car"
   ]
  },
  {
   "cell_type": "code",
   "execution_count": 3,
   "metadata": {},
   "outputs": [
    {
     "name": "stdout",
     "output_type": "stream",
     "text": [
      "Eat Biryani and Drink Beer\n",
      "Coding Python Program\n",
      "Employee Name: Sairam\n",
      "Employee Age: 24\n",
      "Employee Number: 263\n",
      "Employee Salary: 25000\n",
      "Employee Car Information...\n",
      "Car Name : Innova\n",
      "Model : 2.5V\n",
      "Color : Grey\n"
     ]
    }
   ],
   "source": [
    "class Car: # This is a Compisiton Relation ship, No extendability is expecting for this in employee class. whatever there is used\n",
    "    def __init__(self,name,model,color):\n",
    "        self.name = name\n",
    "        self.model = model\n",
    "        self.color = color\n",
    "        \n",
    "    def getInfo(self):\n",
    "        print(\"Car Name : {}\\nModel : {}\\nColor : {}\".format(self.name,self.model,self.color))\n",
    "        \n",
    "class Person: # This is a Inheritance Relationship, Person is a Parent Class.\n",
    "    def __init__(self,name,age):\n",
    "        self.name = name\n",
    "        self.age = age\n",
    "        \n",
    "    def eatndrink(self):\n",
    "        print(\"Eat Biryani and Drink Beer\")\n",
    "        \n",
    "class Employee(Person): # This Employee class is inherited with Person Class, We are extending code in this class along with functionalities captured from Parent Class\n",
    "    def __init__(self,name,age,eno,esal,car):\n",
    "        super().__init__(name,age) # This will call the constructor from parent class and will initialize the Instance Variables \n",
    "        self.eno = eno\n",
    "        self.esal = esal\n",
    "        self.car = car\n",
    "    \n",
    "    def work(self): # extended method along with parent class\n",
    "        print(\"Coding Python Program\")\n",
    "        \n",
    "    def empInfo(self):\n",
    "        print(\"Employee Name:\",self.name)\n",
    "        print(\"Employee Age:\",self.age)\n",
    "        print(\"Employee Number:\",self.eno)\n",
    "        print(\"Employee Salary:\",self.esal)\n",
    "        print(\"Employee Car Information...\")\n",
    "        self.car.getInfo() # Employee using car class functionality, since it has reference to car object.\n",
    "        \n",
    "car = Car('Innova','2.5V','Grey')\n",
    "e=Employee('Sairam',24,263,25000,car)\n",
    "e.eatndrink() # Employee using person class Functionality\n",
    "e.work() \n",
    "e.empInfo()"
   ]
  },
  {
   "cell_type": "markdown",
   "metadata": {},
   "source": [
    "# Composition vs Aggregation"
   ]
  },
  {
   "cell_type": "markdown",
   "metadata": {},
   "source": [
    "**Composition:** Without existing container object if there is no chance of existing contained object then the container and contained objects are strongly associated and that strong association is nothing but Composition.<br><br>\n",
    "**Eg:** University contains several Departments and without existing university object there is no chance of existing Department object. Hence University and Department objects are strongly associated and this strong association is nothing but Composition.<br>\n",
    "<img src=\"images/composition.png\" width = 600>"
   ]
  },
  {
   "cell_type": "code",
   "execution_count": 4,
   "metadata": {},
   "outputs": [],
   "source": [
    "class University:\n",
    "    def __init__(self):\n",
    "        self.department = self.Department()\n",
    "        \n",
    "    class Department:\n",
    "        pass\n",
    "\n",
    "u = University() # if the university class doesn't exist, Department class will not exist. There is a strong association between two classes."
   ]
  },
  {
   "cell_type": "markdown",
   "metadata": {},
   "source": [
    "**Aggregation:** Without existing container object if there is a chance of existing contained object then the container and contained objects are weakly associated and that weak association is nothing but Aggregation.<br><br>\n",
    "**Eg:** Department contains several Professors. Without existing Department still there may be a chance of existing Professor. Because professor might be shifted to other department. Hence Department and Professor Objects are weakly associated, which is nothing but Aggregation.<br>\n",
    "<img src=\"images/aggregation.png\" width=600>"
   ]
  },
  {
   "cell_type": "code",
   "execution_count": 5,
   "metadata": {},
   "outputs": [],
   "source": [
    "class Professor:\n",
    "    pass\n",
    "\n",
    "class Department:\n",
    "    def __init__(self,professor):\n",
    "        self.professor = professor\n",
    "        \n",
    "professor = Professor() \n",
    "# same professor working for cs department and eee departmet. if cs dept is closed, he will still work for eee dept.\n",
    "# There is weak association between objects. Hence this is called Aggregation.\n",
    "csdept = Department(professor)\n",
    "eeedept = Department(professor)"
   ]
  },
  {
   "cell_type": "markdown",
   "metadata": {},
   "source": [
    "**Note:** In Composition, container object holds directly the contained objects, whereas in Aggregation container object just holds the references of contained objects."
   ]
  },
  {
   "cell_type": "code",
   "execution_count": 7,
   "metadata": {},
   "outputs": [
    {
     "name": "stdout",
     "output_type": "stream",
     "text": [
      "VJIT\n",
      "Sairam\n"
     ]
    }
   ],
   "source": [
    "class Student: \n",
    "    collegeName='VJIT'\n",
    "    def __init__(self,name):\n",
    "        self.name=name\n",
    "\n",
    "print(Student.collegeName)\n",
    "s=Student('Sairam')\n",
    "print(s.name)"
   ]
  },
  {
   "cell_type": "markdown",
   "metadata": {},
   "source": [
    "In the above example without existing Student object there is no chance of existing his name. Hence Student Object and his name are strongly associated which is nothing but Composition.<br><br>\n",
    "But without existing Student object there may be a chance of existing collegeName. Hence Student object and collegeName are weakly associated which is nothing but Aggregation.<br><br>\n",
    "**Conclusion:** The relation between object and its instance variables is always Composition where as the relation between object and static variables is Aggregation."
   ]
  },
  {
   "cell_type": "markdown",
   "metadata": {},
   "source": [
    "**Note:** Whenever we are creating child class object then child class constructor will be executed. If the child class does not contain constructor then parent class constructor will be executed, but parent object won't be created."
   ]
  },
  {
   "cell_type": "code",
   "execution_count": 9,
   "metadata": {},
   "outputs": [
    {
     "name": "stdout",
     "output_type": "stream",
     "text": [
      "1847836178032\n",
      "1847836178032\n"
     ]
    }
   ],
   "source": [
    "class P:\n",
    "    def __init__(self):\n",
    "        print(id(self))\n",
    "class C(P):\n",
    "    pass\n",
    "c=C()\n",
    "print(id(c))"
   ]
  },
  {
   "cell_type": "markdown",
   "metadata": {},
   "source": [
    "# Types of Inheritance:\n",
    "\n",
    " - **Single Inheritance**<br>\n",
    " - **Multi Level Inheritance**<br>\n",
    " - **Hierarchical Inheritance**<br>\n",
    " - **Multiple Inheritance**<br>\n",
    " - **Hybrid Inheritance**<br>\n",
    " - **Cyclic Inheritance**<br>\n",
    "\n",
    "### 1) Single Inheritance:\n",
    "The concept of inheriting the properties from One Parent class to One Child class is known as single inheritance.<br>\n",
    "<img src=\"images/single_inheritance.png\" width=250><br>\n",
    "P is Parent Class<br>\n",
    "C is Child Class<br>\n",
    "Single Parent and Single Child represents Single Inheritance."
   ]
  },
  {
   "cell_type": "code",
   "execution_count": 10,
   "metadata": {},
   "outputs": [
    {
     "name": "stdout",
     "output_type": "stream",
     "text": [
      "Parent Method\n",
      "Child Method\n"
     ]
    }
   ],
   "source": [
    "class P: # Single Parent\n",
    "    def m1(self):\n",
    "        print(\"Parent Method\")\n",
    "\n",
    "class C(P): # Single child\n",
    "    def m2(self):\n",
    "        print(\"Child Method\")\n",
    "        \n",
    "c = C()\n",
    "c.m1()\n",
    "c.m2()"
   ]
  },
  {
   "cell_type": "markdown",
   "metadata": {},
   "source": [
    "### 2) Multi Level Inheritance:\n",
    "The concept of inheriting the properties from multiple classes to single class with the concept of one after another is known as multilevel inheritance.<br>\n",
    "**Multiple Levels of Inheritance** ===> Multilevel Inheritance\n",
    "<img src=\"images/multi_level_inheritance.png\" width=300><br>\n",
    "**P - Parent Class**<br>\n",
    "**C - Child Class**<br>\n",
    "**CC - Sub Child**"
   ]
  },
  {
   "cell_type": "code",
   "execution_count": 11,
   "metadata": {},
   "outputs": [
    {
     "name": "stdout",
     "output_type": "stream",
     "text": [
      "Parent Method\n",
      "Child Method\n",
      "Sub Child Method\n"
     ]
    }
   ],
   "source": [
    "class P:\n",
    "    def m1(self):\n",
    "        print(\"Parent Method\")\n",
    "        \n",
    "class C(P): # all the methods and functionalities from parent class P are available.\n",
    "    def m2(self):\n",
    "        print(\"Child Method\")\n",
    "        \n",
    "class CC(C): # all the Parent Class (P) and Child Class (C) are available to sub child class (CC).\n",
    "    def m3(self):\n",
    "        print(\"Sub Child Method\")\n",
    "        \n",
    "c=CC() # All the methods and functionalities from P and C are available to CC. \n",
    "c.m1() # hence we can access all the methods from sub child itself.\n",
    "c.m2()\n",
    "c.m3()"
   ]
  },
  {
   "cell_type": "markdown",
   "metadata": {},
   "source": [
    "### 3) Hierarchical Inheritance:\n",
    "\n",
    "The concept of inheriting properties from one class into multiple classes which are present at same level is known as Hierarchical Inheritance.<br><br>\n",
    "<span style=\"color:violet\">**One Parent but Multiple child classes and all child classes are at same level**</span>\n",
    "<img src=\"images/Hierachical_Inheritance.png\" width=300>\n",
    "**P - Parent Class**<br>\n",
    "**C1 - First Child Class**<br>\n",
    "**C2 - Second Child Class**<br>"
   ]
  },
  {
   "cell_type": "code",
   "execution_count": 13,
   "metadata": {},
   "outputs": [
    {
     "name": "stdout",
     "output_type": "stream",
     "text": [
      "Parent Method\n",
      "First child Class Method\n"
     ]
    },
    {
     "ename": "AttributeError",
     "evalue": "'C1' object has no attribute 'm3'",
     "output_type": "error",
     "traceback": [
      "\u001b[1;31m---------------------------------------------------------------------------\u001b[0m",
      "\u001b[1;31mAttributeError\u001b[0m                            Traceback (most recent call last)",
      "\u001b[1;32m<ipython-input-13-13a71093de8f>\u001b[0m in \u001b[0;36m<module>\u001b[1;34m\u001b[0m\n\u001b[0;32m     14\u001b[0m \u001b[0mc1\u001b[0m\u001b[1;33m.\u001b[0m\u001b[0mm1\u001b[0m\u001b[1;33m(\u001b[0m\u001b[1;33m)\u001b[0m \u001b[1;31m# This is available from P in C1\u001b[0m\u001b[1;33m\u001b[0m\u001b[1;33m\u001b[0m\u001b[0m\n\u001b[0;32m     15\u001b[0m \u001b[0mc1\u001b[0m\u001b[1;33m.\u001b[0m\u001b[0mm2\u001b[0m\u001b[1;33m(\u001b[0m\u001b[1;33m)\u001b[0m \u001b[1;31m# This is available from P in C2\u001b[0m\u001b[1;33m\u001b[0m\u001b[1;33m\u001b[0m\u001b[0m\n\u001b[1;32m---> 16\u001b[1;33m \u001b[0mc1\u001b[0m\u001b[1;33m.\u001b[0m\u001b[0mm3\u001b[0m\u001b[1;33m(\u001b[0m\u001b[1;33m)\u001b[0m \u001b[1;31m# This is Not available in C3, since there is no relation between C1 and C2. Only relation b/w P and C1 is present.\u001b[0m\u001b[1;33m\u001b[0m\u001b[1;33m\u001b[0m\u001b[0m\n\u001b[0m\u001b[0;32m     17\u001b[0m \u001b[1;31m# c1.m3() will raise an error\u001b[0m\u001b[1;33m\u001b[0m\u001b[1;33m\u001b[0m\u001b[1;33m\u001b[0m\u001b[0m\n",
      "\u001b[1;31mAttributeError\u001b[0m: 'C1' object has no attribute 'm3'"
     ]
    }
   ],
   "source": [
    "class P:\n",
    "    def m1(self):\n",
    "        print(\"Parent Method\")\n",
    "        \n",
    "class C1(P): # m1 from P Class and m2 from this C1 class itslef is available.\n",
    "    def m2(self):\n",
    "        print(\"First child Class Method\")\n",
    "        \n",
    "class C2(P): # m1 from P Class and m3 from this C2 class itslef is available.\n",
    "    def m3(self):\n",
    "        print(\"Second child Class Method\")\n",
    "        \n",
    "c1=C1()\n",
    "c1.m1() # This is available from P in C1\n",
    "c1.m2() # This is available from P in C2\n",
    "c1.m3() # This is Not available in C3, since there is no relation between C1 and C2. Only relation b/w P and C1 is present.\n",
    "# c1.m3() will raise an error"
   ]
  },
  {
   "cell_type": "code",
   "execution_count": 14,
   "metadata": {},
   "outputs": [
    {
     "name": "stdout",
     "output_type": "stream",
     "text": [
      "Parent Method\n",
      "First child Class Method\n",
      "Parent Method\n",
      "Second child Class Method\n"
     ]
    }
   ],
   "source": [
    "c1=C1()\n",
    "c1.m1()\n",
    "c1.m2()\n",
    "c2=C2()\n",
    "c2.m1()\n",
    "c2.m3()"
   ]
  },
  {
   "cell_type": "markdown",
   "metadata": {},
   "source": [
    "### 4) Multiple Inheritance:\n",
    "The concept of inheriting the properties from multiple classes into a single class at a time, is known as multiple inheritance.<br><br>\n",
    "<span style=\"color:violet\">**Multiple Parents but Single Child**</span><br><br>\n",
    "**Syntax:** **class** <span style=\"color:green\">**ClassName**</span>(<span style=\"color:blue\">**ParentClass_1,ParentClass_2**</span>) \n",
    "<img src=\"images/Multiple_Inheritance.png\" width=300>\n",
    "**P1 - First Parent Class**<br>\n",
    "**P2 - Second Parent Class**<br>\n",
    "**C - Child Class**"
   ]
  },
  {
   "cell_type": "code",
   "execution_count": 15,
   "metadata": {},
   "outputs": [
    {
     "name": "stdout",
     "output_type": "stream",
     "text": [
      "First Parent Method\n",
      "Second Parent Method\n",
      "Child Method\n"
     ]
    }
   ],
   "source": [
    "class P1:\n",
    "    def m1(self):\n",
    "        print(\"First Parent Method\")\n",
    "        \n",
    "class P2:\n",
    "    def m2(self):\n",
    "        print(\"Second Parent Method\")\n",
    "        \n",
    "class C(P1,P2): # All the methods from P1 and P2 are available to Child Class C.\n",
    "    def m3(self):\n",
    "        print(\"Child Method\")\n",
    "        \n",
    "c=C()\n",
    "c.m1()\n",
    "c.m2()\n",
    "c.m3()"
   ]
  },
  {
   "cell_type": "markdown",
   "metadata": {},
   "source": [
    "If the same method is inherited from both parent classes, then Python will always consider the order of Parent classes in the declaration of the child class.<br><br>\n",
    "**class C(P1, P2):** ==> P1 method will be considered<br>\n",
    "**class C(P2, P1):** ==> P2 method will be considered"
   ]
  },
  {
   "cell_type": "code",
   "execution_count": 17,
   "metadata": {},
   "outputs": [
    {
     "name": "stdout",
     "output_type": "stream",
     "text": [
      "First Parent Method\n",
      "Child Method\n",
      "Second Parent Method\n",
      "Child Method\n"
     ]
    }
   ],
   "source": [
    "class P1:\n",
    "    def m1(self):\n",
    "        print(\"First Parent Method\")\n",
    "        \n",
    "class P2:\n",
    "    def m1(self):\n",
    "        print(\"Second Parent Method\")\n",
    "        \n",
    "class C1(P1,P2): # m1 method from P1 will be considered.\n",
    "    def m2(self):\n",
    "        print(\"Child Method\")\n",
    "        \n",
    "class C2(P2,P1): # m1 method from P2 will be considered.\n",
    "    def m2(self):\n",
    "        print(\"Child Method\")\n",
    "        \n",
    "c1=C1()\n",
    "c1.m1()\n",
    "c1.m2()\n",
    "c2=C2()\n",
    "c2.m1()\n",
    "c2.m2()"
   ]
  },
  {
   "cell_type": "markdown",
   "metadata": {},
   "source": [
    "### 5) Hybrid Inheritance:\n",
    "\n",
    "Combination of Single, Multi level, multiple and Hierarchical inheritance is known as Hybrid Inheritance.<br>\n",
    "<img src=\"images/Hybrid_Inheritance.png\" width=300><br>\n",
    "**Note:** In Hybrid Inheritance, method resolution is based on **MRO** algorithm."
   ]
  },
  {
   "cell_type": "markdown",
   "metadata": {},
   "source": [
    "### 6) Cyclic Inheritance:\n",
    "\n",
    "The concept of inheriting properties from one class to another class in cyclic way, is called Cyclic inheritance. **Python won't support for Cyclic Inheritance, of course it is really not required.**<br>"
   ]
  },
  {
   "cell_type": "code",
   "execution_count": 18,
   "metadata": {},
   "outputs": [
    {
     "ename": "NameError",
     "evalue": "name 'A' is not defined",
     "output_type": "error",
     "traceback": [
      "\u001b[1;31m---------------------------------------------------------------------------\u001b[0m",
      "\u001b[1;31mNameError\u001b[0m                                 Traceback (most recent call last)",
      "\u001b[1;32m<ipython-input-18-4d73eadbbfb2>\u001b[0m in \u001b[0;36m<module>\u001b[1;34m\u001b[0m\n\u001b[0;32m      1\u001b[0m \u001b[1;31m# Example 1\u001b[0m\u001b[1;33m\u001b[0m\u001b[1;33m\u001b[0m\u001b[1;33m\u001b[0m\u001b[0m\n\u001b[1;32m----> 2\u001b[1;33m \u001b[1;32mclass\u001b[0m \u001b[0mA\u001b[0m\u001b[1;33m(\u001b[0m\u001b[0mA\u001b[0m\u001b[1;33m)\u001b[0m\u001b[1;33m:\u001b[0m\u001b[1;33m\u001b[0m\u001b[1;33m\u001b[0m\u001b[0m\n\u001b[0m\u001b[0;32m      3\u001b[0m     \u001b[1;32mpass\u001b[0m\u001b[1;33m\u001b[0m\u001b[1;33m\u001b[0m\u001b[0m\n",
      "\u001b[1;31mNameError\u001b[0m: name 'A' is not defined"
     ]
    }
   ],
   "source": [
    "# Example 1\n",
    "class A(A):\n",
    "    pass"
   ]
  },
  {
   "cell_type": "markdown",
   "metadata": {},
   "source": [
    "<img src=\"images/cyclic_inheritance_1.png\" width=300>"
   ]
  },
  {
   "cell_type": "code",
   "execution_count": 19,
   "metadata": {},
   "outputs": [
    {
     "ename": "NameError",
     "evalue": "name 'B' is not defined",
     "output_type": "error",
     "traceback": [
      "\u001b[1;31m---------------------------------------------------------------------------\u001b[0m",
      "\u001b[1;31mNameError\u001b[0m                                 Traceback (most recent call last)",
      "\u001b[1;32m<ipython-input-19-a8edfe70596a>\u001b[0m in \u001b[0;36m<module>\u001b[1;34m\u001b[0m\n\u001b[0;32m      1\u001b[0m \u001b[1;31m# Example 2\u001b[0m\u001b[1;33m\u001b[0m\u001b[1;33m\u001b[0m\u001b[1;33m\u001b[0m\u001b[0m\n\u001b[1;32m----> 2\u001b[1;33m \u001b[1;32mclass\u001b[0m \u001b[0mA\u001b[0m\u001b[1;33m(\u001b[0m\u001b[0mB\u001b[0m\u001b[1;33m)\u001b[0m\u001b[1;33m:\u001b[0m\u001b[1;33m\u001b[0m\u001b[1;33m\u001b[0m\u001b[0m\n\u001b[0m\u001b[0;32m      3\u001b[0m     \u001b[1;32mpass\u001b[0m\u001b[1;33m\u001b[0m\u001b[1;33m\u001b[0m\u001b[0m\n\u001b[0;32m      4\u001b[0m \u001b[1;32mclass\u001b[0m \u001b[0mB\u001b[0m\u001b[1;33m(\u001b[0m\u001b[0mA\u001b[0m\u001b[1;33m)\u001b[0m\u001b[1;33m:\u001b[0m\u001b[1;33m\u001b[0m\u001b[1;33m\u001b[0m\u001b[0m\n\u001b[0;32m      5\u001b[0m     \u001b[1;32mpass\u001b[0m\u001b[1;33m\u001b[0m\u001b[1;33m\u001b[0m\u001b[0m\n",
      "\u001b[1;31mNameError\u001b[0m: name 'B' is not defined"
     ]
    }
   ],
   "source": [
    "# Example 2\n",
    "class A(B):\n",
    "    pass\n",
    "class B(A):\n",
    "    pass"
   ]
  },
  {
   "cell_type": "markdown",
   "metadata": {},
   "source": [
    "<img src=\"images/cyclic_inheritance_2.png\" width=250>"
   ]
  },
  {
   "cell_type": "markdown",
   "metadata": {},
   "source": [
    "# Method Resolution Order(MRO)"
   ]
  },
  {
   "cell_type": "markdown",
   "metadata": {},
   "source": [
    "- In Hybrid Inheritance the method resolution order is decided based on MRO algorithm.<br>\n",
    "- This algorithm is also known as C3 algorithm.<br>\n",
    "- Samuele Pedroni proposed this algorithm.<br>\n",
    "- It follows DLR (Depth First Left to Right) i.e Child will get more priority than Parent.<br>\n",
    "- Left Parent will get more priority than Right Parent.<br>\n",
    "- MRO(X) = X+Merge(MRO(P1),MRO(P2),...,ParentList)<br>\n",
    "\n",
    "**Note:** We can find MRO of any class by using mro() function. <br>\n",
    "&emsp;&emsp;&emsp;**print(ClassName.mro())**<br>\n",
    "<img src=\"images/MRO_Demo1.png\" width=600 align=\"left\">"
   ]
  },
  {
   "cell_type": "code",
   "execution_count": 2,
   "metadata": {},
   "outputs": [
    {
     "name": "stdout",
     "output_type": "stream",
     "text": [
      "[<class '__main__.A'>, <class 'object'>]\n",
      "[<class '__main__.B'>, <class '__main__.A'>, <class 'object'>]\n",
      "[<class '__main__.C'>, <class '__main__.A'>, <class 'object'>]\n",
      "[<class '__main__.D'>, <class '__main__.B'>, <class '__main__.C'>, <class '__main__.A'>, <class 'object'>]\n"
     ]
    }
   ],
   "source": [
    "class A: pass\n",
    "class B(A): pass\n",
    "class C(A): pass\n",
    "class D(B,C): pass\n",
    "print(A.mro()) \n",
    "print(B.mro())\n",
    "print(C.mro())\n",
    "print(D.mro())"
   ]
  },
  {
   "cell_type": "code",
   "execution_count": 4,
   "metadata": {},
   "outputs": [
    {
     "name": "stdout",
     "output_type": "stream",
     "text": [
      "D Class Method\n"
     ]
    }
   ],
   "source": [
    "class A:\n",
    "    def m1(self):\n",
    "        print('A Class Method')\n",
    "class B:\n",
    "    def m1(self):\n",
    "        print(\"B Class Method\")\n",
    "class C(A):\n",
    "    def m1(self):\n",
    "        print('C Class Method')\n",
    "class D(B,C):\n",
    "    def m1(self):\n",
    "        print('D Class Method')\n",
    "d=D() #DBCAO\n",
    "d.m1() # since m1 is availble is D class, D class will be displayed as first priority."
   ]
  },
  {
   "cell_type": "code",
   "execution_count": 5,
   "metadata": {},
   "outputs": [
    {
     "name": "stdout",
     "output_type": "stream",
     "text": [
      "B Class Method\n"
     ]
    }
   ],
   "source": [
    "class A:\n",
    "    def m1(self):\n",
    "        print('A Class Method')\n",
    "class B:\n",
    "    def m1(self):\n",
    "        print(\"B Class Method\")\n",
    "class C(A):\n",
    "    def m1(self):\n",
    "        print('C Class Method')\n",
    "class D(B,C):\n",
    "    pass\n",
    "d=D() #DBCAO\n",
    "d.m1() # since m1 not available in D, next priority will be B"
   ]
  },
  {
   "cell_type": "code",
   "execution_count": 6,
   "metadata": {},
   "outputs": [
    {
     "name": "stdout",
     "output_type": "stream",
     "text": [
      "C Class Method\n"
     ]
    }
   ],
   "source": [
    "class A:\n",
    "    def m1(self):\n",
    "        print('A Class Method')\n",
    "class B:\n",
    "    pass\n",
    "class C(A):\n",
    "    def m1(self):\n",
    "        print('C Class Method')\n",
    "class D(B,C):\n",
    "    pass\n",
    "d=D() #DBCAO\n",
    "d.m1() # since m1 not available in D,B next priority will be C"
   ]
  },
  {
   "cell_type": "code",
   "execution_count": 7,
   "metadata": {},
   "outputs": [
    {
     "name": "stdout",
     "output_type": "stream",
     "text": [
      "A Class Method\n"
     ]
    }
   ],
   "source": [
    "class A:\n",
    "    def m1(self):\n",
    "        print('A Class Method')\n",
    "class B:\n",
    "    pass\n",
    "class C(A):\n",
    "    pass\n",
    "class D(B,C):\n",
    "    pass\n",
    "d=D() #DBCAO\n",
    "d.m1() # since m1 not available in D,B,C next priority will be A."
   ]
  },
  {
   "cell_type": "code",
   "execution_count": 8,
   "metadata": {},
   "outputs": [
    {
     "ename": "AttributeError",
     "evalue": "'D' object has no attribute 'm1'",
     "output_type": "error",
     "traceback": [
      "\u001b[1;31m---------------------------------------------------------------------------\u001b[0m",
      "\u001b[1;31mAttributeError\u001b[0m                            Traceback (most recent call last)",
      "\u001b[1;32m<ipython-input-8-2c30990478af>\u001b[0m in \u001b[0;36m<module>\u001b[1;34m\u001b[0m\n\u001b[0;32m      8\u001b[0m     \u001b[1;32mpass\u001b[0m\u001b[1;33m\u001b[0m\u001b[1;33m\u001b[0m\u001b[0m\n\u001b[0;32m      9\u001b[0m \u001b[0md\u001b[0m\u001b[1;33m=\u001b[0m\u001b[0mD\u001b[0m\u001b[1;33m(\u001b[0m\u001b[1;33m)\u001b[0m \u001b[1;31m#DBCAO\u001b[0m\u001b[1;33m\u001b[0m\u001b[1;33m\u001b[0m\u001b[0m\n\u001b[1;32m---> 10\u001b[1;33m \u001b[0md\u001b[0m\u001b[1;33m.\u001b[0m\u001b[0mm1\u001b[0m\u001b[1;33m(\u001b[0m\u001b[1;33m)\u001b[0m \u001b[1;31m# if m1 not availble in D,B,C,A then MRO will decide to check in Object. if Not Available, it will raise error.\u001b[0m\u001b[1;33m\u001b[0m\u001b[1;33m\u001b[0m\u001b[0m\n\u001b[0m",
      "\u001b[1;31mAttributeError\u001b[0m: 'D' object has no attribute 'm1'"
     ]
    }
   ],
   "source": [
    "class A:\n",
    "    pass\n",
    "class B:\n",
    "    pass\n",
    "class C(A):\n",
    "    pass\n",
    "class D(B,C):\n",
    "    pass\n",
    "d=D() #DBCAO\n",
    "d.m1() # if m1 not availble in D,B,C,A then MRO will decide to check in Object. if Not Available, it will raise error."
   ]
  },
  {
   "cell_type": "markdown",
   "metadata": {},
   "source": [
    "In the above example, we have worked on only two levels which is straight forward to say the MRO. But there will be some cases where we will have multilevels. We need to understand how MRO will work in those multilevel cases.<br>Lets look at an example of how to do it.<br>\n",
    "<img src=\"images/MRO_Demo2.png\" align=\"left\" width=700>"
   ]
  },
  {
   "cell_type": "code",
   "execution_count": 2,
   "metadata": {},
   "outputs": [
    {
     "name": "stdout",
     "output_type": "stream",
     "text": [
      "[<class '__main__.A'>, <class 'object'>]\n",
      "[<class '__main__.B'>, <class 'object'>]\n",
      "[<class '__main__.C'>, <class 'object'>]\n",
      "[<class '__main__.X'>, <class '__main__.A'>, <class '__main__.B'>, <class 'object'>]\n",
      "[<class '__main__.Y'>, <class '__main__.B'>, <class '__main__.C'>, <class 'object'>]\n",
      "[<class '__main__.P'>, <class '__main__.X'>, <class '__main__.A'>, <class '__main__.Y'>, <class '__main__.B'>, <class '__main__.C'>, <class 'object'>]\n"
     ]
    }
   ],
   "source": [
    "class A: pass\n",
    "class B: pass\n",
    "class C: pass\n",
    "class X(A,B): pass\n",
    "class Y(B,C): pass\n",
    "class P(X,Y,C): pass\n",
    "print(A.mro())\n",
    "print(B.mro())\n",
    "print(C.mro())\n",
    "print(X.mro())\n",
    "print(Y.mro())\n",
    "print(P.mro())"
   ]
  },
  {
   "cell_type": "code",
   "execution_count": 6,
   "metadata": {},
   "outputs": [
    {
     "name": "stdout",
     "output_type": "stream",
     "text": [
      "Class X Method\n"
     ]
    }
   ],
   "source": [
    "class A:\n",
    "    def m1(self):\n",
    "        print(\"Class A Method\")\n",
    "class B: \n",
    "    def m1(self):\n",
    "        print(\"Class B Method\")\n",
    "class C:\n",
    "    def m1(self):\n",
    "        print(\"Class C Method\")\n",
    "class X(A,B):\n",
    "    def m1(self):\n",
    "        print(\"Class X Method\")\n",
    "class Y(B,C):\n",
    "    def m1(self):\n",
    "        print(\"Class Y Method\")\n",
    "class P(X,Y,C):\n",
    "    def m1(self):\n",
    "        print(\"Class P Method\")\n",
    "\n",
    "p=P()\n",
    "p.m1() # since m1 is avaiable in P method, m1 from P class will be displayed."
   ]
  },
  {
   "cell_type": "code",
   "execution_count": 7,
   "metadata": {},
   "outputs": [
    {
     "name": "stdout",
     "output_type": "stream",
     "text": [
      "Class X Method\n"
     ]
    }
   ],
   "source": [
    "class A:\n",
    "    def m1(self):\n",
    "        print(\"Class A Method\")\n",
    "class B: \n",
    "    def m1(self):\n",
    "        print(\"Class B Method\")\n",
    "class C:\n",
    "    def m1(self):\n",
    "        print(\"Class C Method\")\n",
    "class X(A,B):\n",
    "    def m1(self):\n",
    "        print(\"Class X Method\")\n",
    "class Y(B,C):\n",
    "    def m1(self):\n",
    "        print(\"Class Y Method\")\n",
    "class P(X,Y,C):\n",
    "    pass\n",
    "\n",
    "p=P()\n",
    "p.m1() # if m1 is not avaiable in P method,then MRO will prefer to check in X."
   ]
  },
  {
   "cell_type": "code",
   "execution_count": 8,
   "metadata": {},
   "outputs": [
    {
     "name": "stdout",
     "output_type": "stream",
     "text": [
      "Class A Method\n"
     ]
    }
   ],
   "source": [
    "class A:\n",
    "    def m1(self):\n",
    "        print(\"Class A Method\")\n",
    "class B: \n",
    "    def m1(self):\n",
    "        print(\"Class B Method\")\n",
    "class C:\n",
    "    def m1(self):\n",
    "        print(\"Class C Method\")\n",
    "class X(A,B):\n",
    "    pass\n",
    "class Y(B,C):\n",
    "    def m1(self):\n",
    "        print(\"Class Y Method\")\n",
    "class P(X,Y,C):\n",
    "    pass\n",
    "\n",
    "p=P()\n",
    "p.m1() # if m1 is not avaiable in P,X method,then MRO will prefer to check in A."
   ]
  },
  {
   "cell_type": "code",
   "execution_count": 9,
   "metadata": {},
   "outputs": [
    {
     "name": "stdout",
     "output_type": "stream",
     "text": [
      "Class Y Method\n"
     ]
    }
   ],
   "source": [
    "class A:\n",
    "    pass\n",
    "class B: \n",
    "    def m1(self):\n",
    "        print(\"Class B Method\")\n",
    "class C:\n",
    "    def m1(self):\n",
    "        print(\"Class C Method\")\n",
    "class X(A,B):\n",
    "    pass\n",
    "class Y(B,C):\n",
    "    def m1(self):\n",
    "        print(\"Class Y Method\")\n",
    "class P(X,Y,C):\n",
    "    pass\n",
    "\n",
    "p=P()\n",
    "p.m1() # if m1 is not avaiable in P,X,A method,then MRO will prefer to check in Y."
   ]
  },
  {
   "cell_type": "code",
   "execution_count": 10,
   "metadata": {},
   "outputs": [
    {
     "name": "stdout",
     "output_type": "stream",
     "text": [
      "Class B Method\n"
     ]
    }
   ],
   "source": [
    "class A:\n",
    "    pass\n",
    "class B: \n",
    "    def m1(self):\n",
    "        print(\"Class B Method\")\n",
    "class C:\n",
    "    def m1(self):\n",
    "        print(\"Class C Method\")\n",
    "class X(A,B):\n",
    "    pass\n",
    "class Y(B,C):\n",
    "    pass\n",
    "class P(X,Y,C):\n",
    "    pass\n",
    "\n",
    "p=P()\n",
    "p.m1() # if m1 is not avaiable in P,X,A,Y method,then MRO will prefer to check in B."
   ]
  },
  {
   "cell_type": "code",
   "execution_count": 11,
   "metadata": {},
   "outputs": [
    {
     "name": "stdout",
     "output_type": "stream",
     "text": [
      "Class C Method\n"
     ]
    }
   ],
   "source": [
    "class A:\n",
    "    pass\n",
    "class B: \n",
    "    pass\n",
    "class C:\n",
    "    def m1(self):\n",
    "        print(\"Class C Method\")\n",
    "class X(A,B):\n",
    "    pass\n",
    "class Y(B,C):\n",
    "    pass\n",
    "class P(X,Y,C):\n",
    "    pass\n",
    "\n",
    "p=P()\n",
    "p.m1() # if m1 is not avaiable in P,X,A,Y,B method,then MRO will prefer to check in C."
   ]
  },
  {
   "cell_type": "code",
   "execution_count": 13,
   "metadata": {},
   "outputs": [
    {
     "ename": "AttributeError",
     "evalue": "'P' object has no attribute 'm1'",
     "output_type": "error",
     "traceback": [
      "\u001b[1;31m---------------------------------------------------------------------------\u001b[0m",
      "\u001b[1;31mAttributeError\u001b[0m                            Traceback (most recent call last)",
      "\u001b[1;32m<ipython-input-13-28a330a01b22>\u001b[0m in \u001b[0;36m<module>\u001b[1;34m\u001b[0m\n\u001b[0;32m     13\u001b[0m \u001b[1;33m\u001b[0m\u001b[0m\n\u001b[0;32m     14\u001b[0m \u001b[0mp\u001b[0m\u001b[1;33m=\u001b[0m\u001b[0mP\u001b[0m\u001b[1;33m(\u001b[0m\u001b[1;33m)\u001b[0m\u001b[1;33m\u001b[0m\u001b[1;33m\u001b[0m\u001b[0m\n\u001b[1;32m---> 15\u001b[1;33m \u001b[0mp\u001b[0m\u001b[1;33m.\u001b[0m\u001b[0mm1\u001b[0m\u001b[1;33m(\u001b[0m\u001b[1;33m)\u001b[0m \u001b[1;31m# if m1 is not avaiable in P,X,A,Y,B,C method,then MRO will prefer to check in Object Class.\u001b[0m\u001b[1;33m\u001b[0m\u001b[1;33m\u001b[0m\u001b[0m\n\u001b[0m\u001b[0;32m     16\u001b[0m \u001b[1;31m# Since object class doesn't contain m1() method, this will raise an attribute error.\u001b[0m\u001b[1;33m\u001b[0m\u001b[1;33m\u001b[0m\u001b[1;33m\u001b[0m\u001b[0m\n",
      "\u001b[1;31mAttributeError\u001b[0m: 'P' object has no attribute 'm1'"
     ]
    }
   ],
   "source": [
    "class A:\n",
    "    pass\n",
    "class B: \n",
    "    pass\n",
    "class C:\n",
    "    pass\n",
    "class X(A,B):\n",
    "    pass\n",
    "class Y(B,C):\n",
    "    pass\n",
    "class P(X,Y,C):\n",
    "    pass\n",
    "\n",
    "p=P()\n",
    "p.m1() # if m1 is not avaiable in P,X,A,Y,B,C method,then MRO will prefer to check in Object Class.\n",
    "# Since object class doesn't contain m1() method, this will raise an attribute error."
   ]
  },
  {
   "cell_type": "markdown",
   "metadata": {},
   "source": [
    "In the above example P class m1() method will be considered.If P class does not contain m1() method then as per MRO, X class method will be considered. If X class does not contain then A class method will be considered and this process will be continued.<br><br>\n",
    "The method resolution in the following order: **PXAYBCO**"
   ]
  },
  {
   "cell_type": "markdown",
   "metadata": {},
   "source": [
    "As we have seen above, MRO Algorithm is making the order. Lets understand how MRO Algortihm internally works. It works with a formula as shown below.<br>\n",
    "**MRO(X) = X+Merge(MRO(P1),MRO(P2),...,ParentList)**<br>\n",
    "**Note:** Here we have to consider only immediate parents.<br><br>\n",
    "## Head Element vs Tail Terminology: \n",
    "- Assume C1,C2,C3,...are classes. <br>\n",
    "- In the list: C1C2C3C4C5.... <br>\n",
    "- C1 is considered as Head Element and remaining is considered as Tail.<br>\n",
    "\n",
    "## How to find Merge:\n",
    "**Below are the steps to consider for findng the merge.**\n",
    "- Take the head of first list<br>\n",
    "- If the head is not in the tail part of any other list, then add this head to the result and remove it from the lists in the merge.<br> \n",
    "- If the head is present in the tail part of any other list, then consider the head element of the next list and continue the same process.<br><br>\n",
    "Lets Understand how the MRO will decide the order with following example with above merge steps.<br>\n",
    "<img src=\"images/MRO_Demo3.png\" width=600 align=\"left\">"
   ]
  },
  {
   "cell_type": "markdown",
   "metadata": {},
   "source": [
    "**mro(o) = object**<br>\n",
    "**mro(D) = D, object**<br>\n",
    "**mro(E) = E, object**<br>\n",
    "**mro(F) = F, object**<br>\n",
    "**mro(B) = B, D, E, object**<br>\n",
    "**mro(C) = C, D, F, object**<br>\n",
    "**mro(A) = A + Merge(mro(B), mro(C), BC)** =========> B,C are the immediate parents of A. We already have made order for B,C<br> \n",
    "\n",
    "**&emsp;&emsp;&emsp;&nbsp;&nbsp;= A + Merge(BDEO, CDFO, BC)** ========> mro(B)-BDEO, mro(C)-CDFO, ParentList BC will remain same. <br>\n",
    "\n",
    "**&emsp;&emsp;&emsp;&nbsp;&nbsp;= A + B + Merge(DEO, CDFO, C)** =========> B is the head of the First List(BDEO). DFO,C are the tails of list CDFO,BC. We need to check for head B in the other lists tails i.e in DFO,C. Since, B is Not Available in the tails. B will be Brought out by removing in the other lists i.e. removing B from BDEO and BC. After Removing we are left with Merge(DEO,CDFO,C). <br>\n",
    "\n",
    "<br>Now we have First List as DEO where D is the head, Lets check if D is available in other lists tails. Yes D is available in DFO. So we should consider C as head of the list CDFO and check for C in Onter list tails. C is available in parent list, so lets remove C from CDFO and C. Add C to Result. Now we have Merge(DEO, DFO)<br><br>\n",
    "\n",
    "**&emsp;&emsp;&emsp;&nbsp;&nbsp;= A + B + C + Merge(DEO, DFO)** =======> head D from DEO is not available in tail FO of other list DFO. So Adding D to result and Removing from all lists.<br>\n",
    "\n",
    "**&emsp;&emsp;&emsp;&nbsp;&nbsp;= A + B + C + D + Merge(EO, FO)** ======> head E from EO is not available in tail O of FO list. Adding E to the Result and removing from all the list.<br>\n",
    "\n",
    "**&emsp;&emsp;&emsp;&nbsp;&nbsp;= A + B + C + D + E + Merge(O, FO)** ======> Since head O is available in tail of FO, F will be the head now. So search F in other lists tail. Since, Not Available, Adding E to the result and removing from lists.<br>\n",
    "\n",
    "**&emsp;&emsp;&emsp;&nbsp;&nbsp;= A + B + C + D + E + F + Merge(O, O)** =======> head O is not Available in any other lists tail, so adding O to result and removing from lists remaning. Thats it. So everything came out of the list and added to result.  <br>\n",
    "\n",
    "**&emsp;&emsp;&emsp;&nbsp;&nbsp;= A + B + C + D + E + F + O** ======> This Final Result is the Order decided by MRO method for F."
   ]
  },
  {
   "cell_type": "code",
   "execution_count": 14,
   "metadata": {},
   "outputs": [
    {
     "name": "stdout",
     "output_type": "stream",
     "text": [
      "[<class '__main__.D'>, <class 'object'>]\n",
      "[<class '__main__.E'>, <class 'object'>]\n",
      "[<class '__main__.F'>, <class 'object'>]\n",
      "[<class '__main__.B'>, <class '__main__.D'>, <class '__main__.E'>, <class 'object'>]\n",
      "[<class '__main__.C'>, <class '__main__.D'>, <class '__main__.F'>, <class 'object'>]\n",
      "[<class '__main__.A'>, <class '__main__.B'>, <class '__main__.C'>, <class '__main__.D'>, <class '__main__.E'>, <class '__main__.F'>, <class 'object'>]\n"
     ]
    }
   ],
   "source": [
    "class D:\n",
    "    pass\n",
    "class E:\n",
    "    pass\n",
    "class F:\n",
    "    pass\n",
    "class B(D,E):\n",
    "    pass\n",
    "class C(D,F):\n",
    "    pass\n",
    "class A(B,C):\n",
    "    pass\n",
    "\n",
    "print(D.mro())\n",
    "print(E.mro())\n",
    "print(F.mro())\n",
    "print(B.mro())\n",
    "print(C.mro())\n",
    "print(A.mro())"
   ]
  },
  {
   "cell_type": "markdown",
   "metadata": {},
   "source": [
    "Above order perfectly matched with program.<br>\n",
    "\n",
    "This is all about Method Resolution Order (MRO) and its internal working specially for hybrid Inheritances. Hope you got good understanding with the above 3 demo exmaples."
   ]
  },
  {
   "cell_type": "markdown",
   "metadata": {},
   "source": [
    "# The Complete Story of super() Function"
   ]
  },
  {
   "cell_type": "markdown",
   "metadata": {},
   "source": [
    "We know that all the funtionalities and methods of Parent Class are available to Child Class by Default, if child class in inherited with parent class like below."
   ]
  },
  {
   "cell_type": "code",
   "execution_count": 15,
   "metadata": {},
   "outputs": [
    {
     "name": "stdout",
     "output_type": "stream",
     "text": [
      "Parent Class\n",
      "Child Class\n"
     ]
    }
   ],
   "source": [
    "class P:\n",
    "    def m1(self):\n",
    "        print(\"Parent Class\")\n",
    "class C(P):\n",
    "    def m2(self):\n",
    "        print(\"Child Class\")\n",
    "c=C()\n",
    "c.m1() # accessing m1 method in parent class from child class\n",
    "c.m2() # method m2 present in the child class"
   ]
  },
  {
   "cell_type": "code",
   "execution_count": 16,
   "metadata": {},
   "outputs": [
    {
     "name": "stdout",
     "output_type": "stream",
     "text": [
      "Parent Class\n",
      "Child Class\n"
     ]
    }
   ],
   "source": [
    "class P:\n",
    "    def m1(self):\n",
    "        print(\"Parent Class\")\n",
    "class C(P):\n",
    "    def m2(self):\n",
    "        self.m1()\n",
    "        print(\"Child Class\")\n",
    "c=C()\n",
    "c.m2() # As a part of method m2 present in the child class, m1 from parent class will also be accesed automatically on calling m2"
   ]
  },
  {
   "cell_type": "markdown",
   "metadata": {},
   "source": [
    "For the above two examples, there is no problem.<br><br>\n",
    "But the real problem arises, if we have methods with same name in both parent class and child class. Which from which class the method will be considered ?? <br> "
   ]
  },
  {
   "cell_type": "code",
   "execution_count": 18,
   "metadata": {},
   "outputs": [
    {
     "ename": "RecursionError",
     "evalue": "maximum recursion depth exceeded",
     "output_type": "error",
     "traceback": [
      "\u001b[1;31m---------------------------------------------------------------------------\u001b[0m",
      "\u001b[1;31mRecursionError\u001b[0m                            Traceback (most recent call last)",
      "\u001b[1;32m<ipython-input-18-a48c44b4caec>\u001b[0m in \u001b[0;36m<module>\u001b[1;34m\u001b[0m\n\u001b[0;32m      8\u001b[0m         \u001b[0mprint\u001b[0m\u001b[1;33m(\u001b[0m\u001b[1;34m\"Child Class\"\u001b[0m\u001b[1;33m)\u001b[0m\u001b[1;33m\u001b[0m\u001b[1;33m\u001b[0m\u001b[0m\n\u001b[0;32m      9\u001b[0m \u001b[0mc\u001b[0m\u001b[1;33m=\u001b[0m\u001b[0mC\u001b[0m\u001b[1;33m(\u001b[0m\u001b[1;33m)\u001b[0m\u001b[1;33m\u001b[0m\u001b[1;33m\u001b[0m\u001b[0m\n\u001b[1;32m---> 10\u001b[1;33m \u001b[0mc\u001b[0m\u001b[1;33m.\u001b[0m\u001b[0mm1\u001b[0m\u001b[1;33m(\u001b[0m\u001b[1;33m)\u001b[0m\u001b[1;33m\u001b[0m\u001b[1;33m\u001b[0m\u001b[0m\n\u001b[0m",
      "\u001b[1;32m<ipython-input-18-a48c44b4caec>\u001b[0m in \u001b[0;36mm1\u001b[1;34m(self)\u001b[0m\n\u001b[0;32m      5\u001b[0m \u001b[1;32mclass\u001b[0m \u001b[0mC\u001b[0m\u001b[1;33m(\u001b[0m\u001b[0mP\u001b[0m\u001b[1;33m)\u001b[0m\u001b[1;33m:\u001b[0m\u001b[1;33m\u001b[0m\u001b[1;33m\u001b[0m\u001b[0m\n\u001b[0;32m      6\u001b[0m     \u001b[1;32mdef\u001b[0m \u001b[0mm1\u001b[0m\u001b[1;33m(\u001b[0m\u001b[0mself\u001b[0m\u001b[1;33m)\u001b[0m\u001b[1;33m:\u001b[0m\u001b[1;33m\u001b[0m\u001b[1;33m\u001b[0m\u001b[0m\n\u001b[1;32m----> 7\u001b[1;33m         \u001b[0mself\u001b[0m\u001b[1;33m.\u001b[0m\u001b[0mm1\u001b[0m\u001b[1;33m(\u001b[0m\u001b[1;33m)\u001b[0m\u001b[1;33m\u001b[0m\u001b[1;33m\u001b[0m\u001b[0m\n\u001b[0m\u001b[0;32m      8\u001b[0m         \u001b[0mprint\u001b[0m\u001b[1;33m(\u001b[0m\u001b[1;34m\"Child Class\"\u001b[0m\u001b[1;33m)\u001b[0m\u001b[1;33m\u001b[0m\u001b[1;33m\u001b[0m\u001b[0m\n\u001b[0;32m      9\u001b[0m \u001b[0mc\u001b[0m\u001b[1;33m=\u001b[0m\u001b[0mC\u001b[0m\u001b[1;33m(\u001b[0m\u001b[1;33m)\u001b[0m\u001b[1;33m\u001b[0m\u001b[1;33m\u001b[0m\u001b[0m\n",
      "... last 1 frames repeated, from the frame below ...\n",
      "\u001b[1;32m<ipython-input-18-a48c44b4caec>\u001b[0m in \u001b[0;36mm1\u001b[1;34m(self)\u001b[0m\n\u001b[0;32m      5\u001b[0m \u001b[1;32mclass\u001b[0m \u001b[0mC\u001b[0m\u001b[1;33m(\u001b[0m\u001b[0mP\u001b[0m\u001b[1;33m)\u001b[0m\u001b[1;33m:\u001b[0m\u001b[1;33m\u001b[0m\u001b[1;33m\u001b[0m\u001b[0m\n\u001b[0;32m      6\u001b[0m     \u001b[1;32mdef\u001b[0m \u001b[0mm1\u001b[0m\u001b[1;33m(\u001b[0m\u001b[0mself\u001b[0m\u001b[1;33m)\u001b[0m\u001b[1;33m:\u001b[0m\u001b[1;33m\u001b[0m\u001b[1;33m\u001b[0m\u001b[0m\n\u001b[1;32m----> 7\u001b[1;33m         \u001b[0mself\u001b[0m\u001b[1;33m.\u001b[0m\u001b[0mm1\u001b[0m\u001b[1;33m(\u001b[0m\u001b[1;33m)\u001b[0m\u001b[1;33m\u001b[0m\u001b[1;33m\u001b[0m\u001b[0m\n\u001b[0m\u001b[0;32m      8\u001b[0m         \u001b[0mprint\u001b[0m\u001b[1;33m(\u001b[0m\u001b[1;34m\"Child Class\"\u001b[0m\u001b[1;33m)\u001b[0m\u001b[1;33m\u001b[0m\u001b[1;33m\u001b[0m\u001b[0m\n\u001b[0;32m      9\u001b[0m \u001b[0mc\u001b[0m\u001b[1;33m=\u001b[0m\u001b[0mC\u001b[0m\u001b[1;33m(\u001b[0m\u001b[1;33m)\u001b[0m\u001b[1;33m\u001b[0m\u001b[1;33m\u001b[0m\u001b[0m\n",
      "\u001b[1;31mRecursionError\u001b[0m: maximum recursion depth exceeded"
     ]
    }
   ],
   "source": [
    "# if we call m1 method of child class and parent class from child class itself, this will lead to recursion error as below.\n",
    "class P:\n",
    "    def m1(self):\n",
    "        print(\"Parent Class\")\n",
    "class C(P):\n",
    "    def m1(self):\n",
    "        self.m1()\n",
    "        print(\"Child Class\")\n",
    "c=C()\n",
    "c.m1()"
   ]
  },
  {
   "cell_type": "markdown",
   "metadata": {},
   "source": [
    "if both parent class method and child class method having the same naming conflict and ambiguity is there, then there must be some solution to avoid it.<br><br>\n",
    "To differentiate Child Class Method and Parent class method, we have a special mechanism called **super()** Function.<br>\n",
    "<br>From child class if you want to call parent class methods explicitly, super() function is very much useful."
   ]
  },
  {
   "cell_type": "code",
   "execution_count": 19,
   "metadata": {},
   "outputs": [
    {
     "name": "stdout",
     "output_type": "stream",
     "text": [
      "Parent Class\n",
      "Child Class\n"
     ]
    }
   ],
   "source": [
    "class P:\n",
    "    def m1(self):\n",
    "        print(\"Parent Class\")\n",
    "class C(P):\n",
    "    def m1(self):\n",
    "        super().m1() # Now there will no issue, since m1 is called from Parent Class with super()\n",
    "        print(\"Child Class\")\n",
    "c=C()\n",
    "c.m1()"
   ]
  },
  {
   "cell_type": "markdown",
   "metadata": {},
   "source": [
    "## super() Method:\n",
    "**super()** is a built-in method which is useful to call the super class constructors,variables and methods from the child class."
   ]
  },
  {
   "cell_type": "code",
   "execution_count": 20,
   "metadata": {},
   "outputs": [
    {
     "name": "stdout",
     "output_type": "stream",
     "text": [
      "Child Constructor\n",
      "10\n",
      "Parent Instance Method\n",
      "Parent Class Method\n",
      "Parent Static Method\n",
      "Parent Constructor\n"
     ]
    }
   ],
   "source": [
    "class P:\n",
    "    a=10\n",
    "    def __init__(self):\n",
    "        print(\"Parent Constructor\")\n",
    "        \n",
    "    def m1(self):\n",
    "        print(\"Parent Instance Method\")\n",
    "        \n",
    "    @classmethod\n",
    "    def m2(cls):\n",
    "        print(\"Parent Class Method\")\n",
    "        \n",
    "    @staticmethod\n",
    "    def m3():\n",
    "        print(\"Parent Static Method\")\n",
    "        \n",
    "class C(P):\n",
    "    def __init__(self):\n",
    "        print(\"Child Constructor\")\n",
    "    \n",
    "    def method1(self):\n",
    "        print(super().a)\n",
    "        super().m1()\n",
    "        super().m2()\n",
    "        super().m3()\n",
    "        super().__init__()\n",
    "        \n",
    "c=C()\n",
    "c.method1()"
   ]
  },
  {
   "cell_type": "code",
   "execution_count": 21,
   "metadata": {},
   "outputs": [
    {
     "name": "stdout",
     "output_type": "stream",
     "text": [
      "Child Constructor\n",
      "10\n",
      "Parent Instance Method\n",
      "Parent Class Method\n",
      "Parent Static Method\n",
      "Parent Constructor\n"
     ]
    }
   ],
   "source": [
    "# There is no naming conflict, so instead of super() we can use self.\n",
    "class P:\n",
    "    a=10\n",
    "    def __init__(self):\n",
    "        print(\"Parent Constructor\")\n",
    "        \n",
    "    def m1(self):\n",
    "        print(\"Parent Instance Method\")\n",
    "        \n",
    "    @classmethod\n",
    "    def m2(cls):\n",
    "        print(\"Parent Class Method\")\n",
    "        \n",
    "    @staticmethod\n",
    "    def m3():\n",
    "        print(\"Parent Static Method\")\n",
    "        \n",
    "class C(P):\n",
    "    def __init__(self):\n",
    "        print(\"Child Constructor\")\n",
    "    \n",
    "    def method1(self):\n",
    "        print(self.a) # No Naming Conflict for 'a', We can use self insted od super()\n",
    "        self.m1() # No Naming Conflict for 'm1', We can use self insted od super()\n",
    "        self.m2() # No Naming Conflict for 'm2', We can use self insted od super()\n",
    "        self.m3() # No Naming Conflict for 'm3', We can use self insted od super()\n",
    "        super().__init__() # Here we need to use super() only instead of self. its because __init__ is avialble in both classes.\n",
    "        # So to execute the parent class constructor super() should be used.\n",
    "c=C()\n",
    "c.method1()"
   ]
  },
  {
   "cell_type": "code",
   "execution_count": 22,
   "metadata": {},
   "outputs": [
    {
     "name": "stdout",
     "output_type": "stream",
     "text": [
      "Name: Sairam\n",
      "Age: 25\n",
      "Height: 5.1\n",
      "Weight: 65 Kgs\n",
      "Rollno: 263\n",
      "Marks: 100\n"
     ]
    }
   ],
   "source": [
    "# Example 3\n",
    "\n",
    "class Person:\n",
    "    def __init__(self,name,age,height,weight):\n",
    "        self.name = name\n",
    "        self.age = age\n",
    "        self.height = height\n",
    "        self.weight = weight\n",
    "        \n",
    "    def display(self):\n",
    "        print(\"Name:\",self.name)\n",
    "        print(\"Age:\",self.age)\n",
    "        print(\"Height:\",self.height)\n",
    "        print(\"Weight:\",self.weight)\n",
    "        \n",
    "class Student(Person):\n",
    "    def __init__(self,name,age,height,weight,rollno,marks):\n",
    "        self.name = name # Available in Parent Class (Person)\n",
    "        self.age = age # Available in Parent Class (Person)\n",
    "        self.height = height # Available in Parent Class (Person)\n",
    "        self.weight = weight # Available in Parent Class (Person)\n",
    "        self.rollno = rollno\n",
    "        self.marks = marks\n",
    "        \n",
    "    def display(self):\n",
    "        print(\"Name:\",self.name) # Available in Parent Class (Person)\n",
    "        print(\"Age:\",self.age) # Available in Parent Class (Person)\n",
    "        print(\"Height:\",self.height) # Available in Parent Class (Person)\n",
    "        print(\"Weight:\",self.weight) # Available in Parent Class (Person)\n",
    "        print(\"Rollno:\",self.rollno)\n",
    "        print(\"Marks:\",self.marks)\n",
    "        \n",
    "s = Student(\"Sairam\",25,5.10,'65 Kgs',263,100)\n",
    "s.display()\n"
   ]
  },
  {
   "cell_type": "markdown",
   "metadata": {},
   "source": [
    "We are using only child class and parametrs to child class itself, No Parent class in used in above program. name,age,weight,height are the common Instance variables in both Parent(Person) and Child(Student) classes."
   ]
  },
  {
   "cell_type": "code",
   "execution_count": 23,
   "metadata": {},
   "outputs": [
    {
     "name": "stdout",
     "output_type": "stream",
     "text": [
      "Name: Sairam\n",
      "Age: 25\n",
      "Height: 5.1\n",
      "Weight: 65 Kgs\n",
      "Rollno: 263\n",
      "Marks: 100\n"
     ]
    }
   ],
   "source": [
    "class Person:\n",
    "    def __init__(self,name,age,height,weight):\n",
    "        self.name = name\n",
    "        self.age = age\n",
    "        self.height = height\n",
    "        self.weight = weight\n",
    "        \n",
    "    def display(self):\n",
    "        print(\"Name:\",self.name)\n",
    "        print(\"Age:\",self.age)\n",
    "        print(\"Height:\",self.height)\n",
    "        print(\"Weight:\",self.weight)\n",
    "        \n",
    "class Student(Person):\n",
    "    def __init__(self,name,age,height,weight,rollno,marks):\n",
    "        super().__init__(name,age,height,weight) # calling from parent class Person.\n",
    "        self.rollno = rollno\n",
    "        self.marks = marks\n",
    "        \n",
    "    def display(self):\n",
    "        super().display() # calling from parent class Person.\n",
    "        print(\"Rollno:\",self.rollno)\n",
    "        print(\"Marks:\",self.marks)\n",
    "        \n",
    "s = Student(\"Sairam\",25,5.10,'65 Kgs',263,100)\n",
    "s.display()\n"
   ]
  },
  {
   "cell_type": "markdown",
   "metadata": {},
   "source": [
    "In the above code, we have super() to call the constructor from parent class itself and to get the parent class display method. Here we have obtained Code Reusability and Code Extendability."
   ]
  },
  {
   "cell_type": "markdown",
   "metadata": {},
   "source": [
    "## How to Call Method of a Particular Super Class: (Optional)"
   ]
  },
  {
   "cell_type": "code",
   "execution_count": 24,
   "metadata": {},
   "outputs": [
    {
     "name": "stdout",
     "output_type": "stream",
     "text": [
      "E Class Method\n"
     ]
    }
   ],
   "source": [
    "class A:\n",
    "    def m1(self):\n",
    "        print(\"A Class Method\")\n",
    "class B(A):\n",
    "    def m1(self):\n",
    "        print(\"B Class Method\")\n",
    "class C(B):\n",
    "    def m1(self):\n",
    "        print(\"C Class Method\")\n",
    "class D(C):\n",
    "    def m1(self):\n",
    "        print(\"D Class Method\")\n",
    "class E(D):\n",
    "    def m1(self):\n",
    "        print(\"E Class Method\")\n",
    "        \n",
    "e = E()\n",
    "e.m1() # Since m1 is available in E Class itslef, m1 is displayed."
   ]
  },
  {
   "cell_type": "code",
   "execution_count": 25,
   "metadata": {},
   "outputs": [
    {
     "name": "stdout",
     "output_type": "stream",
     "text": [
      "D Class Method\n"
     ]
    }
   ],
   "source": [
    "class A:\n",
    "    def m1(self):\n",
    "        print(\"A Class Method\")\n",
    "class B(A):\n",
    "    def m1(self):\n",
    "        print(\"B Class Method\")\n",
    "class C(B):\n",
    "    def m1(self):\n",
    "        print(\"C Class Method\")\n",
    "class D(C):\n",
    "    def m1(self):\n",
    "        print(\"D Class Method\")\n",
    "class E(D):\n",
    "    def m1(self):\n",
    "        # Now i want to call m1 with super() method\n",
    "        super().m1() # This will display the m1 from preceeding parent D\n",
    "\n",
    "e = E()\n",
    "e.m1()"
   ]
  },
  {
   "cell_type": "markdown",
   "metadata": {},
   "source": [
    "But my requirement is, i don't to get m1 method from immediate Super class method. I want m1 method from the particular class.<br>\n",
    "This is one important scenario.<br>Yes, We can call method from particular class as we required.<br><br>\n",
    "We can use the following approaches<br>\n",
    "1) <span style='color:orange'>**super(ClassName,self).MethodName()**</span> ===> **super(D, self).m1()** ==> It will call m1() method of super class of D. i.e m1 from C class will be executed<br>\n",
    "2) <span style='color:orange'>**ClassName.MethodName(self)**</span> ===> **A.m1(self)** ==> It will call A class m1() method"
   ]
  },
  {
   "cell_type": "code",
   "execution_count": 27,
   "metadata": {},
   "outputs": [
    {
     "name": "stdout",
     "output_type": "stream",
     "text": [
      "B Class Method\n"
     ]
    }
   ],
   "source": [
    "class A:\n",
    "    def m1(self):\n",
    "        print(\"A Class Method\")\n",
    "class B(A):\n",
    "    def m1(self):\n",
    "        print(\"B Class Method\")\n",
    "class C(B):\n",
    "    def m1(self):\n",
    "        print(\"C Class Method\")\n",
    "class D(C):\n",
    "    def m1(self):\n",
    "        print(\"D Class Method\")\n",
    "class E(D):\n",
    "    def m1(self):\n",
    "        # Now i want to call m1 from B without super() method\n",
    "        B.m1(self) # This will display the m1 from class B\n",
    "\n",
    "e = E()\n",
    "e.m1()"
   ]
  },
  {
   "cell_type": "code",
   "execution_count": 28,
   "metadata": {},
   "outputs": [
    {
     "name": "stdout",
     "output_type": "stream",
     "text": [
      "D Class Method\n"
     ]
    }
   ],
   "source": [
    "class A:\n",
    "    def m1(self):\n",
    "        print(\"A Class Method\")\n",
    "class B(A):\n",
    "    def m1(self):\n",
    "        print(\"B Class Method\")\n",
    "class C(B):\n",
    "    def m1(self):\n",
    "        print(\"C Class Method\")\n",
    "class D(C):\n",
    "    def m1(self):\n",
    "        print(\"D Class Method\")\n",
    "class E(D):\n",
    "    def m1(self):\n",
    "        # Now i want to call m1 from B without super() method\n",
    "        D.m1(self) # This will display the m1 from class D\n",
    "\n",
    "e = E()\n",
    "e.m1()"
   ]
  },
  {
   "cell_type": "code",
   "execution_count": 29,
   "metadata": {},
   "outputs": [
    {
     "name": "stdout",
     "output_type": "stream",
     "text": [
      "C Class Method\n"
     ]
    }
   ],
   "source": [
    "class A:\n",
    "    def m1(self):\n",
    "        print(\"A Class Method\")\n",
    "class B(A):\n",
    "    def m1(self):\n",
    "        print(\"B Class Method\")\n",
    "class C(B):\n",
    "    def m1(self):\n",
    "        print(\"C Class Method\")\n",
    "class D(C):\n",
    "    def m1(self):\n",
    "        print(\"D Class Method\")\n",
    "class E(D):\n",
    "    def m1(self):\n",
    "        # Now i want to call m1 from C with super() method\n",
    "        super(D, self).m1() # This will display the m1 from class C, Since C is the preceeding parent of D.\n",
    "\n",
    "e = E()\n",
    "e.m1()"
   ]
  },
  {
   "cell_type": "markdown",
   "metadata": {},
   "source": [
    "# super() vs Instance Variables ( Optional)"
   ]
  },
  {
   "cell_type": "code",
   "execution_count": 31,
   "metadata": {},
   "outputs": [
    {
     "name": "stdout",
     "output_type": "stream",
     "text": [
      "888\n",
      "999\n"
     ]
    }
   ],
   "source": [
    "class P:\n",
    "    a=888\n",
    "    def __init__(self):\n",
    "        self.b = 999\n",
    "        \n",
    "class C(P):\n",
    "    def m1(self):\n",
    "        # we can happily access the a,b from Parent class P using self. No need to use super() since there is no naming conflict.\n",
    "        print(self.a)\n",
    "        print(self.b)\n",
    "        \n",
    "c=C()\n",
    "c.m1()"
   ]
  },
  {
   "cell_type": "code",
   "execution_count": 32,
   "metadata": {},
   "outputs": [
    {
     "name": "stdout",
     "output_type": "stream",
     "text": [
      "888\n"
     ]
    },
    {
     "ename": "AttributeError",
     "evalue": "'super' object has no attribute 'b'",
     "output_type": "error",
     "traceback": [
      "\u001b[1;31m---------------------------------------------------------------------------\u001b[0m",
      "\u001b[1;31mAttributeError\u001b[0m                            Traceback (most recent call last)",
      "\u001b[1;32m<ipython-input-32-131ca875ff8c>\u001b[0m in \u001b[0;36m<module>\u001b[1;34m\u001b[0m\n\u001b[0;32m     13\u001b[0m         \u001b[0mprint\u001b[0m\u001b[1;33m(\u001b[0m\u001b[0msuper\u001b[0m\u001b[1;33m(\u001b[0m\u001b[1;33m)\u001b[0m\u001b[1;33m.\u001b[0m\u001b[0mb\u001b[0m\u001b[1;33m)\u001b[0m \u001b[1;31m# This will raise an error, since super can't access Instance variable from Parent class\u001b[0m\u001b[1;33m\u001b[0m\u001b[1;33m\u001b[0m\u001b[0m\n\u001b[0;32m     14\u001b[0m \u001b[0mc\u001b[0m\u001b[1;33m=\u001b[0m\u001b[0mC\u001b[0m\u001b[1;33m(\u001b[0m\u001b[1;33m)\u001b[0m\u001b[1;33m\u001b[0m\u001b[1;33m\u001b[0m\u001b[0m\n\u001b[1;32m---> 15\u001b[1;33m \u001b[0mc\u001b[0m\u001b[1;33m.\u001b[0m\u001b[0mm1\u001b[0m\u001b[1;33m(\u001b[0m\u001b[1;33m)\u001b[0m\u001b[1;33m\u001b[0m\u001b[1;33m\u001b[0m\u001b[0m\n\u001b[0m",
      "\u001b[1;32m<ipython-input-32-131ca875ff8c>\u001b[0m in \u001b[0;36mm1\u001b[1;34m(self)\u001b[0m\n\u001b[0;32m     11\u001b[0m         \u001b[1;31m# we can't use super to access parent class Instance Variable i.e self.b\u001b[0m\u001b[1;33m\u001b[0m\u001b[1;33m\u001b[0m\u001b[1;33m\u001b[0m\u001b[0m\n\u001b[0;32m     12\u001b[0m         \u001b[0mprint\u001b[0m\u001b[1;33m(\u001b[0m\u001b[0msuper\u001b[0m\u001b[1;33m(\u001b[0m\u001b[1;33m)\u001b[0m\u001b[1;33m.\u001b[0m\u001b[0ma\u001b[0m\u001b[1;33m)\u001b[0m \u001b[1;31m# this is perfectly valid, since it is static variable\u001b[0m\u001b[1;33m\u001b[0m\u001b[1;33m\u001b[0m\u001b[0m\n\u001b[1;32m---> 13\u001b[1;33m         \u001b[0mprint\u001b[0m\u001b[1;33m(\u001b[0m\u001b[0msuper\u001b[0m\u001b[1;33m(\u001b[0m\u001b[1;33m)\u001b[0m\u001b[1;33m.\u001b[0m\u001b[0mb\u001b[0m\u001b[1;33m)\u001b[0m \u001b[1;31m# This will raise an error, since super can't access Instance variable from Parent class\u001b[0m\u001b[1;33m\u001b[0m\u001b[1;33m\u001b[0m\u001b[0m\n\u001b[0m\u001b[0;32m     14\u001b[0m \u001b[0mc\u001b[0m\u001b[1;33m=\u001b[0m\u001b[0mC\u001b[0m\u001b[1;33m(\u001b[0m\u001b[1;33m)\u001b[0m\u001b[1;33m\u001b[0m\u001b[1;33m\u001b[0m\u001b[0m\n\u001b[0;32m     15\u001b[0m \u001b[0mc\u001b[0m\u001b[1;33m.\u001b[0m\u001b[0mm1\u001b[0m\u001b[1;33m(\u001b[0m\u001b[1;33m)\u001b[0m\u001b[1;33m\u001b[0m\u001b[1;33m\u001b[0m\u001b[0m\n",
      "\u001b[1;31mAttributeError\u001b[0m: 'super' object has no attribute 'b'"
     ]
    }
   ],
   "source": [
    "class P:\n",
    "    a=888\n",
    "    def __init__(self):\n",
    "        self.b = 999\n",
    "        \n",
    "class C(P):\n",
    "    def m1(self):\n",
    "        # we can happily access the a,b from Parent class P using self. No need to use super() since there is no naming conflict.\n",
    "        #print(self.a)\n",
    "        #print(self.b)\n",
    "        # we can't use super to access parent class Instance Variable i.e self.b\n",
    "        print(super().a) # this is perfectly valid, since it is static variable\n",
    "        print(super().b) # This will raise an error, since super can't access Instance variable from Parent class \n",
    "c=C()\n",
    "c.m1()"
   ]
  },
  {
   "cell_type": "markdown",
   "metadata": {},
   "source": [
    "**Note:** we can't use super() to access parent class Instance Variable, we should **self** to access it from the child class."
   ]
  },
  {
   "cell_type": "code",
   "execution_count": 33,
   "metadata": {},
   "outputs": [
    {
     "name": "stdout",
     "output_type": "stream",
     "text": [
      "888\n",
      "999\n"
     ]
    }
   ],
   "source": [
    "class P:\n",
    "    a=888\n",
    "    def __init__(self):\n",
    "        self.b = 999\n",
    "        \n",
    "class C(P):\n",
    "    def m1(self):\n",
    "        print(super().a) # this is perfectly valid, since it is static variable\n",
    "        print(self.b) # should  use only self to access Instance Variables from Parent Class.\n",
    "c=C()\n",
    "c.m1()"
   ]
  },
  {
   "cell_type": "markdown",
   "metadata": {},
   "source": [
    "# Important conclusions of super() method ( Optional)"
   ]
  },
  {
   "cell_type": "code",
   "execution_count": 35,
   "metadata": {},
   "outputs": [
    {
     "name": "stdout",
     "output_type": "stream",
     "text": [
      "Parent Constructor\n",
      "Parent Instance Method\n",
      "Parent Class Method\n",
      "Parent Static Method\n",
      "Parent Constructor\n",
      "Parent Instance Method\n",
      "Parent Class Method\n",
      "Parent Static Method\n"
     ]
    }
   ],
   "source": [
    "class P:\n",
    "    a=10\n",
    "    def __init__(self):\n",
    "        print(\"Parent Constructor\")\n",
    "        \n",
    "    def m1(self):\n",
    "        print(\"Parent Instance Method\")\n",
    "        \n",
    "    @classmethod\n",
    "    def m2(cls):\n",
    "        print(\"Parent Class Method\")\n",
    "        \n",
    "    @staticmethod\n",
    "    def m3():\n",
    "        print(\"Parent Static Method\")\n",
    "        \n",
    "class C(P):\n",
    "    # from child constructor, we can call parent constructor,Instance,class,static methods. No problem at all\n",
    "    def __init__(self):\n",
    "        super().__init__() # valid\n",
    "        super().m1()       # valid\n",
    "        super().m2()       # valid\n",
    "        super().m3()       # valid\n",
    "        \n",
    "    def m1(self): # Instance Method from Child Class\n",
    "        # from child constructor, we can call parent constructor,Instance,class,static method\n",
    "        super().__init__() # valid\n",
    "        super().m1()       # valid\n",
    "        super().m2()       # valid\n",
    "        super().m3()       # valid\n",
    "    \n",
    "c=C()\n",
    "c.m1()"
   ]
  },
  {
   "cell_type": "markdown",
   "metadata": {},
   "source": [
    "<span style='color:brown'>**From child class constructor and instance methods, we can call parent class constructors, Instance methods, class methods and static methods by using super().**</span>"
   ]
  },
  {
   "cell_type": "code",
   "execution_count": 36,
   "metadata": {},
   "outputs": [
    {
     "ename": "TypeError",
     "evalue": "__init__() missing 1 required positional argument: 'self'",
     "output_type": "error",
     "traceback": [
      "\u001b[1;31m---------------------------------------------------------------------------\u001b[0m",
      "\u001b[1;31mTypeError\u001b[0m                                 Traceback (most recent call last)",
      "\u001b[1;32m<ipython-input-36-f3367c30d3d8>\u001b[0m in \u001b[0;36m<module>\u001b[1;34m\u001b[0m\n\u001b[0;32m     38\u001b[0m \u001b[1;33m\u001b[0m\u001b[0m\n\u001b[0;32m     39\u001b[0m \u001b[1;33m\u001b[0m\u001b[0m\n\u001b[1;32m---> 40\u001b[1;33m \u001b[0mC\u001b[0m\u001b[1;33m.\u001b[0m\u001b[0mm2\u001b[0m\u001b[1;33m(\u001b[0m\u001b[1;33m)\u001b[0m\u001b[1;33m\u001b[0m\u001b[1;33m\u001b[0m\u001b[0m\n\u001b[0m",
      "\u001b[1;32m<ipython-input-36-f3367c30d3d8>\u001b[0m in \u001b[0;36mm2\u001b[1;34m(cls)\u001b[0m\n\u001b[0;32m     32\u001b[0m     \u001b[1;33m@\u001b[0m\u001b[0mclassmethod\u001b[0m\u001b[1;33m\u001b[0m\u001b[1;33m\u001b[0m\u001b[0m\n\u001b[0;32m     33\u001b[0m     \u001b[1;32mdef\u001b[0m \u001b[0mm2\u001b[0m\u001b[1;33m(\u001b[0m\u001b[0mcls\u001b[0m\u001b[1;33m)\u001b[0m\u001b[1;33m:\u001b[0m\u001b[1;33m\u001b[0m\u001b[1;33m\u001b[0m\u001b[0m\n\u001b[1;32m---> 34\u001b[1;33m         \u001b[0msuper\u001b[0m\u001b[1;33m(\u001b[0m\u001b[1;33m)\u001b[0m\u001b[1;33m.\u001b[0m\u001b[0m__init__\u001b[0m\u001b[1;33m(\u001b[0m\u001b[1;33m)\u001b[0m \u001b[1;31m# Not valid,\u001b[0m\u001b[1;33m\u001b[0m\u001b[1;33m\u001b[0m\u001b[0m\n\u001b[0m\u001b[0;32m     35\u001b[0m         \u001b[0msuper\u001b[0m\u001b[1;33m(\u001b[0m\u001b[1;33m)\u001b[0m\u001b[1;33m.\u001b[0m\u001b[0mm1\u001b[0m\u001b[1;33m(\u001b[0m\u001b[1;33m)\u001b[0m       \u001b[1;31m# Not valid,\u001b[0m\u001b[1;33m\u001b[0m\u001b[1;33m\u001b[0m\u001b[0m\n\u001b[0;32m     36\u001b[0m         \u001b[0msuper\u001b[0m\u001b[1;33m(\u001b[0m\u001b[1;33m)\u001b[0m\u001b[1;33m.\u001b[0m\u001b[0mm2\u001b[0m\u001b[1;33m(\u001b[0m\u001b[1;33m)\u001b[0m       \u001b[1;31m# valid\u001b[0m\u001b[1;33m\u001b[0m\u001b[1;33m\u001b[0m\u001b[0m\n",
      "\u001b[1;31mTypeError\u001b[0m: __init__() missing 1 required positional argument: 'self'"
     ]
    }
   ],
   "source": [
    "class P:\n",
    "    a=10\n",
    "    def __init__(self):\n",
    "        print(\"Parent Constructor\")\n",
    "        \n",
    "    def m1(self):\n",
    "        print(\"Parent Instance Method\")\n",
    "        \n",
    "    @classmethod\n",
    "    def m2(cls):\n",
    "        print(\"Parent Class Method\")\n",
    "        \n",
    "    @staticmethod\n",
    "    def m3():\n",
    "        print(\"Parent Static Method\")\n",
    "        \n",
    "class C(P):\n",
    "    # from child constructor, we can call parent constructor,Instance,class,static methods. No problem at all\n",
    "    def __init__(self):\n",
    "        super().__init__() # valid\n",
    "        super().m1()       # valid\n",
    "        super().m2()       # valid\n",
    "        super().m3()       # valid\n",
    "        \n",
    "    def m1(self): # Instance Method from Child Class\n",
    "        # from child constructor, we can call parent constructor,Instance,class,static method\n",
    "        super().__init__() # valid\n",
    "        super().m1()       # valid\n",
    "        super().m2()       # valid\n",
    "        super().m3()       # valid\n",
    "    \n",
    "    @classmethod\n",
    "    def m2(cls):\n",
    "        super().__init__() # Not valid, This will raise an error. we can't use super() to call parent class-class method from child class-class method\n",
    "        super().m1()       # Not valid, This will raise an error. we can't use super() to call parent class-Instance method from child class-Instance method\n",
    "        super().m2()       # valid\n",
    "        super().m3()       # valid\n",
    "    \n",
    "\n",
    "C.m2()"
   ]
  },
  {
   "cell_type": "markdown",
   "metadata": {},
   "source": [
    "<span style='color:brown'>**From child class-class method we cannot access parent class constructor and instance methods directly by using super() (But indirectly possible). But we can access parent class static and class methods.**</span><br><br>\n",
    "**Reason:** <span style='color:blue'>**Class method is no way related to object. Without object also we ca call class method. But constructor and instance methods are always associated with object.**</span>"
   ]
  },
  {
   "cell_type": "code",
   "execution_count": 38,
   "metadata": {},
   "outputs": [
    {
     "ename": "RuntimeError",
     "evalue": "super(): no arguments",
     "output_type": "error",
     "traceback": [
      "\u001b[1;31m---------------------------------------------------------------------------\u001b[0m",
      "\u001b[1;31mRuntimeError\u001b[0m                              Traceback (most recent call last)",
      "\u001b[1;32m<ipython-input-38-3f4c4f251426>\u001b[0m in \u001b[0;36m<module>\u001b[1;34m\u001b[0m\n\u001b[0;32m     37\u001b[0m         \u001b[0msuper\u001b[0m\u001b[1;33m(\u001b[0m\u001b[1;33m)\u001b[0m\u001b[1;33m.\u001b[0m\u001b[0mm3\u001b[0m\u001b[1;33m(\u001b[0m\u001b[1;33m)\u001b[0m       \u001b[1;31m# Not valid\u001b[0m\u001b[1;33m\u001b[0m\u001b[1;33m\u001b[0m\u001b[0m\n\u001b[0;32m     38\u001b[0m \u001b[1;33m\u001b[0m\u001b[0m\n\u001b[1;32m---> 39\u001b[1;33m \u001b[0mC\u001b[0m\u001b[1;33m.\u001b[0m\u001b[0mm3\u001b[0m\u001b[1;33m(\u001b[0m\u001b[1;33m)\u001b[0m\u001b[1;33m\u001b[0m\u001b[1;33m\u001b[0m\u001b[0m\n\u001b[0m",
      "\u001b[1;32m<ipython-input-38-3f4c4f251426>\u001b[0m in \u001b[0;36mm3\u001b[1;34m()\u001b[0m\n\u001b[0;32m     32\u001b[0m     \u001b[1;33m@\u001b[0m\u001b[0mstaticmethod\u001b[0m\u001b[1;33m\u001b[0m\u001b[1;33m\u001b[0m\u001b[0m\n\u001b[0;32m     33\u001b[0m     \u001b[1;32mdef\u001b[0m \u001b[0mm3\u001b[0m\u001b[1;33m(\u001b[0m\u001b[1;33m)\u001b[0m\u001b[1;33m:\u001b[0m\u001b[1;33m\u001b[0m\u001b[1;33m\u001b[0m\u001b[0m\n\u001b[1;32m---> 34\u001b[1;33m         \u001b[0msuper\u001b[0m\u001b[1;33m(\u001b[0m\u001b[1;33m)\u001b[0m\u001b[1;33m.\u001b[0m\u001b[0m__init__\u001b[0m\u001b[1;33m(\u001b[0m\u001b[1;33m)\u001b[0m \u001b[1;31m# Not valid\u001b[0m\u001b[1;33m\u001b[0m\u001b[1;33m\u001b[0m\u001b[0m\n\u001b[0m\u001b[0;32m     35\u001b[0m         \u001b[0msuper\u001b[0m\u001b[1;33m(\u001b[0m\u001b[1;33m)\u001b[0m\u001b[1;33m.\u001b[0m\u001b[0mm1\u001b[0m\u001b[1;33m(\u001b[0m\u001b[1;33m)\u001b[0m       \u001b[1;31m# Not valid\u001b[0m\u001b[1;33m\u001b[0m\u001b[1;33m\u001b[0m\u001b[0m\n\u001b[0;32m     36\u001b[0m         \u001b[0msuper\u001b[0m\u001b[1;33m(\u001b[0m\u001b[1;33m)\u001b[0m\u001b[1;33m.\u001b[0m\u001b[0mm2\u001b[0m\u001b[1;33m(\u001b[0m\u001b[1;33m)\u001b[0m       \u001b[1;31m# Not valid\u001b[0m\u001b[1;33m\u001b[0m\u001b[1;33m\u001b[0m\u001b[0m\n",
      "\u001b[1;31mRuntimeError\u001b[0m: super(): no arguments"
     ]
    }
   ],
   "source": [
    "class P:\n",
    "    a=10\n",
    "    def __init__(self):\n",
    "        print(\"Parent Constructor\")\n",
    "        \n",
    "    def m1(self):\n",
    "        print(\"Parent Instance Method\")\n",
    "        \n",
    "    @classmethod\n",
    "    def m2(cls):\n",
    "        print(\"Parent Class Method\")\n",
    "        \n",
    "    @staticmethod\n",
    "    def m3():\n",
    "        print(\"Parent Static Method\")\n",
    "        \n",
    "class C(P):\n",
    "    # from child constructor, we can call parent constructor,Instance,class,static methods. No problem at all\n",
    "    def __init__(self):\n",
    "        super().__init__() # valid\n",
    "        super().m1()       # valid\n",
    "        super().m2()       # valid\n",
    "        super().m3()       # valid\n",
    "        \n",
    "    def m1(self): # Instance Method from Child Class\n",
    "        # from child constructor, we can call parent constructor,Instance,class,static method\n",
    "        super().__init__() # valid\n",
    "        super().m1()       # valid\n",
    "        super().m2()       # valid\n",
    "        super().m3()       # valid\n",
    "    \n",
    "    @staticmethod\n",
    "    def m3():\n",
    "        super().__init__() # Not valid, this will raise an error\n",
    "        super().m1()       # Not valid, this will raise an error\n",
    "        super().m2()       # Not valid, this will raise an error\n",
    "        super().m3()       # Not valid, this will raise an error\n",
    "        \n",
    "C.m3()"
   ]
  },
  {
   "cell_type": "markdown",
   "metadata": {},
   "source": [
    "<span style='color:brown'>**From child class static method, we cannot use super() to call parent class members. But indirectly we can call parent class static and class methods.**</span>"
   ]
  },
  {
   "cell_type": "markdown",
   "metadata": {},
   "source": [
    "### From Class Method of Child Class, how to call Parent Class Instance Methods and Constructors indirectly:"
   ]
  },
  {
   "cell_type": "code",
   "execution_count": 39,
   "metadata": {},
   "outputs": [
    {
     "name": "stdout",
     "output_type": "stream",
     "text": [
      "Parent Constructor\n",
      "Parent Instance Method\n"
     ]
    }
   ],
   "source": [
    "class P:\n",
    "    def __init__(self):\n",
    "        print(\"Parent Constructor\")\n",
    "        \n",
    "    def m1(self):\n",
    "        print(\"Parent Instance Method\")\n",
    "        \n",
    "class C(P):\n",
    "    @classmethod\n",
    "    def m2(cls):\n",
    "        super(C,cls).__init__(cls) # calling constructor of parent class from class method of child class indirectly\n",
    "        super(C,cls).m1(cls) # calling Instance method of parent class from class method of child class indirectly.\n",
    "        \n",
    "\n",
    "C.m2()"
   ]
  },
  {
   "cell_type": "markdown",
   "metadata": {},
   "source": [
    "### How to Call Parent Class Static Method from Child Class Static Method by using super() indirectly:"
   ]
  },
  {
   "cell_type": "code",
   "execution_count": 40,
   "metadata": {},
   "outputs": [
    {
     "name": "stdout",
     "output_type": "stream",
     "text": [
      "Parent Class Method\n",
      "Parent Static Method\n"
     ]
    }
   ],
   "source": [
    "class P:\n",
    "    @classmethod\n",
    "    def m2(cls):\n",
    "        print(\"Parent Class Method\")\n",
    "        \n",
    "    @staticmethod\n",
    "    def m3():\n",
    "        print(\"Parent Static Method\")\n",
    "        \n",
    "class C(P):\n",
    "    @staticmethod\n",
    "    def m2():\n",
    "        super(C,C).m2() # Indirect method to call Parent class-class method from child class-static method\n",
    "        super(C,C).m3() # Indirect method to call Parent class-Static method from child class-static method\n",
    "        \n",
    "C.m2()"
   ]
  },
  {
   "cell_type": "markdown",
   "metadata": {},
   "source": [
    "# ========================== PART - 3 ==========================="
   ]
  },
  {
   "cell_type": "markdown",
   "metadata": {},
   "source": [
    "# Polymorphism\n",
    "\n",
    "**Poly** means **many**.<br>\n",
    "**Morphs** means **forms**.<br>\n",
    "**Polymorphism** means '**Many Forms**'.<br><br>**One Name but Multiple Forms is the concept of Polymorphism**<br><br>\n",
    "**More Flexibility is the advantage of Polymorphissm**<br><br>\n",
    "**Eg1:** Yourself is best example of polymorphism. In front of Your parents You will have one type of behaviour and with friends another type of behaviour. Same person but different behaviours at different places,which is nothing but polymorphism.<br>\n",
    "**Eg2:** + operator acts as concatenation and arithmetic addition (Operator Overloading)<br>\n",
    "**Eg3:** * operator acts as multiplication and repetition operator (Operator Overloading)<br>\n",
    "**Eg4:** The Same method with different implementations in Parent class and child classes.(Method overriding)<br><br>Example:\n"
   ]
  },
  {
   "cell_type": "code",
   "execution_count": 1,
   "metadata": {},
   "outputs": [
    {
     "name": "stdout",
     "output_type": "stream",
     "text": [
      "Kartina Kaif\n"
     ]
    }
   ],
   "source": [
    "class P: # subbalaxmi/appalama are the brides which parents have chosen for groom. But child is not satisfiess with thier selection.\n",
    "    def marry(self):\n",
    "        print(\"SubbaLaxmi/Apalama\")\n",
    "        \n",
    "class C(P): # But groom want to marry a bride with name Katrina kaif. So he is redifining the bride for this marriage, since he is not satisfied. \n",
    "    def marry(self):\n",
    "        print(\"Kartina Kaif\") # This Type of redefining the same method with different implementations is called as method overriding.\n",
    "        \n",
    "c=C()\n",
    "c.marry()\n"
   ]
  },
  {
   "cell_type": "markdown",
   "metadata": {},
   "source": [
    "Related to Polymorphism the following topics are important<br><br>\n",
    "\n",
    "**1) Overloading**<br>\n",
    "> 1) Operator Overloading <br>\n",
    "> 2) Method Overloading<br>\n",
    "> 3) Constructor Overloading<br>\n",
    "\n",
    "**2) Overriding**<br>\n",
    "> 1) Method Overriding<br>\n",
    "> 2) Constructor Overriding<br>\n",
    "\n",
    "**3) Pythonic Behavior**<br>\n",
    "> - Duck Typing Philosophy of Python<br>\n",
    "> - Easier to Ask Forgiveness than Permission(EAFP)<br>\n",
    "> - Monkey Patching<br>"
   ]
  },
  {
   "cell_type": "markdown",
   "metadata": {},
   "source": [
    "### 1) Overloading\n",
    "\n",
    "We can use same operator or methods for different purposes.<br>\n",
    "**Eg 1:** + operator can be used for Arithmetic addition and String concatenation<br>\n",
    "> print(10+20) # 30<br>\n",
    "> print('durga'+'soft') # durgasoft<br>\n",
    "\n",
    "**Eg 2:** * operator can be used for multiplication and string repetition purposes.<br>\n",
    "> print(10*20) # 200<br>\n",
    "> print('durga'*3) # durgadurgadurga<br>\n",
    "\n",
    "**Eg 3:** We can use deposit() method to deposit cash or cheque or dd<br>\n",
    "> deposit(cash)<br>\n",
    "> deposit(cheque)<br>\n",
    "> deposit(dd)<br>\n",
    "\n",
    "**There are 3 types of Overloading** <br><br>\n",
    "1) Operator Overloading<br>\n",
    "2) Method Overloading <br>\n",
    "3) Constructor Overloading<br>\n"
   ]
  },
  {
   "cell_type": "markdown",
   "metadata": {},
   "source": [
    "### 1) Operator Overloading:\n",
    "- We can use the same operator for multiple purposes, which is nothing but operator overloading.<br> \n",
    "- Python supports operator overloading.<br><br>\n",
    "\n",
    "**Eg 1:** + operator can be used for Arithmetic addition and String concatenation<br>"
   ]
  },
  {
   "cell_type": "code",
   "execution_count": 2,
   "metadata": {},
   "outputs": [
    {
     "name": "stdout",
     "output_type": "stream",
     "text": [
      "30\n",
      "durgasoft\n"
     ]
    }
   ],
   "source": [
    "print(10+20) #30\n",
    "print('durga'+'soft') #durgasoft"
   ]
  },
  {
   "cell_type": "markdown",
   "metadata": {},
   "source": [
    "**Eg 2:** * operator can be used for multiplication and string repetition purposes.<br>"
   ]
  },
  {
   "cell_type": "code",
   "execution_count": 3,
   "metadata": {},
   "outputs": [
    {
     "name": "stdout",
     "output_type": "stream",
     "text": [
      "200\n",
      "durgadurgadurga\n"
     ]
    }
   ],
   "source": [
    "print(10*20) # 200\n",
    "print('durga'*3) # durgadurgadurga"
   ]
  },
  {
   "cell_type": "code",
   "execution_count": 4,
   "metadata": {},
   "outputs": [
    {
     "ename": "TypeError",
     "evalue": "unsupported operand type(s) for +: 'Book' and 'Book'",
     "output_type": "error",
     "traceback": [
      "\u001b[1;31m---------------------------------------------------------------------------\u001b[0m",
      "\u001b[1;31mTypeError\u001b[0m                                 Traceback (most recent call last)",
      "\u001b[1;32m<ipython-input-4-9e6f77efd34f>\u001b[0m in \u001b[0;36m<module>\u001b[1;34m\u001b[0m\n\u001b[0;32m      7\u001b[0m \u001b[0mb1\u001b[0m\u001b[1;33m=\u001b[0m\u001b[0mBook\u001b[0m\u001b[1;33m(\u001b[0m\u001b[1;36m100\u001b[0m\u001b[1;33m)\u001b[0m\u001b[1;33m\u001b[0m\u001b[1;33m\u001b[0m\u001b[0m\n\u001b[0;32m      8\u001b[0m \u001b[0mb2\u001b[0m\u001b[1;33m=\u001b[0m\u001b[0mBook\u001b[0m\u001b[1;33m(\u001b[0m\u001b[1;36m200\u001b[0m\u001b[1;33m)\u001b[0m\u001b[1;33m\u001b[0m\u001b[1;33m\u001b[0m\u001b[0m\n\u001b[1;32m----> 9\u001b[1;33m \u001b[0mprint\u001b[0m\u001b[1;33m(\u001b[0m\u001b[0mb1\u001b[0m\u001b[1;33m+\u001b[0m\u001b[0mb2\u001b[0m\u001b[1;33m)\u001b[0m\u001b[1;33m\u001b[0m\u001b[1;33m\u001b[0m\u001b[0m\n\u001b[0m",
      "\u001b[1;31mTypeError\u001b[0m: unsupported operand type(s) for +: 'Book' and 'Book'"
     ]
    }
   ],
   "source": [
    "# Demo program to use + operator for our class objects:\n",
    "\n",
    "class Book:\n",
    "    def __init__(self,pages):\n",
    "        self.pages = pages\n",
    "        \n",
    "b1=Book(100)\n",
    "b2=Book(200)\n",
    "print(b1+b2) # tough python supports operator overloading, we will get error.\n",
    "# we need to use some special methods to perfom operator overaloading."
   ]
  },
  {
   "cell_type": "markdown",
   "metadata": {},
   "source": [
    "⚽ We can overload + operator to work with Book objects also. i.e Python supports Operator Overloading.<br> \n",
    "⚽ For every operator Magic Methods are available. To overload any operator we have to override that Method in our class.<br>\n",
    "⚽ Internally + operator is implemented by using __add__() method.This method is called magic method for + operator. We have to override this method in our class."
   ]
  },
  {
   "cell_type": "markdown",
   "metadata": {},
   "source": [
    "Whenever we are using + operator between two book objects, immediately Python Vitual machine will check whether the book class contain corressponding magic method or not.<br>\n",
    "\n",
    "**So if you want to use any operator between two objects, compulsarily we need to define respective magic method of the operator.**"
   ]
  },
  {
   "cell_type": "code",
   "execution_count": 5,
   "metadata": {},
   "outputs": [
    {
     "name": "stdout",
     "output_type": "stream",
     "text": [
      "300\n"
     ]
    }
   ],
   "source": [
    "class Book:\n",
    "    def __init__(self,pages):\n",
    "        self.pages = pages\n",
    "        \n",
    "    def __add__(self,other): # Magic method\n",
    "        total_pages = self.pages + other.pages\n",
    "        return total_pages\n",
    "        \n",
    "        \n",
    "b1=Book(100)\n",
    "b2=Book(200)\n",
    "print(b1+b2) # b1 will pass to self and b2 will pass to other arguments."
   ]
  },
  {
   "cell_type": "code",
   "execution_count": 6,
   "metadata": {},
   "outputs": [
    {
     "name": "stdout",
     "output_type": "stream",
     "text": [
      "300\n",
      "400\n",
      "500\n"
     ]
    }
   ],
   "source": [
    "b1=Book(100)\n",
    "b2=Book(200)\n",
    "b3=Book(300)\n",
    "print(b1+b2) # b1 will pass to self and b2 will pass to other arguments.\n",
    "print(b1+b3)\n",
    "print(b2+b3)"
   ]
  },
  {
   "cell_type": "code",
   "execution_count": 7,
   "metadata": {},
   "outputs": [
    {
     "ename": "TypeError",
     "evalue": "unsupported operand type(s) for +: 'int' and 'Book'",
     "output_type": "error",
     "traceback": [
      "\u001b[1;31m---------------------------------------------------------------------------\u001b[0m",
      "\u001b[1;31mTypeError\u001b[0m                                 Traceback (most recent call last)",
      "\u001b[1;32m<ipython-input-7-d6c25741bd5d>\u001b[0m in \u001b[0;36m<module>\u001b[1;34m\u001b[0m\n\u001b[0;32m      1\u001b[0m \u001b[1;31m# b1+b2, b1+b3, b2+b3 worked fine No isuues. But can we perform b1+b2+b3 with above code.\u001b[0m\u001b[1;33m\u001b[0m\u001b[1;33m\u001b[0m\u001b[1;33m\u001b[0m\u001b[0m\n\u001b[1;32m----> 2\u001b[1;33m \u001b[0mprint\u001b[0m\u001b[1;33m(\u001b[0m\u001b[0mb1\u001b[0m\u001b[1;33m+\u001b[0m\u001b[0mb2\u001b[0m\u001b[1;33m+\u001b[0m\u001b[0mb3\u001b[0m\u001b[1;33m)\u001b[0m\u001b[1;33m\u001b[0m\u001b[1;33m\u001b[0m\u001b[0m\n\u001b[0m",
      "\u001b[1;31mTypeError\u001b[0m: unsupported operand type(s) for +: 'int' and 'Book'"
     ]
    }
   ],
   "source": [
    "# b1+b2, b1+b3, b2+b3 worked fine No isuues. But can we perform b1+b2+b3 with above code.\n",
    "print(b1+b2+b3)"
   ]
  },
  {
   "cell_type": "markdown",
   "metadata": {},
   "source": [
    "We will discuss about this issue at last."
   ]
  },
  {
   "cell_type": "markdown",
   "metadata": {},
   "source": [
    "The following is the list of operators and corresponding magic methods.<br>\n",
    "<img src=\"images/magic_methods.png\" width = 400 align='left'>"
   ]
  },
  {
   "cell_type": "markdown",
   "metadata": {},
   "source": [
    "#### Overloading > and <= Operators for Student Class Objects:"
   ]
  },
  {
   "cell_type": "code",
   "execution_count": 9,
   "metadata": {},
   "outputs": [
    {
     "ename": "TypeError",
     "evalue": "'>' not supported between instances of 'Student' and 'Student'",
     "output_type": "error",
     "traceback": [
      "\u001b[1;31m---------------------------------------------------------------------------\u001b[0m",
      "\u001b[1;31mTypeError\u001b[0m                                 Traceback (most recent call last)",
      "\u001b[1;32m<ipython-input-9-95189689b8c2>\u001b[0m in \u001b[0;36m<module>\u001b[1;34m\u001b[0m\n\u001b[0;32m      6\u001b[0m \u001b[0ms1\u001b[0m\u001b[1;33m=\u001b[0m\u001b[0mStudent\u001b[0m\u001b[1;33m(\u001b[0m\u001b[1;34m\"Sairam\"\u001b[0m\u001b[1;33m,\u001b[0m\u001b[1;36m100\u001b[0m\u001b[1;33m)\u001b[0m\u001b[1;33m\u001b[0m\u001b[1;33m\u001b[0m\u001b[0m\n\u001b[0;32m      7\u001b[0m \u001b[0ms2\u001b[0m\u001b[1;33m=\u001b[0m\u001b[0mStudent\u001b[0m\u001b[1;33m(\u001b[0m\u001b[1;34m\"Dhana\"\u001b[0m\u001b[1;33m,\u001b[0m\u001b[1;36m95\u001b[0m\u001b[1;33m)\u001b[0m\u001b[1;33m\u001b[0m\u001b[1;33m\u001b[0m\u001b[0m\n\u001b[1;32m----> 8\u001b[1;33m \u001b[0mprint\u001b[0m\u001b[1;33m(\u001b[0m\u001b[0ms1\u001b[0m \u001b[1;33m>\u001b[0m \u001b[0ms2\u001b[0m\u001b[1;33m)\u001b[0m \u001b[1;31m# This will raise error, since it will expect some magic method.\u001b[0m\u001b[1;33m\u001b[0m\u001b[1;33m\u001b[0m\u001b[0m\n\u001b[0m",
      "\u001b[1;31mTypeError\u001b[0m: '>' not supported between instances of 'Student' and 'Student'"
     ]
    }
   ],
   "source": [
    "class Student:\n",
    "    def __init__(self,name,marks):\n",
    "        self.name = name\n",
    "        self.marks = marks\n",
    "        \n",
    "s1=Student(\"Sairam\",100)\n",
    "s2=Student(\"Dhana\",95)\n",
    "print(s1 > s2) # This will raise error, since it will expect some magic method."
   ]
  },
  {
   "cell_type": "code",
   "execution_count": 48,
   "metadata": {},
   "outputs": [
    {
     "name": "stdout",
     "output_type": "stream",
     "text": [
      "True\n",
      "False\n",
      "True\n",
      "True\n",
      "True\n"
     ]
    }
   ],
   "source": [
    "class Student:\n",
    "    def __init__(self,name,marks):\n",
    "        self.name = name\n",
    "        self.marks = marks\n",
    "        \n",
    "    def __gt__(self,other): # Greater Than Magic Method\n",
    "        return self.marks > other.marks\n",
    "        \n",
    "    def __le__(self,other):\n",
    "        return self.marks<=other.marks\n",
    "    \n",
    "s1=Student(\"Sairam\",100)\n",
    "s2=Student(\"Dhana\",95)\n",
    "s3=Student(\"Prasad\",97)\n",
    "print(s1 > s2) # True \n",
    "print(s2 > s3) # False\n",
    "print(s2 < s3) \n",
    "# True, We can define magic method either for less than or greater then only, it will reverse as needed.\n",
    "print(s2 <= s3)\n",
    "print(s1 >= s2)"
   ]
  },
  {
   "cell_type": "markdown",
   "metadata": {},
   "source": [
    "#### Program to Overload Multiplication Operator to Work on Employee Objects:"
   ]
  },
  {
   "cell_type": "code",
   "execution_count": 1,
   "metadata": {},
   "outputs": [
    {
     "ename": "TypeError",
     "evalue": "unsupported operand type(s) for *: 'Employee' and 'TimeSheet'",
     "output_type": "error",
     "traceback": [
      "\u001b[1;31m---------------------------------------------------------------------------\u001b[0m",
      "\u001b[1;31mTypeError\u001b[0m                                 Traceback (most recent call last)",
      "\u001b[1;32m<ipython-input-1-92ab47b2aa86>\u001b[0m in \u001b[0;36m<module>\u001b[1;34m\u001b[0m\n\u001b[0;32m     11\u001b[0m \u001b[0me\u001b[0m\u001b[1;33m=\u001b[0m\u001b[0mEmployee\u001b[0m\u001b[1;33m(\u001b[0m\u001b[1;34m'Sairam'\u001b[0m\u001b[1;33m,\u001b[0m\u001b[1;36m1000\u001b[0m\u001b[1;33m)\u001b[0m\u001b[1;33m\u001b[0m\u001b[1;33m\u001b[0m\u001b[0m\n\u001b[0;32m     12\u001b[0m \u001b[0mt\u001b[0m\u001b[1;33m=\u001b[0m\u001b[0mTimeSheet\u001b[0m\u001b[1;33m(\u001b[0m\u001b[1;34m'Sairam'\u001b[0m\u001b[1;33m,\u001b[0m\u001b[1;36m25\u001b[0m\u001b[1;33m)\u001b[0m\u001b[1;33m\u001b[0m\u001b[1;33m\u001b[0m\u001b[0m\n\u001b[1;32m---> 13\u001b[1;33m \u001b[0mprint\u001b[0m\u001b[1;33m(\u001b[0m\u001b[1;34m\"This Month Salary:\"\u001b[0m\u001b[1;33m,\u001b[0m\u001b[0me\u001b[0m\u001b[1;33m*\u001b[0m\u001b[0mt\u001b[0m\u001b[1;33m)\u001b[0m\u001b[1;33m\u001b[0m\u001b[1;33m\u001b[0m\u001b[0m\n\u001b[0m",
      "\u001b[1;31mTypeError\u001b[0m: unsupported operand type(s) for *: 'Employee' and 'TimeSheet'"
     ]
    }
   ],
   "source": [
    "class Employee:\n",
    "    def __init__(self,name,SalaryPerDay):\n",
    "        self.name = name\n",
    "        self.SalaryPerDay = SalaryPerDay\n",
    "        \n",
    "class TimeSheet:\n",
    "    def __init__(self,name,workingdays):\n",
    "        self.name = name\n",
    "        self.workingdays = workingdays\n",
    "\n",
    "e=Employee('Sairam',1000)\n",
    "t=TimeSheet('Sairam',25)\n",
    "print(\"This Month Salary:\",e*t) # should implement magic method "
   ]
  },
  {
   "cell_type": "code",
   "execution_count": 3,
   "metadata": {},
   "outputs": [
    {
     "name": "stdout",
     "output_type": "stream",
     "text": [
      "This Month Salary: 25000\n",
      "This Month Salary: 25000\n"
     ]
    }
   ],
   "source": [
    "class Employee:\n",
    "    def __init__(self,name,SalaryPerDay):\n",
    "        self.name = name\n",
    "        self.SalaryPerDay = SalaryPerDay\n",
    "    def __mul__(self,other):\n",
    "        return self.SalaryPerDay*other.workingdays\n",
    "        \n",
    "class TimeSheet:\n",
    "    def __init__(self,name,workingdays):\n",
    "        self.name = name\n",
    "        self.workingdays = workingdays\n",
    "    def __mul__(self,other):\n",
    "        return self.workingdays*other.SalaryPerDay\n",
    "\n",
    "e=Employee('Sairam',1000)\n",
    "t=TimeSheet('Sairam',25)\n",
    "print(\"This Month Salary:\",e*t) # implemented magic method in Employee class because of the multiplication order.\n",
    "print(\"This Month Salary:\",t*e) # order is very impoortant, so to perform this multiplication also, need to implement magic method."
   ]
  },
  {
   "cell_type": "markdown",
   "metadata": {},
   "source": [
    "### Importance of \\_\\_str\\_\\_() method"
   ]
  },
  {
   "cell_type": "code",
   "execution_count": 4,
   "metadata": {},
   "outputs": [
    {
     "name": "stdout",
     "output_type": "stream",
     "text": [
      "<__main__.Student object at 0x000001CE10CABFA0>\n",
      "<__main__.Student object at 0x000001CE10CABAC0>\n"
     ]
    }
   ],
   "source": [
    "class Student:\n",
    "    def __init__(self,name,rollno,marks):\n",
    "        self.name = name\n",
    "        self.rollno = rollno\n",
    "        self.marks = marks\n",
    "        \n",
    "s1=Student('Sairam',263,100)\n",
    "s2=Student('Ravi',264,95)\n",
    "print(s1) # Inertnally __str__() method will be executed, if not given explicitly\n",
    "print(s2) # Inertnally __str__() method will be executed, if not given explicitly. "
   ]
  },
  {
   "cell_type": "markdown",
   "metadata": {},
   "source": [
    "whenever we are trying to print object reference, internally \\_\\_str\\_\\_() method will be called.<br><br>\n",
    "The default implementation of this method returns the string in the following format:<br>\n",
    "> <__main__.Student object at 0x000001CE10CABFA0>\n",
    "\n",
    "To Provide meaningful string reperesentation for our object, we have to override \\_\\_str\\_\\_() method in our class."
   ]
  },
  {
   "cell_type": "markdown",
   "metadata": {},
   "source": [
    "We dont need the output as above, we are expecting the meaningful information given. We need to implement \\_\\_str\\_\\_() in our class like below."
   ]
  },
  {
   "cell_type": "code",
   "execution_count": 7,
   "metadata": {},
   "outputs": [
    {
     "name": "stdout",
     "output_type": "stream",
     "text": [
      "Name:Sairam, RollNo:263, Marks:100\n",
      "Name:Ravi, RollNo:264, Marks:95\n"
     ]
    }
   ],
   "source": [
    "class Student:\n",
    "    def __init__(self,name,rollno,marks):\n",
    "        self.name = name\n",
    "        self.rollno = rollno\n",
    "        self.marks = marks\n",
    "    \n",
    "    def __str__(self): # Magic Method\n",
    "        return 'Name:{}, RollNo:{}, Marks:{}'.format(self.name,self.rollno,self.marks)\n",
    "    \n",
    "s1=Student('Sairam',263,100)\n",
    "s2=Student('Ravi',264,95)\n",
    "print(s1) # since we have override the internal __str__() method by magic method __str__(), this will give the info as required.\n",
    "print(s2)  "
   ]
  },
  {
   "cell_type": "markdown",
   "metadata": {},
   "source": [
    "### Overloading of + operator for nesting Requirements"
   ]
  },
  {
   "cell_type": "markdown",
   "metadata": {},
   "source": [
    "previously as discussed we can perform b1+b2+b3 like below."
   ]
  },
  {
   "cell_type": "code",
   "execution_count": 8,
   "metadata": {},
   "outputs": [
    {
     "name": "stdout",
     "output_type": "stream",
     "text": [
      "300\n",
      "600\n",
      "700\n"
     ]
    }
   ],
   "source": [
    "class Book:\n",
    "    def __init__(self,pages):\n",
    "        self.pages = pages\n",
    "        \n",
    "    def __add__(self,other): # Magic method\n",
    "        total_pages = self.pages + other.pages\n",
    "        return total_pages\n",
    "        \n",
    "        \n",
    "b1=Book(100)\n",
    "b2=Book(200)\n",
    "b3=Book(500)\n",
    "\n",
    "print(b1+b2) # since we implmented magic method, this will work fine.\n",
    "print(b1+b3) # since we implmented magic method, this will work fine.\n",
    "print(b2+b3) # since we implmented magic method, this will work fine."
   ]
  },
  {
   "cell_type": "code",
   "execution_count": 9,
   "metadata": {},
   "outputs": [
    {
     "ename": "TypeError",
     "evalue": "unsupported operand type(s) for +: 'int' and 'Book'",
     "output_type": "error",
     "traceback": [
      "\u001b[1;31m---------------------------------------------------------------------------\u001b[0m",
      "\u001b[1;31mTypeError\u001b[0m                                 Traceback (most recent call last)",
      "\u001b[1;32m<ipython-input-9-cb261beef5b0>\u001b[0m in \u001b[0;36m<module>\u001b[1;34m\u001b[0m\n\u001b[1;32m----> 1\u001b[1;33m \u001b[0mprint\u001b[0m\u001b[1;33m(\u001b[0m\u001b[0mb1\u001b[0m\u001b[1;33m+\u001b[0m\u001b[0mb2\u001b[0m\u001b[1;33m+\u001b[0m\u001b[0mb3\u001b[0m\u001b[1;33m)\u001b[0m\u001b[1;33m\u001b[0m\u001b[1;33m\u001b[0m\u001b[0m\n\u001b[0m",
      "\u001b[1;31mTypeError\u001b[0m: unsupported operand type(s) for +: 'int' and 'Book'"
     ]
    }
   ],
   "source": [
    "print(b1+b2+b3)"
   ]
  },
  {
   "cell_type": "markdown",
   "metadata": {},
   "source": [
    "As seen above, magic method accepts only two arguments, so we can't give extra arguments. Hence, b1+b2 will be calculated as 300 and is added to b3 like 300(integer)+b3(object). So the above error is raised due to unsupported operand types. if both are book objects only, then there will be no issue. "
   ]
  },
  {
   "cell_type": "code",
   "execution_count": 16,
   "metadata": {},
   "outputs": [
    {
     "name": "stdout",
     "output_type": "stream",
     "text": [
      "The total no. of pages: 1400\n"
     ]
    }
   ],
   "source": [
    "class Book:\n",
    "    def __init__(self,pages):\n",
    "        self.pages = pages\n",
    "        \n",
    "    def __add__(self,other): # Magic method \n",
    "        return Book(self.pages + other.pages)\n",
    "    \n",
    "    def __str__(self):\n",
    "        return 'The total no. of pages: {}'.format(self.pages)\n",
    "\n",
    "b1=Book(100)\n",
    "b2=Book(200)\n",
    "b3=Book(500)\n",
    "b4=Book(600) # we can add any number of book objects.\n",
    "print(b1+b2+b3+b4) # Internally __str__() will be called, since we are adding 3 book objects and result will be an book object only."
   ]
  },
  {
   "cell_type": "code",
   "execution_count": 20,
   "metadata": {},
   "outputs": [
    {
     "name": "stdout",
     "output_type": "stream",
     "text": [
      "Mul executed\n",
      "Add executed\n",
      "Add executed\n",
      "The total no. of pages: 100700\n"
     ]
    }
   ],
   "source": [
    "class Book:\n",
    "    def __init__(self,pages):\n",
    "        self.pages = pages\n",
    "        \n",
    "    def __add__(self,other): # Magic method \n",
    "        print('Add executed')\n",
    "        return Book(self.pages + other.pages)\n",
    "    \n",
    "    def __str__(self):\n",
    "        return 'The total no. of pages: {}'.format(self.pages)\n",
    "    def __mul__(self,other):\n",
    "        print('Mul executed')\n",
    "        return Book(self.pages*other.pages)\n",
    "\n",
    "b1=Book(100)\n",
    "b2=Book(200)\n",
    "b3=Book(500)\n",
    "b4=Book(600) # we can add any number of book objects.\n",
    "print(b1+b2*b3+b4) #Operater precedence is followed"
   ]
  },
  {
   "cell_type": "markdown",
   "metadata": {},
   "source": [
    "# Method Overloading\n",
    "\n",
    "- If 2 methods having same name but different type of arguments then those methods are said to be overloaded methods.<br>\n",
    "> **Eg:** m1(int a) <br>&emsp;&ensp;&nbsp;m1(double d)<br>\n",
    "\n",
    "- But in Python Method overloading is not possible.<br>\n",
    "- If we are trying to declare multiple methods with same name and different number of arguments then Python will always consider only last method."
   ]
  },
  {
   "cell_type": "code",
   "execution_count": 1,
   "metadata": {},
   "outputs": [
    {
     "ename": "TypeError",
     "evalue": "m1() missing 2 required positional arguments: 'y' and 'self'",
     "output_type": "error",
     "traceback": [
      "\u001b[1;31m---------------------------------------------------------------------------\u001b[0m",
      "\u001b[1;31mTypeError\u001b[0m                                 Traceback (most recent call last)",
      "\u001b[1;32m<ipython-input-1-780ca1f7e6ff>\u001b[0m in \u001b[0;36m<module>\u001b[1;34m\u001b[0m\n\u001b[0;32m      8\u001b[0m \u001b[1;33m\u001b[0m\u001b[0m\n\u001b[0;32m      9\u001b[0m \u001b[0mt\u001b[0m\u001b[1;33m=\u001b[0m\u001b[0mTest\u001b[0m\u001b[1;33m(\u001b[0m\u001b[1;33m)\u001b[0m\u001b[1;33m\u001b[0m\u001b[1;33m\u001b[0m\u001b[0m\n\u001b[1;32m---> 10\u001b[1;33m \u001b[0mt\u001b[0m\u001b[1;33m.\u001b[0m\u001b[0mm1\u001b[0m\u001b[1;33m(\u001b[0m\u001b[1;33m)\u001b[0m\u001b[1;33m\u001b[0m\u001b[1;33m\u001b[0m\u001b[0m\n\u001b[0m",
      "\u001b[1;31mTypeError\u001b[0m: m1() missing 2 required positional arguments: 'y' and 'self'"
     ]
    }
   ],
   "source": [
    "class Test:\n",
    "    def m1(self): # Won't be consdered\n",
    "        print(\"No Arg Method\")\n",
    "    def m1(x,self): # Won't be Considered\n",
    "        print(\"One Arg Method\")\n",
    "    def m1(x,y,self): # Since Only Last Method is considered if methods with same name are available, this will be executed.\n",
    "        print(\"Two Arg Method\")\n",
    "        \n",
    "t=Test()\n",
    "t.m1() # This is proof that Last method will be considered. This will raise an error saying 2 arguments(x,y) are missing."
   ]
  },
  {
   "cell_type": "code",
   "execution_count": 2,
   "metadata": {},
   "outputs": [
    {
     "name": "stdout",
     "output_type": "stream",
     "text": [
      "Two Arg Method\n"
     ]
    }
   ],
   "source": [
    "class Test:\n",
    "    def m1(self): # Won't be consdered\n",
    "        print(\"No Arg Method\")\n",
    "    def m1(self,x): # Won't be Considered\n",
    "        print(\"One Arg Method\")\n",
    "    def m1(self,x,y): # Since Only Last Method is considered if methods with same name are available, this will be executed.\n",
    "        print(\"Two Arg Method\")\n",
    "        \n",
    "t=Test()\n",
    "t.m1(10,20) # This is proof that Last method will be considered. This will Execute m1(self,x,y)"
   ]
  },
  {
   "cell_type": "markdown",
   "metadata": {},
   "source": [
    "### Why Python won't support Method Overloading"
   ]
  },
  {
   "cell_type": "markdown",
   "metadata": {},
   "source": [
    "In Java, we can declare type explicitly. But in python type we cannot declare type explicitly.<br>\n",
    "Based on provided value type will be considered automatically(dynamically typed).<br> As Type Concept is not applicable, method overloading concept is also not available in python. "
   ]
  },
  {
   "cell_type": "markdown",
   "metadata": {},
   "source": [
    "**Python won't need Method Overloading concept, because we can do it with one single method as required.**<br> For example, we don't need to declare same methods with different arguments like in java, only one method is enough to do that for us as below. "
   ]
  },
  {
   "cell_type": "code",
   "execution_count": 4,
   "metadata": {},
   "outputs": [
    {
     "name": "stdout",
     "output_type": "stream",
     "text": [
      "int-Argument Method\n",
      "float-Argument Method\n",
      "str-Argument Method\n"
     ]
    }
   ],
   "source": [
    "class Test:\n",
    "    def m1(self,x):\n",
    "        print(\"{}-Argument Method\".format(x.__class__.__name__))\n",
    "        \n",
    "t=Test()\n",
    "t.m1(10)\n",
    "t.m1(10.5)\n",
    "t.m1(\"Sairam\")"
   ]
  },
  {
   "cell_type": "markdown",
   "metadata": {},
   "source": [
    "### How to define a method with variable number of arguments\n",
    "\n",
    "Most of the times, if method with variable number of arguments required then we can handle with **default arguments** or with **variable number of argument methods**.<br><br>\n",
    "#### Demo Program with Default Arguments:"
   ]
  },
  {
   "cell_type": "code",
   "execution_count": 5,
   "metadata": {},
   "outputs": [
    {
     "name": "stdout",
     "output_type": "stream",
     "text": [
      "No Argument Method\n",
      "One Argument Method\n",
      "Two Argument Method\n",
      "Three Argument Method\n"
     ]
    }
   ],
   "source": [
    "class Test:\n",
    "    def m1(self,a=None,b=None,c=None):\n",
    "        if a is not None and b is not None and c is not None:\n",
    "            print('Three Argument Method')\n",
    "        elif a is not None and b is not None:\n",
    "            print('Two Argument Method')\n",
    "        elif a is not None:\n",
    "            print('One Argument Method')\n",
    "        else:\n",
    "            print(\"No Argument Method\")\n",
    "            \n",
    "t=Test()\n",
    "t.m1() # Not Argument Method\n",
    "t.m1(10)\n",
    "t.m1(10,20)\n",
    "t.m1(10,20,30)"
   ]
  },
  {
   "cell_type": "code",
   "execution_count": 6,
   "metadata": {},
   "outputs": [
    {
     "ename": "TypeError",
     "evalue": "m1() takes from 1 to 4 positional arguments but 5 were given",
     "output_type": "error",
     "traceback": [
      "\u001b[1;31m---------------------------------------------------------------------------\u001b[0m",
      "\u001b[1;31mTypeError\u001b[0m                                 Traceback (most recent call last)",
      "\u001b[1;32m<ipython-input-6-8c7dc4089dc4>\u001b[0m in \u001b[0;36m<module>\u001b[1;34m\u001b[0m\n\u001b[1;32m----> 1\u001b[1;33m \u001b[0mt\u001b[0m\u001b[1;33m.\u001b[0m\u001b[0mm1\u001b[0m\u001b[1;33m(\u001b[0m\u001b[1;36m10\u001b[0m\u001b[1;33m,\u001b[0m\u001b[1;36m20\u001b[0m\u001b[1;33m,\u001b[0m\u001b[1;36m30\u001b[0m\u001b[1;33m,\u001b[0m\u001b[1;36m40\u001b[0m\u001b[1;33m)\u001b[0m \u001b[1;31m# error willl be raised because arguments limited to 3 but we have given 4.\u001b[0m\u001b[1;33m\u001b[0m\u001b[1;33m\u001b[0m\u001b[0m\n\u001b[0m",
      "\u001b[1;31mTypeError\u001b[0m: m1() takes from 1 to 4 positional arguments but 5 were given"
     ]
    }
   ],
   "source": [
    "t.m1(10,20,30,40) # error willl be raised because arguments limited to 4(including self) but we have given 5."
   ]
  },
  {
   "cell_type": "markdown",
   "metadata": {},
   "source": [
    "To give any number of arguments we need we can do it as follows<br>\n",
    "#### Demo Program with Variable Number of Arguments:"
   ]
  },
  {
   "cell_type": "code",
   "execution_count": 7,
   "metadata": {},
   "outputs": [
    {
     "name": "stdout",
     "output_type": "stream",
     "text": [
      "Variable Lenght Argument Method\n",
      "Variable Lenght Argument Method\n",
      "Variable Lenght Argument Method\n",
      "Variable Lenght Argument Method\n",
      "Variable Lenght Argument Method\n"
     ]
    }
   ],
   "source": [
    "class Test:\n",
    "    def m1(self,*args):\n",
    "        print(\"Variable Lenght Arguments Method\")\n",
    "\n",
    "t=Test()\n",
    "t.m1()\n",
    "t.m1(10)\n",
    "t.m1(10,20)\n",
    "t.m1(10,20,30)\n",
    "t.m1(10,20,30,40,50,60)"
   ]
  },
  {
   "cell_type": "code",
   "execution_count": 9,
   "metadata": {},
   "outputs": [
    {
     "name": "stdout",
     "output_type": "stream",
     "text": [
      "The Sum: 0\n",
      "The Sum: 60\n",
      "The Sum: 220\n"
     ]
    }
   ],
   "source": [
    "# Program to add any number of values given\n",
    "\n",
    "class Test:\n",
    "    def sum(self,*args): # internally *args will be coverted to tuple\n",
    "        total = 0\n",
    "        for i in args:\n",
    "            total = total+i\n",
    "        print(\"The Sum:\",total)\n",
    "t=Test()\n",
    "t.sum()\n",
    "t.sum(10,20,30)\n",
    "t.sum(40,50,60,70)\n"
   ]
  },
  {
   "cell_type": "markdown",
   "metadata": {},
   "source": [
    "# 3) Constructor Overloading: \n",
    "⚽ Constructor overloading is not possible in Python.<br>\n",
    "⚽ If we define multiple constructors then the last constructor will be considered."
   ]
  },
  {
   "cell_type": "code",
   "execution_count": 4,
   "metadata": {},
   "outputs": [
    {
     "name": "stdout",
     "output_type": "stream",
     "text": [
      "Two Arg Constructor\n"
     ]
    }
   ],
   "source": [
    "class Test:\n",
    "    def __init__(self): # This won't be considered\n",
    "        print(\"No Arg Constructor\")\n",
    "    def __init__(self,x): # This won't be considered\n",
    "        print(\"One Arg Constructor\")\n",
    "    def __init__(self,x,y): # Only the last constructor method will be considered. \n",
    "        print(\"Two Arg Constructor\")\n",
    "        \n",
    "#t=Test() # This will raise error, since only last constructor method is considered it will expect two arguments\n",
    "#t=Test(10) # This will raise error, since only last constructor method is considered it will expect two arguments\n",
    "t=Test(10,20) # This will execute fine, two arguments are given as needed for the Last Constructor Method"
   ]
  },
  {
   "cell_type": "markdown",
   "metadata": {},
   "source": [
    "- In the above program only Two-Arg Constructor is available.<br>\n",
    "- But based on our requirement we can declare constructor with default arguments and variable number of arguments."
   ]
  },
  {
   "cell_type": "markdown",
   "metadata": {},
   "source": [
    "### Constructor with Default Arguments:"
   ]
  },
  {
   "cell_type": "code",
   "execution_count": 6,
   "metadata": {},
   "outputs": [
    {
     "name": "stdout",
     "output_type": "stream",
     "text": [
      "Constructor with 0|1|2|3 arguments\n",
      "Constructor with 0|1|2|3 arguments\n",
      "Constructor with 0|1|2|3 arguments\n",
      "Constructor with 0|1|2|3 arguments\n"
     ]
    }
   ],
   "source": [
    "class Test:\n",
    "    def __init__(self,a=None,b=None,c=None):\n",
    "        print(\"Constructor with 0|1|2|3 arguments\")\n",
    "        \n",
    "t=Test()\n",
    "t=Test(10)\n",
    "t=Test(10,20)\n",
    "t=Test(10,20,30)"
   ]
  },
  {
   "cell_type": "markdown",
   "metadata": {},
   "source": [
    "### Constructor with Variable Number of Arguments:"
   ]
  },
  {
   "cell_type": "code",
   "execution_count": 7,
   "metadata": {},
   "outputs": [
    {
     "name": "stdout",
     "output_type": "stream",
     "text": [
      "Constructor with variablle Number of arguments\n",
      "Constructor with variablle Number of arguments\n",
      "Constructor with variablle Number of arguments\n",
      "Constructor with variablle Number of arguments\n",
      "Constructor with variablle Number of arguments\n"
     ]
    }
   ],
   "source": [
    "class Test:\n",
    "    def __init__(self,*args):\n",
    "        print(\"Constructor with variablle Number of arguments\")\n",
    "        \n",
    "t=Test()\n",
    "t=Test(10)\n",
    "t=Test(10,20)\n",
    "t=Test(10,20,30)\n",
    "t=Test(10,20,30,40)"
   ]
  },
  {
   "cell_type": "markdown",
   "metadata": {},
   "source": [
    "# Overloading Methods support\n",
    "<img src=\"images/Overloading_Support.png\" width=700>"
   ]
  },
  {
   "cell_type": "markdown",
   "metadata": {},
   "source": [
    "# 3) Overriding\n",
    "### Method Overriding<br>\n",
    "⚽ What ever members available in the parent class are bydefault available to the child class through inheritance. If the child class not satisfied with parent class implementation then child class is allowed to redefine that method in the child class based on its requirement. This concept is called overriding.<br>\n",
    "⚽ Overriding concept applicable for both methods and constructors."
   ]
  },
  {
   "cell_type": "code",
   "execution_count": 1,
   "metadata": {},
   "outputs": [
    {
     "name": "stdout",
     "output_type": "stream",
     "text": [
      "Land+Gold+Cash+Power\n",
      "Appalamma\n"
     ]
    }
   ],
   "source": [
    "class Parent: #These are the things parent has defined to child class.\n",
    "    def Property(self): # Child Very happy with these things\n",
    "        print(\"Land+Gold+Cash+Power\")\n",
    "    def marry(self): # Child not satisfied with marriage with the girl named \"Appalamma\"\n",
    "        print(\"Appalamma\")\n",
    "        \n",
    "class Child(Parent): # Since he is not satisfied, he want to define the girl whom he want to marry.\n",
    "    pass\n",
    "\n",
    "c=Child()\n",
    "c.Property()\n",
    "c.marry()"
   ]
  },
  {
   "cell_type": "code",
   "execution_count": 2,
   "metadata": {},
   "outputs": [
    {
     "name": "stdout",
     "output_type": "stream",
     "text": [
      "Land+Gold+Cash+Power\n",
      "Katrina Kaif\n"
     ]
    }
   ],
   "source": [
    "class Parent: #These are the things parent has defined to child class.\n",
    "    def Property(self): # Child Very happy with these things\n",
    "        print(\"Land+Gold+Cash+Power\")\n",
    "    def marry(self): # Since this method is overridden by Child, This is Called Overridden Method\n",
    "        print(\"Appalamma\")\n",
    "        \n",
    "class Child(Parent):\n",
    "    def marry(self): # Since, Child is redefining the parent method. This is called overriding method.\n",
    "        print(\"Katrina Kaif\")\n",
    "\n",
    "c=Child()\n",
    "c.Property() # This will come from Parent Class itself.\n",
    "c.marry() # This will get the mary method from child class since it is already having it."
   ]
  },
  {
   "cell_type": "markdown",
   "metadata": {},
   "source": [
    "From child class method we can also call parent class method using a sepcial method called super() method."
   ]
  },
  {
   "cell_type": "code",
   "execution_count": 3,
   "metadata": {},
   "outputs": [
    {
     "name": "stdout",
     "output_type": "stream",
     "text": [
      "Land+Gold+Cash+Power\n",
      "Appalamma\n",
      "Katrina Kaif\n"
     ]
    }
   ],
   "source": [
    "class Parent: \n",
    "    def Property(self): \n",
    "        print(\"Land+Gold+Cash+Power\")\n",
    "    def marry(self): \n",
    "        print(\"Appalamma\")\n",
    "        \n",
    "class Child(Parent):\n",
    "    def marry(self):\n",
    "        super().marry() # We can get parent class marry method also with super()\n",
    "        print(\"Katrina Kaif\")\n",
    "\n",
    "c=Child()\n",
    "c.Property()\n",
    "c.marry()"
   ]
  },
  {
   "cell_type": "markdown",
   "metadata": {},
   "source": [
    "### Constructor Overriding"
   ]
  },
  {
   "cell_type": "code",
   "execution_count": 5,
   "metadata": {},
   "outputs": [
    {
     "name": "stdout",
     "output_type": "stream",
     "text": [
      "Parent Constructor\n"
     ]
    }
   ],
   "source": [
    "class Parent:\n",
    "    def __init__(self):\n",
    "        print(\"Parent Constructor\")\n",
    "        \n",
    "class Child(Parent):\n",
    "    pass\n",
    "    \n",
    "c=Child() # Since Child class constructor is not Available, already available parent class constructor will be executed.\n"
   ]
  },
  {
   "cell_type": "code",
   "execution_count": 6,
   "metadata": {},
   "outputs": [
    {
     "name": "stdout",
     "output_type": "stream",
     "text": [
      "Child Constructor\n"
     ]
    }
   ],
   "source": [
    "# if not satisfied with Parent Class Constructor, we can redefine the constructor it in Child class.\n",
    "class Parent:\n",
    "    def __init__(self):\n",
    "        print(\"Parent Constructor\")\n",
    "        \n",
    "class Child(Parent):\n",
    "    def __init__(self):\n",
    "        print(\"Child Constructor\")\n",
    "    \n",
    "c=Child() #Child Class constructor will override the parent class constructor."
   ]
  },
  {
   "cell_type": "code",
   "execution_count": 7,
   "metadata": {},
   "outputs": [
    {
     "name": "stdout",
     "output_type": "stream",
     "text": [
      "Parent Constructor\n",
      "Child Constructor\n"
     ]
    }
   ],
   "source": [
    "# We can call Parent Class Constructor from Child CLass Constructor with special method.\n",
    "class Parent:\n",
    "    def __init__(self):\n",
    "        print(\"Parent Constructor\")\n",
    "        \n",
    "class Child(Parent):\n",
    "    def __init__(self):\n",
    "        super().__init__()\n",
    "        print(\"Child Constructor\")\n",
    "    \n",
    "c=Child() # Both Parent and Child Class Constructor will be executed"
   ]
  },
  {
   "cell_type": "markdown",
   "metadata": {},
   "source": [
    "### Overriding Demo Program"
   ]
  },
  {
   "cell_type": "code",
   "execution_count": 1,
   "metadata": {},
   "outputs": [
    {
     "name": "stdout",
     "output_type": "stream",
     "text": [
      "Name: Sairam\n",
      "Age: 48\n",
      "Height: 5.9\n",
      "Weight: 65\n",
      "Employee Number: 55815\n",
      "Employee Salary: 25000\n"
     ]
    }
   ],
   "source": [
    "class Person:\n",
    "    def __init__(self,name,age,height,weight):\n",
    "        self.name = name\n",
    "        self.age = age\n",
    "        self.height = height\n",
    "        self.weight = weight\n",
    "        \n",
    "    def display(self):\n",
    "        print(\"Name:\",self.name)\n",
    "        print(\"Age:\",self.age)\n",
    "        print(\"Height:\",self.height)\n",
    "        print(\"Weight:\",self.weight)\n",
    "        \n",
    "class Employee(Person):\n",
    "    def __init__(self,name,age,height,weight,eno,esal):#Overriding the parent constructor\n",
    "        self.name = name      \n",
    "        self.age = age\n",
    "        self.height = height\n",
    "        self.weight = weight\n",
    "        self.eno = eno\n",
    "        self.esal = esal\n",
    "        \n",
    "    def display(self): #Overriding the Parent display method\n",
    "        print(\"Name:\",self.name)\n",
    "        print(\"Age:\",self.age)\n",
    "        print(\"Height:\",self.height)\n",
    "        print(\"Weight:\",self.weight)\n",
    "        print(\"Employee Number:\",self.eno)\n",
    "        print(\"Employee Salary:\",self.esal)\n",
    "        \n",
    "e=Employee(\"Sairam\",48,5.9,65,55815,25000)\n",
    "e.display()"
   ]
  },
  {
   "cell_type": "code",
   "execution_count": 3,
   "metadata": {},
   "outputs": [
    {
     "name": "stdout",
     "output_type": "stream",
     "text": [
      "Name: Sairam\n",
      "Age: 25\n",
      "Height: 5.9\n",
      "Weight: 65\n",
      "Employee Number: 55815\n",
      "Employee Salary: 25000\n",
      "\n",
      "Name: Dhana\n",
      "Age: 21\n",
      "Height: 5.2\n",
      "Weight: 40\n",
      "Employee Number: 55816\n",
      "Employee Salary: 10000\n",
      "\n"
     ]
    }
   ],
   "source": [
    "class Person:\n",
    "    def __init__(self,name,age,height,weight):\n",
    "        self.name = name\n",
    "        self.age = age\n",
    "        self.height = height\n",
    "        self.weight = weight\n",
    "        \n",
    "    def display(self):\n",
    "        print(\"Name:\",self.name)\n",
    "        print(\"Age:\",self.age)\n",
    "        print(\"Height:\",self.height)\n",
    "        print(\"Weight:\",self.weight)\n",
    "        \n",
    "class Employee(Person):\n",
    "    def __init__(self,name,age,height,weight,eno,esal):\n",
    "        # super() is responsible for creating the Instance Variables in child class by calling the Constructor from Parent class.\n",
    "        super().__init__(name,age,height,weight) #Instead of rewriting again, we can use super function to get the things done from parent class itlsef. \n",
    "        self.eno = eno # New Inst\n",
    "        self.esal = esal\n",
    "        \n",
    "    def display(self):\n",
    "        # super() is responsible for diplay the first 4 properties of parent class display method in child class by calling the display method from Parent class..\n",
    "        super().display()\n",
    "        print(\"Employee Number:\",self.eno)\n",
    "        print(\"Employee Salary:\",self.esal)\n",
    "        print()\n",
    "        \n",
    "e=Employee(\"Sairam\",25,5.9,65,55815,25000)\n",
    "e.display()\n",
    "e1=Employee(\"Dhana\",21,5.2,40,55816,10000)\n",
    "e1.display()"
   ]
  },
  {
   "cell_type": "markdown",
   "metadata": {},
   "source": [
    "**super() will reduce lenght of the code and improve code readability.**<br><br>\n",
    "<img src=\"images/polymorphism_summary.png\" width=700>"
   ]
  },
  {
   "cell_type": "markdown",
   "metadata": {},
   "source": [
    "# ========================== PART - 4 =========================="
   ]
  },
  {
   "cell_type": "markdown",
   "metadata": {},
   "source": [
    "## Abstraction\n",
    "\n",
    "To understand Abstraction we need to know the following:<br>\n",
    "> 1) Abstract Method<br>\n",
    "> 2) Abstract Class<br>\n",
    "> 3) Interface<br>\n",
    "\n",
    "In general terms, Abstarction means something which is not having completeness. For Example<br>\n",
    "**Project Abstract:** This always talks about the outline of the project, Complete Info about the implementation will not be given.<br>"
   ]
  },
  {
   "cell_type": "markdown",
   "metadata": {},
   "source": [
    "#### Abstract Method:\n",
    "\n",
    "- Sometimes we don't know about implementation, still we can declare a method. Such types of methods are called abstract methods.i.e abstract method has only declaration but not implementation.<br>\n",
    "- In python we can declare abstract method by using **@abstractmethod** decorator as follows.<br>\n",
    "> **@abstractmethod**<br>\n",
    "> **def m1(self): pass**\n",
    "\n",
    "For suppose i have to return the no. of tyres based on the vechile. Now i have the pupose, but i don't know which type of vechile it is so can't return anything just for now. So i have only declaration but no implementation. Such type of methods are called Abstract Methods. <br><br>\n",
    "\n",
    "- @abstractmethod decorator is present in abc module. Hence compulsory we should import abc module,otherwise we will get error.<br> \n",
    "- abc ==> abstract base class module"
   ]
  },
  {
   "cell_type": "code",
   "execution_count": null,
   "metadata": {},
   "outputs": [],
   "source": [
    "class Vechile:\n",
    "    \n",
    "    @abstractmethod\n",
    "    def get_no_of_tyres(self):\n",
    "        pass"
   ]
  },
  {
   "cell_type": "code",
   "execution_count": 8,
   "metadata": {},
   "outputs": [],
   "source": [
    "from abc import abstractmethod\n",
    "\n",
    "class Vechile:\n",
    "    \n",
    "    @abstractmethod\n",
    "    def get_no_of_tyres(self):\n",
    "        pass # since we are not in a position to present implementation, passing for now\n",
    "    "
   ]
  },
  {
   "cell_type": "markdown",
   "metadata": {},
   "source": [
    "**Child classes are responsible to provide implemention for parent class abstract methods.**"
   ]
  },
  {
   "cell_type": "markdown",
   "metadata": {},
   "source": [
    "### Abstract class: \n",
    "Some times implementation of a class is not complete,such type of partially implementation classes are called **abstract classes**. <br><br>\n",
    "Every abstract class in Python should be derived from ABC class which is present in abc module.<br>\n",
    "ABC ===> Abstarct Base Class"
   ]
  },
  {
   "cell_type": "code",
   "execution_count": 11,
   "metadata": {},
   "outputs": [
    {
     "name": "stdout",
     "output_type": "stream",
     "text": [
      "6\n",
      "3\n"
     ]
    }
   ],
   "source": [
    "from abc import *\n",
    "\n",
    "class Vechile(ABC): # Abstract class since it is partially implemented\n",
    "    \n",
    "    # @abstractmethod is declared, then compulsary every child class should provide implemention to Parent Class.\n",
    "    # if removed @abstractmethod, then it is not a abstract method. so child no need to provide implementation.\n",
    "    @abstractmethod #declaring abstarct method with decorator\n",
    "    def get_no_of_tyres(self):\n",
    "        pass\n",
    "    \n",
    "class Bus(Vechile):\n",
    "    def get_no_of_tyres(self):\n",
    "        return 6\n",
    "    \n",
    "class Auto(Vechile):\n",
    "    def get_no_of_tyres(self):\n",
    "        return 3\n",
    "    \n",
    "b=Bus()\n",
    "print(b.get_no_of_tyres())\n",
    "a=Auto()\n",
    "print(a.get_no_of_tyres())"
   ]
  },
  {
   "cell_type": "markdown",
   "metadata": {},
   "source": [
    "**What is th advantage of declaring abstarct methods in Parent class?**<br>\n",
    "- By declaring abstarct methods in parent class we can provide guidelines to the child classes, such that which method compulsarily the child classes should implement. <br>In the above example, **get_no_of_tyres** is declared with abstractmethod decorator in parent class so definitely, child classes Bus and Auto has to provide implementation as above."
   ]
  },
  {
   "cell_type": "code",
   "execution_count": 13,
   "metadata": {},
   "outputs": [
    {
     "ename": "TypeError",
     "evalue": "Can't instantiate abstract class Bus with abstract methods get_no_of_tyres",
     "output_type": "error",
     "traceback": [
      "\u001b[1;31m---------------------------------------------------------------------------\u001b[0m",
      "\u001b[1;31mTypeError\u001b[0m                                 Traceback (most recent call last)",
      "\u001b[1;32m<ipython-input-13-2f53d4ab8c10>\u001b[0m in \u001b[0;36m<module>\u001b[1;34m\u001b[0m\n\u001b[0;32m     11\u001b[0m     \u001b[1;32mpass\u001b[0m\u001b[1;33m\u001b[0m\u001b[1;33m\u001b[0m\u001b[0m\n\u001b[0;32m     12\u001b[0m \u001b[1;33m\u001b[0m\u001b[0m\n\u001b[1;32m---> 13\u001b[1;33m \u001b[0mb\u001b[0m\u001b[1;33m=\u001b[0m\u001b[0mBus\u001b[0m\u001b[1;33m(\u001b[0m\u001b[1;33m)\u001b[0m \u001b[1;31m# This will raise an error, since child class is not providing the implementation tough the @abstarctmethod is declared.\u001b[0m\u001b[1;33m\u001b[0m\u001b[1;33m\u001b[0m\u001b[0m\n\u001b[0m",
      "\u001b[1;31mTypeError\u001b[0m: Can't instantiate abstract class Bus with abstract methods get_no_of_tyres"
     ]
    }
   ],
   "source": [
    "from abc import *\n",
    "\n",
    "class Vechile(ABC): # Abstract class since it is partially implemented\n",
    "    \n",
    "    # @abstractmethod is declared, then compulsary every child class should provide implemention to Parent Class.\n",
    "    @abstractmethod\n",
    "    def get_no_of_tyres(self):\n",
    "        pass\n",
    "    \n",
    "class Bus(Vechile):\n",
    "    pass\n",
    "\n",
    "b=Bus() # This will raise an error, since child class is not providing the implementation tough the @abstarctmethod is declared.\n"
   ]
  },
  {
   "cell_type": "code",
   "execution_count": 12,
   "metadata": {},
   "outputs": [],
   "source": [
    "from abc import *\n",
    "\n",
    "class Vechile(ABC): # this is Abstract class, since it is partially implemented\n",
    "    \n",
    "    \n",
    "    # if removed @abstractmethod, then it is not a abstract method. so child no need to provide implementation.\n",
    "    \n",
    "    def get_no_of_tyres(self):\n",
    "        pass\n",
    "    \n",
    "class Bus(Vechile):\n",
    "    pass\n",
    "\n",
    "b=Bus() # No error will be raised, since there is no abstarct method decorator in parent class. child can implement or maynot implement doesn't matter.\n"
   ]
  },
  {
   "cell_type": "markdown",
   "metadata": {},
   "source": [
    "### Important Conclusions of Abstract Method and Abstract Class"
   ]
  },
  {
   "cell_type": "code",
   "execution_count": 1,
   "metadata": {},
   "outputs": [],
   "source": [
    "class Test:\n",
    "    pass\n",
    "\n",
    "t=Test()"
   ]
  },
  {
   "cell_type": "markdown",
   "metadata": {},
   "source": [
    "In the above code we can create object for Test class b'z it is concrete class and it does not conatin any abstract method."
   ]
  },
  {
   "cell_type": "code",
   "execution_count": 2,
   "metadata": {},
   "outputs": [],
   "source": [
    "from abc import *\n",
    "class Test(ABC):\n",
    "    pass\n",
    "\n",
    "t=Test() # Object creation is still possible even after extending from ABC Module, because no abstract method is declared."
   ]
  },
  {
   "cell_type": "markdown",
   "metadata": {},
   "source": [
    "In the above code we can create object, even it is derived from ABC class,b'z it does not contain any abstract method.<br><br>\n",
    "**Note:** An Abstarct class can contain zero number of abstract methods also."
   ]
  },
  {
   "cell_type": "code",
   "execution_count": 3,
   "metadata": {},
   "outputs": [
    {
     "ename": "TypeError",
     "evalue": "Can't instantiate abstract class Test with abstract methods m1",
     "output_type": "error",
     "traceback": [
      "\u001b[1;31m---------------------------------------------------------------------------\u001b[0m",
      "\u001b[1;31mTypeError\u001b[0m                                 Traceback (most recent call last)",
      "\u001b[1;32m<ipython-input-3-cfe732c764ad>\u001b[0m in \u001b[0;36m<module>\u001b[1;34m\u001b[0m\n\u001b[0;32m      5\u001b[0m         \u001b[1;32mpass\u001b[0m\u001b[1;33m\u001b[0m\u001b[1;33m\u001b[0m\u001b[0m\n\u001b[0;32m      6\u001b[0m \u001b[1;33m\u001b[0m\u001b[0m\n\u001b[1;32m----> 7\u001b[1;33m \u001b[0mt\u001b[0m\u001b[1;33m=\u001b[0m\u001b[0mTest\u001b[0m\u001b[1;33m(\u001b[0m\u001b[1;33m)\u001b[0m\u001b[1;33m\u001b[0m\u001b[1;33m\u001b[0m\u001b[0m\n\u001b[0m",
      "\u001b[1;31mTypeError\u001b[0m: Can't instantiate abstract class Test with abstract methods m1"
     ]
    }
   ],
   "source": [
    "from abc import *\n",
    "class Test(ABC):\n",
    "    @abstractmethod\n",
    "    def m1(self):\n",
    "        pass\n",
    "    \n",
    "t=Test()"
   ]
  },
  {
   "cell_type": "markdown",
   "metadata": {},
   "source": [
    "In the above code we can't create object if Abstract class is extended with ABC and if it contain abstract method.<br>\n",
    "Because, we can't create an object partially implemented"
   ]
  },
  {
   "cell_type": "code",
   "execution_count": 5,
   "metadata": {},
   "outputs": [],
   "source": [
    "from abc import *\n",
    "class Test:\n",
    "    @abstractmethod\n",
    "    def m1(self):\n",
    "        pass\n",
    "    \n",
    "t=Test()"
   ]
  },
  {
   "cell_type": "markdown",
   "metadata": {},
   "source": [
    "We can create object even class contains abstract method b'z we are not extending ABC class."
   ]
  },
  {
   "cell_type": "code",
   "execution_count": 6,
   "metadata": {},
   "outputs": [
    {
     "name": "stdout",
     "output_type": "stream",
     "text": [
      "Hello\n"
     ]
    }
   ],
   "source": [
    "from abc import *\n",
    "class Test:\n",
    "    @abstractmethod\n",
    "    def m1(self):\n",
    "        print(\"Hello\")\n",
    "    \n",
    "t=Test()\n",
    "t.m1()"
   ]
  },
  {
   "cell_type": "markdown",
   "metadata": {},
   "source": [
    "**Conclusion:** <br>\n",
    "If a class contains atleast one abstract method and if we are extending ABC class then instantiation is not possible.<br>\n",
    "\"abstract class with abstract method instantiation is not possible\"<br><br>\n",
    "Parent class abstract methods should be implemented in the child classes. Otherwise we cannot instantiate child class.If we are not creating child class object then we won't get any error."
   ]
  },
  {
   "cell_type": "code",
   "execution_count": 7,
   "metadata": {},
   "outputs": [
    {
     "ename": "TypeError",
     "evalue": "Can't instantiate abstract class SubTest with abstract methods m1",
     "output_type": "error",
     "traceback": [
      "\u001b[1;31m---------------------------------------------------------------------------\u001b[0m",
      "\u001b[1;31mTypeError\u001b[0m                                 Traceback (most recent call last)",
      "\u001b[1;32m<ipython-input-7-1985df33d179>\u001b[0m in \u001b[0;36m<module>\u001b[1;34m\u001b[0m\n\u001b[0;32m      8\u001b[0m     \u001b[1;32mpass\u001b[0m\u001b[1;33m\u001b[0m\u001b[1;33m\u001b[0m\u001b[0m\n\u001b[0;32m      9\u001b[0m \u001b[1;33m\u001b[0m\u001b[0m\n\u001b[1;32m---> 10\u001b[1;33m \u001b[0mt\u001b[0m\u001b[1;33m=\u001b[0m\u001b[0mSubTest\u001b[0m\u001b[1;33m(\u001b[0m\u001b[1;33m)\u001b[0m\u001b[1;33m\u001b[0m\u001b[1;33m\u001b[0m\u001b[0m\n\u001b[0m",
      "\u001b[1;31mTypeError\u001b[0m: Can't instantiate abstract class SubTest with abstract methods m1"
     ]
    }
   ],
   "source": [
    "from abc import *\n",
    "class Test(ABC):\n",
    "    @abstractmethod\n",
    "    def m1(self):\n",
    "        pass\n",
    "    \n",
    "class SubTest(Test):\n",
    "    pass\n",
    "\n",
    "t=SubTest() # Error will be raised \n",
    "# Since Child class doesn't contain any implementation for parent class abstract method, hence object creation is not possible"
   ]
  },
  {
   "cell_type": "code",
   "execution_count": 8,
   "metadata": {},
   "outputs": [
    {
     "ename": "TypeError",
     "evalue": "Can't instantiate abstract class SubTest with abstract methods m2",
     "output_type": "error",
     "traceback": [
      "\u001b[1;31m---------------------------------------------------------------------------\u001b[0m",
      "\u001b[1;31mTypeError\u001b[0m                                 Traceback (most recent call last)",
      "\u001b[1;32m<ipython-input-8-dd4be6f86950>\u001b[0m in \u001b[0;36m<module>\u001b[1;34m\u001b[0m\n\u001b[0;32m     13\u001b[0m         \u001b[0mprint\u001b[0m\u001b[1;33m(\u001b[0m\u001b[1;34m\"m1 method implementation\"\u001b[0m\u001b[1;33m)\u001b[0m\u001b[1;33m\u001b[0m\u001b[1;33m\u001b[0m\u001b[0m\n\u001b[0;32m     14\u001b[0m \u001b[1;33m\u001b[0m\u001b[0m\n\u001b[1;32m---> 15\u001b[1;33m \u001b[0ms\u001b[0m \u001b[1;33m=\u001b[0m \u001b[0mSubTest\u001b[0m\u001b[1;33m(\u001b[0m\u001b[1;33m)\u001b[0m\u001b[1;33m\u001b[0m\u001b[1;33m\u001b[0m\u001b[0m\n\u001b[0m\u001b[0;32m     16\u001b[0m \u001b[0ms\u001b[0m\u001b[1;33m.\u001b[0m\u001b[0mm1\u001b[0m\u001b[1;33m(\u001b[0m\u001b[1;33m)\u001b[0m\u001b[1;33m\u001b[0m\u001b[1;33m\u001b[0m\u001b[0m\n",
      "\u001b[1;31mTypeError\u001b[0m: Can't instantiate abstract class SubTest with abstract methods m2"
     ]
    }
   ],
   "source": [
    "from abc import *\n",
    "class Test(ABC):\n",
    "    @abstractmethod\n",
    "    def m1(self):\n",
    "        pass\n",
    "    \n",
    "    @abstractmethod\n",
    "    def m2(self):\n",
    "        pass\n",
    "    \n",
    "class SubTest(Test):\n",
    "    def m1(self):\n",
    "        print(\"m1 method implementation\")\n",
    "        \n",
    "s = SubTest()\n",
    "s.m1()\n",
    "# we have declared two abstract methods in parent class, so implementation should be provided for both the methods.\n",
    "# Since we have provided implementation only for m1 and not for m2, Error will be raised."
   ]
  },
  {
   "cell_type": "code",
   "execution_count": 9,
   "metadata": {},
   "outputs": [
    {
     "name": "stdout",
     "output_type": "stream",
     "text": [
      "m1 method implementation\n",
      "m2 method implementation\n"
     ]
    }
   ],
   "source": [
    "from abc import *\n",
    "class Test(ABC):\n",
    "    @abstractmethod\n",
    "    def m1(self):\n",
    "        pass\n",
    "    \n",
    "    @abstractmethod\n",
    "    def m2(self):\n",
    "        pass\n",
    "    \n",
    "class SubTest(Test):\n",
    "    def m1(self):\n",
    "        print(\"m1 method implementation\")\n",
    "        \n",
    "    def m2(self):\n",
    "        print(\"m2 method implementation\")\n",
    "\n",
    "s = SubTest()\n",
    "s.m1()\n",
    "s.m2()\n",
    "# This will work fine since implementation provided for both m1 and m2 methods."
   ]
  },
  {
   "cell_type": "markdown",
   "metadata": {},
   "source": [
    "If we provide implementation for every abstract method of parent class, then the child class will become concrete class and we can create objects and we can call the methods."
   ]
  },
  {
   "cell_type": "code",
   "execution_count": 10,
   "metadata": {},
   "outputs": [
    {
     "name": "stdout",
     "output_type": "stream",
     "text": [
      "Non-Abstract Method\n",
      "m2 method implementation\n"
     ]
    }
   ],
   "source": [
    "from abc import *\n",
    "\n",
    "# An Abstarct Class can contain, both abstract methods and non-abstract methods also.\n",
    "# Child Class is responsible for providing implementation to abstarct method in parent class.\n",
    "class Test(ABC):\n",
    "    # Non- Abstract method\n",
    "    def m1(self):\n",
    "        print(\"Non-Abstract Method\")\n",
    "    \n",
    "    # Abstarct Method, Child is responsible for providing implementation only for m2 method.\n",
    "    @abstractmethod\n",
    "    def m2(self):\n",
    "        pass\n",
    "    \n",
    "class SubTest(Test):\n",
    "        \n",
    "    def m2(self):\n",
    "        print(\"m2 method implementation\")\n",
    "\n",
    "s = SubTest()\n",
    "s.m1()\n",
    "s.m2()"
   ]
  },
  {
   "cell_type": "markdown",
   "metadata": {},
   "source": [
    "<span style=\"color:red\">**Can a class contain both abstract and non-abstract methods ?**</span><br>\n",
    "**Ans:** Yes<br>\n",
    "**Note:** If a class contains both abstract and non-abstract methods then child class is responsible to provide implementation only for abstact methods. Otherwise, child class will be abstract and will not be able to create objects."
   ]
  },
  {
   "cell_type": "markdown",
   "metadata": {},
   "source": [
    "## Interfaces In Python:<br>\n",
    "In general if an abstract class contains only abstract methods such type of abstract class is considered as interface.<br><br>\n",
    "100% pure abstract class in nothing but interface.<br><br>\n",
    "Interface simply acts as Service Requirement Specification(SRS)."
   ]
  },
  {
   "cell_type": "code",
   "execution_count": 11,
   "metadata": {},
   "outputs": [],
   "source": [
    "class Test(ABC): \n",
    "    def m1(self):\n",
    "        print(\"Hi\")\n",
    "        \n",
    "    @abstractmethod\n",
    "    def m2(self):\n",
    "        pass\n",
    "    \n",
    "# This is just and abstract class not an interface since both abstract and non-abstarct methods are present."
   ]
  },
  {
   "cell_type": "code",
   "execution_count": 14,
   "metadata": {},
   "outputs": [],
   "source": [
    "class Test(ABC):\n",
    "    @abstractmethod\n",
    "    def m1(self):\n",
    "        pass\n",
    "    \n",
    "    @abstractmethod\n",
    "    def m2(self):\n",
    "        pass\n",
    "\n",
    "# This is an Interface, since both are abstarct methods in abstract class."
   ]
  },
  {
   "cell_type": "markdown",
   "metadata": {},
   "source": [
    "### What is the purpose of Interface ?\n",
    "\n",
    "For example: One client came and said that he want an college automation sysem with the following services.<br>\n",
    "\n",
    "**CollegeAutomationSystem:**<br>\n",
    "> - getStudentAttendance()<br>\n",
    "> - updateStudentAttendance()<br>\n",
    "> - getMarks()<br>\n",
    "> - updateMarks()<br>\n",
    "> - getFeeInfo()<br>\n",
    "> - updateFeeInfo()<br><br>\n",
    "\n",
    "At the Top Level, we are simply collecting the requirements and creating an Interface i.e an Abstarct Class and respective Abstact methods.<br>\n",
    "Some Low Level developers are responsible for providing implementation to these abstact methods.\n"
   ]
  },
  {
   "cell_type": "code",
   "execution_count": 15,
   "metadata": {},
   "outputs": [
    {
     "name": "stdout",
     "output_type": "stream",
     "text": [
      "m1 method\n",
      "m2 method\n",
      "m3 method\n"
     ]
    }
   ],
   "source": [
    "# Lets understand with example\n",
    "from abc import *\n",
    "\n",
    "class CollegeAutomationSystem(ABC):\n",
    "    @abstractmethod\n",
    "    def m1(self):\n",
    "        pass\n",
    "    @abstractmethod\n",
    "    def m2(self):\n",
    "        pass\n",
    "    @abstractmethod\n",
    "    def m3(self):\n",
    "        pass\n",
    "\n",
    "# Above is the requirement, so any other developers can implement for us.\n",
    "# lets say SmartCode is the company cameup to implement code for above requirements.\n",
    "\n",
    "class SmartCode(CollegeAutomationSystem):\n",
    "    def m1(self):\n",
    "        print(\"m1 method\")\n",
    "    def m2(self):\n",
    "        print(\"m2 method\")\n",
    "    def m3(self):\n",
    "        print(\"m3 method\")\n",
    "        \n",
    "d = SmartCode()\n",
    "d.m1()\n",
    "d.m2()\n",
    "d.m3()"
   ]
  },
  {
   "cell_type": "code",
   "execution_count": 16,
   "metadata": {},
   "outputs": [
    {
     "name": "stdout",
     "output_type": "stream",
     "text": [
      "Enter Database Name:Oracle\n",
      "Connecting to Oracle Database....\n",
      "Disconnecting to Oracle Database....\n"
     ]
    }
   ],
   "source": [
    "# Example 2\n",
    "\n",
    "from abc import *\n",
    "\n",
    "class DBInterface(ABC):\n",
    "    @abstractmethod\n",
    "    def connect(self):pass\n",
    "    \n",
    "    @abstractmethod\n",
    "    def disconnect(self):pass\n",
    "    \n",
    "class Oracle(DBInterface):\n",
    "    def connect(self):\n",
    "        print(\"Connecting to Oracle Database....\")\n",
    "    def disconnect(self):\n",
    "        print(\"Disconnecting to Oracle Database....\")\n",
    "        \n",
    "class Sybase(DBInterface):\n",
    "    def connect(self):\n",
    "        print(\"Connecting to Sybase Database....\")\n",
    "    def disconnect(self):\n",
    "        print(\"Disconnecting to Sybase Database....\")\n",
    "\n",
    "        \n",
    "dbname = input(\"Enter Database Name:\")\n",
    "classname = globals()[dbname]\n",
    "x=classname()\n",
    "x.connect()\n",
    "x.disconnect()"
   ]
  },
  {
   "cell_type": "markdown",
   "metadata": {},
   "source": [
    "## Concreate class vs Abstract Class vs Inteface:\n",
    "1) If we dont know anything about implementation just we have requirement specification then we should go for **interface**. <br>\n",
    "> **Example:** we have a plan for building 100 floors building in 10 Years. This plan is example for **Interface****\n",
    "\n",
    "2) If we are talking about implementation but not completely then we should go for **abstract class**. (partially implemented class). <br>\n",
    "> **Example:** after 5 years only 75 floors are built 25 floors are still remaining. This building is partially implemented for the same 100 Floors plan . This is example for **Abstract Class**\n",
    "\n",
    "3) If we are talking about implementation completely and ready to provide service then we should go for **concrete class**.<br>\n",
    "> **Example:** after 10 Years, Building is completly ready as per the required plan. This is example for **Concrete Class**"
   ]
  },
  {
   "cell_type": "code",
   "execution_count": 18,
   "metadata": {},
   "outputs": [
    {
     "name": "stdout",
     "output_type": "stream",
     "text": [
      "m1 method implementation\n",
      "m2 method implementation\n",
      "m3 method implementation\n"
     ]
    }
   ],
   "source": [
    "from abc import *\n",
    "\n",
    "class Interface(ABC):\n",
    "    @abstractmethod\n",
    "    def m1(self):\n",
    "        pass\n",
    "    @abstractmethod\n",
    "    def m2(self):\n",
    "        pass\n",
    "    @abstractmethod\n",
    "    def m3(self):\n",
    "        pass\n",
    "\n",
    "\n",
    "class AbstractClass(CollegeAutomation):\n",
    "    def m1(self):\n",
    "        print(\"m1 method implementation\")\n",
    "    def m2(self):\n",
    "        print(\"m2 method implementation\")\n",
    "        \n",
    "class ConcreteClass(AbstractClass):\n",
    "    def m3(self):\n",
    "        print(\"m3 method implementation\")\n",
    "        \n",
    "d = ConcreteClass()\n",
    "d.m1()\n",
    "d.m2()\n",
    "d.m3()"
   ]
  },
  {
   "cell_type": "markdown",
   "metadata": {},
   "source": [
    "# Public, Protected and Private Attributes:\n",
    "\n",
    "### Public Members\n",
    "By default every attribute or method is public. We can access from anywhere either within the class or from outside of the class.<br>\n",
    "**Eg:** name = 'durga'"
   ]
  },
  {
   "cell_type": "code",
   "execution_count": 21,
   "metadata": {},
   "outputs": [
    {
     "name": "stdout",
     "output_type": "stream",
     "text": [
      "10\n",
      "Public Method\n",
      "10\n",
      "Public Method\n"
     ]
    }
   ],
   "source": [
    "class Test:\n",
    "    def __init__(self):\n",
    "        self.x=10 # By default this Instance variable is public\n",
    "        \n",
    "    def m1(self): # By default method is a public method\n",
    "        print(\"Public Method\")\n",
    "        \n",
    "    def m2(self):\n",
    "        print(self.x) # Accessing public member x within the class\n",
    "        self.m1() # accessing public method within the class\n",
    "        \n",
    "t=Test()\n",
    "t.m2()\n",
    "print(t.x) # Aceesing from outside of the class\n",
    "t.m1() # Accesng method from outside of class"
   ]
  },
  {
   "cell_type": "markdown",
   "metadata": {},
   "source": [
    "### Private Members\n",
    "\n",
    "private attributes can be accessed only within the class.i.e from outside of the class we cannot access. We can declare a variable as private explicitly by prefexing with 2 underscore symbols.<br>\n",
    "**Syntax:** \\_\\_variablename=value"
   ]
  },
  {
   "cell_type": "code",
   "execution_count": 25,
   "metadata": {},
   "outputs": [
    {
     "name": "stdout",
     "output_type": "stream",
     "text": [
      "10\n",
      "<bound method Test.__m1 of <__main__.Test object at 0x0000014523BE57F0>>\n"
     ]
    },
    {
     "ename": "AttributeError",
     "evalue": "'Test' object has no attribute '__x'",
     "output_type": "error",
     "traceback": [
      "\u001b[1;31m---------------------------------------------------------------------------\u001b[0m",
      "\u001b[1;31mAttributeError\u001b[0m                            Traceback (most recent call last)",
      "\u001b[1;32m<ipython-input-25-7efbde31ac22>\u001b[0m in \u001b[0;36m<module>\u001b[1;34m\u001b[0m\n\u001b[0;32m     12\u001b[0m \u001b[0mt\u001b[0m\u001b[1;33m=\u001b[0m\u001b[0mTest\u001b[0m\u001b[1;33m(\u001b[0m\u001b[1;33m)\u001b[0m\u001b[1;33m\u001b[0m\u001b[1;33m\u001b[0m\u001b[0m\n\u001b[0;32m     13\u001b[0m \u001b[0mt\u001b[0m\u001b[1;33m.\u001b[0m\u001b[0mm2\u001b[0m\u001b[1;33m(\u001b[0m\u001b[1;33m)\u001b[0m \u001b[1;31m#m2 is a public method, we can call it from outside\u001b[0m\u001b[1;33m\u001b[0m\u001b[1;33m\u001b[0m\u001b[0m\n\u001b[1;32m---> 14\u001b[1;33m \u001b[0mprint\u001b[0m\u001b[1;33m(\u001b[0m\u001b[0mt\u001b[0m\u001b[1;33m.\u001b[0m\u001b[0m__x\u001b[0m\u001b[1;33m)\u001b[0m \u001b[1;31m# Will raise an error, since it is an private member.it cannot be accessed from outside.\u001b[0m\u001b[1;33m\u001b[0m\u001b[1;33m\u001b[0m\u001b[0m\n\u001b[0m",
      "\u001b[1;31mAttributeError\u001b[0m: 'Test' object has no attribute '__x'"
     ]
    }
   ],
   "source": [
    "class Test:\n",
    "    def __init__(self):\n",
    "        self.__x = 10 # Private Variable\n",
    "        \n",
    "    def __m1(self): # Private Method\n",
    "        print(\"It is Private Method\")\n",
    "        \n",
    "    def m2(self):\n",
    "        print(self.__x) # Accessing private member x within the class\n",
    "        print(self.__m1) # accessing private method within the class\n",
    "        \n",
    "t=Test()\n",
    "t.m2() #m2 is a public method, we can call it from outside\n",
    "print(t.__x) # Will raise an error, since it is an private member.it cannot be accessed from outside."
   ]
  },
  {
   "cell_type": "code",
   "execution_count": 26,
   "metadata": {},
   "outputs": [
    {
     "ename": "AttributeError",
     "evalue": "'Test' object has no attribute '__m1'",
     "output_type": "error",
     "traceback": [
      "\u001b[1;31m---------------------------------------------------------------------------\u001b[0m",
      "\u001b[1;31mAttributeError\u001b[0m                            Traceback (most recent call last)",
      "\u001b[1;32m<ipython-input-26-7f3fdb5dfd35>\u001b[0m in \u001b[0;36m<module>\u001b[1;34m\u001b[0m\n\u001b[1;32m----> 1\u001b[1;33m \u001b[0mt\u001b[0m\u001b[1;33m.\u001b[0m\u001b[0m__m1\u001b[0m\u001b[1;33m(\u001b[0m\u001b[1;33m)\u001b[0m \u001b[1;31m# Will raise an error, since it is an private method. it cannot be accessed from outside.\u001b[0m\u001b[1;33m\u001b[0m\u001b[1;33m\u001b[0m\u001b[0m\n\u001b[0m",
      "\u001b[1;31mAttributeError\u001b[0m: 'Test' object has no attribute '__m1'"
     ]
    }
   ],
   "source": [
    "t.__m1() # Will raise an error, since it is an private method. it cannot be accessed from outside."
   ]
  },
  {
   "cell_type": "markdown",
   "metadata": {},
   "source": [
    "### How to Access Private Variables from Outside of the Class:\n",
    "We cannot access private variables directly from outside of the class. <br>\n",
    "But we can access indirectly as follows **objectreference._classname__variablename**<br><br>\n",
    "\n",
    "Name Mangling will be happened for the private variables. Hence every private variable name will be changed to new name.<br>\n",
    "**\\_\\_VariableName ====> \\_ClassName__VariableName**<br><br>\n",
    "Hence we can access private variable fom outside of the class as follows:<br>\n",
    "print(objectreference._classname__variablename)"
   ]
  },
  {
   "cell_type": "code",
   "execution_count": 27,
   "metadata": {},
   "outputs": [
    {
     "name": "stdout",
     "output_type": "stream",
     "text": [
      "10\n"
     ]
    }
   ],
   "source": [
    "# We can access private members from outside by knowing a small internal working technique called Name Mangling.\n",
    "print(t._Test__x) # internally __x will be converted to _Test__x, so we can use it directly from outside."
   ]
  },
  {
   "cell_type": "code",
   "execution_count": 28,
   "metadata": {},
   "outputs": [
    {
     "name": "stdout",
     "output_type": "stream",
     "text": [
      "It is Private Method\n"
     ]
    }
   ],
   "source": [
    "t._Test__m1() # Accessing private method from outside the class using Name Mangling concept."
   ]
  },
  {
   "cell_type": "markdown",
   "metadata": {},
   "source": [
    "### Protected Members\n",
    "\n",
    "Protected attributes can be accessed within the class anywhere but from outside of the class only in child classes. We can specify an attribute as protected by prefexing with one _ symbol.<br>\n",
    "**Syntax:** _variablename = value <br>\n",
    "**Eg:** _name='durga'<br><br>\n",
    "\n",
    "But it is just naming convention and it is not implemented in python, may be for the future versions purpose."
   ]
  },
  {
   "cell_type": "code",
   "execution_count": 31,
   "metadata": {},
   "outputs": [
    {
     "name": "stdout",
     "output_type": "stream",
     "text": [
      "10\n",
      "10\n"
     ]
    }
   ],
   "source": [
    "class Test:\n",
    "    def __init__(self):\n",
    "        self._x = 10\n",
    "    def m1(self):\n",
    "        print(self._x)\n",
    "        \n",
    "class SubTest(Test):\n",
    "    def m2(self):\n",
    "        print(self._x)\n",
    "        \n",
    "t=SubTest()\n",
    "t.m1()\n",
    "t.m2()"
   ]
  },
  {
   "cell_type": "markdown",
   "metadata": {},
   "source": [
    "# Data Hiding\n",
    "\n",
    "Outside person should not access data directly or our internal data should not go out directly. This concept is called **Data Hiding**<br><br>This OOP feature is nothing but data hiding.<br><br>\n",
    "By declaring data members as private, we can implement **Data Hiding**."
   ]
  },
  {
   "cell_type": "code",
   "execution_count": 32,
   "metadata": {},
   "outputs": [
    {
     "name": "stdout",
     "output_type": "stream",
     "text": [
      "10000\n"
     ]
    }
   ],
   "source": [
    "class Account:\n",
    "    def __init__(self,initial_balance):\n",
    "        self.balance = initial_balance\n",
    "        \n",
    "a=Account(10000)\n",
    "print(a.balance)"
   ]
  },
  {
   "cell_type": "markdown",
   "metadata": {},
   "source": [
    "Above code is not a good practice because, any out side person can directly access the account balance. We need some authentication to display the data in the account.<br><br>"
   ]
  },
  {
   "cell_type": "code",
   "execution_count": 34,
   "metadata": {},
   "outputs": [
    {
     "ename": "AttributeError",
     "evalue": "'Account' object has no attribute '__balance'",
     "output_type": "error",
     "traceback": [
      "\u001b[1;31m---------------------------------------------------------------------------\u001b[0m",
      "\u001b[1;31mAttributeError\u001b[0m                            Traceback (most recent call last)",
      "\u001b[1;32m<ipython-input-34-1d48f94dc5eb>\u001b[0m in \u001b[0;36m<module>\u001b[1;34m\u001b[0m\n\u001b[0;32m      4\u001b[0m \u001b[1;33m\u001b[0m\u001b[0m\n\u001b[0;32m      5\u001b[0m \u001b[0ma\u001b[0m\u001b[1;33m=\u001b[0m\u001b[0mAccount\u001b[0m\u001b[1;33m(\u001b[0m\u001b[1;36m10000\u001b[0m\u001b[1;33m)\u001b[0m\u001b[1;33m\u001b[0m\u001b[1;33m\u001b[0m\u001b[0m\n\u001b[1;32m----> 6\u001b[1;33m \u001b[0mprint\u001b[0m\u001b[1;33m(\u001b[0m\u001b[0ma\u001b[0m\u001b[1;33m.\u001b[0m\u001b[0m__balance\u001b[0m\u001b[1;33m)\u001b[0m \u001b[1;31m# Error will be raised as we are trying to access private member.\u001b[0m\u001b[1;33m\u001b[0m\u001b[1;33m\u001b[0m\u001b[0m\n\u001b[0m",
      "\u001b[1;31mAttributeError\u001b[0m: 'Account' object has no attribute '__balance'"
     ]
    }
   ],
   "source": [
    "class Account:\n",
    "    def __init__(self,initial_balance):\n",
    "        self.__balance = initial_balance # Balance is privatized so it can't be accessed from outside directly\n",
    "        \n",
    "a=Account(10000)\n",
    "print(a.__balance) # Error will be raised as we are trying to access private member."
   ]
  },
  {
   "cell_type": "code",
   "execution_count": 35,
   "metadata": {},
   "outputs": [
    {
     "name": "stdout",
     "output_type": "stream",
     "text": [
      "10000\n"
     ]
    }
   ],
   "source": [
    "class Account:\n",
    "    def __init__(self,initial_balance):\n",
    "        self.__balance = initial_balance # Balance is privatized so it can't be accessed from outside directly\n",
    "    def getBalance(self):\n",
    "        # we can write the validation or authentication code in this method.\n",
    "        # if the person is valid, can display balance otherwise not\n",
    "        return self.__balance\n",
    "    \n",
    "a=Account(10000)\n",
    "#print(a.__balance)\n",
    "print(a.getBalance()) # Accessing the data by calling the method."
   ]
  },
  {
   "cell_type": "markdown",
   "metadata": {},
   "source": [
    "Security is the biggest advantage of Data Hiding."
   ]
  },
  {
   "cell_type": "markdown",
   "metadata": {},
   "source": [
    "# Abstraction\n",
    "\n",
    "Abstraction is used to hide the internal functionality of the function from the users. The users only interact with the basic implementation of the function, but inner working is hidden. User is familiar with that \"what function does\" but they don't know \"how it does.\"<br><br>\n",
    "\n",
    "Hiding Internal Implementation and just highlight the set of services is the concept of Abstraction<br><br>\n",
    "\n",
    "**Example 1:** Through Bank ATM GUI Screen,Bank people are highlighting the set of services what they are offering like cash withdrawl, balance enquiry etc  without highlighting internal implementation. This is nothing but Abstraction<br><br>\n",
    "\n",
    "**Example 2:** In simple words, we all use the smartphone and very much familiar with its functions such as camera, voice-recorder, call-dialing, etc., but we don't know how these operations are happening in the background. Let's take another example - When we use the TV remote to increase the volume. We don't know how pressing a key increases the volume of the TV. We only know to press the \"+\" button to increase the volume.<br><br>\n",
    "\n",
    "**Why Abstraction is Important?**<br>\n",
    "In Python, an abstraction is used to hide the irrelevant data/class in order to reduce the complexity. It also enhances the application efficiency. Next, we will learn how we can achieve abstraction using the Python program.<br><br>\n",
    "\n",
    "**Advantages of Abstraction:**<br>\n",
    "1) **Security**: Internal implementation will not be revealed or displayed<br>\n",
    "2) **Enhancement**: without effecting end user, we can perform any type of changes in the internal implementation.<br>\n",
    "3) Maintainability and moduarity of the application will be very easy.<br>"
   ]
  },
  {
   "cell_type": "code",
   "execution_count": 2,
   "metadata": {},
   "outputs": [
    {
     "name": "stdout",
     "output_type": "stream",
     "text": [
      "The mileage is 30kmph\n",
      "The mileage is 27kmph \n",
      "The mileage is 25kmph \n",
      "The mileage is 24kmph \n"
     ]
    }
   ],
   "source": [
    "from abc import ABC, abstractmethod   \n",
    "class Car(ABC):   \n",
    "    def mileage(self):   \n",
    "        pass  \n",
    "class Tesla(Car):   \n",
    "    def mileage(self):   \n",
    "        print(\"The mileage is 30kmph\")   \n",
    "class Suzuki(Car):   \n",
    "    def mileage(self):   \n",
    "        print(\"The mileage is 25kmph \")   \n",
    "class Duster(Car):   \n",
    "     def mileage(self):   \n",
    "        print(\"The mileage is 24kmph \")   \n",
    "class Renault(Car):   \n",
    "    def mileage(self):   \n",
    "        print(\"The mileage is 27kmph \")   \n",
    "          \n",
    "# Driver code   \n",
    "t= Tesla ()   \n",
    "t.mileage()   \n",
    "  \n",
    "r = Renault()   \n",
    "r.mileage()   \n",
    "  \n",
    "s = Suzuki()   \n",
    "s.mileage() \n",
    "\n",
    "d = Duster()   \n",
    "d.mileage()  "
   ]
  },
  {
   "cell_type": "markdown",
   "metadata": {},
   "source": [
    "In the above code, we have imported the abc module to create the abstract base class. We created the Car class that inherited the ABC class and defined an abstract method named mileage(). We have then inherited the base class from the three different subclasses and implemented the abstract method differently. We created the objects to call the abstract method."
   ]
  },
  {
   "cell_type": "code",
   "execution_count": 4,
   "metadata": {},
   "outputs": [
    {
     "name": "stdout",
     "output_type": "stream",
     "text": [
      "Triangle has 3 sides\n",
      "I have 4 sides\n",
      "Pentagon has 5 sides\n",
      "Hexagon has 6 sides\n"
     ]
    }
   ],
   "source": [
    "from abc import ABC  \n",
    "  \n",
    "class Polygon(ABC):   \n",
    "  # abstract method\n",
    "    def sides(self):   \n",
    "        pass  \n",
    "\n",
    "class Triangle(Polygon):   \n",
    "    def sides(self):   \n",
    "        print(\"Triangle has 3 sides\")   \n",
    "\n",
    "class Pentagon(Polygon):   \n",
    "    def sides(self):   \n",
    "        print(\"Pentagon has 5 sides\")   \n",
    "\n",
    "class Hexagon(Polygon):   \n",
    "    def sides(self):   \n",
    "        print(\"Hexagon has 6 sides\")   \n",
    "\n",
    "class square(Polygon):   \n",
    "    def sides(self):   \n",
    "        print(\"I have 4 sides\")   \n",
    "\n",
    "# Driver code   \n",
    "t = Triangle()   \n",
    "t.sides()   \n",
    "  \n",
    "s = square()   \n",
    "s.sides()   \n",
    "  \n",
    "p = Pentagon()   \n",
    "p.sides()   \n",
    "  \n",
    "k = Hexagon()   \n",
    "k.sides()   "
   ]
  },
  {
   "cell_type": "markdown",
   "metadata": {},
   "source": [
    "In the above code, we have defined the abstract base class named Polygon and we also defined the abstract method. This base class inherited by the various subclasses. We implemented the abstract method in each subclass. We created the object of the subclasses and invoke the sides() method. The hidden implementations for the sides() method inside the each subclass comes into play. The abstract method sides() method, defined in the abstract class, is never invoked."
   ]
  },
  {
   "cell_type": "markdown",
   "metadata": {},
   "source": [
    "# Encapsulation\n",
    "\n",
    "The process of binding/Grouping/encapsulating dat and corresponding behaviour(methods) into a single unit is nothing but **Encapsulation**.<br>\n",
    "if any component follows data hiding and abstraction, such component is said to be encapsulated component.<br>\n",
    "**Encapsulation = Data Hiding + Abstraction**<br><br>\n",
    "Hiding data behind methods is the central conept of encapsulation.<br><br>\n",
    "**Advantages of Encapsulation:**<br>\n",
    "1) Security<br>\n",
    "2) Enhancement will become easy<br>\n",
    "3) Maintainability and moduarity of the application will be very easy.<br>\n",
    "<br>\n",
    "- The main advantage of encapsulation is Security.<br>\n",
    "- The main limitation of encapsulation is it increases lenght of the code and slows down execution. we should compromise with performance.<br>\n",
    "- If we want security we should compromise with performance.<br>\n",
    "- If we want Performance we should compromise with security."
   ]
  },
  {
   "cell_type": "code",
   "execution_count": 1,
   "metadata": {},
   "outputs": [
    {
     "name": "stdout",
     "output_type": "stream",
     "text": [
      "Selling Price: 900\n",
      "Selling Price: 900\n",
      "Selling Price: 1000\n"
     ]
    }
   ],
   "source": [
    "class Computer:\n",
    "\n",
    "    def __init__(self):\n",
    "        self.__maxprice = 900\n",
    "\n",
    "    def sell(self):\n",
    "        print(\"Selling Price: {}\".format(self.__maxprice))\n",
    "\n",
    "    def setMaxPrice(self, price):\n",
    "        self.__maxprice = price\n",
    "\n",
    "c = Computer()\n",
    "c.sell()\n",
    "\n",
    "# change the price\n",
    "c.__maxprice = 1000\n",
    "c.sell()\n",
    "\n",
    "# using setter function\n",
    "c.setMaxPrice(1000)\n",
    "c.sell()"
   ]
  },
  {
   "cell_type": "markdown",
   "metadata": {},
   "source": [
    "In the above program, we defined a **Computer** class.<br><br>\n",
    "\n",
    "We used \\_\\_init\\_\\_() method to store the maximum selling price of Computer. We tried to modify the price. However, we can't change it because Python treats the \\_\\_maxprice as private attributes.<br><br>\n",
    "\n",
    "As shown, to change the value, we have to use a setter function i.e setMaxPrice() which takes price as a parameter."
   ]
  },
  {
   "cell_type": "markdown",
   "metadata": {},
   "source": [
    "# 3 Pillars of OOPS\n",
    "\n",
    "<img src=\"images/3pilllars_oops.png\">"
   ]
  },
  {
   "cell_type": "markdown",
   "metadata": {},
   "source": [
    "This is the complete story of Object Oriented Programming in Python. All the Major concepts are covered. "
   ]
  },
  {
   "cell_type": "markdown",
   "metadata": {},
   "source": [
    "# ========================= THE END ========================="
   ]
  }
 ],
 "metadata": {
  "kernelspec": {
   "display_name": "Python 3",
   "language": "python",
   "name": "python3"
  },
  "language_info": {
   "codemirror_mode": {
    "name": "ipython",
    "version": 3
   },
   "file_extension": ".py",
   "mimetype": "text/x-python",
   "name": "python",
   "nbconvert_exporter": "python",
   "pygments_lexer": "ipython3",
   "version": "3.8.3"
  }
 },
 "nbformat": 4,
 "nbformat_minor": 4
}
