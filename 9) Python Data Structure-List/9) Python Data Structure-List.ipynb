{
 "cells": [
  {
   "cell_type": "markdown",
   "metadata": {},
   "source": [
    " - If you want to represent a group of objects as single entity where duplicates are allowed and insertion order must be preserved, then we should go for the **List**"
   ]
  },
  {
   "cell_type": "code",
   "execution_count": 1,
   "metadata": {},
   "outputs": [
    {
     "name": "stdout",
     "output_type": "stream",
     "text": [
      "[10, 'Sairam', 10]\n"
     ]
    }
   ],
   "source": [
    "l=[]\n",
    "l.append(10)\n",
    "l.append(\"Sairam\")\n",
    "l.append(10)\n",
    "print(l)"
   ]
  },
  {
   "cell_type": "markdown",
   "metadata": {},
   "source": [
    "From the above example we can say,<br>\n",
    "\n",
    "> 1) Elements are listed in the same order as we inserted, hence the **Insertion order is Preserved**.<br>\n",
    "> 2) **Duplicates are allowed**<br>\n",
    "> 3) **Heterogenous Objects are allowed** - It Means any type of Data Structure is allowed.<br>\n",
    "> 4) **List is Dynamic** - It allows to add or remove the elements based on the requirement.<br>"
   ]
  },
  {
   "cell_type": "code",
   "execution_count": 2,
   "metadata": {},
   "outputs": [
    {
     "name": "stdout",
     "output_type": "stream",
     "text": [
      "[77, 'Sairam', 10]\n"
     ]
    }
   ],
   "source": [
    "l[0]=77\n",
    "print(l)"
   ]
  },
  {
   "cell_type": "markdown",
   "metadata": {},
   "source": [
    "> 5) **List is Mutable** - It means, once we create list, we can add or replace or we can perform any type of operation. As an example **l[0]** is replaced with 77 inplace of 10 which was previously appended value. Hence we can say list is mutable\n",
    "<br>\n",
    "> 6) **List is indicated with square brackets '[ ]'**"
   ]
  },
  {
   "cell_type": "markdown",
   "metadata": {},
   "source": [
    "## Creation of List object"
   ]
  },
  {
   "cell_type": "markdown",
   "metadata": {},
   "source": [
    "**1) Empty List Object**"
   ]
  },
  {
   "cell_type": "code",
   "execution_count": 3,
   "metadata": {},
   "outputs": [
    {
     "name": "stdout",
     "output_type": "stream",
     "text": [
      "<class 'list'>\n"
     ]
    }
   ],
   "source": [
    "l=[]\n",
    "print(type(l))"
   ]
  },
  {
   "cell_type": "markdown",
   "metadata": {},
   "source": [
    "**2) if we know the data already**"
   ]
  },
  {
   "cell_type": "code",
   "execution_count": 4,
   "metadata": {},
   "outputs": [
    {
     "name": "stdout",
     "output_type": "stream",
     "text": [
      "[10, 10.5, 'Sairam', 20]\n"
     ]
    }
   ],
   "source": [
    "l=[10,10.5,\"Sairam\",20]\n",
    "print(l)"
   ]
  },
  {
   "cell_type": "markdown",
   "metadata": {},
   "source": [
    "**3) Dynamic Input** - eval can be used to get the list input directly, eval automatically detects the input data type."
   ]
  },
  {
   "cell_type": "code",
   "execution_count": 6,
   "metadata": {},
   "outputs": [
    {
     "name": "stdout",
     "output_type": "stream",
     "text": [
      "Enter List:[10, 10.5, 'Sairam', 20]\n",
      "[10, 10.5, 'Sairam', 20]\n",
      "<class 'list'>\n"
     ]
    }
   ],
   "source": [
    "l=eval(input(\"Enter List:\"))\n",
    "print(l)\n",
    "print(type(l))"
   ]
  },
  {
   "cell_type": "markdown",
   "metadata": {},
   "source": [
    "**4) By using _list()_ function** - If we want to covert the other sequences into equivalent list object, we can use **'list()'** Function."
   ]
  },
  {
   "cell_type": "code",
   "execution_count": 9,
   "metadata": {},
   "outputs": [
    {
     "name": "stdout",
     "output_type": "stream",
     "text": [
      "Before Conversion : (10, 20, 'Sairam', 10.5)\n",
      "After coverting to list : [10, 20, 'Sairam', 10.5]\n"
     ]
    }
   ],
   "source": [
    "s=(10,20,'Sairam',10.5)\n",
    "print(\"Before Conversion : {}\".format(s))\n",
    "l=list(s)\n",
    "print(\"After coverting to list : {}\".format(l))"
   ]
  },
  {
   "cell_type": "code",
   "execution_count": 10,
   "metadata": {},
   "outputs": [
    {
     "name": "stdout",
     "output_type": "stream",
     "text": [
      "[0, 1, 2, 3, 4, 5, 6, 7, 8, 9]\n"
     ]
    }
   ],
   "source": [
    "l=list(range(0,10,1))\n",
    "print(l)"
   ]
  },
  {
   "cell_type": "markdown",
   "metadata": {},
   "source": [
    "**5) By using _split()_ function(Applicable only to strings)** - we can get list object using 'split()' function, as it will seperate the words or characters with specified seperator(Default: Space), and then it will returns the output in List format."
   ]
  },
  {
   "cell_type": "code",
   "execution_count": 11,
   "metadata": {},
   "outputs": [
    {
     "name": "stdout",
     "output_type": "stream",
     "text": [
      "['Learning', 'Python', 'is', 'easy']\n"
     ]
    }
   ],
   "source": [
    "l=\"Learning Python is easy\"\n",
    "l1=l.split()\n",
    "print(l1)"
   ]
  },
  {
   "cell_type": "markdown",
   "metadata": {},
   "source": [
    "\n",
    "## Accessing List Elements"
   ]
  },
  {
   "cell_type": "code",
   "execution_count": 12,
   "metadata": {},
   "outputs": [],
   "source": [
    "l=[10,20,30,40]"
   ]
  },
  {
   "cell_type": "markdown",
   "metadata": {},
   "source": [
    "List has both **Positive Index** and **Negative Index**<br>\n",
    "> - Negative Index starts from Right to Left with the starting index -1 to -n.<br>\n",
    "> - Postive Index starts from Left to Right with the index starting from 0 to n-1."
   ]
  },
  {
   "cell_type": "markdown",
   "metadata": {},
   "source": [
    "**1) Accessing List Elements with Index.**"
   ]
  },
  {
   "cell_type": "code",
   "execution_count": 13,
   "metadata": {},
   "outputs": [
    {
     "name": "stdout",
     "output_type": "stream",
     "text": [
      "10\n"
     ]
    }
   ],
   "source": [
    "print(l[0])"
   ]
  },
  {
   "cell_type": "code",
   "execution_count": 14,
   "metadata": {},
   "outputs": [
    {
     "name": "stdout",
     "output_type": "stream",
     "text": [
      "40\n"
     ]
    }
   ],
   "source": [
    "print(l[-1])"
   ]
  },
  {
   "cell_type": "code",
   "execution_count": 16,
   "metadata": {},
   "outputs": [
    {
     "ename": "IndexError",
     "evalue": "list index out of range",
     "output_type": "error",
     "traceback": [
      "\u001b[1;31m---------------------------------------------------------------------------\u001b[0m",
      "\u001b[1;31mIndexError\u001b[0m                                Traceback (most recent call last)",
      "\u001b[1;32m<ipython-input-16-c45b2b08cb12>\u001b[0m in \u001b[0;36m<module>\u001b[1;34m\u001b[0m\n\u001b[1;32m----> 1\u001b[1;33m \u001b[0mprint\u001b[0m\u001b[1;33m(\u001b[0m\u001b[0ml\u001b[0m\u001b[1;33m[\u001b[0m\u001b[1;36m100\u001b[0m\u001b[1;33m]\u001b[0m\u001b[1;33m)\u001b[0m \u001b[1;31m# index value should be within the range, else it will dispaly \"List Index out of range\" Error.\u001b[0m\u001b[1;33m\u001b[0m\u001b[1;33m\u001b[0m\u001b[0m\n\u001b[0m",
      "\u001b[1;31mIndexError\u001b[0m: list index out of range"
     ]
    }
   ],
   "source": [
    "print(l[100]) "
   ]
  },
  {
   "cell_type": "markdown",
   "metadata": {},
   "source": [
    "> **Note:** index value should be within the given range, else it will dispaly \"List Index out of range\" Error."
   ]
  },
  {
   "cell_type": "markdown",
   "metadata": {},
   "source": [
    "**2) Accessing List Elements with Slice Operator.**"
   ]
  },
  {
   "cell_type": "markdown",
   "metadata": {},
   "source": [
    "**Syntax**<br>\n",
    "> list = **[begin:end:step]**<br><br>\n",
    "> +ve ==> Forward direction ==> begin to end-1<br>\n",
    "> -ve ==> Backward direction ==> begin to end+1<br><br>\n",
    "> **Note:**<br> \n",
    "> 1) In Forward direction, if end value is 0, then result is always empty.<br>\n",
    "> 2) In Backward direction, if end value is -1, then result is always empty.\n"
   ]
  },
  {
   "cell_type": "markdown",
   "metadata": {},
   "source": [
    "==> Either Forward Direction or Backward direction, we can take both +ve and -ve values for begin and end index.<br>\n",
    "<br>**In Forward Direction**<br>\n",
    "> - default value for begin : **0**<br>\n",
    "> - default value for end   : **len(list)**<br>\n",
    "\n",
    "<br>**In Backward Direction**<br>\n",
    "> - default value for begin : **-1**<br>\n",
    "> - default value for end   : **-(len(list)+1)**<br>\n"
   ]
  },
  {
   "cell_type": "code",
   "execution_count": 19,
   "metadata": {},
   "outputs": [
    {
     "name": "stdout",
     "output_type": "stream",
     "text": [
      "[10, 20, 30, 40, 50, 60, 70, 80, 90, 100]\n"
     ]
    }
   ],
   "source": [
    "l=[10,20,30,40,50,60,70,80,90,100]\n",
    "print(l)"
   ]
  },
  {
   "cell_type": "code",
   "execution_count": 29,
   "metadata": {},
   "outputs": [
    {
     "name": "stdout",
     "output_type": "stream",
     "text": [
      "l[2:7] = [30, 40, 50, 60, 70]\n",
      "l[2:7:2] = [30, 50, 70]\n",
      "l[4::2] = [50, 70, 90]\n",
      "l[8:3:-2] = [90, 70, 50]\n",
      "l[4:100] = [50, 60, 70, 80, 90, 100]\n",
      "l[4:0:2] = []\n",
      "l[::1] = [10, 20, 30, 40, 50, 60, 70, 80, 90, 100]\n",
      "l[::-1] = [100, 90, 80, 70, 60, 50, 40, 30, 20, 10]\n"
     ]
    }
   ],
   "source": [
    "print(\"l[2:7] = {}\".format(l[2:7]))\n",
    "print(\"l[2:7:2] = {}\".format(l[2:7:2])) # step is 2, so we need to consider evry 2nd element.\n",
    "print(\"l[4::2] = {}\".format(l[4::2])) # from begin at 4th index to last with a step of 2\n",
    "print(\"l[8:3:-2] = {}\".format(l[8:3:-2]))#consider values from 8th index to 3rd index in backward direction since the step is -2\n",
    "print(\"l[4:100] = {}\".format(l[4:100])) # we won't get index error, it will return the values which are available till last\n",
    "print(\"l[4:0:2] = {}\".format(l[4:0:2])) # returns empty list, since end value is 0 and step is a +ve direction.\n",
    "print(\"l[::1] = {}\".format(l[::1])) # returns all the values with the specified step size in forward direction.\n",
    "print(\"l[::-1] = {}\".format(l[::-1])) # returns all the values with the specified step size in backward direction."
   ]
  },
  {
   "cell_type": "markdown",
   "metadata": {},
   "source": [
    "\n",
    "## Traversing Elements of List\n",
    "***"
   ]
  },
  {
   "cell_type": "code",
   "execution_count": 1,
   "metadata": {},
   "outputs": [],
   "source": [
    "l=[0,1,2,3,4,5,6,7,8,9,10]"
   ]
  },
  {
   "cell_type": "markdown",
   "metadata": {},
   "source": [
    "#### 1) By using While Loop"
   ]
  },
  {
   "cell_type": "code",
   "execution_count": 2,
   "metadata": {},
   "outputs": [
    {
     "name": "stdout",
     "output_type": "stream",
     "text": [
      "0\n",
      "1\n",
      "2\n",
      "3\n",
      "4\n",
      "5\n",
      "6\n",
      "7\n",
      "8\n",
      "9\n",
      "10\n"
     ]
    }
   ],
   "source": [
    "i=0\n",
    "while i<len(l):\n",
    "    print(l[i])\n",
    "    i=i+1\n",
    "    "
   ]
  },
  {
   "cell_type": "markdown",
   "metadata": {},
   "source": [
    "#### 2) By using For Loop"
   ]
  },
  {
   "cell_type": "code",
   "execution_count": 4,
   "metadata": {},
   "outputs": [
    {
     "name": "stdout",
     "output_type": "stream",
     "text": [
      "0\n",
      "1\n",
      "2\n",
      "3\n",
      "4\n",
      "5\n",
      "6\n",
      "7\n",
      "8\n",
      "9\n",
      "10\n"
     ]
    }
   ],
   "source": [
    "for i in l:\n",
    "    print(i)"
   ]
  },
  {
   "cell_type": "markdown",
   "metadata": {},
   "source": [
    "**Program To print only even numbers ?**"
   ]
  },
  {
   "cell_type": "code",
   "execution_count": 5,
   "metadata": {},
   "outputs": [
    {
     "name": "stdout",
     "output_type": "stream",
     "text": [
      "0\n",
      "2\n",
      "4\n",
      "6\n",
      "8\n",
      "10\n"
     ]
    }
   ],
   "source": [
    "for i in l:\n",
    "    if i%2==0:\n",
    "        print(i)"
   ]
  },
  {
   "cell_type": "markdown",
   "metadata": {},
   "source": [
    "**Program to print elements of list index wise ?**"
   ]
  },
  {
   "cell_type": "code",
   "execution_count": 6,
   "metadata": {},
   "outputs": [],
   "source": [
    "l=[10,20,30,40,50,60]"
   ]
  },
  {
   "cell_type": "code",
   "execution_count": 8,
   "metadata": {},
   "outputs": [
    {
     "name": "stdout",
     "output_type": "stream",
     "text": [
      "The element present at +ve index: 0 and at -ve index : -6 is 10\n",
      "The element present at +ve index: 1 and at -ve index : -5 is 20\n",
      "The element present at +ve index: 2 and at -ve index : -4 is 30\n",
      "The element present at +ve index: 3 and at -ve index : -3 is 40\n",
      "The element present at +ve index: 4 and at -ve index : -2 is 50\n",
      "The element present at +ve index: 5 and at -ve index : -1 is 60\n"
     ]
    }
   ],
   "source": [
    "i=0\n",
    "while i<len(l):\n",
    "    print(\"The element present at +ve index: {} and at -ve index : {} is {}\".format(i,i-len(l),l[i]))\n",
    "    i=i+1"
   ]
  },
  {
   "cell_type": "markdown",
   "metadata": {},
   "source": [
    "\n",
    "## Mathematical Operators for List\n"
   ]
  },
  {
   "cell_type": "markdown",
   "metadata": {},
   "source": [
    "**1) Concatenation Operator**"
   ]
  },
  {
   "cell_type": "code",
   "execution_count": 9,
   "metadata": {},
   "outputs": [
    {
     "name": "stdout",
     "output_type": "stream",
     "text": [
      "[10, 20, 30, 40, 50, 60]\n"
     ]
    }
   ],
   "source": [
    "L1=[10,20,30]\n",
    "L2=[40,50,60]\n",
    "L3=L1+L2\n",
    "print(L3)"
   ]
  },
  {
   "cell_type": "code",
   "execution_count": 10,
   "metadata": {},
   "outputs": [
    {
     "ename": "TypeError",
     "evalue": "can only concatenate list (not \"int\") to list",
     "output_type": "error",
     "traceback": [
      "\u001b[1;31m---------------------------------------------------------------------------\u001b[0m",
      "\u001b[1;31mTypeError\u001b[0m                                 Traceback (most recent call last)",
      "\u001b[1;32m<ipython-input-10-30392c1e4f2d>\u001b[0m in \u001b[0;36m<module>\u001b[1;34m\u001b[0m\n\u001b[0;32m      1\u001b[0m \u001b[0mL1\u001b[0m\u001b[1;33m=\u001b[0m\u001b[1;33m[\u001b[0m\u001b[1;36m10\u001b[0m\u001b[1;33m,\u001b[0m\u001b[1;36m20\u001b[0m\u001b[1;33m,\u001b[0m\u001b[1;36m30\u001b[0m\u001b[1;33m]\u001b[0m\u001b[1;33m\u001b[0m\u001b[1;33m\u001b[0m\u001b[0m\n\u001b[0;32m      2\u001b[0m \u001b[0mL2\u001b[0m\u001b[1;33m=\u001b[0m\u001b[1;36m40\u001b[0m\u001b[1;33m\u001b[0m\u001b[1;33m\u001b[0m\u001b[0m\n\u001b[1;32m----> 3\u001b[1;33m \u001b[0mL3\u001b[0m\u001b[1;33m=\u001b[0m\u001b[0mL1\u001b[0m\u001b[1;33m+\u001b[0m\u001b[0mL2\u001b[0m\u001b[1;33m\u001b[0m\u001b[1;33m\u001b[0m\u001b[0m\n\u001b[0m\u001b[0;32m      4\u001b[0m \u001b[0mprint\u001b[0m\u001b[1;33m(\u001b[0m\u001b[0mL3\u001b[0m\u001b[1;33m)\u001b[0m\u001b[1;33m\u001b[0m\u001b[1;33m\u001b[0m\u001b[0m\n",
      "\u001b[1;31mTypeError\u001b[0m: can only concatenate list (not \"int\") to list"
     ]
    }
   ],
   "source": [
    "L1=[10,20,30]\n",
    "L2=40\n",
    "L3=L1+L2\n",
    "print(L3)"
   ]
  },
  {
   "cell_type": "markdown",
   "metadata": {},
   "source": [
    "**Note:** For concatenation both arguments should be of same data types(i.e Both should be lists)"
   ]
  },
  {
   "cell_type": "code",
   "execution_count": 11,
   "metadata": {},
   "outputs": [
    {
     "name": "stdout",
     "output_type": "stream",
     "text": [
      "[10, 20, 30, 40]\n"
     ]
    }
   ],
   "source": [
    "L1=[10,20,30]\n",
    "L2=[40]\n",
    "L3=L1+L2\n",
    "print(L3)"
   ]
  },
  {
   "cell_type": "markdown",
   "metadata": {},
   "source": [
    "The Above example is valid as 40 is in list data type"
   ]
  },
  {
   "cell_type": "code",
   "execution_count": 13,
   "metadata": {},
   "outputs": [
    {
     "ename": "TypeError",
     "evalue": "can only concatenate list (not \"tuple\") to list",
     "output_type": "error",
     "traceback": [
      "\u001b[1;31m---------------------------------------------------------------------------\u001b[0m",
      "\u001b[1;31mTypeError\u001b[0m                                 Traceback (most recent call last)",
      "\u001b[1;32m<ipython-input-13-44b4aa5637db>\u001b[0m in \u001b[0;36m<module>\u001b[1;34m\u001b[0m\n\u001b[0;32m      1\u001b[0m \u001b[0mL1\u001b[0m\u001b[1;33m=\u001b[0m\u001b[1;33m[\u001b[0m\u001b[1;36m10\u001b[0m\u001b[1;33m,\u001b[0m\u001b[1;36m20\u001b[0m\u001b[1;33m,\u001b[0m\u001b[1;36m30\u001b[0m\u001b[1;33m]\u001b[0m \u001b[1;31m# List\u001b[0m\u001b[1;33m\u001b[0m\u001b[1;33m\u001b[0m\u001b[0m\n\u001b[0;32m      2\u001b[0m \u001b[0mL2\u001b[0m\u001b[1;33m=\u001b[0m\u001b[1;33m(\u001b[0m\u001b[1;36m40\u001b[0m\u001b[1;33m,\u001b[0m\u001b[1;36m50\u001b[0m\u001b[1;33m,\u001b[0m\u001b[1;36m60\u001b[0m\u001b[1;33m)\u001b[0m \u001b[1;31m# Tuple\u001b[0m\u001b[1;33m\u001b[0m\u001b[1;33m\u001b[0m\u001b[0m\n\u001b[1;32m----> 3\u001b[1;33m \u001b[0mL3\u001b[0m\u001b[1;33m=\u001b[0m\u001b[0mL1\u001b[0m\u001b[1;33m+\u001b[0m\u001b[0mL2\u001b[0m\u001b[1;33m\u001b[0m\u001b[1;33m\u001b[0m\u001b[0m\n\u001b[0m\u001b[0;32m      4\u001b[0m \u001b[0mprint\u001b[0m\u001b[1;33m(\u001b[0m\u001b[0mL3\u001b[0m\u001b[1;33m)\u001b[0m\u001b[1;33m\u001b[0m\u001b[1;33m\u001b[0m\u001b[0m\n",
      "\u001b[1;31mTypeError\u001b[0m: can only concatenate list (not \"tuple\") to list"
     ]
    }
   ],
   "source": [
    "L1=[10,20,30] # List\n",
    "L2=(40,50,60) # Tuple\n",
    "L3=L1+L2 # Concatenation of list and tuple returns an error, since both are of not same data types.\n",
    "print(L3)"
   ]
  },
  {
   "cell_type": "markdown",
   "metadata": {},
   "source": [
    "**2) Repetition Operator**"
   ]
  },
  {
   "cell_type": "code",
   "execution_count": 14,
   "metadata": {},
   "outputs": [
    {
     "name": "stdout",
     "output_type": "stream",
     "text": [
      "[10, 20, 10, 20]\n"
     ]
    }
   ],
   "source": [
    "L1=[10,20]\n",
    "L2=L1*2\n",
    "print(L2)"
   ]
  },
  {
   "cell_type": "markdown",
   "metadata": {},
   "source": [
    "**Note:** If we want apply repetition for the list, we need to make sure one argument must be **list** type and other should be **int** type."
   ]
  },
  {
   "cell_type": "code",
   "execution_count": 15,
   "metadata": {},
   "outputs": [
    {
     "ename": "TypeError",
     "evalue": "can't multiply sequence by non-int of type 'float'",
     "output_type": "error",
     "traceback": [
      "\u001b[1;31m---------------------------------------------------------------------------\u001b[0m",
      "\u001b[1;31mTypeError\u001b[0m                                 Traceback (most recent call last)",
      "\u001b[1;32m<ipython-input-15-349797c17ee6>\u001b[0m in \u001b[0;36m<module>\u001b[1;34m\u001b[0m\n\u001b[0;32m      1\u001b[0m \u001b[0mL1\u001b[0m\u001b[1;33m=\u001b[0m\u001b[1;33m[\u001b[0m\u001b[1;36m10\u001b[0m\u001b[1;33m,\u001b[0m\u001b[1;36m20\u001b[0m\u001b[1;33m]\u001b[0m\u001b[1;33m\u001b[0m\u001b[1;33m\u001b[0m\u001b[0m\n\u001b[1;32m----> 2\u001b[1;33m \u001b[0mL2\u001b[0m\u001b[1;33m=\u001b[0m\u001b[0mL1\u001b[0m\u001b[1;33m*\u001b[0m\u001b[1;36m2.0\u001b[0m\u001b[1;33m\u001b[0m\u001b[1;33m\u001b[0m\u001b[0m\n\u001b[0m\u001b[0;32m      3\u001b[0m \u001b[0mprint\u001b[0m\u001b[1;33m(\u001b[0m\u001b[0mL2\u001b[0m\u001b[1;33m)\u001b[0m\u001b[1;33m\u001b[0m\u001b[1;33m\u001b[0m\u001b[0m\n",
      "\u001b[1;31mTypeError\u001b[0m: can't multiply sequence by non-int of type 'float'"
     ]
    }
   ],
   "source": [
    "L1=[10,20]\n",
    "L2=L1*2.0\n",
    "print(L2)"
   ]
  },
  {
   "cell_type": "code",
   "execution_count": 16,
   "metadata": {},
   "outputs": [
    {
     "ename": "TypeError",
     "evalue": "can't multiply sequence by non-int of type 'list'",
     "output_type": "error",
     "traceback": [
      "\u001b[1;31m---------------------------------------------------------------------------\u001b[0m",
      "\u001b[1;31mTypeError\u001b[0m                                 Traceback (most recent call last)",
      "\u001b[1;32m<ipython-input-16-67d62d02c1cd>\u001b[0m in \u001b[0;36m<module>\u001b[1;34m\u001b[0m\n\u001b[0;32m      1\u001b[0m \u001b[0mL1\u001b[0m\u001b[1;33m=\u001b[0m\u001b[1;33m[\u001b[0m\u001b[1;36m10\u001b[0m\u001b[1;33m,\u001b[0m\u001b[1;36m20\u001b[0m\u001b[1;33m]\u001b[0m\u001b[1;33m\u001b[0m\u001b[1;33m\u001b[0m\u001b[0m\n\u001b[1;32m----> 2\u001b[1;33m \u001b[0mL2\u001b[0m\u001b[1;33m=\u001b[0m\u001b[0mL1\u001b[0m\u001b[1;33m*\u001b[0m\u001b[0mL1\u001b[0m\u001b[1;33m\u001b[0m\u001b[1;33m\u001b[0m\u001b[0m\n\u001b[0m\u001b[0;32m      3\u001b[0m \u001b[0mprint\u001b[0m\u001b[1;33m(\u001b[0m\u001b[0mL2\u001b[0m\u001b[1;33m)\u001b[0m\u001b[1;33m\u001b[0m\u001b[1;33m\u001b[0m\u001b[0m\n",
      "\u001b[1;31mTypeError\u001b[0m: can't multiply sequence by non-int of type 'list'"
     ]
    }
   ],
   "source": [
    "L1=[10,20]\n",
    "L2=L1*L1\n",
    "print(L2)"
   ]
  },
  {
   "cell_type": "markdown",
   "metadata": {},
   "source": [
    "> Above examples returns **TypeError** as we can only multiply sequence by non-int data type"
   ]
  },
  {
   "cell_type": "markdown",
   "metadata": {},
   "source": [
    "## Equality Operators for List Objects"
   ]
  },
  {
   "cell_type": "code",
   "execution_count": 18,
   "metadata": {},
   "outputs": [
    {
     "name": "stdout",
     "output_type": "stream",
     "text": [
      "True\n",
      "False\n",
      "False\n"
     ]
    }
   ],
   "source": [
    "L1=['Rat','Cat','Dog']\n",
    "L2=['Rat','Cat','Dog']\n",
    "L3=['RAT','CAT','DOG']\n",
    "L4=['Cat','Dog','Rat']\n",
    "\n",
    "print(L1==L2) # Returns \"True\", Since L1==L2 satiesfies all the 3 conditions mentioned below.\n",
    "print(L1==L3) # Returns \"False\",since L1==L3 satiesfies only 1 and 2 conditions, 3rd condition fails as content is not same.\n",
    "print(L1==L4) # Returns \"False\",since L1==L4 satiesfies only 1 and 3 conditions, 2nd condition fails as order is not same."
   ]
  },
  {
   "cell_type": "markdown",
   "metadata": {},
   "source": [
    "**When \"==\" Operator returns \"TRUE\" ?**\n",
    "\n",
    "> 1) The Number of elements must be same.<br>\n",
    "> 2) The order of elements must be same.<br>\n",
    "> 3) The Content Must be same including Case."
   ]
  },
  {
   "cell_type": "markdown",
   "metadata": {},
   "source": [
    "## Relational Operators for List Objects"
   ]
  },
  {
   "cell_type": "code",
   "execution_count": 2,
   "metadata": {},
   "outputs": [
    {
     "name": "stdout",
     "output_type": "stream",
     "text": [
      "True\n",
      "True\n",
      "False\n",
      "False\n"
     ]
    }
   ],
   "source": [
    "L1=[10,20,30,40]\n",
    "L2=[50,60]\n",
    "print(L1<L2)\n",
    "print(L1<=L2)\n",
    "print(L1>L2)\n",
    "print(L1>=L2)"
   ]
  },
  {
   "cell_type": "markdown",
   "metadata": {},
   "source": [
    "**Note:** It always performs First element level comaprision in lists, if it is able to decide the condition it returns TRUE, if not then it will perform 2nd element level comparison and so..on"
   ]
  },
  {
   "cell_type": "markdown",
   "metadata": {},
   "source": [
    "==> In the above example, First element in L1(10) compared with First Element in L2(50) ==> 10<50, Hence returns True. It will not go for further comparisons because it has already decided the result based on the condition, if it fails to decide on first level it will perform 2nd level element comparision.<br><br> For Example:"
   ]
  },
  {
   "cell_type": "code",
   "execution_count": 3,
   "metadata": {},
   "outputs": [
    {
     "name": "stdout",
     "output_type": "stream",
     "text": [
      "False\n",
      "False\n",
      "True\n",
      "True\n"
     ]
    }
   ],
   "source": [
    "L1=[10,20,30]\n",
    "L2=[10,20,6]\n",
    "print(L1<L2)\n",
    "print(L1<=L2)\n",
    "print(L1>L2)\n",
    "print(L1>=L2)"
   ]
  },
  {
   "cell_type": "markdown",
   "metadata": {},
   "source": [
    "In the above example, 1st and 2nd element in both the L1 and L2 Lists are same, so the result cant be decided on these two elements. So First Level and Second Level Comparison Fail to decide the result, Hence third level comparison will be performed.<br><br> 3rd element 30 in L1 is compared with 3rd element 6 in L2 as a 3rd level element comparision like below <br><br>\n",
    "> 30 < 6 --> False<br>30 <= 6 --> False<br>30 > 6 --> True<br>30 >= 6 --> True"
   ]
  },
  {
   "cell_type": "markdown",
   "metadata": {},
   "source": [
    "**Note:** This is very very rarely used concept, so no need to give special attention to this. This explantion is just for having an idea how the comparison is performed on list."
   ]
  },
  {
   "cell_type": "markdown",
   "metadata": {},
   "source": [
    "## Membership Operators in List Objects"
   ]
  },
  {
   "cell_type": "code",
   "execution_count": 4,
   "metadata": {},
   "outputs": [
    {
     "name": "stdout",
     "output_type": "stream",
     "text": [
      "True\n",
      "False\n",
      "True\n"
     ]
    }
   ],
   "source": [
    "L1=[10,20,30]\n",
    "print(10 in L1) # Returns 'True', if found 10 in the list else returns 'False'\n",
    "print(40 in L1) # Returns 'False', since 40 not found in the list.\n",
    "print(40 not in L1) # Returns 'True', if 40 not found in the list else returns 'False'"
   ]
  },
  {
   "cell_type": "markdown",
   "metadata": {},
   "source": [
    "# Important Methods and Functions for List\n",
    "***"
   ]
  },
  {
   "cell_type": "markdown",
   "metadata": {},
   "source": [
    "**len(List)** - Returns the number of elements present in a list."
   ]
  },
  {
   "cell_type": "code",
   "execution_count": 24,
   "metadata": {},
   "outputs": [
    {
     "data": {
      "text/plain": [
       "3"
      ]
     },
     "execution_count": 24,
     "metadata": {},
     "output_type": "execute_result"
    }
   ],
   "source": [
    "l=[10,20,30]\n",
    "len(l)"
   ]
  },
  {
   "cell_type": "markdown",
   "metadata": {},
   "source": [
    "**count(element)** - Returns the no. of occurences of an element in a list.\n",
    "> - Syntax: **List.count(element)**<br>\n",
    "> - **List** has to be called to use the count method on it. So, count() is not a Inbuilt Method. It is **\"List Specific Method\"**\n",
    "> - **element** is the one we need to search for in the list to identify the no. of occurences.<br>\n",
    "\n",
    "For Example:"
   ]
  },
  {
   "cell_type": "code",
   "execution_count": 25,
   "metadata": {},
   "outputs": [
    {
     "data": {
      "text/plain": [
       "3"
      ]
     },
     "execution_count": 25,
     "metadata": {},
     "output_type": "execute_result"
    }
   ],
   "source": [
    "l=[10,20,30,10,10,30,20,50]\n",
    "l.count(10)"
   ]
  },
  {
   "cell_type": "code",
   "execution_count": 26,
   "metadata": {},
   "outputs": [
    {
     "data": {
      "text/plain": [
       "2"
      ]
     },
     "execution_count": 26,
     "metadata": {},
     "output_type": "execute_result"
    }
   ],
   "source": [
    "l=[10,20,30,10,10,30,20,50]\n",
    "l.count(30)"
   ]
  },
  {
   "cell_type": "markdown",
   "metadata": {},
   "source": [
    "**index(element)** - Returns index of first occurence of given element in the specified list.\n",
    "> - This is also a List Specific Method, since List has to be called to apply the method.\n",
    "\n",
    "For Example:"
   ]
  },
  {
   "cell_type": "code",
   "execution_count": 29,
   "metadata": {},
   "outputs": [
    {
     "name": "stdout",
     "output_type": "stream",
     "text": [
      "0\n",
      "4\n"
     ]
    },
    {
     "ename": "ValueError",
     "evalue": "5 is not in list",
     "output_type": "error",
     "traceback": [
      "\u001b[1;31m---------------------------------------------------------------------------\u001b[0m",
      "\u001b[1;31mValueError\u001b[0m                                Traceback (most recent call last)",
      "\u001b[1;32m<ipython-input-29-7e56edfdafc8>\u001b[0m in \u001b[0;36m<module>\u001b[1;34m\u001b[0m\n\u001b[0;32m      2\u001b[0m \u001b[0mprint\u001b[0m\u001b[1;33m(\u001b[0m\u001b[0ml\u001b[0m\u001b[1;33m.\u001b[0m\u001b[0mindex\u001b[0m\u001b[1;33m(\u001b[0m\u001b[1;36m1\u001b[0m\u001b[1;33m)\u001b[0m\u001b[1;33m)\u001b[0m\u001b[1;33m\u001b[0m\u001b[1;33m\u001b[0m\u001b[0m\n\u001b[0;32m      3\u001b[0m \u001b[0mprint\u001b[0m\u001b[1;33m(\u001b[0m\u001b[0ml\u001b[0m\u001b[1;33m.\u001b[0m\u001b[0mindex\u001b[0m\u001b[1;33m(\u001b[0m\u001b[1;36m3\u001b[0m\u001b[1;33m)\u001b[0m\u001b[1;33m)\u001b[0m\u001b[1;33m\u001b[0m\u001b[1;33m\u001b[0m\u001b[0m\n\u001b[1;32m----> 4\u001b[1;33m \u001b[0mprint\u001b[0m\u001b[1;33m(\u001b[0m\u001b[0ml\u001b[0m\u001b[1;33m.\u001b[0m\u001b[0mindex\u001b[0m\u001b[1;33m(\u001b[0m\u001b[1;36m5\u001b[0m\u001b[1;33m)\u001b[0m\u001b[1;33m)\u001b[0m\u001b[1;33m\u001b[0m\u001b[1;33m\u001b[0m\u001b[0m\n\u001b[0m",
      "\u001b[1;31mValueError\u001b[0m: 5 is not in list"
     ]
    }
   ],
   "source": [
    "l=[1,2,1,4,3,2,3,1]\n",
    "print(l.index(1))\n",
    "print(l.index(3))\n",
    "print(l.index(5))"
   ]
  },
  {
   "cell_type": "markdown",
   "metadata": {},
   "source": [
    "**Note:** **index(element)** will raise an Value Error, if the element is not in the given list. So, We need to make sure that given element is in the list...to except that error, we can do the following."
   ]
  },
  {
   "cell_type": "code",
   "execution_count": 33,
   "metadata": {},
   "outputs": [
    {
     "name": "stdout",
     "output_type": "stream",
     "text": [
      "Enter element to find:4\n",
      "4 present at index 3\n"
     ]
    }
   ],
   "source": [
    "l=[1,2,1,4,3,2,3,1]\n",
    "x=int(input(\"Enter element to find:\"))\n",
    "if x in l:\n",
    "    print('{} present at index {}'.format(x,l.index(x)))\n",
    "else:\n",
    "    print(x,\"Not Available in the list\")"
   ]
  },
  {
   "cell_type": "markdown",
   "metadata": {},
   "source": [
    "### Manipulating Elements of List"
   ]
  },
  {
   "cell_type": "markdown",
   "metadata": {},
   "source": [
    "**append(element)** - append() is used to insert an element at the end of the existing list.\n",
    "> - Sytax: **List.append(element)**\n",
    "\n",
    "Example:"
   ]
  },
  {
   "cell_type": "code",
   "execution_count": 37,
   "metadata": {},
   "outputs": [
    {
     "name": "stdout",
     "output_type": "stream",
     "text": [
      "[10]\n",
      "[10, 20]\n",
      "[10, 20, 30]\n",
      "[10, 20, 30, 40]\n"
     ]
    }
   ],
   "source": [
    "l=[]\n",
    "l.append(10)\n",
    "print(l)\n",
    "l.append(20)\n",
    "print(l)\n",
    "l.append(30)\n",
    "print(l)\n",
    "l.append(40)\n",
    "print(l)"
   ]
  },
  {
   "cell_type": "markdown",
   "metadata": {},
   "source": [
    " - If we observe, element is adding to the end of the list at each append."
   ]
  },
  {
   "cell_type": "markdown",
   "metadata": {},
   "source": [
    "**Write a Program to add numbers which are divisible by 10 from 1 to 100** "
   ]
  },
  {
   "cell_type": "code",
   "execution_count": 39,
   "metadata": {},
   "outputs": [
    {
     "name": "stdout",
     "output_type": "stream",
     "text": [
      "[10, 20, 30, 40, 50, 60, 70, 80, 90, 100]\n"
     ]
    }
   ],
   "source": [
    "l=[]\n",
    "for i in range(1,101):\n",
    "    if i%10==0:\n",
    "        l.append(i)\n",
    "print(l)    "
   ]
  },
  {
   "cell_type": "markdown",
   "metadata": {},
   "source": [
    "**insert(index,element)** - insert(index,element) is used to add the element at a specified position in a list i.e. we can add the element in whatever the position we wish to place.<br>\n",
    "> - Syntax: **List.insert(index,element)**\n",
    "\n",
    "Example:"
   ]
  },
  {
   "cell_type": "code",
   "execution_count": 41,
   "metadata": {},
   "outputs": [
    {
     "name": "stdout",
     "output_type": "stream",
     "text": [
      "List Before Inserting  [10, 20, 30]\n",
      "List after inserting a new element at 1st index  [10, 7777, 20, 30]\n"
     ]
    }
   ],
   "source": [
    "l=[10,20,30]\n",
    "print(\"List Before Inserting \",l)\n",
    "l.insert(1,7777)\n",
    "print(\"List after inserting a new element at 1st index \",l)"
   ]
  },
  {
   "cell_type": "markdown",
   "metadata": {},
   "source": [
    "If we observe in above example, 7777 is inserted at 1st index by shifing the remaining elements to right.<br>\n",
    "<br>\n",
    "> **Note:**<br>\n",
    " - Insertion will not replace the element at that specified index, it will just shift the elements to right and will inset that element at that specified index.<br>\n",
    " - Previous elements will also available along ith the new value inserted as seen in the above example."
   ]
  },
  {
   "cell_type": "code",
   "execution_count": 42,
   "metadata": {},
   "outputs": [],
   "source": [
    "l=[10,20,30,40]"
   ]
  },
  {
   "cell_type": "markdown",
   "metadata": {},
   "source": [
    "valid indexes for the above are <br>\n",
    "> - 0,1,2,3 from left to right(forward direction).<br>\n",
    "> -  -1,-2,-3,-4 from right to left(backward direction)."
   ]
  },
  {
   "cell_type": "markdown",
   "metadata": {},
   "source": [
    "I want to insert **\"7777 at 100th index\"** and **\"9999 at -100th index\"**, is that possible or will it raise an error?"
   ]
  },
  {
   "cell_type": "code",
   "execution_count": 44,
   "metadata": {},
   "outputs": [
    {
     "name": "stdout",
     "output_type": "stream",
     "text": [
      "[10, 20, 30, 40, 7777, 7777]\n"
     ]
    }
   ],
   "source": [
    "l.insert(100,7777)\n",
    "print(l)"
   ]
  },
  {
   "cell_type": "markdown",
   "metadata": {},
   "source": [
    "If we want to insert the value beyond the maximum index limit, it will add the value to **end**  of the list automatically as seen above"
   ]
  },
  {
   "cell_type": "code",
   "execution_count": 45,
   "metadata": {},
   "outputs": [
    {
     "name": "stdout",
     "output_type": "stream",
     "text": [
      "[9999, 10, 20, 30, 40, 7777, 7777]\n"
     ]
    }
   ],
   "source": [
    "l.insert(-100,9999)\n",
    "print(l)"
   ]
  },
  {
   "cell_type": "markdown",
   "metadata": {},
   "source": [
    "If we want to insert the value below the minimum index limit, it will add the value at the **start** of the list automatically as seen above.\n",
    "\n",
    "> We won't get any index error"
   ]
  },
  {
   "cell_type": "markdown",
   "metadata": {},
   "source": [
    "**extend(List):** extend(List) is used to add all the elements of given list sequence to other list.<br>\n",
    "> Syntax: **List1.extend(List2)**\n",
    "\n",
    "Example:\n"
   ]
  },
  {
   "cell_type": "code",
   "execution_count": 47,
   "metadata": {},
   "outputs": [
    {
     "name": "stdout",
     "output_type": "stream",
     "text": [
      "['Chicken', 'Mutton', 'Fish', 'KFC', 'Gismat', 'RC']\n",
      "['KFC', 'Gismat', 'RC']\n"
     ]
    }
   ],
   "source": [
    "L1=['Chicken','Mutton','Fish']\n",
    "L2=['KFC','Gismat','RC']\n",
    "L1.extend(L2)\n",
    "print(L1)\n",
    "print(L2)"
   ]
  },
  {
   "cell_type": "markdown",
   "metadata": {},
   "source": [
    " - All elements present in the L2 will be added to L1. But L1 will be Changed and L2 will remain same as shown in above example.<br>\n",
    " - If you want L2 list to get extended, extend the L2 list with L2 with **L2.extend(L1)**"
   ]
  },
  {
   "cell_type": "code",
   "execution_count": 50,
   "metadata": {},
   "outputs": [
    {
     "name": "stdout",
     "output_type": "stream",
     "text": [
      "['Chicken Biryani', 'Mutton Biryani', 'Fish  Biryani']\n",
      "['KFC restaurant', 'Gismat Restaurant', 'RC buffet', 'Chicken Biryani', 'Mutton Biryani', 'Fish  Biryani']\n"
     ]
    }
   ],
   "source": [
    "L1=['Chicken Biryani','Mutton Biryani','Fish  Biryani']\n",
    "L2=['KFC restaurant','Gismat Restaurant','RC buffet']\n",
    "L2.extend(L1)\n",
    "print(L1)\n",
    "print(L2)"
   ]
  },
  {
   "cell_type": "code",
   "execution_count": 51,
   "metadata": {},
   "outputs": [
    {
     "data": {
      "text/plain": [
       "3"
      ]
     },
     "execution_count": 51,
     "metadata": {},
     "output_type": "execute_result"
    }
   ],
   "source": [
    "len(L1)"
   ]
  },
  {
   "cell_type": "code",
   "execution_count": 53,
   "metadata": {},
   "outputs": [
    {
     "data": {
      "text/plain": [
       "6"
      ]
     },
     "execution_count": 53,
     "metadata": {},
     "output_type": "execute_result"
    }
   ],
   "source": [
    "len(L2)"
   ]
  },
  {
   "cell_type": "code",
   "execution_count": 54,
   "metadata": {},
   "outputs": [
    {
     "name": "stdout",
     "output_type": "stream",
     "text": [
      "[10, 20, 30, [40, 50]]\n"
     ]
    },
    {
     "data": {
      "text/plain": [
       "4"
      ]
     },
     "execution_count": 54,
     "metadata": {},
     "output_type": "execute_result"
    }
   ],
   "source": [
    "l1=[10,20,30]\n",
    "l2=[40,50]\n",
    "l1.append(l2)\n",
    "print(l1)\n",
    "len(l1)"
   ]
  },
  {
   "cell_type": "markdown",
   "metadata": {},
   "source": [
    "> - In the above example, if we observe after appending l2 list to l1 list, it added successfully as different list object. Hence, the lenght will be 4 tough we have 5 elements in list,its because Another list is inserted into the list which will be considered as single object.<br><br>\n",
    "> - If we use extend() method, all elements of the list2 will be added to list1 individually."
   ]
  },
  {
   "cell_type": "code",
   "execution_count": 57,
   "metadata": {},
   "outputs": [
    {
     "name": "stdout",
     "output_type": "stream",
     "text": [
      "[10, 20, 30, 'ABC']\n"
     ]
    },
    {
     "data": {
      "text/plain": [
       "4"
      ]
     },
     "execution_count": 57,
     "metadata": {},
     "output_type": "execute_result"
    }
   ],
   "source": [
    "l1=[10,20,30]\n",
    "l2='ABC'\n",
    "l1.append(l2)\n",
    "print(l1)\n",
    "len(l1)"
   ]
  },
  {
   "cell_type": "code",
   "execution_count": 58,
   "metadata": {},
   "outputs": [
    {
     "name": "stdout",
     "output_type": "stream",
     "text": [
      "[10, 20, 30, 'A', 'B', 'C']\n"
     ]
    },
    {
     "data": {
      "text/plain": [
       "6"
      ]
     },
     "execution_count": 58,
     "metadata": {},
     "output_type": "execute_result"
    }
   ],
   "source": [
    "l1=[10,20,30]\n",
    "l2='ABC'\n",
    "l1.extend(l2)\n",
    "print(l1)\n",
    "len(l1)"
   ]
  },
  {
   "cell_type": "markdown",
   "metadata": {},
   "source": [
    " - extend() consider the given list or string as a sequence and adds elements to the list individually. Hence the lenght of 'l1' is 6\n",
    " - append() consider the given list or string as a single element and adds it to the list. Hence the lenght of 'l1' is 4"
   ]
  },
  {
   "cell_type": "markdown",
   "metadata": {},
   "source": [
    "### Till Now we have seen insertion methods, Now we will look at removal methods for list."
   ]
  },
  {
   "cell_type": "markdown",
   "metadata": {},
   "source": [
    "**remove(element)** - this method is used to remove the specified element from a list.<br>\n",
    "> - Syntax: **List.remove(element)**<br>\n",
    "> - if multiple values are present, only the first occurence value will be deleted.\n",
    "> - if the value is not available in list, it will raise a ValueError\n",
    "\n",
    "Example:\n"
   ]
  },
  {
   "cell_type": "code",
   "execution_count": 59,
   "metadata": {},
   "outputs": [
    {
     "name": "stdout",
     "output_type": "stream",
     "text": [
      "[10, 20, 10, 20]\n"
     ]
    }
   ],
   "source": [
    "l=[10,20,10,20,40]\n",
    "l.remove(40)\n",
    "print(l)"
   ]
  },
  {
   "cell_type": "code",
   "execution_count": 60,
   "metadata": {},
   "outputs": [
    {
     "name": "stdout",
     "output_type": "stream",
     "text": [
      "[20, 10, 20]\n"
     ]
    }
   ],
   "source": [
    "l.remove(10)\n",
    "print(l)"
   ]
  },
  {
   "cell_type": "markdown",
   "metadata": {},
   "source": [
    "> 10 at 0th index which is the first occurence is removed from the list.<br>\n",
    "> 50 is not in the list, so it will raise an exception as below"
   ]
  },
  {
   "cell_type": "code",
   "execution_count": 61,
   "metadata": {},
   "outputs": [
    {
     "ename": "ValueError",
     "evalue": "list.remove(x): x not in list",
     "output_type": "error",
     "traceback": [
      "\u001b[1;31m---------------------------------------------------------------------------\u001b[0m",
      "\u001b[1;31mValueError\u001b[0m                                Traceback (most recent call last)",
      "\u001b[1;32m<ipython-input-61-69604235634f>\u001b[0m in \u001b[0;36m<module>\u001b[1;34m\u001b[0m\n\u001b[1;32m----> 1\u001b[1;33m \u001b[0ml\u001b[0m\u001b[1;33m.\u001b[0m\u001b[0mremove\u001b[0m\u001b[1;33m(\u001b[0m\u001b[1;36m50\u001b[0m\u001b[1;33m)\u001b[0m\u001b[1;33m\u001b[0m\u001b[1;33m\u001b[0m\u001b[0m\n\u001b[0m",
      "\u001b[1;31mValueError\u001b[0m: list.remove(x): x not in list"
     ]
    }
   ],
   "source": [
    "l.remove(50)"
   ]
  },
  {
   "cell_type": "code",
   "execution_count": 65,
   "metadata": {},
   "outputs": [
    {
     "name": "stdout",
     "output_type": "stream",
     "text": [
      "Before Removal:  [1, 2, 3, 4, 5, 6]\n",
      "Enter element to remove:5\n",
      "After Removal:  [1, 2, 3, 4, 6]\n"
     ]
    }
   ],
   "source": [
    "L=[1,2,3,4,5,6]\n",
    "print(\"Before Removal: \",L)\n",
    "x=int(input(\"Enter element to remove:\"))\n",
    "if x in L:\n",
    "    L.remove(x)\n",
    "    print(\"After Removal: \",L)\n",
    "else:\n",
    "    print(x,\"Not availabe in list\")    "
   ]
  },
  {
   "cell_type": "markdown",
   "metadata": {},
   "source": [
    "**How to remove all occurences from a list?**"
   ]
  },
  {
   "cell_type": "code",
   "execution_count": 69,
   "metadata": {},
   "outputs": [
    {
     "name": "stdout",
     "output_type": "stream",
     "text": [
      "Enter element to remove:1\n",
      "After Removal: [2, 2, 2, 3, 3]\n"
     ]
    }
   ],
   "source": [
    "L=[1,1,1,1,2,2,2,3,3]\n",
    "x=int(input(\"Enter element to remove:\"))\n",
    "while True:\n",
    "    if x in L:\n",
    "        L.remove(x)\n",
    "    else:\n",
    "        break\n",
    "print(\"After Removal:\",L)"
   ]
  },
  {
   "cell_type": "markdown",
   "metadata": {},
   "source": [
    "**pop(index)** - pop(index) will remove the element present in the specified index or position.<br>\n",
    "> - Syntax: **List.pop(index)**<br>\n",
    "> - By default it is **List.pop()**: Last element will be removed from the list.<br>\n",
    "> - if index has to be provided for the removal of specific element from the list.\n",
    "\n",
    "Example:"
   ]
  },
  {
   "cell_type": "code",
   "execution_count": 2,
   "metadata": {},
   "outputs": [
    {
     "name": "stdout",
     "output_type": "stream",
     "text": [
      "Before Removal: [10, 20, 30]\n",
      "30\n",
      "After removal [10, 20]\n",
      "20\n",
      "After removal [10]\n",
      "10\n",
      "After removal []\n"
     ]
    },
    {
     "ename": "IndexError",
     "evalue": "pop from empty list",
     "output_type": "error",
     "traceback": [
      "\u001b[1;31m---------------------------------------------------------------------------\u001b[0m",
      "\u001b[1;31mIndexError\u001b[0m                                Traceback (most recent call last)",
      "\u001b[1;32m<ipython-input-2-6e6d869a1591>\u001b[0m in \u001b[0;36m<module>\u001b[1;34m\u001b[0m\n\u001b[0;32m      7\u001b[0m \u001b[0mprint\u001b[0m\u001b[1;33m(\u001b[0m\u001b[0ml\u001b[0m\u001b[1;33m.\u001b[0m\u001b[0mpop\u001b[0m\u001b[1;33m(\u001b[0m\u001b[1;33m)\u001b[0m\u001b[1;33m)\u001b[0m\u001b[1;33m\u001b[0m\u001b[1;33m\u001b[0m\u001b[0m\n\u001b[0;32m      8\u001b[0m \u001b[0mprint\u001b[0m\u001b[1;33m(\u001b[0m\u001b[1;34m\"After removal\"\u001b[0m\u001b[1;33m,\u001b[0m\u001b[0ml\u001b[0m\u001b[1;33m)\u001b[0m\u001b[1;33m\u001b[0m\u001b[1;33m\u001b[0m\u001b[0m\n\u001b[1;32m----> 9\u001b[1;33m \u001b[0mprint\u001b[0m\u001b[1;33m(\u001b[0m\u001b[0ml\u001b[0m\u001b[1;33m.\u001b[0m\u001b[0mpop\u001b[0m\u001b[1;33m(\u001b[0m\u001b[1;33m)\u001b[0m\u001b[1;33m)\u001b[0m\u001b[1;33m\u001b[0m\u001b[1;33m\u001b[0m\u001b[0m\n\u001b[0m\u001b[0;32m     10\u001b[0m \u001b[0mprint\u001b[0m\u001b[1;33m(\u001b[0m\u001b[1;34m\"After removal\"\u001b[0m\u001b[1;33m,\u001b[0m\u001b[0ml\u001b[0m\u001b[1;33m)\u001b[0m\u001b[1;33m\u001b[0m\u001b[1;33m\u001b[0m\u001b[0m\n\u001b[0;32m     11\u001b[0m \u001b[1;33m\u001b[0m\u001b[0m\n",
      "\u001b[1;31mIndexError\u001b[0m: pop from empty list"
     ]
    }
   ],
   "source": [
    "l=[10,20,30]\n",
    "print(\"Before Removal:\",l)\n",
    "print(l.pop())\n",
    "print(\"After removal\",l)\n",
    "print(l.pop())\n",
    "print(\"After removal\",l)\n",
    "print(l.pop())\n",
    "print(\"After removal\",l)\n",
    "print(l.pop())\n",
    "print(\"After removal\",l)\n",
    "\n"
   ]
  },
  {
   "cell_type": "markdown",
   "metadata": {},
   "source": [
    " - If observed in the above example, Last element is removed from the list. Likeweise, all the elements will be removed one by one upon each time we run the cell. So, the List will become empty at one point. \n",
    " - IndexError will be raised, if we use pop() on empty list."
   ]
  },
  {
   "cell_type": "code",
   "execution_count": 3,
   "metadata": {},
   "outputs": [],
   "source": [
    "l=[10,20,30,40,50]"
   ]
  },
  {
   "cell_type": "markdown",
   "metadata": {},
   "source": [
    "Now, i want to remove the element 20 which is at index 1. So, we need to mention the index in pop() method.<br> For Example,"
   ]
  },
  {
   "cell_type": "code",
   "execution_count": 4,
   "metadata": {},
   "outputs": [
    {
     "name": "stdout",
     "output_type": "stream",
     "text": [
      "20\n",
      "[10, 30, 40, 50]\n"
     ]
    }
   ],
   "source": [
    "print(l.pop(1))\n",
    "print(l)"
   ]
  },
  {
   "cell_type": "markdown",
   "metadata": {},
   "source": [
    "**Note:** IndexError will be raised if the specified index is not available."
   ]
  },
  {
   "cell_type": "code",
   "execution_count": 7,
   "metadata": {},
   "outputs": [
    {
     "ename": "IndexError",
     "evalue": "pop index out of range",
     "output_type": "error",
     "traceback": [
      "\u001b[1;31m---------------------------------------------------------------------------\u001b[0m",
      "\u001b[1;31mIndexError\u001b[0m                                Traceback (most recent call last)",
      "\u001b[1;32m<ipython-input-7-40ecc6e65e4b>\u001b[0m in \u001b[0;36m<module>\u001b[1;34m\u001b[0m\n\u001b[1;32m----> 1\u001b[1;33m \u001b[0mprint\u001b[0m\u001b[1;33m(\u001b[0m\u001b[0ml\u001b[0m\u001b[1;33m.\u001b[0m\u001b[0mpop\u001b[0m\u001b[1;33m(\u001b[0m\u001b[1;36m100\u001b[0m\u001b[1;33m)\u001b[0m\u001b[1;33m)\u001b[0m\u001b[1;33m\u001b[0m\u001b[1;33m\u001b[0m\u001b[0m\n\u001b[0m",
      "\u001b[1;31mIndexError\u001b[0m: pop index out of range"
     ]
    }
   ],
   "source": [
    "print(l.pop(100))"
   ]
  },
  {
   "cell_type": "markdown",
   "metadata": {},
   "source": [
    "**Note:** remove() and pop() is used to remove only one element.<br><br>\n",
    "If we want all the elemets to be removed from the list, we need to use the below element."
   ]
  },
  {
   "cell_type": "markdown",
   "metadata": {},
   "source": [
    "**clear()** - clear() is used to remove all the elements from the list.<br>\n",
    "> Syntax: **List.clear()**\n",
    "\n",
    "Example:"
   ]
  },
  {
   "cell_type": "code",
   "execution_count": 8,
   "metadata": {},
   "outputs": [
    {
     "name": "stdout",
     "output_type": "stream",
     "text": [
      "List Before applying clear:  [10, 20, 30, 40]\n",
      "List after applying clear:  []\n"
     ]
    }
   ],
   "source": [
    "l=[10,20,30,40]\n",
    "print(\"List Before applying clear: \",l)\n",
    "l.clear()\n",
    "print(\"List after applying clear: \",l)"
   ]
  },
  {
   "cell_type": "markdown",
   "metadata": {},
   "source": [
    "**To Increase size of the list/To add Elements:**<br>\n",
    "append(), extend(), insert()<br><br>\n",
    "**To Decrease size of the list/To remove Elements:**<br>\n",
    "remove(), pop(), clear()\n",
    "\n",
    "<br>we can increase or decrease the size of the list. Hence, we can say that **List is Dynamic**\n"
   ]
  },
  {
   "cell_type": "markdown",
   "metadata": {},
   "source": [
    "### Ordering Elements of the List"
   ]
  },
  {
   "cell_type": "markdown",
   "metadata": {},
   "source": [
    "#### Reversing Elements of the List\n",
    "***"
   ]
  },
  {
   "cell_type": "markdown",
   "metadata": {},
   "source": [
    "\n",
    "**reverse()** - It will reverse the entire list.<br>\n",
    "> - Syantax: **List.reverse()**<br>\n",
    "> - reverse() is a **List Specific Method** only, Not applicable for Other sequences like Tuple,String,Set,Dict.<br>\n",
    "> - **reversed()** Method is applicable for all the sequences.\n",
    "\n",
    "Example:"
   ]
  },
  {
   "cell_type": "code",
   "execution_count": 1,
   "metadata": {},
   "outputs": [
    {
     "name": "stdout",
     "output_type": "stream",
     "text": [
      "List Before Reverse:  [10, 20, 30, 40, 50]\n",
      "List After Reverse:  [50, 40, 30, 20, 10]\n"
     ]
    }
   ],
   "source": [
    "l=[10,20,30,40,50]\n",
    "print(\"List Before Reverse: \",l)\n",
    "l.reverse()\n",
    "print(\"List After Reverse: \",l)"
   ]
  },
  {
   "cell_type": "markdown",
   "metadata": {},
   "source": [
    "**reversed(object)** - This is an **python inbuilt Method** for reversing the sequences.<br>\n",
    "> Syntax: **reversed(Sequence)**<br>\n",
    "> A New iterator object will created with reverse method. Existing object will not be changed.\n",
    "\n",
    "Example:"
   ]
  },
  {
   "cell_type": "code",
   "execution_count": 4,
   "metadata": {},
   "outputs": [
    {
     "name": "stdout",
     "output_type": "stream",
     "text": [
      "[40, 30, 20, 10]\n"
     ]
    }
   ],
   "source": [
    "l=[10,20,30,40]\n",
    "r=reversed(l)\n",
    "l1=list(r)\n",
    "print(l1)"
   ]
  },
  {
   "cell_type": "markdown",
   "metadata": {},
   "source": [
    "We need to covert the output of reversed method to required sequence type as shown above."
   ]
  },
  {
   "cell_type": "code",
   "execution_count": 13,
   "metadata": {},
   "outputs": [
    {
     "name": "stdout",
     "output_type": "stream",
     "text": [
      "<reversed object at 0x0000023C17B59490>\n",
      "marias"
     ]
    }
   ],
   "source": [
    "l='sairam'\n",
    "r=reversed(l) # An reversed iterative object is created.\n",
    "print(r)\n",
    "for i in r:  # we have to iterate through the output and covert to desired type.\n",
    "    print(i,end=\"\")"
   ]
  },
  {
   "cell_type": "markdown",
   "metadata": {},
   "source": [
    "#### Sorting Elements of the list\n",
    "***"
   ]
  },
  {
   "cell_type": "markdown",
   "metadata": {},
   "source": [
    "**sort()** - It will sort the elements of the list according to default natural sorting order.<br>\n",
    "> Syntax: **List.sort()**<br>\n",
    "> Default Sorting order for types are as follows:<br>\n",
    "> In the existing list only, order will be sorted.\n",
    ">> **Nummbers - Ascending Order**<br>\n",
    ">> **String - Alphabetical Order**<br>\n",
    "\n",
    "\n",
    "> For the order to be descending or reverse, we need to use **reverse=True** inside the sort argument as **List.sort(reverse=True)**\n",
    "\n",
    "Example:"
   ]
  },
  {
   "cell_type": "code",
   "execution_count": 16,
   "metadata": {},
   "outputs": [
    {
     "name": "stdout",
     "output_type": "stream",
     "text": [
      "Before Soring [10, 0, -5, 20, 2]\n",
      "After Sorting [-5, 0, 2, 10, 20]\n",
      "After Sorting with reserve argument [20, 10, 2, 0, -5]\n"
     ]
    }
   ],
   "source": [
    "l=[10,0,-5,20,2]\n",
    "print(\"Before Soring\",l)\n",
    "l.sort()\n",
    "print(\"After Sorting\",l)\n",
    "l.sort(reverse=True)\n",
    "print(\"After Sorting with reserve argument\",l)"
   ]
  },
  {
   "cell_type": "code",
   "execution_count": 17,
   "metadata": {},
   "outputs": [
    {
     "name": "stdout",
     "output_type": "stream",
     "text": [
      "Before Soring ['Banana', 'Cat', 'Apple']\n",
      "After Sorting ['Apple', 'Banana', 'Cat']\n",
      "After Sorting with reserve argument ['Cat', 'Banana', 'Apple']\n"
     ]
    }
   ],
   "source": [
    "l=['Banana','Cat','Apple']\n",
    "print(\"Before Soring\",l)\n",
    "l.sort()\n",
    "print(\"After Sorting\",l)\n",
    "l.sort(reverse=True)\n",
    "print(\"After Sorting with reserve argument\",l)"
   ]
  },
  {
   "cell_type": "markdown",
   "metadata": {},
   "source": [
    "**Note:** For sort() method in list, Compulsary all the elements must be **Homogenous**, else TypeError will be raised as shown below."
   ]
  },
  {
   "cell_type": "code",
   "execution_count": 18,
   "metadata": {},
   "outputs": [
    {
     "ename": "TypeError",
     "evalue": "'<' not supported between instances of 'str' and 'int'",
     "output_type": "error",
     "traceback": [
      "\u001b[1;31m---------------------------------------------------------------------------\u001b[0m",
      "\u001b[1;31mTypeError\u001b[0m                                 Traceback (most recent call last)",
      "\u001b[1;32m<ipython-input-18-0a90d1c6616d>\u001b[0m in \u001b[0;36m<module>\u001b[1;34m\u001b[0m\n\u001b[0;32m      1\u001b[0m \u001b[0ml\u001b[0m\u001b[1;33m=\u001b[0m\u001b[1;33m[\u001b[0m\u001b[1;36m20\u001b[0m\u001b[1;33m,\u001b[0m\u001b[1;36m30\u001b[0m\u001b[1;33m,\u001b[0m\u001b[1;34m'ram'\u001b[0m\u001b[1;33m,\u001b[0m\u001b[1;36m40\u001b[0m\u001b[1;33m]\u001b[0m\u001b[1;33m\u001b[0m\u001b[1;33m\u001b[0m\u001b[0m\n\u001b[1;32m----> 2\u001b[1;33m \u001b[0ml\u001b[0m\u001b[1;33m.\u001b[0m\u001b[0msort\u001b[0m\u001b[1;33m(\u001b[0m\u001b[1;33m)\u001b[0m\u001b[1;33m\u001b[0m\u001b[1;33m\u001b[0m\u001b[0m\n\u001b[0m\u001b[0;32m      3\u001b[0m \u001b[0mprint\u001b[0m\u001b[1;33m(\u001b[0m\u001b[0ml\u001b[0m\u001b[1;33m)\u001b[0m\u001b[1;33m\u001b[0m\u001b[1;33m\u001b[0m\u001b[0m\n",
      "\u001b[1;31mTypeError\u001b[0m: '<' not supported between instances of 'str' and 'int'"
     ]
    }
   ],
   "source": [
    "l=[20,30,'ram',40]\n",
    "l.sort()\n",
    "print(l)"
   ]
  },
  {
   "cell_type": "markdown",
   "metadata": {},
   "source": [
    "**sorted(object):** This is an Inbuilt Python Function.<br>\n",
    "> A New List object will be created with the Already Existing List with sorted(object) Function. So, **Sorted Type Return Type will a List.**\n"
   ]
  },
  {
   "cell_type": "code",
   "execution_count": 21,
   "metadata": {},
   "outputs": [
    {
     "name": "stdout",
     "output_type": "stream",
     "text": [
      "[20, 10, 30, 5]\n",
      "[5, 10, 20, 30]\n"
     ]
    }
   ],
   "source": [
    "l1=[20,10,30,5]\n",
    "l2=sorted(l1)\n",
    "print(l1)\n",
    "print(l2)"
   ]
  },
  {
   "cell_type": "markdown",
   "metadata": {},
   "source": [
    "## Aliasing and Cloning of List Objects:"
   ]
  },
  {
   "cell_type": "markdown",
   "metadata": {},
   "source": [
    "**Aliasing** - The process of creating duplicate reference variable is called Aliasing<br>\n",
    "> The problem with aliasing is, if we change a content of the one variable automatically that changes will be reflected to other variables also since both the variables are referencing to the same object.<br>\n",
    "\n",
    "For Example:"
   ]
  },
  {
   "cell_type": "code",
   "execution_count": 23,
   "metadata": {},
   "outputs": [
    {
     "name": "stdout",
     "output_type": "stream",
     "text": [
      "[7777, 20, 30, 40]\n",
      "2457120024448\n",
      "[7777, 20, 30, 40]\n",
      "2457120024448\n"
     ]
    }
   ],
   "source": [
    "L1=[10,20,30,40]\n",
    "L2=L1\n",
    "L1[0]=7777\n",
    "print(L1)\n",
    "print(id(L1))\n",
    "print(L2)\n",
    "print(id(L2))"
   ]
  },
  {
   "cell_type": "markdown",
   "metadata": {},
   "source": [
    " - As discussed, We have made changes to L1 List by replacing 10 with 7777. This change has reflected in L2 as well as shown above, it because L2 and L1 are referencing to same object."
   ]
  },
  {
   "cell_type": "markdown",
   "metadata": {},
   "source": [
    "Now we dont want this change made in L1 reflecting in L2. <br>\n",
    "**Cloning -** The process of creating a complete duplicate object but not duplicate reference variables is called cloning.<br>\n",
    "> We can peform cloning with two methods<br> 1) using Slice Operator <br>2) Using Copy() Method. \n",
    "\n",
    "For Example:"
   ]
  },
  {
   "cell_type": "code",
   "execution_count": 26,
   "metadata": {},
   "outputs": [
    {
     "name": "stdout",
     "output_type": "stream",
     "text": [
      "Address of L1 Object 2457120024000\n",
      "Address of L2 Object 2457119041856\n"
     ]
    }
   ],
   "source": [
    "L1=[10,20,30,40,50] #Existing List Object\n",
    "L2=L1[::] # Creating Duplicate List Object\n",
    "print('Address of L1 Object',id(L1))\n",
    "print('Address of L2 Object',id(L2))"
   ]
  },
  {
   "cell_type": "markdown",
   "metadata": {},
   "source": [
    " - Now, we have created a different duplicate object L2 replicating the same content as in L1. As a proof, we can observe the address id's of L1 and L2, Both are different. So, We can say duplicate object is created.<br>\n",
    " - So, Changes made in L1 will not reflect in L2 as they were different objects as shown below."
   ]
  },
  {
   "cell_type": "code",
   "execution_count": 28,
   "metadata": {},
   "outputs": [
    {
     "name": "stdout",
     "output_type": "stream",
     "text": [
      "L1 content [10, 7777, 30, 40, 50]\n",
      "L2 Content [10, 20, 30, 40, 50]\n"
     ]
    }
   ],
   "source": [
    "L1[1]=7777\n",
    "print(\"L1 content\",L1)\n",
    "print(\"L2 Content\",L2)"
   ]
  },
  {
   "cell_type": "markdown",
   "metadata": {},
   "source": [
    " - Instead of Slicing we can use **copy()** function to copy the content as shown below"
   ]
  },
  {
   "cell_type": "code",
   "execution_count": 30,
   "metadata": {},
   "outputs": [
    {
     "name": "stdout",
     "output_type": "stream",
     "text": [
      "Address of L1 Object 2457119099584\n",
      "Address of L2 Object 2457119083264\n",
      "L1 content [10, 7777, 30, 40, 50]\n",
      "L2 Content [10, 20, 30, 40, 50]\n"
     ]
    }
   ],
   "source": [
    "L1=[10,20,30,40,50] #Existing List Object\n",
    "#L2=L1[::] # Creating Duplicate List Object using slice operator\n",
    "L2=L1.copy() # Creating Duplicate List Object using Copy() Method\n",
    "print('Address of L1 Object',id(L1))\n",
    "print('Address of L2 Object',id(L2))\n",
    "L1[1]=7777\n",
    "print(\"L1 content\",L1)\n",
    "print(\"L2 Content\",L2)"
   ]
  },
  {
   "cell_type": "markdown",
   "metadata": {},
   "source": [
    "# Nested Lists"
   ]
  },
  {
   "cell_type": "markdown",
   "metadata": {},
   "source": [
    " - A List inside another List is called **Nested List**.\n",
    " Example:\n",
    " > L=[10,20,[30,40]], Where <br>L[1] = 10<br>L[2] = 20<br>L[3]=[30,40]\n",
    " \n",
    " > If we want to access the element from the L[3] which again contains elements with 30,40 at 0,1 indexes of L[3].<br>\n",
    " > I want to get 40 from the L.<br>we can do that as follows<br>L[2][1]\n",
    " "
   ]
  },
  {
   "cell_type": "code",
   "execution_count": 31,
   "metadata": {},
   "outputs": [
    {
     "name": "stdout",
     "output_type": "stream",
     "text": [
      "10\n",
      "20\n",
      "[30, 40]\n"
     ]
    }
   ],
   "source": [
    "L=[10,20,[30,40]]\n",
    "print(L[0])\n",
    "print(L[1])\n",
    "print(L[2])"
   ]
  },
  {
   "cell_type": "code",
   "execution_count": 33,
   "metadata": {},
   "outputs": [
    {
     "name": "stdout",
     "output_type": "stream",
     "text": [
      "40\n"
     ]
    }
   ],
   "source": [
    "print(L[2][1])"
   ]
  },
  {
   "cell_type": "code",
   "execution_count": 34,
   "metadata": {},
   "outputs": [
    {
     "name": "stdout",
     "output_type": "stream",
     "text": [
      "30\n"
     ]
    }
   ],
   "source": [
    "print(L[2][0])"
   ]
  },
  {
   "cell_type": "markdown",
   "metadata": {},
   "source": [
    "# List Comprehensions and Applications"
   ]
  },
  {
   "cell_type": "markdown",
   "metadata": {},
   "source": [
    "**List Comprehension** is an easy way of creating a List Object\n",
    "\n",
    "To Know the advantage of List Comprehension, Lets first create a List of Numbers from 0 to 9 in a normal way.<br>\n",
    "i.e. L=[1,2,3,4,5,6,7,8,9,10]\n"
   ]
  },
  {
   "cell_type": "code",
   "execution_count": 36,
   "metadata": {},
   "outputs": [
    {
     "name": "stdout",
     "output_type": "stream",
     "text": [
      "[1, 2, 3, 4, 5, 6, 7, 8, 9, 10]\n"
     ]
    }
   ],
   "source": [
    "L=[]\n",
    "for i in range(1,11):\n",
    "    L.append(i)\n",
    "print(L)    "
   ]
  },
  {
   "cell_type": "markdown",
   "metadata": {},
   "source": [
    "We can make the same List in a consize way with List Comprehension as below<br>\n",
    "> Syntax: [**expression** for **each_element** in **Sequence**] without condition<br>\n",
    "> Syntax: [**expression** for **each_element** in **Sequence** if **condition**] with condition\n",
    "\n",
    "In English:**For each element in sequence,if the conditon is satisfied then consider that element for expression**"
   ]
  },
  {
   "cell_type": "code",
   "execution_count": 37,
   "metadata": {},
   "outputs": [
    {
     "name": "stdout",
     "output_type": "stream",
     "text": [
      "[1, 2, 3, 4, 5, 6, 7, 8, 9, 10]\n"
     ]
    }
   ],
   "source": [
    "#Example for Without Condition\n",
    "L=[i for i in range(1,11)]\n",
    "print(L)"
   ]
  },
  {
   "cell_type": "code",
   "execution_count": 38,
   "metadata": {},
   "outputs": [
    {
     "name": "stdout",
     "output_type": "stream",
     "text": [
      "[2, 4, 6, 8, 10, 12, 14, 16, 18]\n"
     ]
    }
   ],
   "source": [
    "#Example for With Condition#\n",
    "\n",
    "#Program to print even numbers\n",
    "\n",
    "L=[i for i in range(1,20) if i%2==0]\n",
    "print(L)"
   ]
  },
  {
   "cell_type": "code",
   "execution_count": 39,
   "metadata": {},
   "outputs": [
    {
     "name": "stdout",
     "output_type": "stream",
     "text": [
      "[1, 4, 9, 16, 25, 36, 49, 64, 81, 100]\n"
     ]
    }
   ],
   "source": [
    "# program to create a list of square values from 1 to 10\n",
    "\n",
    "L=[i*i for i in range(1,11)]\n",
    "print(L)"
   ]
  },
  {
   "cell_type": "code",
   "execution_count": 41,
   "metadata": {},
   "outputs": [
    {
     "name": "stdout",
     "output_type": "stream",
     "text": [
      "[10, 20, 30, 40, 50, 60, 70, 80, 90, 100]\n"
     ]
    }
   ],
   "source": [
    "#Program to print numbers which are divisible by 10\n",
    "L=[i for i in range(1,101) if i%10==0]\n",
    "print(L)"
   ]
  },
  {
   "cell_type": "code",
   "execution_count": 42,
   "metadata": {},
   "outputs": [
    {
     "name": "stdout",
     "output_type": "stream",
     "text": [
      "[10, 20]\n"
     ]
    }
   ],
   "source": [
    "# Create a list with elements present in L1 but not in L2\n",
    "L1=[10,20,30,40]\n",
    "L2=[30,40,50,60]\n",
    "\n",
    "L=[x for x in L1 if x not in L2]\n",
    "print(L)"
   ]
  },
  {
   "cell_type": "code",
   "execution_count": 43,
   "metadata": {},
   "outputs": [
    {
     "name": "stdout",
     "output_type": "stream",
     "text": [
      "[30, 40]\n"
     ]
    }
   ],
   "source": [
    "# Create a list with elements present in L1 and L2\n",
    "L1=[10,20,30,40]\n",
    "L2=[30,40,50,60]\n",
    "\n",
    "L=[x for x in L1 if x in L2]\n",
    "print(L)"
   ]
  },
  {
   "cell_type": "code",
   "execution_count": 45,
   "metadata": {},
   "outputs": [
    {
     "name": "stdout",
     "output_type": "stream",
     "text": [
      "['B', 'N', 'V', 'C']\n"
     ]
    }
   ],
   "source": [
    "L=['Balaiah','Nagajuna','Venkatesh','Chiranjeevi']\n",
    "L1=[i[0] for i in L] \n",
    "print(L1)"
   ]
  },
  {
   "cell_type": "code",
   "execution_count": 47,
   "metadata": {},
   "outputs": [
    {
     "name": "stdout",
     "output_type": "stream",
     "text": [
      "['the', 'quick', 'brown', 'fox', 'jumps', 'over', 'the', 'lazy', 'dog']\n",
      "[['THE', 3], ['QUICK', 5], ['BROWN', 5], ['FOX', 3], ['JUMPS', 5], ['OVER', 4], ['THE', 3], ['LAZY', 4], ['DOG', 3]]\n"
     ]
    }
   ],
   "source": [
    "s='the quick brown fox jumps over the lazy dog'\n",
    "words=s.split()\n",
    "print(words)\n",
    "L=[[word.upper(),len(word)] for word in words]\n",
    "print(L)"
   ]
  },
  {
   "cell_type": "code",
   "execution_count": 54,
   "metadata": {},
   "outputs": [
    {
     "name": "stdout",
     "output_type": "stream",
     "text": [
      "Enter Word: sairam\n",
      "['a', 'i']\n",
      "The Number of unique vowels: 2\n"
     ]
    }
   ],
   "source": [
    "# Program to display unique vowels present in the given word.\n",
    "\n",
    "vowels=['a','e','i','o','u']\n",
    "word=input(\"Enter Word: \")\n",
    "result=[]\n",
    "for ch in word:\n",
    "    if ch in vowels:\n",
    "        if ch not in result:\n",
    "            result.append(ch)\n",
    "print(result)\n",
    "print(\"The Number of unique vowels:\",len(result))"
   ]
  },
  {
   "cell_type": "code",
   "execution_count": 53,
   "metadata": {},
   "outputs": [
    {
     "name": "stdout",
     "output_type": "stream",
     "text": [
      "Enter Word: sairam\n",
      "['a', 'i']\n",
      "The Number of unique vowels: 2\n"
     ]
    }
   ],
   "source": [
    "vowels=['a','e','i','o','u']\n",
    "word=input(\"Enter Word: \")\n",
    "result=[ch for ch in vowels if ch in word]\n",
    "print(result)\n",
    "print(\"The Number of unique vowels:\",len(result))"
   ]
  },
  {
   "cell_type": "markdown",
   "metadata": {},
   "source": [
    "## **THE END**"
   ]
  }
 ],
 "metadata": {
  "kernelspec": {
   "display_name": "Python 3",
   "language": "python",
   "name": "python3"
  },
  "language_info": {
   "codemirror_mode": {
    "name": "ipython",
    "version": 3
   },
   "file_extension": ".py",
   "mimetype": "text/x-python",
   "name": "python",
   "nbconvert_exporter": "python",
   "pygments_lexer": "ipython3",
   "version": "3.8.3"
  }
 },
 "nbformat": 4,
 "nbformat_minor": 4
}
