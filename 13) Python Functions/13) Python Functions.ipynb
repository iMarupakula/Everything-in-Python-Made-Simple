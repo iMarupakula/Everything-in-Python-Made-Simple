{
 "cells": [
  {
   "cell_type": "markdown",
   "metadata": {},
   "source": [
    "# Python Functions"
   ]
  },
  {
   "cell_type": "markdown",
   "metadata": {},
   "source": [
    "# Need of Functions and Advantages"
   ]
  },
  {
   "cell_type": "code",
   "execution_count": 2,
   "metadata": {},
   "outputs": [
    {
     "name": "stdout",
     "output_type": "stream",
     "text": [
      "sum: 50\n",
      "Difference: -10\n",
      "Product: 600\n",
      "sum: 500\n",
      "Difference: -300\n",
      "Product: 40000\n",
      "sum: 3000\n",
      "Difference: 1000\n",
      "Product: 2000000\n"
     ]
    }
   ],
   "source": [
    "a=20\n",
    "b=30\n",
    "print(\"sum:\",a+b)\n",
    "print(\"Difference:\",a-b)\n",
    "print(\"Product:\",a*b)\n",
    "#Now i want to use this for other numbers of a and b \n",
    "a=100\n",
    "b=400\n",
    "print(\"sum:\",a+b)\n",
    "print(\"Difference:\",a-b)\n",
    "print(\"Product:\",a*b)\n",
    "# again want to use this code for other numbers of a and b\n",
    "a=2000\n",
    "b=1000\n",
    "print(\"sum:\",a+b)\n",
    "print(\"Difference:\",a-b)\n",
    "print(\"Product:\",a*b)"
   ]
  },
  {
   "cell_type": "markdown",
   "metadata": {},
   "source": [
    "If we observe, The above program is huge and some grroup of statements are repeated.\n",
    "> <span style=\"color:blue\"> If a group of statements is repeatedly required then it is not recommended to write\n",
    "these statements everytime seperately.We have to define these statements as a single\n",
    "unit and we can call that unit any number of times based on our requirement without\n",
    "rewriting. This unit is nothing but **function**.<span><br>\n",
    "\n",
    "> The main advantage of functions is code Reusability.<br>\n",
    "> **Note**: In other languages functions are known as methods,procedures,subroutines etc    "
   ]
  },
  {
   "cell_type": "code",
   "execution_count": 3,
   "metadata": {},
   "outputs": [
    {
     "name": "stdout",
     "output_type": "stream",
     "text": [
      "sum: 30\n",
      "Difference: 10\n",
      "Product: 200\n"
     ]
    }
   ],
   "source": [
    "# We can write the above program as below\n",
    "def calculate(a,b):\n",
    "    print(\"sum:\",a+b)\n",
    "    print(\"Difference:\",a-b)\n",
    "    print(\"Product:\",a*b)\n",
    "    \n",
    "calculate(20,10) # We just need to call the function to perform the calculations repeatedly with required values as arguments."
   ]
  },
  {
   "cell_type": "code",
   "execution_count": 4,
   "metadata": {},
   "outputs": [
    {
     "name": "stdout",
     "output_type": "stream",
     "text": [
      "sum: 500\n",
      "Difference: 100\n",
      "Product: 60000\n"
     ]
    }
   ],
   "source": [
    "calculate(300,200)"
   ]
  },
  {
   "cell_type": "markdown",
   "metadata": {},
   "source": [
    "We have written the code once, and used it many times to perform the similiar operations. This is called **code Reusability**"
   ]
  },
  {
   "cell_type": "markdown",
   "metadata": {},
   "source": [
    "## Types of Functions:"
   ]
  },
  {
   "cell_type": "markdown",
   "metadata": {},
   "source": [
    "Python supports 2 types of functions\n",
    "> 1) Built in Functions<br>\n",
    "> 2) User Defined Functions<br><br>\n",
    "\n",
    "### 1)Built in Functions:\n",
    "The functions which are coming along with Python software automatically, are called\n",
    "built in functions or pre defined functions.<br>\n",
    "**Example:**<br>  \n",
    "id()<br>\n",
    "type()<br>\n",
    "input()<br>\n",
    "eval()<br>\n",
    "etc..<br><br>\n",
    " \n",
    "### 2)User Defined Functions:\n",
    "The functions which are developed by programmer explicitly according to business\n",
    "requirements, are called user defined functions.<br><br>\n",
    "**Syntax to Create User defined Functions:**"
   ]
  },
  {
   "cell_type": "markdown",
   "metadata": {},
   "source": [
    "**def** function_name(parameters):\n",
    "    \"\"\"doc string\"\"\"\n",
    "    ----------------\n",
    "    ----------------\n",
    "    return value"
   ]
  },
  {
   "cell_type": "markdown",
   "metadata": {},
   "source": [
    "**Note:** While creating functions we can use 2 keywords\n",
    "> 1) def (mandatory)<br>\n",
    "> 2) return (optional)"
   ]
  },
  {
   "cell_type": "code",
   "execution_count": 7,
   "metadata": {},
   "outputs": [
    {
     "name": "stdout",
     "output_type": "stream",
     "text": [
      "Hello Friends, Good Evening\n",
      "Hello Friends, Good Evening\n",
      "Hello Friends, Good Evening\n"
     ]
    }
   ],
   "source": [
    "# Write a function to print wish message\n",
    "def wish():\n",
    "    print(\"Hello Friends, Good Evening\")\n",
    "\n",
    "# How many times we call, this function will display the wish.     \n",
    "wish()\n",
    "wish()\n",
    "wish()"
   ]
  },
  {
   "cell_type": "markdown",
   "metadata": {},
   "source": [
    "### Function Parameters"
   ]
  },
  {
   "cell_type": "markdown",
   "metadata": {},
   "source": [
    "Parameters are inputs to the function. If a function contains parameters, then at the time\n",
    "of calling,compulsory we should provide values otherwise, we will get error.\n",
    "<br><br>\n",
    "Eg: **Write a function to take name of the student as input and print wish message by\n",
    "name**\n"
   ]
  },
  {
   "cell_type": "code",
   "execution_count": 8,
   "metadata": {},
   "outputs": [
    {
     "name": "stdout",
     "output_type": "stream",
     "text": [
      "Hello Durga  Good Morning\n",
      "Hello Ravi  Good Morning\n"
     ]
    }
   ],
   "source": [
    "def wish(name):\n",
    "    print(\"Hello\",name,\" Good Morning\")\n",
    "\n",
    "wish(\"Durga\")\n",
    "wish(\"Ravi\") "
   ]
  },
  {
   "cell_type": "code",
   "execution_count": 9,
   "metadata": {},
   "outputs": [
    {
     "ename": "TypeError",
     "evalue": "wish() missing 1 required positional argument: 'name'",
     "output_type": "error",
     "traceback": [
      "\u001b[1;31m---------------------------------------------------------------------------\u001b[0m",
      "\u001b[1;31mTypeError\u001b[0m                                 Traceback (most recent call last)",
      "\u001b[1;32m<ipython-input-9-c0e1380c0921>\u001b[0m in \u001b[0;36m<module>\u001b[1;34m\u001b[0m\n\u001b[1;32m----> 1\u001b[1;33m \u001b[0mwish\u001b[0m\u001b[1;33m(\u001b[0m\u001b[1;33m)\u001b[0m\u001b[1;33m\u001b[0m\u001b[1;33m\u001b[0m\u001b[0m\n\u001b[0m",
      "\u001b[1;31mTypeError\u001b[0m: wish() missing 1 required positional argument: 'name'"
     ]
    }
   ],
   "source": [
    "wish() # since function caontains parameters, compulsary we should provide values at the time of calling. else we will get error."
   ]
  },
  {
   "cell_type": "markdown",
   "metadata": {},
   "source": [
    "**Eg: Write a function to take number as input and print its square value**"
   ]
  },
  {
   "cell_type": "code",
   "execution_count": 10,
   "metadata": {},
   "outputs": [
    {
     "name": "stdout",
     "output_type": "stream",
     "text": [
      "The Square of 4 is 16\n",
      "The Square of 5 is 25\n"
     ]
    }
   ],
   "source": [
    "def squareIt(number):\n",
    "    print(\"The Square of\",number,\"is\", number*number)\n",
    "\n",
    "squareIt(4)\n",
    "squareIt(5)"
   ]
  },
  {
   "cell_type": "markdown",
   "metadata": {},
   "source": [
    "### Return Statement"
   ]
  },
  {
   "cell_type": "markdown",
   "metadata": {},
   "source": [
    "Function can take input values as parameters and executes business logic, and returns\n",
    "output to the caller with return statement.<br><br>\n",
    "\n",
    "**Q) Write a Function to accept 2 Numbers as Input and return Sum**"
   ]
  },
  {
   "cell_type": "code",
   "execution_count": 12,
   "metadata": {},
   "outputs": [
    {
     "data": {
      "text/plain": [
       "30"
      ]
     },
     "execution_count": 12,
     "metadata": {},
     "output_type": "execute_result"
    }
   ],
   "source": [
    "def add(a,b):\n",
    "    sum=a+b\n",
    "    return sum \n",
    "\n",
    "#It is not compulsary to use the return value, even if we don't hold the result returned by a function upon calling is also fine.\n",
    "\n",
    "add(10,20)"
   ]
  },
  {
   "cell_type": "code",
   "execution_count": 14,
   "metadata": {},
   "outputs": [
    {
     "name": "stdout",
     "output_type": "stream",
     "text": [
      "The Sum: 50\n"
     ]
    }
   ],
   "source": [
    "# We can store the returned result of the function as follows.\n",
    "result=add(20,30) #we are storing the returned value in result\n",
    "print(\"The Sum:\",result)"
   ]
  },
  {
   "cell_type": "code",
   "execution_count": 15,
   "metadata": {},
   "outputs": [
    {
     "name": "stdout",
     "output_type": "stream",
     "text": [
      "The Sum: 50\n"
     ]
    }
   ],
   "source": [
    "print(\"The Sum:\",add(20,30)) # This also valid, we can get the value directly."
   ]
  },
  {
   "cell_type": "markdown",
   "metadata": {},
   "source": [
    "If we are not writing return statement explicitly, then default return value is **None**."
   ]
  },
  {
   "cell_type": "code",
   "execution_count": 17,
   "metadata": {},
   "outputs": [
    {
     "name": "stdout",
     "output_type": "stream",
     "text": [
      "Hello\n",
      "The Return Value: None\n"
     ]
    }
   ],
   "source": [
    "def f1():\n",
    "    print(\"Hello\")\n",
    "\n",
    "\n",
    "x=f1()\n",
    "print(\"The Return Value:\",x)"
   ]
  },
  {
   "cell_type": "markdown",
   "metadata": {},
   "source": [
    "**Q) Write a Function to find Factorial of given Number?**\n"
   ]
  },
  {
   "cell_type": "code",
   "execution_count": 18,
   "metadata": {},
   "outputs": [],
   "source": [
    "def factorial(num):\n",
    "    result=1\n",
    "    while num>=1:\n",
    "        result=result*num\n",
    "        num=num-1\n",
    "    return result    "
   ]
  },
  {
   "cell_type": "code",
   "execution_count": 20,
   "metadata": {},
   "outputs": [
    {
     "name": "stdout",
     "output_type": "stream",
     "text": [
      "The factorial of 3 is  6\n"
     ]
    }
   ],
   "source": [
    "print(\"The factorial of 3 is \",factorial(3))"
   ]
  },
  {
   "cell_type": "code",
   "execution_count": 22,
   "metadata": {},
   "outputs": [
    {
     "name": "stdout",
     "output_type": "stream",
     "text": [
      "The Factorial of 1 is 1\n",
      "The Factorial of 2 is 2\n",
      "The Factorial of 3 is 6\n",
      "The Factorial of 4 is 24\n",
      "The Factorial of 5 is 120\n"
     ]
    }
   ],
   "source": [
    "for i in range(1,6):\n",
    "    print(\"The Factorial of {} is {}\".format(i,factorial(i)))"
   ]
  },
  {
   "cell_type": "markdown",
   "metadata": {},
   "source": [
    "### Returning Multiple Values From a Function"
   ]
  },
  {
   "cell_type": "markdown",
   "metadata": {},
   "source": [
    "In other languages like C,C++ and Java, function can return atmost one value. But in Python, a function can return any number of values."
   ]
  },
  {
   "cell_type": "code",
   "execution_count": 3,
   "metadata": {},
   "outputs": [
    {
     "name": "stdout",
     "output_type": "stream",
     "text": [
      "The sum is: 30\n",
      "The sub is: -10\n"
     ]
    }
   ],
   "source": [
    "def sum_sub(a,b):\n",
    "    sum=a+b\n",
    "    sub=a-b\n",
    "    return sum,sub # This will return two values.\n",
    "\n",
    "x,y=sum_sub(10,20) # Storing the returned values sum,sub into x,y variables.\n",
    "print(\"The sum is:\",x)\n",
    "print(\"The sub is:\",y)"
   ]
  },
  {
   "cell_type": "code",
   "execution_count": 5,
   "metadata": {},
   "outputs": [
    {
     "name": "stdout",
     "output_type": "stream",
     "text": [
      "<class 'tuple'>\n",
      "(30, 10, 200, 2.0)\n",
      "The Result are:\n",
      "30\n",
      "10\n",
      "200\n",
      "2.0\n"
     ]
    }
   ],
   "source": [
    "def calc(a,b):\n",
    "    sum=a+b\n",
    "    sub=a-b\n",
    "    mul=a*b\n",
    "    div=a/b\n",
    "    return sum,sub,mul,div # Internally, all the four values will be implemented as a tuple. \n",
    "\n",
    "t=calc(20,10)\n",
    "print(type(t))\n",
    "print(t)\n",
    "print(\"The Result are:\")\n",
    "for i in t:\n",
    "    print(i)"
   ]
  },
  {
   "cell_type": "markdown",
   "metadata": {},
   "source": [
    "So, **return** will result a tuple which contains multiple values."
   ]
  },
  {
   "cell_type": "markdown",
   "metadata": {},
   "source": [
    "# Types of Arguments"
   ]
  },
  {
   "cell_type": "markdown",
   "metadata": {},
   "source": [
    "**def** f1(a,b):\n",
    "\n",
    "    ------\n",
    "    ------\n",
    "    ------\n",
    "f1(10,20)    "
   ]
  },
  {
   "cell_type": "markdown",
   "metadata": {},
   "source": [
    "a, b are formal arguments where as 10,20 are actual arguments.<br><br>\n",
    "There are 4 types are actual arguments are allowed in Python.\n",
    "> 1) Positional Arguments<br>\n",
    "> 2) Keyword Arguments<br>\n",
    "> 3) Default Arguments<br>\n",
    "> 4) Variable Length Arguments"
   ]
  },
  {
   "cell_type": "markdown",
   "metadata": {},
   "source": [
    "## 1) Positional Arguments\n",
    "\n",
    "These are the arguments passed to function in correct positional order."
   ]
  },
  {
   "cell_type": "code",
   "execution_count": 7,
   "metadata": {},
   "outputs": [
    {
     "name": "stdout",
     "output_type": "stream",
     "text": [
      "100\n"
     ]
    }
   ],
   "source": [
    "def sub(a,b):\n",
    "    print(a-b)\n",
    "    \n",
    "sub(200,100) #200 is passed to paramter 'a' and 100 is passes to parameter 'b'. Order is important in positional arguments.   "
   ]
  },
  {
   "cell_type": "markdown",
   "metadata": {},
   "source": [
    " - The number of arguments and position of arguments must be matched. If we change the order then result may be changed.<br>\n",
    " - If we change the number of arguments then we will get error as **TypeError: sub() missing 1 required positional argument: 'b'**"
   ]
  },
  {
   "cell_type": "code",
   "execution_count": 9,
   "metadata": {},
   "outputs": [
    {
     "ename": "TypeError",
     "evalue": "sub() missing 1 required positional argument: 'b'",
     "output_type": "error",
     "traceback": [
      "\u001b[1;31m---------------------------------------------------------------------------\u001b[0m",
      "\u001b[1;31mTypeError\u001b[0m                                 Traceback (most recent call last)",
      "\u001b[1;32m<ipython-input-9-6606a13cc92a>\u001b[0m in \u001b[0;36m<module>\u001b[1;34m\u001b[0m\n\u001b[1;32m----> 1\u001b[1;33m \u001b[0msub\u001b[0m\u001b[1;33m(\u001b[0m\u001b[1;36m200\u001b[0m\u001b[1;33m)\u001b[0m \u001b[1;31m# We have given only one argumnet instead of two.\u001b[0m\u001b[1;33m\u001b[0m\u001b[1;33m\u001b[0m\u001b[0m\n\u001b[0m",
      "\u001b[1;31mTypeError\u001b[0m: sub() missing 1 required positional argument: 'b'"
     ]
    }
   ],
   "source": [
    "sub(200) # We have given only one argumnet instead of two."
   ]
  },
  {
   "cell_type": "markdown",
   "metadata": {},
   "source": [
    "## 2) Keyword Arguments\n",
    " - If Huge number of arguments are there in a function,it is difficult to remember all parameters names and pass the arguments accordingly. To avoid this difficulty, we have **Keyword Arguments**.\n",
    " - We can pass argument values by keyword i.e by parameter name.<br>\n",
    " - Keyword Arguments are the most commonly used arguments. Because, we can pass arguments to a function by parameter names and don't need to worry about order."
   ]
  },
  {
   "cell_type": "code",
   "execution_count": 13,
   "metadata": {},
   "outputs": [
    {
     "name": "stdout",
     "output_type": "stream",
     "text": [
      "100\n"
     ]
    }
   ],
   "source": [
    "def sub(a,b):\n",
    "    print(a-b)\n",
    "    \n",
    "sub(200,100) # Positional Arguments"
   ]
  },
  {
   "cell_type": "code",
   "execution_count": 15,
   "metadata": {},
   "outputs": [
    {
     "name": "stdout",
     "output_type": "stream",
     "text": [
      "100\n"
     ]
    }
   ],
   "source": [
    "sub(b=200,a=300) # Keyword Arguments, We can give the arguments based on the parameter names defined in function.\n",
    "# Order doesn't"
   ]
  },
  {
   "cell_type": "markdown",
   "metadata": {},
   "source": [
    "Here the order of arguments is not important but number of arguments must be matched.\n",
    "<br><br>\n",
    "**Note:** We can use both positional and keyword arguments simultaneously. But first we\n",
    "have to take positional arguments and then keyword arguments,otherwise we will get\n",
    "syntaxerror."
   ]
  },
  {
   "cell_type": "code",
   "execution_count": 17,
   "metadata": {},
   "outputs": [
    {
     "name": "stdout",
     "output_type": "stream",
     "text": [
      "Hello Durga GoodMorning\n",
      "Hello Durga GoodMorning\n"
     ]
    }
   ],
   "source": [
    "def wish(name,msg):\n",
    "    print(\"Hello\",name,msg)\n",
    "    \n",
    "wish(\"Durga\",\"GoodMorning\") # Valid\n",
    "wish(\"Durga\",msg=\"GoodMorning\") # Valid, Positional argument followed by Keyword Argument."
   ]
  },
  {
   "cell_type": "code",
   "execution_count": 18,
   "metadata": {},
   "outputs": [
    {
     "ename": "SyntaxError",
     "evalue": "positional argument follows keyword argument (<ipython-input-18-167ff9485670>, line 1)",
     "output_type": "error",
     "traceback": [
      "\u001b[1;36m  File \u001b[1;32m\"<ipython-input-18-167ff9485670>\"\u001b[1;36m, line \u001b[1;32m1\u001b[0m\n\u001b[1;33m    wish(name=\"Durga\",\"GoodMorning\") # Invalid\u001b[0m\n\u001b[1;37m                      ^\u001b[0m\n\u001b[1;31mSyntaxError\u001b[0m\u001b[1;31m:\u001b[0m positional argument follows keyword argument\n"
     ]
    }
   ],
   "source": [
    "wish(name=\"Durga\",\"GoodMorning\") # Invalid"
   ]
  },
  {
   "cell_type": "markdown",
   "metadata": {},
   "source": [
    "## 3) Default Arguments\n",
    "\n",
    "Sometimes we can provide default values for our positional arguments."
   ]
  },
  {
   "cell_type": "code",
   "execution_count": 3,
   "metadata": {},
   "outputs": [
    {
     "ename": "TypeError",
     "evalue": "wish() missing 1 required positional argument: 'name'",
     "output_type": "error",
     "traceback": [
      "\u001b[1;31m---------------------------------------------------------------------------\u001b[0m",
      "\u001b[1;31mTypeError\u001b[0m                                 Traceback (most recent call last)",
      "\u001b[1;32m<ipython-input-3-3489ee1ac76c>\u001b[0m in \u001b[0;36m<module>\u001b[1;34m\u001b[0m\n\u001b[0;32m      1\u001b[0m \u001b[1;32mdef\u001b[0m \u001b[0mwish\u001b[0m\u001b[1;33m(\u001b[0m\u001b[0mname\u001b[0m\u001b[1;33m)\u001b[0m\u001b[1;33m:\u001b[0m\u001b[1;33m\u001b[0m\u001b[1;33m\u001b[0m\u001b[0m\n\u001b[0;32m      2\u001b[0m     \u001b[0mprint\u001b[0m\u001b[1;33m(\u001b[0m\u001b[1;34m\"Hello\"\u001b[0m\u001b[1;33m,\u001b[0m\u001b[0mname\u001b[0m\u001b[1;33m,\u001b[0m\u001b[1;34m\"Good Morning\"\u001b[0m\u001b[1;33m)\u001b[0m\u001b[1;33m\u001b[0m\u001b[1;33m\u001b[0m\u001b[0m\n\u001b[1;32m----> 3\u001b[1;33m \u001b[0mwish\u001b[0m\u001b[1;33m(\u001b[0m\u001b[1;33m)\u001b[0m \u001b[1;31m# Positional argument is missing here, TypeError will be raised stating \"missing 1 positional argument\"\u001b[0m\u001b[1;33m\u001b[0m\u001b[1;33m\u001b[0m\u001b[0m\n\u001b[0m",
      "\u001b[1;31mTypeError\u001b[0m: wish() missing 1 required positional argument: 'name'"
     ]
    }
   ],
   "source": [
    "def wish(name):\n",
    "    print(\"Hello\",name,\"Good Morning\")\n",
    "wish() # Positional argument is missing here, TypeError will be raised stating \"missing 1 positional argument\"    "
   ]
  },
  {
   "cell_type": "code",
   "execution_count": 4,
   "metadata": {},
   "outputs": [
    {
     "name": "stdout",
     "output_type": "stream",
     "text": [
      "Hello Durga Good Morning\n"
     ]
    }
   ],
   "source": [
    "wish('Durga') # Since we have passed the one positional Argument required, this will execute the function."
   ]
  },
  {
   "cell_type": "markdown",
   "metadata": {},
   "source": [
    "**<span style=\"color:blue\">If we are not passing any name then only default value will be considered.<span>**"
   ]
  },
  {
   "cell_type": "code",
   "execution_count": 5,
   "metadata": {},
   "outputs": [
    {
     "name": "stdout",
     "output_type": "stream",
     "text": [
      "Hello Guest Good Morning\n"
     ]
    }
   ],
   "source": [
    "def wish(name='Guest'): # Here we have declared the default argument, if the call is with empty arguments, default arguments will be considered for function execution.\n",
    "    print(\"Hello\",name,\"Good Morning\")\n",
    "wish() # No arguments given, so it will call the function with default arguments mentioned in function itself."
   ]
  },
  {
   "cell_type": "markdown",
   "metadata": {},
   "source": [
    "**Note:** After default arguments we should not take non default arguments. A Function cannot accept the default argument after non-default argument was given. "
   ]
  },
  {
   "cell_type": "code",
   "execution_count": 12,
   "metadata": {},
   "outputs": [
    {
     "name": "stdout",
     "output_type": "stream",
     "text": [
      "Hello Guest Good Morning\n"
     ]
    }
   ],
   "source": [
    "def wish(name='Guest',msg=\"Good Morning\"): # Valid, Both are default arguments.\n",
    "    print(\"Hello\",name,msg)\n",
    "\n",
    "wish()"
   ]
  },
  {
   "cell_type": "code",
   "execution_count": 11,
   "metadata": {},
   "outputs": [
    {
     "name": "stdout",
     "output_type": "stream",
     "text": [
      "Hello Durga Good Morning\n"
     ]
    }
   ],
   "source": [
    "def wish(name,msg=\"Good Morning\"): # This is Valid, default argument followed by Non-default argument.\n",
    "    print(\"Hello\",name,msg)\n",
    "\n",
    "wish(\"Durga\")"
   ]
  },
  {
   "cell_type": "code",
   "execution_count": 14,
   "metadata": {},
   "outputs": [
    {
     "name": "stdout",
     "output_type": "stream",
     "text": [
      "Hello Durga Good Night\n"
     ]
    }
   ],
   "source": [
    "wish(\"Durga\",\"Good Night\") #Since we are passing both the arguments, so default arguments will not be considered."
   ]
  },
  {
   "cell_type": "code",
   "execution_count": 15,
   "metadata": {},
   "outputs": [
    {
     "ename": "SyntaxError",
     "evalue": "non-default argument follows default argument (<ipython-input-15-6f1de409fe44>, line 3)",
     "output_type": "error",
     "traceback": [
      "\u001b[1;36m  File \u001b[1;32m\"<ipython-input-15-6f1de409fe44>\"\u001b[1;36m, line \u001b[1;32m3\u001b[0m\n\u001b[1;33m    def wish(name=\"Guest\",msg): # non-default argument follows default argument,so it is invaild.\u001b[0m\n\u001b[1;37m             ^\u001b[0m\n\u001b[1;31mSyntaxError\u001b[0m\u001b[1;31m:\u001b[0m non-default argument follows default argument\n"
     ]
    }
   ],
   "source": [
    "#default argument should be always after non-default arguments.\n",
    "\n",
    "def wish(name=\"Guest\",msg): # non-default argument follows default argument,so it is invaild. \n",
    "    print(\"Hello\",name,msg)\n",
    "\n",
    "wish(\"Good Morning\")"
   ]
  },
  {
   "cell_type": "markdown",
   "metadata": {},
   "source": [
    "## 4) Variable Lenght Arguments"
   ]
  },
  {
   "cell_type": "markdown",
   "metadata": {},
   "source": [
    " - Sometimes we can pass variable number of arguments to our function, such type of arguments are called variable length arguments.\n",
    " - We can declare a variable length argument with * symbol as follows\n",
    " - def f1(*n):\n",
    " - We can call this function by passing any number of arguments including zero number.\n",
    " - Internally all these values represented in the form of tuple."
   ]
  },
  {
   "cell_type": "code",
   "execution_count": 17,
   "metadata": {},
   "outputs": [
    {
     "name": "stdout",
     "output_type": "stream",
     "text": [
      "Variable Lenght Argument\n"
     ]
    }
   ],
   "source": [
    "def f1(*n):\n",
    "    print(\"Variable Lenght Argument\")\n",
    "\n",
    "f1()"
   ]
  },
  {
   "cell_type": "code",
   "execution_count": 18,
   "metadata": {},
   "outputs": [
    {
     "name": "stdout",
     "output_type": "stream",
     "text": [
      "Variable Lenght Argument\n"
     ]
    }
   ],
   "source": [
    "f1(10)"
   ]
  },
  {
   "cell_type": "code",
   "execution_count": 19,
   "metadata": {},
   "outputs": [
    {
     "name": "stdout",
     "output_type": "stream",
     "text": [
      "Variable Lenght Argument\n"
     ]
    }
   ],
   "source": [
    "f1(100000)"
   ]
  },
  {
   "cell_type": "code",
   "execution_count": 20,
   "metadata": {},
   "outputs": [
    {
     "name": "stdout",
     "output_type": "stream",
     "text": [
      "Variable Lenght Argument\n"
     ]
    }
   ],
   "source": [
    "f1(10,20,30,40)"
   ]
  },
  {
   "cell_type": "code",
   "execution_count": 21,
   "metadata": {},
   "outputs": [
    {
     "name": "stdout",
     "output_type": "stream",
     "text": [
      "<class 'tuple'>\n",
      "()\n"
     ]
    }
   ],
   "source": [
    "# This will accept No argument or 1 argument or 2 arguments .............or 1 lakh arguments\n",
    "def f1(*n):\n",
    "    print(type(n))\n",
    "    print(n)\n",
    "\n",
    "f1() # Internally, all the arguments we give will be stored in a tuple."
   ]
  },
  {
   "cell_type": "code",
   "execution_count": 22,
   "metadata": {},
   "outputs": [
    {
     "name": "stdout",
     "output_type": "stream",
     "text": [
      "<class 'tuple'>\n",
      "(10, 20, 30)\n"
     ]
    }
   ],
   "source": [
    "f1(10,20,30)"
   ]
  },
  {
   "cell_type": "markdown",
   "metadata": {},
   "source": [
    "If there is a change in arguments, we have to create so many functions for the same operation. This will reduce the user readability and will increase the size of the of code. To avoid this, we can use **Variable Lenght Arguments**"
   ]
  },
  {
   "cell_type": "code",
   "execution_count": 23,
   "metadata": {},
   "outputs": [],
   "source": [
    "def Sum(*n):\n",
    "    total=0\n",
    "    for x in n:\n",
    "        total=total+x\n",
    "    print(\"The sum is: \",total)"
   ]
  },
  {
   "cell_type": "code",
   "execution_count": 25,
   "metadata": {},
   "outputs": [
    {
     "name": "stdout",
     "output_type": "stream",
     "text": [
      "The sum is:  0\n"
     ]
    }
   ],
   "source": [
    "Sum()"
   ]
  },
  {
   "cell_type": "code",
   "execution_count": 26,
   "metadata": {},
   "outputs": [
    {
     "name": "stdout",
     "output_type": "stream",
     "text": [
      "The sum is:  10\n"
     ]
    }
   ],
   "source": [
    "Sum(10)"
   ]
  },
  {
   "cell_type": "code",
   "execution_count": 29,
   "metadata": {},
   "outputs": [
    {
     "name": "stdout",
     "output_type": "stream",
     "text": [
      "The sum is:  30\n"
     ]
    }
   ],
   "source": [
    "Sum(10,20)"
   ]
  },
  {
   "cell_type": "code",
   "execution_count": 28,
   "metadata": {},
   "outputs": [
    {
     "name": "stdout",
     "output_type": "stream",
     "text": [
      "The sum is:  450\n"
     ]
    }
   ],
   "source": [
    "Sum(10,20,30,40,50,60,70,80,90) # We have given so many arguments,"
   ]
  },
  {
   "cell_type": "code",
   "execution_count": 31,
   "metadata": {},
   "outputs": [
    {
     "name": "stdout",
     "output_type": "stream",
     "text": [
      "<class 'tuple'>\n",
      "((10, 20, 30), (40, 50, 60))\n"
     ]
    }
   ],
   "source": [
    "f1((10,20,30),(40,50,60)) # A tuple of tuples will be created since each tuple is one argument we have given."
   ]
  },
  {
   "cell_type": "code",
   "execution_count": 34,
   "metadata": {},
   "outputs": [
    {
     "name": "stdout",
     "output_type": "stream",
     "text": [
      "10\n",
      "(20, 30, 40)\n"
     ]
    }
   ],
   "source": [
    "def f1(x,*y): # this indicates x is the first argument we are giving, all the remaining arguments are considered to *y as y is indicated with variable lenght argument.\n",
    "    print(x) # 10 will become x value\n",
    "    print(y) # 20,30,40 will become y value in form of tuple.\n",
    "        \n",
    "f1(10,20,30,40)        "
   ]
  },
  {
   "cell_type": "markdown",
   "metadata": {},
   "source": [
    "**Note:** We can mix variable length arguments with positional arguments as seen in the above example."
   ]
  },
  {
   "cell_type": "code",
   "execution_count": 36,
   "metadata": {},
   "outputs": [
    {
     "ename": "TypeError",
     "evalue": "f1() missing 1 required keyword-only argument: 'y'",
     "output_type": "error",
     "traceback": [
      "\u001b[1;31m---------------------------------------------------------------------------\u001b[0m",
      "\u001b[1;31mTypeError\u001b[0m                                 Traceback (most recent call last)",
      "\u001b[1;32m<ipython-input-36-00dd07f6bb18>\u001b[0m in \u001b[0;36m<module>\u001b[1;34m\u001b[0m\n\u001b[0;32m      2\u001b[0m     \u001b[0mprint\u001b[0m\u001b[1;33m(\u001b[0m\u001b[0mx\u001b[0m\u001b[1;33m)\u001b[0m\u001b[1;33m\u001b[0m\u001b[1;33m\u001b[0m\u001b[0m\n\u001b[0;32m      3\u001b[0m     \u001b[0mprint\u001b[0m\u001b[1;33m(\u001b[0m\u001b[0my\u001b[0m\u001b[1;33m)\u001b[0m\u001b[1;33m\u001b[0m\u001b[1;33m\u001b[0m\u001b[0m\n\u001b[1;32m----> 4\u001b[1;33m \u001b[0mf1\u001b[0m\u001b[1;33m(\u001b[0m\u001b[1;36m10\u001b[0m\u001b[1;33m,\u001b[0m\u001b[1;36m20\u001b[0m\u001b[1;33m,\u001b[0m\u001b[1;36m30\u001b[0m\u001b[1;33m,\u001b[0m\u001b[1;36m40\u001b[0m\u001b[1;33m)\u001b[0m \u001b[1;31m# Since x is a variable lenght argument, Python virtual machine can't decide the division of x and y values.\u001b[0m\u001b[1;33m\u001b[0m\u001b[1;33m\u001b[0m\u001b[0m\n\u001b[0m",
      "\u001b[1;31mTypeError\u001b[0m: f1() missing 1 required keyword-only argument: 'y'"
     ]
    }
   ],
   "source": [
    "def f1(*x,y): # This is valid but there will an ambiguity created for Python Virtual Machine and will raise an error.\n",
    "    print(x)\n",
    "    print(y)\n",
    "f1(10,20,30,40) # Since x is a variable lenght argument, Python virtual machine can't decide the division of x and y values."
   ]
  },
  {
   "cell_type": "markdown",
   "metadata": {},
   "source": [
    "i.e. all 10,20,30,40 will go the x since it is an variable lenght argument, for y there will be nothing. So, it will fail to divide for x and y. That's why there is a problem and it will raise and TypeError as shown above.<br><br>\n",
    "**Note:** After variable length argument,if we are taking any other arguments then we\n",
    "should provide values as **keyword arguments**. This is to avoid the ambiguity for python virtual machine to decide x and y values."
   ]
  },
  {
   "cell_type": "code",
   "execution_count": 38,
   "metadata": {},
   "outputs": [
    {
     "name": "stdout",
     "output_type": "stream",
     "text": [
      "(10, 20, 30)\n",
      "40\n"
     ]
    }
   ],
   "source": [
    "def f1(*x,y):\n",
    "    print(x)\n",
    "    print(y)\n",
    "f1(10,20,30,y=40) #This is perfectly valid,because we are providing y value using keyword argument."
   ]
  },
  {
   "cell_type": "code",
   "execution_count": 41,
   "metadata": {},
   "outputs": [
    {
     "ename": "SyntaxError",
     "evalue": "invalid syntax (<ipython-input-41-ad092524cb32>, line 1)",
     "output_type": "error",
     "traceback": [
      "\u001b[1;36m  File \u001b[1;32m\"<ipython-input-41-ad092524cb32>\"\u001b[1;36m, line \u001b[1;32m1\u001b[0m\n\u001b[1;33m    def f1(*x,*y): # We can't take more than one variable lenght argument.\u001b[0m\n\u001b[1;37m              ^\u001b[0m\n\u001b[1;31mSyntaxError\u001b[0m\u001b[1;31m:\u001b[0m invalid syntax\n"
     ]
    }
   ],
   "source": [
    "def f1(*x,*y): # We can't take more than one variable lenght argument.\n",
    "    print(x)\n",
    "    print(y)"
   ]
  },
  {
   "cell_type": "markdown",
   "metadata": {},
   "source": [
    "**Note:** The above syntax is not valid, because **<span style='color:red'>We can't take more than one variable lenght argument.<span>**"
   ]
  },
  {
   "cell_type": "markdown",
   "metadata": {},
   "source": [
    "![](args_vs_kwargs.png)"
   ]
  },
  {
   "cell_type": "markdown",
   "metadata": {},
   "source": [
    "**Note:** We can declare key word variable length arguments also.<br>\n",
    " - For this we have to use **.\n",
    " - def f1(**n):\n",
    " - We can call this function by passing any number of keyword arguments. Internally these keyword arguments will be stored inside a dictionary."
   ]
  },
  {
   "cell_type": "code",
   "execution_count": 3,
   "metadata": {},
   "outputs": [
    {
     "name": "stdout",
     "output_type": "stream",
     "text": [
      "n1 = 10\n",
      "n2 = 20\n",
      "n3 = 30\n",
      "rno = 100\n",
      "name = Durga\n",
      "marks = 70\n",
      "subject = Java\n"
     ]
    }
   ],
   "source": [
    "def display(**kwargs): # By using this '**' symbol, we can give any number of keyword arguments.\n",
    "    for k,v in kwargs.items():\n",
    "        print(k,\"=\",v)\n",
    "\n",
    "display(n1=10,n2=20,n3=30)\n",
    "display(rno=100,name=\"Durga\",marks=70,subject=\"Java\") "
   ]
  },
  {
   "cell_type": "code",
   "execution_count": 4,
   "metadata": {},
   "outputs": [
    {
     "name": "stdout",
     "output_type": "stream",
     "text": [
      "(10, 20)\n",
      "{'A': 30, 'B': 40}\n"
     ]
    }
   ],
   "source": [
    "def f1(*args,**kwrgs): # This is Acceptable and Valid\n",
    "    print(args)\n",
    "    print(kwrgs)\n",
    "    \n",
    "f1(10,20,A=30,B=40) \n",
    "# First two values will go on varible lenght arguments, and Keyword argument will go to Keyword lenght arguments.    \n",
    "# we have a rule saying, Keyword arguments should be given after positional arguments. \n",
    "# So there will be no issue in taking variable lenght argument(*args) first and keyword lenght argument (**kwrgs) second in a function."
   ]
  },
  {
   "cell_type": "code",
   "execution_count": null,
   "metadata": {},
   "outputs": [],
   "source": [
    "# But, we cannot take keyword lenght argument (**kwrgs) as a first argument and variable lenght argument(*args) as second argument in a function."
   ]
  },
  {
   "cell_type": "markdown",
   "metadata": {},
   "source": [
    "But, we cannot take keyword lenght argument (kwrgs) as a first argument and variable lenght argument(args) as second argument in a function. Its because, we have a rule saying, Keyword arguments should be given after positional arguments and also positional arguments can't be given after keyword arguments."
   ]
  },
  {
   "cell_type": "code",
   "execution_count": 5,
   "metadata": {},
   "outputs": [
    {
     "ename": "SyntaxError",
     "evalue": "invalid syntax (<ipython-input-5-e3543792a630>, line 1)",
     "output_type": "error",
     "traceback": [
      "\u001b[1;36m  File \u001b[1;32m\"<ipython-input-5-e3543792a630>\"\u001b[1;36m, line \u001b[1;32m1\u001b[0m\n\u001b[1;33m    def f1(**kwrgs,*args):\u001b[0m\n\u001b[1;37m                   ^\u001b[0m\n\u001b[1;31mSyntaxError\u001b[0m\u001b[1;31m:\u001b[0m invalid syntax\n"
     ]
    }
   ],
   "source": [
    "def f1(**kwrgs,*args): # This will be conisdered as an invalid syntax since positional arguments are given after keyword arguments\n",
    "    print(args)\n",
    "    print(kwrgs)\n",
    "    \n",
    "f1(A=30,B=40,10,20) "
   ]
  },
  {
   "cell_type": "markdown",
   "metadata": {},
   "source": [
    "If we want to use both (***args**) and (****kwargs**) in a function. We should remember the following.<br>\n",
    "<span style=\"color:red\">**def** f1(****kwrgs**,***args**) i.e. variable lenght arguments given after keyword lenght arguments is Not valid.<span> <br>\n",
    "<span style=\"color:green\">**def** f1(***args**,****kwrgs**) i.e. keyword lenght arguments given after variable lenght arguments is perfectly valid.<span>     "
   ]
  },
  {
   "cell_type": "markdown",
   "metadata": {},
   "source": [
    " - **Positional Arguments** and **Keyword Arguments** are applicable at the time of calling a function.<br>\n",
    " - **Default Arguments** and **Variable Lenght Arguments** are applicable at the time of defining a function."
   ]
  },
  {
   "cell_type": "markdown",
   "metadata": {},
   "source": [
    "#### Default Arguments Vs Non-Default Arguments"
   ]
  },
  {
   "cell_type": "markdown",
   "metadata": {},
   "source": [
    " - If we are not passing any value then only default value will be considered.<br>\n",
    " - After default Arguments, we should not take non-defualt arguments i.e default arguments should be last arguments."
   ]
  },
  {
   "cell_type": "markdown",
   "metadata": {},
   "source": [
    "#### Variable Lenght Arguments Vs Normal Arguments \n",
    "\n",
    " - After Variable Lenght Argument, if we are taking any normal argument then we have to provide values by using keywords for that normal argument<br>\n",
    " - More than one variable lenght arguments are not allowed while defining a function."
   ]
  },
  {
   "cell_type": "markdown",
   "metadata": {},
   "source": [
    "#### Positional Arguments Vs Keyword Arguments\n",
    "\n",
    " - We can use both positional and Keyword Lenght Arguments Simultaneously.<br>\n",
    " - But, First we have to take positional arguments and then Keyword Arguments. i.e After Keyword Arguments we cannot take Positional Arguments. "
   ]
  },
  {
   "cell_type": "markdown",
   "metadata": {},
   "source": [
    "### Case Study"
   ]
  },
  {
   "cell_type": "code",
   "execution_count": 7,
   "metadata": {},
   "outputs": [],
   "source": [
    "def f(arg1,arg2,arg3=4,arg4=8):\n",
    "    print(arg1,arg2,arg3,arg4)"
   ]
  },
  {
   "cell_type": "code",
   "execution_count": 9,
   "metadata": {},
   "outputs": [
    {
     "name": "stdout",
     "output_type": "stream",
     "text": [
      "3 2 4 8\n"
     ]
    }
   ],
   "source": [
    "f(3,2) \n",
    "# automatically these two values will be considered for first two arguments.\n",
    "# For arg3 and arg4 we don't need to pass values, since there exists default values."
   ]
  },
  {
   "cell_type": "code",
   "execution_count": 11,
   "metadata": {},
   "outputs": [
    {
     "name": "stdout",
     "output_type": "stream",
     "text": [
      "10 20 30 40\n"
     ]
    }
   ],
   "source": [
    "# If we pass the values for arg3 and arg4 while calling a function, values at the time of calling will be considered instead of default values.\n",
    "f(10,20,30,40) # 4,8 default values are not considered. 10,20,30,40 will considered for arg1,arg2,arg3,arg4"
   ]
  },
  {
   "cell_type": "code",
   "execution_count": 12,
   "metadata": {},
   "outputs": [
    {
     "name": "stdout",
     "output_type": "stream",
     "text": [
      "25 50 4 100\n"
     ]
    }
   ],
   "source": [
    "f(25,50,arg4=100) # for arg3 we have default value 4."
   ]
  },
  {
   "cell_type": "code",
   "execution_count": 14,
   "metadata": {},
   "outputs": [
    {
     "name": "stdout",
     "output_type": "stream",
     "text": [
      "3 4 4 2\n"
     ]
    }
   ],
   "source": [
    "f(arg4=2,arg1=3,arg2=4) #everything is keyword arguments, order is not important for keyword arguments. arg3 already have default value 4."
   ]
  },
  {
   "cell_type": "code",
   "execution_count": 15,
   "metadata": {},
   "outputs": [
    {
     "ename": "TypeError",
     "evalue": "f() missing 2 required positional arguments: 'arg1' and 'arg2'",
     "output_type": "error",
     "traceback": [
      "\u001b[1;31m---------------------------------------------------------------------------\u001b[0m",
      "\u001b[1;31mTypeError\u001b[0m                                 Traceback (most recent call last)",
      "\u001b[1;32m<ipython-input-15-c43e34e6d405>\u001b[0m in \u001b[0;36m<module>\u001b[1;34m\u001b[0m\n\u001b[1;32m----> 1\u001b[1;33m \u001b[0mf\u001b[0m\u001b[1;33m(\u001b[0m\u001b[1;33m)\u001b[0m\u001b[1;33m\u001b[0m\u001b[1;33m\u001b[0m\u001b[0m\n\u001b[0m",
      "\u001b[1;31mTypeError\u001b[0m: f() missing 2 required positional arguments: 'arg1' and 'arg2'"
     ]
    }
   ],
   "source": [
    "f() # It shows error because we are not passing the arg1 and arg2 values. for arg3 and arg4 we already have default values 4,8."
   ]
  },
  {
   "cell_type": "code",
   "execution_count": 16,
   "metadata": {},
   "outputs": [
    {
     "ename": "SyntaxError",
     "evalue": "positional argument follows keyword argument (<ipython-input-16-5f1e79e6ee22>, line 1)",
     "output_type": "error",
     "traceback": [
      "\u001b[1;36m  File \u001b[1;32m\"<ipython-input-16-5f1e79e6ee22>\"\u001b[1;36m, line \u001b[1;32m1\u001b[0m\n\u001b[1;33m    f(arg3=10, arg4=20, 30, 40) # We can't take positional arguments after Keyword Arguments. Hence, TypeError will raise.\u001b[0m\n\u001b[1;37m                        ^\u001b[0m\n\u001b[1;31mSyntaxError\u001b[0m\u001b[1;31m:\u001b[0m positional argument follows keyword argument\n"
     ]
    }
   ],
   "source": [
    "f(arg3=10, arg4=20, 30, 40) # We can't take positional arguments after Keyword Arguments. Hence, TypeError will raise."
   ]
  },
  {
   "cell_type": "code",
   "execution_count": 18,
   "metadata": {},
   "outputs": [
    {
     "ename": "TypeError",
     "evalue": "f() got multiple values for argument 'arg2'",
     "output_type": "error",
     "traceback": [
      "\u001b[1;31m---------------------------------------------------------------------------\u001b[0m",
      "\u001b[1;31mTypeError\u001b[0m                                 Traceback (most recent call last)",
      "\u001b[1;32m<ipython-input-18-a3c31107289e>\u001b[0m in \u001b[0;36m<module>\u001b[1;34m\u001b[0m\n\u001b[1;32m----> 1\u001b[1;33m \u001b[0mf\u001b[0m\u001b[1;33m(\u001b[0m\u001b[1;36m4\u001b[0m\u001b[1;33m,\u001b[0m \u001b[1;36m5\u001b[0m\u001b[1;33m,\u001b[0m \u001b[0marg2\u001b[0m \u001b[1;33m=\u001b[0m \u001b[1;36m6\u001b[0m\u001b[1;33m)\u001b[0m \u001b[1;31m# For are arg2 we have already passed 5, and again we are passing arg2=6. So Multiple values for one argument is not acceptable.\u001b[0m\u001b[1;33m\u001b[0m\u001b[1;33m\u001b[0m\u001b[0m\n\u001b[0m",
      "\u001b[1;31mTypeError\u001b[0m: f() got multiple values for argument 'arg2'"
     ]
    }
   ],
   "source": [
    "f(4, 5, arg2 = 6) # For are arg2 we have already passed 5, and again we are passing arg2=6. So Multiple values for one argument is not acceptable."
   ]
  },
  {
   "cell_type": "code",
   "execution_count": 20,
   "metadata": {},
   "outputs": [
    {
     "ename": "TypeError",
     "evalue": "f() got an unexpected keyword argument 'arg5'",
     "output_type": "error",
     "traceback": [
      "\u001b[1;31m---------------------------------------------------------------------------\u001b[0m",
      "\u001b[1;31mTypeError\u001b[0m                                 Traceback (most recent call last)",
      "\u001b[1;32m<ipython-input-20-473584b72e05>\u001b[0m in \u001b[0;36m<module>\u001b[1;34m\u001b[0m\n\u001b[1;32m----> 1\u001b[1;33m \u001b[0mf\u001b[0m\u001b[1;33m(\u001b[0m\u001b[1;36m4\u001b[0m\u001b[1;33m,\u001b[0m \u001b[1;36m5\u001b[0m\u001b[1;33m,\u001b[0m \u001b[0marg3\u001b[0m \u001b[1;33m=\u001b[0m \u001b[1;36m5\u001b[0m\u001b[1;33m,\u001b[0m \u001b[0marg5\u001b[0m \u001b[1;33m=\u001b[0m \u001b[1;36m6\u001b[0m\u001b[1;33m)\u001b[0m \u001b[1;31m# function didn't have the arg5\u001b[0m\u001b[1;33m\u001b[0m\u001b[1;33m\u001b[0m\u001b[0m\n\u001b[0m",
      "\u001b[1;31mTypeError\u001b[0m: f() got an unexpected keyword argument 'arg5'"
     ]
    }
   ],
   "source": [
    "f(4, 5, arg3 = 5, arg5 = 6) # function didn't have the arg5, so unexpected keyword argument is not acceptable and will raise an error. "
   ]
  },
  {
   "cell_type": "markdown",
   "metadata": {},
   "source": [
    "**Note:** **Function** vs **Module** vs **Library**<br>\n",
    "\n",
    "1) A group of lines with some name is called a function<br>\n",
    "2) A group of functions saved to a file, is called Module<br>\n",
    "3) A group of Modules is nothing but Library<br>"
   ]
  },
  {
   "cell_type": "markdown",
   "metadata": {},
   "source": [
    "# Types of Variables\n",
    "\n",
    "Python supports 2 types of variables.<br>\n",
    "> 1) Global Variables<br>\n",
    "> 2) Local Variables"
   ]
  },
  {
   "cell_type": "markdown",
   "metadata": {},
   "source": [
    "### 1) Global Variables\n",
    "\n",
    " - The variables which are declared outside of function are called global variables.<br>\n",
    " - These variables can be accessed in all functions of that module.\n"
   ]
  },
  {
   "cell_type": "code",
   "execution_count": 22,
   "metadata": {},
   "outputs": [
    {
     "name": "stdout",
     "output_type": "stream",
     "text": [
      "10\n",
      "10\n"
     ]
    }
   ],
   "source": [
    "a=10 # Global Variable\n",
    "def f1():\n",
    "    print(a) # Global variable is accessible to this f1() function\n",
    "def f2():\n",
    "    print(a) # Global variable is accessible to this f2() function also.\n",
    "f1()\n",
    "f2()"
   ]
  },
  {
   "cell_type": "markdown",
   "metadata": {},
   "source": [
    "### 2) Local Variables:\n",
    " - The variables which are declared inside a function are called local variables.<br>\n",
    " - Local variables are available only for the function in which we declared it.i.e from outside of function we cannot access."
   ]
  },
  {
   "cell_type": "code",
   "execution_count": 28,
   "metadata": {},
   "outputs": [
    {
     "name": "stdout",
     "output_type": "stream",
     "text": [
      "10\n"
     ]
    }
   ],
   "source": [
    "def f1():\n",
    "    b=10 # Local Variable\n",
    "    print(b) # Local variable b=10 is accessible to f1() function only.\n",
    "\n",
    "def f2():\n",
    "    print(b) # Local variable b=10 declared in f1() is not accessible to f2(). \n",
    "\n",
    "f1()"
   ]
  },
  {
   "cell_type": "code",
   "execution_count": 29,
   "metadata": {},
   "outputs": [
    {
     "ename": "NameError",
     "evalue": "name 'b' is not defined",
     "output_type": "error",
     "traceback": [
      "\u001b[1;31m---------------------------------------------------------------------------\u001b[0m",
      "\u001b[1;31mNameError\u001b[0m                                 Traceback (most recent call last)",
      "\u001b[1;32m<ipython-input-29-55649989190d>\u001b[0m in \u001b[0;36m<module>\u001b[1;34m\u001b[0m\n\u001b[1;32m----> 1\u001b[1;33m \u001b[0mf2\u001b[0m\u001b[1;33m(\u001b[0m\u001b[1;33m)\u001b[0m\u001b[1;33m\u001b[0m\u001b[1;33m\u001b[0m\u001b[0m\n\u001b[0m",
      "\u001b[1;32m<ipython-input-28-e5c220fe1e93>\u001b[0m in \u001b[0;36mf2\u001b[1;34m()\u001b[0m\n\u001b[0;32m      4\u001b[0m \u001b[1;33m\u001b[0m\u001b[0m\n\u001b[0;32m      5\u001b[0m \u001b[1;32mdef\u001b[0m \u001b[0mf2\u001b[0m\u001b[1;33m(\u001b[0m\u001b[1;33m)\u001b[0m\u001b[1;33m:\u001b[0m\u001b[1;33m\u001b[0m\u001b[1;33m\u001b[0m\u001b[0m\n\u001b[1;32m----> 6\u001b[1;33m     \u001b[0mprint\u001b[0m\u001b[1;33m(\u001b[0m\u001b[0mb\u001b[0m\u001b[1;33m)\u001b[0m \u001b[1;31m# Local variable a=10 declared in f1() is not accessible to f2().\u001b[0m\u001b[1;33m\u001b[0m\u001b[1;33m\u001b[0m\u001b[0m\n\u001b[0m\u001b[0;32m      7\u001b[0m \u001b[1;33m\u001b[0m\u001b[0m\n\u001b[0;32m      8\u001b[0m \u001b[0mf1\u001b[0m\u001b[1;33m(\u001b[0m\u001b[1;33m)\u001b[0m\u001b[1;33m\u001b[0m\u001b[1;33m\u001b[0m\u001b[0m\n",
      "\u001b[1;31mNameError\u001b[0m: name 'b' is not defined"
     ]
    }
   ],
   "source": [
    "f2()"
   ]
  },
  {
   "cell_type": "markdown",
   "metadata": {},
   "source": [
    "### global Keyword:\n",
    "\n",
    "We can use global keyword for the following 2 purposes:<br>\n",
    "> 1) To declare global variable inside function explicitly<br>\n",
    "> 2) To make global variable available to the function so that we can perform required modifications"
   ]
  },
  {
   "cell_type": "code",
   "execution_count": 31,
   "metadata": {},
   "outputs": [
    {
     "name": "stdout",
     "output_type": "stream",
     "text": [
      "10\n",
      "20\n"
     ]
    }
   ],
   "source": [
    "b=20\n",
    "def f1():\n",
    "    b=10 # Local Variable\n",
    "    print(b) # tough we have declared b=20 as a global variable, first priority will be given to a local variable b=10. \n",
    "# Hence for f1() the output will be 10\n",
    "\n",
    "def f2():\n",
    "    print(b) # Since there is no local variable in f2(), global variable will be used here. Hence for f2() the output will be 20.  \n",
    "\n",
    "f1()\n",
    "f2()"
   ]
  },
  {
   "cell_type": "markdown",
   "metadata": {},
   "source": [
    "For suppose we don't want to use local variable, we need to access local variable as global variable. We can access local variable as a global variable in a function as follows."
   ]
  },
  {
   "cell_type": "code",
   "execution_count": 38,
   "metadata": {},
   "outputs": [
    {
     "name": "stdout",
     "output_type": "stream",
     "text": [
      "888\n",
      "888\n"
     ]
    }
   ],
   "source": [
    "b = 777 # Global Variable\n",
    "def f1():\n",
    "    global b # We are making the local Variable as global variable. So b=888 will be accessible to both f1() and f2()\n",
    "# b=777 is no more a global variable.    \n",
    "    b=888\n",
    "    print(b)\n",
    "\n",
    "def f2():\n",
    "    print(b)\n",
    "    \n",
    "f1()\n",
    "f2()"
   ]
  },
  {
   "cell_type": "code",
   "execution_count": 41,
   "metadata": {},
   "outputs": [
    {
     "name": "stdout",
     "output_type": "stream",
     "text": [
      "22\n"
     ]
    },
    {
     "ename": "NameError",
     "evalue": "name 'c' is not defined",
     "output_type": "error",
     "traceback": [
      "\u001b[1;31m---------------------------------------------------------------------------\u001b[0m",
      "\u001b[1;31mNameError\u001b[0m                                 Traceback (most recent call last)",
      "\u001b[1;32m<ipython-input-41-d45e937e5695>\u001b[0m in \u001b[0;36m<module>\u001b[1;34m\u001b[0m\n\u001b[0;32m      7\u001b[0m \u001b[1;33m\u001b[0m\u001b[0m\n\u001b[0;32m      8\u001b[0m \u001b[0mf1\u001b[0m\u001b[1;33m(\u001b[0m\u001b[1;33m)\u001b[0m\u001b[1;33m\u001b[0m\u001b[1;33m\u001b[0m\u001b[0m\n\u001b[1;32m----> 9\u001b[1;33m \u001b[0mf2\u001b[0m\u001b[1;33m(\u001b[0m\u001b[1;33m)\u001b[0m\u001b[1;33m\u001b[0m\u001b[1;33m\u001b[0m\u001b[0m\n\u001b[0m",
      "\u001b[1;32m<ipython-input-41-d45e937e5695>\u001b[0m in \u001b[0;36mf2\u001b[1;34m()\u001b[0m\n\u001b[0;32m      4\u001b[0m \u001b[1;33m\u001b[0m\u001b[0m\n\u001b[0;32m      5\u001b[0m \u001b[1;32mdef\u001b[0m \u001b[0mf2\u001b[0m\u001b[1;33m(\u001b[0m\u001b[1;33m)\u001b[0m\u001b[1;33m:\u001b[0m\u001b[1;33m\u001b[0m\u001b[1;33m\u001b[0m\u001b[0m\n\u001b[1;32m----> 6\u001b[1;33m     \u001b[0mprint\u001b[0m\u001b[1;33m(\u001b[0m\u001b[0mc\u001b[0m\u001b[1;33m)\u001b[0m\u001b[1;33m\u001b[0m\u001b[1;33m\u001b[0m\u001b[0m\n\u001b[0m\u001b[0;32m      7\u001b[0m \u001b[1;33m\u001b[0m\u001b[0m\n\u001b[0;32m      8\u001b[0m \u001b[0mf1\u001b[0m\u001b[1;33m(\u001b[0m\u001b[1;33m)\u001b[0m\u001b[1;33m\u001b[0m\u001b[1;33m\u001b[0m\u001b[0m\n",
      "\u001b[1;31mNameError\u001b[0m: name 'c' is not defined"
     ]
    }
   ],
   "source": [
    "def f1():   \n",
    "    c=22\n",
    "    print(c)\n",
    "\n",
    "def f2():\n",
    "    print(c) # This will raise an error, since global variable or local variable in f2() is not defined to print c in f2()\n",
    "    \n",
    "f1()\n",
    "f2()"
   ]
  },
  {
   "cell_type": "code",
   "execution_count": 43,
   "metadata": {},
   "outputs": [
    {
     "name": "stdout",
     "output_type": "stream",
     "text": [
      "22\n",
      "22\n"
     ]
    }
   ],
   "source": [
    "def f1(): \n",
    "    global c # Now this is accesible to f2() as well so there won't be any error\n",
    "    c=22\n",
    "    print(c)\n",
    "\n",
    "def f2():\n",
    "    print(c) # This will not raise an error, since local variable in f1() declared as global variabl.So c will be 22 in f2()\n",
    "    \n",
    "f1()\n",
    "f2()"
   ]
  },
  {
   "cell_type": "markdown",
   "metadata": {},
   "source": [
    "**Note:** If global variable and local variable having the same name then we can access global variable inside a function as follows\n"
   ]
  },
  {
   "cell_type": "code",
   "execution_count": 44,
   "metadata": {},
   "outputs": [
    {
     "ename": "SyntaxError",
     "evalue": "name 'c' is used prior to global declaration (<ipython-input-44-600e8e19c2b2>, line 4)",
     "output_type": "error",
     "traceback": [
      "\u001b[1;36m  File \u001b[1;32m\"<ipython-input-44-600e8e19c2b2>\"\u001b[1;36m, line \u001b[1;32m4\u001b[0m\n\u001b[1;33m    global c\u001b[0m\n\u001b[1;37m    ^\u001b[0m\n\u001b[1;31mSyntaxError\u001b[0m\u001b[1;31m:\u001b[0m name 'c' is used prior to global declaration\n"
     ]
    }
   ],
   "source": [
    "c=777\n",
    "def f1():\n",
    "    print(c) # we can't use 'c' before the global declaration. SO this will raise a error.\n",
    "    global c \n",
    "    c=999\n",
    "    print(c)\n",
    "\n",
    "f1()"
   ]
  },
  {
   "cell_type": "code",
   "execution_count": 45,
   "metadata": {},
   "outputs": [
    {
     "name": "stdout",
     "output_type": "stream",
     "text": [
      "777\n",
      "999\n"
     ]
    }
   ],
   "source": [
    "c=777\n",
    "def f1():\n",
    "    global c\n",
    "    print(c) # After declaring global keyword prior to print(c), Now we will get 777 here and\n",
    "    c=999\n",
    "    print(c) # Here, It will display 999\n",
    "\n",
    "f1()"
   ]
  },
  {
   "cell_type": "markdown",
   "metadata": {},
   "source": [
    "## Colclusions on global keyword\n",
    "\n",
    "> 1) To declare global variable inside function explicitly<br>\n",
    "> 2) To make global variable available to the function so that we can perform required modifications<br>\n",
    "> 3) Prior to global declaration, we cannot use any variable. i,e global declaration first and then we can use the variable.<br>"
   ]
  },
  {
   "cell_type": "markdown",
   "metadata": {},
   "source": [
    "**Note:** If global variable and local variable having the same name then we can access\n",
    "global variable inside a function as follows\n"
   ]
  },
  {
   "cell_type": "code",
   "execution_count": 46,
   "metadata": {},
   "outputs": [
    {
     "name": "stdout",
     "output_type": "stream",
     "text": [
      "777\n",
      "10\n"
     ]
    }
   ],
   "source": [
    "a = 10 # Global Variable\n",
    "def f1():\n",
    "    a=777 # Local Variable\n",
    "    print(a)\n",
    "    print(globals()['a']) # Accessing the global variable using globals() function. This will return a dictionary containing all global variables.\n",
    "# To Access a required global variable,we should mention the required global variable name in ['global variable'] as above.    \n",
    "f1() "
   ]
  },
  {
   "cell_type": "markdown",
   "metadata": {},
   "source": [
    "# Recursive Functions"
   ]
  },
  {
   "cell_type": "markdown",
   "metadata": {},
   "source": [
    "A Function that calls itself is known as **Recursive Function**<br><br>\n",
    "The main advantages of recursive functions are:<br>\n",
    "1) We can reduce length of the code and improves readability.<br>\n",
    "2) We can solve complex problems very easily."
   ]
  },
  {
   "cell_type": "code",
   "execution_count": 1,
   "metadata": {},
   "outputs": [
    {
     "data": {
      "text/plain": [
       "6"
      ]
     },
     "execution_count": 1,
     "metadata": {},
     "output_type": "execute_result"
    }
   ],
   "source": [
    "# Factorial with recursion.\n",
    "def factorial(n):\n",
    "    if n==0:\n",
    "        result=1\n",
    "    else:\n",
    "        result=n*factorial(n-1)\n",
    "    return result\n",
    "\n",
    "factorial(3)"
   ]
  },
  {
   "cell_type": "markdown",
   "metadata": {},
   "source": [
    "**The maximum recursion depth in the python will vary.**"
   ]
  },
  {
   "cell_type": "markdown",
   "metadata": {},
   "source": [
    "# Anonymous Functions:\n",
    " - Sometimes we can declare a function without any name,such type of nameless functions are called anonymous functions or lambda functions.\n",
    " - The main purpose of anonymous function is just for instant use(i.e for one time usage)"
   ]
  },
  {
   "cell_type": "markdown",
   "metadata": {},
   "source": [
    "### Normal Function\n",
    "We can define by using def keyword"
   ]
  },
  {
   "cell_type": "code",
   "execution_count": 24,
   "metadata": {},
   "outputs": [
    {
     "data": {
      "text/plain": [
       "25"
      ]
     },
     "execution_count": 24,
     "metadata": {},
     "output_type": "execute_result"
    }
   ],
   "source": [
    "def square(n): # Normal Function\n",
    "    return n*n\n",
    "square(5)"
   ]
  },
  {
   "cell_type": "markdown",
   "metadata": {},
   "source": [
    "### Lambda Function\n",
    "We can define by using lambda keyword like **lambda n:n*n**<br>\n",
    "**Syntax of lambda Function:** **<span style=\"color:blue\">lambda<span> <span style=\"color:orange\">argument_list<span> <span style=\"color:black\">:<span> <span style=\"color:green\">expression<span>**\n"
   ]
  },
  {
   "cell_type": "code",
   "execution_count": 26,
   "metadata": {},
   "outputs": [
    {
     "data": {
      "text/plain": [
       "25"
      ]
     },
     "execution_count": 26,
     "metadata": {},
     "output_type": "execute_result"
    }
   ],
   "source": [
    "# Write a Program to create a Lambda Function to find Square of given Number?\n",
    "square1=lambda n:n*n # Just a one line code for the instant use.\n",
    "square1(5)"
   ]
  },
  {
   "cell_type": "code",
   "execution_count": 28,
   "metadata": {},
   "outputs": [
    {
     "name": "stdout",
     "output_type": "stream",
     "text": [
      "30\n",
      "500\n"
     ]
    }
   ],
   "source": [
    "# Lambda Function to find Sum of 2 given Numbers\n",
    "s=lambda a,b:a+b\n",
    "print(s(10,20))\n",
    "print(s(200,300))"
   ]
  },
  {
   "cell_type": "code",
   "execution_count": 29,
   "metadata": {},
   "outputs": [
    {
     "name": "stdout",
     "output_type": "stream",
     "text": [
      "The Biggest of 10,20 is: 20\n",
      "The Biggest of 100,200 is: 200\n"
     ]
    }
   ],
   "source": [
    "#  Lambda Function to find biggest of given Values\n",
    "s=lambda a,b:a if a>b else b \n",
    "print(\"The Biggest of 10,20 is:\",s(10,20))\n",
    "print(\"The Biggest of 100,200 is:\",s(100,200)) "
   ]
  },
  {
   "cell_type": "code",
   "execution_count": 30,
   "metadata": {},
   "outputs": [
    {
     "name": "stdout",
     "output_type": "stream",
     "text": [
      "The Biggest of 10,20 is: 20\n",
      "The Biggest of 100,200 is: 200\n"
     ]
    }
   ],
   "source": [
    "s=lambda a,b,c:a if a>b and a>c else b if b>c else c \n",
    "print(\"The Biggest of 10,20 is:\",s(10,20,5))\n",
    "print(\"The Biggest of 100,200 is:\",s(100,200,50)) "
   ]
  },
  {
   "cell_type": "markdown",
   "metadata": {},
   "source": [
    "**Note:** Lambda Function internally returns expression value and we are not required to write return statement explicitly.<br><br>\n",
    "**Note:** Sometimes we can pass function as argument to another function. In such cases\n",
    "lambda functions are best choice.\n",
    "<br><br>We can use lambda functions very commonly with filter(), map() and reduce() functions,\n",
    "because these functions expect function as **first argument**."
   ]
  },
  {
   "cell_type": "markdown",
   "metadata": {},
   "source": [
    "### Function as Argument to another Function"
   ]
  },
  {
   "cell_type": "markdown",
   "metadata": {},
   "source": [
    "# filter() Function:\n",
    "\n",
    "We can use **filter()** function to filter values from the given sequence based on some condition.<br>\n",
    "**Syntax:** filter(function,sequence)<br>\n",
    "<br>Where Function Argument is responsible to perform conditional check Sequence can be\n",
    "List OR Tuple OR String."
   ]
  },
  {
   "cell_type": "code",
   "execution_count": 33,
   "metadata": {},
   "outputs": [
    {
     "name": "stdout",
     "output_type": "stream",
     "text": [
      "[0, 2, 4, 6, 8, 10]\n"
     ]
    }
   ],
   "source": [
    "# With out filter function\n",
    "l=[0,1,2,3,4,5,6,7,8,9,10]\n",
    "def iseven(n):\n",
    "    if n%2==0:\n",
    "        return True\n",
    "    else:\n",
    "        return False\n",
    "    \n",
    "l1=[]\n",
    "for x in l:\n",
    "    if iseven(x)==True:\n",
    "        l1.append(x)\n",
    "print(l1)        "
   ]
  },
  {
   "cell_type": "markdown",
   "metadata": {},
   "source": [
    "For every element present in the sequence, if the function returns **True** that value will be added to the result. If it returns **False**, it doesn't filter it to result. This function is reponsible for checking the conditional check sequence so it will return either True or False only. "
   ]
  },
  {
   "cell_type": "code",
   "execution_count": 36,
   "metadata": {},
   "outputs": [
    {
     "name": "stdout",
     "output_type": "stream",
     "text": [
      "[0, 2, 4, 6, 8, 10]\n"
     ]
    }
   ],
   "source": [
    "# With filter function\n",
    "l=[0,1,2,3,4,5,6,7,8,9,10]\n",
    "def iseven(n):\n",
    "    if n%2==0:\n",
    "        return True\n",
    "    else:\n",
    "        return False\n",
    "l1=list(filter(iseven,l))\n",
    "#The return type of filter is filter only, so we need to convert that filter object to list unsing list()\n",
    "print(l1)"
   ]
  },
  {
   "cell_type": "code",
   "execution_count": 37,
   "metadata": {},
   "outputs": [
    {
     "name": "stdout",
     "output_type": "stream",
     "text": [
      "[0, 2, 4, 6, 8, 10]\n"
     ]
    }
   ],
   "source": [
    "# Filter with Lambda function.\n",
    "\n",
    "l=[0,1,2,3,4,5,6,7,8,9,10]\n",
    "l1=list(filter(lambda x:x%2==0,l)) # Single line of code with both lambda and filter for instant calculation\n",
    "print(l1)"
   ]
  },
  {
   "cell_type": "code",
   "execution_count": 38,
   "metadata": {},
   "outputs": [
    {
     "name": "stdout",
     "output_type": "stream",
     "text": [
      "[0, 2, 4, 6, 8, 10]\n",
      "[1, 3, 5, 7, 9]\n"
     ]
    }
   ],
   "source": [
    "l=[0,1,2,3,4,5,6,7,8,9,10]\n",
    "even=list(filter(lambda x:x%2==0,l))\n",
    "print(even)\n",
    "odd=list(filter(lambda x:x%2!=0,l))\n",
    "print(odd)"
   ]
  },
  {
   "cell_type": "code",
   "execution_count": 39,
   "metadata": {},
   "outputs": [
    {
     "name": "stdout",
     "output_type": "stream",
     "text": [
      "[3, 9]\n"
     ]
    }
   ],
   "source": [
    "# Numbers which are divisible by 3 and is odd\n",
    "nby3odd=list(filter(lambda n:n%3==0 and n%2!=0,l))\n",
    "print(nby3odd)"
   ]
  },
  {
   "cell_type": "code",
   "execution_count": 41,
   "metadata": {},
   "outputs": [
    {
     "name": "stdout",
     "output_type": "stream",
     "text": [
      "['Katrina kaif', 'Kareena Kapoor', 'Kajal Agarwal']\n"
     ]
    }
   ],
   "source": [
    "#Number of heroines names starts with k\n",
    "heroines=['Katrina kaif','Nora fathehi','Mouni roy','Sunny Leone','Astha gill','Kareena Kapoor','Kajal Agarwal']\n",
    "stars_with_k=list(filter(lambda name:name[0]=='K',heroines))\n",
    "print(stars_with_k)"
   ]
  },
  {
   "cell_type": "code",
   "execution_count": 42,
   "metadata": {},
   "outputs": [
    {
     "name": "stdout",
     "output_type": "stream",
     "text": [
      "['Astha gill']\n"
     ]
    }
   ],
   "source": [
    "# heroines name lenght divisible by 5\n",
    "lenght_by_5=list(filter(lambda name:len(name)%5==0,heroines))\n",
    "print(lenght_by_5)"
   ]
  },
  {
   "cell_type": "markdown",
   "metadata": {},
   "source": [
    "# map() Function:\n",
    "\n",
    " - For every element present in the given sequence,apply some functionality and generate new element with the required modification. For this requirement we should go for map() function.<br><br>Eg: For every element present in the list perform double and generate new list of doubles.<br><br>\n",
    " - **Syntax:** map(function, sequence)<br>\n",
    " - The function can be applied on each element of sequence and generates new sequence"
   ]
  },
  {
   "cell_type": "code",
   "execution_count": 46,
   "metadata": {},
   "outputs": [
    {
     "name": "stdout",
     "output_type": "stream",
     "text": [
      "[1, 4, 9, 16, 25]\n"
     ]
    }
   ],
   "source": [
    "# unlike filter(), map() will not do the conditional check and returns the exact values as in given sequence if the condition is True.\n",
    "# map() will directly perform the operation defined in the function on the given sequence and generate a new sequence. \n",
    "l=[1,2,3,4,5]\n",
    "def square(n):\n",
    "    return n*n\n",
    "l1=list(map(square,l)) # each element of l is passed to a square function for calculating square value and generate new list.\n",
    "print(l1)"
   ]
  },
  {
   "cell_type": "code",
   "execution_count": 47,
   "metadata": {},
   "outputs": [
    {
     "name": "stdout",
     "output_type": "stream",
     "text": [
      "[1, 4, 9, 16, 25]\n"
     ]
    }
   ],
   "source": [
    "l=[1,2,3,4,5]\n",
    "l1=list(map(lambda n:n*n,l)) # each element of l is passed to a lambda function for calculating square value and generate new list.\n",
    "print(l1)"
   ]
  },
  {
   "cell_type": "markdown",
   "metadata": {},
   "source": [
    "We can apply map() function on multiple lists also. But make sure all list should have same length. if the lenght is not same, upto the common lenght it will perform the operation, remaining elements will be ignored<br>\n",
    "**Syntax:** map(lambda x,y : x*y , l1, l2)) ====> x is from l1 and y is from l2"
   ]
  },
  {
   "cell_type": "code",
   "execution_count": 48,
   "metadata": {},
   "outputs": [
    {
     "name": "stdout",
     "output_type": "stream",
     "text": [
      "[2, 6, 12, 20]\n"
     ]
    }
   ],
   "source": [
    "l1=[1,2,3,4]\n",
    "l2=[2,3,4,5]\n",
    "l3=list(map(lambda x,y:x*y,l1,l2))\n",
    "print(l3) "
   ]
  },
  {
   "cell_type": "code",
   "execution_count": 49,
   "metadata": {},
   "outputs": [
    {
     "name": "stdout",
     "output_type": "stream",
     "text": [
      "[2, 6, 12, 20]\n"
     ]
    }
   ],
   "source": [
    "l1=[1,2,3,4,5,6,7,8,9,10]\n",
    "l2=[2,3,4,5]\n",
    "l3=list(map(lambda x,y:x*y,l1,l2))\n",
    "print(l3) "
   ]
  },
  {
   "cell_type": "code",
   "execution_count": 50,
   "metadata": {},
   "outputs": [
    {
     "name": "stdout",
     "output_type": "stream",
     "text": [
      "[9, 12, 15, 18]\n"
     ]
    }
   ],
   "source": [
    "l1=[1,2,3,4]\n",
    "l2=[2,3,4,5]\n",
    "l3=[6,7,8,9]\n",
    "l4=list(map(lambda x,y,z:x+y+z,l1,l2,l3))\n",
    "print(l4) "
   ]
  },
  {
   "cell_type": "markdown",
   "metadata": {},
   "source": [
    "# reduce() Function:\n",
    " - reduce() function reduces sequence of elements into a single element by applying the specified function.<br>Eg: sum of the salary of all the employees<br><br>\n",
    " \n",
    " - **Syntax:** reduce(function,sequence)\n",
    " - reduce() function present in functools module and hence we should write import statement.\n"
   ]
  },
  {
   "cell_type": "code",
   "execution_count": 53,
   "metadata": {},
   "outputs": [
    {
     "data": {
      "text/plain": [
       "120"
      ]
     },
     "execution_count": 53,
     "metadata": {},
     "output_type": "execute_result"
    }
   ],
   "source": [
    "from functools import reduce # reuuce is not an inbuilt function, so we need to import it from functools module\n",
    "\n",
    "l=[10,20,40,50]\n",
    "l1=reduce(lambda x,y:x+y,l) # for every two elements sum operation will be performed until a single value is returned.\n",
    "l1"
   ]
  },
  {
   "cell_type": "code",
   "execution_count": 54,
   "metadata": {},
   "outputs": [
    {
     "data": {
      "text/plain": [
       "5050"
      ]
     },
     "execution_count": 54,
     "metadata": {},
     "output_type": "execute_result"
    }
   ],
   "source": [
    "# find the sum of first hundred numbers by using reduce() function\n",
    "s=reduce(lambda x,y:x+y,range(1,101))\n",
    "s"
   ]
  },
  {
   "cell_type": "markdown",
   "metadata": {},
   "source": [
    "# THE END"
   ]
  }
 ],
 "metadata": {
  "kernelspec": {
   "display_name": "Python 3",
   "language": "python",
   "name": "python3"
  },
  "language_info": {
   "codemirror_mode": {
    "name": "ipython",
    "version": 3
   },
   "file_extension": ".py",
   "mimetype": "text/x-python",
   "name": "python",
   "nbconvert_exporter": "python",
   "pygments_lexer": "ipython3",
   "version": "3.8.3"
  }
 },
 "nbformat": 4,
 "nbformat_minor": 4
}
