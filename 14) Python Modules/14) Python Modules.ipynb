{
 "cells": [
  {
   "cell_type": "markdown",
   "metadata": {},
   "source": [
    "## Module\n",
    "\n",
    " - A group of functions, variables and classes saved to a file, which is nothing but module.\n",
    " - Every Python file (.py) acts as a module."
   ]
  },
  {
   "cell_type": "code",
   "execution_count": 1,
   "metadata": {},
   "outputs": [],
   "source": [
    "# This can be saved as a .py file. Lets say this is saved as add_diff.dy file.\n",
    "x=888\n",
    "y=999\n",
    "def add(a,b):\n",
    "    print(\"The Sum: \",a+b)\n",
    "\n",
    "def sub(a,b):\n",
    "    print(\"The Difference: \",a-b)\n",
    "    \n",
    "class A:\n",
    "    pass"
   ]
  },
  {
   "cell_type": "markdown",
   "metadata": {},
   "source": [
    "**add_diff** module contains two variables and 2 functions.<br>\n",
    "If we want to use members of module in our program then we should import that module as below.<br><br>\n",
    "**import modulename**"
   ]
  },
  {
   "cell_type": "markdown",
   "metadata": {},
   "source": [
    "We can access members by using module name.<br>\n",
    " - modulename.variable<br>\n",
    " - modulename.function()"
   ]
  },
  {
   "cell_type": "code",
   "execution_count": 2,
   "metadata": {},
   "outputs": [
    {
     "name": "stdout",
     "output_type": "stream",
     "text": [
      "888\n",
      "999\n",
      "The Sum:  30\n",
      "The Difference:  20\n"
     ]
    }
   ],
   "source": [
    "import add_diff #importing the module that we have created earlier.\n",
    "\n",
    "print(add_diff.x) # to print the value stored in x variable.\n",
    "print(add_diff.y) # to print the value stored in y variable.\n",
    "add_diff.add(10,20) # Calling the function from the add_dif module to perform addition.\n",
    "add_diff.sub(40,20) ## Calling the function from the add_dif module to perform Subraction."
   ]
  },
  {
   "cell_type": "markdown",
   "metadata": {},
   "source": [
    "**Note:** Whenever we are using a module in our program, for that module compiled file(add_diff.pyc)\n",
    "will be generated and stored in a __pycache__ Folder in the hard disk permanently. <br>\n",
    "> If we use import module, Internally translated file(Complied File) will generated and stored. Every time we need to use the module, this translated file will be used directly. Which improves the performance."
   ]
  },
  {
   "cell_type": "markdown",
   "metadata": {},
   "source": [
    "The biggest advantage of this module concept is <br>\n",
    "> 1) **Code Reusability** - Write once and use any number of times simply by importing the module.<br>\n",
    "> 2) **Lenght of code will be reduced and readability will be increased.**<br>\n",
    "> 3) **Maintainability of the application will be improved** - If change to made in the functions/classess/variables from the imported module, only we need to change the code in the module. Changes will be applied to all the programs which used the functions from imported module. "
   ]
  },
  {
   "cell_type": "markdown",
   "metadata": {},
   "source": [
    "## (Module Aliasing):\n",
    "\n",
    "we need to call functionalities of module with module name everytime. So lenght of module name will occupy more space, so to reduce that we are creating a new short name for that module at the time of importing. This is called Module Aliasing.\n",
    "\n",
    "Renaming a Module at the time of import\n",
    "> - Eg: import **add_diff** as **ad**<br>\n",
    "> - Here **add_diff** is original module name and **ad** is alias name.<br>\n",
    "> - We can access members by using alias name **ad**"
   ]
  },
  {
   "cell_type": "code",
   "execution_count": 3,
   "metadata": {},
   "outputs": [
    {
     "name": "stdout",
     "output_type": "stream",
     "text": [
      "888\n",
      "999\n",
      "The Sum:  30\n",
      "The Difference:  20\n"
     ]
    }
   ],
   "source": [
    "import add_diff as ad #importing the module that we have created earlier.\n",
    "\n",
    "print(ad.x) # to print the value stored in x variable.\n",
    "print(ad.y) # to print the value stored in y variable.\n",
    "ad.add(10,20) # Calling the function from the add_dif module to perform addition.\n",
    "ad.sub(40,20) ## Calling the function from the add_dif module to perform Subraction."
   ]
  },
  {
   "cell_type": "markdown",
   "metadata": {},
   "source": [
    "**Note: <span style='color:red'>Once we defined as alias name,we should use alias name only and we should not use\n",
    "original name<span>**"
   ]
  },
  {
   "cell_type": "code",
   "execution_count": 4,
   "metadata": {},
   "outputs": [
    {
     "name": "stdout",
     "output_type": "stream",
     "text": [
      "The Sum:  30\n"
     ]
    }
   ],
   "source": [
    "import add_diff as ad\n",
    "\n",
    "add_diff.add(10,20) # This will raise an error, once aliasing is defined, we can't use the original name."
   ]
  },
  {
   "cell_type": "code",
   "execution_count": 5,
   "metadata": {},
   "outputs": [
    {
     "name": "stdout",
     "output_type": "stream",
     "text": [
      "The Sum:  30\n"
     ]
    }
   ],
   "source": [
    "import add_diff as ad\n",
    "\n",
    "ad.add(10,20) # This is valid as we are calling the function of a module with the alias name 'ad' created"
   ]
  },
  {
   "cell_type": "markdown",
   "metadata": {},
   "source": [
    "# from ... import:\n",
    "\n",
    "We can import particular members of module by using from ... import.<br>\n",
    "The main advantage of this is we can access members directly without using module\n",
    "name."
   ]
  },
  {
   "cell_type": "code",
   "execution_count": 6,
   "metadata": {},
   "outputs": [
    {
     "name": "stdout",
     "output_type": "stream",
     "text": [
      "888\n",
      "The Sum:  50\n"
     ]
    }
   ],
   "source": [
    "from add_diff import add,x # directly importing the required members of the module. \n",
    "\n",
    "print(x) # We are directly calling the variable without using the module name.\n",
    "add(20,30) # We are directly calling the function without using the module name."
   ]
  },
  {
   "cell_type": "markdown",
   "metadata": {},
   "source": [
    "We can import all members of a module as follows **from add_diff import ***"
   ]
  },
  {
   "cell_type": "code",
   "execution_count": 7,
   "metadata": {},
   "outputs": [
    {
     "name": "stdout",
     "output_type": "stream",
     "text": [
      "Product of x and y is : 887112\n",
      "The Sum:  30\n",
      "The Difference:  20\n",
      "<class 'add_diff.A'>\n"
     ]
    }
   ],
   "source": [
    "from add_diff import* # Every member in the module will be imported directly.We can use them directly with out calling a module name. \n",
    "\n",
    "print(\"Product of x and y is :\",x*y)\n",
    "add(10,20)\n",
    "sub(40,20)\n",
    "print(A)"
   ]
  },
  {
   "cell_type": "markdown",
   "metadata": {},
   "source": [
    "## Member Aliasing\n",
    "\n",
    "Aliasing is not restricted to module itslef. We can also create aliasing for the members of the module."
   ]
  },
  {
   "cell_type": "code",
   "execution_count": 8,
   "metadata": {},
   "outputs": [
    {
     "name": "stdout",
     "output_type": "stream",
     "text": [
      "888\n",
      "The Sum:  30\n",
      "The Difference:  10\n"
     ]
    }
   ],
   "source": [
    "from add_diff import x as cap_X,add as Sum,sub as difference\n",
    "\n",
    "print(cap_X) \n",
    "Sum(10,20) # Calling the add function with alias name 'Sum'\n",
    "difference(20,10) # Calling the sub function with alias name 'difference'"
   ]
  },
  {
   "cell_type": "markdown",
   "metadata": {},
   "source": [
    "### Various Possibilties of import:\n",
    "1) **import modulename**<br>\n",
    "2) **import module1, module2, module3** ===> Importing Multiple Modules<br>\n",
    "3) **import module1 as m**<br>\n",
    "4) **import module1 as m1, module2 as m2, module3 as m3** ===> Creating Aliases for Multiple modules.<br>\n",
    "5) **from module import member** ===> Importing a particular member from a module<br>\n",
    "6) **from module import member1, member2, memebr3** ===> Importing a Multiple members from a module<br>\n",
    "7) **from module import memeber1 as x** ===> Creating Alias for member<br>\n",
    "8) **from module import *** ===> Importing all the members from the module<br>"
   ]
  },
  {
   "cell_type": "markdown",
   "metadata": {},
   "source": [
    "# Module Naming Conflicts"
   ]
  },
  {
   "cell_type": "code",
   "execution_count": 9,
   "metadata": {},
   "outputs": [],
   "source": [
    "# Lets say we have created a module1 with .py format which contains an add function.\n",
    "def add(a,b):\n",
    "    print(\"Module1 add Function:\")\n",
    "    print(\"The Sum is: \",a+b)"
   ]
  },
  {
   "cell_type": "code",
   "execution_count": 10,
   "metadata": {},
   "outputs": [],
   "source": [
    "# Lets say we also have created a module2 with .py format which contains an add function.\n",
    "def add(a,b):\n",
    "    print(\"Module1 add Function:\")\n",
    "    print(\"The Sum is: \",a+b)"
   ]
  },
  {
   "cell_type": "markdown",
   "metadata": {},
   "source": [
    "In the above two modules i.e module1 and module2 both contains function with same name add(a,b). <br>\n",
    "\n",
    "**If we import both modules, which add function will be considered? This is the module naming conflict.**"
   ]
  },
  {
   "cell_type": "code",
   "execution_count": 11,
   "metadata": {},
   "outputs": [
    {
     "name": "stdout",
     "output_type": "stream",
     "text": [
      "Module2 add Function:\n",
      "The Sum is:  30\n"
     ]
    }
   ],
   "source": [
    "from module1 import *\n",
    "from module2 import *\n",
    "add(10,20)"
   ]
  },
  {
   "cell_type": "markdown",
   "metadata": {},
   "source": [
    "**OMG!, Its executed**. Now, tell me from which module this add function is considered."
   ]
  },
  {
   "cell_type": "code",
   "execution_count": 12,
   "metadata": {},
   "outputs": [
    {
     "name": "stdout",
     "output_type": "stream",
     "text": [
      "30\n"
     ]
    }
   ],
   "source": [
    "x=10\n",
    "x=20 # This overrides x=10 and will keep x=20\n",
    "x=30 # This overrides x=20 and will keep x=30\n",
    "print(x) # This will print the latest value of the x."
   ]
  },
  {
   "cell_type": "markdown",
   "metadata": {},
   "source": [
    "Similiarly, as shown in the above example. The same rule applies to the modules as well.<br><br>\n",
    "Most recent function from most recent module will override the function from old module. **Hence, add function will be considered from the module2 overriding the module1.**"
   ]
  },
  {
   "cell_type": "code",
   "execution_count": 13,
   "metadata": {},
   "outputs": [
    {
     "name": "stdout",
     "output_type": "stream",
     "text": [
      "Module1 add Function:\n",
      "The Sum is:  30\n"
     ]
    }
   ],
   "source": [
    "from module2 import *\n",
    "from module1 import *\n",
    "add(10,20) # Since module1 is the most recent, add function will be considered from the module1."
   ]
  },
  {
   "cell_type": "markdown",
   "metadata": {},
   "source": [
    "For suppose, we want to use both add functions from both the modules over time. We can do this as follows. "
   ]
  },
  {
   "cell_type": "code",
   "execution_count": 14,
   "metadata": {},
   "outputs": [
    {
     "name": "stdout",
     "output_type": "stream",
     "text": [
      "Module1 add Function:\n",
      "The Sum is:  30\n",
      "Module2 add Function:\n",
      "The Sum is:  50\n"
     ]
    }
   ],
   "source": [
    "# Solution 1\n",
    "import module1\n",
    "import module2\n",
    "\n",
    "module1.add(10,20) # calling add function from module1\n",
    "module2.add(20,30) # calling add function from module2"
   ]
  },
  {
   "cell_type": "code",
   "execution_count": 15,
   "metadata": {},
   "outputs": [
    {
     "name": "stdout",
     "output_type": "stream",
     "text": [
      "Module1 add Function:\n",
      "The Sum is:  30\n",
      "Module2 add Function:\n",
      "The Sum is:  50\n"
     ]
    }
   ],
   "source": [
    "# Solution 2: By creating aliases\n",
    "from module1 import add as a1\n",
    "from module2 import add as a2\n",
    "a1(10,20)\n",
    "a2(20,30)\n"
   ]
  },
  {
   "cell_type": "markdown",
   "metadata": {},
   "source": [
    "## Reloading a Module:\n",
    "By default module will be loaded only once eventhough we are importing multiple times."
   ]
  },
  {
   "cell_type": "code",
   "execution_count": 16,
   "metadata": {},
   "outputs": [
    {
     "name": "stdout",
     "output_type": "stream",
     "text": [
      "This is a test module\n",
      "Module1 add Function:\n",
      "The Sum is:  30\n"
     ]
    }
   ],
   "source": [
    "import module1 # Even tough, we loaded module1 multiple times only the first time imported module will be considered.\n",
    "import module1\n",
    "import module1\n",
    "import module1\n",
    "import module1\n",
    "print(\"This is a test module\")\n",
    "module1.add(10,20)"
   ]
  },
  {
   "cell_type": "markdown",
   "metadata": {},
   "source": [
    "Content from the module1 is loaded into the python virtual machine. So , it will use the same module1 which was loaded first upon the the module1 imports.<br><br>\n",
    "But, if we have updated some content in the module1 after loading into python virtual machine, already loaded content will miss the changes made in module1, Since python Interpreter will check whether it is already loaded or not. If already loaded in Python virtual machine, same will be considered again and again irrespective of how many imports we have done. This is one problem."
   ]
  },
  {
   "cell_type": "code",
   "execution_count": 17,
   "metadata": {},
   "outputs": [
    {
     "name": "stdout",
     "output_type": "stream",
     "text": [
      "Module1 add Function:\n",
      "The Sum is:  30\n",
      "Content Changed in Module1\n",
      "The product is:  50\n"
     ]
    }
   ],
   "source": [
    "import module1\n",
    "import time\n",
    "\n",
    "module1.add(10,20)\n",
    "time.sleep(5) # Interpreter will sleep for 5 sec, in this time content is changed in module1.\n",
    "\n",
    "import module1 # Importing module1 once again\n",
    "module1.product(10,5) # This will say product is not defined in module1, tough we changed the content in module1."
   ]
  },
  {
   "cell_type": "markdown",
   "metadata": {},
   "source": [
    "**Note:** Next time you run this note book, This will work. So, try to create a new function in module1 and import that function here"
   ]
  },
  {
   "cell_type": "markdown",
   "metadata": {},
   "source": [
    "To avoid this reloading issue, We have **reload()** function to reload the module to get updated content. We nee to import the reload() from imp module as shown below."
   ]
  },
  {
   "cell_type": "code",
   "execution_count": 18,
   "metadata": {},
   "outputs": [
    {
     "name": "stdout",
     "output_type": "stream",
     "text": [
      "Module1 add Function:\n",
      "The Sum is:  30\n",
      "Content Changed in Module1\n",
      "The product is:  50\n"
     ]
    }
   ],
   "source": [
    "import module1\n",
    "from imp import reload # Importing reload function from imp module\n",
    "import time\n",
    "\n",
    "module1.add(10,20)\n",
    "time.sleep(5) # Interpreter will sleep for 5 sec, in this time content is changed in module1.\n",
    "\n",
    "reload(module1) #Reloading the module1 once again, updated copy of module1 will be available.\n",
    "module1.product(10,5) # This will display the updated content in moodule1"
   ]
  },
  {
   "cell_type": "markdown",
   "metadata": {},
   "source": [
    "### Finding members of the module by using dir() function"
   ]
  },
  {
   "cell_type": "markdown",
   "metadata": {},
   "source": [
    "Python provides inbuilt function dir() to list out all members of current module or a specified module.<br><br>\n",
    "**dir()** ==>  To list out all members of current module<br>\n",
    "**dir(moduleName)** ==> To list out all members of specified module"
   ]
  },
  {
   "cell_type": "code",
   "execution_count": 19,
   "metadata": {},
   "outputs": [
    {
     "name": "stdout",
     "output_type": "stream",
     "text": [
      "['A', 'In', 'Out', 'Sum', '_', '__', '___', '__builtin__', '__builtins__', '__doc__', '__loader__', '__name__', '__package__', '__spec__', '_dh', '_i', '_i1', '_i10', '_i11', '_i12', '_i13', '_i14', '_i15', '_i16', '_i17', '_i18', '_i19', '_i2', '_i3', '_i4', '_i5', '_i6', '_i7', '_i8', '_i9', '_ih', '_ii', '_iii', '_oh', 'a1', 'a2', 'ad', 'add', 'add_diff', 'cap_X', 'difference', 'exit', 'get_ipython', 'module1', 'module2', 'product', 'quit', 'reload', 'sub', 'time', 'x', 'y']\n"
     ]
    }
   ],
   "source": [
    "x=888\n",
    "y=999\n",
    "def add(a,b):\n",
    "    print(a+b)\n",
    "print(dir()) # This will list out all the members present inside this current module."
   ]
  },
  {
   "cell_type": "code",
   "execution_count": 20,
   "metadata": {},
   "outputs": [
    {
     "name": "stdout",
     "output_type": "stream",
     "text": [
      "['__doc__', '__loader__', '__name__', '__package__', '__spec__', 'acos', 'acosh', 'asin', 'asinh', 'atan', 'atan2', 'atanh', 'ceil', 'comb', 'copysign', 'cos', 'cosh', 'degrees', 'dist', 'e', 'erf', 'erfc', 'exp', 'expm1', 'fabs', 'factorial', 'floor', 'fmod', 'frexp', 'fsum', 'gamma', 'gcd', 'hypot', 'inf', 'isclose', 'isfinite', 'isinf', 'isnan', 'isqrt', 'ldexp', 'lgamma', 'log', 'log10', 'log1p', 'log2', 'modf', 'nan', 'perm', 'pi', 'pow', 'prod', 'radians', 'remainder', 'sin', 'sinh', 'sqrt', 'tan', 'tanh', 'tau', 'trunc']\n"
     ]
    }
   ],
   "source": [
    "import math\n",
    "print(dir(math)) # This will list out all the members present inside the specified math module."
   ]
  },
  {
   "cell_type": "markdown",
   "metadata": {},
   "source": [
    "### Difference between dir() and  help() functions"
   ]
  },
  {
   "cell_type": "markdown",
   "metadata": {},
   "source": [
    "**dir(module)** ===> This is always List out all the members of the current module or specified module without any extra documentation.<br><br>\n",
    "**help(module)** ===> It will display the ellaborated documentation related to the specified module."
   ]
  },
  {
   "cell_type": "code",
   "execution_count": 21,
   "metadata": {},
   "outputs": [
    {
     "name": "stdout",
     "output_type": "stream",
     "text": [
      "['__doc__', '__loader__', '__name__', '__package__', '__spec__', 'acos', 'acosh', 'asin', 'asinh', 'atan', 'atan2', 'atanh', 'ceil', 'comb', 'copysign', 'cos', 'cosh', 'degrees', 'dist', 'e', 'erf', 'erfc', 'exp', 'expm1', 'fabs', 'factorial', 'floor', 'fmod', 'frexp', 'fsum', 'gamma', 'gcd', 'hypot', 'inf', 'isclose', 'isfinite', 'isinf', 'isnan', 'isqrt', 'ldexp', 'lgamma', 'log', 'log10', 'log1p', 'log2', 'modf', 'nan', 'perm', 'pi', 'pow', 'prod', 'radians', 'remainder', 'sin', 'sinh', 'sqrt', 'tan', 'tanh', 'tau', 'trunc']\n"
     ]
    }
   ],
   "source": [
    "import math\n",
    "print(dir(math)) # This will just list out members present in the module."
   ]
  },
  {
   "cell_type": "code",
   "execution_count": 22,
   "metadata": {},
   "outputs": [
    {
     "name": "stdout",
     "output_type": "stream",
     "text": [
      "Help on built-in module math:\n",
      "\n",
      "NAME\n",
      "    math\n",
      "\n",
      "DESCRIPTION\n",
      "    This module provides access to the mathematical functions\n",
      "    defined by the C standard.\n",
      "\n",
      "FUNCTIONS\n",
      "    acos(x, /)\n",
      "        Return the arc cosine (measured in radians) of x.\n",
      "    \n",
      "    acosh(x, /)\n",
      "        Return the inverse hyperbolic cosine of x.\n",
      "    \n",
      "    asin(x, /)\n",
      "        Return the arc sine (measured in radians) of x.\n",
      "    \n",
      "    asinh(x, /)\n",
      "        Return the inverse hyperbolic sine of x.\n",
      "    \n",
      "    atan(x, /)\n",
      "        Return the arc tangent (measured in radians) of x.\n",
      "    \n",
      "    atan2(y, x, /)\n",
      "        Return the arc tangent (measured in radians) of y/x.\n",
      "        \n",
      "        Unlike atan(y/x), the signs of both x and y are considered.\n",
      "    \n",
      "    atanh(x, /)\n",
      "        Return the inverse hyperbolic tangent of x.\n",
      "    \n",
      "    ceil(x, /)\n",
      "        Return the ceiling of x as an Integral.\n",
      "        \n",
      "        This is the smallest integer >= x.\n",
      "    \n",
      "    comb(n, k, /)\n",
      "        Number of ways to choose k items from n items without repetition and without order.\n",
      "        \n",
      "        Evaluates to n! / (k! * (n - k)!) when k <= n and evaluates\n",
      "        to zero when k > n.\n",
      "        \n",
      "        Also called the binomial coefficient because it is equivalent\n",
      "        to the coefficient of k-th term in polynomial expansion of the\n",
      "        expression (1 + x)**n.\n",
      "        \n",
      "        Raises TypeError if either of the arguments are not integers.\n",
      "        Raises ValueError if either of the arguments are negative.\n",
      "    \n",
      "    copysign(x, y, /)\n",
      "        Return a float with the magnitude (absolute value) of x but the sign of y.\n",
      "        \n",
      "        On platforms that support signed zeros, copysign(1.0, -0.0)\n",
      "        returns -1.0.\n",
      "    \n",
      "    cos(x, /)\n",
      "        Return the cosine of x (measured in radians).\n",
      "    \n",
      "    cosh(x, /)\n",
      "        Return the hyperbolic cosine of x.\n",
      "    \n",
      "    degrees(x, /)\n",
      "        Convert angle x from radians to degrees.\n",
      "    \n",
      "    dist(p, q, /)\n",
      "        Return the Euclidean distance between two points p and q.\n",
      "        \n",
      "        The points should be specified as sequences (or iterables) of\n",
      "        coordinates.  Both inputs must have the same dimension.\n",
      "        \n",
      "        Roughly equivalent to:\n",
      "            sqrt(sum((px - qx) ** 2.0 for px, qx in zip(p, q)))\n",
      "    \n",
      "    erf(x, /)\n",
      "        Error function at x.\n",
      "    \n",
      "    erfc(x, /)\n",
      "        Complementary error function at x.\n",
      "    \n",
      "    exp(x, /)\n",
      "        Return e raised to the power of x.\n",
      "    \n",
      "    expm1(x, /)\n",
      "        Return exp(x)-1.\n",
      "        \n",
      "        This function avoids the loss of precision involved in the direct evaluation of exp(x)-1 for small x.\n",
      "    \n",
      "    fabs(x, /)\n",
      "        Return the absolute value of the float x.\n",
      "    \n",
      "    factorial(x, /)\n",
      "        Find x!.\n",
      "        \n",
      "        Raise a ValueError if x is negative or non-integral.\n",
      "    \n",
      "    floor(x, /)\n",
      "        Return the floor of x as an Integral.\n",
      "        \n",
      "        This is the largest integer <= x.\n",
      "    \n",
      "    fmod(x, y, /)\n",
      "        Return fmod(x, y), according to platform C.\n",
      "        \n",
      "        x % y may differ.\n",
      "    \n",
      "    frexp(x, /)\n",
      "        Return the mantissa and exponent of x, as pair (m, e).\n",
      "        \n",
      "        m is a float and e is an int, such that x = m * 2.**e.\n",
      "        If x is 0, m and e are both 0.  Else 0.5 <= abs(m) < 1.0.\n",
      "    \n",
      "    fsum(seq, /)\n",
      "        Return an accurate floating point sum of values in the iterable seq.\n",
      "        \n",
      "        Assumes IEEE-754 floating point arithmetic.\n",
      "    \n",
      "    gamma(x, /)\n",
      "        Gamma function at x.\n",
      "    \n",
      "    gcd(x, y, /)\n",
      "        greatest common divisor of x and y\n",
      "    \n",
      "    hypot(...)\n",
      "        hypot(*coordinates) -> value\n",
      "        \n",
      "        Multidimensional Euclidean distance from the origin to a point.\n",
      "        \n",
      "        Roughly equivalent to:\n",
      "            sqrt(sum(x**2 for x in coordinates))\n",
      "        \n",
      "        For a two dimensional point (x, y), gives the hypotenuse\n",
      "        using the Pythagorean theorem:  sqrt(x*x + y*y).\n",
      "        \n",
      "        For example, the hypotenuse of a 3/4/5 right triangle is:\n",
      "        \n",
      "            >>> hypot(3.0, 4.0)\n",
      "            5.0\n",
      "    \n",
      "    isclose(a, b, *, rel_tol=1e-09, abs_tol=0.0)\n",
      "        Determine whether two floating point numbers are close in value.\n",
      "        \n",
      "          rel_tol\n",
      "            maximum difference for being considered \"close\", relative to the\n",
      "            magnitude of the input values\n",
      "          abs_tol\n",
      "            maximum difference for being considered \"close\", regardless of the\n",
      "            magnitude of the input values\n",
      "        \n",
      "        Return True if a is close in value to b, and False otherwise.\n",
      "        \n",
      "        For the values to be considered close, the difference between them\n",
      "        must be smaller than at least one of the tolerances.\n",
      "        \n",
      "        -inf, inf and NaN behave similarly to the IEEE 754 Standard.  That\n",
      "        is, NaN is not close to anything, even itself.  inf and -inf are\n",
      "        only close to themselves.\n",
      "    \n",
      "    isfinite(x, /)\n",
      "        Return True if x is neither an infinity nor a NaN, and False otherwise.\n",
      "    \n",
      "    isinf(x, /)\n",
      "        Return True if x is a positive or negative infinity, and False otherwise.\n",
      "    \n",
      "    isnan(x, /)\n",
      "        Return True if x is a NaN (not a number), and False otherwise.\n",
      "    \n",
      "    isqrt(n, /)\n",
      "        Return the integer part of the square root of the input.\n",
      "    \n",
      "    ldexp(x, i, /)\n",
      "        Return x * (2**i).\n",
      "        \n",
      "        This is essentially the inverse of frexp().\n",
      "    \n",
      "    lgamma(x, /)\n",
      "        Natural logarithm of absolute value of Gamma function at x.\n",
      "    \n",
      "    log(...)\n",
      "        log(x, [base=math.e])\n",
      "        Return the logarithm of x to the given base.\n",
      "        \n",
      "        If the base not specified, returns the natural logarithm (base e) of x.\n",
      "    \n",
      "    log10(x, /)\n",
      "        Return the base 10 logarithm of x.\n",
      "    \n",
      "    log1p(x, /)\n",
      "        Return the natural logarithm of 1+x (base e).\n",
      "        \n",
      "        The result is computed in a way which is accurate for x near zero.\n",
      "    \n",
      "    log2(x, /)\n",
      "        Return the base 2 logarithm of x.\n",
      "    \n",
      "    modf(x, /)\n",
      "        Return the fractional and integer parts of x.\n",
      "        \n",
      "        Both results carry the sign of x and are floats.\n",
      "    \n",
      "    perm(n, k=None, /)\n",
      "        Number of ways to choose k items from n items without repetition and with order.\n",
      "        \n",
      "        Evaluates to n! / (n - k)! when k <= n and evaluates\n",
      "        to zero when k > n.\n",
      "        \n",
      "        If k is not specified or is None, then k defaults to n\n",
      "        and the function returns n!.\n",
      "        \n",
      "        Raises TypeError if either of the arguments are not integers.\n",
      "        Raises ValueError if either of the arguments are negative.\n",
      "    \n",
      "    pow(x, y, /)\n",
      "        Return x**y (x to the power of y).\n",
      "    \n",
      "    prod(iterable, /, *, start=1)\n",
      "        Calculate the product of all the elements in the input iterable.\n",
      "        \n",
      "        The default start value for the product is 1.\n",
      "        \n",
      "        When the iterable is empty, return the start value.  This function is\n",
      "        intended specifically for use with numeric values and may reject\n",
      "        non-numeric types.\n",
      "    \n",
      "    radians(x, /)\n",
      "        Convert angle x from degrees to radians.\n",
      "    \n",
      "    remainder(x, y, /)\n",
      "        Difference between x and the closest integer multiple of y.\n",
      "        \n",
      "        Return x - n*y where n*y is the closest integer multiple of y.\n",
      "        In the case where x is exactly halfway between two multiples of\n",
      "        y, the nearest even value of n is used. The result is always exact.\n",
      "    \n",
      "    sin(x, /)\n",
      "        Return the sine of x (measured in radians).\n",
      "    \n",
      "    sinh(x, /)\n",
      "        Return the hyperbolic sine of x.\n",
      "    \n",
      "    sqrt(x, /)\n",
      "        Return the square root of x.\n",
      "    \n",
      "    tan(x, /)\n",
      "        Return the tangent of x (measured in radians).\n",
      "    \n",
      "    tanh(x, /)\n",
      "        Return the hyperbolic tangent of x.\n",
      "    \n",
      "    trunc(x, /)\n",
      "        Truncates the Real x to the nearest Integral toward 0.\n",
      "        \n",
      "        Uses the __trunc__ magic method.\n",
      "\n",
      "DATA\n",
      "    e = 2.718281828459045\n",
      "    inf = inf\n",
      "    nan = nan\n",
      "    pi = 3.141592653589793\n",
      "    tau = 6.283185307179586\n",
      "\n",
      "FILE\n",
      "    (built-in)\n",
      "\n",
      "\n",
      "None\n"
     ]
    }
   ],
   "source": [
    "print(help(math)) # This will provide complete information about the members present in the math module"
   ]
  },
  {
   "cell_type": "markdown",
   "metadata": {},
   "source": [
    "### Extra Members added by python interpretor(PVM) for every module "
   ]
  },
  {
   "cell_type": "markdown",
   "metadata": {},
   "source": [
    "**Note:** For every module at the time of execution Python interpreter will add some special properties automatically for internal use.<br><br>"
   ]
  },
  {
   "cell_type": "code",
   "execution_count": 23,
   "metadata": {},
   "outputs": [],
   "source": [
    "# Eg: __builtins__,__cached__,'__doc__,__file__, __loader__, __name__,__package__,__spec__\n",
    "# Based on our requirement we can access these properties also in our program."
   ]
  },
  {
   "cell_type": "code",
   "execution_count": 24,
   "metadata": {},
   "outputs": [
    {
     "name": "stdout",
     "output_type": "stream",
     "text": [
      "This module contains some builtin members demo example\n",
      "['A', 'In', 'Out', 'Sum', '_', '__', '___', '__builtin__', '__builtins__', '__doc__', '__loader__', '__name__', '__package__', '__spec__', '_dh', '_i', '_i1', '_i10', '_i11', '_i12', '_i13', '_i14', '_i15', '_i16', '_i17', '_i18', '_i19', '_i2', '_i20', '_i21', '_i22', '_i23', '_i24', '_i3', '_i4', '_i5', '_i6', '_i7', '_i8', '_i9', '_ih', '_ii', '_iii', '_oh', 'a1', 'a2', 'ad', 'add', 'add_diff', 'cap_X', 'difference', 'exit', 'get_ipython', 'math', 'module1', 'module2', 'product', 'quit', 'reload', 'sub', 'time', 'x', 'y']\n"
     ]
    }
   ],
   "source": [
    "\"\"\"This module contains some builtin members demo example\"\"\"\n",
    "print(__doc__) # This will display the all the content present in the doc strings\n",
    "print(dir()) # We have not added any members to this cell, so we will get all the inbuilt members"
   ]
  },
  {
   "cell_type": "code",
   "execution_count": 25,
   "metadata": {},
   "outputs": [],
   "source": [
    "# import os\n",
    "# print(\"File Name:\",__file__) # This will return the file name, since this is a jupyer notebook, This will raise an error saying __file__ not defined.\n",
    "# print(\"Absolute Path:\",os.path.abspath(__file__)) # This will return the complete path of the file it is located in.\n",
    "# print(\"Absolute Path:\",os.path.dirname(os.path.abspath(__file__))) # This will return the directory in which the file is located in."
   ]
  },
  {
   "cell_type": "markdown",
   "metadata": {},
   "source": [
    "### Special Variable:  \\_\\_name\\_\\_"
   ]
  },
  {
   "cell_type": "markdown",
   "metadata": {},
   "source": [
    " - For every Python program, a special variable __name__ will be added internally.<br>\n",
    " - This variable stores information regarding whether the program is executed as an individual program or as a module.<br>\n",
    " - If the program executed as an individual program then the value of this variable is __main__<br>\n",
    " - If the program executed as a module from some other program then the value of this variable is the name of module where it is defined.<br>\n",
    " - Hence by using this __name__ variable we can identify whether the program executed directly or as a module."
   ]
  },
  {
   "cell_type": "code",
   "execution_count": 26,
   "metadata": {},
   "outputs": [
    {
     "name": "stdout",
     "output_type": "stream",
     "text": [
      "Direct Execution, Since The code executed as a program hence __name__ : __main__\n"
     ]
    }
   ],
   "source": [
    "# directly writing the program in this cell to demonstate the direct ecexution and also saved this code with \"name_variable.py\"\n",
    "# to show the indirect execution.\n",
    "def f1():\n",
    "    if __name__==\"__main__\": # if the program is executed in the same file where the code is written, it is called \"direct execution\".        \n",
    "        print(\"Direct Execution, Since The code executed as a program hence __name__ :\",__name__) # Hence the __name__ will be equal to __main__ indicating it as a direct exe.\n",
    "    else: # if the module is imported, then __name__ will be equal to the \"module name which is imported\" indicating as indirect exe.\n",
    "        print(\"Indirect Execution, The code executed as a module from some other program with import statement. Hence __name__ :\",__name__)\n",
    "f1()        "
   ]
  },
  {
   "cell_type": "code",
   "execution_count": 27,
   "metadata": {},
   "outputs": [
    {
     "name": "stdout",
     "output_type": "stream",
     "text": [
      "Indirect Execution, The code executed as a module from some other program with import statement. Hence __name__ : name_variable\n",
      "Indirect Execution, The code executed as a module from some other program with import statement. Hence __name__ : name_variable\n"
     ]
    }
   ],
   "source": [
    "import name_variable # Importing the name_variable.py module\n",
    "name_variable.f1() # Since this is an imported module, __name__ will be \"name_variable\" as an indication of indirect execution\n"
   ]
  },
  {
   "cell_type": "code",
   "execution_count": 28,
   "metadata": {},
   "outputs": [
    {
     "name": "stdout",
     "output_type": "stream",
     "text": [
      "f1 execution\n",
      "f2 execution\n",
      "f3 execution\n"
     ]
    }
   ],
   "source": [
    "#This program saved as \"name.py\" to import in next cells for the demonstration \n",
    "def f1():\n",
    "    print(\"f1 execution\")\n",
    "def f2():\n",
    "    print(\"f2 execution\")\n",
    "def f3():\n",
    "    print(\"f3 execution\")    \n",
    "\n",
    "f1()\n",
    "f2()\n",
    "f3()"
   ]
  },
  {
   "cell_type": "code",
   "execution_count": 29,
   "metadata": {},
   "outputs": [
    {
     "name": "stdout",
     "output_type": "stream",
     "text": [
      "f1 execution\n",
      "f2 execution\n",
      "f3 execution\n",
      "f1 execution\n"
     ]
    }
   ],
   "source": [
    "import name # all members in the module will be imported and will be executed since all the functions are called in 'name' module.\n",
    "name.f1() #we need only f1() execution from 'name' but all the functions f1(),f2(),f3() are executed."
   ]
  },
  {
   "cell_type": "markdown",
   "metadata": {},
   "source": [
    "If we don't want all the members of the function to be executed. we need to do the following."
   ]
  },
  {
   "cell_type": "code",
   "execution_count": 30,
   "metadata": {},
   "outputs": [
    {
     "name": "stdout",
     "output_type": "stream",
     "text": [
      "f1 execution\n",
      "f2 execution\n",
      "f3 execution\n"
     ]
    }
   ],
   "source": [
    "# This program is saved as \"name1.py\" to import in next cells for the demonstration\n",
    "\n",
    "def f1():\n",
    "    print(\"f1 execution\")\n",
    "def f2():\n",
    "    print(\"f2 execution\")\n",
    "def f3():\n",
    "    print(\"f3 execution\")    \n",
    "\n",
    "if __name__==\"__main__\": # This will execute all the functions if it is called in the same editor/cell, if this module is imported, all the functions are available but will not execute.    \n",
    "    f1()\n",
    "    f2()\n",
    "    f3()"
   ]
  },
  {
   "cell_type": "code",
   "execution_count": 31,
   "metadata": {},
   "outputs": [
    {
     "name": "stdout",
     "output_type": "stream",
     "text": [
      "f1 execution\n"
     ]
    }
   ],
   "source": [
    "import name1 # all the members are just available but not executed\n",
    "name1.f1() # only f1 will be called and executed."
   ]
  },
  {
   "cell_type": "markdown",
   "metadata": {},
   "source": [
    "This convention will be used many times in various python programs. This **\\_\\_name\\_\\_** is very much helpful in these cases and it is widely used."
   ]
  },
  {
   "cell_type": "markdown",
   "metadata": {},
   "source": [
    "# Working with Math Module"
   ]
  },
  {
   "cell_type": "markdown",
   "metadata": {},
   "source": [
    " - Python provides inbuilt module math.<br>\n",
    " - This module defines several functions which can be used for mathematical operations.<br>\n",
    " - The main important functions are <br>**1) sqrt(x)<br> 2) ceil(x)<br> 3) floor(x)<br> 4) fabs(x)<br> 5) log(x)<br> 6) sin(x)<br> 7) tan(x)<br> 8) ....**"
   ]
  },
  {
   "cell_type": "code",
   "execution_count": 32,
   "metadata": {},
   "outputs": [
    {
     "name": "stdout",
     "output_type": "stream",
     "text": [
      "['__doc__', '__loader__', '__name__', '__package__', '__spec__', 'acos', 'acosh', 'asin', 'asinh', 'atan', 'atan2', 'atanh', 'ceil', 'comb', 'copysign', 'cos', 'cosh', 'degrees', 'dist', 'e', 'erf', 'erfc', 'exp', 'expm1', 'fabs', 'factorial', 'floor', 'fmod', 'frexp', 'fsum', 'gamma', 'gcd', 'hypot', 'inf', 'isclose', 'isfinite', 'isinf', 'isnan', 'isqrt', 'ldexp', 'lgamma', 'log', 'log10', 'log1p', 'log2', 'modf', 'nan', 'perm', 'pi', 'pow', 'prod', 'radians', 'remainder', 'sin', 'sinh', 'sqrt', 'tan', 'tanh', 'tau', 'trunc']\n"
     ]
    }
   ],
   "source": [
    "import math\n",
    "print(dir(math)) # it return all the members of the Math Module"
   ]
  },
  {
   "cell_type": "code",
   "execution_count": 33,
   "metadata": {},
   "outputs": [
    {
     "name": "stdout",
     "output_type": "stream",
     "text": [
      "Help on built-in module math:\n",
      "\n",
      "NAME\n",
      "    math\n",
      "\n",
      "DESCRIPTION\n",
      "    This module provides access to the mathematical functions\n",
      "    defined by the C standard.\n",
      "\n",
      "FUNCTIONS\n",
      "    acos(x, /)\n",
      "        Return the arc cosine (measured in radians) of x.\n",
      "    \n",
      "    acosh(x, /)\n",
      "        Return the inverse hyperbolic cosine of x.\n",
      "    \n",
      "    asin(x, /)\n",
      "        Return the arc sine (measured in radians) of x.\n",
      "    \n",
      "    asinh(x, /)\n",
      "        Return the inverse hyperbolic sine of x.\n",
      "    \n",
      "    atan(x, /)\n",
      "        Return the arc tangent (measured in radians) of x.\n",
      "    \n",
      "    atan2(y, x, /)\n",
      "        Return the arc tangent (measured in radians) of y/x.\n",
      "        \n",
      "        Unlike atan(y/x), the signs of both x and y are considered.\n",
      "    \n",
      "    atanh(x, /)\n",
      "        Return the inverse hyperbolic tangent of x.\n",
      "    \n",
      "    ceil(x, /)\n",
      "        Return the ceiling of x as an Integral.\n",
      "        \n",
      "        This is the smallest integer >= x.\n",
      "    \n",
      "    comb(n, k, /)\n",
      "        Number of ways to choose k items from n items without repetition and without order.\n",
      "        \n",
      "        Evaluates to n! / (k! * (n - k)!) when k <= n and evaluates\n",
      "        to zero when k > n.\n",
      "        \n",
      "        Also called the binomial coefficient because it is equivalent\n",
      "        to the coefficient of k-th term in polynomial expansion of the\n",
      "        expression (1 + x)**n.\n",
      "        \n",
      "        Raises TypeError if either of the arguments are not integers.\n",
      "        Raises ValueError if either of the arguments are negative.\n",
      "    \n",
      "    copysign(x, y, /)\n",
      "        Return a float with the magnitude (absolute value) of x but the sign of y.\n",
      "        \n",
      "        On platforms that support signed zeros, copysign(1.0, -0.0)\n",
      "        returns -1.0.\n",
      "    \n",
      "    cos(x, /)\n",
      "        Return the cosine of x (measured in radians).\n",
      "    \n",
      "    cosh(x, /)\n",
      "        Return the hyperbolic cosine of x.\n",
      "    \n",
      "    degrees(x, /)\n",
      "        Convert angle x from radians to degrees.\n",
      "    \n",
      "    dist(p, q, /)\n",
      "        Return the Euclidean distance between two points p and q.\n",
      "        \n",
      "        The points should be specified as sequences (or iterables) of\n",
      "        coordinates.  Both inputs must have the same dimension.\n",
      "        \n",
      "        Roughly equivalent to:\n",
      "            sqrt(sum((px - qx) ** 2.0 for px, qx in zip(p, q)))\n",
      "    \n",
      "    erf(x, /)\n",
      "        Error function at x.\n",
      "    \n",
      "    erfc(x, /)\n",
      "        Complementary error function at x.\n",
      "    \n",
      "    exp(x, /)\n",
      "        Return e raised to the power of x.\n",
      "    \n",
      "    expm1(x, /)\n",
      "        Return exp(x)-1.\n",
      "        \n",
      "        This function avoids the loss of precision involved in the direct evaluation of exp(x)-1 for small x.\n",
      "    \n",
      "    fabs(x, /)\n",
      "        Return the absolute value of the float x.\n",
      "    \n",
      "    factorial(x, /)\n",
      "        Find x!.\n",
      "        \n",
      "        Raise a ValueError if x is negative or non-integral.\n",
      "    \n",
      "    floor(x, /)\n",
      "        Return the floor of x as an Integral.\n",
      "        \n",
      "        This is the largest integer <= x.\n",
      "    \n",
      "    fmod(x, y, /)\n",
      "        Return fmod(x, y), according to platform C.\n",
      "        \n",
      "        x % y may differ.\n",
      "    \n",
      "    frexp(x, /)\n",
      "        Return the mantissa and exponent of x, as pair (m, e).\n",
      "        \n",
      "        m is a float and e is an int, such that x = m * 2.**e.\n",
      "        If x is 0, m and e are both 0.  Else 0.5 <= abs(m) < 1.0.\n",
      "    \n",
      "    fsum(seq, /)\n",
      "        Return an accurate floating point sum of values in the iterable seq.\n",
      "        \n",
      "        Assumes IEEE-754 floating point arithmetic.\n",
      "    \n",
      "    gamma(x, /)\n",
      "        Gamma function at x.\n",
      "    \n",
      "    gcd(x, y, /)\n",
      "        greatest common divisor of x and y\n",
      "    \n",
      "    hypot(...)\n",
      "        hypot(*coordinates) -> value\n",
      "        \n",
      "        Multidimensional Euclidean distance from the origin to a point.\n",
      "        \n",
      "        Roughly equivalent to:\n",
      "            sqrt(sum(x**2 for x in coordinates))\n",
      "        \n",
      "        For a two dimensional point (x, y), gives the hypotenuse\n",
      "        using the Pythagorean theorem:  sqrt(x*x + y*y).\n",
      "        \n",
      "        For example, the hypotenuse of a 3/4/5 right triangle is:\n",
      "        \n",
      "            >>> hypot(3.0, 4.0)\n",
      "            5.0\n",
      "    \n",
      "    isclose(a, b, *, rel_tol=1e-09, abs_tol=0.0)\n",
      "        Determine whether two floating point numbers are close in value.\n",
      "        \n",
      "          rel_tol\n",
      "            maximum difference for being considered \"close\", relative to the\n",
      "            magnitude of the input values\n",
      "          abs_tol\n",
      "            maximum difference for being considered \"close\", regardless of the\n",
      "            magnitude of the input values\n",
      "        \n",
      "        Return True if a is close in value to b, and False otherwise.\n",
      "        \n",
      "        For the values to be considered close, the difference between them\n",
      "        must be smaller than at least one of the tolerances.\n",
      "        \n",
      "        -inf, inf and NaN behave similarly to the IEEE 754 Standard.  That\n",
      "        is, NaN is not close to anything, even itself.  inf and -inf are\n",
      "        only close to themselves.\n",
      "    \n",
      "    isfinite(x, /)\n",
      "        Return True if x is neither an infinity nor a NaN, and False otherwise.\n",
      "    \n",
      "    isinf(x, /)\n",
      "        Return True if x is a positive or negative infinity, and False otherwise.\n",
      "    \n",
      "    isnan(x, /)\n",
      "        Return True if x is a NaN (not a number), and False otherwise.\n",
      "    \n",
      "    isqrt(n, /)\n",
      "        Return the integer part of the square root of the input.\n",
      "    \n",
      "    ldexp(x, i, /)\n",
      "        Return x * (2**i).\n",
      "        \n",
      "        This is essentially the inverse of frexp().\n",
      "    \n",
      "    lgamma(x, /)\n",
      "        Natural logarithm of absolute value of Gamma function at x.\n",
      "    \n",
      "    log(...)\n",
      "        log(x, [base=math.e])\n",
      "        Return the logarithm of x to the given base.\n",
      "        \n",
      "        If the base not specified, returns the natural logarithm (base e) of x.\n",
      "    \n",
      "    log10(x, /)\n",
      "        Return the base 10 logarithm of x.\n",
      "    \n",
      "    log1p(x, /)\n",
      "        Return the natural logarithm of 1+x (base e).\n",
      "        \n",
      "        The result is computed in a way which is accurate for x near zero.\n",
      "    \n",
      "    log2(x, /)\n",
      "        Return the base 2 logarithm of x.\n",
      "    \n",
      "    modf(x, /)\n",
      "        Return the fractional and integer parts of x.\n",
      "        \n",
      "        Both results carry the sign of x and are floats.\n",
      "    \n",
      "    perm(n, k=None, /)\n",
      "        Number of ways to choose k items from n items without repetition and with order.\n",
      "        \n",
      "        Evaluates to n! / (n - k)! when k <= n and evaluates\n",
      "        to zero when k > n.\n",
      "        \n",
      "        If k is not specified or is None, then k defaults to n\n",
      "        and the function returns n!.\n",
      "        \n",
      "        Raises TypeError if either of the arguments are not integers.\n",
      "        Raises ValueError if either of the arguments are negative.\n",
      "    \n",
      "    pow(x, y, /)\n",
      "        Return x**y (x to the power of y).\n",
      "    \n",
      "    prod(iterable, /, *, start=1)\n",
      "        Calculate the product of all the elements in the input iterable.\n",
      "        \n",
      "        The default start value for the product is 1.\n",
      "        \n",
      "        When the iterable is empty, return the start value.  This function is\n",
      "        intended specifically for use with numeric values and may reject\n",
      "        non-numeric types.\n",
      "    \n",
      "    radians(x, /)\n",
      "        Convert angle x from degrees to radians.\n",
      "    \n",
      "    remainder(x, y, /)\n",
      "        Difference between x and the closest integer multiple of y.\n",
      "        \n",
      "        Return x - n*y where n*y is the closest integer multiple of y.\n",
      "        In the case where x is exactly halfway between two multiples of\n",
      "        y, the nearest even value of n is used. The result is always exact.\n",
      "    \n",
      "    sin(x, /)\n",
      "        Return the sine of x (measured in radians).\n",
      "    \n",
      "    sinh(x, /)\n",
      "        Return the hyperbolic sine of x.\n",
      "    \n",
      "    sqrt(x, /)\n",
      "        Return the square root of x.\n",
      "    \n",
      "    tan(x, /)\n",
      "        Return the tangent of x (measured in radians).\n",
      "    \n",
      "    tanh(x, /)\n",
      "        Return the hyperbolic tangent of x.\n",
      "    \n",
      "    trunc(x, /)\n",
      "        Truncates the Real x to the nearest Integral toward 0.\n",
      "        \n",
      "        Uses the __trunc__ magic method.\n",
      "\n",
      "DATA\n",
      "    e = 2.718281828459045\n",
      "    inf = inf\n",
      "    nan = nan\n",
      "    pi = 3.141592653589793\n",
      "    tau = 6.283185307179586\n",
      "\n",
      "FILE\n",
      "    (built-in)\n",
      "\n",
      "\n"
     ]
    }
   ],
   "source": [
    "help(math)"
   ]
  },
  {
   "cell_type": "markdown",
   "metadata": {},
   "source": [
    "# Math Methods\n",
    "**Method &emsp;&emsp;&emsp;&emsp;&emsp;&emsp; Description**<br><br>\n",
    "**math.acos()**          ==> Returns the arc cosine of a number<br>\n",
    "**math.acosh()**         ==> Returns the inverse hyperbolic cosine of a number<br>\n",
    "**math.asin()**\t         ==> Returns the arc sine of a number<br>\n",
    "**math.asinh()**         ==> Returns the inverse hyperbolic sine of a number<br>\n",
    "**math.atan()**\t         ==> Returns the arc tangent of a number in radians<br>\n",
    "**math.atan2()**         ==> Returns the arc tangent of y/x in radians<br>\n",
    "**math.atanh()**         ==> Returns the inverse hyperbolic tangent of a number<br>\n",
    "**math.ceil()**\t         ==> Rounds a number up to the nearest integer<br>\n",
    "**math.comb()**\t         ==> Returns the number of ways to choose k items from n items without repetition and order<br>\n",
    "**math.copysign()**\t     ==> Returns a float consisting of the value of the first parameter and the sign of the second parameter<br>\n",
    "**math.cos()**\t         ==> Returns the cosine of a number<br>\n",
    "**math.cosh()**\t         ==> Returns the hyperbolic cosine of a number<br>\n",
    "**math.degrees()**\t     ==> Converts an angle from radians to degrees<br>\n",
    "**math.dist()**\t         ==> Returns the Euclidean distance between two points (p and q), where p and q are the coordinates of that point<br>\n",
    "**math.erf()**\t         ==> Returns the error function of a number<br>\n",
    "**math.erfc()**\t         ==> Returns the complementary error function of a number<br>\n",
    "**math.exp()**\t         ==> Returns E raised to the power of x<br>\n",
    "**math.expm1()**         ==> Returns Ex - 1<br>\n",
    "**math.fabs()**\t         ==> Returns the absolute value of a number<br>\n",
    "**math.factorial()**     ==> Returns the factorial of a number<br>\n",
    "**math.floor()**         ==> Rounds a number down to the nearest integer<br>\n",
    "**math.fmod()**\t         ==> Returns the remainder of x/y<br>\n",
    "**math.frexp()**         ==> Returns the mantissa and the exponent, of a specified number<br>\n",
    "**math.fsum()**\t         ==> Returns the sum of all items in any iterable (tuples, arrays, lists, etc.)<br>\n",
    "**math.gamma()**         ==> Returns the gamma function at x<br>\n",
    "**math.gcd()**           ==> Returns the greatest common divisor of two integers<br>\n",
    "**math.hypot()**         ==> Returns the Euclidean norm<br>\n",
    "**math.isclose()**       ==> Checks whether two values are close to each other, or not<br>\n",
    "**math.isfinite()**      ==> Checks whether a number is finite or not<br>\n",
    "**math.isinf()**         ==> Checks whether a number is infinite or not<br>\n",
    "**math.isnan()**         ==> Checks whether a value is NaN (not a number) or not<br>\n",
    "**math.isqrt()**         ==> Rounds a square root number downwards to the nearest integer<br>\n",
    "**math.ldexp()**         ==> Returns the inverse of math.frexp() which is x * (2******i) of the given numbers x and i<br>\n",
    "**math.lgamma()**        ==> Returns the log gamma value of x<br>\n",
    "**math.log()**           ==> Returns the natural logarithm of a number, or the logarithm of number to base<br>\n",
    "**math.log10()**         ==> Returns the base-10 logarithm of x<br>\n",
    "**math.log1p()**         ==> Returns the natural logarithm of 1+x<br>\n",
    "**math.log2()**          ==> Returns the base-2 logarithm of x<br>\n",
    "**math.perm()**\t         ==> Returns the number of ways to choose k items from n items with order and without repetition<br>\n",
    "**math.pow()**\t         ==> Returns the value of x to the power of y<br>\n",
    "**math.prod()**\t         ==> Returns the product of all the elements in an iterable<br>\n",
    "**math.radians()**\t     ==> Converts a degree value into radians<br>\n",
    "**math.remainder()**     ==> Returns the closest value that can make numerator completely divisible by the denominator<br>\n",
    "**math.sin()**\t         ==> Returns the sine of a number<br>\n",
    "**math.sinh()**\t         ==> Returns the hyperbolic sine of a number<br>\n",
    "**math.sqrt()**\t         ==> Returns the square root of a number<br>\n",
    "**math.tan()**\t         ==> Returns the tangent of a number<br>\n",
    "**math.tanh()**\t         ==> Returns the hyperbolic tangent of a number<br>\n",
    "**math.trunc()**         ==> Returns the truncated integer parts of a number<br>\n",
    "## Math Constants\n",
    "**Constant\t&emsp;&emsp;&emsp;&emsp;&emsp;&emsp;Description**<br><br>\n",
    "**math.e**   ==>\tReturns Euler's number (2.7182...)<br>\n",
    "**math.inf** ==>\tReturns a floating-point positive infinity<br>\n",
    "**math.nan** ==>\tReturns a floating-point NaN (Not a Number) value<br>\n",
    "**math.pi**  ==>\tReturns PI (3.1415...)<br>\n",
    "**math.tau** ==>\tReturns tau (6.2831...)<br>"
   ]
  },
  {
   "cell_type": "code",
   "execution_count": 35,
   "metadata": {},
   "outputs": [
    {
     "name": "stdout",
     "output_type": "stream",
     "text": [
      "Enter the radius of the circle10\n",
      "Area of the circle: 62.83185307179586\n"
     ]
    }
   ],
   "source": [
    "from math import *\n",
    "r=int(input(\"Enter the radius of the circle\"))\n",
    "area=pi*r*2\n",
    "print('Area of the circle:',area)"
   ]
  },
  {
   "cell_type": "code",
   "execution_count": 36,
   "metadata": {},
   "outputs": [
    {
     "name": "stdout",
     "output_type": "stream",
     "text": [
      "12\n"
     ]
    }
   ],
   "source": [
    "print(floor(fabs(-12.435)))"
   ]
  },
  {
   "cell_type": "markdown",
   "metadata": {},
   "source": [
    "# Working with Random Module"
   ]
  },
  {
   "cell_type": "markdown",
   "metadata": {},
   "source": [
    " - This module defines several functions to generate random numbers.\n",
    " - We can use these functions while developing games,in cryptography and to generate random numbers on fly for authentication."
   ]
  },
  {
   "cell_type": "markdown",
   "metadata": {},
   "source": [
    "1) **random()**: This function always generate some float value between 0 and 1 ( not inclusive) i.e. 0<x<1"
   ]
  },
  {
   "cell_type": "code",
   "execution_count": 37,
   "metadata": {},
   "outputs": [
    {
     "name": "stdout",
     "output_type": "stream",
     "text": [
      "0.7400227875101578\n"
     ]
    }
   ],
   "source": [
    "from random import *\n",
    "print(random())"
   ]
  },
  {
   "cell_type": "code",
   "execution_count": 38,
   "metadata": {},
   "outputs": [
    {
     "name": "stdout",
     "output_type": "stream",
     "text": [
      "0.9657306569431703\n",
      "0.10525292018500565\n",
      "0.3353278941019253\n",
      "0.9270217558385836\n",
      "0.29250635400960123\n",
      "0.3695219315257594\n",
      "0.16492480562576062\n",
      "0.6527394139529862\n",
      "0.783524600065973\n",
      "0.36888533324177497\n"
     ]
    }
   ],
   "source": [
    "for i in range(10): # this will print 10 random numbers\n",
    "    print(random())"
   ]
  },
  {
   "cell_type": "markdown",
   "metadata": {},
   "source": [
    "2) **uniform(begin,end)**: It returns random float values between 2 given numbers (not inclusive) i.e. **begin < x < end**"
   ]
  },
  {
   "cell_type": "code",
   "execution_count": 39,
   "metadata": {},
   "outputs": [
    {
     "name": "stdout",
     "output_type": "stream",
     "text": [
      "3.004589260443273\n"
     ]
    }
   ],
   "source": [
    "print(uniform(2,4)) # Here we can customize boundary not just limited to 0-1 like random()"
   ]
  },
  {
   "cell_type": "code",
   "execution_count": 40,
   "metadata": {},
   "outputs": [
    {
     "name": "stdout",
     "output_type": "stream",
     "text": [
      "3.8205952441192226\n",
      "3.076069086598951\n",
      "2.292797744056653\n",
      "3.841017131713952\n",
      "3.4310203194826814\n",
      "2.971849960947914\n",
      "3.2177001439630977\n",
      "3.8564898919089576\n",
      "2.156192453429683\n",
      "3.3026498862493865\n"
     ]
    }
   ],
   "source": [
    "for i in range(10):\n",
    "    print(uniform(2,4))"
   ]
  },
  {
   "cell_type": "markdown",
   "metadata": {},
   "source": [
    "**randint(begin,end)**: This function is used to generate random integer value between two given numbers(inclusive)."
   ]
  },
  {
   "cell_type": "code",
   "execution_count": 41,
   "metadata": {},
   "outputs": [
    {
     "name": "stdout",
     "output_type": "stream",
     "text": [
      "5\n"
     ]
    }
   ],
   "source": [
    "print(randint(1,10))"
   ]
  },
  {
   "cell_type": "code",
   "execution_count": 42,
   "metadata": {},
   "outputs": [
    {
     "name": "stdout",
     "output_type": "stream",
     "text": [
      "19\n",
      "14\n",
      "12\n",
      "14\n",
      "15\n",
      "15\n",
      "11\n",
      "12\n",
      "10\n",
      "13\n"
     ]
    }
   ],
   "source": [
    "for i in range(10):\n",
    "    print(randint(10,20))"
   ]
  },
  {
   "cell_type": "markdown",
   "metadata": {},
   "source": [
    "3) **randrange ([start], end, [step])**<br>\n",
    " - Returns a random number from range<br>\n",
    " - start <= x < end-1<br>\n",
    " - start argument is optional and default value is 0<br>\n",
    " - step argument is optional and default value is 1<br>\n",
    " - end is mandatory\n",
    " - randrange(10) ==> generates a number from 0 to 9<br>\n",
    " - randrange(1,11) ==> generates a number from 1 to 10<br>\n",
    " - randrange(1,11,2) ==> generates a number from 1,3,5,7,9<br>"
   ]
  },
  {
   "cell_type": "code",
   "execution_count": 43,
   "metadata": {},
   "outputs": [
    {
     "name": "stdout",
     "output_type": "stream",
     "text": [
      "4\n"
     ]
    }
   ],
   "source": [
    "print(randrange(1,5,1))"
   ]
  },
  {
   "cell_type": "code",
   "execution_count": 44,
   "metadata": {},
   "outputs": [
    {
     "name": "stdout",
     "output_type": "stream",
     "text": [
      "1\n"
     ]
    }
   ],
   "source": [
    "print(randrange(1,11,3))"
   ]
  },
  {
   "cell_type": "code",
   "execution_count": 45,
   "metadata": {},
   "outputs": [
    {
     "name": "stdout",
     "output_type": "stream",
     "text": [
      "70\n",
      "20\n",
      "70\n",
      "70\n",
      "0\n",
      "50\n",
      "80\n",
      "40\n",
      "90\n",
      "80\n"
     ]
    }
   ],
   "source": [
    "for i in range(10):\n",
    "    print(randrange(0,101,10))"
   ]
  },
  {
   "cell_type": "markdown",
   "metadata": {},
   "source": [
    "Both **randint()** and **randrange()** are meant for generating random **integer** values."
   ]
  },
  {
   "cell_type": "markdown",
   "metadata": {},
   "source": [
    "4) **choice(sequence)**:<br>\n",
    " - It won’t return random number.\n",
    " - It will return a random object from the given list or tuple or string. \n",
    " - set and dictionary are non indexable so this function not applicable to set and dict. "
   ]
  },
  {
   "cell_type": "code",
   "execution_count": 46,
   "metadata": {},
   "outputs": [
    {
     "name": "stdout",
     "output_type": "stream",
     "text": [
      "Chinny\n",
      "Sunny\n",
      "Vinny\n",
      "Chinny\n",
      "Bunny\n",
      "Bunny\n",
      "Vinny\n",
      "Bunny\n",
      "Vinny\n",
      "Bunny\n"
     ]
    }
   ],
   "source": [
    "from random import *\n",
    "list=[\"Sunny\",\"Bunny\",\"Chinny\",\"Vinny\",\"pinny\"]\n",
    "for i in range(10):\n",
    "    print(choice(list))"
   ]
  },
  {
   "cell_type": "code",
   "execution_count": 47,
   "metadata": {},
   "outputs": [
    {
     "ename": "TypeError",
     "evalue": "'set' object is not subscriptable",
     "output_type": "error",
     "traceback": [
      "\u001b[1;31m---------------------------------------------------------------------------\u001b[0m",
      "\u001b[1;31mTypeError\u001b[0m                                 Traceback (most recent call last)",
      "\u001b[1;32m<ipython-input-47-b1074baa613e>\u001b[0m in \u001b[0;36m<module>\u001b[1;34m\u001b[0m\n\u001b[0;32m      1\u001b[0m \u001b[0mlist\u001b[0m\u001b[1;33m=\u001b[0m\u001b[1;33m{\u001b[0m\u001b[1;34m\"Sunny\"\u001b[0m\u001b[1;33m,\u001b[0m\u001b[1;34m\"Bunny\"\u001b[0m\u001b[1;33m,\u001b[0m\u001b[1;34m\"Chinny\"\u001b[0m\u001b[1;33m,\u001b[0m\u001b[1;34m\"Vinny\"\u001b[0m\u001b[1;33m,\u001b[0m\u001b[1;34m\"pinny\"\u001b[0m\u001b[1;33m}\u001b[0m \u001b[1;31m# set\u001b[0m\u001b[1;33m\u001b[0m\u001b[1;33m\u001b[0m\u001b[0m\n\u001b[0;32m      2\u001b[0m \u001b[1;32mfor\u001b[0m \u001b[0mi\u001b[0m \u001b[1;32min\u001b[0m \u001b[0mrange\u001b[0m\u001b[1;33m(\u001b[0m\u001b[1;36m10\u001b[0m\u001b[1;33m)\u001b[0m\u001b[1;33m:\u001b[0m\u001b[1;33m\u001b[0m\u001b[1;33m\u001b[0m\u001b[0m\n\u001b[1;32m----> 3\u001b[1;33m     \u001b[0mprint\u001b[0m\u001b[1;33m(\u001b[0m\u001b[0mchoice\u001b[0m\u001b[1;33m(\u001b[0m\u001b[0mlist\u001b[0m\u001b[1;33m)\u001b[0m\u001b[1;33m)\u001b[0m\u001b[1;33m\u001b[0m\u001b[1;33m\u001b[0m\u001b[0m\n\u001b[0m",
      "\u001b[1;32m~\\anaconda3\\lib\\random.py\u001b[0m in \u001b[0;36mchoice\u001b[1;34m(self, seq)\u001b[0m\n\u001b[0;32m    289\u001b[0m         \u001b[1;32mexcept\u001b[0m \u001b[0mValueError\u001b[0m\u001b[1;33m:\u001b[0m\u001b[1;33m\u001b[0m\u001b[1;33m\u001b[0m\u001b[0m\n\u001b[0;32m    290\u001b[0m             \u001b[1;32mraise\u001b[0m \u001b[0mIndexError\u001b[0m\u001b[1;33m(\u001b[0m\u001b[1;34m'Cannot choose from an empty sequence'\u001b[0m\u001b[1;33m)\u001b[0m \u001b[1;32mfrom\u001b[0m \u001b[1;32mNone\u001b[0m\u001b[1;33m\u001b[0m\u001b[1;33m\u001b[0m\u001b[0m\n\u001b[1;32m--> 291\u001b[1;33m         \u001b[1;32mreturn\u001b[0m \u001b[0mseq\u001b[0m\u001b[1;33m[\u001b[0m\u001b[0mi\u001b[0m\u001b[1;33m]\u001b[0m\u001b[1;33m\u001b[0m\u001b[1;33m\u001b[0m\u001b[0m\n\u001b[0m\u001b[0;32m    292\u001b[0m \u001b[1;33m\u001b[0m\u001b[0m\n\u001b[0;32m    293\u001b[0m     \u001b[1;32mdef\u001b[0m \u001b[0mshuffle\u001b[0m\u001b[1;33m(\u001b[0m\u001b[0mself\u001b[0m\u001b[1;33m,\u001b[0m \u001b[0mx\u001b[0m\u001b[1;33m,\u001b[0m \u001b[0mrandom\u001b[0m\u001b[1;33m=\u001b[0m\u001b[1;32mNone\u001b[0m\u001b[1;33m)\u001b[0m\u001b[1;33m:\u001b[0m\u001b[1;33m\u001b[0m\u001b[1;33m\u001b[0m\u001b[0m\n",
      "\u001b[1;31mTypeError\u001b[0m: 'set' object is not subscriptable"
     ]
    }
   ],
   "source": [
    "list={\"Sunny\",\"Bunny\",\"Chinny\",\"Vinny\",\"pinny\"} # set\n",
    "for i in range(10):\n",
    "    print(choice(list))"
   ]
  },
  {
   "cell_type": "code",
   "execution_count": 48,
   "metadata": {},
   "outputs": [
    {
     "name": "stdout",
     "output_type": "stream",
     "text": [
      "Sunny\n",
      "Chinny\n",
      "Sunny\n",
      "Chinny\n",
      "pinny\n",
      "Chinny\n",
      "Sunny\n",
      "Chinny\n",
      "pinny\n",
      "Chinny\n"
     ]
    }
   ],
   "source": [
    "from random import *\n",
    "list=(\"Sunny\",\"Bunny\",\"Chinny\",\"Vinny\",\"pinny\") # tuple\n",
    "for i in range(10):\n",
    "    print(choice(list))"
   ]
  },
  {
   "cell_type": "code",
   "execution_count": 49,
   "metadata": {},
   "outputs": [
    {
     "name": "stdout",
     "output_type": "stream",
     "text": [
      "m\n",
      "b\n",
      "n\n",
      "b\n",
      "c\n"
     ]
    }
   ],
   "source": [
    "alphabets='abcdefghijklmnopqrstuvwxyz'\n",
    "for i in range(5):\n",
    "    print(choice(alphabets))"
   ]
  },
  {
   "cell_type": "code",
   "execution_count": 50,
   "metadata": {},
   "outputs": [
    {
     "name": "stdout",
     "output_type": "stream",
     "text": [
      "5\n"
     ]
    }
   ],
   "source": [
    "digits='0123456789'\n",
    "print(choice(digits))"
   ]
  },
  {
   "cell_type": "markdown",
   "metadata": {},
   "source": [
    "**write a program to generate 6 digit random number which can be used as an OTP**"
   ]
  },
  {
   "cell_type": "code",
   "execution_count": 51,
   "metadata": {},
   "outputs": [
    {
     "name": "stdout",
     "output_type": "stream",
     "text": [
      "534855\n",
      "138695\n",
      "234294\n",
      "573727\n",
      "479949\n",
      "402240\n",
      "997637\n",
      "831100\n",
      "903497\n",
      "642535\n"
     ]
    }
   ],
   "source": [
    "from random import *\n",
    "for i in range(10):\n",
    "    print(randint(0,9),randint(0,9),randint(0,9),randint(0,9),randint(0,9),randint(0,9),sep='')\n"
   ]
  },
  {
   "cell_type": "code",
   "execution_count": 52,
   "metadata": {},
   "outputs": [
    {
     "name": "stdout",
     "output_type": "stream",
     "text": [
      "012956\n"
     ]
    }
   ],
   "source": [
    "from random import *\n",
    "otp=''\n",
    "for i in range(6):\n",
    "    otp=otp+str(randint(0,9))\n",
    "print(otp)    "
   ]
  },
  {
   "cell_type": "markdown",
   "metadata": {},
   "source": [
    "**write a progra to generate a random password of lenght 6 where 1,3,5 characters are alphabet symbols and 2,4,6 are digits?**"
   ]
  },
  {
   "cell_type": "code",
   "execution_count": 53,
   "metadata": {},
   "outputs": [
    {
     "name": "stdout",
     "output_type": "stream",
     "text": [
      "h1t8l4\n",
      "t3q4u2\n",
      "r2u9e4\n",
      "t3o5q2\n",
      "b4b5k5\n",
      "o1g8z5\n",
      "r9w0u7\n",
      "l2y9i2\n",
      "j4x7t8\n",
      "u6r8p8\n"
     ]
    }
   ],
   "source": [
    "from random import *\n",
    "alphabets='abcdefghijklmnopqrstuvwxyz'\n",
    "digits='0123456789'\n",
    "for i in range(10):\n",
    "    print(choice(alphabets),choice(digits),choice(alphabets),choice(digits),choice(alphabets),choice(digits),sep='')"
   ]
  },
  {
   "cell_type": "markdown",
   "metadata": {},
   "source": [
    "**Write a program to generate Fake Employee Data for Database Testing**<br>\n",
    "1) Employee Name<br>\n",
    "2) Employee Number<br>\n",
    "3) Employee Salary<br>\n",
    "4) Employee City<br>\n",
    "5) Employee Mobile Number<br>\n",
    "6) Designation"
   ]
  },
  {
   "cell_type": "code",
   "execution_count": null,
   "metadata": {},
   "outputs": [],
   "source": []
  },
  {
   "cell_type": "code",
   "execution_count": null,
   "metadata": {},
   "outputs": [],
   "source": []
  }
 ],
 "metadata": {
  "kernelspec": {
   "display_name": "Python 3",
   "language": "python",
   "name": "python3"
  },
  "language_info": {
   "codemirror_mode": {
    "name": "ipython",
    "version": 3
   },
   "file_extension": ".py",
   "mimetype": "text/x-python",
   "name": "python",
   "nbconvert_exporter": "python",
   "pygments_lexer": "ipython3",
   "version": "3.8.3"
  }
 },
 "nbformat": 4,
 "nbformat_minor": 4
}
