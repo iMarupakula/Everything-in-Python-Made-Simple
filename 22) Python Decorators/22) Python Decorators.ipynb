{
 "cells": [
  {
   "cell_type": "markdown",
   "metadata": {},
   "source": [
    "## Revising Functions\n",
    "\n",
    "### Function Aliasing\n",
    "\n",
    "- In Python everything is an object.<br>\n",
    "- Even Function is also internally considered as an object only.<br>\n",
    "- For the existing function, we can give another name, which is nothing but function aliasing.<br>\n",
    "- If we delete one name, still we can access that functionality by using alias name."
   ]
  },
  {
   "cell_type": "code",
   "execution_count": 4,
   "metadata": {},
   "outputs": [
    {
     "name": "stdout",
     "output_type": "stream",
     "text": [
      "Good Morning: Sairam\n",
      "Good Morning: Sairam\n",
      "2684306950032\n",
      "2684306950032\n",
      "Good Morning: Sairam\n"
     ]
    },
    {
     "ename": "NameError",
     "evalue": "name 'wish' is not defined",
     "output_type": "error",
     "traceback": [
      "\u001b[1;31m---------------------------------------------------------------------------\u001b[0m",
      "\u001b[1;31mNameError\u001b[0m                                 Traceback (most recent call last)",
      "\u001b[1;32m<ipython-input-4-597f237a55cf>\u001b[0m in \u001b[0;36m<module>\u001b[1;34m\u001b[0m\n\u001b[0;32m     11\u001b[0m \u001b[1;32mdel\u001b[0m \u001b[0mwish\u001b[0m\u001b[1;33m\u001b[0m\u001b[1;33m\u001b[0m\u001b[0m\n\u001b[0;32m     12\u001b[0m \u001b[0mgreeting\u001b[0m\u001b[1;33m(\u001b[0m\u001b[1;34m\"Sairam\"\u001b[0m\u001b[1;33m)\u001b[0m\u001b[1;33m\u001b[0m\u001b[1;33m\u001b[0m\u001b[0m\n\u001b[1;32m---> 13\u001b[1;33m \u001b[0mwish\u001b[0m\u001b[1;33m(\u001b[0m\u001b[1;34m'Sairam'\u001b[0m\u001b[1;33m)\u001b[0m\u001b[1;33m\u001b[0m\u001b[1;33m\u001b[0m\u001b[0m\n\u001b[0m",
      "\u001b[1;31mNameError\u001b[0m: name 'wish' is not defined"
     ]
    }
   ],
   "source": [
    "def wish(name):\n",
    "    print(\"Good Morning:\",name)\n",
    "    \n",
    "greeting = wish # Aliasing\n",
    "wish(\"Sairam\")\n",
    "greeting(\"Sairam\")\n",
    "\n",
    "print(id(wish)) # Pointing to same object id\n",
    "print(id(greeting)) # Pointing to same object id\n",
    "\n",
    "del wish\n",
    "greeting(\"Sairam\") # as it is aliased previosuly, even if we deleted wish this will be poining to same object.\n",
    "wish('Sairam') # This is deleted"
   ]
  },
  {
   "cell_type": "markdown",
   "metadata": {},
   "source": [
    "### Nested Functions"
   ]
  },
  {
   "cell_type": "code",
   "execution_count": 6,
   "metadata": {},
   "outputs": [
    {
     "name": "stdout",
     "output_type": "stream",
     "text": [
      "Outer fuction execution started\n",
      "Inner Function Execution\n",
      "Outer function execution completed\n"
     ]
    }
   ],
   "source": [
    "def outer():\n",
    "    print('Outer fuction execution started')\n",
    "    \n",
    "    def inner():\n",
    "        print(\"Inner Function Execution\")\n",
    "        \n",
    "    inner()\n",
    "    print(\"Outer function execution completed\")\n",
    "    \n",
    "outer()"
   ]
  },
  {
   "cell_type": "code",
   "execution_count": 7,
   "metadata": {},
   "outputs": [
    {
     "name": "stdout",
     "output_type": "stream",
     "text": [
      "Outer fuction execution started\n",
      "Outer function execution completed\n"
     ]
    }
   ],
   "source": [
    "def outer():\n",
    "    print('Outer fuction execution started')\n",
    "    \n",
    "    def inner():\n",
    "        print(\"Inner Function Execution\")\n",
    "        \n",
    "    print(\"Outer function execution completed\")\n",
    "    \n",
    "outer()"
   ]
  },
  {
   "cell_type": "markdown",
   "metadata": {},
   "source": [
    "inner() function is local to outer() function, it cannot be called directly outside the outer() function."
   ]
  },
  {
   "cell_type": "markdown",
   "metadata": {},
   "source": [
    "### Function as Return Value"
   ]
  },
  {
   "cell_type": "code",
   "execution_count": 10,
   "metadata": {},
   "outputs": [
    {
     "name": "stdout",
     "output_type": "stream",
     "text": [
      "Inner function Execution\n"
     ]
    }
   ],
   "source": [
    "def outer():\n",
    "    def inner():\n",
    "        print(\"Inner function Execution\")\n",
    "    return inner\n",
    "\n",
    "f1 = outer() # Outer function will be executed and returns inner function onject. for that inner function object we are using f1 to refer.\n",
    "f1()"
   ]
  },
  {
   "cell_type": "markdown",
   "metadata": {},
   "source": [
    "**f1 = outer**====> This is used for Function Aliasing<br><br>\n",
    "**f1 = outer()**<br><br>\n",
    "outer() function will be executed.<br>\n",
    "outer() function return inner function object. we are assigning to that retuened function by f1<br><br>\n",
    "\n",
    "### Function as an argument to another function"
   ]
  },
  {
   "cell_type": "code",
   "execution_count": 11,
   "metadata": {},
   "outputs": [
    {
     "name": "stdout",
     "output_type": "stream",
     "text": [
      "f2 function\n"
     ]
    }
   ],
   "source": [
    "def f1(func):\n",
    "    func()\n",
    "    \n",
    "def f2():\n",
    "    print(\"f2 function\")\n",
    "    \n",
    "f1(f2)"
   ]
  },
  {
   "cell_type": "code",
   "execution_count": 12,
   "metadata": {},
   "outputs": [
    {
     "name": "stdout",
     "output_type": "stream",
     "text": [
      "[2, 4, 6, 8, 10]\n"
     ]
    }
   ],
   "source": [
    "list1=[1,2,3,4,5,6,7,8,9,10]\n",
    "\n",
    "def is_even(n):\n",
    "    if n%2 == 0:\n",
    "        return True\n",
    "    else:\n",
    "        return False\n",
    "    \n",
    "list2 = list(filter(is_even,list1))\n",
    "print(list2)"
   ]
  },
  {
   "cell_type": "markdown",
   "metadata": {},
   "source": [
    "# Decorators\n",
    "\n",
    "### What is Decorator Function?\n",
    "\n",
    "Decorator is a function which can take a function as argument and extend its functionality and returns modified function with extended functionality.<br><br>\n",
    "<img src=\"Supportive_Files/deco1.png\">\n",
    "\n",
    "The main objective of decorator functions is we can extend the functionality of existing functions without modifies that function.<br><br>\n"
   ]
  },
  {
   "cell_type": "markdown",
   "metadata": {},
   "source": [
    "```Python\n",
    "# decoratorfunction always take input_function as an argument.\n",
    "def decorator_function(input_function): \n",
    "    def output_function():\n",
    "        Add extra power or functionality\n",
    "        ----------\n",
    "        ----------\n",
    "    return output_function\n",
    "```"
   ]
  },
  {
   "cell_type": "code",
   "execution_count": 14,
   "metadata": {},
   "outputs": [
    {
     "name": "stdout",
     "output_type": "stream",
     "text": [
      "Send the person to Beaty Palour\n",
      "Showing a Person with full of decoration\n"
     ]
    }
   ],
   "source": [
    "def decor(func):\n",
    "    def inner():\n",
    "        print(\"Send the person to Beaty Palour\")\n",
    "        print(\"Showing a Person with full of decoration\")\n",
    "    return inner\n",
    "\n",
    "@decor # Associating or Linking display function with decor function. \n",
    "def display():\n",
    "    print(\"Showing a Person as it is\")\n",
    "    \n",
    "display()\n"
   ]
  },
  {
   "cell_type": "markdown",
   "metadata": {},
   "source": [
    "Whenever we are calling a display() function, PVM will check whether there is any decorator configured for this display function.<br><br> If decorator configured, then it will pass the display function as the argument to the decor() function. Now the inner() function will be executed instead of the original display() function.<br><br>\n",
    "\n",
    "If decorator is not given, display() will excute its original content \"Showing a Person as it is\"."
   ]
  },
  {
   "cell_type": "code",
   "execution_count": 15,
   "metadata": {},
   "outputs": [
    {
     "name": "stdout",
     "output_type": "stream",
     "text": [
      "30\n"
     ]
    }
   ],
   "source": [
    "# Example\n",
    "def add(a,b):\n",
    "    print(a+b)\n",
    "    \n",
    "add(10,20) # We will simply get answer as 30."
   ]
  },
  {
   "cell_type": "code",
   "execution_count": 16,
   "metadata": {},
   "outputs": [
    {
     "name": "stdout",
     "output_type": "stream",
     "text": [
      "##############################\n",
      "The Sum: 30\n",
      "##############################\n"
     ]
    }
   ],
   "source": [
    "def decor_for_add(func):\n",
    "    def inner(a,b):\n",
    "        print(\"#\"*30)\n",
    "        print(\"The Sum: \",end='')\n",
    "        func(a,b)\n",
    "        print('#'*30)\n",
    "    return inner\n",
    "\n",
    "@decor_for_add        \n",
    "def add(a,b):\n",
    "    print(a+b)\n",
    "    \n",
    "\n",
    "add(10,20)"
   ]
  },
  {
   "cell_type": "markdown",
   "metadata": {},
   "source": [
    "**Note:** Decorator Function should be first declared then the original function. So that when the execution comes to decorator line, decorator function will be ready. If we do vice versa, It will raise an error saying decorator is not defined as below."
   ]
  },
  {
   "cell_type": "code",
   "execution_count": 1,
   "metadata": {},
   "outputs": [
    {
     "ename": "NameError",
     "evalue": "name 'decor_for_add' is not defined",
     "output_type": "error",
     "traceback": [
      "\u001b[1;31m---------------------------------------------------------------------------\u001b[0m",
      "\u001b[1;31mNameError\u001b[0m                                 Traceback (most recent call last)",
      "\u001b[1;32m<ipython-input-1-fe59e2e851fb>\u001b[0m in \u001b[0;36m<module>\u001b[1;34m\u001b[0m\n\u001b[1;32m----> 1\u001b[1;33m \u001b[1;33m@\u001b[0m\u001b[0mdecor_for_add\u001b[0m\u001b[1;33m\u001b[0m\u001b[1;33m\u001b[0m\u001b[0m\n\u001b[0m\u001b[0;32m      2\u001b[0m \u001b[1;32mdef\u001b[0m \u001b[0madd\u001b[0m\u001b[1;33m(\u001b[0m\u001b[0ma\u001b[0m\u001b[1;33m,\u001b[0m\u001b[0mb\u001b[0m\u001b[1;33m)\u001b[0m\u001b[1;33m:\u001b[0m\u001b[1;33m\u001b[0m\u001b[1;33m\u001b[0m\u001b[0m\n\u001b[0;32m      3\u001b[0m     \u001b[0mprint\u001b[0m\u001b[1;33m(\u001b[0m\u001b[0ma\u001b[0m\u001b[1;33m+\u001b[0m\u001b[0mb\u001b[0m\u001b[1;33m)\u001b[0m\u001b[1;33m\u001b[0m\u001b[1;33m\u001b[0m\u001b[0m\n\u001b[0;32m      4\u001b[0m \u001b[1;33m\u001b[0m\u001b[0m\n\u001b[0;32m      5\u001b[0m \u001b[1;32mdef\u001b[0m \u001b[0mdecor_for_add\u001b[0m\u001b[1;33m(\u001b[0m\u001b[0mfunc\u001b[0m\u001b[1;33m)\u001b[0m\u001b[1;33m:\u001b[0m\u001b[1;33m\u001b[0m\u001b[1;33m\u001b[0m\u001b[0m\n",
      "\u001b[1;31mNameError\u001b[0m: name 'decor_for_add' is not defined"
     ]
    }
   ],
   "source": [
    "@decor_for_add # Decorator        \n",
    "def add(a,b): # Original Function\n",
    "    print(a+b)\n",
    "    \n",
    "def decor_for_add(func): # Decorator Function\n",
    "    def inner(a,b):\n",
    "        print(\"#\"*30)\n",
    "        print(\"The Sum: \",end='')\n",
    "        func(a,b)\n",
    "        print('#'*30)\n",
    "    return inner\n",
    "\n",
    "add(10,20)"
   ]
  },
  {
   "cell_type": "code",
   "execution_count": 2,
   "metadata": {},
   "outputs": [
    {
     "name": "stdout",
     "output_type": "stream",
     "text": [
      "Good Morning: Sairam\n"
     ]
    }
   ],
   "source": [
    "# Example 3\n",
    "def wish(name):\n",
    "    print(\"Good Morning:\",name)\n",
    "    \n",
    "wish(\"Sairam\")"
   ]
  },
  {
   "cell_type": "code",
   "execution_count": 5,
   "metadata": {},
   "outputs": [
    {
     "name": "stdout",
     "output_type": "stream",
     "text": [
      "Good Morning: Sairam\n",
      "##################################################\n",
      "Hello Sunny you are very important for us\n",
      "Very Very Good Morning\n",
      "##################################################\n",
      "Good Morning: Munny\n"
     ]
    }
   ],
   "source": [
    "def decor(func):\n",
    "    def inner(name):\n",
    "        if name=='Sunny':\n",
    "            print(\"#\"*50)\n",
    "            print(\"Hello Sunny you are very important for us\")\n",
    "            print(\"Very Very Good Morning\")\n",
    "            print(\"#\"*50)\n",
    "        else:\n",
    "            func(name)\n",
    "    return inner\n",
    "\n",
    "@decor\n",
    "def wish(name):\n",
    "    print(\"Good Morning:\",name)\n",
    "    \n",
    "wish(\"Sairam\")\n",
    "wish(\"Sunny\")\n",
    "wish(\"Munny\")"
   ]
  },
  {
   "cell_type": "code",
   "execution_count": 6,
   "metadata": {},
   "outputs": [
    {
     "name": "stdout",
     "output_type": "stream",
     "text": [
      "5.0\n"
     ]
    },
    {
     "ename": "ZeroDivisionError",
     "evalue": "division by zero",
     "output_type": "error",
     "traceback": [
      "\u001b[1;31m---------------------------------------------------------------------------\u001b[0m",
      "\u001b[1;31mZeroDivisionError\u001b[0m                         Traceback (most recent call last)",
      "\u001b[1;32m<ipython-input-6-671c989d098e>\u001b[0m in \u001b[0;36m<module>\u001b[1;34m\u001b[0m\n\u001b[0;32m      4\u001b[0m \u001b[1;33m\u001b[0m\u001b[0m\n\u001b[0;32m      5\u001b[0m \u001b[0mdivision\u001b[0m\u001b[1;33m(\u001b[0m\u001b[1;36m10\u001b[0m\u001b[1;33m,\u001b[0m\u001b[1;36m2\u001b[0m\u001b[1;33m)\u001b[0m \u001b[1;31m# 5.0\u001b[0m\u001b[1;33m\u001b[0m\u001b[1;33m\u001b[0m\u001b[0m\n\u001b[1;32m----> 6\u001b[1;33m \u001b[0mdivision\u001b[0m\u001b[1;33m(\u001b[0m\u001b[1;36m10\u001b[0m\u001b[1;33m,\u001b[0m\u001b[1;36m0\u001b[0m\u001b[1;33m)\u001b[0m \u001b[1;31m# It will raise Zero Division Error\u001b[0m\u001b[1;33m\u001b[0m\u001b[1;33m\u001b[0m\u001b[0m\n\u001b[0m",
      "\u001b[1;32m<ipython-input-6-671c989d098e>\u001b[0m in \u001b[0;36mdivision\u001b[1;34m(a, b)\u001b[0m\n\u001b[0;32m      1\u001b[0m \u001b[1;31m# Example 4\u001b[0m\u001b[1;33m\u001b[0m\u001b[1;33m\u001b[0m\u001b[1;33m\u001b[0m\u001b[0m\n\u001b[0;32m      2\u001b[0m \u001b[1;32mdef\u001b[0m \u001b[0mdivision\u001b[0m\u001b[1;33m(\u001b[0m\u001b[0ma\u001b[0m\u001b[1;33m,\u001b[0m\u001b[0mb\u001b[0m\u001b[1;33m)\u001b[0m\u001b[1;33m:\u001b[0m\u001b[1;33m\u001b[0m\u001b[1;33m\u001b[0m\u001b[0m\n\u001b[1;32m----> 3\u001b[1;33m     \u001b[0mprint\u001b[0m\u001b[1;33m(\u001b[0m\u001b[0ma\u001b[0m\u001b[1;33m/\u001b[0m\u001b[0mb\u001b[0m\u001b[1;33m)\u001b[0m\u001b[1;33m\u001b[0m\u001b[1;33m\u001b[0m\u001b[0m\n\u001b[0m\u001b[0;32m      4\u001b[0m \u001b[1;33m\u001b[0m\u001b[0m\n\u001b[0;32m      5\u001b[0m \u001b[0mdivision\u001b[0m\u001b[1;33m(\u001b[0m\u001b[1;36m10\u001b[0m\u001b[1;33m,\u001b[0m\u001b[1;36m2\u001b[0m\u001b[1;33m)\u001b[0m \u001b[1;31m# 5.0\u001b[0m\u001b[1;33m\u001b[0m\u001b[1;33m\u001b[0m\u001b[0m\n",
      "\u001b[1;31mZeroDivisionError\u001b[0m: division by zero"
     ]
    }
   ],
   "source": [
    "# Example 4\n",
    "def division(a,b):\n",
    "    print(a/b)\n",
    "    \n",
    "division(10,2) # 5.0\n",
    "division(10,0) # It will raise Zero Division Error"
   ]
  },
  {
   "cell_type": "code",
   "execution_count": 8,
   "metadata": {},
   "outputs": [
    {
     "name": "stdout",
     "output_type": "stream",
     "text": [
      "5.0\n",
      "Hello Boss, How can we divide with Zero!!\n"
     ]
    }
   ],
   "source": [
    "# Now i want to extend the functionality such that if a zero division error ocuurs,we should display a message.\n",
    "\n",
    "def smart_division(func):\n",
    "    def inner(a,b):\n",
    "        if b==0:\n",
    "            print(\"Hello Boss, How can we divide with Zero!!\")\n",
    "        else:\n",
    "            func(a,b)\n",
    "    return inner\n",
    "\n",
    "            \n",
    "@smart_division\n",
    "def division(a,b):\n",
    "    print(a/b)\n",
    "    \n",
    "division(10,2) # 5.0\n",
    "division(10,0) # Instead of Zero Division Error, it will print the message"
   ]
  },
  {
   "cell_type": "markdown",
   "metadata": {},
   "source": [
    "#### Important Conclusion:\n",
    "\n",
    "1) Decorator function should be defined first and then use.<br><br>\n",
    "2) While defining decorator, the number of arguments must be matched.\n",
    "\n",
    "<br>\n",
    "\n",
    "### How to call same function with and without decorator. "
   ]
  },
  {
   "cell_type": "code",
   "execution_count": 9,
   "metadata": {},
   "outputs": [
    {
     "name": "stdout",
     "output_type": "stream",
     "text": [
      "Good Morning: Sairam\n",
      "##################################################\n",
      "Hello Sunny you are very important for us\n",
      "Very Very Good Morning\n",
      "##################################################\n",
      "Good Morning: Munny\n"
     ]
    }
   ],
   "source": [
    "# With Decorator\n",
    "\n",
    "def decor(func):\n",
    "    def inner(name):\n",
    "        if name=='Sunny':\n",
    "            print(\"#\"*50)\n",
    "            print(\"Hello Sunny you are very important for us\")\n",
    "            print(\"Very Very Good Morning\")\n",
    "            print(\"#\"*50)\n",
    "        else:\n",
    "            func(name)\n",
    "    return inner\n",
    "\n",
    "@decor\n",
    "def wish(name):\n",
    "    print(\"Good Morning:\",name)\n",
    "    \n",
    "wish(\"Sairam\")\n",
    "wish(\"Sunny\")\n",
    "wish(\"Munny\")"
   ]
  },
  {
   "cell_type": "code",
   "execution_count": 11,
   "metadata": {},
   "outputs": [
    {
     "name": "stdout",
     "output_type": "stream",
     "text": [
      "Good Morning: Sunny\n",
      "Good Morning: Sairam\n",
      "##################################################\n",
      "Hello Sunny you are very important for us\n",
      "Very Very Good Morning\n",
      "##################################################\n",
      "Good Morning: Sairam\n"
     ]
    }
   ],
   "source": [
    "# Without Decorator\n",
    "\n",
    "def decor(func):\n",
    "    def inner(name):\n",
    "        if name=='Sunny':\n",
    "            print(\"#\"*50)\n",
    "            print(\"Hello Sunny you are very important for us\")\n",
    "            print(\"Very Very Good Morning\")\n",
    "            print(\"#\"*50)\n",
    "        else:\n",
    "            func(name)\n",
    "    return inner\n",
    "\n",
    "\n",
    "def wish(name):\n",
    "    print(\"Good Morning:\",name)\n",
    "\n",
    "decorated_wish = decor(wish)\n",
    "wish('Sunny')\n",
    "wish(\"Sairam\")\n",
    "\n",
    "decorated_wish('Sunny')\n",
    "decorated_wish(\"Sairam\")"
   ]
  },
  {
   "cell_type": "markdown",
   "metadata": {},
   "source": [
    "### Decorator Chaining\n",
    "\n",
    "We can define multiple decorators for the same function and all these decorators will form Decorator Chaining."
   ]
  },
  {
   "cell_type": "code",
   "execution_count": 12,
   "metadata": {},
   "outputs": [
    {
     "name": "stdout",
     "output_type": "stream",
     "text": [
      "Decorator1 Execution\n"
     ]
    }
   ],
   "source": [
    "\n",
    "def decor1(func):\n",
    "    def inner1():\n",
    "        print(\"Decorator1 Execution\")\n",
    "    return inner1\n",
    "\n",
    "@decor1\n",
    "def f():\n",
    "    print(\"Original Function\")\n",
    "f()    "
   ]
  },
  {
   "cell_type": "code",
   "execution_count": 13,
   "metadata": {},
   "outputs": [
    {
     "name": "stdout",
     "output_type": "stream",
     "text": [
      "Decorator1 Execution\n",
      "Original Function\n"
     ]
    }
   ],
   "source": [
    "def decor1(func):\n",
    "    def inner1():\n",
    "        print(\"Decorator1 Execution\")\n",
    "        func()\n",
    "    return inner1\n",
    "\n",
    "@decor1\n",
    "def f():\n",
    "    print(\"Original Function\")\n",
    "f()   "
   ]
  },
  {
   "cell_type": "code",
   "execution_count": 14,
   "metadata": {},
   "outputs": [
    {
     "name": "stdout",
     "output_type": "stream",
     "text": [
      "Decorator2 Execution\n"
     ]
    }
   ],
   "source": [
    "def decor1(func):\n",
    "    def inner1():\n",
    "        print(\"Decorator1 Execution\")\n",
    "        func()\n",
    "    return inner1\n",
    "\n",
    "def decor2(func):\n",
    "    def inner2():\n",
    "        print(\"Decorator2 Execution\")\n",
    "    return inner2\n",
    "\n",
    "@decor2\n",
    "def f():\n",
    "    print(\"Original Function\")\n",
    "f()   "
   ]
  },
  {
   "cell_type": "code",
   "execution_count": 18,
   "metadata": {},
   "outputs": [
    {
     "name": "stdout",
     "output_type": "stream",
     "text": [
      "Decorator2 Execution\n"
     ]
    }
   ],
   "source": [
    "def decor1(func):\n",
    "    def inner1():\n",
    "        print(\"Decorator1 Execution\")\n",
    "    return inner1\n",
    "\n",
    "def decor2(func):\n",
    "    def inner2():\n",
    "        print(\"Decorator2 Execution\")\n",
    "    return inner2\n",
    "\n",
    "@decor2  # 3) output of Decor1 will be the input of decor2, and only inner2 will be resturned as final output. \n",
    "@decor1  # 2) Decor1 will be first executed and then it will return the inner1.\n",
    "def f(): # 1) On calling this function.\n",
    "    print(\"Original Function\")\n",
    "f()  "
   ]
  },
  {
   "cell_type": "code",
   "execution_count": 17,
   "metadata": {},
   "outputs": [
    {
     "name": "stdout",
     "output_type": "stream",
     "text": [
      "Decorator1 Execution\n"
     ]
    }
   ],
   "source": [
    "def decor1(func):\n",
    "    def inner1():\n",
    "        print(\"Decorator1 Execution\")\n",
    "    return inner1\n",
    "\n",
    "def decor2(func):\n",
    "    def inner2():\n",
    "        print(\"Decorator2 Execution\")\n",
    "    return inner2\n",
    "\n",
    "# Changing the order.\n",
    "@decor1  # 3) output of Decor2 will be the input of decor2, and only inner1 will be resturned as final output. \n",
    "@decor2  # 2) Decor2 will be first executed and then it will return the inner2.\n",
    "def f(): # 1) On calling this function.\n",
    "    print(\"Original Function\")\n",
    "f()  "
   ]
  },
  {
   "cell_type": "markdown",
   "metadata": {},
   "source": [
    "**Note:** multiple decorators for a function will return the last decorator function output on calling as seen above.\n"
   ]
  },
  {
   "cell_type": "code",
   "execution_count": 20,
   "metadata": {},
   "outputs": [
    {
     "name": "stdout",
     "output_type": "stream",
     "text": [
      "Decorator2 Execution\n",
      "Decorator1 Execution\n",
      "Original Function\n"
     ]
    }
   ],
   "source": [
    "# Example\n",
    "\n",
    "def decor1(func):\n",
    "    def inner1():\n",
    "        print(\"Decorator1 Execution\")\n",
    "        func() # This inner 1 is responsible for the original function execution on a call from inner2.\n",
    "    return inner1\n",
    "\n",
    "def decor2(func):\n",
    "    def inner2():\n",
    "        print(\"Decorator2 Execution\")\n",
    "        func() # This inner 2 will call the inner 1 function.\n",
    "    return inner2\n",
    "\n",
    "@decor2  # 3) output of Decor1 will be the input of decor2, and only inner2 will be resturned as final output. \n",
    "@decor1  # 2) Decor1 will be first executed and then it will return the inner1.\n",
    "def f(): # 1) On calling this function.\n",
    "    print(\"Original Function\")\n",
    "f()  "
   ]
  },
  {
   "cell_type": "markdown",
   "metadata": {},
   "source": [
    "**Note:** whenever the original function is called inside the decor function, it will raise a recursion error.  "
   ]
  },
  {
   "cell_type": "code",
   "execution_count": 2,
   "metadata": {},
   "outputs": [
    {
     "name": "stdout",
     "output_type": "stream",
     "text": [
      "20\n"
     ]
    }
   ],
   "source": [
    "# Example\n",
    "def num():\n",
    "    return 20\n",
    "\n",
    "print(num())"
   ]
  },
  {
   "cell_type": "code",
   "execution_count": 5,
   "metadata": {},
   "outputs": [
    {
     "name": "stdout",
     "output_type": "stream",
     "text": [
      "400\n"
     ]
    }
   ],
   "source": [
    "def decor1(func):\n",
    "    def inner1():\n",
    "        x=func()\n",
    "        return x*x\n",
    "    return inner1\n",
    "\n",
    "def decor2(func):\n",
    "    def inner2():\n",
    "        x=func()\n",
    "        return 2*x\n",
    "    return inner2\n",
    "\n",
    "@decor1\n",
    "def num():\n",
    "    return 20\n",
    "\n",
    "print(num())"
   ]
  },
  {
   "cell_type": "code",
   "execution_count": 4,
   "metadata": {},
   "outputs": [
    {
     "name": "stdout",
     "output_type": "stream",
     "text": [
      "40\n"
     ]
    }
   ],
   "source": [
    "def decor1(func):\n",
    "    def inner1():\n",
    "        x=func()\n",
    "        return x*x\n",
    "    return inner1\n",
    "\n",
    "def decor2(func):\n",
    "    def inner2():\n",
    "        x=func()\n",
    "        return 2*x\n",
    "    return inner2\n",
    "\n",
    "@decor2\n",
    "def num():\n",
    "    return 20\n",
    "\n",
    "print(num())"
   ]
  },
  {
   "cell_type": "code",
   "execution_count": 8,
   "metadata": {},
   "outputs": [
    {
     "name": "stdout",
     "output_type": "stream",
     "text": [
      "800\n"
     ]
    }
   ],
   "source": [
    "def decor1(func):\n",
    "    def inner1():\n",
    "        x=func() # num() return value will be considered.\n",
    "        return x*x # 20*20=400\n",
    "    return inner1\n",
    "\n",
    "def decor2(func):\n",
    "    def inner2():\n",
    "        x=func() # inner1() return value will be considered.\n",
    "        return 2*x # 2*400=800\n",
    "    return inner2\n",
    "\n",
    "@decor2\n",
    "@decor1\n",
    "def num():\n",
    "    return 20\n",
    "\n",
    "print(num()) #800"
   ]
  },
  {
   "cell_type": "code",
   "execution_count": 9,
   "metadata": {},
   "outputs": [
    {
     "name": "stdout",
     "output_type": "stream",
     "text": [
      "1600\n"
     ]
    }
   ],
   "source": [
    "def decor1(func):\n",
    "    def inner1():\n",
    "        x=func() # inner2 return value will be considered.\n",
    "        return x*x # 40*40 = 1600\n",
    "    return inner1\n",
    "\n",
    "def decor2(func):\n",
    "    def inner2():\n",
    "        x=func() # num() return value will be considered.\n",
    "        return 2*x # 2*20=40\n",
    "    return inner2\n",
    "\n",
    "@decor1 # first decor2 will be considered\n",
    "@decor2 # first decor2 will be considered\n",
    "def num():\n",
    "    return 20\n",
    "\n",
    "print(num()) #1600"
   ]
  },
  {
   "cell_type": "markdown",
   "metadata": {},
   "source": [
    "**Refer Below Links for more information about decorators:**<br><br>\n",
    "https://www.programiz.com/python-programming/decorator<br>\n",
    "https://www.geeksforgeeks.org/decorators-in-python/<br>\n",
    "https://www.python-course.eu/python3_decorators.php\n",
    "\n",
    "\n",
    "\n",
    "# =================== THE END ======================="
   ]
  }
 ],
 "metadata": {
  "kernelspec": {
   "display_name": "Python 3",
   "language": "python",
   "name": "python3"
  },
  "language_info": {
   "codemirror_mode": {
    "name": "ipython",
    "version": 3
   },
   "file_extension": ".py",
   "mimetype": "text/x-python",
   "name": "python",
   "nbconvert_exporter": "python",
   "pygments_lexer": "ipython3",
   "version": "3.8.3"
  }
 },
 "nbformat": 4,
 "nbformat_minor": 4
}
