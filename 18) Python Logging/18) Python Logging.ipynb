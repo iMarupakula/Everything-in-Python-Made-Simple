{
 "cells": [
  {
   "cell_type": "markdown",
   "metadata": {},
   "source": [
    "# Python Logging"
   ]
  },
  {
   "cell_type": "markdown",
   "metadata": {},
   "source": [
    "### Intoduction to Python Logging and Logging Levels\n",
    "\n",
    "It is highly recommended to store complete application flow and exceptions information to a file. This process is called logging.<br><br>\n",
    "The main advanatages of logging are:<br><br>\n",
    "> 1. We can use log files while performing debugging <br>\n",
    "> 2. We can provide statistics like number of requests per day etc<br>\n",
    "\n",
    "To implement logging, Python provides inbuilt module logging.<br>\n",
    "<br>\n",
    "### Logging Levels:\n",
    "Depending on type of information, logging data is divided according to the following 6 levels in python<br><br>\n",
    "1. **CRITICAL===>50**<br> \n",
    "> Represents a very serious problem that needs high attention like Complete Application Failure<br>\n",
    "\n",
    "2. **ERROR ===>40**<br>\n",
    "> Represents a serious error. Some part of the application is not working properly<br>\n",
    "\n",
    "3. **WARNING ==>30**<br>\n",
    "> Represents a warning message, some caution needed. It is alert to the programmer.<br>\n",
    "\n",
    "4. **INFO==>20**<br>\n",
    "> Represents a message with some important information<br>\n",
    "\n",
    "5. **DEBUG ===>10**<br>\n",
    "> Represents a message with debugging information<br>\n",
    "\n",
    "6. **NOTSET==>0**<br>\n",
    "> Represents that level is not set<br><br>\n",
    "\n",
    "By default while executing Python program only WARNING and higher level messages will be displayed."
   ]
  },
  {
   "cell_type": "markdown",
   "metadata": {},
   "source": [
    "## How to Implement Logging with Demo Program\n",
    "\n",
    "To perform logging, first we required to create a file to store messages and we have to specify which level messages required to store.<br><br>\n",
    "We can do this by using **basicConfig()** function of logging module.<br><br>\n",
    "**logging.basicConfig(filename='log.txt',level=logging.WARNING)**<br><br>\n",
    "\n",
    "The above line will create a file log.txt and we can store either WARNING level or higher level messages to that file.<br><br>\n",
    "\n",
    "After creating log file, we can write messages to that file by using the following methods<br>\n",
    "\n",
    "**logging.debug(message)**<br>\n",
    "**logging.info(message)**<br>\n",
    "**logging.warning(message)**<br>\n",
    "**logging.error(message)**<br>\n",
    "**logging.critical(message)**<br><br>\n",
    "\n",
    "**Q. Write a Python Program to create a log file and write WARNING and Higher level messages?**"
   ]
  },
  {
   "cell_type": "code",
   "execution_count": 3,
   "metadata": {},
   "outputs": [
    {
     "name": "stdout",
     "output_type": "stream",
     "text": [
      "Logging Demo\n"
     ]
    }
   ],
   "source": [
    "import logging\n",
    "logging.basicConfig(filename='Supportive_Files/log.txt',level=logging.WARNING) # This log.txt will be created in Supportive_Files Folder.\n",
    "print(\"Logging Demo\")\n",
    "logging.critical(\"This is critical message\") # This will be stored to log file\n",
    "logging.error(\"This is error messagae\") # This will be stored to log file\n",
    "logging.warning(\"This is warning message\") # This will be stored to log file\n",
    "logging.info(\"This is info message\") # This will not store to log file, since only warning and above levels are allowed to print in log file.\n",
    "logging.debug(\"This is debug message\") # This will not store to log file, since only warning and above levels are allowed to print in log file."
   ]
  },
  {
   "cell_type": "markdown",
   "metadata": {},
   "source": [
    "Below is the output of the above program, >= warning levels are stored in log file.<br>\n",
    "<img src=\"Supportive_Files/log.png\">\n",
    "\n",
    "\n",
    "**Note:** <br>\n",
    "In the above program only WARNING and higher level messages will be written to the log file. If we set level as DEBUG then all messages will be written to the log file."
   ]
  },
  {
   "cell_type": "code",
   "execution_count": 4,
   "metadata": {},
   "outputs": [
    {
     "name": "stdout",
     "output_type": "stream",
     "text": [
      "Logging Demo\n"
     ]
    }
   ],
   "source": [
    "# If we execute this program again, i will append the same error levels as previos\n",
    "\n",
    "import logging\n",
    "logging.basicConfig(filename='Supportive_Files/log.txt',level=logging.WARNING) # This log.txt will be created in Supportive_Files Folder.\n",
    "print(\"Logging Demo\")\n",
    "logging.critical(\"This is critical message\") # This will be stored to log file\n",
    "logging.error(\"This is error messagae\") # This will be stored to log file\n",
    "logging.warning(\"This is warning message\") # This will be stored to log file\n",
    "logging.info(\"This is info message\") # This will not store to log file, since only warning and above levels are allowed to print in log file.\n",
    "logging.debug(\"This is debug message\") # This will not store to log file, since only warning and above levels are allowed to print in log file."
   ]
  },
  {
   "cell_type": "markdown",
   "metadata": {},
   "source": [
    "It Log messages will be appended to the log file as many times as we run it. We can also overide it which will be discussed further. Below is the output after running it once again.<br><br>\n",
    "<img src=\"Supportive_Files/log2.png\">"
   ]
  },
  {
   "cell_type": "code",
   "execution_count": 1,
   "metadata": {},
   "outputs": [
    {
     "name": "stdout",
     "output_type": "stream",
     "text": [
      "Logging Demo\n"
     ]
    }
   ],
   "source": [
    "# If we want all messages, we should set level to DEBUG. By default all the messages will be written to log file.\n",
    "\n",
    "import logging\n",
    "logging.basicConfig(filename='Supportive_Files/log.txt',level=logging.DEBUG) # This log.txt will be created in Supportive_Files Folder.\n",
    "print(\"Logging Demo\")\n",
    "logging.critical(\"This is critical message\") # This will be stored to log file\n",
    "logging.error(\"This is error messagae\") # This will be stored to log file\n",
    "logging.warning(\"This is warning message\") # This will be stored to log file\n",
    "logging.info(\"This is info message\") # This will store to log file. \n",
    "logging.debug(\"This is debug message\") # This will store to log file."
   ]
  },
  {
   "cell_type": "markdown",
   "metadata": {},
   "source": [
    "All the 5 level  msgs will be written to log file.<br>\n",
    "<img src=\"Supportive_Files/log3.jpg\">"
   ]
  },
  {
   "cell_type": "markdown",
   "metadata": {},
   "source": [
    "## How to configure log file in over writing mode:\n",
    "In the above program by default data will be appended to the log file.i.e append is the default mode. Instead of appending if we want to over write data then we have to use **filemode** property.<br><br>\n",
    "\n",
    "**logging.basicConfig(filename='log786.txt',level=logging.WARNING)** ==> meant for appending<br><br>\n",
    "**logging.basicConfig(filename='log786.txt',level=logging.WARNING,filemode='a')** ==> explicitly we are specifying appending.<br><br>\n",
    "**logging.basicConfig(filename='log786.txt',level=logging.WARNING,filemode='w')** ==> meant for over writing of previous data.<br><br>\n",
    "\n"
   ]
  },
  {
   "cell_type": "code",
   "execution_count": 2,
   "metadata": {},
   "outputs": [
    {
     "name": "stdout",
     "output_type": "stream",
     "text": [
      "Logging Demo\n"
     ]
    }
   ],
   "source": [
    "import logging\n",
    "logging.basicConfig(filename='Supportive_Files/log.txt',level=50,filemode='w') # all the content in log.txt will be overwritten and will store the new msg.\n",
    "print(\"Logging Demo\")\n",
    "logging.critical(\"This is critical message\") # SInce level 50 is given, only this will stored to log file by overwriting the previous content.\n",
    "logging.error(\"This is error messagae\") \n",
    "logging.warning(\"This is warning message\") \n",
    "logging.info(\"This is info message\")  \n",
    "logging.debug(\"This is debug message\")"
   ]
  },
  {
   "cell_type": "markdown",
   "metadata": {},
   "source": [
    "Since level 50 is given, only critical level msg will be stored to log file by overwriting the previous content.<br><br>\n",
    "<img src=\"Supportive_Files/log4.png\">"
   ]
  },
  {
   "cell_type": "markdown",
   "metadata": {},
   "source": [
    "**Note:**<br><br>\n",
    "**logging.basicConfig(filename='log.txt',level=logging.DEBUG)**<br><br>\n",
    "If we are not specifying level then the default level is WARNING(30)<br><br>\n",
    "If we are not specifying file name then the messages will be printed to the console."
   ]
  },
  {
   "cell_type": "code",
   "execution_count": 1,
   "metadata": {},
   "outputs": [
    {
     "name": "stdout",
     "output_type": "stream",
     "text": [
      "Logging Demo\n"
     ]
    }
   ],
   "source": [
    "import logging\n",
    "logging.basicConfig(filename='Supportive_Files/log.txt',filemode='w') # Default logging level will be WARNING(30) if not specified. \n",
    "print(\"Logging Demo\")\n",
    "logging.critical(\"This is critical message\") #This will execute\n",
    "logging.error(\"This is error messagae\") #This will execute\n",
    "logging.warning(\"This is warning message\") #This will execute\n",
    "logging.info(\"This is info message\")  \n",
    "logging.debug(\"This is debug message\")"
   ]
  },
  {
   "cell_type": "markdown",
   "metadata": {},
   "source": [
    "Since default is WARNING(30), all the levels above warning will be stored in log file. as below by overwriring the previous content as filemode is given as 'w' which means overwrite.<br><br>\n",
    "<img src=\"Supportive_Files/log5.png\">"
   ]
  },
  {
   "cell_type": "code",
   "execution_count": 1,
   "metadata": {},
   "outputs": [
    {
     "name": "stderr",
     "output_type": "stream",
     "text": [
      "CRITICAL:root:This is critical message\n",
      "ERROR:root:This is error messagae\n",
      "WARNING:root:This is warning message\n"
     ]
    },
    {
     "name": "stdout",
     "output_type": "stream",
     "text": [
      "Logging Demo\n"
     ]
    }
   ],
   "source": [
    "# if not sepcified file name, by default messages will be printed on cosole.\n",
    "# Since this is the jupyter notebook, pink color represents the console.\n",
    "\n",
    "import logging\n",
    "logging.basicConfig()\n",
    "print(\"Logging Demo\")\n",
    "logging.critical(\"This is critical message\") #This will execute\n",
    "logging.error(\"This is error messagae\") #This will execute\n",
    "logging.warning(\"This is warning message\") #This will execute\n",
    "logging.info(\"This is info message\")  \n",
    "logging.debug(\"This is debug message\")"
   ]
  },
  {
   "cell_type": "markdown",
   "metadata": {},
   "source": [
    "## How to Format log messages:\n",
    "By using **format** keyword argument, we can format messages as we need.<br>If we see above output. It is in the format **levelname:loggername:message**<br><br>\n",
    "### 1. To display only level name:<br>\n",
    "**logging.basicConfig(format='%(levelname)s')**<br><br>\n",
    "**Output:**<br>\n",
    "WARNING<br>\n",
    "ERROR<br>\n",
    "CRITICAL<br><br>\n",
    "\n"
   ]
  },
  {
   "cell_type": "code",
   "execution_count": 1,
   "metadata": {},
   "outputs": [
    {
     "name": "stderr",
     "output_type": "stream",
     "text": [
      "CRITICAL\n",
      "ERROR\n",
      "WARNING\n"
     ]
    },
    {
     "name": "stdout",
     "output_type": "stream",
     "text": [
      "Logging Demo\n"
     ]
    }
   ],
   "source": [
    "import logging\n",
    "logging.basicConfig(format='%(levelname)s')\n",
    "print(\"Logging Demo\")\n",
    "logging.critical(\"This is critical message\") #This will execute\n",
    "logging.error(\"This is error messagae\") #This will execute\n",
    "logging.warning(\"This is warning message\") #This will execute\n",
    "logging.info(\"This is info message\")  \n",
    "logging.debug(\"This is debug message\")"
   ]
  },
  {
   "cell_type": "markdown",
   "metadata": {},
   "source": [
    "### 2. To display levelname and message:\n",
    "**logging.basicConfig(format='%(levelname)s:%(message)s')**<br><br>\n",
    "**Output:**<br>\n",
    "WARNING:warning Information<br>\n",
    "ERROR:error Information<br>\n",
    "CRITICAL:critical Information"
   ]
  },
  {
   "cell_type": "code",
   "execution_count": 1,
   "metadata": {},
   "outputs": [
    {
     "name": "stderr",
     "output_type": "stream",
     "text": [
      "CRITICAL:This is critical message\n",
      "ERROR:This is error messagae\n",
      "WARNING:This is warning message\n"
     ]
    },
    {
     "name": "stdout",
     "output_type": "stream",
     "text": [
      "Logging Demo\n"
     ]
    }
   ],
   "source": [
    "import logging\n",
    "logging.basicConfig(format='%(levelname)s:%(message)s')\n",
    "print(\"Logging Demo\")\n",
    "logging.critical(\"This is critical message\") #This will execute\n",
    "logging.error(\"This is error messagae\") #This will execute\n",
    "logging.warning(\"This is warning message\") #This will execute\n",
    "logging.info(\"This is info message\")  \n",
    "logging.debug(\"This is debug message\")"
   ]
  },
  {
   "cell_type": "markdown",
   "metadata": {},
   "source": [
    "### 3. To display levelname,loggername and message:\n",
    "**logging.basicConfig(format='%(levelname)s:%(name)s:%(message)s')**<br><br>\n",
    "**Output:**<br>\n",
    "CRITICAL:root:This is critical message<br>\n",
    "ERROR:root:This is error messagae<br>\n",
    "WARNING:root:This is warning message<br>"
   ]
  },
  {
   "cell_type": "code",
   "execution_count": 1,
   "metadata": {},
   "outputs": [
    {
     "name": "stderr",
     "output_type": "stream",
     "text": [
      "CRITICAL:root:This is critical message\n",
      "ERROR:root:This is error messagae\n",
      "WARNING:root:This is warning message\n"
     ]
    },
    {
     "name": "stdout",
     "output_type": "stream",
     "text": [
      "Logging Demo\n"
     ]
    }
   ],
   "source": [
    "import logging\n",
    "logging.basicConfig(format='%(levelname)s:%(name)s:%(message)s')\n",
    "print(\"Logging Demo\")\n",
    "logging.critical(\"This is critical message\") #This will execute\n",
    "logging.error(\"This is error messagae\") #This will execute\n",
    "logging.warning(\"This is warning message\") #This will execute\n",
    "logging.info(\"This is info message\")  \n",
    "logging.debug(\"This is debug message\")"
   ]
  },
  {
   "cell_type": "markdown",
   "metadata": {},
   "source": [
    "For more attibutes are available for format. click on the link to learn more about format attributes.\n",
    "https://docs.python.org/3/library/logging.html#logrecord-attributes"
   ]
  },
  {
   "cell_type": "markdown",
   "metadata": {},
   "source": [
    "### How to add timestamp in the log messages:\n",
    "**logging.basicConfig(format='%(asctime)s:%(levelname)s:%(message)s')**<br>\n",
    "<br>\n",
    "**Output:**<br>\n",
    "2018-06-15 11:50:08,325:WARNING:warning Information<br>\n",
    "2018-06-15 11:50:08,372:ERROR:error Information<br>\n",
    "2018-06-15 11:50:08,372:CRITICAL:critical Information<br>"
   ]
  },
  {
   "cell_type": "code",
   "execution_count": 1,
   "metadata": {},
   "outputs": [
    {
     "name": "stderr",
     "output_type": "stream",
     "text": [
      "2021-05-01 15:49:31,417:CRITICAL:This is critical message\n",
      "2021-05-01 15:49:31,421:ERROR:This is error messagae\n",
      "2021-05-01 15:49:31,422:WARNING:This is warning message\n"
     ]
    },
    {
     "name": "stdout",
     "output_type": "stream",
     "text": [
      "Logging Demo\n"
     ]
    }
   ],
   "source": [
    "import logging\n",
    "logging.basicConfig(format='%(asctime)s:%(levelname)s:%(message)s')\n",
    "print(\"Logging Demo\")\n",
    "logging.critical(\"This is critical message\")\n",
    "logging.error(\"This is error messagae\") \n",
    "logging.warning(\"This is warning message\")\n",
    "logging.info(\"This is info message\")  \n",
    "logging.debug(\"This is debug message\")"
   ]
  },
  {
   "cell_type": "markdown",
   "metadata": {},
   "source": [
    "### How to change date and time format:\n",
    "We have to use special keyword argument: **datefmt**<br>\n",
    "\n",
    "**logging.basicConfig(format='%(asctime)s:%(levelname)s:%(message)s', datefmt='%d/%m/%Y %I:%M:%S %p')**<br><br>\n",
    "datefmt='%d/%m/%Y %I:%M:%S %p' ===>case is important"
   ]
  },
  {
   "cell_type": "code",
   "execution_count": 1,
   "metadata": {},
   "outputs": [
    {
     "name": "stderr",
     "output_type": "stream",
     "text": [
      "01/05/2021 03:54:00 PM:CRITICAL:This is critical message\n",
      "01/05/2021 03:54:00 PM:ERROR:This is error messagae\n",
      "01/05/2021 03:54:00 PM:WARNING:This is warning message\n"
     ]
    }
   ],
   "source": [
    "import logging\n",
    "logging.basicConfig(format='%(asctime)s:%(levelname)s:%(message)s',datefmt='%d/%m/%Y %I:%M:%S %p')\n",
    "logging.critical(\"This is critical message\")\n",
    "logging.error(\"This is error messagae\") \n",
    "logging.warning(\"This is warning message\")\n",
    "logging.info(\"This is info message\")  \n",
    "logging.debug(\"This is debug message\")"
   ]
  },
  {
   "cell_type": "markdown",
   "metadata": {},
   "source": [
    "**Note:**<br>\n",
    "%I--->means 12 Hours time scale<br>\n",
    "%H--->means 24 Hours time scale<br><br>\n",
    "**Eg: logging.basicConfig(format='%(asctime)s:%(levelname)s:%(message)s', datefmt='%d/%m/%Y %H:%M:%S')**<br><br>\n",
    "\n",
    "**Output:**<br> \n",
    "15/06/2018 12:06:28:WARNING:warning Information <br>\n",
    "15/06/2018 12:06:28:ERROR:error Information <br>\n",
    "15/06/2018 12:06:28:CRITICAL:critical Information<br><br>\n",
    "for more information on date formats visit below links\n",
    "https://docs.python.org/3/library/logging.html#logrecord-attributes\n",
    "https://docs.python.org/3/library/time.html#time.strftime"
   ]
  },
  {
   "cell_type": "code",
   "execution_count": 1,
   "metadata": {},
   "outputs": [
    {
     "name": "stderr",
     "output_type": "stream",
     "text": [
      "01/05/2021 15:56:16:CRITICAL:This is critical message\n",
      "01/05/2021 15:56:16:ERROR:This is error messagae\n",
      "01/05/2021 15:56:16:WARNING:This is warning message\n"
     ]
    }
   ],
   "source": [
    "import logging\n",
    "logging.basicConfig(format='%(asctime)s:%(levelname)s:%(message)s',datefmt='%d/%m/%Y %H:%M:%S')\n",
    "logging.critical(\"This is critical message\")\n",
    "logging.error(\"This is error messagae\") \n",
    "logging.warning(\"This is warning message\")\n",
    "logging.info(\"This is info message\")  \n",
    "logging.debug(\"This is debug message\")"
   ]
  },
  {
   "cell_type": "markdown",
   "metadata": {},
   "source": [
    "## How to write Python program exceptions to the log file:\n",
    "By using the following function we can write exception information to the log file.<br>\n",
    "**logging.exception(msg)**<br><br>\n",
    "**Q. Python Program to write exception information to the log file:**"
   ]
  },
  {
   "cell_type": "code",
   "execution_count": 5,
   "metadata": {},
   "outputs": [
    {
     "name": "stdout",
     "output_type": "stream",
     "text": [
      "Enter First Number:10\n",
      "Enter Second Number:0\n",
      "Cannot divide with zero\n"
     ]
    }
   ],
   "source": [
    "import logging\n",
    "\n",
    "logging.basicConfig(filename='Supportive_Files/mylog01052021.log',level=logging.INFO,\n",
    "                   format='%(asctime)s:%(levelname)s: %(message)s',\n",
    "                   datefmt='%d/%m/%Y %I:%M:%S %p')\n",
    "logging.info('A New Request Came')\n",
    "try:\n",
    "    x=int(input(\"Enter First Number:\"))\n",
    "    y=int(input(\"Enter Second Number:\"))\n",
    "    print(\"The Result:\",x/y)\n",
    "except ZeroDivisionError as msg:\n",
    "    print(\"Cannot divide with zero\")\n",
    "    logging.exception(msg)\n",
    "    \n",
    "except ValueError as msg:\n",
    "    print('provide int values only')\n",
    "    logging.exception(msg)\n",
    "    \n",
    "logging.info(\"A Request Processing Completed\")"
   ]
  },
  {
   "cell_type": "markdown",
   "metadata": {},
   "source": [
    "Complete Information will be there in log file like how many times zero division error raised or how many times Value Error raised etc. Below is the image for the logging information for the above code.<br><br>\n",
    "\n",
    "<img src=\"Supportive_Files/log6.png\">"
   ]
  },
  {
   "cell_type": "markdown",
   "metadata": {},
   "source": [
    "## Problems with root logger:\n",
    "If we are not defining our own logger,then bydefault root logger will be considered. Once we perform basic configuration to root logger then the configurations are fixed and we cannot change."
   ]
  },
  {
   "cell_type": "code",
   "execution_count": null,
   "metadata": {},
   "outputs": [],
   "source": [
    "# Code in student.py file which will used for importing below\n",
    "\n",
    "import logging\n",
    "\n",
    "logging.basicConfig()\n",
    "logging.critical(\"This is critical message\")\n",
    "logging.error(\"This is error messagae\") \n",
    "logging.warning(\"This is warning message\")\n",
    "logging.info(\"This is info message\")  \n",
    "logging.debug(\"This is debug message\")"
   ]
  },
  {
   "cell_type": "code",
   "execution_count": 1,
   "metadata": {},
   "outputs": [
    {
     "name": "stderr",
     "output_type": "stream",
     "text": [
      "CRITICAL:root:This is critical message\n",
      "ERROR:root:This is error messagae\n",
      "WARNING:root:This is warning message\n",
      "CRITICAL:root:This is critical message\n",
      "ERROR:root:This is error messagae\n",
      "WARNING:root:This is warning message\n"
     ]
    }
   ],
   "source": [
    "# Test module\n",
    "import logging\n",
    "import student # This is saved as student.py file with above code.\n",
    "# \n",
    "logging.basicConfig(filename='Supprtive_Files/test.log', level=logging.DEBUG) # This will not execute since basic configuration is already assigned to root logger from student.py file\n",
    "logging.critical(\"This is critical message\") #This will execute on console\n",
    "logging.error(\"This is error messagae\") #This will execute on console\n",
    "logging.warning(\"This is warning message\") #This will execute on console\n",
    "logging.info(\"This is info message\")  # This will not execute on console, since in student.py file default code level is 30 and above. So, this Info level msg won't be executed on console.\n",
    "logging.debug(\"This is debug message\") # This will not execute on console,  since in student.py file default code level is 30 and above. So, this debug level msg won't be executed on console."
   ]
  },
  {
   "cell_type": "markdown",
   "metadata": {},
   "source": [
    "If we run the above code, msgs from above code will not stored on test.log file since this it is not valid to get assigned to root logger because already basicConfig from student.py is already assigned to root logger, once assigned it cannot be changed.<br><br>\n",
    "so, all the msgs from student.py and from the above Test module code all the msgs will be executed on console instead of log file."
   ]
  },
  {
   "cell_type": "code",
   "execution_count": 2,
   "metadata": {},
   "outputs": [],
   "source": [
    "# Lets take import student after the basicConfig in Test module.\n",
    "\n",
    "import logging\n",
    "\n",
    "\n",
    "logging.basicConfig(filename='Supportive_Files/test.log', level=logging.DEBUG) # This will execute since basic configuration is assigned to root logger from Test module itself. This will be the final configuration.\n",
    "import student # This is saved as student.py file with above code. basicConfig from student.py will not be assigned to root logger as test module basicConfig from test module is already available for root logger.\n",
    "logging.critical(\"This is critical message\") #This will execute on console\n",
    "logging.error(\"This is error messagae\") #This will execute on console\n",
    "logging.warning(\"This is warning message\") #This will execute on console\n",
    "logging.info(\"This is info message\")  # This will not execute on console, since in student.py file default code level is 30 and above. So, this Info level msg won't be executed on console.\n",
    "logging.debug(\"This is debug message\") # This will not execute on console,  since in student.py file default code level is 30 and above. So, this debug level msg won't be executed on console."
   ]
  },
  {
   "cell_type": "markdown",
   "metadata": {},
   "source": [
    "As seen above, nothing will be executed on console. all 5 msgs from Test module and and 5 msgs from student.py will be executed on test.log file as below. 5 msgs will execute because we have given level with DEBUG.<br><br>\n",
    "\n",
    "<img src=\"Supportive_Files/log7.png\">"
   ]
  },
  {
   "cell_type": "code",
   "execution_count": null,
   "metadata": {},
   "outputs": [],
   "source": []
  },
  {
   "cell_type": "code",
   "execution_count": null,
   "metadata": {},
   "outputs": [],
   "source": []
  },
  {
   "cell_type": "code",
   "execution_count": null,
   "metadata": {},
   "outputs": [],
   "source": []
  },
  {
   "cell_type": "code",
   "execution_count": null,
   "metadata": {},
   "outputs": [],
   "source": []
  },
  {
   "cell_type": "code",
   "execution_count": null,
   "metadata": {},
   "outputs": [],
   "source": []
  },
  {
   "cell_type": "code",
   "execution_count": null,
   "metadata": {},
   "outputs": [],
   "source": []
  },
  {
   "cell_type": "code",
   "execution_count": null,
   "metadata": {},
   "outputs": [],
   "source": []
  },
  {
   "cell_type": "code",
   "execution_count": null,
   "metadata": {},
   "outputs": [],
   "source": []
  }
 ],
 "metadata": {
  "kernelspec": {
   "display_name": "Python 3",
   "language": "python",
   "name": "python3"
  },
  "language_info": {
   "codemirror_mode": {
    "name": "ipython",
    "version": 3
   },
   "file_extension": ".py",
   "mimetype": "text/x-python",
   "name": "python",
   "nbconvert_exporter": "python",
   "pygments_lexer": "ipython3",
   "version": "3.8.3"
  }
 },
 "nbformat": 4,
 "nbformat_minor": 4
}
