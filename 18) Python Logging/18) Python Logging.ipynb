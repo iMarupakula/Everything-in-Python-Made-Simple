{
 "cells": [
  {
   "cell_type": "markdown",
   "metadata": {},
   "source": [
    "# Python Logging"
   ]
  },
  {
   "cell_type": "markdown",
   "metadata": {},
   "source": [
    "**Note:** Since, this is a jupyter notebook, In order to get the ouput by execute the cell, **we need to restart the kernel before running each cell**, just in case if you want to execute the same code, it because once the cell is executed, variables are already loaded, if you made a change in outside file and then execute it again,it will not load the changes made, because it previosuly loaded thing already available. we can clear the variables by restarting the kernel. the results will be stored into the log files which are present in Supportive_Files folder. or try to run the code in spyder or pycharm Ide's."
   ]
  },
  {
   "cell_type": "markdown",
   "metadata": {},
   "source": [
    "### Intoduction to Python Logging and Logging Levels\n",
    "Logging is a very useful tool in a programmer’s toolbox. It can help you develop a better understanding of the flow of a program and discover scenarios that you might not even have thought of while developing.<br><br>\n",
    "\n",
    "Logs provide developers with an extra set of eyes that are constantly looking at the flow that an application is going through. They can store information, like which user or IP accessed the application. If an error occurs, then they can provide more insights than a stack trace by telling you what the state of the program was before it arrived at the line of code where the error occurred.<br><br>\n",
    "\n",
    "By logging useful data from the right places, you can not only debug errors easily but also use the data to analyze the performance of the application to plan for scaling or look at usage patterns to plan for marketing.<br><br>\n",
    "\n",
    "Python provides a logging system as a part of its standard library, so you can quickly add logging to your application. In this article, you will learn why using this module is the best way to add logging to your application as well as how to get started quickly, and you will get an introduction to some of the advanced features available.<br><br>\n",
    "\n",
    "It is highly recommended to store complete application flow and exceptions information to a file. This process is called logging.<br><br>\n",
    "The main advanatages of logging are:<br><br>\n",
    "> 1. We can use log files while performing debugging <br>\n",
    "> 2. We can provide statistics like number of requests per day etc<br>\n",
    "\n",
    "To implement logging, Python provides inbuilt module logging.<br>\n",
    "<br>\n",
    "### Logging Levels:\n",
    "Depending on type of information, logging data is divided according to the following 6 levels in python<br><br>\n",
    "1. **CRITICAL===>50**<br> \n",
    "> Represents a very serious problem that needs high attention like Complete Application Failure<br>\n",
    "\n",
    "2. **ERROR ===>40**<br>\n",
    "> Represents a serious error. Some part of the application is not working properly<br>\n",
    "\n",
    "3. **WARNING ==>30**<br>\n",
    "> Represents a warning message, some caution needed. It is alert to the programmer.<br>\n",
    "\n",
    "4. **INFO==>20**<br>\n",
    "> Represents a message with some important information<br>\n",
    "\n",
    "5. **DEBUG ===>10**<br>\n",
    "> Represents a message with debugging information<br>\n",
    "\n",
    "6. **NOTSET==>0**<br>\n",
    "> Represents that level is not set<br><br>\n",
    "\n",
    "By default while executing Python program only WARNING and higher level messages will be displayed."
   ]
  },
  {
   "cell_type": "markdown",
   "metadata": {},
   "source": [
    "## How to Implement Logging with Demo Program\n",
    "\n",
    "To perform logging, first we required to create a file to store messages and we have to specify which level messages required to store.<br><br>\n",
    "We can do this by using **basicConfig()** function of logging module.<br><br>\n",
    "**logging.basicConfig(filename='log.txt',level=logging.WARNING)**<br><br>\n",
    "\n",
    "The above line will create a file log.txt and we can store either WARNING level or higher level messages to that file.<br><br>\n",
    "\n",
    "After creating log file, we can write messages to that file by using the following methods<br>\n",
    "\n",
    "**logging.debug(message)**<br>\n",
    "**logging.info(message)**<br>\n",
    "**logging.warning(message)**<br>\n",
    "**logging.error(message)**<br>\n",
    "**logging.critical(message)**<br><br>\n",
    "\n",
    "**Q. Write a Python Program to create a log file and write WARNING and Higher level messages?**"
   ]
  },
  {
   "cell_type": "code",
   "execution_count": 3,
   "metadata": {},
   "outputs": [
    {
     "name": "stdout",
     "output_type": "stream",
     "text": [
      "Logging Demo\n"
     ]
    }
   ],
   "source": [
    "import logging\n",
    "logging.basicConfig(filename='Supportive_Files/log.txt',level=logging.WARNING) # This log.txt will be created in Supportive_Files Folder.\n",
    "print(\"Logging Demo\")\n",
    "logging.critical(\"This is critical message\") # This will be stored to log file\n",
    "logging.error(\"This is error messagae\") # This will be stored to log file\n",
    "logging.warning(\"This is warning message\") # This will be stored to log file\n",
    "logging.info(\"This is info message\") # This will not store to log file, since only warning and above levels are allowed to print in log file.\n",
    "logging.debug(\"This is debug message\") # This will not store to log file, since only warning and above levels are allowed to print in log file."
   ]
  },
  {
   "cell_type": "markdown",
   "metadata": {},
   "source": [
    "Below is the output of the above program, >= warning levels are stored in log file.<br>\n",
    "<img src=\"Supportive_Files/log.png\">\n",
    "\n",
    "\n",
    "**Note:** <br>\n",
    "In the above program only WARNING and higher level messages will be written to the log file. If we set level as DEBUG then all messages will be written to the log file."
   ]
  },
  {
   "cell_type": "code",
   "execution_count": 4,
   "metadata": {},
   "outputs": [
    {
     "name": "stdout",
     "output_type": "stream",
     "text": [
      "Logging Demo\n"
     ]
    }
   ],
   "source": [
    "# If we execute this program again, i will append the same error levels as previos\n",
    "\n",
    "import logging\n",
    "logging.basicConfig(filename='Supportive_Files/log.txt',level=logging.WARNING) # This log.txt will be created in Supportive_Files Folder.\n",
    "print(\"Logging Demo\")\n",
    "logging.critical(\"This is critical message\") # This will be stored to log file\n",
    "logging.error(\"This is error messagae\") # This will be stored to log file\n",
    "logging.warning(\"This is warning message\") # This will be stored to log file\n",
    "logging.info(\"This is info message\") # This will not store to log file, since only warning and above levels are allowed to print in log file.\n",
    "logging.debug(\"This is debug message\") # This will not store to log file, since only warning and above levels are allowed to print in log file."
   ]
  },
  {
   "cell_type": "markdown",
   "metadata": {},
   "source": [
    "It Log messages will be appended to the log file as many times as we run it. We can also overide it which will be discussed further. Below is the output after running it once again.<br><br>\n",
    "<img src=\"Supportive_Files/log2.png\">"
   ]
  },
  {
   "cell_type": "code",
   "execution_count": 1,
   "metadata": {},
   "outputs": [
    {
     "name": "stdout",
     "output_type": "stream",
     "text": [
      "Logging Demo\n"
     ]
    }
   ],
   "source": [
    "# If we want all messages, we should set level to DEBUG. By default all the messages will be written to log file.\n",
    "\n",
    "import logging\n",
    "logging.basicConfig(filename='Supportive_Files/log.txt',level=logging.DEBUG) # This log.txt will be created in Supportive_Files Folder.\n",
    "print(\"Logging Demo\")\n",
    "logging.critical(\"This is critical message\") # This will be stored to log file\n",
    "logging.error(\"This is error messagae\") # This will be stored to log file\n",
    "logging.warning(\"This is warning message\") # This will be stored to log file\n",
    "logging.info(\"This is info message\") # This will store to log file. \n",
    "logging.debug(\"This is debug message\") # This will store to log file."
   ]
  },
  {
   "cell_type": "markdown",
   "metadata": {},
   "source": [
    "All the 5 level  msgs will be written to log file.<br>\n",
    "<img src=\"Supportive_Files/log3.jpg\">"
   ]
  },
  {
   "cell_type": "markdown",
   "metadata": {},
   "source": [
    "## How to configure log file in over writing mode:\n",
    "In the above program by default data will be appended to the log file.i.e append is the default mode. Instead of appending if we want to over write data then we have to use **filemode** property.<br><br>\n",
    "\n",
    "**logging.basicConfig(filename='log786.txt',level=logging.WARNING)** ==> meant for appending<br><br>\n",
    "**logging.basicConfig(filename='log786.txt',level=logging.WARNING,filemode='a')** ==> explicitly we are specifying appending.<br><br>\n",
    "**logging.basicConfig(filename='log786.txt',level=logging.WARNING,filemode='w')** ==> meant for over writing of previous data.<br><br>\n",
    "\n"
   ]
  },
  {
   "cell_type": "code",
   "execution_count": 2,
   "metadata": {},
   "outputs": [
    {
     "name": "stdout",
     "output_type": "stream",
     "text": [
      "Logging Demo\n"
     ]
    }
   ],
   "source": [
    "import logging\n",
    "logging.basicConfig(filename='Supportive_Files/log.txt',level=50,filemode='w') # all the content in log.txt will be overwritten and will store the new msg.\n",
    "print(\"Logging Demo\")\n",
    "logging.critical(\"This is critical message\") # SInce level 50 is given, only this will stored to log file by overwriting the previous content.\n",
    "logging.error(\"This is error messagae\") \n",
    "logging.warning(\"This is warning message\") \n",
    "logging.info(\"This is info message\")  \n",
    "logging.debug(\"This is debug message\")"
   ]
  },
  {
   "cell_type": "markdown",
   "metadata": {},
   "source": [
    "Since level 50 is given, only critical level msg will be stored to log file by overwriting the previous content.<br><br>\n",
    "<img src=\"Supportive_Files/log4.png\">"
   ]
  },
  {
   "cell_type": "markdown",
   "metadata": {},
   "source": [
    "**Note:**<br><br>\n",
    "**logging.basicConfig(filename='log.txt',level=logging.DEBUG)**<br><br>\n",
    "If we are not specifying level then the default level is WARNING(30)<br><br>\n",
    "If we are not specifying file name then the messages will be printed to the console."
   ]
  },
  {
   "cell_type": "code",
   "execution_count": 1,
   "metadata": {},
   "outputs": [
    {
     "name": "stdout",
     "output_type": "stream",
     "text": [
      "Logging Demo\n"
     ]
    }
   ],
   "source": [
    "import logging\n",
    "logging.basicConfig(filename='Supportive_Files/log.txt',filemode='w') # Default logging level will be WARNING(30) if not specified. \n",
    "print(\"Logging Demo\")\n",
    "logging.critical(\"This is critical message\") #This will execute\n",
    "logging.error(\"This is error messagae\") #This will execute\n",
    "logging.warning(\"This is warning message\") #This will execute\n",
    "logging.info(\"This is info message\")  \n",
    "logging.debug(\"This is debug message\")"
   ]
  },
  {
   "cell_type": "markdown",
   "metadata": {},
   "source": [
    "Since default is WARNING(30), all the levels above warning will be stored in log file. as below by overwriring the previous content as filemode is given as 'w' which means overwrite.<br><br>\n",
    "<img src=\"Supportive_Files/log5.png\">"
   ]
  },
  {
   "cell_type": "code",
   "execution_count": 1,
   "metadata": {},
   "outputs": [
    {
     "name": "stderr",
     "output_type": "stream",
     "text": [
      "CRITICAL:root:This is critical message\n",
      "ERROR:root:This is error messagae\n",
      "WARNING:root:This is warning message\n"
     ]
    },
    {
     "name": "stdout",
     "output_type": "stream",
     "text": [
      "Logging Demo\n"
     ]
    }
   ],
   "source": [
    "# if not sepcified file name, by default messages will be printed on cosole.\n",
    "# Since this is the jupyter notebook, pink color represents the console.\n",
    "\n",
    "import logging\n",
    "logging.basicConfig()\n",
    "print(\"Logging Demo\")\n",
    "logging.critical(\"This is critical message\") #This will execute\n",
    "logging.error(\"This is error messagae\") #This will execute\n",
    "logging.warning(\"This is warning message\") #This will execute\n",
    "logging.info(\"This is info message\")  \n",
    "logging.debug(\"This is debug message\")"
   ]
  },
  {
   "cell_type": "markdown",
   "metadata": {},
   "source": [
    "## How to Format log messages:\n",
    "By using **format** keyword argument, we can format messages as we need.<br>If we see above output. It is in the format **levelname:loggername:message**<br><br>\n",
    "### 1. To display only level name:<br>\n",
    "**logging.basicConfig(format='%(levelname)s')**<br><br>\n",
    "**Output:**<br>\n",
    "WARNING<br>\n",
    "ERROR<br>\n",
    "CRITICAL<br><br>\n",
    "\n"
   ]
  },
  {
   "cell_type": "code",
   "execution_count": 1,
   "metadata": {},
   "outputs": [
    {
     "name": "stderr",
     "output_type": "stream",
     "text": [
      "CRITICAL\n",
      "ERROR\n",
      "WARNING\n"
     ]
    },
    {
     "name": "stdout",
     "output_type": "stream",
     "text": [
      "Logging Demo\n"
     ]
    }
   ],
   "source": [
    "import logging\n",
    "logging.basicConfig(format='%(levelname)s')\n",
    "print(\"Logging Demo\")\n",
    "logging.critical(\"This is critical message\") #This will execute\n",
    "logging.error(\"This is error messagae\") #This will execute\n",
    "logging.warning(\"This is warning message\") #This will execute\n",
    "logging.info(\"This is info message\")  \n",
    "logging.debug(\"This is debug message\")"
   ]
  },
  {
   "cell_type": "markdown",
   "metadata": {},
   "source": [
    "### 2. To display levelname and message:\n",
    "**logging.basicConfig(format='%(levelname)s:%(message)s')**<br><br>\n",
    "**Output:**<br>\n",
    "WARNING:warning Information<br>\n",
    "ERROR:error Information<br>\n",
    "CRITICAL:critical Information"
   ]
  },
  {
   "cell_type": "code",
   "execution_count": 1,
   "metadata": {},
   "outputs": [
    {
     "name": "stderr",
     "output_type": "stream",
     "text": [
      "CRITICAL:This is critical message\n",
      "ERROR:This is error messagae\n",
      "WARNING:This is warning message\n"
     ]
    },
    {
     "name": "stdout",
     "output_type": "stream",
     "text": [
      "Logging Demo\n"
     ]
    }
   ],
   "source": [
    "import logging\n",
    "logging.basicConfig(format='%(levelname)s:%(message)s')\n",
    "print(\"Logging Demo\")\n",
    "logging.critical(\"This is critical message\") #This will execute\n",
    "logging.error(\"This is error messagae\") #This will execute\n",
    "logging.warning(\"This is warning message\") #This will execute\n",
    "logging.info(\"This is info message\")  \n",
    "logging.debug(\"This is debug message\")"
   ]
  },
  {
   "cell_type": "markdown",
   "metadata": {},
   "source": [
    "### 3. To display levelname,loggername and message:\n",
    "**logging.basicConfig(format='%(levelname)s:%(name)s:%(message)s')**<br><br>\n",
    "**Output:**<br>\n",
    "CRITICAL:root:This is critical message<br>\n",
    "ERROR:root:This is error messagae<br>\n",
    "WARNING:root:This is warning message<br>"
   ]
  },
  {
   "cell_type": "code",
   "execution_count": 1,
   "metadata": {},
   "outputs": [
    {
     "name": "stderr",
     "output_type": "stream",
     "text": [
      "CRITICAL:root:This is critical message\n",
      "ERROR:root:This is error messagae\n",
      "WARNING:root:This is warning message\n"
     ]
    },
    {
     "name": "stdout",
     "output_type": "stream",
     "text": [
      "Logging Demo\n"
     ]
    }
   ],
   "source": [
    "import logging\n",
    "logging.basicConfig(format='%(levelname)s:%(name)s:%(message)s')\n",
    "print(\"Logging Demo\")\n",
    "logging.critical(\"This is critical message\") #This will execute\n",
    "logging.error(\"This is error messagae\") #This will execute\n",
    "logging.warning(\"This is warning message\") #This will execute\n",
    "logging.info(\"This is info message\")  \n",
    "logging.debug(\"This is debug message\")"
   ]
  },
  {
   "cell_type": "markdown",
   "metadata": {},
   "source": [
    "For more attibutes are available for format. click on the link to learn more about format attributes.\n",
    "https://docs.python.org/3/library/logging.html#logrecord-attributes"
   ]
  },
  {
   "cell_type": "markdown",
   "metadata": {},
   "source": [
    "### How to add timestamp in the log messages:\n",
    "**logging.basicConfig(format='%(asctime)s:%(levelname)s:%(message)s')**<br>\n",
    "<br>\n",
    "**Output:**<br>\n",
    "2018-06-15 11:50:08,325:WARNING:warning Information<br>\n",
    "2018-06-15 11:50:08,372:ERROR:error Information<br>\n",
    "2018-06-15 11:50:08,372:CRITICAL:critical Information<br>"
   ]
  },
  {
   "cell_type": "code",
   "execution_count": 1,
   "metadata": {},
   "outputs": [
    {
     "name": "stderr",
     "output_type": "stream",
     "text": [
      "2021-05-01 15:49:31,417:CRITICAL:This is critical message\n",
      "2021-05-01 15:49:31,421:ERROR:This is error messagae\n",
      "2021-05-01 15:49:31,422:WARNING:This is warning message\n"
     ]
    },
    {
     "name": "stdout",
     "output_type": "stream",
     "text": [
      "Logging Demo\n"
     ]
    }
   ],
   "source": [
    "import logging\n",
    "logging.basicConfig(format='%(asctime)s:%(levelname)s:%(message)s')\n",
    "print(\"Logging Demo\")\n",
    "logging.critical(\"This is critical message\")\n",
    "logging.error(\"This is error messagae\") \n",
    "logging.warning(\"This is warning message\")\n",
    "logging.info(\"This is info message\")  \n",
    "logging.debug(\"This is debug message\")"
   ]
  },
  {
   "cell_type": "markdown",
   "metadata": {},
   "source": [
    "### How to change date and time format:\n",
    "We have to use special keyword argument: **datefmt**<br>\n",
    "\n",
    "**logging.basicConfig(format='%(asctime)s:%(levelname)s:%(message)s', datefmt='%d/%m/%Y %I:%M:%S %p')**<br><br>\n",
    "datefmt='%d/%m/%Y %I:%M:%S %p' ===>case is important"
   ]
  },
  {
   "cell_type": "code",
   "execution_count": 1,
   "metadata": {},
   "outputs": [
    {
     "name": "stderr",
     "output_type": "stream",
     "text": [
      "01/05/2021 03:54:00 PM:CRITICAL:This is critical message\n",
      "01/05/2021 03:54:00 PM:ERROR:This is error messagae\n",
      "01/05/2021 03:54:00 PM:WARNING:This is warning message\n"
     ]
    }
   ],
   "source": [
    "import logging\n",
    "logging.basicConfig(format='%(asctime)s:%(levelname)s:%(message)s',datefmt='%d/%m/%Y %I:%M:%S %p')\n",
    "logging.critical(\"This is critical message\")\n",
    "logging.error(\"This is error messagae\") \n",
    "logging.warning(\"This is warning message\")\n",
    "logging.info(\"This is info message\")  \n",
    "logging.debug(\"This is debug message\")"
   ]
  },
  {
   "cell_type": "markdown",
   "metadata": {},
   "source": [
    "**Note:**<br>\n",
    "%I--->means 12 Hours time scale<br>\n",
    "%H--->means 24 Hours time scale<br><br>\n",
    "**Eg: logging.basicConfig(format='%(asctime)s:%(levelname)s:%(message)s', datefmt='%d/%m/%Y %H:%M:%S')**<br><br>\n",
    "\n",
    "**Output:**<br> \n",
    "15/06/2018 12:06:28:WARNING:warning Information <br>\n",
    "15/06/2018 12:06:28:ERROR:error Information <br>\n",
    "15/06/2018 12:06:28:CRITICAL:critical Information<br><br>\n",
    "for more information on date formats visit below links\n",
    "https://docs.python.org/3/library/logging.html#logrecord-attributes\n",
    "https://docs.python.org/3/library/time.html#time.strftime"
   ]
  },
  {
   "cell_type": "code",
   "execution_count": 1,
   "metadata": {},
   "outputs": [
    {
     "name": "stderr",
     "output_type": "stream",
     "text": [
      "01/05/2021 15:56:16:CRITICAL:This is critical message\n",
      "01/05/2021 15:56:16:ERROR:This is error messagae\n",
      "01/05/2021 15:56:16:WARNING:This is warning message\n"
     ]
    }
   ],
   "source": [
    "import logging\n",
    "logging.basicConfig(format='%(asctime)s:%(levelname)s:%(message)s',datefmt='%d/%m/%Y %H:%M:%S')\n",
    "logging.critical(\"This is critical message\")\n",
    "logging.error(\"This is error messagae\") \n",
    "logging.warning(\"This is warning message\")\n",
    "logging.info(\"This is info message\")  \n",
    "logging.debug(\"This is debug message\")"
   ]
  },
  {
   "cell_type": "markdown",
   "metadata": {},
   "source": [
    "## How to write Python program exceptions to the log file:\n",
    "By using the following function we can write exception information to the log file.<br>\n",
    "**logging.exception(msg)**<br><br>\n",
    "**Q. Python Program to write exception information to the log file:**"
   ]
  },
  {
   "cell_type": "code",
   "execution_count": 5,
   "metadata": {},
   "outputs": [
    {
     "name": "stdout",
     "output_type": "stream",
     "text": [
      "Enter First Number:10\n",
      "Enter Second Number:0\n",
      "Cannot divide with zero\n"
     ]
    }
   ],
   "source": [
    "import logging\n",
    "\n",
    "logging.basicConfig(filename='Supportive_Files/mylog01052021.log',level=logging.INFO,\n",
    "                   format='%(asctime)s:%(levelname)s: %(message)s',\n",
    "                   datefmt='%d/%m/%Y %I:%M:%S %p')\n",
    "logging.info('A New Request Came')\n",
    "try:\n",
    "    x=int(input(\"Enter First Number:\"))\n",
    "    y=int(input(\"Enter Second Number:\"))\n",
    "    print(\"The Result:\",x/y)\n",
    "except ZeroDivisionError as msg:\n",
    "    print(\"Cannot divide with zero\")\n",
    "    logging.exception(msg)\n",
    "    \n",
    "except ValueError as msg:\n",
    "    print('provide int values only')\n",
    "    logging.exception(msg)\n",
    "    \n",
    "logging.info(\"A Request Processing Completed\")"
   ]
  },
  {
   "cell_type": "markdown",
   "metadata": {},
   "source": [
    "Complete Information will be there in log file like how many times zero division error raised or how many times Value Error raised etc. Below is the image for the logging information for the above code.<br><br>\n",
    "\n",
    "<img src=\"Supportive_Files/log6.png\">"
   ]
  },
  {
   "cell_type": "markdown",
   "metadata": {},
   "source": [
    "## Problems with root logger:\n",
    "If we are not defining our own logger,then bydefault root logger will be considered. Once we perform basic configuration to root logger then the configurations are fixed and we cannot change."
   ]
  },
  {
   "cell_type": "raw",
   "metadata": {},
   "source": [
    "# Code in student.py file which will be used for importing below\n",
    "\n",
    "import logging\n",
    "\n",
    "logging.basicConfig()\n",
    "logging.critical(\"This is critical message\")\n",
    "logging.error(\"This is error messagae\") \n",
    "logging.warning(\"This is warning message\")\n",
    "logging.info(\"This is info message\")  \n",
    "logging.debug(\"This is debug message\")"
   ]
  },
  {
   "cell_type": "code",
   "execution_count": 1,
   "metadata": {},
   "outputs": [
    {
     "name": "stderr",
     "output_type": "stream",
     "text": [
      "CRITICAL:root:This is critical message\n",
      "ERROR:root:This is error messagae\n",
      "WARNING:root:This is warning message\n",
      "CRITICAL:root:This is critical message\n",
      "ERROR:root:This is error messagae\n",
      "WARNING:root:This is warning message\n"
     ]
    }
   ],
   "source": [
    "# Test module\n",
    "import logging\n",
    "import student # This is saved as student.py file with above code.\n",
    "# \n",
    "logging.basicConfig(filename='Supprtive_Files/test.log', level=logging.DEBUG) # This will not execute since basic configuration is already assigned to root logger from student.py file\n",
    "logging.critical(\"This is critical message\") #This will execute on console\n",
    "logging.error(\"This is error messagae\") #This will execute on console\n",
    "logging.warning(\"This is warning message\") #This will execute on console\n",
    "logging.info(\"This is info message\")  # This will not execute on console, since in student.py file default code level is 30 and above. So, this Info level msg won't be executed on console.\n",
    "logging.debug(\"This is debug message\") # This will not execute on console,  since in student.py file default code level is 30 and above. So, this debug level msg won't be executed on console."
   ]
  },
  {
   "cell_type": "markdown",
   "metadata": {},
   "source": [
    "If we run the above code, msgs from above code will not stored on test.log file since this it is not valid to get assigned to root logger because already basicConfig from student.py is already assigned to root logger, once assigned it cannot be changed.<br><br>\n",
    "so, all the msgs from student.py and from the above Test module code all the msgs will be executed on console instead of log file."
   ]
  },
  {
   "cell_type": "code",
   "execution_count": 2,
   "metadata": {},
   "outputs": [],
   "source": [
    "# Lets take import student after the basicConfig in Test module.\n",
    "\n",
    "import logging\n",
    "\n",
    "\n",
    "logging.basicConfig(filename='Supportive_Files/test.log', level=logging.DEBUG) # This will execute since basic configuration is assigned to root logger from Test module itself. This will be the final configuration.\n",
    "import student # This is saved as student.py file with above code. basicConfig from student.py will not be assigned to root logger as test module basicConfig from test module is already available for root logger.\n",
    "logging.critical(\"This is critical message\") #This will execute on console\n",
    "logging.error(\"This is error messagae\") #This will execute on console\n",
    "logging.warning(\"This is warning message\") #This will execute on console\n",
    "logging.info(\"This is info message\")  # This will not execute on console, since in student.py file default code level is 30 and above. So, this Info level msg won't be executed on console.\n",
    "logging.debug(\"This is debug message\") # This will not execute on console,  since in student.py file default code level is 30 and above. So, this debug level msg won't be executed on console."
   ]
  },
  {
   "cell_type": "markdown",
   "metadata": {},
   "source": [
    "As seen above, nothing will be executed on console. all 5 msgs from Test module and and 5 msgs from student.py will be executed on test.log file as below. 5 msgs will execute because we have given level with DEBUG.<br><br>\n",
    "\n",
    "<img src=\"Supportive_Files/log7.png\">"
   ]
  },
  {
   "cell_type": "markdown",
   "metadata": {},
   "source": [
    "### Problems with root logger\n",
    "\n",
    "1) Once we set basic configuration then that configuration is final and we cannot change.<br><br>\n",
    "2) We can use either file handler or console handler but not both simultaneously.<br><br>\n",
    "3) It is not possible to configure logger with different configurations at different levels.<br><br>\n",
    "4) We cannot specify multiple log files for multiple modules/classes/methods<br><br>\n",
    "\n",
    "**To Overcome the above problems, we need to define our own custom logger.**"
   ]
  },
  {
   "cell_type": "markdown",
   "metadata": {},
   "source": [
    "## How to define own cutsomized logger\n",
    "\n",
    "### Advanced logging Module Features: Logger:\n",
    "Logger is more advanced than basic logging. It is highly recommended to use and it provides several extra features.<br><br>\n",
    "\n",
    "## Steps for Advanced Logging:\n",
    "1. Creation of Logger object and set log level<br><br>\n",
    "**logger = logging.getLogger('demologger')**<br>\n",
    "**logger.setLevel(logging.INFO)**<br><br>\n",
    "\n",
    "2. Creation of Handler object and set log level There are several types of Handlers like StreamHandler, FileHandler etc<br><br>\n",
    "**consoleHandler = logging.StreamHandler()**<br> **consoleHandler.setLevel(logging.INFO)**<br><br>\n",
    "**Note:** If we use StreamHandler then log messages will be printed to console<br><br>or<br><br>\n",
    "**FileHandler = logging.FileHandler(\"abc.log',mode='w')**<br>\n",
    "**FileHadler=setlevel(logging.ERROR)**<br><br>\n",
    "\n",
    "3. Creation of Formatter object<br><br>\n",
    "**formatter = logging.Formatter('%(asctime)s - %(name)s - %(levelname)s: %(message)s', datefmt='%d/%m/%Y %I:%M:%S %p')**<br><br>\n",
    "\n",
    "4. Set Formatter to Handler<br> \n",
    "**consoleHandler.setFormatter(formatter)**<br><br>\n",
    "\n",
    "5. Add Handler to Logger<br>\n",
    "**logger.addHandler(consoleHandler)**<br><br>\n",
    "\n",
    "6. Write log messages by using logger object and the following methods<br><br>\n",
    "**logger.debug('debug message')**<br>\n",
    "**logger.info('info message')**<br>\n",
    "**logger.warn('warn message')**<br>\n",
    "**logger.error('error message')**<br>\n",
    "**logger.critical('critical message')**<br><br>\n",
    "\n",
    "**Note:** Bydefault logger will set to WARNING level. But we can set our own level based on our requirement.<br><br>\n",
    "**logger = logging.getLogger('demologger')**<br>\n",
    "**logger.setLevel(logging.INFO)**<br><br>\n",
    "logger log level by default available to console and file handlers. If we are not satisfied with logger level, then we can set log level explicitly at console level and file levels.<br><br>\n",
    "**consoleHandler = logging.StreamHandler()**<br> **consoleHandler.setLevel(logging.WARNING)**<br><br>\n",
    "\n",
    "**fileHandler=logging.FileHandler('abc.log',mode='a')**<br> **fileHandler.setLevel(logging.ERROR)**<br><br>\n",
    "\n",
    "**Note:**<br>\n",
    "console and file log levels should be supported by logger. i.e logger log level should be lower than console and file levels. Otherwise only logger log level will be considered.<br><br>\n",
    "\n",
    "**Eg:**<br>\n",
    "logger==>DEBUG console===>INFO ------->Valid and INFO will be considered<br> logger==>INFO console===>DEBUG ------->Invalid and only INFO will be considered to the console."
   ]
  },
  {
   "cell_type": "markdown",
   "metadata": {},
   "source": [
    "### Write a Program to define and use custom logger with Console Handler"
   ]
  },
  {
   "cell_type": "code",
   "execution_count": 3,
   "metadata": {},
   "outputs": [
    {
     "name": "stderr",
     "output_type": "stream",
     "text": [
      "04/05/2021 06:31:42 AM:CRITICAL:demologger:It is a critical message\n",
      "04/05/2021 06:31:42 AM:ERROR:demologger:It is error message\n",
      "04/05/2021 06:31:42 AM:WARNING:demologger:It is warning message\n",
      "04/05/2021 06:31:42 AM:INFO:demologger:It is info message\n",
      "04/05/2021 06:31:42 AM:DEBUG:demologger:It is debug message\n"
     ]
    }
   ],
   "source": [
    "import logging\n",
    "logger = logging.getLogger('demologger')\n",
    "logger.setLevel(logging.DEBUG)\n",
    "\n",
    "consoleHandler=logging.StreamHandler()\n",
    "formatter=logging.Formatter('%(asctime)s:%(levelname)s:%(name)s:%(message)s',\n",
    "                            datefmt='%d/%m/%Y %I:%M:%S %p')\n",
    "consoleHandler.setFormatter(formatter)\n",
    "logger.addHandler(consoleHandler)\n",
    "\n",
    "logger.critical(\"It is a critical message\")\n",
    "logger.error(\"It is error message\")\n",
    "logger.warning(\"It is warning message\")\n",
    "logger.info(\"It is info message\")\n",
    "logger.debug(\"It is debug message\")"
   ]
  },
  {
   "cell_type": "code",
   "execution_count": 1,
   "metadata": {},
   "outputs": [
    {
     "name": "stderr",
     "output_type": "stream",
     "text": [
      "04/05/2021 06:34:57 AM:CRITICAL:demologger:It is a critical message\n",
      "04/05/2021 06:34:57 AM:ERROR:demologger:It is error message\n",
      "04/05/2021 06:34:57 AM:WARNING:demologger:It is warning message\n"
     ]
    }
   ],
   "source": [
    "import logging\n",
    "logger = logging.getLogger('demologger')\n",
    "logger.setLevel(logging.DEBUG)\n",
    "\n",
    "consoleHandler=logging.StreamHandler()\n",
    "consoleHandler.setLevel(logging.WARNING) # it we don't want all the msgs from logger to be displayed, we can limit them in consoleHandler like this.\n",
    "formatter=logging.Formatter('%(asctime)s:%(levelname)s:%(name)s:%(message)s',\n",
    "                            datefmt='%d/%m/%Y %I:%M:%S %p')\n",
    "consoleHandler.setFormatter(formatter)\n",
    "logger.addHandler(consoleHandler)\n",
    "\n",
    "logger.critical(\"It is a critical message\")\n",
    "logger.error(\"It is error message\")\n",
    "logger.warning(\"It is warning message\")\n",
    "logger.info(\"It is info message\")\n",
    "logger.debug(\"It is debug message\")"
   ]
  },
  {
   "cell_type": "markdown",
   "metadata": {},
   "source": [
    "### Write a program to define and use custom logger with file handler."
   ]
  },
  {
   "cell_type": "code",
   "execution_count": 1,
   "metadata": {},
   "outputs": [],
   "source": [
    "import logging\n",
    "logger = logging.getLogger('demologger')\n",
    "logger.setLevel(logging.DEBUG)\n",
    "\n",
    "fileHandler=logging.FileHandler(\"Supportive_Files/custtest.log\",mode='w')\n",
    "formatter=logging.Formatter('%(asctime)s:%(levelname)s:%(name)s:%(message)s',\n",
    "                            datefmt='%d/%m/%Y %I:%M:%S %p')\n",
    "fileHandler.setFormatter(formatter)\n",
    "logger.addHandler(fileHandler)\n",
    "\n",
    "logger.critical(\"It is a critical message\")\n",
    "logger.error(\"It is error message\")\n",
    "logger.warning(\"It is warning message\")\n",
    "logger.info(\"It is info message\")\n",
    "logger.debug(\"It is debug message\")"
   ]
  },
  {
   "cell_type": "markdown",
   "metadata": {},
   "source": [
    "<img src='Supportive_Files/log8.png'>"
   ]
  },
  {
   "cell_type": "code",
   "execution_count": 1,
   "metadata": {},
   "outputs": [],
   "source": [
    "import logging\n",
    "logger = logging.getLogger('demologger')\n",
    "logger.setLevel(logging.DEBUG)\n",
    "\n",
    "fileHandler=logging.FileHandler(\"Supportive_Files/custtest.log\",mode='w')\n",
    "fileHandler.setLevel(logging.ERROR) # it we don't want all the msgs from logger to be displayed, we can limit them in fileHandler like this.\n",
    "\n",
    "formatter=logging.Formatter('%(asctime)s:%(levelname)s:%(name)s:%(message)s',\n",
    "                            datefmt='%d/%m/%Y %I:%M:%S %p')\n",
    "fileHandler.setFormatter(formatter)\n",
    "logger.addHandler(fileHandler)\n",
    "\n",
    "logger.critical(\"It is a critical message\")\n",
    "logger.error(\"It is error message\")\n",
    "logger.warning(\"It is warning message\")\n",
    "logger.info(\"It is info message\")\n",
    "logger.debug(\"It is debug message\")"
   ]
  },
  {
   "cell_type": "markdown",
   "metadata": {},
   "source": [
    "<img src=\"Supportive_Files/log9.png\">"
   ]
  },
  {
   "cell_type": "markdown",
   "metadata": {},
   "source": [
    "### Write a program to define and use custom logger with File Handler and Console Handler."
   ]
  },
  {
   "cell_type": "code",
   "execution_count": 1,
   "metadata": {},
   "outputs": [
    {
     "name": "stderr",
     "output_type": "stream",
     "text": [
      "04/05/2021 06:53:43 AM:CRITICAL:demologger:It is a critical message\n",
      "04/05/2021 06:53:43 AM:ERROR:demologger:It is error message\n",
      "04/05/2021 06:53:43 AM:WARNING:demologger:It is warning message\n",
      "04/05/2021 06:53:43 AM:INFO:demologger:It is info message\n",
      "04/05/2021 06:53:43 AM:DEBUG:demologger:It is debug message\n"
     ]
    }
   ],
   "source": [
    "# we can use both fileHandler and ConsoleHandler with cutom logger, which is not possible with root logger.\n",
    "\n",
    "import logging\n",
    "logger = logging.getLogger('demologger')\n",
    "logger.setLevel(logging.DEBUG)\n",
    "\n",
    "consoleHandler=logging.StreamHandler()\n",
    "fileHandler=logging.FileHandler(\"Supportive_Files/custtest1.log\",mode='w')\n",
    "\n",
    "formatter=logging.Formatter('%(asctime)s:%(levelname)s:%(name)s:%(message)s',\n",
    "                            datefmt='%d/%m/%Y %I:%M:%S %p')\n",
    "\n",
    "consoleHandler.setFormatter(formatter)\n",
    "fileHandler.setFormatter(formatter)\n",
    "\n",
    "logger.addHandler(consoleHandler)\n",
    "logger.addHandler(fileHandler)\n",
    "\n",
    "logger.critical(\"It is a critical message\")\n",
    "logger.error(\"It is error message\")\n",
    "logger.warning(\"It is warning message\")\n",
    "logger.info(\"It is info message\")\n",
    "logger.debug(\"It is debug message\")\n"
   ]
  },
  {
   "cell_type": "markdown",
   "metadata": {},
   "source": [
    "The above the output displayed on console as we have used streamHandler()<br><br>\n",
    "The Below is output stored in the log file named **cuttest1.log** since we have defined **FileHandler()**.\n",
    "<img src=\"Supportive_Files/log10.png\">"
   ]
  },
  {
   "cell_type": "code",
   "execution_count": 1,
   "metadata": {},
   "outputs": [
    {
     "name": "stderr",
     "output_type": "stream",
     "text": [
      "04/05/2021 07:03:15 AM:CRITICAL:demologger:It is a critical message\n",
      "04/05/2021 07:03:15 AM:ERROR:demologger:It is error message\n"
     ]
    }
   ],
   "source": [
    "# we can set different levels for these logger to display in console and logfile\n",
    "\n",
    "import logging\n",
    "logger = logging.getLogger('demologger')\n",
    "logger.setLevel(logging.DEBUG)\n",
    "\n",
    "consoleHandler=logging.StreamHandler()\n",
    "consoleHandler.setLevel(logging.ERROR) #i need only ERROR and CRITICAL msgs to be displayed on console. \n",
    "fileHandler=logging.FileHandler(\"Supportive_Files/custtest1.log\",mode='w')\n",
    "\n",
    "formatter=logging.Formatter('%(asctime)s:%(levelname)s:%(name)s:%(message)s',\n",
    "                            datefmt='%d/%m/%Y %I:%M:%S %p')\n",
    "\n",
    "consoleHandler.setFormatter(formatter)\n",
    "fileHandler.setFormatter(formatter)\n",
    "\n",
    "logger.addHandler(consoleHandler)\n",
    "logger.addHandler(fileHandler)\n",
    "\n",
    "logger.critical(\"It is a critical message\")\n",
    "logger.error(\"It is error message\")\n",
    "logger.warning(\"It is warning message\")\n",
    "logger.info(\"It is info message\")\n",
    "logger.debug(\"It is debug message\")\n"
   ]
  },
  {
   "cell_type": "markdown",
   "metadata": {},
   "source": [
    "FileHandler output will not change, only console output are limited to Critical and Error<br>\n",
    "<img src=\"Supportive_Files/log10.png\">"
   ]
  },
  {
   "cell_type": "code",
   "execution_count": 1,
   "metadata": {},
   "outputs": [
    {
     "name": "stderr",
     "output_type": "stream",
     "text": [
      "CRITICAL:It is a critical message\n",
      "ERROR:It is error message\n"
     ]
    }
   ],
   "source": [
    "# we can set different formats for Handlers to display in console and logfile\n",
    "\n",
    "import logging\n",
    "logger = logging.getLogger('demologger')\n",
    "logger.setLevel(logging.DEBUG)\n",
    "\n",
    "consoleHandler=logging.StreamHandler()\n",
    "consoleHandler.setLevel(logging.ERROR) #i need only ERROR and CRITICAL msgs to be displayed on console. \n",
    "fileHandler=logging.FileHandler(\"Supportive_Files/custtest1.log\",mode='w')\n",
    "\n",
    "formatter=logging.Formatter('%(asctime)s:%(levelname)s:%(name)s:%(message)s',\n",
    "                            datefmt='%d/%m/%Y %I:%M:%S %p')\n",
    "formatter1=logging.Formatter('%(levelname)s:%(message)s')\n",
    "\n",
    "consoleHandler.setFormatter(formatter1)\n",
    "fileHandler.setFormatter(formatter)\n",
    "\n",
    "logger.addHandler(consoleHandler)\n",
    "logger.addHandler(fileHandler)\n",
    "\n",
    "logger.critical(\"It is a critical message\")\n",
    "logger.error(\"It is error message\")\n",
    "logger.warning(\"It is warning message\")\n",
    "logger.info(\"It is info message\")\n",
    "logger.debug(\"It is debug message\")"
   ]
  },
  {
   "cell_type": "markdown",
   "metadata": {},
   "source": [
    "FileHandler output format will not change from previous, only console output format id changed as above.<br>\n",
    "<img src=\"Supportive_Files/log10.png\">"
   ]
  },
  {
   "cell_type": "markdown",
   "metadata": {},
   "source": [
    "### Write a program to define and use custom logger with different modules and with log files."
   ]
  },
  {
   "cell_type": "raw",
   "metadata": {},
   "source": [
    "#### This is the code in the student1.py module which will be imported.\n",
    "\n",
    "import logging\n",
    "logger = logging.getLogger('Studentlogger')\n",
    "logger.setLevel(logging.DEBUG)\n",
    "\n",
    "\n",
    "fileHandler=logging.FileHandler(\"Supportive_Files/Student1.log\",mode='w')\n",
    "\n",
    "formatter=logging.Formatter('%(asctime)s:%(levelname)s:%(name)s:%(message)s',\n",
    "                            datefmt='%d/%m/%Y %I:%M:%S %p')\n",
    "\n",
    "fileHandler.setFormatter(formatter)\n",
    "\n",
    "logger.addHandler(fileHandler)\n",
    "\n",
    "logger.critical(\"It is a critical message\")\n",
    "logger.error(\"It is error message\")\n",
    "logger.warning(\"It is warning message\")\n",
    "logger.info(\"It is info message\")\n",
    "logger.debug(\"It is debug message\")"
   ]
  },
  {
   "cell_type": "code",
   "execution_count": 1,
   "metadata": {},
   "outputs": [],
   "source": [
    "import logging\n",
    "import student1\n",
    "\n",
    "logger = logging.getLogger('testlogger')\n",
    "logger.setLevel(logging.DEBUG)\n",
    "\n",
    "\n",
    "fileHandler=logging.FileHandler(\"Supportive_Files/Test1.log\",mode='w')\n",
    "\n",
    "formatter=logging.Formatter('%(asctime)s:%(levelname)s:%(name)s:%(message)s',\n",
    "                            datefmt='%d/%m/%Y %I:%M:%S %p')\n",
    "\n",
    "\n",
    "fileHandler.setFormatter(formatter)\n",
    "\n",
    "logger.addHandler(fileHandler)\n",
    "\n",
    "logger.critical(\"It is a critical message\")\n",
    "logger.error(\"It is error message\")\n",
    "logger.warning(\"It is warning message\")\n",
    "logger.info(\"It is info message\")\n",
    "logger.debug(\"It is debug message\")"
   ]
  },
  {
   "cell_type": "markdown",
   "metadata": {},
   "source": [
    "\n",
    "This is the output created by the Test module in Test1.log. ALL 5 msgs will be displayed.\n",
    "<img src=\"Supportive_Files/log11.png\"><br>\n",
    "This is the output created by the Student module in Student1.log. Since Level set to WARNING, only 3 messages will be displayed like below.\n",
    "<img src=\"Supportive_Files/log12.png\"><br><br>\n",
    "**Note:** In the above program we are maintaining different log files for different modules, which is not possible by root logger."
   ]
  },
  {
   "cell_type": "markdown",
   "metadata": {},
   "source": [
    "## Importance of Inspect Module"
   ]
  },
  {
   "cell_type": "raw",
   "metadata": {},
   "source": [
    "####### demo.py module will be imported later\n",
    "\n",
    "import inspect\n",
    "def getInfo():\n",
    "    print(inspect.stack()[1])\n",
    "    print()\n",
    "    print()\n",
    "    print(\"Caller Module: \",inspect.stack()[1][1])\n",
    "    print(\"Caller Function Name: \",inspect.stack()[1][3])"
   ]
  },
  {
   "cell_type": "code",
   "execution_count": 1,
   "metadata": {},
   "outputs": [
    {
     "name": "stdout",
     "output_type": "stream",
     "text": [
      "FrameInfo(frame=<frame at 0x00000213626F5040, file '<ipython-input-1-7bbae16e5eee>', line 4, code f1>, filename='<ipython-input-1-7bbae16e5eee>', lineno=4, function='f1', code_context=['    getInfo()\\n'], index=0)\n",
      "\n",
      "\n",
      "Caller Module:  <ipython-input-1-7bbae16e5eee>\n",
      "Caller Function Name:  f1\n"
     ]
    }
   ],
   "source": [
    "from demo import getInfo\n",
    "\n",
    "def f1():\n",
    "    getInfo()\n",
    "    \n",
    "f1()"
   ]
  },
  {
   "cell_type": "markdown",
   "metadata": {},
   "source": [
    "From where he request is coming or from which function the call is coming or from which module the call is coming. So, to get the complete caller or receiver information inspect module will be very helpful."
   ]
  },
  {
   "cell_type": "markdown",
   "metadata": {},
   "source": [
    "## Creation of generic logger and usage"
   ]
  },
  {
   "cell_type": "raw",
   "metadata": {},
   "source": [
    "## This is the code written in custom_logger.py file which will be imported later.\n",
    "\n",
    "import inspect\n",
    "import logging\n",
    "\n",
    "def get_custom_logger(level):\n",
    "    function_name = inspect.stack()[1][3]\n",
    "    logger_name = function_name+\" logger\"\n",
    "    logger = logging.getLogger(logger_name)\n",
    "    logger.setLevel(level)\n",
    "    \n",
    "    fileHandler=logging.FileHandler(\"Custlog.log\",mode='a')\n",
    "    fileHandler.setLevel(level)\n",
    "    \n",
    "    formatter=logging.Formatter('%(asctime)s:%(levelname)s:%(name)s:%(message)s',datefmt='%d/%m/%Y %I:%M:%S %p')\n",
    "    fileHandler.setFormatter(formatter)\n",
    "    logger.addHandler(fileHandler)\n",
    "    return logger"
   ]
  },
  {
   "cell_type": "code",
   "execution_count": 1,
   "metadata": {},
   "outputs": [],
   "source": [
    "# Test Module\n",
    "\n",
    "from cutom_logger import get_custom_logger\n",
    "import logging\n",
    "\n",
    "def logtest():\n",
    "    logger = get_custom_logger(logging.DEBUG)\n",
    "    logger.critical(\"It is a critical message from Test Module\")\n",
    "    logger.error(\"It is error message from Test Module\")\n",
    "    logger.warning(\"It is warning message from Test Module\")\n",
    "    logger.info(\"It is info message from Test Module\")\n",
    "    logger.debug(\"It is debug message from Test Module\")\n",
    "    \n",
    "logtest()"
   ]
  },
  {
   "cell_type": "markdown",
   "metadata": {},
   "source": [
    " Below is the ouput for the generic logger, where logtest is the function name. We can import cutom logger module we defined and can be used as many times as required for various test modules like above logtest with respective log messages.<br><br> We can define our own logger level in get_customer_logger() as required. \n",
    "<img src=\"Supportive_Files/log13.png\">"
   ]
  },
  {
   "cell_type": "code",
   "execution_count": 3,
   "metadata": {},
   "outputs": [],
   "source": [
    "# Another Example of using Genric Custom logger which is already defined.\n",
    "\n",
    "import logging\n",
    "from cutom_logger import get_custom_logger\n",
    "\n",
    "def f1():\n",
    "    logger=get_custom_logger(logging.DEBUG)\n",
    "    logger.critical(\"It is a critical message from f1\")\n",
    "    logger.error(\"It is error message from f1\")\n",
    "    logger.warning(\"It is warning message from f1\")\n",
    "    logger.info(\"It is info message from f1\")\n",
    "    logger.debug(\"It is debug message from f1\")\n",
    "\n",
    "def f2():\n",
    "    logger=get_custom_logger(logging.WARNING)\n",
    "    logger.critical(\"It is a critical message from f2\")\n",
    "    logger.error(\"It is error message from f2\")\n",
    "    logger.warning(\"It is warning message from f2\")\n",
    "    logger.info(\"It is info message from f2\")\n",
    "    logger.debug(\"It is debug message from f2\")\n",
    "    \n",
    "def f3():\n",
    "    logger=get_custom_logger(logging.INFO)\n",
    "    logger.critical(\"It is a critical message from f3\")\n",
    "    logger.error(\"It is error message from f3\")\n",
    "    logger.warning(\"It is warning message from f3\")\n",
    "    logger.info(\"It is info message from f3\")\n",
    "    logger.debug(\"It is debug message from f3\")\n",
    "    \n",
    "f1()\n",
    "f2()\n",
    "f3()"
   ]
  },
  {
   "cell_type": "markdown",
   "metadata": {},
   "source": [
    "If we observe, we have reused the generic custom defined logger for f1(), f2(), f3() with respective logging levels. If Generic Logger was not defined, we have write the individual code for f1(), f2(), f3() seperately. Because we have defined once, we can use it as many times as we want with required log level as parameter to get_customer_logger.<br><br> The output is as below for the above code<br><br>\n",
    "<img src=\"Supportive_Files/log14.jpg\">"
   ]
  },
  {
   "cell_type": "markdown",
   "metadata": {},
   "source": [
    "### How to create seperate log file based on caller dynamically"
   ]
  },
  {
   "cell_type": "raw",
   "metadata": {},
   "source": [
    "# we need to write code to get the seperate log files for f1(), f2(), f3() dynamically.\n",
    "\n",
    "\n",
    "## This is the code written in custom_logger1.py file which will be imported later.\n",
    "\n",
    "import inspect\n",
    "import logging\n",
    "\n",
    "def get_custom_logger(level):\n",
    "    function_name = inspect.stack()[1][3]\n",
    "    logger_name = function_name+\" logger\"\n",
    "    logger = logging.getLogger(logger_name)\n",
    "    logger.setLevel(level)\n",
    "    \n",
    "    fileHandler=logging.FileHandler(\"{}.log\".format(function_name),mode='a')\n",
    "    fileHandler.setLevel(level)\n",
    "    \n",
    "    formatter=logging.Formatter('%(asctime)s:%(levelname)s:%(name)s:%(message)s',datefmt='%d/%m/%Y %I:%M:%S %p')\n",
    "    fileHandler.setFormatter(formatter)\n",
    "    logger.addHandler(fileHandler)\n",
    "    return logger"
   ]
  },
  {
   "cell_type": "code",
   "execution_count": 5,
   "metadata": {},
   "outputs": [],
   "source": [
    "import logging\n",
    "from custom_logger1 import get_custom_logger\n",
    "\n",
    "def f1(): # This output will be written to f1.log\n",
    "    logger=get_custom_logger(logging.DEBUG)\n",
    "    logger.critical(\"It is a critical message from f1\")\n",
    "    logger.error(\"It is error message from f1\")\n",
    "    logger.warning(\"It is warning message from f1\")\n",
    "    logger.info(\"It is info message from f1\")\n",
    "    logger.debug(\"It is debug message from f1\")\n",
    "\n",
    "def f2(): # This output will be written to f2.log\n",
    "    logger=get_custom_logger(logging.WARNING)\n",
    "    logger.critical(\"It is a critical message from f2\")\n",
    "    logger.error(\"It is error message from f2\")\n",
    "    logger.warning(\"It is warning message from f2\")\n",
    "    logger.info(\"It is info message from f2\")\n",
    "    logger.debug(\"It is debug message from f2\")\n",
    "    \n",
    "def f3(): # This output will be written to f3.log\n",
    "    logger=get_custom_logger(logging.INFO)\n",
    "    logger.critical(\"It is a critical message from f3\")\n",
    "    logger.error(\"It is error message from f3\")\n",
    "    logger.warning(\"It is warning message from f3\")\n",
    "    logger.info(\"It is info message from f3\")\n",
    "    logger.debug(\"It is debug message from f3\")\n",
    "    \n",
    "f1()\n",
    "f2()\n",
    "f3()"
   ]
  },
  {
   "cell_type": "markdown",
   "metadata": {},
   "source": [
    "If we observe in image, all the log files for f1.log, f2.log, f3.log are created for f1(), f2(), f3() functions seperately at one go with the help of updated generic code as above.<br><br>\n",
    "\n",
    "<img src=\"Supportive_Files/log15.jpg\">\n",
    "<br>\n",
    "f1.log output file is below. Debug level msgs will be displayed<br><br>\n",
    "<img src=\"Supportive_Files/f1log.png\">\n",
    "f2.log output file is below. Warning level msgs will displayed<br><br>\n",
    "<img src=\"Supportive_Files/f2log.png\">\n",
    "f3.log output file is below. Info level msgs will be displayed<br><br>\n",
    "<img src=\"Supportive_Files/f3log.png\">"
   ]
  },
  {
   "cell_type": "markdown",
   "metadata": {},
   "source": [
    "### Need of separating logger configurations into a file or dict or JSON or YAML? \n",
    "Instead of hard coding logging configurations inside our application, we can separate into into a file or dict or JSON or YAML.<br><br>\n",
    "**Advantages:**<br>\n",
    "1. Modifications will become very easy. <br>\n",
    "2. We can reuse same configurations in different modules.<br>\n",
    "3. Length of the code will be reduced and readability will be improved.<br>"
   ]
  },
  {
   "cell_type": "markdown",
   "metadata": {},
   "source": [
    "### Demo Program for Logger configurations into a separate config file\n",
    "\n",
    "You can configure logging as shown above using the module and class functions or by creating a config file or a dictionary and loading it using fileConfig() or dictConfig() respectively. These are useful in case you want to change your logging configuration in a running application.<br><br>\n",
    "\n",
    "Here’s an example file configuration:"
   ]
  },
  {
   "cell_type": "raw",
   "metadata": {},
   "source": [
    "# Configuration for fileHandler saved in filehandler_logging_config.init.py\n",
    "\n",
    "\n",
    "[loggers]\n",
    "keys=root,demologger\n",
    "\n",
    "[handlers]\n",
    "keys=fileHandler\n",
    "\n",
    "[formatters]\n",
    "keys=sampleFormatter\n",
    "\n",
    "[logger_root]\n",
    "level=DEBUG\n",
    "handlers=fileHandler\n",
    "\n",
    "[logger_demologger]\n",
    "level=DEBUG\n",
    "handlers=fileHandler\n",
    "qualname=demoLogger\n",
    "\n",
    "[handler_fileHandler]\n",
    "class=FileHandler\n",
    "level=DEBUG\n",
    "formatter=sampleFormatter\n",
    "args=(\"Supportive_Files/test123.log\",'w')\n",
    "\n",
    "[formatter_sampleFormatter]\n",
    "format = %(asctime)s:%(name)s:%(levelname)s:%(message)s\n",
    "datefmt = %d/%m/%Y', '%I:%M:%S %p"
   ]
  },
  {
   "cell_type": "raw",
   "metadata": {},
   "source": [
    "# Configuration for consoleHandler  saved in consolehandler_logging_config.init.py\n",
    "\n",
    "[loggers]\n",
    "keys=root,demologger\n",
    "\n",
    "[handlers]\n",
    "keys=consoleHandler\n",
    "\n",
    "[formatters]\n",
    "keys=sampleFormatter\n",
    "\n",
    "[logger_root]\n",
    "level=DEBUG\n",
    "handlers=consoleHandler\n",
    "\n",
    "[logger_demologger]\n",
    "level=DEBUG\n",
    "handlers=consoleHandler\n",
    "qualname=demoLogger\n",
    "\n",
    "[handler_consoleHandler]\n",
    "class=StreamHandler\n",
    "level=DEBUG\n",
    "formatter=sampleFormatter\n",
    "args=(sys.stdout,)\n",
    "\n",
    "[formatter_sampleFormatter]\n",
    "format=%(asctime)s:%(name)s:%(levelname)s:%(message)s\n",
    "datefmt=%d/%m/%Y %I:%M:%S %p"
   ]
  },
  {
   "cell_type": "code",
   "execution_count": 1,
   "metadata": {},
   "outputs": [],
   "source": [
    "#Test module\n",
    "import logging\n",
    "import logging.config\n",
    "\n",
    "logging.config.fileConfig(\"filehandler_logging_config.py\") # To load the Configurations available in the config, we need to use fileConfig. \n",
    "logger=logging.getLogger('demologger')\n",
    "logger.critical(\"It is a critical message\")\n",
    "logger.error(\"It is error message\")\n",
    "logger.warning(\"It is warning message\")\n",
    "logger.info(\"It is info message\")\n",
    "logger.debug(\"It is debug message\")"
   ]
  },
  {
   "cell_type": "markdown",
   "metadata": {},
   "source": [
    "All the configuration of the filehandler_logging_config.py will be loaded to test application through fileConfig and the output will be saved to test123.log as mentioned in configuration file. The ouput for fileHandler is as follows:<br><br>\n",
    "<img src=\"Supportive_Files/filehandlerconfig.png\">"
   ]
  },
  {
   "cell_type": "code",
   "execution_count": 1,
   "metadata": {},
   "outputs": [
    {
     "name": "stdout",
     "output_type": "stream",
     "text": [
      "d/05/2021 06:49:45 AM:demologger:CRITICAL:It is a critical message\n",
      "d/05/2021 06:49:45 AM:demologger:ERROR:It is error message\n",
      "d/05/2021 06:49:45 AM:demologger:WARNING:It is warning message\n",
      "d/05/2021 06:49:45 AM:demologger:INFO:It is info message\n",
      "d/05/2021 06:49:45 AM:demologger:DEBUG:It is debug message\n"
     ]
    }
   ],
   "source": [
    "#Test module\n",
    "import logging\n",
    "import logging.config\n",
    "\n",
    "logging.config.fileConfig(\"consolehandler_logging_config.py\") # To load the Configurations available in the config, we need to use fileConfig. \n",
    "logger=logging.getLogger('demologger')\n",
    "logger.critical(\"It is a critical message\")\n",
    "logger.error(\"It is error message\")\n",
    "logger.warning(\"It is warning message\")\n",
    "logger.info(\"It is info message\")\n",
    "logger.debug(\"It is debug message\")"
   ]
  },
  {
   "cell_type": "markdown",
   "metadata": {},
   "source": [
    "In the above code configurations loaded from consolehandler_logging_config.py file through fileConfig onto the Test module Application. The output is displayed in the console itself as above."
   ]
  },
  {
   "cell_type": "markdown",
   "metadata": {},
   "source": [
    "**Note:** We don't need to touch the test application for changing the configuration, we can change the configuration in config files itself for example i want to print the msgs till WARNING only, then we have to replace DEBUG with WARNING, automatically changes in config file will reflect in applcation. try to change the the level from DEBUG to WARNING in fileHandler ot consoleHandler and see the output. "
   ]
  },
  {
   "cell_type": "code",
   "execution_count": 2,
   "metadata": {},
   "outputs": [
    {
     "name": "stderr",
     "output_type": "stream",
     "text": [
      "06/05/2021 07:13:33 AM:root:CRITICAL:It is a critical message\n",
      "06/05/2021 07:13:33 AM:root:ERROR:It is error message\n",
      "06/05/2021 07:13:33 AM:root:WARNING:It is warning message\n",
      "06/05/2021 07:13:33 AM:root:INFO:It is info message\n",
      "06/05/2021 07:13:33 AM:root:DEBUG:It is debug message\n"
     ]
    }
   ],
   "source": [
    "# Logger configurations into a dictionary\n",
    "import logging\n",
    "from logging.config import dictConfig\n",
    "\n",
    "logging_config = dict(version=1,\n",
    "                     formatters={\n",
    "                         'f': {'format':\n",
    "                                       '%(asctime)s:%(name)s:%(levelname)s:%(message)s',\n",
    "                                       'datefmt':'%d/%m/%Y %I:%M:%S %p'}\n",
    "                                },\n",
    "                      handlers={\n",
    "                          'h':{'class':'logging.StreamHandler',\n",
    "                              'formatter':'f',\n",
    "                              'level':logging.DEBUG}\n",
    "                      },\n",
    "                      root={\n",
    "                          'handlers':['h'],\n",
    "                          'level':logging.DEBUG,\n",
    "                      },\n",
    "                     )\n",
    "\n",
    "dictConfig(logging_config)\n",
    "\n",
    "logger=logging.getLogger()\n",
    "logger.critical(\"It is a critical message\")\n",
    "logger.error(\"It is error message\")\n",
    "logger.warning(\"It is warning message\")\n",
    "logger.info(\"It is info message\")\n",
    "logger.debug(\"It is debug message\")"
   ]
  },
  {
   "cell_type": "markdown",
   "metadata": {},
   "source": [
    "The above the code for writing logger configurations into a dictionary. we need to use dictConfig() to load the configuration written in dictionary. Since the above code is for consoleHandler, output is displayed in console as above. This approach is not used regularly, so just to aware we can learn it.  "
   ]
  },
  {
   "cell_type": "markdown",
   "metadata": {},
   "source": [
    "This is all about the Python Logging, Hope you got some understanding of maintaining log files for reviewing the code and fixing the errors. <br><br>\n",
    "\n",
    "# ========================= THE END ========================= "
   ]
  }
 ],
 "metadata": {
  "kernelspec": {
   "display_name": "Python 3",
   "language": "python",
   "name": "python3"
  },
  "language_info": {
   "codemirror_mode": {
    "name": "ipython",
    "version": 3
   },
   "file_extension": ".py",
   "mimetype": "text/x-python",
   "name": "python",
   "nbconvert_exporter": "python",
   "pygments_lexer": "ipython3",
   "version": "3.8.3"
  }
 },
 "nbformat": 4,
 "nbformat_minor": 4
}
