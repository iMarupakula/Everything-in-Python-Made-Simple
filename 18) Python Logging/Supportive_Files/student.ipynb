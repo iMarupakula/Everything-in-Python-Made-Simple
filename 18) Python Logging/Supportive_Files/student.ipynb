{
 "cells": [
  {
   "cell_type": "code",
   "execution_count": null,
   "metadata": {},
   "outputs": [],
   "source": [
    "import logging\n",
    "\n",
    "logging.basicConfig()\n",
    "logging.critical(\"This is critical message\") # This will execute on console\n",
    "logging.error(\"This is error messagae\") # This will execute on console\n",
    "logging.warning(\"This is warning message\") # This will execute on console\n",
    "logging.info(\"This is info message\")  \n",
    "logging.debug(\"This is debug message\")"
   ]
  }
 ],
 "metadata": {
  "kernelspec": {
   "display_name": "Python 3",
   "language": "python",
   "name": "python3"
  },
  "language_info": {
   "codemirror_mode": {
    "name": "ipython",
    "version": 3
   },
   "file_extension": ".py",
   "mimetype": "text/x-python",
   "name": "python",
   "nbconvert_exporter": "python",
   "pygments_lexer": "ipython3",
   "version": "3.8.3"
  }
 },
 "nbformat": 4,
 "nbformat_minor": 4
}
