{
 "cells": [
  {
   "cell_type": "markdown",
   "metadata": {},
   "source": [
    " - If you want to represent a group of unique elements as a single entity where order is not important, then We should choose **Set** Data Structure<br><br>\n",
    "**Properties:**<br>\n",
    "> - Duplicates are not allowed.\n",
    "> - Insertion Order is not Preserved.\n",
    "> - indexing and slicing concepts not applicable.\n",
    "> - objects will be represented with comma separated values with in Curly Brackets **\"{ }\"**. Example: s={10,20,30}\n",
    "> - Heterogenous Objects are allowed i.e different types of objects are allowed.\n",
    "> - Set is Mutable i.e We can Add or Remove elements from the set.\n",
    "> - Mathematical operations like **Union, Intersection and Difference** can be done.\n",
    " "
   ]
  },
  {
   "cell_type": "markdown",
   "metadata": {},
   "source": [
    "**Note:** Empty Curly Brackets i.e s={ } by default considered as dict type.<br><br>\n",
    "For Example:"
   ]
  },
  {
   "cell_type": "code",
   "execution_count": 1,
   "metadata": {},
   "outputs": [
    {
     "data": {
      "text/plain": [
       "dict"
      ]
     },
     "execution_count": 1,
     "metadata": {},
     "output_type": "execute_result"
    }
   ],
   "source": [
    "s={}\n",
    "type(s)"
   ]
  },
  {
   "cell_type": "markdown",
   "metadata": {},
   "source": [
    " - Among Set and Dict, Dict is the most commonly used data type, hence given the first priority as dict for the empty curly brackets."
   ]
  },
  {
   "cell_type": "markdown",
   "metadata": {},
   "source": [
    "We can create the empty set using **set()** function as follows:"
   ]
  },
  {
   "cell_type": "code",
   "execution_count": 5,
   "metadata": {},
   "outputs": [
    {
     "name": "stdout",
     "output_type": "stream",
     "text": [
      "<class 'set'>\n",
      "{10, 'Z', 20.5}\n"
     ]
    }
   ],
   "source": [
    "s=set()\n",
    "print(type(s))\n",
    "s.add(10)\n",
    "s.add('Z')\n",
    "s.add(20.5)\n",
    "s.add(10) # This 10 will not be added, since duplicates are not allowed in set.\n",
    "print(s)"
   ]
  },
  {
   "cell_type": "code",
   "execution_count": 6,
   "metadata": {},
   "outputs": [
    {
     "ename": "TypeError",
     "evalue": "'set' object is not subscriptable",
     "output_type": "error",
     "traceback": [
      "\u001b[1;31m---------------------------------------------------------------------------\u001b[0m",
      "\u001b[1;31mTypeError\u001b[0m                                 Traceback (most recent call last)",
      "\u001b[1;32m<ipython-input-6-5605e14cbe49>\u001b[0m in \u001b[0;36m<module>\u001b[1;34m\u001b[0m\n\u001b[1;32m----> 1\u001b[1;33m \u001b[0mprint\u001b[0m\u001b[1;33m(\u001b[0m\u001b[0ms\u001b[0m\u001b[1;33m[\u001b[0m\u001b[1;36m0\u001b[0m\u001b[1;33m]\u001b[0m\u001b[1;33m)\u001b[0m\u001b[1;33m\u001b[0m\u001b[1;33m\u001b[0m\u001b[0m\n\u001b[0m",
      "\u001b[1;31mTypeError\u001b[0m: 'set' object is not subscriptable"
     ]
    }
   ],
   "source": [
    "print(s[0]) # Indexing Not Applicable for the Set"
   ]
  },
  {
   "cell_type": "code",
   "execution_count": 7,
   "metadata": {},
   "outputs": [
    {
     "ename": "TypeError",
     "evalue": "'set' object is not subscriptable",
     "output_type": "error",
     "traceback": [
      "\u001b[1;31m---------------------------------------------------------------------------\u001b[0m",
      "\u001b[1;31mTypeError\u001b[0m                                 Traceback (most recent call last)",
      "\u001b[1;32m<ipython-input-7-71fa713a6637>\u001b[0m in \u001b[0;36m<module>\u001b[1;34m\u001b[0m\n\u001b[1;32m----> 1\u001b[1;33m \u001b[0mprint\u001b[0m\u001b[1;33m(\u001b[0m\u001b[0ms\u001b[0m\u001b[1;33m[\u001b[0m\u001b[1;36m1\u001b[0m\u001b[1;33m:\u001b[0m\u001b[1;36m2\u001b[0m\u001b[1;33m]\u001b[0m\u001b[1;33m)\u001b[0m\u001b[1;33m\u001b[0m\u001b[1;33m\u001b[0m\u001b[0m\n\u001b[0m",
      "\u001b[1;31mTypeError\u001b[0m: 'set' object is not subscriptable"
     ]
    }
   ],
   "source": [
    "print(s[1:2]) # Slicing not Applicable for the Set"
   ]
  },
  {
   "cell_type": "markdown",
   "metadata": {},
   "source": [
    "**Differences Between List and Set**"
   ]
  },
  {
   "cell_type": "markdown",
   "metadata": {},
   "source": [
    "**List:**<br>\n",
    "> 1) Duplicates are Allowed.<br>\n",
    "> 2) Insertion Order is Preserved<br>\n",
    "> 3) List is indicated with Square Brackets i.e \"[ ]\"<br>\n",
    "> 4) Indexing and Slicing Concepts are Applicable"
   ]
  },
  {
   "cell_type": "markdown",
   "metadata": {},
   "source": [
    "**Set:**<br>\n",
    "> 1) Duplicates are Not Allowed.<br>\n",
    "> 2) Insertion Order is Not Preserved<br>\n",
    "> 3) Set is indicated with Curly Brackets i.e. \"{ }\"<br>\n",
    "> 4) Indexing and Slicing Concepts are Not Applicable"
   ]
  },
  {
   "cell_type": "markdown",
   "metadata": {},
   "source": [
    "# Creation of Set Object"
   ]
  },
  {
   "cell_type": "markdown",
   "metadata": {},
   "source": [
    "**1) Empty Set**"
   ]
  },
  {
   "cell_type": "code",
   "execution_count": 9,
   "metadata": {},
   "outputs": [
    {
     "name": "stdout",
     "output_type": "stream",
     "text": [
      "<class 'set'>\n"
     ]
    }
   ],
   "source": [
    "# s={ } # Can't create set with empty curly braces, its considered as dict by default.\n",
    "s=set() #creating an empty set object using set() function.\n",
    "print(type(s))"
   ]
  },
  {
   "cell_type": "markdown",
   "metadata": {},
   "source": [
    "**2) If we have data already**"
   ]
  },
  {
   "cell_type": "code",
   "execution_count": 10,
   "metadata": {},
   "outputs": [
    {
     "name": "stdout",
     "output_type": "stream",
     "text": [
      "<class 'set'>\n",
      "{10, 20, 30}\n"
     ]
    }
   ],
   "source": [
    "s={10,20,30}\n",
    "print(type(s))\n",
    "print(s)"
   ]
  },
  {
   "cell_type": "markdown",
   "metadata": {},
   "source": [
    "**3) By Using Set() Function**"
   ]
  },
  {
   "cell_type": "code",
   "execution_count": 11,
   "metadata": {},
   "outputs": [
    {
     "name": "stdout",
     "output_type": "stream",
     "text": [
      "[10, 20, 30, 40]\n",
      "<class 'list'>\n",
      "{40, 10, 20, 30}\n",
      "<class 'set'>\n"
     ]
    }
   ],
   "source": [
    "s=[10,20,30,40]\n",
    "s1=set(s)\n",
    "print(s)\n",
    "print(type(s))\n",
    "print(s1)\n",
    "print(type(s1))"
   ]
  },
  {
   "cell_type": "markdown",
   "metadata": {},
   "source": [
    "**4) Using range() function**"
   ]
  },
  {
   "cell_type": "code",
   "execution_count": 13,
   "metadata": {},
   "outputs": [
    {
     "name": "stdout",
     "output_type": "stream",
     "text": [
      "{1, 71, 41, 11, 81, 51, 21, 91, 61, 31}\n",
      "<class 'set'>\n"
     ]
    }
   ],
   "source": [
    "s=set(range(1,101,10))\n",
    "print(s)\n",
    "print(type(s))"
   ]
  },
  {
   "cell_type": "markdown",
   "metadata": {},
   "source": [
    "**5) creating Set with a string**"
   ]
  },
  {
   "cell_type": "code",
   "execution_count": 16,
   "metadata": {},
   "outputs": [
    {
     "name": "stdout",
     "output_type": "stream",
     "text": [
      "{'m', 'i', 'a', 'r', 's'}\n"
     ]
    }
   ],
   "source": [
    "string=\"sairam\"\n",
    "s=set(string)\n",
    "print(s) #only one 'A' will be retured since duplicates not allowed."
   ]
  },
  {
   "cell_type": "markdown",
   "metadata": {},
   "source": [
    "**6) Creating Set with Dynamic Input**"
   ]
  },
  {
   "cell_type": "code",
   "execution_count": 17,
   "metadata": {},
   "outputs": [
    {
     "name": "stdout",
     "output_type": "stream",
     "text": [
      "Enter a set object:{10,'A',10,30,20}\n",
      "{10, 20, 'A', 30}\n",
      "<class 'set'>\n"
     ]
    }
   ],
   "source": [
    "s=eval(input(\"Enter a set object:\"))\n",
    "print(s)\n",
    "print(type(s))"
   ]
  },
  {
   "cell_type": "markdown",
   "metadata": {},
   "source": [
    "# Mathematical, Equality, Relational, Membership Operators for set"
   ]
  },
  {
   "cell_type": "code",
   "execution_count": 1,
   "metadata": {},
   "outputs": [
    {
     "ename": "TypeError",
     "evalue": "unsupported operand type(s) for +: 'set' and 'set'",
     "output_type": "error",
     "traceback": [
      "\u001b[1;31m---------------------------------------------------------------------------\u001b[0m",
      "\u001b[1;31mTypeError\u001b[0m                                 Traceback (most recent call last)",
      "\u001b[1;32m<ipython-input-1-fc342d1389f4>\u001b[0m in \u001b[0;36m<module>\u001b[1;34m\u001b[0m\n\u001b[0;32m      1\u001b[0m \u001b[0ms1\u001b[0m\u001b[1;33m=\u001b[0m\u001b[1;33m{\u001b[0m\u001b[1;36m10\u001b[0m\u001b[1;33m,\u001b[0m\u001b[1;36m20\u001b[0m\u001b[1;33m,\u001b[0m\u001b[1;36m30\u001b[0m\u001b[1;33m}\u001b[0m\u001b[1;33m\u001b[0m\u001b[1;33m\u001b[0m\u001b[0m\n\u001b[0;32m      2\u001b[0m \u001b[0ms2\u001b[0m\u001b[1;33m=\u001b[0m\u001b[1;33m{\u001b[0m\u001b[1;36m40\u001b[0m\u001b[1;33m,\u001b[0m\u001b[1;36m50\u001b[0m\u001b[1;33m,\u001b[0m\u001b[1;36m60\u001b[0m\u001b[1;33m}\u001b[0m\u001b[1;33m\u001b[0m\u001b[1;33m\u001b[0m\u001b[0m\n\u001b[1;32m----> 3\u001b[1;33m \u001b[0ms3\u001b[0m\u001b[1;33m=\u001b[0m\u001b[0ms1\u001b[0m\u001b[1;33m+\u001b[0m\u001b[0ms2\u001b[0m\u001b[1;33m\u001b[0m\u001b[1;33m\u001b[0m\u001b[0m\n\u001b[0m\u001b[0;32m      4\u001b[0m \u001b[0ms4\u001b[0m\u001b[1;33m=\u001b[0m\u001b[0ms1\u001b[0m\u001b[1;33m*\u001b[0m\u001b[0ms2\u001b[0m\u001b[1;33m\u001b[0m\u001b[1;33m\u001b[0m\u001b[0m\n",
      "\u001b[1;31mTypeError\u001b[0m: unsupported operand type(s) for +: 'set' and 'set'"
     ]
    }
   ],
   "source": [
    "s1={10,20,30}\n",
    "s2={40,50,60}\n",
    "s3=s1+s2"
   ]
  },
  {
   "cell_type": "markdown",
   "metadata": {},
   "source": [
    "**Note:** '+' Operator and '*' Operator will not work in set. "
   ]
  },
  {
   "cell_type": "code",
   "execution_count": 2,
   "metadata": {},
   "outputs": [
    {
     "ename": "TypeError",
     "evalue": "unsupported operand type(s) for *: 'set' and 'set'",
     "output_type": "error",
     "traceback": [
      "\u001b[1;31m---------------------------------------------------------------------------\u001b[0m",
      "\u001b[1;31mTypeError\u001b[0m                                 Traceback (most recent call last)",
      "\u001b[1;32m<ipython-input-2-8a814a5a70a7>\u001b[0m in \u001b[0;36m<module>\u001b[1;34m\u001b[0m\n\u001b[1;32m----> 1\u001b[1;33m \u001b[0ms4\u001b[0m\u001b[1;33m=\u001b[0m\u001b[0ms1\u001b[0m\u001b[1;33m*\u001b[0m\u001b[0ms2\u001b[0m\u001b[1;33m\u001b[0m\u001b[1;33m\u001b[0m\u001b[0m\n\u001b[0m",
      "\u001b[1;31mTypeError\u001b[0m: unsupported operand type(s) for *: 'set' and 'set'"
     ]
    }
   ],
   "source": [
    "s4=s1*s2"
   ]
  },
  {
   "cell_type": "code",
   "execution_count": 5,
   "metadata": {},
   "outputs": [
    {
     "name": "stdout",
     "output_type": "stream",
     "text": [
      "True\n",
      "False\n"
     ]
    }
   ],
   "source": [
    "# Both sets contains same number of elements with same values irrespective of the order. So Equality Operator Returns True for s1==s2\n",
    "s1={10,20,30}\n",
    "s2={30,10,20}\n",
    "print(s1==s2)\n",
    "print(s1!=s2)"
   ]
  },
  {
   "cell_type": "code",
   "execution_count": 6,
   "metadata": {},
   "outputs": [
    {
     "name": "stdout",
     "output_type": "stream",
     "text": [
      "True\n",
      "False\n",
      "True\n",
      "False\n"
     ]
    }
   ],
   "source": [
    "s1={10,20,30}\n",
    "s2={5,10,20,15,30}\n",
    "print(s1<s2)\n",
    "print(s1>s2)\n",
    "print(s1<=s2)\n",
    "print(s1>=s2)\n",
    "\n",
    "# Even tough the relational Operators are applicable, result will not be much meaningful."
   ]
  },
  {
   "cell_type": "code",
   "execution_count": 9,
   "metadata": {},
   "outputs": [
    {
     "name": "stdout",
     "output_type": "stream",
     "text": [
      "True\n",
      "False\n"
     ]
    }
   ],
   "source": [
    "s={10,20,30,40}\n",
    "print(10 in s)\n",
    "print(20 not in s)\n",
    "\n",
    "# Membership operators works perfectly well with sets."
   ]
  },
  {
   "cell_type": "markdown",
   "metadata": {},
   "source": [
    "# Important methods and functions for Set"
   ]
  },
  {
   "cell_type": "markdown",
   "metadata": {},
   "source": [
    "1) **len(set):** Returns no. of elements present in a set"
   ]
  },
  {
   "cell_type": "code",
   "execution_count": 10,
   "metadata": {},
   "outputs": [
    {
     "data": {
      "text/plain": [
       "4"
      ]
     },
     "execution_count": 10,
     "metadata": {},
     "output_type": "execute_result"
    }
   ],
   "source": [
    "s={10,20,30,40}\n",
    "len(s)"
   ]
  },
  {
   "cell_type": "markdown",
   "metadata": {},
   "source": [
    "2) **add():** If we want to add object to the set. we can use add() function. It is set specific method."
   ]
  },
  {
   "cell_type": "code",
   "execution_count": 11,
   "metadata": {},
   "outputs": [
    {
     "name": "stdout",
     "output_type": "stream",
     "text": [
      "{10, 20, 30}\n",
      "{40, 10, 20, 30}\n"
     ]
    }
   ],
   "source": [
    "s={10,20,30}\n",
    "print(s)\n",
    "s.add(40) # can't guarantee the order.\n",
    "print(s)"
   ]
  },
  {
   "cell_type": "markdown",
   "metadata": {},
   "source": [
    "3) **Update():** it is used to add multiple items to the set, We can add any number of arguments. all arguments should be iterable objects like list,tuple,set,string."
   ]
  },
  {
   "cell_type": "code",
   "execution_count": 12,
   "metadata": {},
   "outputs": [
    {
     "name": "stdout",
     "output_type": "stream",
     "text": [
      "{40, 10, 20, 30}\n"
     ]
    }
   ],
   "source": [
    "s={10,20}\n",
    "l=[30,40]\n",
    "s.update(l)\n",
    "print(s)"
   ]
  },
  {
   "cell_type": "code",
   "execution_count": 13,
   "metadata": {},
   "outputs": [
    {
     "name": "stdout",
     "output_type": "stream",
     "text": [
      "{1, 2, 3, 4, 5, 'u', 40, 'd', 10, 'r', 'a', 20, 'g', 30}\n"
     ]
    }
   ],
   "source": [
    "s.update(range(1,6),'durga')\n",
    "print(s)"
   ]
  },
  {
   "cell_type": "markdown",
   "metadata": {},
   "source": [
    "**Differences between add() and update()**"
   ]
  },
  {
   "cell_type": "markdown",
   "metadata": {},
   "source": [
    "![](add_update.png)"
   ]
  },
  {
   "cell_type": "markdown",
   "metadata": {},
   "source": [
    "1) **remove():** used to remove the specified element from the set.<br>\n",
    "Syntax:<br>\n",
    "> - **s.remove(element)**<br>\n",
    "> - Specified element will be removed.<br>\n",
    "> - if specified element is not avaialble in a set, KeyError will be raised."
   ]
  },
  {
   "cell_type": "code",
   "execution_count": 14,
   "metadata": {},
   "outputs": [
    {
     "name": "stdout",
     "output_type": "stream",
     "text": [
      "{40, 10, 20}\n"
     ]
    }
   ],
   "source": [
    "s={10,20,30,40}\n",
    "s.remove(30)\n",
    "print(s)"
   ]
  },
  {
   "cell_type": "code",
   "execution_count": 15,
   "metadata": {},
   "outputs": [
    {
     "ename": "KeyError",
     "evalue": "50",
     "output_type": "error",
     "traceback": [
      "\u001b[1;31m---------------------------------------------------------------------------\u001b[0m",
      "\u001b[1;31mKeyError\u001b[0m                                  Traceback (most recent call last)",
      "\u001b[1;32m<ipython-input-15-2cbc1bcb3a37>\u001b[0m in \u001b[0;36m<module>\u001b[1;34m\u001b[0m\n\u001b[1;32m----> 1\u001b[1;33m \u001b[0ms\u001b[0m\u001b[1;33m.\u001b[0m\u001b[0mremove\u001b[0m\u001b[1;33m(\u001b[0m\u001b[1;36m50\u001b[0m\u001b[1;33m)\u001b[0m\u001b[1;33m\u001b[0m\u001b[1;33m\u001b[0m\u001b[0m\n\u001b[0m\u001b[0;32m      2\u001b[0m \u001b[0mprint\u001b[0m\u001b[1;33m(\u001b[0m\u001b[0ms\u001b[0m\u001b[1;33m)\u001b[0m\u001b[1;33m\u001b[0m\u001b[1;33m\u001b[0m\u001b[0m\n",
      "\u001b[1;31mKeyError\u001b[0m: 50"
     ]
    }
   ],
   "source": [
    "s.remove(50)\n",
    "print(s)"
   ]
  },
  {
   "cell_type": "markdown",
   "metadata": {},
   "source": [
    "2) **discard():** If you don't want to raise an error, if element not available in list. discard() element can be used. "
   ]
  },
  {
   "cell_type": "code",
   "execution_count": 16,
   "metadata": {},
   "outputs": [
    {
     "name": "stdout",
     "output_type": "stream",
     "text": [
      "{10, 20}\n"
     ]
    }
   ],
   "source": [
    "s={10,20,30}\n",
    "s.discard(30) # 30 will be deleted from the set\n",
    "print(s)"
   ]
  },
  {
   "cell_type": "code",
   "execution_count": 18,
   "metadata": {},
   "outputs": [
    {
     "name": "stdout",
     "output_type": "stream",
     "text": [
      "{10, 20}\n"
     ]
    }
   ],
   "source": [
    "s.discard(50) #we don't get any error, it simply displays the output\n",
    "print(s)"
   ]
  },
  {
   "cell_type": "markdown",
   "metadata": {},
   "source": [
    "3) **pop():** pop will remove some random element from the set. it doesn't need any argument. "
   ]
  },
  {
   "cell_type": "code",
   "execution_count": 19,
   "metadata": {},
   "outputs": [
    {
     "name": "stdout",
     "output_type": "stream",
     "text": [
      "Before pop: {40, 10, 20, 30}\n",
      "After pop: {10, 20, 30}\n"
     ]
    }
   ],
   "source": [
    "s={10,20,30,40}\n",
    "print(\"Before pop:\",s)\n",
    "s.pop()\n",
    "print(\"After pop:\",s)"
   ]
  },
  {
   "cell_type": "code",
   "execution_count": 20,
   "metadata": {},
   "outputs": [
    {
     "data": {
      "text/plain": [
       "10"
      ]
     },
     "execution_count": 20,
     "metadata": {},
     "output_type": "execute_result"
    }
   ],
   "source": [
    "s.pop()"
   ]
  },
  {
   "cell_type": "code",
   "execution_count": 22,
   "metadata": {},
   "outputs": [
    {
     "name": "stdout",
     "output_type": "stream",
     "text": [
      "{20, 30}\n"
     ]
    }
   ],
   "source": [
    "print(s) # randomly removed 10 from the set."
   ]
  },
  {
   "cell_type": "markdown",
   "metadata": {},
   "source": [
    "**Note:** It will raise an error if used pop() on empty set"
   ]
  },
  {
   "cell_type": "markdown",
   "metadata": {},
   "source": [
    "4) **clear():** If we want to remove all the elements from the set, we should use this clear() method."
   ]
  },
  {
   "cell_type": "code",
   "execution_count": 23,
   "metadata": {},
   "outputs": [
    {
     "name": "stdout",
     "output_type": "stream",
     "text": [
      "Before Clearing:  {40, 10, 20, 30}\n",
      "After Clearing: set()\n"
     ]
    }
   ],
   "source": [
    "s={10,20,30,40}\n",
    "print(\"Before Clearing: \",s)\n",
    "s.clear()\n",
    "print(\"After Clearing:\",s)"
   ]
  },
  {
   "cell_type": "markdown",
   "metadata": {},
   "source": [
    "# Set Specific method for Mathematical Operators:"
   ]
  },
  {
   "cell_type": "markdown",
   "metadata": {},
   "source": [
    "1) **union():** It returns all elements present inside set1 and set2"
   ]
  },
  {
   "cell_type": "code",
   "execution_count": 24,
   "metadata": {},
   "outputs": [
    {
     "name": "stdout",
     "output_type": "stream",
     "text": [
      "{40, 10, 50, 20, 60, 30}\n"
     ]
    }
   ],
   "source": [
    "s1={10,20,30,40}\n",
    "s2={30,40,50,60}\n",
    "s3=s1.union(s2)\n",
    "print(s3)"
   ]
  },
  {
   "cell_type": "code",
   "execution_count": 26,
   "metadata": {},
   "outputs": [
    {
     "name": "stdout",
     "output_type": "stream",
     "text": [
      "{40, 10, 50, 20, 60, 30}\n"
     ]
    }
   ],
   "source": [
    "s4=s1|s2 # we can also use this \"|\" operator to perform union\n",
    "print(s4)"
   ]
  },
  {
   "cell_type": "markdown",
   "metadata": {},
   "source": [
    "2) **Intersection():** it returns all the common elements present inside set1 and set2"
   ]
  },
  {
   "cell_type": "code",
   "execution_count": 27,
   "metadata": {},
   "outputs": [
    {
     "name": "stdout",
     "output_type": "stream",
     "text": [
      "{40, 30}\n"
     ]
    }
   ],
   "source": [
    "s1={10,20,30,40}\n",
    "s2={30,40,50,60}\n",
    "s3=s1.intersection(s2)\n",
    "print(s3)"
   ]
  },
  {
   "cell_type": "code",
   "execution_count": 28,
   "metadata": {},
   "outputs": [
    {
     "name": "stdout",
     "output_type": "stream",
     "text": [
      "{40, 30}\n"
     ]
    }
   ],
   "source": [
    "s4=s1&s2 # we can also use this \"&\" operator to perform intersection\n",
    "print(s4)"
   ]
  },
  {
   "cell_type": "markdown",
   "metadata": {},
   "source": [
    "3) **difference():** from set1 remove elements present inside set2 i.e it will return the elements present in s1 but not in s2. "
   ]
  },
  {
   "cell_type": "code",
   "execution_count": 29,
   "metadata": {},
   "outputs": [
    {
     "name": "stdout",
     "output_type": "stream",
     "text": [
      "{10, 20}\n"
     ]
    }
   ],
   "source": [
    "s1={10,20,30,40}\n",
    "s2={30,40,50,60}\n",
    "s3=s1.difference(s2)\n",
    "print(s3)"
   ]
  },
  {
   "cell_type": "code",
   "execution_count": 30,
   "metadata": {},
   "outputs": [
    {
     "name": "stdout",
     "output_type": "stream",
     "text": [
      "{10, 20}\n"
     ]
    }
   ],
   "source": [
    "s4=s1-s2 # we can also use this \"-\" operator to perform difference\n",
    "print(s4)"
   ]
  },
  {
   "cell_type": "markdown",
   "metadata": {},
   "source": [
    "4) **symmetric_difference():** It returns elements present in set1 or set2 but not in both."
   ]
  },
  {
   "cell_type": "code",
   "execution_count": 32,
   "metadata": {},
   "outputs": [
    {
     "name": "stdout",
     "output_type": "stream",
     "text": [
      "{10, 50, 20, 60}\n"
     ]
    }
   ],
   "source": [
    "s1={10,20,30,40}\n",
    "s2={30,40,50,60}\n",
    "s3=s1.symmetric_difference(s2)\n",
    "print(s3)"
   ]
  },
  {
   "cell_type": "code",
   "execution_count": 33,
   "metadata": {},
   "outputs": [
    {
     "name": "stdout",
     "output_type": "stream",
     "text": [
      "{10, 50, 20, 60}\n"
     ]
    }
   ],
   "source": [
    "s4=s1^s2 # we can also use this \"^\" operator to perform symmetric_difference\n",
    "print(s4)"
   ]
  },
  {
   "cell_type": "markdown",
   "metadata": {},
   "source": [
    "# Aliasing and Cloning"
   ]
  },
  {
   "cell_type": "markdown",
   "metadata": {},
   "source": [
    "**Aliasing** - The process of creating duplicate reference variable is called Aliasing<br>\n",
    "> The problem with aliasing is, if we change a content of the one variable automatically that changes will be reflected to other variables also since both the variables are referencing to the same object.<br>\n",
    "\n",
    "For Example:"
   ]
  },
  {
   "cell_type": "code",
   "execution_count": 35,
   "metadata": {},
   "outputs": [
    {
     "name": "stdout",
     "output_type": "stream",
     "text": [
      "{20, 30}\n",
      "{20, 30}\n"
     ]
    }
   ],
   "source": [
    "s1={10,20,30}\n",
    "s2=s1 # Aliasing\n",
    "s1.pop()\n",
    "print(s1)\n",
    "print(s2)\n",
    "\n",
    "# The change will be reflected to both the sets"
   ]
  },
  {
   "cell_type": "markdown",
   "metadata": {},
   "source": [
    "**Cloning -** The process of creating a complete duplicate object but not duplicate reference variables is called cloning.<br>\n",
    "> We can peform cloning with two methods<br><br>1) Using Copy() Method. \n",
    "\n",
    "For Example:"
   ]
  },
  {
   "cell_type": "code",
   "execution_count": 38,
   "metadata": {},
   "outputs": [
    {
     "name": "stdout",
     "output_type": "stream",
     "text": [
      "{20, 30}\n",
      "{10, 20, 30}\n"
     ]
    }
   ],
   "source": [
    "s1={10,20,30}\n",
    "s2=s1.copy() # Cloning\n",
    "s1.pop()\n",
    "print(s1) # s1 element will be removed upon pop on s1 set.\n",
    "print(s2) # S2 set doesn't change upon pop in s1 set."
   ]
  },
  {
   "cell_type": "markdown",
   "metadata": {},
   "source": [
    "**Set Comprehension -**"
   ]
  },
  {
   "cell_type": "code",
   "execution_count": 39,
   "metadata": {},
   "outputs": [
    {
     "name": "stdout",
     "output_type": "stream",
     "text": [
      "{1, 4, 9, 16, 25}\n"
     ]
    }
   ],
   "source": [
    "s={i*i for i in range(1,6)}\n",
    "print(s)"
   ]
  },
  {
   "cell_type": "code",
   "execution_count": 41,
   "metadata": {},
   "outputs": [
    {
     "name": "stdout",
     "output_type": "stream",
     "text": [
      "{32, 2, 4, 8, 16}\n"
     ]
    }
   ],
   "source": [
    "s={2**i for i in range(1,6)}\n",
    "print(s)"
   ]
  },
  {
   "cell_type": "markdown",
   "metadata": {},
   "source": [
    "Practice Program"
   ]
  },
  {
   "cell_type": "markdown",
   "metadata": {},
   "source": [
    "**write a program to eliminate duplicates present in the list**"
   ]
  },
  {
   "cell_type": "code",
   "execution_count": 43,
   "metadata": {},
   "outputs": [
    {
     "name": "stdout",
     "output_type": "stream",
     "text": [
      "{10, 20, 30}\n",
      "[10, 20, 30]\n"
     ]
    }
   ],
   "source": [
    "#Approach 1\n",
    "l=[10,20,10,30,10,20,30]\n",
    "s=set(l)\n",
    "print(s)\n",
    "l1=list(s)\n",
    "print(l1)"
   ]
  },
  {
   "cell_type": "code",
   "execution_count": 45,
   "metadata": {},
   "outputs": [
    {
     "name": "stdout",
     "output_type": "stream",
     "text": [
      "[10, 20, 30]\n"
     ]
    }
   ],
   "source": [
    "# Approach 2\n",
    "l=[10,20,10,30,10,20,30]\n",
    "l1=[]\n",
    "for x in l:\n",
    "    if x not in l1:\n",
    "        l1.append(x)\n",
    "print(l1)        "
   ]
  },
  {
   "cell_type": "markdown",
   "metadata": {},
   "source": [
    "**write a program to print different vowels present in the given word**"
   ]
  },
  {
   "cell_type": "code",
   "execution_count": 46,
   "metadata": {},
   "outputs": [
    {
     "name": "stdout",
     "output_type": "stream",
     "text": [
      "enter any word to search for vowels:sairam\n",
      "{'a', 'i'}\n"
     ]
    }
   ],
   "source": [
    "word=input(\"enter any word to search for vowels:\")\n",
    "s=set(word)\n",
    "v=['a','e','o','i','u']\n",
    "result=s.intersection(v)\n",
    "print(result)"
   ]
  },
  {
   "cell_type": "markdown",
   "metadata": {},
   "source": [
    "# THE END"
   ]
  }
 ],
 "metadata": {
  "kernelspec": {
   "display_name": "Python 3",
   "language": "python",
   "name": "python3"
  },
  "language_info": {
   "codemirror_mode": {
    "name": "ipython",
    "version": 3
   },
   "file_extension": ".py",
   "mimetype": "text/x-python",
   "name": "python",
   "nbconvert_exporter": "python",
   "pygments_lexer": "ipython3",
   "version": "3.8.3"
  }
 },
 "nbformat": 4,
 "nbformat_minor": 4
}
