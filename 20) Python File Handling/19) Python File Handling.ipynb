{
 "cells": [
  {
   "cell_type": "markdown",
   "metadata": {},
   "source": [
    "# Python File Handling"
   ]
  },
  {
   "cell_type": "markdown",
   "metadata": {},
   "source": [
    "File Handling is very important concept for day to day coding. Whatever data we are collecting in python collections like list, tuple, dict, set etc. are temperory. Once out program execution completes, automatically all the data will be gone. <br><br>So if we want to store the data for the future purpose, python collections are not helpful. We need to look for another alternative to store the data permanently."
   ]
  },
  {
   "cell_type": "code",
   "execution_count": 1,
   "metadata": {},
   "outputs": [
    {
     "name": "stdout",
     "output_type": "stream",
     "text": [
      "Enter First Name: Sairam\n",
      "Enter Second Name: Kandukuri\n",
      "['Sairam', 'Kandukuri']\n"
     ]
    }
   ],
   "source": [
    "# Lets look at an example to justify the abooove points.\n",
    "\n",
    "l=[]\n",
    "s1=input(\"Enter First Name: \")\n",
    "s2=input(\"Enter Second Name: \")\n",
    "l.append(s1)\n",
    "l.append(s2)\n",
    "print(l)"
   ]
  },
  {
   "cell_type": "markdown",
   "metadata": {},
   "source": [
    "In the above code, i have inputed First Name as 'Sairam' and Second Name as 'Kandukuri'. Once we executed, they will be appended to the list l as above. And once the program execution is done, Python Virtual Machine will clear the all the objects stored in the heap memory. So everytime you run the code, it will ask for First Name and Second Name."
   ]
  },
  {
   "cell_type": "code",
   "execution_count": 2,
   "metadata": {},
   "outputs": [
    {
     "name": "stdout",
     "output_type": "stream",
     "text": [
      "Enter First Name: Sunny\n",
      "Enter Second Name: Leone\n",
      "['Sunny', 'Leone']\n"
     ]
    }
   ],
   "source": [
    "l=[]\n",
    "s1=input(\"Enter First Name: \")\n",
    "s2=input(\"Enter Second Name: \")\n",
    "l.append(s1)\n",
    "l.append(s2)\n",
    "print(l)"
   ]
  },
  {
   "cell_type": "markdown",
   "metadata": {},
   "source": [
    "prevously mentioned Sairam, Kandukuri were cleared by PVM and again asks for new inputs. So objects stored in list, set, dict, tuple etc are temporary. <br><br>\n",
    "For permanent storage of data, we need to look at another alternatives like<br>\n",
    "1) Files<br>\n",
    "2) Database<br>\n",
    "3) Big Data<br><br>\n",
    "\n",
    "Files Concept is best suitable for storing less amount of data.<br><br>\n",
    "- As the part of programming requirement, we have to store our data permanently for future purpose. For this requirement we should go for files.<br>\n",
    "- Files are very common permanent storage area to store our data permanently.<br><br>\n",
    "\n",
    "### Types of Files:\n",
    "There are 2 types of files<br><br>\n",
    "**1) Text Files:**<br>\n",
    "Usually we can use text files to store character data<br>\n",
    "**Eg:** abc.txt<br><br>\n",
    "**2) Binary Files:**<br>\n",
    "Usually we can use binary files to store binary data like images,video files, audio files etc..."
   ]
  },
  {
   "cell_type": "markdown",
   "metadata": {},
   "source": [
    "### Opening a File: \n",
    "- Before performing any operation (like read or write) on the file,first we have to open that file.For this we should use Python's inbuilt function **open()** <br><br>\n",
    "- But at the time of open, we have to specify mode,which represents the purpose of opening file.<br>\n",
    "&ensp;&ensp;&ensp;&ensp;&ensp;&ensp;&ensp;&ensp;&ensp;**f = open(filename, mode)**<br><br>\n",
    "\n",
    "**The allowed modes in Python are**<br><br>\n",
    "1) **r** ==> open an existing file for read operation. The file pointer is positioned at the beginning of the file. If the specified file does not exist then we will get FileNotFoundError. This is default mode.<br>&ensp;&ensp;&ensp;&ensp;&ensp;&ensp;&ensp;&ensp;&ensp;**f = open('abc.txt','r')**<br><br>\n",
    "\n",
    "2) **w** ==> open an existing file for write operation. If the file already contains some data then it will be overridden. If the specified file is not already avaialble then this mode will create that file.<br>\n",
    "&ensp;&ensp;&ensp;&ensp;&ensp;&ensp;&ensp;&ensp;&ensp;**f = open('abc.txt','w')**<br><br>\n",
    "\n",
    "3) **a** ==> open an existing file for append operation. It won't override existing data.If the specified file is not already avaialble then this mode will create a new file.<br>&ensp;&ensp;&ensp;&ensp;&ensp;&ensp;&ensp;&ensp;&ensp;**f = open('abc.txt','a')**<br><br>\n",
    "\n",
    "4) **r+** ==> To read and write data into the file. The previous data in the file will not be deleted.The file pointer is placed at the beginning of the file. While writing, old data will be over written. If the specified file doesn't exist then we will het FileNotFoundError and this mode won't create any new file.<br>&ensp;&ensp;&ensp;&ensp;&ensp;&ensp;&ensp;&ensp;&ensp;**f = open('abc.txt','r+')**<br><br>\n",
    "\n",
    "5) **w+** ==> To write and read data. It will override existing data. If the specified file is not already available then this mode will create that file.<br>&ensp;&ensp;&ensp;&ensp;&ensp;&ensp;&ensp;&ensp;&ensp;**f = open('abc.txt','w+')**<br>\n",
    "\n",
    "6) **a+** ==> To append and read data from the file. It wont override existing data.If the specified file is not already available then this mode will create that file.<br>&ensp;&ensp;&ensp;&ensp;&ensp;&ensp;&ensp;&ensp;&ensp;**f = open('abc.txt','a+')**<br><br>\n",
    "\n",
    "7) **x** ==> To open a file in exclusive creation mode for write operation. If the file already exists then we will get FileExistsError.<br>&ensp;&ensp;&ensp;&ensp;&ensp;&ensp;&ensp;&ensp;&ensp;**f = open('abc.txt','x')**<br><br>\n",
    "\n",
    "**Note:** All the above modes are applicable for text files. If the above modes suffixed with 'b' then these represents for binary files.<br><br>\n",
    "**Eg:** rb,wb,ab,r+b,w+b,a+b,xb<br><br>\n",
    "**f = open(\"abc.txt\",\"w\")**<br>\n",
    "We are opening abc.txt file for writing data."
   ]
  },
  {
   "cell_type": "markdown",
   "metadata": {},
   "source": [
    "### Closing a File: <br>\n",
    "After completing our operations on the file, it is highly recommended to close the file.<br> For this we have to use **close()** function.<br><br>\n",
    "Whenever we are closing the file, all system resources which are associated with that file will be released.<br><br>\n",
    "If many files are opened and not closed, might face performance issues.<br><br>\n",
    "**f.close()**<br><br><br>\n",
    "\n",
    "### Various Properties of File Object: \n",
    "Once we opend a file and we got file object, we can get various details related to that file by using its properties.<br>**f = open(\"abc.txt\",\"w\")**<br><br>\n",
    "- **f.name** ==> Name of opened file<br>\n",
    "- **f.mode** ==> Mode in which the file is opened<br> \n",
    "- **f.closed** ==> Returns boolean value indicates that file is closed or not <br>\n",
    "- **f.readable()** ==> Retruns boolean value indicates that whether file is readable or not. <br>\n",
    "- **f.writable()** ==> Returns boolean value indicates that whether file is writable or not.<br>"
   ]
  },
  {
   "cell_type": "code",
   "execution_count": 5,
   "metadata": {},
   "outputs": [
    {
     "name": "stdout",
     "output_type": "stream",
     "text": [
      "File Name:  Supportive_Files/abc.txt\n",
      "File Mode: r\n",
      "Is File CLosed: False\n",
      "Is File Readble: True\n",
      "Is File Writable: False\n",
      "Is File Closed: True\n"
     ]
    }
   ],
   "source": [
    "f=open('Supportive_Files/abc.txt','r')\n",
    "\n",
    "print('File Name: ',f.name)\n",
    "print('File Mode:',f.mode)\n",
    "print(\"Is File CLosed:\",f.closed)\n",
    "print(\"Is File Readble:\",f.readable())\n",
    "print(\"Is File Writable:\",f.writable())\n",
    "\n",
    "f.close()\n",
    "print(\"Is File Closed:\",f.closed)"
   ]
  },
  {
   "cell_type": "code",
   "execution_count": 6,
   "metadata": {},
   "outputs": [
    {
     "name": "stdout",
     "output_type": "stream",
     "text": [
      "File Name:  Supportive_Files/abc.txt\n",
      "File Mode: w\n",
      "Is File CLosed: False\n",
      "Is File Readble: False\n",
      "Is File Writable: True\n",
      "Is File Closed: True\n"
     ]
    }
   ],
   "source": [
    "f=open('Supportive_Files/abc.txt','w')\n",
    "\n",
    "print('File Name: ',f.name)\n",
    "print('File Mode:',f.mode)\n",
    "print(\"Is File CLosed:\",f.closed)\n",
    "print(\"Is File Readble:\",f.readable())\n",
    "print(\"Is File Writable:\",f.writable())\n",
    "\n",
    "f.close()\n",
    "print(\"Is File Closed:\",f.closed)"
   ]
  },
  {
   "cell_type": "code",
   "execution_count": 7,
   "metadata": {},
   "outputs": [
    {
     "name": "stdout",
     "output_type": "stream",
     "text": [
      "File Name:  Supportive_Files/abc.txt\n",
      "File Mode: w+\n",
      "Is File CLosed: False\n",
      "Is File Readble: True\n",
      "Is File Writable: True\n",
      "Is File Closed: True\n"
     ]
    }
   ],
   "source": [
    "f=open('Supportive_Files/abc.txt','w+')\n",
    "\n",
    "print('File Name: ',f.name)\n",
    "print('File Mode:',f.mode)\n",
    "print(\"Is File CLosed:\",f.closed)\n",
    "print(\"Is File Readble:\",f.readable())\n",
    "print(\"Is File Writable:\",f.writable())\n",
    "\n",
    "f.close()\n",
    "print(\"Is File Closed:\",f.closed)"
   ]
  },
  {
   "cell_type": "code",
   "execution_count": 8,
   "metadata": {},
   "outputs": [
    {
     "name": "stdout",
     "output_type": "stream",
     "text": [
      "File Name:  Supportive_Files/abc.txt\n",
      "File Mode: r+\n",
      "Is File CLosed: False\n",
      "Is File Readble: True\n",
      "Is File Writable: True\n",
      "Is File Closed: True\n"
     ]
    }
   ],
   "source": [
    "f=open('Supportive_Files/abc.txt','r+')\n",
    "\n",
    "print('File Name: ',f.name)\n",
    "print('File Mode:',f.mode)\n",
    "print(\"Is File CLosed:\",f.closed)\n",
    "print(\"Is File Readble:\",f.readable())\n",
    "print(\"Is File Writable:\",f.writable())\n",
    "\n",
    "f.close()\n",
    "print(\"Is File Closed:\",f.closed)"
   ]
  },
  {
   "cell_type": "code",
   "execution_count": 10,
   "metadata": {},
   "outputs": [
    {
     "name": "stdout",
     "output_type": "stream",
     "text": [
      "File Name:  Supportive_Files/abc.txt\n",
      "File Mode: a\n",
      "Is File CLosed: False\n",
      "Is File Readble: False\n",
      "Is File Writable: True\n",
      "Is File Closed: True\n"
     ]
    }
   ],
   "source": [
    "f=open('Supportive_Files/abc.txt','a')\n",
    "\n",
    "print('File Name: ',f.name)\n",
    "print('File Mode:',f.mode)\n",
    "print(\"Is File CLosed:\",f.closed)\n",
    "print(\"Is File Readble:\",f.readable())\n",
    "print(\"Is File Writable:\",f.writable())\n",
    "\n",
    "f.close()\n",
    "print(\"Is File Closed:\",f.closed)"
   ]
  },
  {
   "cell_type": "code",
   "execution_count": 11,
   "metadata": {},
   "outputs": [
    {
     "name": "stdout",
     "output_type": "stream",
     "text": [
      "File Name:  Supportive_Files/abc.txt\n",
      "File Mode: a+\n",
      "Is File CLosed: False\n",
      "Is File Readble: True\n",
      "Is File Writable: True\n",
      "Is File Closed: True\n"
     ]
    }
   ],
   "source": [
    "f=open('Supportive_Files/abc.txt','a+')\n",
    "\n",
    "print('File Name: ',f.name)\n",
    "print('File Mode:',f.mode)\n",
    "print(\"Is File CLosed:\",f.closed)\n",
    "print(\"Is File Readble:\",f.readable())\n",
    "print(\"Is File Writable:\",f.writable())\n",
    "\n",
    "f.close()\n",
    "print(\"Is File Closed:\",f.closed)"
   ]
  },
  {
   "cell_type": "code",
   "execution_count": 12,
   "metadata": {},
   "outputs": [
    {
     "ename": "FileExistsError",
     "evalue": "[Errno 17] File exists: 'Supportive_Files/abc.txt'",
     "output_type": "error",
     "traceback": [
      "\u001b[1;31m---------------------------------------------------------------------------\u001b[0m",
      "\u001b[1;31mFileExistsError\u001b[0m                           Traceback (most recent call last)",
      "\u001b[1;32m<ipython-input-12-9a0068267155>\u001b[0m in \u001b[0;36m<module>\u001b[1;34m\u001b[0m\n\u001b[1;32m----> 1\u001b[1;33m \u001b[0mf\u001b[0m\u001b[1;33m=\u001b[0m\u001b[0mopen\u001b[0m\u001b[1;33m(\u001b[0m\u001b[1;34m'Supportive_Files/abc.txt'\u001b[0m\u001b[1;33m,\u001b[0m\u001b[1;34m'x'\u001b[0m\u001b[1;33m)\u001b[0m\u001b[1;33m\u001b[0m\u001b[1;33m\u001b[0m\u001b[0m\n\u001b[0m\u001b[0;32m      2\u001b[0m \u001b[1;33m\u001b[0m\u001b[0m\n\u001b[0;32m      3\u001b[0m \u001b[0mprint\u001b[0m\u001b[1;33m(\u001b[0m\u001b[1;34m'File Name: '\u001b[0m\u001b[1;33m,\u001b[0m\u001b[0mf\u001b[0m\u001b[1;33m.\u001b[0m\u001b[0mname\u001b[0m\u001b[1;33m)\u001b[0m\u001b[1;33m\u001b[0m\u001b[1;33m\u001b[0m\u001b[0m\n\u001b[0;32m      4\u001b[0m \u001b[0mprint\u001b[0m\u001b[1;33m(\u001b[0m\u001b[1;34m'File Mode:'\u001b[0m\u001b[1;33m,\u001b[0m\u001b[0mf\u001b[0m\u001b[1;33m.\u001b[0m\u001b[0mmode\u001b[0m\u001b[1;33m)\u001b[0m\u001b[1;33m\u001b[0m\u001b[1;33m\u001b[0m\u001b[0m\n\u001b[0;32m      5\u001b[0m \u001b[0mprint\u001b[0m\u001b[1;33m(\u001b[0m\u001b[1;34m\"Is File CLosed:\"\u001b[0m\u001b[1;33m,\u001b[0m\u001b[0mf\u001b[0m\u001b[1;33m.\u001b[0m\u001b[0mclosed\u001b[0m\u001b[1;33m)\u001b[0m\u001b[1;33m\u001b[0m\u001b[1;33m\u001b[0m\u001b[0m\n",
      "\u001b[1;31mFileExistsError\u001b[0m: [Errno 17] File exists: 'Supportive_Files/abc.txt'"
     ]
    }
   ],
   "source": [
    "f=open('Supportive_Files/abc.txt','x')\n",
    "\n",
    "print('File Name: ',f.name)\n",
    "print('File Mode:',f.mode)\n",
    "print(\"Is File CLosed:\",f.closed)\n",
    "print(\"Is File Readble:\",f.readable())\n",
    "print(\"Is File Writable:\",f.writable())\n",
    "\n",
    "f.close()\n",
    "print(\"Is File Closed:\",f.closed)"
   ]
  },
  {
   "cell_type": "code",
   "execution_count": 13,
   "metadata": {},
   "outputs": [
    {
     "name": "stdout",
     "output_type": "stream",
     "text": [
      "File Name:  Supportive_Files/def.txt\n",
      "File Mode: x\n",
      "Is File CLosed: False\n",
      "Is File Readble: False\n",
      "Is File Writable: True\n",
      "Is File Closed: True\n"
     ]
    }
   ],
   "source": [
    "f=open('Supportive_Files/def.txt','x') # Created def.txt file in Supportive_Files\n",
    "\n",
    "print('File Name: ',f.name)\n",
    "print('File Mode:',f.mode)\n",
    "print(\"Is File CLosed:\",f.closed)\n",
    "print(\"Is File Readble:\",f.readable())\n",
    "print(\"Is File Writable:\",f.writable())\n",
    "\n",
    "f.close()\n",
    "print(\"Is File Closed:\",f.closed)"
   ]
  },
  {
   "cell_type": "markdown",
   "metadata": {},
   "source": [
    "## Writing Data to Text Files:<br>\n",
    "We can write character data to the text files by using the following 2 methods.<br>\n",
    "1) **write(str)**<br>\n",
    "2) **writelines(list of lines)**<br>"
   ]
  },
  {
   "cell_type": "code",
   "execution_count": 19,
   "metadata": {},
   "outputs": [
    {
     "name": "stdout",
     "output_type": "stream",
     "text": [
      "Date written to the file Successfully\n"
     ]
    }
   ],
   "source": [
    "f=open('Supportive_Files/abc.txt','w')\n",
    "f.write(\"I am Sairam Kandukuri.\\n\")\n",
    "f.write(\"Working as an Associate Analyst\") # If not specied \\n then everything will be printed in same line.\n",
    "f.write(\" in GlobalData Plc\")\n",
    "f.write(\" in Hyderabad.\")\n",
    "f.close()\n",
    "print(\"Date written to the file Successfully\")"
   ]
  },
  {
   "cell_type": "markdown",
   "metadata": {},
   "source": [
    "The output for the above is as follows, which has overwritten the prevoius text in it with new text as below.\n",
    "<img src=\"Supportive_Files/fh1.png\"><br><br>\n",
    "**Note:** In the above program, data present in the file will be overridden everytime if we run the program. Instead of overriding if we want append operation then we should open the file as follows.<br><br>\n",
    "**f = open(\"Supportive_Files/abc.txt\",\"a\")**"
   ]
  },
  {
   "cell_type": "code",
   "execution_count": 24,
   "metadata": {},
   "outputs": [
    {
     "name": "stdout",
     "output_type": "stream",
     "text": [
      "Date written to the file Successfully\n"
     ]
    }
   ],
   "source": [
    "f=open('Supportive_Files/abc.txt','a')\n",
    "f.write(\"I am Sairam Kandukuri.\\n\")\n",
    "f.write(\"Working as an Associate Analyst\") # If not specied \\n then everything will be printed in same line.\n",
    "f.write(\" in GlobalData Plc\")\n",
    "f.write(\" in Hyderabad.\")\n",
    "f.close()\n",
    "print(\"Date written to the file Successfully\")"
   ]
  },
  {
   "cell_type": "markdown",
   "metadata": {},
   "source": [
    "Now i want to append the code the abc.txt file, so i have changed mode from 'w' to 'a'. Then i ran run the code several times as result, it appended several times in abc.txt file as below. <br><br>\n",
    "<img src=\"Supportive_Files/fh2.png\" width=600><br><br>\n",
    "**Note:** While writing data by using write() methods, compulsory we have to provide line seperator(\\n), otherwise total data should be written to a single line."
   ]
  },
  {
   "cell_type": "code",
   "execution_count": 25,
   "metadata": {},
   "outputs": [
    {
     "name": "stdout",
     "output_type": "stream",
     "text": [
      "List of lines written to the file successfully\n"
     ]
    }
   ],
   "source": [
    "f=open(\"Supportive_Files/def.txt\",'w')\n",
    "list = [\"Sairam\\n\",\"Mahesh\\n\",\"Manoj\\n\",\"Hari\\n\",\"Aravind\\n\"]\n",
    "f.writelines(list)\n",
    "print(\"List of lines written to the file successfully\")\n",
    "f.close()"
   ]
  },
  {
   "cell_type": "markdown",
   "metadata": {},
   "source": [
    "Wrting the data to the def.txt using writelines method from the list.<br><br>\n",
    "\n",
    "<img src=\"Supportive_Files/fh3.png\"><br><br>\n",
    "Insted of list, we can also pass tuple, set(order will not be preserved), dict(Only Keys will be added)."
   ]
  },
  {
   "cell_type": "code",
   "execution_count": 33,
   "metadata": {},
   "outputs": [
    {
     "name": "stdout",
     "output_type": "stream",
     "text": [
      "Tuple of lines written to the file successfully\n"
     ]
    }
   ],
   "source": [
    "f=open(\"Supportive_Files/def.txt\",'a')\n",
    "tup = (\"Passing from Tuple:\\n\",\"Sairam\\n\",\"Mahesh\\n\",\"Manoj\\n\",\"Hari\\n\",\"Aravind\\n\")\n",
    "f.writelines(tup)\n",
    "print(\"Tuple of lines written to the file successfully\")\n",
    "f.close()"
   ]
  },
  {
   "cell_type": "markdown",
   "metadata": {},
   "source": [
    "Tuple also Passed Succesfully<br>\n",
    "<img src=\"Supportive_Files/fh4.png\"><br><br>"
   ]
  },
  {
   "cell_type": "code",
   "execution_count": 32,
   "metadata": {},
   "outputs": [
    {
     "name": "stdout",
     "output_type": "stream",
     "text": [
      "Set of lines written to the file successfully\n"
     ]
    }
   ],
   "source": [
    "f=open(\"Supportive_Files/def.txt\",'w')\n",
    "s = {\"Sairam\\n\",\"Mahesh\\n\",\"Manoj\\n\",\"Hari\\n\",\"Aravind\\n\"}\n",
    "f.writelines(s)\n",
    "print(\"Set of lines written to the file successfully\")\n",
    "f.close()"
   ]
  },
  {
   "cell_type": "markdown",
   "metadata": {},
   "source": [
    "Set also Passed Succesfully, But if we observe the order, it has changed.<br>\n",
    "<img src=\"Supportive_Files/fh5.png\"><br><br>"
   ]
  },
  {
   "cell_type": "code",
   "execution_count": 31,
   "metadata": {},
   "outputs": [
    {
     "name": "stdout",
     "output_type": "stream",
     "text": [
      "Dict of lines written to the file successfully\n"
     ]
    }
   ],
   "source": [
    "f=open(\"Supportive_Files/def.txt\",'w')\n",
    "#s = {\"Sairam\\n\",\"Mahesh\\n\",\"Manoj\\n\",\"Hari\\n\",\"Aravind\\n\"}\n",
    "d={'Sairam\\n':100,'Mahesh\\n':200}\n",
    "f.writelines(d)\n",
    "print(\"Dict of lines written to the file successfully\")\n",
    "f.close()"
   ]
  },
  {
   "cell_type": "markdown",
   "metadata": {},
   "source": [
    "Dictionary also Passed Successfully, But only keys are added to the file as below. Values will not be added.<br>\n",
    "<img src=\"Supportive_Files/fh6.png\"><br><br>"
   ]
  },
  {
   "cell_type": "code",
   "execution_count": 34,
   "metadata": {},
   "outputs": [
    {
     "ename": "TypeError",
     "evalue": "write() argument must be str, not int",
     "output_type": "error",
     "traceback": [
      "\u001b[1;31m---------------------------------------------------------------------------\u001b[0m",
      "\u001b[1;31mTypeError\u001b[0m                                 Traceback (most recent call last)",
      "\u001b[1;32m<ipython-input-34-8068780873ba>\u001b[0m in \u001b[0;36m<module>\u001b[1;34m\u001b[0m\n\u001b[0;32m      2\u001b[0m \u001b[1;31m#s = {\"Sairam\\n\",\"Mahesh\\n\",\"Manoj\\n\",\"Hari\\n\",\"Aravind\\n\"}\u001b[0m\u001b[1;33m\u001b[0m\u001b[1;33m\u001b[0m\u001b[1;33m\u001b[0m\u001b[0m\n\u001b[0;32m      3\u001b[0m \u001b[0md\u001b[0m\u001b[1;33m=\u001b[0m\u001b[1;33m{\u001b[0m\u001b[1;36m100\u001b[0m\u001b[1;33m:\u001b[0m\u001b[1;34m\"Sairam\"\u001b[0m\u001b[1;33m,\u001b[0m\u001b[1;36m200\u001b[0m\u001b[1;33m:\u001b[0m\u001b[1;34m'Mahesh'\u001b[0m\u001b[1;33m}\u001b[0m\u001b[1;33m\u001b[0m\u001b[1;33m\u001b[0m\u001b[0m\n\u001b[1;32m----> 4\u001b[1;33m \u001b[0mf\u001b[0m\u001b[1;33m.\u001b[0m\u001b[0mwritelines\u001b[0m\u001b[1;33m(\u001b[0m\u001b[0md\u001b[0m\u001b[1;33m)\u001b[0m\u001b[1;33m\u001b[0m\u001b[1;33m\u001b[0m\u001b[0m\n\u001b[0m\u001b[0;32m      5\u001b[0m \u001b[0mprint\u001b[0m\u001b[1;33m(\u001b[0m\u001b[1;34m\"Dict of lines written to the file successfully\"\u001b[0m\u001b[1;33m)\u001b[0m\u001b[1;33m\u001b[0m\u001b[1;33m\u001b[0m\u001b[0m\n\u001b[0;32m      6\u001b[0m \u001b[0mf\u001b[0m\u001b[1;33m.\u001b[0m\u001b[0mclose\u001b[0m\u001b[1;33m(\u001b[0m\u001b[1;33m)\u001b[0m\u001b[1;33m\u001b[0m\u001b[1;33m\u001b[0m\u001b[0m\n",
      "\u001b[1;31mTypeError\u001b[0m: write() argument must be str, not int"
     ]
    }
   ],
   "source": [
    "f=open(\"Supportive_Files/def.txt\",'w')\n",
    "#s = {\"Sairam\\n\",\"Mahesh\\n\",\"Manoj\\n\",\"Hari\\n\",\"Aravind\\n\"}\n",
    "d={100:\"Sairam\",200:'Mahesh'}\n",
    "f.writelines(d)\n",
    "print(\"Dict of lines written to the file successfully\")\n",
    "f.close()"
   ]
  },
  {
   "cell_type": "markdown",
   "metadata": {},
   "source": [
    "**Note:** Compulsary, the keys we are passing should be string type, if keys are int TypeError will be raised as above.<br><br>\n",
    "\n",
    "#### Program for writing Dynamic Data to Dynamic File"
   ]
  },
  {
   "cell_type": "code",
   "execution_count": 35,
   "metadata": {},
   "outputs": [
    {
     "name": "stdout",
     "output_type": "stream",
     "text": [
      "Enter File Name:abcd.txt\n",
      "Enter data to write:Hi\n",
      "Do you want to add some more data [Yes/No]:yes\n",
      "Enter data to write:My Name is Sairam Kandukuri\n",
      "Do you want to add some more data [Yes/No]:yes\n",
      "Enter data to write:I am learning python file handling\n",
      "Do you want to add some more data [Yes/No]:no\n",
      "Data written to the file succesfully\n"
     ]
    }
   ],
   "source": [
    "fname = input(\"Enter File Name:\")\n",
    "f=open(\"Supportive_Files/{}\".format(fname),'w')\n",
    "while True:\n",
    "    data = input(\"Enter data to write:\")\n",
    "    f.write(data + '\\n')\n",
    "    option = input(\"Do you want to add some more data [Yes/No]:\")\n",
    "    if option.lower() == 'no':\n",
    "        break\n",
    "f.close()\n",
    "print(\"Data written to the file succesfully\")"
   ]
  },
  {
   "cell_type": "markdown",
   "metadata": {},
   "source": [
    "abcd.txt is not avaialble so it has created it and For the above code and Dynamic data we have provided, below is the output written in the **abcd.txt** file<br>\n",
    "<img src=\"Supportive_Files/fh7.png\">"
   ]
  },
  {
   "cell_type": "markdown",
   "metadata": {},
   "source": [
    "### Reading Character Data from Text Files: \n",
    "We can read character data from text file by using the following read methods.<br>\n",
    "- **read()** ==> To read total data from the file<br>\n",
    "- **read(n)** ==> To read 'n' characters from the file <br>\n",
    "- **readline()** ==> To read only one line<br>\n",
    "- **readlines()** ==> To read all lines into a list<br><br>"
   ]
  },
  {
   "cell_type": "code",
   "execution_count": 38,
   "metadata": {},
   "outputs": [
    {
     "name": "stdout",
     "output_type": "stream",
     "text": [
      "Hi\n",
      "My Name is Sairam Kandukuri\n",
      "I am learning python file handling\n",
      "\n"
     ]
    }
   ],
   "source": [
    "# Eg 1: To read total data from the file\n",
    "\n",
    "f=open(\"Supportive_Files/abcd.txt\",'r')\n",
    "data=f.read()\n",
    "print(data)\n",
    "f.close()"
   ]
  },
  {
   "cell_type": "code",
   "execution_count": 41,
   "metadata": {},
   "outputs": [
    {
     "name": "stdout",
     "output_type": "stream",
     "text": [
      "Hi\n",
      "My Name\n"
     ]
    }
   ],
   "source": [
    "# Eg 2: To read only first 10 characters:\n",
    "f=open(\"Supportive_Files/abcd.txt\",'r')\n",
    "data=f.read(10)\n",
    "print(data)\n",
    "f.close()"
   ]
  },
  {
   "cell_type": "markdown",
   "metadata": {},
   "source": [
    "If the specified number of characters are not available in the file then, only available characters we will get.<br>\n",
    "**data = f.read(1000)**"
   ]
  },
  {
   "cell_type": "code",
   "execution_count": 42,
   "metadata": {},
   "outputs": [
    {
     "name": "stdout",
     "output_type": "stream",
     "text": [
      "Hi\n",
      "My Name is Sairam Kandukuri\n",
      "I am learning python file handling\n",
      "\n"
     ]
    }
   ],
   "source": [
    "f=open(\"Supportive_Files/abcd.txt\",'r')\n",
    "data=f.read(1000)\n",
    "print(data)\n",
    "f.close()"
   ]
  },
  {
   "cell_type": "markdown",
   "metadata": {},
   "source": [
    "If we are passing -ve value as argument, then we will get total file content.<br>**data = f.read(-1)**<br>For any -ve value, result is always same."
   ]
  },
  {
   "cell_type": "code",
   "execution_count": 43,
   "metadata": {},
   "outputs": [
    {
     "name": "stdout",
     "output_type": "stream",
     "text": [
      "Hi\n",
      "My Name is Sairam Kandukuri\n",
      "I am learning python file handling\n",
      "\n"
     ]
    }
   ],
   "source": [
    "f=open(\"Supportive_Files/abcd.txt\",'r')\n",
    "data=f.read(-1)\n",
    "print(data)\n",
    "f.close()"
   ]
  },
  {
   "cell_type": "code",
   "execution_count": 47,
   "metadata": {},
   "outputs": [
    {
     "name": "stdout",
     "output_type": "stream",
     "text": [
      "First Line: 8885367585\n",
      "Second Line: 7274064182\n",
      "Third Line: 9704830885\n"
     ]
    }
   ],
   "source": [
    "# Eg 3: To read data line by line:\n",
    "f=open(\"Supportive_Files/phone.txt\",'r')\n",
    "line1 = f.readline()\n",
    "print(\"First Line:\",line1,end='')\n",
    "line2 = f.readline()\n",
    "print(\"Second Line:\",line2,end='')\n",
    "line3 = f.readline()\n",
    "print(\"Third Line:\",line3,end='')\n",
    "f.close()"
   ]
  },
  {
   "cell_type": "code",
   "execution_count": 49,
   "metadata": {},
   "outputs": [
    {
     "name": "stdout",
     "output_type": "stream",
     "text": [
      "8885367585\n",
      "7274064182\n",
      "9704830885\n",
      "9394770689\n",
      "8519956035\n",
      "9705112268\n",
      "6281054439\n",
      "9063348832\n",
      "5643287154\n",
      "6854237235"
     ]
    }
   ],
   "source": [
    "# To read all the large data line by line \n",
    "f=open(\"Supportive_Files/phone.txt\",'r')\n",
    "line=f.readline()\n",
    "while line != \"\":\n",
    "    print(line,end='')\n",
    "    line=f.readline()\n",
    "f.close()\n"
   ]
  },
  {
   "cell_type": "markdown",
   "metadata": {},
   "source": [
    "**Note:** If control reaches end of file (i.e if there is no next line in the file) then readline() method returns empty string."
   ]
  },
  {
   "cell_type": "code",
   "execution_count": 53,
   "metadata": {},
   "outputs": [
    {
     "name": "stdout",
     "output_type": "stream",
     "text": [
      "['sunny\\n', 'bunny\\n', 'munny\\n', 'runny\\n', 'gunny']\n",
      "sunny\n",
      "bunny\n",
      "munny\n",
      "runny\n",
      "gunny"
     ]
    }
   ],
   "source": [
    "# Eg 4: To read all lines into list:\n",
    "f=open(\"Supportive_Files/def.txt\",'r')\n",
    "l=f.readlines()\n",
    "print(l)\n",
    "for line in l:\n",
    "    print(line,end='')\n",
    "f.close()    "
   ]
  },
  {
   "cell_type": "code",
   "execution_count": 57,
   "metadata": {},
   "outputs": [
    {
     "name": "stdout",
     "output_type": "stream",
     "text": [
      "sun\n",
      "ny\n",
      "\n",
      "bunny\n",
      "\n",
      "munn\n",
      "Remaining Data\n",
      "y\n",
      "runny\n",
      "gunny\n"
     ]
    }
   ],
   "source": [
    "# To Use multiple read methods, It is not recommended\n",
    "\n",
    "f=open(\"Supportive_Files/def.txt\",'r')\n",
    "print(f.read(3)) # after this, pointer will be pointing at second n\n",
    "print(f.readline()) # ny will be the next line from the pointer\n",
    "print(f.readline()) # bunny \n",
    "print(f.read(4)) # munn\n",
    "print('Remaining Data')\n",
    "print(f.read()) # y, runny,gunny\n"
   ]
  },
  {
   "cell_type": "code",
   "execution_count": 2,
   "metadata": {},
   "outputs": [],
   "source": [
    "# program for reading data from one file(input.txt) and writing to another file(output.txt).\n",
    "\n",
    "f1=open(\"Supportive_Files/input.txt\",'r')\n",
    "f2=open(\"Supportive_Files/output.txt\",'w')\n",
    "data = f1.read()\n",
    "f2.write(data)\n",
    "f1.close()\n",
    "f2.close()"
   ]
  },
  {
   "cell_type": "markdown",
   "metadata": {},
   "source": [
    "Data from input.txt is written to output.txt file like below.<br>\n",
    "<img src=\"Supportive_Files/fh8.png\">"
   ]
  },
  {
   "cell_type": "markdown",
   "metadata": {},
   "source": [
    "### The With Statement\n",
    "\n",
    "- The with statement can be used while opening a file.We can use this to group file operation statements within a block.<br><br>\n",
    "- The advantage of with statement is it will take care closing of file,after completing all operations automatically even in the case of exceptions also, and we are not required to close explicitly."
   ]
  },
  {
   "cell_type": "code",
   "execution_count": 4,
   "metadata": {},
   "outputs": [
    {
     "name": "stdout",
     "output_type": "stream",
     "text": [
      "Is file closed: False\n",
      "Is file Closed: True\n"
     ]
    }
   ],
   "source": [
    "with open('Supportive_Files/abc1.text','w') as f:\n",
    "    f.write(\"Sairam\\n\")\n",
    "    f.write(\"Kandukuri\\n\")\n",
    "    f.write(\"Nizampet\\n\")\n",
    "    f.write(\"Hyderabad\\n\")\n",
    "    print(\"Is file closed:\",f.closed) # False\n",
    "    \n",
    "print(\"Is file Closed:\",f.closed) # True"
   ]
  },
  {
   "cell_type": "markdown",
   "metadata": {},
   "source": [
    "The above code will write the content to abc1.txt as follows.\n",
    "<img src=\"Supportive_Files/fh9.png\"><br><br>\n",
    "**f = open('Supportive_Files/abc.txt','w')**<br>\n",
    "In this case we have to close the file explicitly.<br><br>\n",
    "\n",
    "**with open('Supportive_Files/abc.txt','w') as f:**<br>\n",
    "In this case we are not required to close file explicitly and it will be closed automatically."
   ]
  },
  {
   "cell_type": "markdown",
   "metadata": {},
   "source": [
    "## The seek() and tell() Methods:\n",
    "#### tell():<br>\n",
    "- We can use tell() method to return current position of the cursor(file pointer) from beginning of the file. [ can you plese telll current cursor position]<br><br>\n",
    "- The position(index) of first character in files is zero just like string index."
   ]
  },
  {
   "cell_type": "code",
   "execution_count": 8,
   "metadata": {},
   "outputs": [
    {
     "name": "stdout",
     "output_type": "stream",
     "text": [
      "0\n",
      "Sa\n",
      "2\n",
      "ira\n",
      "5\n",
      "m\n",
      "6\n"
     ]
    }
   ],
   "source": [
    "f=open(\"Supportive_Files/abc1.txt\",'r')\n",
    "print(f.tell()) # 0 ,This will tell the current position.\n",
    "print(f.read(2)) # Current Curosor Position is 2. Sa in 0,1 Positions.\n",
    "print(f.tell()) # 2 is the current position\n",
    "print(f.read(3)) # ira are the 3 letters from reading from 2nd postion, now cursor is pointing at m\n",
    "print(f.tell()) # 5 is the current postion\n",
    "print(f.read(1)) # m is the 1 letter from 5th position onwards\n",
    "print(f.tell()) # 6 is the current postion"
   ]
  },
  {
   "cell_type": "markdown",
   "metadata": {},
   "source": [
    "#### seek(): \n",
    "We can use seek() method to move cursor (file pointer) to specified location.<br> [Can you please seek the cursor to a particular location]<br>\n",
    "**f.seek(offset, fromwhere)** ==> offset represents the number of positions.<br> The allowed Values for 2nd Attribute (from where) are<br>\n",
    "0 ==> From beginning of File (Default Value)<br>\n",
    "1 ==> From Current Position.<br>\n",
    "2 ==> From end of the File.<br><br>\n",
    "**Note:** Python 2 supports all 3 values but Python 3 supports only zero.<br>"
   ]
  },
  {
   "cell_type": "markdown",
   "metadata": {},
   "source": [
    "Data in abc1.txt file is as below:<br><br>\n",
    "Sairam<br>\n",
    "Kandukuri<br>\n",
    "Nizampet<br>\n",
    "Hyderabad<br>\n"
   ]
  },
  {
   "cell_type": "code",
   "execution_count": 14,
   "metadata": {},
   "outputs": [
    {
     "name": "stdout",
     "output_type": "stream",
     "text": [
      "0\n",
      "3\n",
      "ram\n",
      "6\n",
      "izampet\n",
      "Hyderabad\n",
      "\n",
      "40\n"
     ]
    }
   ],
   "source": [
    "f=open('Supportive_Files/abc1.txt','r')\n",
    "print(f.tell()) # Current cursor position is at 0\n",
    "f.seek(3) # This will move the cursor from 0th index (S) to 3rd index (r)\n",
    "print(f.tell()) # Current position of cursor is at 3rd index.\n",
    "print(f.read(3)) # From 3rd index, this will read two characters i.e 'ra',Now the cursor is at 6th index. \n",
    "print(f.tell()) # Current position of cursor is at 6th index.\n",
    "f.seek(20) # From 0th index move cursor with 20 characters\n",
    "print(f.read()) # from 20th index, remaining will be printed.\n",
    "print(f.tell()) # Now the current position is at 40th index."
   ]
  },
  {
   "cell_type": "code",
   "execution_count": 18,
   "metadata": {},
   "outputs": [
    {
     "name": "stdout",
     "output_type": "stream",
     "text": [
      "Data Before Modifications\n",
      "All STUDNETS ARE STUPIDS\n",
      "The current cursor position: 24\n",
      "Data After Modification:\n",
      "All STUDNETS ARE GEMS!!!\n"
     ]
    }
   ],
   "source": [
    "# Another Example\n",
    "\n",
    "f=open('Supportive_Files/abc2.txt','w')\n",
    "f.write('All STUDNETS ARE STUPIDS')\n",
    "with open('Supportive_Files/abc2.txt','r+') as f:\n",
    "    text = f.read()\n",
    "    print(\"Data Before Modifications\")\n",
    "    print(text)\n",
    "    print(\"The current cursor position:\",f.tell())\n",
    "    # Now i want to replace stupids with GEMS, so i want to go to the cursor position of 'S' which is 17th index.\n",
    "    f.seek(17)\n",
    "    f.write(\"GEMS!!!\") # This will overwrite the stupids with gems!!!\n",
    "    # I want to go back to the starting and read the full text again.\n",
    "    f.seek(0)\n",
    "    text=f.read()\n",
    "    print(\"Data After Modification:\")\n",
    "    print(text)"
   ]
  },
  {
   "cell_type": "markdown",
   "metadata": {},
   "source": [
    "### How to check a particular File exists OR not? <br>\n",
    "We can use os library to get information about files in our computer.<br>\n",
    "os module has path sub module,which contains **isfile()** function to check whether a particular file exists or not?<br>\n",
    "&ensp;&ensp;&ensp;&ensp;&ensp;&ensp;&ensp;&ensp;&ensp;**os.path.isfile(fname)**<br><br>\n",
    "**Q1) Write a Program to check whether the given File exists OR not. If it is available then print its content?**"
   ]
  },
  {
   "cell_type": "code",
   "execution_count": 21,
   "metadata": {},
   "outputs": [
    {
     "name": "stdout",
     "output_type": "stream",
     "text": [
      "Enter File Name:abc1.txt\n",
      "File Exists: Supportive_Files/abc1.txt\n",
      "The Content of the file is:\n",
      "****************************************\n",
      "Sairam\n",
      "Kandukuri\n",
      "Nizampet\n",
      "Hyderabad\n",
      "\n",
      "****************************************\n"
     ]
    }
   ],
   "source": [
    "import os\n",
    "fname = 'Supportive_Files/{}'.format(input(\"Enter File Name:\"))\n",
    "if os.path.isfile(fname):\n",
    "    print(\"File Exists:\",fname)\n",
    "    f = open(fname,'r')\n",
    "    text = f.read()\n",
    "    print(\"The Content of the file is:\")\n",
    "    print(\"*\"*40)\n",
    "    print(text)\n",
    "    print('*'*40)\n",
    "    f.close()\n",
    "else:\n",
    "    print(\"File Doesn't Exist:\",fname)"
   ]
  },
  {
   "cell_type": "code",
   "execution_count": 22,
   "metadata": {},
   "outputs": [
    {
     "name": "stdout",
     "output_type": "stream",
     "text": [
      "Enter File Name:abc3.txt\n",
      "File Doesn't Exist: Supportive_Files/abc3.txt\n"
     ]
    }
   ],
   "source": [
    "import os\n",
    "fname = 'Supportive_Files/{}'.format(input(\"Enter File Name:\"))\n",
    "if os.path.isfile(fname):\n",
    "    print(\"File Exists:\",fname)\n",
    "    f = open(fname,'r')\n",
    "    text = f.read()\n",
    "    print(\"The Content of the file is:\")\n",
    "    print(\"*\"*40)\n",
    "    print(text)\n",
    "    print('*'*40)\n",
    "    f.close()\n",
    "else:\n",
    "    print(\"File Doesn't Exist:\",fname)"
   ]
  },
  {
   "cell_type": "markdown",
   "metadata": {},
   "source": [
    "**Note:**<br>\n",
    "**sys.exit(0)** ==> To exit system without executing rest of the program.<br> argument represents status code. 0 means normal termination and it is the default value.<br><br>\n",
    "\n",
    "**Q2) Program to print the Number of Lines, Words and Characters present in the given File?**"
   ]
  },
  {
   "cell_type": "code",
   "execution_count": 35,
   "metadata": {},
   "outputs": [
    {
     "name": "stdout",
     "output_type": "stream",
     "text": [
      "Enter File Name:abcd.txt\n",
      "File Exists: Supportive_Files/abcd.txt\n",
      "The Number of Lines: 3\n",
      "The Number of Words: 12\n",
      "The Number of Characters: 47\n"
     ]
    }
   ],
   "source": [
    "import os\n",
    "fname = 'Supportive_Files/{}'.format(input(\"Enter File Name:\"))\n",
    "if os.path.isfile(fname):\n",
    "    print(\"File Exists:\",fname)\n",
    "    lcount = wcount = ccount = 0\n",
    "    f =  open(fname,'r')\n",
    "    for line in f: # For no. of lines\n",
    "        lcount = lcount + 1\n",
    "        no_of_words_in_current_line = len(line.split())\n",
    "        wcount = wcount + no_of_words_in_current_line\n",
    "        no_of_characters_in_current_line = len(line)\n",
    "        ccount = wcount + no_of_characters_in_current_line\n",
    "    \n",
    "    print(\"The Number of Lines:\",lcount)\n",
    "    print(\"The Number of Words:\",wcount)\n",
    "    print(\"The Number of Characters:\",ccount)\n",
    "else:\n",
    "    print(\"File Doesn't Exist:\",fname)"
   ]
  },
  {
   "cell_type": "markdown",
   "metadata": {},
   "source": [
    "### Handling Binary Data: <br>\n",
    "It is very common requirement to read or write binary data like images,video files,audio files etc.<br><br>\n",
    "**Q) Program to read Image File and write to a New Image File?**"
   ]
  },
  {
   "cell_type": "code",
   "execution_count": 36,
   "metadata": {},
   "outputs": [
    {
     "name": "stdout",
     "output_type": "stream",
     "text": [
      "New Image is available with the name: ironman.jpg\n"
     ]
    }
   ],
   "source": [
    "f1=open(\"Supportive_Files/24842.jpg\",\"rb\") \n",
    "f2=open(\"Supportive_Files/ironman.jpg\",\"wb\") \n",
    "bytes=f1.read()\n",
    "f2.write(bytes)\n",
    "print(\"New Image is available with the name: ironman.jpg\")"
   ]
  },
  {
   "cell_type": "markdown",
   "metadata": {},
   "source": [
    "binary data of ironman image in 28482.jpg is copied to ironman.jpg as below\n",
    "<img src=\"Supportive_Files/binaryfiles.png\">"
   ]
  },
  {
   "cell_type": "markdown",
   "metadata": {},
   "source": [
    "## Handling CSV Files: \n",
    "⚽ CSV ==> Comma seperated values <br>\n",
    "⚽ As the part of programming, it is very common requirement to write and read data wrt csv files.<br>\n",
    "⚽ Python provides csv module to handle csv files.<br><br>\n",
    "### Writing Data to CSV File:"
   ]
  },
  {
   "cell_type": "code",
   "execution_count": 41,
   "metadata": {},
   "outputs": [
    {
     "name": "stdout",
     "output_type": "stream",
     "text": [
      "Enter Employee Number:1\n",
      "Enter Employee Name:sai\n",
      "Enter Employee Salary:10000\n",
      "Enter Employee Address:Hyderabad\n",
      "Do you want to insert one more record [Yes|No]:yes\n",
      "Enter Employee Number:2\n",
      "Enter Employee Name:ram\n",
      "Enter Employee Salary:20000\n",
      "Enter Employee Address:Banglore\n",
      "Do you want to insert one more record [Yes|No]:yes\n",
      "Enter Employee Number:3\n",
      "Enter Employee Name:Dhana\n",
      "Enter Employee Salary:10500\n",
      "Enter Employee Address:Chennai\n",
      "Do you want to insert one more record [Yes|No]:yes\n",
      "Enter Employee Number:4\n",
      "Enter Employee Name:lakshmi\n",
      "Enter Employee Salary:15000\n",
      "Enter Employee Address:delhi\n",
      "Do you want to insert one more record [Yes|No]:no\n",
      "Writing data to the file completed Successfully\n"
     ]
    }
   ],
   "source": [
    "import csv\n",
    "with open('Supportive_Files/emp.csv','w') as f:\n",
    "    w=csv.writer(f) # returns writer object to write data\n",
    "    w.writerow(['Eno','EName','ESal','EAddress'])\n",
    "    while True:\n",
    "        Eno = int(input(\"Enter Employee Number:\"))\n",
    "        EName = input(\"Enter Employee Name:\")\n",
    "        ESal = float(input(\"Enter Employee Salary:\"))\n",
    "        EAddress = input(\"Enter Employee Address:\")\n",
    "        w.writerow([Eno,EName,ESal,EAddress])\n",
    "        option = input(\"Do you want to insert one more record [Yes|No]:\")\n",
    "        if option.lower()=='no':\n",
    "            break\n",
    "print(\"Writing data to the file completed Successfully\")"
   ]
  },
  {
   "cell_type": "markdown",
   "metadata": {},
   "source": [
    "<img src=\"Supportive_Files/empcsv.png\"><br><br>\n",
    "<img src=\"Supportive_Files/empcsv1.png\">"
   ]
  },
  {
   "cell_type": "code",
   "execution_count": 42,
   "metadata": {},
   "outputs": [
    {
     "name": "stdout",
     "output_type": "stream",
     "text": [
      "Enter Employee Number:1\n",
      "Enter Employee Name:sai\n",
      "Enter Employee Salary:10000\n",
      "Enter Employee Address:Hyderabad\n",
      "Do you want to insert one more record [Yes|No]:yes\n",
      "Enter Employee Number:2\n",
      "Enter Employee Name:ram\n",
      "Enter Employee Salary:20000\n",
      "Enter Employee Address:Banglore\n",
      "Do you want to insert one more record [Yes|No]:yes\n",
      "Enter Employee Number:3\n",
      "Enter Employee Name:Dhana\n",
      "Enter Employee Salary:10500\n",
      "Enter Employee Address:Chennai\n",
      "Do you want to insert one more record [Yes|No]:yes\n",
      "Enter Employee Number:4\n",
      "Enter Employee Name:lakshmi\n",
      "Enter Employee Salary:15000\n",
      "Enter Employee Address:delhi\n",
      "Do you want to insert one more record [Yes|No]:no\n",
      "Writing data to the file completed Successfully\n"
     ]
    }
   ],
   "source": [
    "import csv\n",
    "with open('Supportive_Files/emp.csv','w',newline='') as f:\n",
    "    w=csv.writer(f) # returns writer object to write data\n",
    "    w.writerow(['Eno','EName','ESal','EAddress'])\n",
    "    while True:\n",
    "        Eno = int(input(\"Enter Employee Number:\"))\n",
    "        EName = input(\"Enter Employee Name:\")\n",
    "        ESal = float(input(\"Enter Employee Salary:\"))\n",
    "        EAddress = input(\"Enter Employee Address:\")\n",
    "        w.writerow([Eno,EName,ESal,EAddress])\n",
    "        option = input(\"Do you want to insert one more record [Yes|No]:\")\n",
    "        if option.lower()=='no':\n",
    "            break\n",
    "print(\"Writing data to the file completed Successfully\")"
   ]
  },
  {
   "cell_type": "markdown",
   "metadata": {},
   "source": [
    "By adding the **newline=''** in open(), Blank gaps between lines will not be created as shown in above\n",
    "<img src=\"Supportive_Files/empcsv2.png\">"
   ]
  },
  {
   "cell_type": "markdown",
   "metadata": {},
   "source": [
    "## Reading Data From CSV Files"
   ]
  },
  {
   "cell_type": "code",
   "execution_count": 1,
   "metadata": {},
   "outputs": [
    {
     "name": "stdout",
     "output_type": "stream",
     "text": [
      "<class '_csv.reader'>\n"
     ]
    }
   ],
   "source": [
    "import csv\n",
    "with open('Supportive_Files/emp.csv','r') as f:\n",
    "    r=csv.reader(f)\n",
    "    print(type(r))"
   ]
  },
  {
   "cell_type": "code",
   "execution_count": 9,
   "metadata": {},
   "outputs": [
    {
     "name": "stdout",
     "output_type": "stream",
     "text": [
      "<class '_csv.reader'>\n",
      "\n",
      "[['Eno', 'EName', 'ESal', 'EAddress'], ['1', 'sai', '10000.0', 'Hyderabad'], ['2', 'ram', '20000.0', 'Banglore'], ['3', 'Dhana', '10500.0', 'Chennai'], ['4', 'lakshmi', '15000.0', 'delhi']]\n",
      "\n",
      "Eno \tEName \tESal \tEAddress \t\n",
      "1 \tsai \t10000.0 \tHyderabad \t\n",
      "2 \tram \t20000.0 \tBanglore \t\n",
      "3 \tDhana \t10500.0 \tChennai \t\n",
      "4 \tlakshmi \t15000.0 \tdelhi \t\n"
     ]
    }
   ],
   "source": [
    "import csv\n",
    "with open('Supportive_Files/emp.csv','r') as f:\n",
    "    r=csv.reader(f)\n",
    "    print(type(r))\n",
    "    print()\n",
    "    data = list(r)\n",
    "    print(data)\n",
    "    print()\n",
    "    \n",
    "for row in data:\n",
    "    for column in row:\n",
    "        print(column,'\\t',end='')\n",
    "    print()"
   ]
  },
  {
   "cell_type": "markdown",
   "metadata": {},
   "source": [
    "## Zipping and Unzipping Files:\n",
    "It is very common requirement to zip and unzip files.<br><br>\n",
    "The main advantages are:<br>\n",
    "1) To improve memory utilization <br>\n",
    "2) We can reduce transport time<br>\n",
    "3) We can improve performance.<br><br>\n",
    "To perform zip and unzip operations, Python contains one in-bulit module zip file. <br>\n",
    "This module contains a class: ZipFile<br><br>\n",
    "\n",
    "## To Create Zip File:<br>\n",
    "We have to create ZipFile class object with name of the zip file, mode and constant ZIP_DEFLATED. This constant represents we are creating zip file.<br>\n",
    "**f = ZipFile(\"files.zip\",\"w\",\"ZIP_DEFLATED\")**<br><br>\n",
    "Once we create ZipFile object,we can add files by using write() method.<br> **f.write(filename)**"
   ]
  },
  {
   "cell_type": "code",
   "execution_count": 10,
   "metadata": {},
   "outputs": [
    {
     "name": "stdout",
     "output_type": "stream",
     "text": [
      "Zip File Created Successfully\n"
     ]
    }
   ],
   "source": [
    "from zipfile import *\n",
    "f=ZipFile(\"Supportive_Files/files24052021.zip\",'w',ZIP_DEFLATED)\n",
    "f.write(\"Supportive_Files/abc.txt\")\n",
    "f.write(\"Supportive_Files/abc1.txt\")\n",
    "f.write(\"Supportive_Files/abc2.txt\")\n",
    "print(\"Zip File Created Successfully\")"
   ]
  },
  {
   "cell_type": "markdown",
   "metadata": {},
   "source": [
    "The above code has zipped the 3 files abc.txt, abc1.txt, abc2.txt into zip file named files24052021.zip as shown below.\n",
    "\n",
    "<img src=\"Supportive_Files/Zip1.jpg\">"
   ]
  },
  {
   "cell_type": "markdown",
   "metadata": {},
   "source": [
    "To perform unzip Operation: We have to create ZipFile object as follows<br>\n",
    "**f = ZipFile(\"files.zip\",\"r\",ZIP_STORED)**<br><br>\n",
    "**ZIP_STORED** represents **unzip** operation.This is default value and hence we are not required to specify. <br><br>\n",
    "Once we created ZipFile object for unzip operation, we can get all file names present in that zip file by using namelist() method.<br>\n",
    "**names = f.namelist()**"
   ]
  },
  {
   "cell_type": "code",
   "execution_count": 2,
   "metadata": {},
   "outputs": [
    {
     "name": "stdout",
     "output_type": "stream",
     "text": [
      "File Name: Supportive_Files/abc.txt\n",
      "The Content of this file is:\n",
      "I am Sairam Kandukuri.\n",
      "Working as an Associate Analyst in GlobalData Plc in Hyderabad.I am Sairam Kandukuri.\n",
      "Working as an Associate Analyst in GlobalData Plc in Hyderabad.I am Sairam Kandukuri.\n",
      "Working as an Associate Analyst in GlobalData Plc in Hyderabad.I am Sairam Kandukuri.\n",
      "Working as an Associate Analyst in GlobalData Plc in Hyderabad.I am Sairam Kandukuri.\n",
      "Working as an Associate Analyst in GlobalData Plc in Hyderabad.I am Sairam Kandukuri.\n",
      "Working as an Associate Analyst in GlobalData Plc in Hyderabad.\n",
      "\n",
      "File Name: Supportive_Files/abc1.txt\n",
      "The Content of this file is:\n",
      "Sairam\n",
      "Kandukuri\n",
      "Nizampet\n",
      "Hyderabad\n",
      "\n",
      "\n",
      "File Name: Supportive_Files/abc2.txt\n",
      "The Content of this file is:\n",
      "All STUDNETS ARE GEMS!!!\n",
      "\n"
     ]
    }
   ],
   "source": [
    "from zipfile import *\n",
    "f=ZipFile(\"Supportive_Files/files24052021.zip\",'r',ZIP_STORED)\n",
    "names = f.namelist()\n",
    "for name in names:\n",
    "    f1 = open(name,'r')\n",
    "    text = f1.read()\n",
    "    print(\"File Name:\",name)\n",
    "    print(\"The Content of this file is:\")\n",
    "    print(text)\n",
    "    f1.close()\n",
    "    print()"
   ]
  },
  {
   "cell_type": "markdown",
   "metadata": {},
   "source": [
    "## Working with Directories:\n",
    "It is very common requirement to perform operations for directories like<br><br>\n",
    "1) To know current working directory<br>\n",
    "2) To create a new directory<br>\n",
    "3) To remove an existing directory<br>\n",
    "4) To rename a directory<br>\n",
    "5) To list contents of the directory<br> \n",
    "&ensp;&ensp;&ensp;etc...<br><br>\n",
    "To perform these operations, Python provides inbuilt module os,which contains several functions to perform directory related operations.<br><br>\n",
    "\n",
    "### Q1) To Know Current Working Directory\n",
    "import os<br>\n",
    "cwd = os.getcwd()<br>\n",
    "print(\"Current Working Directory:\",cwd)"
   ]
  },
  {
   "cell_type": "code",
   "execution_count": 3,
   "metadata": {},
   "outputs": [
    {
     "name": "stdout",
     "output_type": "stream",
     "text": [
      "Current Working Directory: C:\\Users\\kksai\\Documents\\SAIRAM_Files\\Courses Content Taken by Sairam\\Udemy-Learn Python in Simple Way\\20) Python File Handling\n"
     ]
    }
   ],
   "source": [
    "import os\n",
    "cwd = os.getcwd()\n",
    "print(\"Current Working Directory:\",cwd)"
   ]
  },
  {
   "cell_type": "markdown",
   "metadata": {},
   "source": [
    "### Q2) To Create a Sub Directory in the Current Working Directory"
   ]
  },
  {
   "cell_type": "code",
   "execution_count": 4,
   "metadata": {},
   "outputs": [
    {
     "name": "stdout",
     "output_type": "stream",
     "text": [
      "valmiki123 created in cwd\n"
     ]
    }
   ],
   "source": [
    "import os\n",
    "os.mkdir(\"Supportive_Files/valmiki123\")\n",
    "print(\"valmiki123 created in cwd\")"
   ]
  },
  {
   "cell_type": "code",
   "execution_count": 5,
   "metadata": {},
   "outputs": [
    {
     "ename": "FileExistsError",
     "evalue": "[WinError 183] Cannot create a file when that file already exists: 'Supportive_Files/valmiki123'",
     "output_type": "error",
     "traceback": [
      "\u001b[1;31m---------------------------------------------------------------------------\u001b[0m",
      "\u001b[1;31mFileExistsError\u001b[0m                           Traceback (most recent call last)",
      "\u001b[1;32m<ipython-input-5-bdc37dd9bbb6>\u001b[0m in \u001b[0;36m<module>\u001b[1;34m\u001b[0m\n\u001b[0;32m      1\u001b[0m \u001b[1;32mimport\u001b[0m \u001b[0mos\u001b[0m\u001b[1;33m\u001b[0m\u001b[1;33m\u001b[0m\u001b[0m\n\u001b[1;32m----> 2\u001b[1;33m \u001b[0mos\u001b[0m\u001b[1;33m.\u001b[0m\u001b[0mmkdir\u001b[0m\u001b[1;33m(\u001b[0m\u001b[1;34m\"Supportive_Files/valmiki123\"\u001b[0m\u001b[1;33m)\u001b[0m\u001b[1;33m\u001b[0m\u001b[1;33m\u001b[0m\u001b[0m\n\u001b[0m\u001b[0;32m      3\u001b[0m \u001b[0mprint\u001b[0m\u001b[1;33m(\u001b[0m\u001b[1;34m\"valmiki123 created in cwd\"\u001b[0m\u001b[1;33m)\u001b[0m\u001b[1;33m\u001b[0m\u001b[1;33m\u001b[0m\u001b[0m\n",
      "\u001b[1;31mFileExistsError\u001b[0m: [WinError 183] Cannot create a file when that file already exists: 'Supportive_Files/valmiki123'"
     ]
    }
   ],
   "source": [
    "import os\n",
    "os.mkdir(\"Supportive_Files/valmiki123\")\n",
    "print(\"valmiki123 created in cwd\")"
   ]
  },
  {
   "cell_type": "markdown",
   "metadata": {},
   "source": [
    "**Note:** FileExistsError will be raised, if we try to create a file which already exists.<br><br>\n",
    "\n",
    "### Q3) To Create a Sub Directory in mysub Directory\n",
    "\n",
    "**cwd** <br>\n",
    "&ensp;&ensp;**|-mysub**<br>\n",
    "&ensp;&ensp;&ensp;&ensp;&ensp;**|-mysub2**"
   ]
  },
  {
   "cell_type": "code",
   "execution_count": 6,
   "metadata": {},
   "outputs": [
    {
     "name": "stdout",
     "output_type": "stream",
     "text": [
      "valmiki234 created inside valmiki123\n"
     ]
    }
   ],
   "source": [
    "import os\n",
    "os.mkdir(\"Supportive_Files/valmiki123/valmiki234\")\n",
    "print(\"valmiki234 created inside valmiki123\")"
   ]
  },
  {
   "cell_type": "code",
   "execution_count": 7,
   "metadata": {},
   "outputs": [
    {
     "ename": "FileNotFoundError",
     "evalue": "[WinError 3] The system cannot find the path specified: 'Supportive_Files/valmiki1234/valmiki234'",
     "output_type": "error",
     "traceback": [
      "\u001b[1;31m---------------------------------------------------------------------------\u001b[0m",
      "\u001b[1;31mFileNotFoundError\u001b[0m                         Traceback (most recent call last)",
      "\u001b[1;32m<ipython-input-7-d8af18f117bf>\u001b[0m in \u001b[0;36m<module>\u001b[1;34m\u001b[0m\n\u001b[0;32m      1\u001b[0m \u001b[1;32mimport\u001b[0m \u001b[0mos\u001b[0m\u001b[1;33m\u001b[0m\u001b[1;33m\u001b[0m\u001b[0m\n\u001b[1;32m----> 2\u001b[1;33m \u001b[0mos\u001b[0m\u001b[1;33m.\u001b[0m\u001b[0mmkdir\u001b[0m\u001b[1;33m(\u001b[0m\u001b[1;34m\"Supportive_Files/valmiki1234/valmiki234\"\u001b[0m\u001b[1;33m)\u001b[0m\u001b[1;33m\u001b[0m\u001b[1;33m\u001b[0m\u001b[0m\n\u001b[0m\u001b[0;32m      3\u001b[0m \u001b[0mprint\u001b[0m\u001b[1;33m(\u001b[0m\u001b[1;34m\"valmiki234 created inside valmiki123\"\u001b[0m\u001b[1;33m)\u001b[0m\u001b[1;33m\u001b[0m\u001b[1;33m\u001b[0m\u001b[0m\n",
      "\u001b[1;31mFileNotFoundError\u001b[0m: [WinError 3] The system cannot find the path specified: 'Supportive_Files/valmiki1234/valmiki234'"
     ]
    }
   ],
   "source": [
    "import os\n",
    "os.mkdir(\"Supportive_Files/valmiki1234/valmiki234\")\n",
    "print(\"valmiki234 created inside valmiki123\")"
   ]
  },
  {
   "cell_type": "markdown",
   "metadata": {},
   "source": [
    "**Note:** If Base Directory Not Available, then it will raise FileNotFoundError as above."
   ]
  },
  {
   "cell_type": "markdown",
   "metadata": {},
   "source": [
    "### Q4) To Create Multiple Directories like sub1 in that sub2 in that sub3"
   ]
  },
  {
   "cell_type": "code",
   "execution_count": 2,
   "metadata": {},
   "outputs": [
    {
     "name": "stdout",
     "output_type": "stream",
     "text": [
      "sub1 in that sub2 in that sub3\n"
     ]
    }
   ],
   "source": [
    "import os\n",
    "os.makedirs(\"Supportive_Files/valmiki123/sub1/sub2/sub3\")\n",
    "print(\"sub1 in that sub2 in that sub3\")"
   ]
  },
  {
   "cell_type": "markdown",
   "metadata": {},
   "source": [
    "### Q5) To Remove a Directory"
   ]
  },
  {
   "cell_type": "code",
   "execution_count": 3,
   "metadata": {},
   "outputs": [
    {
     "name": "stdout",
     "output_type": "stream",
     "text": [
      "sub3 directory deleted\n"
     ]
    }
   ],
   "source": [
    "import os\n",
    "os.rmdir(\"Supportive_Files/valmiki123/sub1/sub2/sub3\")\n",
    "print(\"sub3 directory deleted\")"
   ]
  },
  {
   "cell_type": "markdown",
   "metadata": {},
   "source": [
    "### Q6) To Remove Multiple Directories in the Path"
   ]
  },
  {
   "cell_type": "code",
   "execution_count": 4,
   "metadata": {},
   "outputs": [
    {
     "name": "stdout",
     "output_type": "stream",
     "text": [
      "All 2 directories sub1,sub2 removed\n"
     ]
    }
   ],
   "source": [
    "import os \n",
    "os.removedirs(\"Supportive_Files/valmiki123/sub1/sub2\") \n",
    "print(\"All 2 directories sub1,sub2 removed\")"
   ]
  },
  {
   "cell_type": "markdown",
   "metadata": {},
   "source": [
    "### Q7) To Rename a Directory"
   ]
  },
  {
   "cell_type": "code",
   "execution_count": 6,
   "metadata": {},
   "outputs": [
    {
     "name": "stdout",
     "output_type": "stream",
     "text": [
      "valmiki123 directory renamed to VALMIKI123\n"
     ]
    }
   ],
   "source": [
    "import os\n",
    "os.rename(\"Supportive_Files/valmiki123\",\"VALMIKI123\")\n",
    "print(\"valmiki123 directory renamed to VALMIKI123\")"
   ]
  },
  {
   "cell_type": "markdown",
   "metadata": {},
   "source": [
    "### Q8) To know Contents of Directory\n",
    "OS Module provides listdir() to list out the contents of the specified directory. It won't display the contents of sub directory."
   ]
  },
  {
   "cell_type": "code",
   "execution_count": 7,
   "metadata": {},
   "outputs": [
    {
     "name": "stdout",
     "output_type": "stream",
     "text": [
      "['.ipynb_checkpoints', '19) Python File Handling.ipynb', 'abc1.text', 'Supportive_Files', 'VALMIKI123']\n"
     ]
    }
   ],
   "source": [
    "import os\n",
    "print(os.listdir(\".\"))"
   ]
  },
  {
   "cell_type": "markdown",
   "metadata": {},
   "source": [
    "- The above program display contents of current working directory but not contents of sub directories.<br>\n",
    "- If we want the contents of a directory including sub directories then we should go for **walk()** function."
   ]
  },
  {
   "cell_type": "code",
   "execution_count": 9,
   "metadata": {},
   "outputs": [
    {
     "name": "stdout",
     "output_type": "stream",
     "text": [
      "('Supportive_Files', ['.ipynb_checkpoints'], ['24842.jpg', 'abc.txt', 'abc1.txt', 'abc2.txt', 'abcd.txt', 'binaryfiles.png', 'def.txt', 'emp.csv', 'empcsv.png', 'empcsv1.png', 'empcsv2.png', 'fh1.png', 'fh2.png', 'fh3.png', 'fh4.png', 'fh5.png', 'fh6.png', 'fh7.png', 'fh8.png', 'fh9.png', 'files24052021.zip', 'input.txt', 'ironman.jpg', 'output.txt', 'phone.txt', 'Zip1.jpg'])\n",
      "('Supportive_Files\\\\.ipynb_checkpoints', [], [])\n"
     ]
    }
   ],
   "source": [
    "g = os.walk(\"Supportive_Files\")\n",
    "for x in g:\n",
    "    print(x)"
   ]
  },
  {
   "cell_type": "code",
   "execution_count": 10,
   "metadata": {},
   "outputs": [
    {
     "name": "stdout",
     "output_type": "stream",
     "text": [
      "Directory Path: Supportive_Files\n",
      "Directoty Names: ['.ipynb_checkpoints']\n",
      "File Names Path: Supportive_Files\n",
      "Directory Path: Supportive_Files\\.ipynb_checkpoints\n",
      "Directoty Names: []\n",
      "File Names Path: Supportive_Files\\.ipynb_checkpoints\n"
     ]
    }
   ],
   "source": [
    "g = os.walk(\"Supportive_Files\")\n",
    "for dirpath,dirnames,filenames in g:\n",
    "    print(\"Directory Path:\",dirpath)\n",
    "    print(\"Directoty Names:\",dirnames)\n",
    "    print(\"File Names Path:\",dirpath)"
   ]
  },
  {
   "cell_type": "markdown",
   "metadata": {},
   "source": [
    "### Q9) To Know Contents of Directory including Sub Directories\n",
    "- We have to use walk() function<br> \n",
    "- Can you please walk in the directory so that we can aware all contents of that directory <br>\n",
    "- **os.walk(path, topdown = True, onerror = None, followlinks = False)** <br>\n",
    "- It returns an Iterator object whose contents can be displayed by using for loop<br><br>\n",
    "- path ==> Directory Path. cwd means .<br> \n",
    "- topdown = True ==> Travel from top to bottom <br>\n",
    "- onerror = None ==> On error detected which function has to execute.<br>\n",
    "- followlinks = True ==> To visit directories pointed by symbolic links.<br><br>\n",
    "\n",
    "**Eg:** To display all contents of Current working directory including sub directories:<br>"
   ]
  },
  {
   "cell_type": "code",
   "execution_count": 11,
   "metadata": {},
   "outputs": [
    {
     "name": "stdout",
     "output_type": "stream",
     "text": [
      "Current Directory Path: .\n",
      "Directories: ['.ipynb_checkpoints', 'Supportive_Files', 'VALMIKI123']\n",
      "Files: ['19) Python File Handling.ipynb', 'abc1.text']\n",
      "\n",
      "Current Directory Path: .\\.ipynb_checkpoints\n",
      "Directories: []\n",
      "Files: ['19) Python File Handling-checkpoint.ipynb']\n",
      "\n",
      "Current Directory Path: .\\Supportive_Files\n",
      "Directories: ['.ipynb_checkpoints']\n",
      "Files: ['24842.jpg', 'abc.txt', 'abc1.txt', 'abc2.txt', 'abcd.txt', 'binaryfiles.png', 'def.txt', 'emp.csv', 'empcsv.png', 'empcsv1.png', 'empcsv2.png', 'fh1.png', 'fh2.png', 'fh3.png', 'fh4.png', 'fh5.png', 'fh6.png', 'fh7.png', 'fh8.png', 'fh9.png', 'files24052021.zip', 'input.txt', 'ironman.jpg', 'output.txt', 'phone.txt', 'Zip1.jpg']\n",
      "\n",
      "Current Directory Path: .\\Supportive_Files\\.ipynb_checkpoints\n",
      "Directories: []\n",
      "Files: []\n",
      "\n",
      "Current Directory Path: .\\VALMIKI123\n",
      "Directories: ['valmiki234']\n",
      "Files: []\n",
      "\n",
      "Current Directory Path: .\\VALMIKI123\\valmiki234\n",
      "Directories: []\n",
      "Files: []\n",
      "\n"
     ]
    }
   ],
   "source": [
    "import os\n",
    "for dirpath,dirnames,filenames in os.walk(\".\"):\n",
    "    print(\"Current Directory Path:\",dirpath)\n",
    "    print(\"Directories:\",dirnames)\n",
    "    print(\"Files:\",filenames)\n",
    "    print()"
   ]
  },
  {
   "cell_type": "markdown",
   "metadata": {},
   "source": [
    "**Note:** To display contents of particular directory, we have to provide that directory name as argument to walk() function.<br>\n",
    "**os.walk(\"directoryname\")**<br><br>\n",
    "\n",
    "### Q) What is the difference between listdir() and walk() Functions?<br>\n",
    "In the case of listdir(), we will get contents of specified directory but not sub directory contents. But in the case of walk() function we will get contents of specified directory and its sub directories also.<br><br>\n",
    "\n",
    "### Running Other Programs from Python Program:\n",
    "OS Module contains system() function to run programs and commands.<br> It is exactly same as system() function in C language.<br><br>\n",
    "**os.system(\"commad string\")**<br>\n",
    "The argument is any command which is executing from DOS.<br><br>\n",
    "**Eg:** <br><br>\n",
    "**import os**<br>\n",
    "**os.system(\"dir *.py\")**<br>\n",
    "**os.system(\"py abc.py\")**<br>"
   ]
  },
  {
   "cell_type": "code",
   "execution_count": 15,
   "metadata": {},
   "outputs": [
    {
     "data": {
      "text/plain": [
       "0"
      ]
     },
     "execution_count": 15,
     "metadata": {},
     "output_type": "execute_result"
    }
   ],
   "source": [
    "import os\n",
    "os.system('notepad') #This will open the notepad application."
   ]
  },
  {
   "cell_type": "markdown",
   "metadata": {},
   "source": [
    "### How to get Information about a File: \n",
    "We can get statistics of a file like size, last accessed time,last modified time etc by using stat() function of os module.<br>\n",
    "**stats = os.stat(\"abc.txt\")**<br><br>\n",
    "The statistics of a file includes the following parameters:<br>\n",
    "1) st_mode ==> Protection Bits <br>\n",
    "2) st_ino ==> Inode number<br>\n",
    "3) st_dev ==> Device <br>\n",
    "4) st_nlink ==> Number of Hard Links <br>\n",
    "5) st_uid ==> User id of Owner<br>\n",
    "6) st_gid ==> Group id of Owner<br>\n",
    "7) st_size ==> Size of File in Bytes<br>\n",
    "8) st_atime ==> Time of Most Recent Access<br>\n",
    "9) st_mtime ==> Time of Most Recent Modification<br>\n",
    "10) st_ctime ==> Time of Most Recent Meta Data Change<br><br>\n",
    "\n",
    "**Note:** st_atime, st_mtime and st_ctime returns the time as number of milli seconds since Jan 1st 1970, 12:00 AM. By using datetime module from timestamp() function, we can get exact date and time.<br><br>\n",
    "\n",
    "### Q) To Print all Statistics of File abc.txt"
   ]
  },
  {
   "cell_type": "code",
   "execution_count": 12,
   "metadata": {},
   "outputs": [
    {
     "name": "stdout",
     "output_type": "stream",
     "text": [
      "os.stat_result(st_mode=33206, st_ino=1407374883598961, st_dev=3133003662, st_nlink=1, st_uid=0, st_gid=0, st_size=40, st_atime=1621849640, st_mtime=1620561213, st_ctime=1620561213)\n"
     ]
    }
   ],
   "source": [
    "import os\n",
    "stats = os.stat(\"Supportive_Files/abc1.txt\")\n",
    "print(stats)"
   ]
  },
  {
   "cell_type": "markdown",
   "metadata": {},
   "source": [
    "### Q) To Print specified Properties"
   ]
  },
  {
   "cell_type": "code",
   "execution_count": 13,
   "metadata": {},
   "outputs": [
    {
     "name": "stdout",
     "output_type": "stream",
     "text": [
      "File Size in Bytes: 40\n",
      "File Last Accessed Time: 2021-05-24 15:17:20.670245\n",
      "File Last Modified Time: 2021-05-09 17:23:33.725840\n"
     ]
    }
   ],
   "source": [
    "import os\n",
    "from datetime import *\n",
    "stats = os.stat(\"Supportive_Files/abc1.txt\")\n",
    "print(\"File Size in Bytes:\",stats.st_size) \n",
    "print(\"File Last Accessed Time:\",datetime.fromtimestamp(stats.st_atime)) \n",
    "print(\"File Last Modified Time:\",datetime.fromtimestamp(stats.st_mtime))"
   ]
  },
  {
   "cell_type": "markdown",
   "metadata": {},
   "source": [
    "# ======================== THE END ======================="
   ]
  }
 ],
 "metadata": {
  "kernelspec": {
   "display_name": "Python 3",
   "language": "python",
   "name": "python3"
  },
  "language_info": {
   "codemirror_mode": {
    "name": "ipython",
    "version": 3
   },
   "file_extension": ".py",
   "mimetype": "text/x-python",
   "name": "python",
   "nbconvert_exporter": "python",
   "pygments_lexer": "ipython3",
   "version": "3.8.3"
  }
 },
 "nbformat": 4,
 "nbformat_minor": 4
}
