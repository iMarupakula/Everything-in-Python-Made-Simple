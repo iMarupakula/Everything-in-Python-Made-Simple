{
 "cells": [
  {
   "cell_type": "markdown",
   "metadata": {},
   "source": [
    "# Python File Handling"
   ]
  },
  {
   "cell_type": "markdown",
   "metadata": {},
   "source": [
    "File Handling is very important concept for day to day coding. Whatever data we are collecting in python collections like list, tuple, dict, set etc. are temperory. Once out program execution completes, automatically all the data will be gone. <br><br>So if we want to store the data for the future purpose, python collections are not helpful. We need to look for another alternative to store the data permanently."
   ]
  },
  {
   "cell_type": "code",
   "execution_count": 1,
   "metadata": {},
   "outputs": [
    {
     "name": "stdout",
     "output_type": "stream",
     "text": [
      "Enter First Name: Sairam\n",
      "Enter Second Name: Kandukuri\n",
      "['Sairam', 'Kandukuri']\n"
     ]
    }
   ],
   "source": [
    "# Lets look at an example to justify the abooove points.\n",
    "\n",
    "l=[]\n",
    "s1=input(\"Enter First Name: \")\n",
    "s2=input(\"Enter Second Name: \")\n",
    "l.append(s1)\n",
    "l.append(s2)\n",
    "print(l)"
   ]
  },
  {
   "cell_type": "markdown",
   "metadata": {},
   "source": [
    "In the above code, i have inputed First Name as 'Sairam' and Second Name as 'Kandukuri'. Once we executed, they will be appended to the list l as above. And once the program execution is done, Python Virtual Machine will clear the all the objects stored in the heap memory. So everytime you run the code, it will ask for First Name and Second Name."
   ]
  },
  {
   "cell_type": "code",
   "execution_count": 2,
   "metadata": {},
   "outputs": [
    {
     "name": "stdout",
     "output_type": "stream",
     "text": [
      "Enter First Name: Sunny\n",
      "Enter Second Name: Leone\n",
      "['Sunny', 'Leone']\n"
     ]
    }
   ],
   "source": [
    "l=[]\n",
    "s1=input(\"Enter First Name: \")\n",
    "s2=input(\"Enter Second Name: \")\n",
    "l.append(s1)\n",
    "l.append(s2)\n",
    "print(l)"
   ]
  },
  {
   "cell_type": "markdown",
   "metadata": {},
   "source": [
    "prevously mentioned Sairam, Kandukuri were cleared by PVM and again asks for new inputs. So objects stored in list, set, dict, tuple etc are temporary. <br><br>\n",
    "For permanent storage of data, we need to look at another alternatives like<br>\n",
    "1) Files<br>\n",
    "2) Database<br>\n",
    "3) Big Data<br><br>\n",
    "\n",
    "Files Concept is best suitable for storing less amount of data.<br><br>\n",
    "- As the part of programming requirement, we have to store our data permanently for future purpose. For this requirement we should go for files.<br>\n",
    "- Files are very common permanent storage area to store our data permanently.<br><br>\n",
    "\n",
    "### Types of Files:\n",
    "There are 2 types of files<br><br>\n",
    "**1) Text Files:**<br>\n",
    "Usually we can use text files to store character data<br>\n",
    "**Eg:** abc.txt<br><br>\n",
    "**2) Binary Files:**<br>\n",
    "Usually we can use binary files to store binary data like images,video files, audio files etc..."
   ]
  },
  {
   "cell_type": "markdown",
   "metadata": {},
   "source": [
    "### Opening a File: \n",
    "- Before performing any operation (like read or write) on the file,first we have to open that file.For this we should use Python's inbuilt function **open()** <br><br>\n",
    "- But at the time of open, we have to specify mode,which represents the purpose of opening file.<br>\n",
    "&ensp;&ensp;&ensp;&ensp;&ensp;&ensp;&ensp;&ensp;&ensp;**f = open(filename, mode)**<br><br>\n",
    "\n",
    "**The allowed modes in Python are**<br><br>\n",
    "1) **r** ==> open an existing file for read operation. The file pointer is positioned at the beginning of the file. If the specified file does not exist then we will get FileNotFoundError. This is default mode.<br>&ensp;&ensp;&ensp;&ensp;&ensp;&ensp;&ensp;&ensp;&ensp;**f = open('abc.txt','r')**<br><br>\n",
    "\n",
    "2) **w** ==> open an existing file for write operation. If the file already contains some data then it will be overridden. If the specified file is not already avaialble then this mode will create that file.<br>\n",
    "&ensp;&ensp;&ensp;&ensp;&ensp;&ensp;&ensp;&ensp;&ensp;**f = open('abc.txt','w')**<br><br>\n",
    "\n",
    "3) **a** ==> open an existing file for append operation. It won't override existing data.If the specified file is not already avaialble then this mode will create a new file.<br>&ensp;&ensp;&ensp;&ensp;&ensp;&ensp;&ensp;&ensp;&ensp;**f = open('abc.txt','a')**<br><br>\n",
    "\n",
    "4) **r+** ==> To read and write data into the file. The previous data in the file will not be deleted.The file pointer is placed at the beginning of the file. While writing, old data will be over written. If the specified file doesn't exist then we will het FileNotFoundError and this mode won't create any new file.<br>&ensp;&ensp;&ensp;&ensp;&ensp;&ensp;&ensp;&ensp;&ensp;**f = open('abc.txt','r+')**<br><br>\n",
    "\n",
    "5) **w+** ==> To write and read data. It will override existing data. If the specified file is not already available then this mode will create that file.<br>&ensp;&ensp;&ensp;&ensp;&ensp;&ensp;&ensp;&ensp;&ensp;**f = open('abc.txt','w+')**<br>\n",
    "\n",
    "6) **a+** ==> To append and read data from the file. It wont override existing data.If the specified file is not already available then this mode will create that file.<br>&ensp;&ensp;&ensp;&ensp;&ensp;&ensp;&ensp;&ensp;&ensp;**f = open('abc.txt','a+')**<br><br>\n",
    "\n",
    "7) **x** ==> To open a file in exclusive creation mode for write operation. If the file already exists then we will get FileExistsError.<br>&ensp;&ensp;&ensp;&ensp;&ensp;&ensp;&ensp;&ensp;&ensp;**f = open('abc.txt','x')**<br><br>\n",
    "\n",
    "**Note:** All the above modes are applicable for text files. If the above modes suffixed with 'b' then these represents for binary files.<br><br>\n",
    "**Eg:** rb,wb,ab,r+b,w+b,a+b,xb<br><br>\n",
    "**f = open(\"abc.txt\",\"w\")**<br>\n",
    "We are opening abc.txt file for writing data."
   ]
  },
  {
   "cell_type": "markdown",
   "metadata": {},
   "source": [
    "### Closing a File: <br>\n",
    "After completing our operations on the file, it is highly recommended to close the file.<br> For this we have to use **close()** function.<br><br>\n",
    "Whenever we are closing the file, all system resources which are associated with that file will be released.<br><br>\n",
    "If many files are opened and not closed, might face performance issues.<br><br>\n",
    "**f.close()**<br><br><br>\n",
    "\n",
    "### Various Properties of File Object: \n",
    "Once we opend a file and we got file object, we can get various details related to that file by using its properties.<br>**f = open(\"abc.txt\",\"w\")**<br><br>\n",
    "- **f.name** ==> Name of opened file<br>\n",
    "- **f.mode** ==> Mode in which the file is opened<br> \n",
    "- **f.closed** ==> Returns boolean value indicates that file is closed or not <br>\n",
    "- **f.readable()** ==> Retruns boolean value indicates that whether file is readable or not. <br>\n",
    "- **f.writable()** ==> Returns boolean value indicates that whether file is writable or not.<br>"
   ]
  },
  {
   "cell_type": "code",
   "execution_count": 5,
   "metadata": {},
   "outputs": [
    {
     "name": "stdout",
     "output_type": "stream",
     "text": [
      "File Name:  Supportive_Files/abc.txt\n",
      "File Mode: r\n",
      "Is File CLosed: False\n",
      "Is File Readble: True\n",
      "Is File Writable: False\n",
      "Is File Closed: True\n"
     ]
    }
   ],
   "source": [
    "f=open('Supportive_Files/abc.txt','r')\n",
    "\n",
    "print('File Name: ',f.name)\n",
    "print('File Mode:',f.mode)\n",
    "print(\"Is File CLosed:\",f.closed)\n",
    "print(\"Is File Readble:\",f.readable())\n",
    "print(\"Is File Writable:\",f.writable())\n",
    "\n",
    "f.close()\n",
    "print(\"Is File Closed:\",f.closed)"
   ]
  },
  {
   "cell_type": "code",
   "execution_count": 6,
   "metadata": {},
   "outputs": [
    {
     "name": "stdout",
     "output_type": "stream",
     "text": [
      "File Name:  Supportive_Files/abc.txt\n",
      "File Mode: w\n",
      "Is File CLosed: False\n",
      "Is File Readble: False\n",
      "Is File Writable: True\n",
      "Is File Closed: True\n"
     ]
    }
   ],
   "source": [
    "f=open('Supportive_Files/abc.txt','w')\n",
    "\n",
    "print('File Name: ',f.name)\n",
    "print('File Mode:',f.mode)\n",
    "print(\"Is File CLosed:\",f.closed)\n",
    "print(\"Is File Readble:\",f.readable())\n",
    "print(\"Is File Writable:\",f.writable())\n",
    "\n",
    "f.close()\n",
    "print(\"Is File Closed:\",f.closed)"
   ]
  },
  {
   "cell_type": "code",
   "execution_count": 7,
   "metadata": {},
   "outputs": [
    {
     "name": "stdout",
     "output_type": "stream",
     "text": [
      "File Name:  Supportive_Files/abc.txt\n",
      "File Mode: w+\n",
      "Is File CLosed: False\n",
      "Is File Readble: True\n",
      "Is File Writable: True\n",
      "Is File Closed: True\n"
     ]
    }
   ],
   "source": [
    "f=open('Supportive_Files/abc.txt','w+')\n",
    "\n",
    "print('File Name: ',f.name)\n",
    "print('File Mode:',f.mode)\n",
    "print(\"Is File CLosed:\",f.closed)\n",
    "print(\"Is File Readble:\",f.readable())\n",
    "print(\"Is File Writable:\",f.writable())\n",
    "\n",
    "f.close()\n",
    "print(\"Is File Closed:\",f.closed)"
   ]
  },
  {
   "cell_type": "code",
   "execution_count": 8,
   "metadata": {},
   "outputs": [
    {
     "name": "stdout",
     "output_type": "stream",
     "text": [
      "File Name:  Supportive_Files/abc.txt\n",
      "File Mode: r+\n",
      "Is File CLosed: False\n",
      "Is File Readble: True\n",
      "Is File Writable: True\n",
      "Is File Closed: True\n"
     ]
    }
   ],
   "source": [
    "f=open('Supportive_Files/abc.txt','r+')\n",
    "\n",
    "print('File Name: ',f.name)\n",
    "print('File Mode:',f.mode)\n",
    "print(\"Is File CLosed:\",f.closed)\n",
    "print(\"Is File Readble:\",f.readable())\n",
    "print(\"Is File Writable:\",f.writable())\n",
    "\n",
    "f.close()\n",
    "print(\"Is File Closed:\",f.closed)"
   ]
  },
  {
   "cell_type": "code",
   "execution_count": 10,
   "metadata": {},
   "outputs": [
    {
     "name": "stdout",
     "output_type": "stream",
     "text": [
      "File Name:  Supportive_Files/abc.txt\n",
      "File Mode: a\n",
      "Is File CLosed: False\n",
      "Is File Readble: False\n",
      "Is File Writable: True\n",
      "Is File Closed: True\n"
     ]
    }
   ],
   "source": [
    "f=open('Supportive_Files/abc.txt','a')\n",
    "\n",
    "print('File Name: ',f.name)\n",
    "print('File Mode:',f.mode)\n",
    "print(\"Is File CLosed:\",f.closed)\n",
    "print(\"Is File Readble:\",f.readable())\n",
    "print(\"Is File Writable:\",f.writable())\n",
    "\n",
    "f.close()\n",
    "print(\"Is File Closed:\",f.closed)"
   ]
  },
  {
   "cell_type": "code",
   "execution_count": 11,
   "metadata": {},
   "outputs": [
    {
     "name": "stdout",
     "output_type": "stream",
     "text": [
      "File Name:  Supportive_Files/abc.txt\n",
      "File Mode: a+\n",
      "Is File CLosed: False\n",
      "Is File Readble: True\n",
      "Is File Writable: True\n",
      "Is File Closed: True\n"
     ]
    }
   ],
   "source": [
    "f=open('Supportive_Files/abc.txt','a+')\n",
    "\n",
    "print('File Name: ',f.name)\n",
    "print('File Mode:',f.mode)\n",
    "print(\"Is File CLosed:\",f.closed)\n",
    "print(\"Is File Readble:\",f.readable())\n",
    "print(\"Is File Writable:\",f.writable())\n",
    "\n",
    "f.close()\n",
    "print(\"Is File Closed:\",f.closed)"
   ]
  },
  {
   "cell_type": "code",
   "execution_count": 12,
   "metadata": {},
   "outputs": [
    {
     "ename": "FileExistsError",
     "evalue": "[Errno 17] File exists: 'Supportive_Files/abc.txt'",
     "output_type": "error",
     "traceback": [
      "\u001b[1;31m---------------------------------------------------------------------------\u001b[0m",
      "\u001b[1;31mFileExistsError\u001b[0m                           Traceback (most recent call last)",
      "\u001b[1;32m<ipython-input-12-9a0068267155>\u001b[0m in \u001b[0;36m<module>\u001b[1;34m\u001b[0m\n\u001b[1;32m----> 1\u001b[1;33m \u001b[0mf\u001b[0m\u001b[1;33m=\u001b[0m\u001b[0mopen\u001b[0m\u001b[1;33m(\u001b[0m\u001b[1;34m'Supportive_Files/abc.txt'\u001b[0m\u001b[1;33m,\u001b[0m\u001b[1;34m'x'\u001b[0m\u001b[1;33m)\u001b[0m\u001b[1;33m\u001b[0m\u001b[1;33m\u001b[0m\u001b[0m\n\u001b[0m\u001b[0;32m      2\u001b[0m \u001b[1;33m\u001b[0m\u001b[0m\n\u001b[0;32m      3\u001b[0m \u001b[0mprint\u001b[0m\u001b[1;33m(\u001b[0m\u001b[1;34m'File Name: '\u001b[0m\u001b[1;33m,\u001b[0m\u001b[0mf\u001b[0m\u001b[1;33m.\u001b[0m\u001b[0mname\u001b[0m\u001b[1;33m)\u001b[0m\u001b[1;33m\u001b[0m\u001b[1;33m\u001b[0m\u001b[0m\n\u001b[0;32m      4\u001b[0m \u001b[0mprint\u001b[0m\u001b[1;33m(\u001b[0m\u001b[1;34m'File Mode:'\u001b[0m\u001b[1;33m,\u001b[0m\u001b[0mf\u001b[0m\u001b[1;33m.\u001b[0m\u001b[0mmode\u001b[0m\u001b[1;33m)\u001b[0m\u001b[1;33m\u001b[0m\u001b[1;33m\u001b[0m\u001b[0m\n\u001b[0;32m      5\u001b[0m \u001b[0mprint\u001b[0m\u001b[1;33m(\u001b[0m\u001b[1;34m\"Is File CLosed:\"\u001b[0m\u001b[1;33m,\u001b[0m\u001b[0mf\u001b[0m\u001b[1;33m.\u001b[0m\u001b[0mclosed\u001b[0m\u001b[1;33m)\u001b[0m\u001b[1;33m\u001b[0m\u001b[1;33m\u001b[0m\u001b[0m\n",
      "\u001b[1;31mFileExistsError\u001b[0m: [Errno 17] File exists: 'Supportive_Files/abc.txt'"
     ]
    }
   ],
   "source": [
    "f=open('Supportive_Files/abc.txt','x')\n",
    "\n",
    "print('File Name: ',f.name)\n",
    "print('File Mode:',f.mode)\n",
    "print(\"Is File CLosed:\",f.closed)\n",
    "print(\"Is File Readble:\",f.readable())\n",
    "print(\"Is File Writable:\",f.writable())\n",
    "\n",
    "f.close()\n",
    "print(\"Is File Closed:\",f.closed)"
   ]
  },
  {
   "cell_type": "code",
   "execution_count": 13,
   "metadata": {},
   "outputs": [
    {
     "name": "stdout",
     "output_type": "stream",
     "text": [
      "File Name:  Supportive_Files/def.txt\n",
      "File Mode: x\n",
      "Is File CLosed: False\n",
      "Is File Readble: False\n",
      "Is File Writable: True\n",
      "Is File Closed: True\n"
     ]
    }
   ],
   "source": [
    "f=open('Supportive_Files/def.txt','x') # Created def.txt file in Supportive_Files\n",
    "\n",
    "print('File Name: ',f.name)\n",
    "print('File Mode:',f.mode)\n",
    "print(\"Is File CLosed:\",f.closed)\n",
    "print(\"Is File Readble:\",f.readable())\n",
    "print(\"Is File Writable:\",f.writable())\n",
    "\n",
    "f.close()\n",
    "print(\"Is File Closed:\",f.closed)"
   ]
  },
  {
   "cell_type": "markdown",
   "metadata": {},
   "source": [
    "## Writing Data to Text Files:<br>\n",
    "We can write character data to the text files by using the following 2 methods.<br>\n",
    "1) **write(str)**<br>\n",
    "2) **writelines(list of lines)**<br>"
   ]
  },
  {
   "cell_type": "code",
   "execution_count": 19,
   "metadata": {},
   "outputs": [
    {
     "name": "stdout",
     "output_type": "stream",
     "text": [
      "Date written to the file Successfully\n"
     ]
    }
   ],
   "source": [
    "f=open('Supportive_Files/abc.txt','w')\n",
    "f.write(\"I am Sairam Kandukuri.\\n\")\n",
    "f.write(\"Working as an Associate Analyst\") # If not specied \\n then everything will be printed in same line.\n",
    "f.write(\" in GlobalData Plc\")\n",
    "f.write(\" in Hyderabad.\")\n",
    "f.close()\n",
    "print(\"Date written to the file Successfully\")"
   ]
  },
  {
   "cell_type": "markdown",
   "metadata": {},
   "source": [
    "The output for the above is as follows, which has overwritten the prevoius text in it with new text as below.\n",
    "<img src=\"Supportive_Files/fh1.png\"><br><br>\n",
    "**Note:** In the above program, data present in the file will be overridden everytime if we run the program. Instead of overriding if we want append operation then we should open the file as follows.<br><br>\n",
    "**f = open(\"Supportive_Files/abc.txt\",\"a\")**"
   ]
  },
  {
   "cell_type": "code",
   "execution_count": 24,
   "metadata": {},
   "outputs": [
    {
     "name": "stdout",
     "output_type": "stream",
     "text": [
      "Date written to the file Successfully\n"
     ]
    }
   ],
   "source": [
    "f=open('Supportive_Files/abc.txt','a')\n",
    "f.write(\"I am Sairam Kandukuri.\\n\")\n",
    "f.write(\"Working as an Associate Analyst\") # If not specied \\n then everything will be printed in same line.\n",
    "f.write(\" in GlobalData Plc\")\n",
    "f.write(\" in Hyderabad.\")\n",
    "f.close()\n",
    "print(\"Date written to the file Successfully\")"
   ]
  },
  {
   "cell_type": "markdown",
   "metadata": {},
   "source": [
    "Now i want to append the code the abc.txt file, so i have changed mode from 'w' to 'a'. Then i ran run the code several times as result, it appended several times in abc.txt file as below. <br><br>\n",
    "<img src=\"Supportive_Files/fh2.png\" width=600><br><br>\n",
    "**Note:** While writing data by using write() methods, compulsory we have to provide line seperator(\\n), otherwise total data should be written to a single line."
   ]
  },
  {
   "cell_type": "code",
   "execution_count": 25,
   "metadata": {},
   "outputs": [
    {
     "name": "stdout",
     "output_type": "stream",
     "text": [
      "List of lines written to the file successfully\n"
     ]
    }
   ],
   "source": [
    "f=open(\"Supportive_Files/def.txt\",'w')\n",
    "list = [\"Sairam\\n\",\"Mahesh\\n\",\"Manoj\\n\",\"Hari\\n\",\"Aravind\\n\"]\n",
    "f.writelines(list)\n",
    "print(\"List of lines written to the file successfully\")\n",
    "f.close()"
   ]
  },
  {
   "cell_type": "markdown",
   "metadata": {},
   "source": [
    "Wrting the data to the def.txt using writelines method from the list.<br><br>\n",
    "\n",
    "<img src=\"Supportive_Files/fh3.png\"><br><br>\n",
    "Insted of list, we can also pass tuple, set(order will not be preserved), dict(Only Keys will be added)."
   ]
  },
  {
   "cell_type": "code",
   "execution_count": 33,
   "metadata": {},
   "outputs": [
    {
     "name": "stdout",
     "output_type": "stream",
     "text": [
      "Tuple of lines written to the file successfully\n"
     ]
    }
   ],
   "source": [
    "f=open(\"Supportive_Files/def.txt\",'a')\n",
    "tup = (\"Passing from Tuple:\\n\",\"Sairam\\n\",\"Mahesh\\n\",\"Manoj\\n\",\"Hari\\n\",\"Aravind\\n\")\n",
    "f.writelines(tup)\n",
    "print(\"Tuple of lines written to the file successfully\")\n",
    "f.close()"
   ]
  },
  {
   "cell_type": "markdown",
   "metadata": {},
   "source": [
    "Tuple also Passed Succesfully<br>\n",
    "<img src=\"Supportive_Files/fh4.png\"><br><br>"
   ]
  },
  {
   "cell_type": "code",
   "execution_count": 32,
   "metadata": {},
   "outputs": [
    {
     "name": "stdout",
     "output_type": "stream",
     "text": [
      "Set of lines written to the file successfully\n"
     ]
    }
   ],
   "source": [
    "f=open(\"Supportive_Files/def.txt\",'w')\n",
    "s = {\"Sairam\\n\",\"Mahesh\\n\",\"Manoj\\n\",\"Hari\\n\",\"Aravind\\n\"}\n",
    "f.writelines(s)\n",
    "print(\"Set of lines written to the file successfully\")\n",
    "f.close()"
   ]
  },
  {
   "cell_type": "markdown",
   "metadata": {},
   "source": [
    "Set also Passed Succesfully, But if we observe the order, it has changed.<br>\n",
    "<img src=\"Supportive_Files/fh5.png\"><br><br>"
   ]
  },
  {
   "cell_type": "code",
   "execution_count": 31,
   "metadata": {},
   "outputs": [
    {
     "name": "stdout",
     "output_type": "stream",
     "text": [
      "Dict of lines written to the file successfully\n"
     ]
    }
   ],
   "source": [
    "f=open(\"Supportive_Files/def.txt\",'w')\n",
    "#s = {\"Sairam\\n\",\"Mahesh\\n\",\"Manoj\\n\",\"Hari\\n\",\"Aravind\\n\"}\n",
    "d={'Sairam\\n':100,'Mahesh\\n':200}\n",
    "f.writelines(d)\n",
    "print(\"Dict of lines written to the file successfully\")\n",
    "f.close()"
   ]
  },
  {
   "cell_type": "markdown",
   "metadata": {},
   "source": [
    "Dictionary also Passed Successfully, But only keys are added to the file as below. Values will not be added.<br>\n",
    "<img src=\"Supportive_Files/fh6.png\"><br><br>"
   ]
  },
  {
   "cell_type": "code",
   "execution_count": 34,
   "metadata": {},
   "outputs": [
    {
     "ename": "TypeError",
     "evalue": "write() argument must be str, not int",
     "output_type": "error",
     "traceback": [
      "\u001b[1;31m---------------------------------------------------------------------------\u001b[0m",
      "\u001b[1;31mTypeError\u001b[0m                                 Traceback (most recent call last)",
      "\u001b[1;32m<ipython-input-34-8068780873ba>\u001b[0m in \u001b[0;36m<module>\u001b[1;34m\u001b[0m\n\u001b[0;32m      2\u001b[0m \u001b[1;31m#s = {\"Sairam\\n\",\"Mahesh\\n\",\"Manoj\\n\",\"Hari\\n\",\"Aravind\\n\"}\u001b[0m\u001b[1;33m\u001b[0m\u001b[1;33m\u001b[0m\u001b[1;33m\u001b[0m\u001b[0m\n\u001b[0;32m      3\u001b[0m \u001b[0md\u001b[0m\u001b[1;33m=\u001b[0m\u001b[1;33m{\u001b[0m\u001b[1;36m100\u001b[0m\u001b[1;33m:\u001b[0m\u001b[1;34m\"Sairam\"\u001b[0m\u001b[1;33m,\u001b[0m\u001b[1;36m200\u001b[0m\u001b[1;33m:\u001b[0m\u001b[1;34m'Mahesh'\u001b[0m\u001b[1;33m}\u001b[0m\u001b[1;33m\u001b[0m\u001b[1;33m\u001b[0m\u001b[0m\n\u001b[1;32m----> 4\u001b[1;33m \u001b[0mf\u001b[0m\u001b[1;33m.\u001b[0m\u001b[0mwritelines\u001b[0m\u001b[1;33m(\u001b[0m\u001b[0md\u001b[0m\u001b[1;33m)\u001b[0m\u001b[1;33m\u001b[0m\u001b[1;33m\u001b[0m\u001b[0m\n\u001b[0m\u001b[0;32m      5\u001b[0m \u001b[0mprint\u001b[0m\u001b[1;33m(\u001b[0m\u001b[1;34m\"Dict of lines written to the file successfully\"\u001b[0m\u001b[1;33m)\u001b[0m\u001b[1;33m\u001b[0m\u001b[1;33m\u001b[0m\u001b[0m\n\u001b[0;32m      6\u001b[0m \u001b[0mf\u001b[0m\u001b[1;33m.\u001b[0m\u001b[0mclose\u001b[0m\u001b[1;33m(\u001b[0m\u001b[1;33m)\u001b[0m\u001b[1;33m\u001b[0m\u001b[1;33m\u001b[0m\u001b[0m\n",
      "\u001b[1;31mTypeError\u001b[0m: write() argument must be str, not int"
     ]
    }
   ],
   "source": [
    "f=open(\"Supportive_Files/def.txt\",'w')\n",
    "#s = {\"Sairam\\n\",\"Mahesh\\n\",\"Manoj\\n\",\"Hari\\n\",\"Aravind\\n\"}\n",
    "d={100:\"Sairam\",200:'Mahesh'}\n",
    "f.writelines(d)\n",
    "print(\"Dict of lines written to the file successfully\")\n",
    "f.close()"
   ]
  },
  {
   "cell_type": "markdown",
   "metadata": {},
   "source": [
    "**Note:** Compulsary, the keys we are passing should be string type, if keys are int TypeError will be raised as above.<br><br>\n",
    "\n",
    "#### Program for writing Dynamic Data to Dynamic File"
   ]
  },
  {
   "cell_type": "code",
   "execution_count": 35,
   "metadata": {},
   "outputs": [
    {
     "name": "stdout",
     "output_type": "stream",
     "text": [
      "Enter File Name:abcd.txt\n",
      "Enter data to write:Hi\n",
      "Do you want to add some more data [Yes/No]:yes\n",
      "Enter data to write:My Name is Sairam Kandukuri\n",
      "Do you want to add some more data [Yes/No]:yes\n",
      "Enter data to write:I am learning python file handling\n",
      "Do you want to add some more data [Yes/No]:no\n",
      "Data written to the file succesfully\n"
     ]
    }
   ],
   "source": [
    "fname = input(\"Enter File Name:\")\n",
    "f=open(\"Supportive_Files/{}\".format(fname),'w')\n",
    "while True:\n",
    "    data = input(\"Enter data to write:\")\n",
    "    f.write(data + '\\n')\n",
    "    option = input(\"Do you want to add some more data [Yes/No]:\")\n",
    "    if option.lower() == 'no':\n",
    "        break\n",
    "f.close()\n",
    "print(\"Data written to the file succesfully\")"
   ]
  },
  {
   "cell_type": "markdown",
   "metadata": {},
   "source": [
    "abcd.txt is not avaialble so it has created it and For the above code and Dynamic data we have provided, below is the output written in the **abcd.txt** file<br>\n",
    "<img src=\"Supportive_Files/fh7.png\">"
   ]
  },
  {
   "cell_type": "markdown",
   "metadata": {},
   "source": [
    "### Reading Character Data from Text Files: \n",
    "We can read character data from text file by using the following read methods.<br>\n",
    "- **read()** ==> To read total data from the file<br>\n",
    "- **read(n)** ==> To read 'n' characters from the file <br>\n",
    "- **readline()** ==> To read only one line<br>\n",
    "- **readlines()** ==> To read all lines into a list<br><br>"
   ]
  },
  {
   "cell_type": "code",
   "execution_count": 38,
   "metadata": {},
   "outputs": [
    {
     "name": "stdout",
     "output_type": "stream",
     "text": [
      "Hi\n",
      "My Name is Sairam Kandukuri\n",
      "I am learning python file handling\n",
      "\n"
     ]
    }
   ],
   "source": [
    "# Eg 1: To read total data from the file\n",
    "\n",
    "f=open(\"Supportive_Files/abcd.txt\",'r')\n",
    "data=f.read()\n",
    "print(data)\n",
    "f.close()"
   ]
  },
  {
   "cell_type": "code",
   "execution_count": 41,
   "metadata": {},
   "outputs": [
    {
     "name": "stdout",
     "output_type": "stream",
     "text": [
      "Hi\n",
      "My Name\n"
     ]
    }
   ],
   "source": [
    "# Eg 2: To read only first 10 characters:\n",
    "f=open(\"Supportive_Files/abcd.txt\",'r')\n",
    "data=f.read(10)\n",
    "print(data)\n",
    "f.close()"
   ]
  },
  {
   "cell_type": "markdown",
   "metadata": {},
   "source": [
    "If the specified number of characters are not available in the file then, only available characters we will get.<br>\n",
    "**data = f.read(1000)**"
   ]
  },
  {
   "cell_type": "code",
   "execution_count": 42,
   "metadata": {},
   "outputs": [
    {
     "name": "stdout",
     "output_type": "stream",
     "text": [
      "Hi\n",
      "My Name is Sairam Kandukuri\n",
      "I am learning python file handling\n",
      "\n"
     ]
    }
   ],
   "source": [
    "f=open(\"Supportive_Files/abcd.txt\",'r')\n",
    "data=f.read(1000)\n",
    "print(data)\n",
    "f.close()"
   ]
  },
  {
   "cell_type": "markdown",
   "metadata": {},
   "source": [
    "If we are passing -ve value as argument, then we will get total file content.<br>**data = f.read(-1)**<br>For any -ve value, result is always same."
   ]
  },
  {
   "cell_type": "code",
   "execution_count": 43,
   "metadata": {},
   "outputs": [
    {
     "name": "stdout",
     "output_type": "stream",
     "text": [
      "Hi\n",
      "My Name is Sairam Kandukuri\n",
      "I am learning python file handling\n",
      "\n"
     ]
    }
   ],
   "source": [
    "f=open(\"Supportive_Files/abcd.txt\",'r')\n",
    "data=f.read(-1)\n",
    "print(data)\n",
    "f.close()"
   ]
  },
  {
   "cell_type": "code",
   "execution_count": 47,
   "metadata": {},
   "outputs": [
    {
     "name": "stdout",
     "output_type": "stream",
     "text": [
      "First Line: 8885367585\n",
      "Second Line: 7274064182\n",
      "Third Line: 9704830885\n"
     ]
    }
   ],
   "source": [
    "# Eg 3: To read data line by line:\n",
    "f=open(\"Supportive_Files/phone.txt\",'r')\n",
    "line1 = f.readline()\n",
    "print(\"First Line:\",line1,end='')\n",
    "line2 = f.readline()\n",
    "print(\"Second Line:\",line2,end='')\n",
    "line3 = f.readline()\n",
    "print(\"Third Line:\",line3,end='')\n",
    "f.close()"
   ]
  },
  {
   "cell_type": "code",
   "execution_count": 49,
   "metadata": {},
   "outputs": [
    {
     "name": "stdout",
     "output_type": "stream",
     "text": [
      "8885367585\n",
      "7274064182\n",
      "9704830885\n",
      "9394770689\n",
      "8519956035\n",
      "9705112268\n",
      "6281054439\n",
      "9063348832\n",
      "5643287154\n",
      "6854237235"
     ]
    }
   ],
   "source": [
    "# To read all the large data line by line \n",
    "f=open(\"Supportive_Files/phone.txt\",'r')\n",
    "line=f.readline()\n",
    "while line != \"\":\n",
    "    print(line,end='')\n",
    "    line=f.readline()\n",
    "f.close()\n"
   ]
  },
  {
   "cell_type": "markdown",
   "metadata": {},
   "source": [
    "**Note:** If control reaches end of file (i.e if there is no next line in the file) then readline() method returns empty string."
   ]
  },
  {
   "cell_type": "code",
   "execution_count": 53,
   "metadata": {},
   "outputs": [
    {
     "name": "stdout",
     "output_type": "stream",
     "text": [
      "['sunny\\n', 'bunny\\n', 'munny\\n', 'runny\\n', 'gunny']\n",
      "sunny\n",
      "bunny\n",
      "munny\n",
      "runny\n",
      "gunny"
     ]
    }
   ],
   "source": [
    "# Eg 4: To read all lines into list:\n",
    "f=open(\"Supportive_Files/def.txt\",'r')\n",
    "l=f.readlines()\n",
    "print(l)\n",
    "for line in l:\n",
    "    print(line,end='')\n",
    "f.close()    "
   ]
  },
  {
   "cell_type": "code",
   "execution_count": 57,
   "metadata": {},
   "outputs": [
    {
     "name": "stdout",
     "output_type": "stream",
     "text": [
      "sun\n",
      "ny\n",
      "\n",
      "bunny\n",
      "\n",
      "munn\n",
      "Remaining Data\n",
      "y\n",
      "runny\n",
      "gunny\n"
     ]
    }
   ],
   "source": [
    "# To Use multiple read methods, It is not recommended\n",
    "\n",
    "f=open(\"Supportive_Files/def.txt\",'r')\n",
    "print(f.read(3)) # after this, pointer will be pointing at second n\n",
    "print(f.readline()) # ny will be the next line from the pointer\n",
    "print(f.readline()) # bunny \n",
    "print(f.read(4)) # munn\n",
    "print('Remaining Data')\n",
    "print(f.read()) # y, runny,gunny\n"
   ]
  },
  {
   "cell_type": "code",
   "execution_count": 2,
   "metadata": {},
   "outputs": [],
   "source": [
    "# program for reading data from one file(input.txt) and writing to another file(output.txt).\n",
    "\n",
    "f1=open(\"Supportive_Files/input.txt\",'r')\n",
    "f2=open(\"Supportive_Files/output.txt\",'w')\n",
    "data = f1.read()\n",
    "f2.write(data)\n",
    "f1.close()\n",
    "f2.close()"
   ]
  },
  {
   "cell_type": "markdown",
   "metadata": {},
   "source": [
    "Data from input.txt is written to output.txt file like below.<br>\n",
    "<img src=\"Supportive_Files/fh8.png\">"
   ]
  },
  {
   "cell_type": "markdown",
   "metadata": {},
   "source": [
    "### The With Statement\n",
    "\n",
    "- The with statement can be used while opening a file.We can use this to group file operation statements within a block.<br><br>\n",
    "- The advantage of with statement is it will take care closing of file,after completing all operations automatically even in the case of exceptions also, and we are not required to close explicitly."
   ]
  },
  {
   "cell_type": "code",
   "execution_count": 4,
   "metadata": {},
   "outputs": [
    {
     "name": "stdout",
     "output_type": "stream",
     "text": [
      "Is file closed: False\n",
      "Is file Closed: True\n"
     ]
    }
   ],
   "source": [
    "with open('Supportive_Files/abc1.text','w') as f:\n",
    "    f.write(\"Sairam\\n\")\n",
    "    f.write(\"Kandukuri\\n\")\n",
    "    f.write(\"Nizampet\\n\")\n",
    "    f.write(\"Hyderabad\\n\")\n",
    "    print(\"Is file closed:\",f.closed) # False\n",
    "    \n",
    "print(\"Is file Closed:\",f.closed) # True"
   ]
  },
  {
   "cell_type": "markdown",
   "metadata": {},
   "source": [
    "The above code will write the content to abc1.txt as follows.\n",
    "<img src=\"Supportive_Files/fh9.png\"><br><br>\n",
    "**f = open('Supportive_Files/abc.txt','w')**<br>\n",
    "In this case we have to close the file explicitly.<br><br>\n",
    "\n",
    "**with open('Supportive_Files/abc.txt','w') as f:**<br>\n",
    "In this case we are not required to close file explicitly and it will be closed automatically."
   ]
  },
  {
   "cell_type": "markdown",
   "metadata": {},
   "source": [
    "## The seek() and tell() Methods:\n",
    "#### tell():<br>\n",
    "- We can use tell() method to return current position of the cursor(file pointer) from beginning of the file. [ can you plese telll current cursor position]<br><br>\n",
    "- The position(index) of first character in files is zero just like string index."
   ]
  },
  {
   "cell_type": "code",
   "execution_count": null,
   "metadata": {},
   "outputs": [],
   "source": [
    "f=open(\"Supportive_Files/ac.txt\",'r')\n",
    "print(f.tell())\n",
    "print(f.read())"
   ]
  },
  {
   "cell_type": "code",
   "execution_count": null,
   "metadata": {},
   "outputs": [],
   "source": []
  },
  {
   "cell_type": "code",
   "execution_count": null,
   "metadata": {},
   "outputs": [],
   "source": []
  },
  {
   "cell_type": "code",
   "execution_count": null,
   "metadata": {},
   "outputs": [],
   "source": []
  }
 ],
 "metadata": {
  "kernelspec": {
   "display_name": "Python 3",
   "language": "python",
   "name": "python3"
  },
  "language_info": {
   "codemirror_mode": {
    "name": "ipython",
    "version": 3
   },
   "file_extension": ".py",
   "mimetype": "text/x-python",
   "name": "python",
   "nbconvert_exporter": "python",
   "pygments_lexer": "ipython3",
   "version": "3.8.3"
  }
 },
 "nbformat": 4,
 "nbformat_minor": 4
}
