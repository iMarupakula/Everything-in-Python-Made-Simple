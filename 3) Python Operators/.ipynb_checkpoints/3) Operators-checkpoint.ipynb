{
 "cells": [
  {
   "cell_type": "markdown",
   "id": "a36298e9",
   "metadata": {},
   "source": [
    "# Operators\n",
    "\n",
    "- Operator is a symbol that performs certain operations.<br>\n",
    "- Python provides the following set of operators<br><br>\n",
    "> 1) Arithmetic Operators<br>\n",
    "> 2) Relational Operators OR Comparison Operators<br> \n",
    "> 3) Logical operators<br>\n",
    "> 4) Bitwise oeprators<br>\n",
    "> 5) Assignment operators<br>\n",
    "> 6) Special operators<br><br>\n",
    "\n",
    "## Arithmetic Operators:\n",
    "\n",
    "1) **+** ==> **Addition**<br>\n",
    "2) **-** ==> **Subraction**<br>\n",
    "3) **\\*** ==> **Multiplication**<br>\n",
    "4) **/** ==> **Division**<br>\n",
    "5) **%** ==> **Modulo Operator(remainder)**<br>\n",
    "6) **//** ==> **Floor Division Operator**<br>\n",
    "7) **\\**** ==> **Exponent Operator OR Power Operator**<br> "
   ]
  },
  {
   "cell_type": "code",
   "execution_count": 1,
   "id": "3a6ba301",
   "metadata": {},
   "outputs": [
    {
     "name": "stdout",
     "output_type": "stream",
     "text": [
      "a+b =  15\n",
      "a-b =  5\n",
      "a*b =  50\n",
      "a/b =  2.0\n",
      "a%b =  0\n",
      "a//b =  2\n",
      "a**b =  100000\n"
     ]
    }
   ],
   "source": [
    "a = 10\n",
    "b = 5\n",
    "\n",
    "print(\"a+b = \",a+b)\n",
    "print(\"a-b = \",a-b)\n",
    "print(\"a*b = \",a*b)\n",
    "print(\"a/b = \",a/b)\n",
    "print(\"a%b = \",a%b)\n",
    "print(\"a//b = \",a//b)\n",
    "print(\"a**b = \",a**b)"
   ]
  },
  {
   "cell_type": "markdown",
   "id": "3e7aa352",
   "metadata": {},
   "source": [
    "**Note:** \n",
    "֍ / operator always performs floating point arithmetic. Hence it will always returns float value.<br>\n",
    "֍ But Floor division (//) can perform both floating point and integral arithmetic. If arguments are int type then result is int type. If atleast one argument is float type then result is float type.<br><br>\n",
    "\n",
    "Note:\n",
    "֍ We can use +,* operators for str type also.<br> ֍ If we want to use + operator for str type then compulsory both arguments should be str type only otherwise we will get error."
   ]
  },
  {
   "cell_type": "code",
   "execution_count": 2,
   "id": "4ae77b4f",
   "metadata": {},
   "outputs": [
    {
     "ename": "TypeError",
     "evalue": "can only concatenate str (not \"int\") to str",
     "output_type": "error",
     "traceback": [
      "\u001b[1;31m---------------------------------------------------------------------------\u001b[0m",
      "\u001b[1;31mTypeError\u001b[0m                                 Traceback (most recent call last)",
      "\u001b[1;32m~\\AppData\\Local\\Temp/ipykernel_4844/4018844502.py\u001b[0m in \u001b[0;36m<module>\u001b[1;34m\u001b[0m\n\u001b[1;32m----> 1\u001b[1;33m \u001b[1;34m\"Sairam\"\u001b[0m \u001b[1;33m+\u001b[0m \u001b[1;36m143\u001b[0m\u001b[1;33m\u001b[0m\u001b[1;33m\u001b[0m\u001b[0m\n\u001b[0m",
      "\u001b[1;31mTypeError\u001b[0m: can only concatenate str (not \"int\") to str"
     ]
    }
   ],
   "source": [
    "\"Sairam\" + 143"
   ]
  },
  {
   "cell_type": "code",
   "execution_count": 3,
   "id": "16d54325",
   "metadata": {},
   "outputs": [
    {
     "data": {
      "text/plain": [
       "'Sairam143'"
      ]
     },
     "execution_count": 3,
     "metadata": {},
     "output_type": "execute_result"
    }
   ],
   "source": [
    "\"Sairam\" + \"143\""
   ]
  },
  {
   "cell_type": "markdown",
   "id": "783e507a",
   "metadata": {},
   "source": [
    "֍ If we use * operator for str type then compulsory one argument should be int and other argument should be str type."
   ]
  },
  {
   "cell_type": "code",
   "execution_count": 4,
   "id": "5e569f24",
   "metadata": {},
   "outputs": [
    {
     "data": {
      "text/plain": [
       "'ramram'"
      ]
     },
     "execution_count": 4,
     "metadata": {},
     "output_type": "execute_result"
    }
   ],
   "source": [
    "2*\"ram\""
   ]
  },
  {
   "cell_type": "code",
   "execution_count": 5,
   "id": "a4774461",
   "metadata": {},
   "outputs": [
    {
     "data": {
      "text/plain": [
       "'ramram'"
      ]
     },
     "execution_count": 5,
     "metadata": {},
     "output_type": "execute_result"
    }
   ],
   "source": [
    "\"ram\"*2"
   ]
  },
  {
   "cell_type": "code",
   "execution_count": 6,
   "id": "5eba66bd",
   "metadata": {},
   "outputs": [
    {
     "ename": "TypeError",
     "evalue": "can't multiply sequence by non-int of type 'float'",
     "output_type": "error",
     "traceback": [
      "\u001b[1;31m---------------------------------------------------------------------------\u001b[0m",
      "\u001b[1;31mTypeError\u001b[0m                                 Traceback (most recent call last)",
      "\u001b[1;32m~\\AppData\\Local\\Temp/ipykernel_4844/2863699354.py\u001b[0m in \u001b[0;36m<module>\u001b[1;34m\u001b[0m\n\u001b[1;32m----> 1\u001b[1;33m \u001b[1;36m2.5\u001b[0m\u001b[1;33m*\u001b[0m\u001b[1;34m\"ram\"\u001b[0m\u001b[1;33m\u001b[0m\u001b[1;33m\u001b[0m\u001b[0m\n\u001b[0m",
      "\u001b[1;31mTypeError\u001b[0m: can't multiply sequence by non-int of type 'float'"
     ]
    }
   ],
   "source": [
    "2.5*\"ram\""
   ]
  },
  {
   "cell_type": "markdown",
   "id": "fe2632e1",
   "metadata": {},
   "source": [
    "֍ **+** ==> String Concatenation Operator<br>\n",
    "֍ **\\*** ==> String Multiplication Operator<br><br>\n",
    "\n",
    "**Note:**\n",
    "For any number x, x/0 and x%0 always raises \"ZeroDivisionError\"<br>\n",
    "10/0<br> 10.0/0<br> ....."
   ]
  },
  {
   "cell_type": "code",
   "execution_count": 7,
   "id": "b2a3371b",
   "metadata": {},
   "outputs": [
    {
     "ename": "ZeroDivisionError",
     "evalue": "division by zero",
     "output_type": "error",
     "traceback": [
      "\u001b[1;31m---------------------------------------------------------------------------\u001b[0m",
      "\u001b[1;31mZeroDivisionError\u001b[0m                         Traceback (most recent call last)",
      "\u001b[1;32m~\\AppData\\Local\\Temp/ipykernel_4844/530406163.py\u001b[0m in \u001b[0;36m<module>\u001b[1;34m\u001b[0m\n\u001b[1;32m----> 1\u001b[1;33m \u001b[1;36m10\u001b[0m\u001b[1;33m/\u001b[0m\u001b[1;36m0\u001b[0m\u001b[1;33m\u001b[0m\u001b[1;33m\u001b[0m\u001b[0m\n\u001b[0m",
      "\u001b[1;31mZeroDivisionError\u001b[0m: division by zero"
     ]
    }
   ],
   "source": [
    "10/0"
   ]
  },
  {
   "cell_type": "code",
   "execution_count": 8,
   "id": "b7ee4960",
   "metadata": {},
   "outputs": [
    {
     "ename": "ZeroDivisionError",
     "evalue": "float division by zero",
     "output_type": "error",
     "traceback": [
      "\u001b[1;31m---------------------------------------------------------------------------\u001b[0m",
      "\u001b[1;31mZeroDivisionError\u001b[0m                         Traceback (most recent call last)",
      "\u001b[1;32m~\\AppData\\Local\\Temp/ipykernel_4844/1451869112.py\u001b[0m in \u001b[0;36m<module>\u001b[1;34m\u001b[0m\n\u001b[1;32m----> 1\u001b[1;33m \u001b[1;36m10.0\u001b[0m\u001b[1;33m/\u001b[0m\u001b[1;36m0\u001b[0m\u001b[1;33m\u001b[0m\u001b[1;33m\u001b[0m\u001b[0m\n\u001b[0m",
      "\u001b[1;31mZeroDivisionError\u001b[0m: float division by zero"
     ]
    }
   ],
   "source": [
    "10.0/0"
   ]
  },
  {
   "cell_type": "markdown",
   "id": "594de707",
   "metadata": {},
   "source": [
    "## 2) Relational Operators: >, >=, <, <=\n",
    "\n",
    "**>** Greater than<br>\n",
    "**<** Less than<br>\n",
    "**>=** Greater than or equal to<br>\n",
    "**<=** Less than or equal to"
   ]
  },
  {
   "cell_type": "code",
   "execution_count": 9,
   "id": "f9a2ae04",
   "metadata": {},
   "outputs": [
    {
     "name": "stdout",
     "output_type": "stream",
     "text": [
      "a>b is  False\n",
      "a>=b is  False\n",
      "a<b is  True\n",
      "a<=b is  True\n"
     ]
    }
   ],
   "source": [
    "a=10\n",
    "b=20\n",
    "\n",
    "print(\"a>b is \",a>b)\n",
    "print(\"a>=b is \",a>=b)\n",
    "print(\"a<b is \",a<b)\n",
    "print(\"a<=b is \",a<=b)"
   ]
  },
  {
   "cell_type": "markdown",
   "id": "cd3b8a37",
   "metadata": {},
   "source": [
    "We can apply relational operators for str types also."
   ]
  },
  {
   "cell_type": "code",
   "execution_count": 10,
   "id": "735e29a9",
   "metadata": {},
   "outputs": [
    {
     "name": "stdout",
     "output_type": "stream",
     "text": [
      "a>b is  True\n",
      "a>=b is  True\n",
      "a<b is  False\n",
      "a<=b is  False\n"
     ]
    }
   ],
   "source": [
    "a = \"python\"\n",
    "b = \"learning\"\n",
    "\n",
    "print(\"a>b is \",a>b)\n",
    "print(\"a>=b is \",a>=b)\n",
    "print(\"a<b is \",a<b)\n",
    "print(\"a<=b is \",a<=b)"
   ]
  },
  {
   "cell_type": "code",
   "execution_count": 11,
   "id": "8f2b9407",
   "metadata": {},
   "outputs": [
    {
     "name": "stdout",
     "output_type": "stream",
     "text": [
      "False\n",
      "False\n",
      "True\n",
      "True\n",
      "False\n"
     ]
    },
    {
     "ename": "TypeError",
     "evalue": "'>' not supported between instances of 'int' and 'str'",
     "output_type": "error",
     "traceback": [
      "\u001b[1;31m---------------------------------------------------------------------------\u001b[0m",
      "\u001b[1;31mTypeError\u001b[0m                                 Traceback (most recent call last)",
      "\u001b[1;32m~\\AppData\\Local\\Temp/ipykernel_4844/2181012021.py\u001b[0m in \u001b[0;36m<module>\u001b[1;34m\u001b[0m\n\u001b[0;32m      4\u001b[0m \u001b[0mprint\u001b[0m\u001b[1;33m(\u001b[0m\u001b[1;32mTrue\u001b[0m\u001b[1;33m<=\u001b[0m\u001b[1;32mTrue\u001b[0m\u001b[1;33m)\u001b[0m\u001b[1;33m\u001b[0m\u001b[1;33m\u001b[0m\u001b[0m\n\u001b[0;32m      5\u001b[0m \u001b[0mprint\u001b[0m\u001b[1;33m(\u001b[0m\u001b[1;36m10\u001b[0m\u001b[1;33m<\u001b[0m\u001b[1;32mTrue\u001b[0m\u001b[1;33m)\u001b[0m\u001b[1;33m\u001b[0m\u001b[1;33m\u001b[0m\u001b[0m\n\u001b[1;32m----> 6\u001b[1;33m \u001b[0mprint\u001b[0m\u001b[1;33m(\u001b[0m\u001b[1;36m10\u001b[0m\u001b[1;33m>\u001b[0m\u001b[1;34m\"python\"\u001b[0m\u001b[1;33m)\u001b[0m\u001b[1;33m\u001b[0m\u001b[1;33m\u001b[0m\u001b[0m\n\u001b[0m",
      "\u001b[1;31mTypeError\u001b[0m: '>' not supported between instances of 'int' and 'str'"
     ]
    }
   ],
   "source": [
    "print(True>True)\n",
    "print(True<True)\n",
    "print(True>=True)\n",
    "print(True<=True)\n",
    "print(10<True)\n",
    "print(10>\"python\") # cant compare int and string, so will raise error."
   ]
  },
  {
   "cell_type": "code",
   "execution_count": 12,
   "id": "e4f03c7e",
   "metadata": {},
   "outputs": [
    {
     "name": "stdout",
     "output_type": "stream",
     "text": [
      "b is greater\n"
     ]
    }
   ],
   "source": [
    "a=10\n",
    "b=20\n",
    "\n",
    "if a>b:\n",
    "    print(\"a is greater\")\n",
    "else:\n",
    "    print(\"b is greater\")"
   ]
  },
  {
   "cell_type": "markdown",
   "id": "7498b3c9",
   "metadata": {},
   "source": [
    "## 3) Equality Operators: ==, !=\n",
    "We can apply these operators for any type even for incompatible types also."
   ]
  },
  {
   "cell_type": "code",
   "execution_count": 13,
   "id": "3757c88c",
   "metadata": {},
   "outputs": [
    {
     "data": {
      "text/plain": [
       "True"
      ]
     },
     "execution_count": 13,
     "metadata": {},
     "output_type": "execute_result"
    }
   ],
   "source": [
    "10 == 10"
   ]
  },
  {
   "cell_type": "code",
   "execution_count": 14,
   "id": "b009aee5",
   "metadata": {},
   "outputs": [
    {
     "data": {
      "text/plain": [
       "False"
      ]
     },
     "execution_count": 14,
     "metadata": {},
     "output_type": "execute_result"
    }
   ],
   "source": [
    "10 == 20"
   ]
  },
  {
   "cell_type": "code",
   "execution_count": 15,
   "id": "ee19f9e2",
   "metadata": {},
   "outputs": [
    {
     "data": {
      "text/plain": [
       "False"
      ]
     },
     "execution_count": 15,
     "metadata": {},
     "output_type": "execute_result"
    }
   ],
   "source": [
    "10 != 10"
   ]
  },
  {
   "cell_type": "code",
   "execution_count": 16,
   "id": "2762bdf8",
   "metadata": {},
   "outputs": [
    {
     "data": {
      "text/plain": [
       "True"
      ]
     },
     "execution_count": 16,
     "metadata": {},
     "output_type": "execute_result"
    }
   ],
   "source": [
    "10 != 20"
   ]
  },
  {
   "cell_type": "code",
   "execution_count": 17,
   "id": "4e2aa8f1",
   "metadata": {},
   "outputs": [
    {
     "data": {
      "text/plain": [
       "False"
      ]
     },
     "execution_count": 17,
     "metadata": {},
     "output_type": "execute_result"
    }
   ],
   "source": [
    "\"Sairam\" == \"sairam\""
   ]
  },
  {
   "cell_type": "code",
   "execution_count": 18,
   "id": "f2199616",
   "metadata": {},
   "outputs": [
    {
     "data": {
      "text/plain": [
       "True"
      ]
     },
     "execution_count": 18,
     "metadata": {},
     "output_type": "execute_result"
    }
   ],
   "source": [
    "\"Python\" != 'python'"
   ]
  },
  {
   "cell_type": "code",
   "execution_count": 19,
   "id": "c66f27e7",
   "metadata": {},
   "outputs": [
    {
     "data": {
      "text/plain": [
       "False"
      ]
     },
     "execution_count": 19,
     "metadata": {},
     "output_type": "execute_result"
    }
   ],
   "source": [
    "10 == \"srk\""
   ]
  },
  {
   "cell_type": "markdown",
   "id": "615d7dd5",
   "metadata": {},
   "source": [
    "## 4) Logical Operators: and, or, not\n",
    "We can apply for all types.\n",
    "\n",
    "#### For boolean Types Behaviour:<br>\n",
    " **and** => If both arguments are True then only result is True<br>\n",
    " **or** => If atleast one arugemnt is True then result is True<br>\n",
    " **not** => Complement<br><br>\n",
    "\n",
    "True and False => False<br>\n",
    "True or False => True<br>\n",
    "not False => True<br><br>\n",
    "\n",
    "#### For non-boolean Types Behaviour:\n",
    "0 means False<br>\n",
    "non-zero means True<br>\n",
    "empty string is always treated as False<br><br>\n",
    "\n",
    "#### x and y:\n",
    "If x is evaluates to false return x otherwise return y<br>\n",
    "**Eg:**<br>\n",
    "10 and 20<br>\n",
    "0 and 20<br><br>\n",
    "If first argument is zero then result is zero otherwise result is y<br><br>\n",
    "\n",
    "#### x or y:\n",
    "If x evaluates to True then result is x otherwise result is y<br>\n",
    "- 10 or 20 => 10<br>\n",
    "- 0 or 20 => 20<br><br>\n",
    "\n",
    "#### not x:\n",
    "If x is evalutates to False then result is True otherwise False<br>\n",
    "not 10 => False<br>\n",
    "not 0 => True"
   ]
  },
  {
   "cell_type": "code",
   "execution_count": 20,
   "id": "bc0ce174",
   "metadata": {},
   "outputs": [
    {
     "data": {
      "text/plain": [
       "'sairam'"
      ]
     },
     "execution_count": 20,
     "metadata": {},
     "output_type": "execute_result"
    }
   ],
   "source": [
    "\"Sairam\" and \"sairam\""
   ]
  },
  {
   "cell_type": "code",
   "execution_count": 21,
   "id": "2024cf3d",
   "metadata": {},
   "outputs": [
    {
     "data": {
      "text/plain": [
       "''"
      ]
     },
     "execution_count": 21,
     "metadata": {},
     "output_type": "execute_result"
    }
   ],
   "source": [
    "\"\" and \"sairam\""
   ]
  },
  {
   "cell_type": "code",
   "execution_count": 22,
   "id": "370021e2",
   "metadata": {},
   "outputs": [
    {
     "data": {
      "text/plain": [
       "'python'"
      ]
     },
     "execution_count": 22,
     "metadata": {},
     "output_type": "execute_result"
    }
   ],
   "source": [
    "\"\" or \"python\""
   ]
  },
  {
   "cell_type": "code",
   "execution_count": 23,
   "id": "3b9a00d5",
   "metadata": {},
   "outputs": [
    {
     "data": {
      "text/plain": [
       "'sairam'"
      ]
     },
     "execution_count": 23,
     "metadata": {},
     "output_type": "execute_result"
    }
   ],
   "source": [
    "\"sairam\" or \"kandukuri\""
   ]
  },
  {
   "cell_type": "code",
   "execution_count": 24,
   "id": "c58905cb",
   "metadata": {},
   "outputs": [
    {
     "data": {
      "text/plain": [
       "False"
      ]
     },
     "execution_count": 24,
     "metadata": {},
     "output_type": "execute_result"
    }
   ],
   "source": [
    "not True"
   ]
  },
  {
   "cell_type": "code",
   "execution_count": 25,
   "id": "7094657d",
   "metadata": {},
   "outputs": [
    {
     "data": {
      "text/plain": [
       "True"
      ]
     },
     "execution_count": 25,
     "metadata": {},
     "output_type": "execute_result"
    }
   ],
   "source": [
    "not \"\" #default empty string will be false"
   ]
  },
  {
   "cell_type": "markdown",
   "id": "6eb2ae52",
   "metadata": {},
   "source": [
    "## 5) Bitwise Operators:\n",
    "֍ We can apply these operators bitwise.<br>\n",
    "֍ These operators are applicable only for int and boolean types.<br>\n",
    "֍ By mistake if we are trying to apply for any other type then we will get Error.<br>\n",
    "֍ **&, |, ^, ~, <<, >>**<br><br>\n",
    "\n",
    "֍ print(4&5) => Valid\n",
    "֍ print(10.5 & 5.6) => TypeError: unsupported operand type(s) for &: 'float' and 'float'\n",
    "֍ print(True & True) => Valid\n",
    "\n",
    "֍ & => If both bits are 1 then only result is 1 otherwise result is 0<br>\n",
    "֍ | => If atleast one bit is 1 then result is 1 otherwise result is 0<br>\n",
    "֍ ^ => If bits are different then only result is 1 otherwise result is 0<br>\n",
    "֍ ~ => bitwise complement operator<br>\n",
    "֍ 1 => 0 & 0 => 1<br>\n",
    "֍ << => Bitwise Left Shift<br>\n",
    "֍ >> => Bitwise Right Shift<br><br>\n",
    "\n",
    "<img src = \"images/1.png\" width = 700>"
   ]
  },
  {
   "cell_type": "code",
   "execution_count": 26,
   "id": "f57330d9",
   "metadata": {},
   "outputs": [
    {
     "name": "stdout",
     "output_type": "stream",
     "text": [
      "4\n"
     ]
    }
   ],
   "source": [
    "print(4&5)"
   ]
  },
  {
   "cell_type": "code",
   "execution_count": 27,
   "id": "02cec5d6",
   "metadata": {},
   "outputs": [
    {
     "name": "stdout",
     "output_type": "stream",
     "text": [
      "5\n"
     ]
    }
   ],
   "source": [
    "print(4|5)"
   ]
  },
  {
   "cell_type": "code",
   "execution_count": 28,
   "id": "0a66541c",
   "metadata": {},
   "outputs": [
    {
     "name": "stdout",
     "output_type": "stream",
     "text": [
      "1\n"
     ]
    }
   ],
   "source": [
    "print(4^5)"
   ]
  },
  {
   "cell_type": "markdown",
   "id": "ac79a05f",
   "metadata": {},
   "source": [
    "### Bitwise Complement Operator (~):\n",
    "We have to apply complement for total bits.<br>\n",
    "**Eg:** print(~5) => -6<br><br>\n",
    "\n",
    "**Note:**<br>\n",
    "֍ The most significant bit acts as sign bit. 0 value represents +ve number where as 1 represents -ve value.<br>\n",
    "֍ Positive numbers will be repesented directly in the memory where as -ve numbers will be represented indirectly in 2's complement form."
   ]
  },
  {
   "cell_type": "markdown",
   "id": "f721c9f5",
   "metadata": {},
   "source": [
    "## 6) Shift Operators:\n",
    "### << Left Shift Operator\n",
    "After shifting the empty cells we have to fill with zero<br>\n",
    "print(10<<2) => 40 <br>\n",
    "\n",
    "<img src=\"images/2.png\" width=400 align = left>"
   ]
  },
  {
   "cell_type": "code",
   "execution_count": 1,
   "id": "fa500aab",
   "metadata": {},
   "outputs": [
    {
     "name": "stdout",
     "output_type": "stream",
     "text": [
      "40\n"
     ]
    }
   ],
   "source": [
    "print(10<<2)"
   ]
  },
  {
   "cell_type": "markdown",
   "id": "88674740",
   "metadata": {},
   "source": [
    "### >> Right Shift Operator\n",
    "After shifting the empty cells we have to fill with sign bit.( 0 for +ve and 1 for -ve)<br>\n",
    "print(10>>2) => 2<br>\n",
    "\n",
    "<img src = \"images/3.png\" width=400 align=left>"
   ]
  },
  {
   "cell_type": "code",
   "execution_count": 3,
   "id": "6d1f302d",
   "metadata": {},
   "outputs": [
    {
     "name": "stdout",
     "output_type": "stream",
     "text": [
      "2\n"
     ]
    }
   ],
   "source": [
    "print(10>>2)"
   ]
  },
  {
   "cell_type": "markdown",
   "id": "ada1d1cd",
   "metadata": {},
   "source": [
    "## 7) Assignment Operators:\n",
    "֍ We can use assignment operator to assign value to the variable. **Eg: x = 10**<br>\n",
    "֍ We can combine asignment operator with some other operator to form compound assignment operator.<br>\n",
    "**Eg: x += 10 => x = x+10**<br>\n",
    "\n",
    "The following is the list of all possible compound assignment operators in Python.<br>\n",
    "- +=<br>\n",
    "- -=<br>\n",
    "- *=<br>\n",
    "- /=<br>\n",
    "- %=<br>\n",
    "- //=<br>\n",
    "- \\**=<br>\n",
    "- &=<br>\n",
    "- |=<br>\n",
    "- ^=<br>\n",
    "- \\>>=<br>\n",
    "- <<=<br>"
   ]
  },
  {
   "cell_type": "code",
   "execution_count": 4,
   "id": "06f93515",
   "metadata": {},
   "outputs": [
    {
     "name": "stdout",
     "output_type": "stream",
     "text": [
      "40\n"
     ]
    }
   ],
   "source": [
    "x = 10\n",
    "x += 30\n",
    "print(x)"
   ]
  },
  {
   "cell_type": "code",
   "execution_count": 6,
   "id": "0c454900",
   "metadata": {},
   "outputs": [
    {
     "name": "stdout",
     "output_type": "stream",
     "text": [
      "4\n"
     ]
    }
   ],
   "source": [
    "x=2\n",
    "x*=2\n",
    "print(x)"
   ]
  },
  {
   "cell_type": "code",
   "execution_count": 7,
   "id": "1288cdc2",
   "metadata": {},
   "outputs": [
    {
     "name": "stdout",
     "output_type": "stream",
     "text": [
      "0\n"
     ]
    }
   ],
   "source": [
    "x=10\n",
    "x&=5\n",
    "print(x)"
   ]
  },
  {
   "cell_type": "markdown",
   "id": "ec4ff4fb",
   "metadata": {},
   "source": [
    "## 8) Ternary Operator OR Conditional Operator\n",
    "***Syntax:***<br> **x** = <font color='orange'>**firstValue**</font> <font color='green'>**if**</font> **condition**</font> <font color='green'>**else**</font> <font color='orange'>**secondValue**</font><br>\n",
    "If condition is True then firstValue will be considered else secondValue will be considered."
   ]
  },
  {
   "cell_type": "code",
   "execution_count": 8,
   "id": "4612babf",
   "metadata": {},
   "outputs": [
    {
     "name": "stdout",
     "output_type": "stream",
     "text": [
      "30\n"
     ]
    }
   ],
   "source": [
    "# Example1\n",
    "\n",
    "a,b = 10,20\n",
    "x=30 if a<b else 40\n",
    "print(x)"
   ]
  },
  {
   "cell_type": "code",
   "execution_count": 11,
   "id": "72667473",
   "metadata": {},
   "outputs": [
    {
     "name": "stdout",
     "output_type": "stream",
     "text": [
      "Enter First Number: 20\n",
      "Enter Second Number: 10\n",
      "Maximum Value: 20\n"
     ]
    }
   ],
   "source": [
    "#Example2\n",
    "\n",
    "a = int(input(\"Enter First Number: \"))\n",
    "b = int(input(\"Enter Second Number: \"))\n",
    "max = a if a>b else b\n",
    "print(\"Maximum Value:\",max)"
   ]
  },
  {
   "cell_type": "markdown",
   "id": "78ca4912",
   "metadata": {},
   "source": [
    "**Note:** Nesting of Ternary Operator is Possible."
   ]
  },
  {
   "cell_type": "code",
   "execution_count": 13,
   "id": "bf085813",
   "metadata": {},
   "outputs": [
    {
     "name": "stdout",
     "output_type": "stream",
     "text": [
      "Enter First Number: 10\n",
      "Enter Second Number: 50\n",
      "Enter Third Number: 5\n",
      "Maximum Value: 50\n"
     ]
    }
   ],
   "source": [
    "#Q) Program for Maximum of 3 Numbers\n",
    "a = int(input(\"Enter First Number: \"))\n",
    "b = int(input(\"Enter Second Number: \"))\n",
    "c = int(input(\"Enter Third Number: \"))\n",
    "max = a if a>b and a>c else b if b>c else c\n",
    "print(\"Maximum Value:\",max)"
   ]
  },
  {
   "cell_type": "code",
   "execution_count": 14,
   "id": "336ddac2",
   "metadata": {},
   "outputs": [
    {
     "name": "stdout",
     "output_type": "stream",
     "text": [
      "Enter First Number: 10\n",
      "Enter Second Number: 50\n",
      "Enter Third Number: 3\n",
      "Minimum Value: 3\n"
     ]
    }
   ],
   "source": [
    "#Q) Program for Minimum of 3 Numbers\n",
    "a = int(input(\"Enter First Number: \"))\n",
    "b = int(input(\"Enter Second Number: \"))\n",
    "c = int(input(\"Enter Third Number: \"))\n",
    "min = a if a<b and a<c else b if b<c else c\n",
    "print(\"Minimum Value:\",min)"
   ]
  },
  {
   "cell_type": "code",
   "execution_count": 15,
   "id": "cefa7c0a",
   "metadata": {},
   "outputs": [
    {
     "name": "stdout",
     "output_type": "stream",
     "text": [
      "Enter First Number: 10\n",
      "Enter Second Number: 20\n",
      "First Number is Less than Second Number\n"
     ]
    }
   ],
   "source": [
    "# Example\n",
    "a=int(input(\"Enter First Number: \"))\n",
    "b = int(input(\"Enter Second Number: \"))\n",
    "print(\"Both numbers are equal\" if a==b else \"First Number is Less than Second Number\"\n",
    "     if a<b else \"First Number Greater than Second Number\")"
   ]
  },
  {
   "cell_type": "markdown",
   "id": "ddd6e76a",
   "metadata": {},
   "source": [
    "## 9) Special Operators:\n",
    "Python defines the following 2 special operators<br>\n",
    "> 1) Identity Operators<br>\n",
    "> 2) Membership operators<br><br>\n",
    "\n",
    "### 1) Identity Operators\n",
    "- We can use identity operators for address comparison.<br>\n",
    "- There are 2 identity operators are available<br>\n",
    "> 1) **is**<br>\n",
    "> 2) **is not**<br>\n",
    "\n",
    "- **r1 <font color='orange'>is</font> r2** returns True if both r1 and r2 are pointing to the same object.<br>\n",
    "- **r1 <font color='orange'>is not</font> r2** returns True if both r1 and r2 are not pointing to the same object."
   ]
  },
  {
   "cell_type": "code",
   "execution_count": 16,
   "id": "c72d32e5",
   "metadata": {},
   "outputs": [
    {
     "name": "stdout",
     "output_type": "stream",
     "text": [
      "True\n"
     ]
    }
   ],
   "source": [
    "a=11\n",
    "b=11\n",
    "print(a is b)"
   ]
  },
  {
   "cell_type": "code",
   "execution_count": 17,
   "id": "6a3dcb72",
   "metadata": {},
   "outputs": [
    {
     "name": "stdout",
     "output_type": "stream",
     "text": [
      "True\n"
     ]
    }
   ],
   "source": [
    "x=True\n",
    "y=True\n",
    "print(x is y)"
   ]
  },
  {
   "cell_type": "code",
   "execution_count": 18,
   "id": "ef25998f",
   "metadata": {},
   "outputs": [
    {
     "name": "stdout",
     "output_type": "stream",
     "text": [
      "False\n"
     ]
    }
   ],
   "source": [
    "x=False\n",
    "y=True\n",
    "print(x is y)"
   ]
  },
  {
   "cell_type": "code",
   "execution_count": 19,
   "id": "94c73955",
   "metadata": {},
   "outputs": [
    {
     "name": "stdout",
     "output_type": "stream",
     "text": [
      "2531136563888\n",
      "2531136563888\n",
      "True\n"
     ]
    }
   ],
   "source": [
    "a='sai'\n",
    "b='sai'\n",
    "print(id(a))\n",
    "print(id(b))\n",
    "print(a is b)"
   ]
  },
  {
   "cell_type": "code",
   "execution_count": 20,
   "id": "bb35bfac",
   "metadata": {},
   "outputs": [
    {
     "name": "stdout",
     "output_type": "stream",
     "text": [
      "2531136677888\n",
      "2531133643904\n"
     ]
    }
   ],
   "source": [
    "list1 = [\"one\",\"two\",\"three\"]\n",
    "list2 = [\"one\",\"two\",\"three\"]\n",
    "print(id(list1))\n",
    "print(id(list2))"
   ]
  },
  {
   "cell_type": "code",
   "execution_count": 21,
   "id": "592a31a7",
   "metadata": {},
   "outputs": [
    {
     "name": "stdout",
     "output_type": "stream",
     "text": [
      "False\n",
      "True\n",
      "True\n"
     ]
    }
   ],
   "source": [
    "print(list1 is list2)\n",
    "print(list1 is not list2)\n",
    "print(list1 == list2)"
   ]
  },
  {
   "cell_type": "markdown",
   "id": "f4e32f3f",
   "metadata": {},
   "source": [
    "**Note:** We can use is operator for address comparison where as == operator for content comparison."
   ]
  },
  {
   "cell_type": "markdown",
   "id": "a5c1ebd6",
   "metadata": {},
   "source": [
    "## 2) Membership Operators:\n",
    "- We can use Membership operators to check whether the given object present in the given collection. (It may be String, List, Set, Tuple OR Dict)<br>\n",
    "- **in** ==> Returns True if the given object present in the specified Collection<br>\n",
    "- **not in** ==> Retruns True if the given object not present in the specified Collection"
   ]
  },
  {
   "cell_type": "code",
   "execution_count": 22,
   "id": "28441737",
   "metadata": {},
   "outputs": [
    {
     "name": "stdout",
     "output_type": "stream",
     "text": [
      "True\n",
      "True\n",
      "False\n"
     ]
    }
   ],
   "source": [
    "a = \"python learning is very easy\"\n",
    "print('h' in a)\n",
    "print('learning' in a)\n",
    "print('not' in a)"
   ]
  },
  {
   "cell_type": "code",
   "execution_count": 23,
   "id": "2f2659f0",
   "metadata": {},
   "outputs": [
    {
     "name": "stdout",
     "output_type": "stream",
     "text": [
      "False\n",
      "False\n",
      "True\n"
     ]
    }
   ],
   "source": [
    "list1 = [\"sairam\",\"kandukuri\",'dhana','sunny']\n",
    "print(\"Sairam\" in list1)\n",
    "print(\"munny\" in list1)\n",
    "print(\"munny\" not in list1)"
   ]
  },
  {
   "cell_type": "markdown",
   "id": "ea5393b9",
   "metadata": {},
   "source": [
    "## Operator Precedence:\n",
    "If multiple operators present then which operator will be evaluated first is decided by operator precedence."
   ]
  },
  {
   "cell_type": "code",
   "execution_count": 24,
   "id": "09464ff8",
   "metadata": {},
   "outputs": [
    {
     "name": "stdout",
     "output_type": "stream",
     "text": [
      "23\n",
      "26\n"
     ]
    }
   ],
   "source": [
    "# Example\n",
    "print(3+10*2)\n",
    "print((3+10)*2)"
   ]
  },
  {
   "cell_type": "markdown",
   "id": "3853022d",
   "metadata": {},
   "source": [
    "The following list describes operator precedence in Python<br>\n",
    "\n",
    "1) () **=====>** Parenthesis<br> \n",
    "2) \\** **====>** Exponential Operator<br>\n",
    "3) \\~, \\- **====>** Bitwise Complement Operator, Unary Minus Operator<br>\n",
    "4) \\*, /, %, // **====>** Multiplication, Division, Modulo, Floor Division<br>\n",
    "5) +, - **====>** Addition, Subtraction<br>\n",
    "6) <<, >> **====>** Left and Right Shift<br>\n",
    "7) & **====>** Bitwise And<br>\n",
    "8) ^ **====>** Bitwise X-OR<br>\n",
    "9) | **====>** Bitwise OR<br>\n",
    "10) >, >=, <, <=, ==, != **====>** Relational OR Comparison Operators<br>\n",
    "11) =, +=, -=, \\*=... **====>** Assignment Operators<br>\n",
    "12) is , is not **====>** Identity Operators<br>\n",
    "13) in , not in **====>** Membership operators<br>\n",
    "14) not **====>** Logical not<br>\n",
    "15) and **====>** Logical and<br>\n",
    "16) or **====>** Logical or"
   ]
  },
  {
   "cell_type": "code",
   "execution_count": 25,
   "id": "cde8a732",
   "metadata": {},
   "outputs": [
    {
     "name": "stdout",
     "output_type": "stream",
     "text": [
      "420.0\n",
      "420.0\n",
      "170.0\n"
     ]
    }
   ],
   "source": [
    "a=50\n",
    "b=20\n",
    "c=30\n",
    "d=5\n",
    "\n",
    "print((a+b)*c/d)\n",
    "print((a+b)*(c/d))\n",
    "print(a+(b*c)/d)"
   ]
  },
  {
   "cell_type": "code",
   "execution_count": 29,
   "id": "e805d635",
   "metadata": {},
   "outputs": [
    {
     "data": {
      "text/plain": [
       "170.0"
      ]
     },
     "execution_count": 29,
     "metadata": {},
     "output_type": "execute_result"
    }
   ],
   "source": [
    "# Lets solve this with operator precedence step by step.\n",
    "1/2*8+46+(10/2)**3-5"
   ]
  },
  {
   "cell_type": "code",
   "execution_count": 30,
   "id": "40659da4",
   "metadata": {},
   "outputs": [
    {
     "data": {
      "text/plain": [
       "170.0"
      ]
     },
     "execution_count": 30,
     "metadata": {},
     "output_type": "execute_result"
    }
   ],
   "source": [
    "1/2*8+46+(5)**3-5"
   ]
  },
  {
   "cell_type": "code",
   "execution_count": 31,
   "id": "53497934",
   "metadata": {},
   "outputs": [
    {
     "data": {
      "text/plain": [
       "170.0"
      ]
     },
     "execution_count": 31,
     "metadata": {},
     "output_type": "execute_result"
    }
   ],
   "source": [
    "1/2*8+46+125-5"
   ]
  },
  {
   "cell_type": "code",
   "execution_count": 32,
   "id": "1bf0f923",
   "metadata": {},
   "outputs": [
    {
     "data": {
      "text/plain": [
       "170.0"
      ]
     },
     "execution_count": 32,
     "metadata": {},
     "output_type": "execute_result"
    }
   ],
   "source": [
    "0.5*8+46+125-5"
   ]
  },
  {
   "cell_type": "code",
   "execution_count": 35,
   "id": "dfe1d24a",
   "metadata": {},
   "outputs": [
    {
     "data": {
      "text/plain": [
       "170.0"
      ]
     },
     "execution_count": 35,
     "metadata": {},
     "output_type": "execute_result"
    }
   ],
   "source": [
    "4.0+46+125-5"
   ]
  },
  {
   "cell_type": "markdown",
   "id": "652f2a94",
   "metadata": {},
   "source": [
    "# ===================== THE END ======================="
   ]
  }
 ],
 "metadata": {
  "kernelspec": {
   "display_name": "Python 3 (ipykernel)",
   "language": "python",
   "name": "python3"
  },
  "language_info": {
   "codemirror_mode": {
    "name": "ipython",
    "version": 3
   },
   "file_extension": ".py",
   "mimetype": "text/x-python",
   "name": "python",
   "nbconvert_exporter": "python",
   "pygments_lexer": "ipython3",
   "version": "3.8.8"
  }
 },
 "nbformat": 4,
 "nbformat_minor": 5
}
