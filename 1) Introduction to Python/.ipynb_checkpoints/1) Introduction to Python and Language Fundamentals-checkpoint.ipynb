{
 "cells": [
  {
   "cell_type": "markdown",
   "id": "85c5b2a5",
   "metadata": {},
   "source": [
    "## Introduction<br><br>\n",
    "- Python is a general purpose high level programming language.<br>\n",
    "- Python was developed by Guido Van Rossam in 1989 while working at National Research Institute at Netherlands.<br>\n",
    "- But officially Python was made available to public in 1991. The official Date of Birth for Python is : Feb 20th 1991.<br>\n",
    "- Python is recommended as first programming language for beginners.<br><br>\n",
    "\n",
    "**Lets Compare the syntax of various programming languages to praise python**<br>\n",
    "**Eg1:** To print Helloworld<br><br>\n",
    "\n",
    "![](images/1.png)<br><br>\n",
    "\n",
    "**Python**\n"
   ]
  },
  {
   "cell_type": "code",
   "execution_count": 1,
   "id": "088fd542",
   "metadata": {},
   "outputs": [
    {
     "name": "stdout",
     "output_type": "stream",
     "text": [
      "Hello World\n"
     ]
    }
   ],
   "source": [
    "print(\"Hello World\") # Just One line"
   ]
  },
  {
   "cell_type": "markdown",
   "id": "0d504476",
   "metadata": {},
   "source": [
    "The name Python was selected from the TV Show \"The Complete Monty Python's Circus\", which was broadcasted in BBC from 1969 to 1974.<br><br>\n",
    "\n",
    "Guido developed Python language by taking almost all programming features from different languages<br><br>\n",
    "\n",
    "> 1. Functional Programming Features from C <br>\n",
    "> 2. Object Oriented Programming Features from C++<br>\n",
    "> 3. Scripting Language Features from Perl and Shell Script<br>\n",
    "> 4. Modular Programming Features from Modula-3<br><br>\n",
    "\n",
    "Most of syntax in Python Derived from C and ABC languages.<br><br>\n",
    "\n",
    "## Where we can use Python:<br>\n",
    "We can use everywhere. The most common important application areas are<br><br>\n",
    "\n",
    "1) For developing Desktop Applications<br>\n",
    "2) For developing web Applications<br>\n",
    "3) For developing database Applications<br>\n",
    "4) For Network Programming<br>\n",
    "5) For developing games<br>\n",
    "6) For Data Analysis Applications<br>\n",
    "7) For Machine Learning<br>\n",
    "8) For developing Artificial Intelligence Applications<br>\n",
    "9) For IoT<br>\n",
    "   ... <br><br>\n",
    "   \n",
    "**Note:** <br>\n",
    "- Internally Google and Youtube use Python coding.<br>\n",
    "- NASA and Nework Stock Exchange Applications developed by Python.<br>\n",
    "- Top Software companies like Google, Microsoft, IBM, Yahoo using Python.<br>"
   ]
  },
  {
   "cell_type": "markdown",
   "id": "d6dd6f33",
   "metadata": {},
   "source": [
    "# Features of Python:\n",
    "\n",
    "### 1) <u>Simple and easy to learn:</u><br>\n",
    "- Python is a simple programming language. When we read Python program,we can feel like reading english statements. <br>\n",
    "- The syntaxes are very simple and only 30+ kerywords are available.<br>\n",
    "- When compared with other languages, we can write programs with very less number of lines. Hence more readability and simplicity.<br>\n",
    "- We can reduce development and cost of the project.<br><br>\n",
    "\n",
    "### 2) <u>Freeware and Open Source:</u><br>\n",
    "- We can use Python software without any licence and it is freeware.<br>\n",
    "- Its source code is open,so that we can we can customize based on our requirement.<br>\n",
    "- **Eg:** Jython is customized version of Python to work with Java Applications.<br><br>\n",
    "\n",
    "### 3) <u>High Level Programming language:</u><br>\n",
    "- Python is high level programming language and hence it is programmer friendly language.<br>\n",
    "- Being a programmer we are not required to concentrate low level activities like memory management and security etc.<br><br>\n",
    "\n",
    "### 4) <u>Platform Independent:</u><br>\n",
    "- Once we write a Python program,it can run on any platform without rewriting once again.<br>\n",
    "- Internally PVM is responsible to convert into machine understandable form.<br><br>\n",
    "\n",
    "### 5)<u>Portability:</u><br>\n",
    "- Python programs are portable. ie we can migrate from one platform to another platform very easily. Python programs will provide same results on any paltform.<br><br>\n",
    "\n",
    "### 6)<u>Dynamically Typed:</u><br>\n",
    "- In Python we are not required to declare type for variables. Whenever we are assigning the value, based on value, type will be allocated automatically.Hence Python is considered as dynamically typed language. <br>\n",
    "- But Java, C etc are Statically Typed Languages b'z we have to provide type at the beginning only.<br>\n",
    "- This dynamic typing nature will provide more flexibility to the programmer.<br><br>\n",
    "\n",
    "### 7) <u>Both Procedure Oriented and Object Oriented:</u><br>\n",
    "- Python language supports both Procedure oriented (like C, pascal etc) and object oriented (like C++, Java) features. Hence we can get benefits of both like security and reusability etc<br><br>\n",
    "\n",
    "### 8) <u>Interpreted:</u><br>\n",
    "- We are not required to compile Python programs explcitly. Internally Python interpreter will take care that compilation.<br>\n",
    "- If compilation fails interpreter raised syntax errors. Once compilation success then PVM (Python Virtual Machine) is responsible to execute.<br><br>\n",
    "\n",
    "### 9) <u>Extensible:</u><br>\n",
    "- We can use other language programs in Python.<br>\n",
    "- The main advantages of this approach are:<br>\n",
    "> - We can use already existing legacy non-Python code <br>\n",
    "> - We can improve performance of the application<br><br>\n",
    "\n",
    "### 10) <u>Embedded:</u><br>\n",
    "- We can use Python programs in any other language programs. i.e we can embedd Python programs anywhere.<br><br>\n",
    "\n",
    "### 11) <u>Extensive Library:</u><br>\n",
    "- Python has a rich inbuilt library.<br>\n",
    "- Being a programmer we can use this library directly and we are not responsible to implement the functionality. Etc.<br><br>\n",
    "\n",
    "# <u>Limitations of Python:</u><br> \n",
    "1) Performance wise not up to the mark because it is interpreted language.<br>\n",
    "2) Not using for mobile Applications.<br><br>\n",
    "\n"
   ]
  },
  {
   "cell_type": "markdown",
   "id": "346e3609",
   "metadata": {},
   "source": [
    " "
   ]
  },
  {
   "cell_type": "markdown",
   "id": "0d13f767",
   "metadata": {},
   "source": [
    "# IDENTIFIERS\n",
    "\n",
    "- A Name in Python Program is called Identifier.<br>\n",
    "- It can be Class Name OR Function Name OR Module Name OR Variable Name.<br>\n",
    "> a = 10<br><br>\n",
    "\n",
    "\n",
    "### Rules to define Identifiers in Python:\n",
    "1. The only allowed characters in Python are<br>\n",
    " - alphabet symbols(either lower case or upper case) <br>\n",
    " - digits(0 to 9)<br>\n",
    " - underscore symbol(_)<br><br>\n",
    "\n",
    "> By mistake if we are using any other symbol like @ then we will get syntax error.<br>\n",
    "> - cash = 10 √<br> \n",
    "> - c@sh =20 **X**<br><br>\n",
    "\n",
    "2. Identifier should not starts with digit<br>\n",
    "- 123total **X**<br>\n",
    "- total123 **√**<br><br>\n",
    "\n",
    "3. Identifiers are case sensitive. Of course Python language is case sensitive language.<br>\n",
    "- total=10<br>\n",
    "- TOTAL=999<br> \n",
    "- print(total) #10<br> \n",
    "- print(TOTAL) #999<br>"
   ]
  },
  {
   "cell_type": "markdown",
   "id": "0520ed99",
   "metadata": {},
   "source": [
    "### <u>Identifier:</u><br>\n",
    "\n",
    "1) Alphabet Symbols (Either Upper case OR Lower case)<br>\n",
    "2) If Identifier is start with Underscore (_) then it indicates it is private.<br>\n",
    "3) Identifier should not start with Digits.<br>\n",
    "4) Identifiers are case sensitive.<br>\n",
    "5) We cannot use reserved words as identifiers **Eg: def = 10** **<span style=\"color:red\">X**<span> <br>\n",
    "6) There is no length limit for Python identifiers. But not recommended to use too lengthy identifiers.<br>\n",
    "7) Dollor ($) Symbol is not allowed in Python.<br>"
   ]
  },
  {
   "cell_type": "markdown",
   "id": "655617dd",
   "metadata": {},
   "source": [
    "**Q) Which of the following are valid Python identifiers?**<br>\n",
    "1) 123total **X**<br>\n",
    "2) total123 **√**<br>\n",
    "3) java2share **√**<br>\n",
    "4) c@sh **X**<br>\n",
    "5) _abc_abc_ **√**<br>\n",
    "6) def **X**<br>\n",
    "7) if **X**<br><br>\n",
    "\n",
    "<u>**Note:**</u>\n",
    "1) If identifier starts with **_** symbol then it indicates that it is private<br>\n",
    "2) If identifier starts with **\\_\\_**(Two Under Score Symbols) indicating that strongly private identifier.<br>\n",
    "3) If the identifier starts and ends with two underscore symbols then the identifier is language defined special name, which is also known as magic methods.<br>\n",
    "4) Eg: \\_\\_add\\_\\_"
   ]
  },
  {
   "cell_type": "markdown",
   "id": "94311c36",
   "metadata": {},
   "source": [
    "# Reserved Keywords\n",
    "\n",
    "In Python some words are reserved to represent some meaning or functionality.<br>\n",
    "Such types of words are called reserved words.<br><br>\n",
    "There are 33 reserved words available in Python.<br>\n",
    "\n",
    "> **True, False, None** <br>\n",
    "> **and, or ,not,is** <br>\n",
    "> **if, elif, else** <br>\n",
    "> **while, for, break, continue, return, in, yield**<br>\n",
    "> **try, except, finally, raise, assert**<br>\n",
    "> **import, from, as, class, def, pass, global, nonlocal, lambda, del, with**<br><br>\n",
    "\n",
    "**Note:**<br>\n",
    "1. All Reserved words in Python contain only alphabet symbols.<br>\n",
    "2. Except the following 3 reserved words, all contain only lower case alphabet symbols.<br>\n",
    "> True<br>\n",
    "> False<br>\n",
    "> None<br><br>\n",
    "\n",
    "**Eg:**<br>\n",
    "a=true **X**<br>\n",
    "a=True **√**<br>"
   ]
  },
  {
   "cell_type": "code",
   "execution_count": 2,
   "id": "f94dfa7f",
   "metadata": {},
   "outputs": [
    {
     "data": {
      "text/plain": [
       "['False',\n",
       " 'None',\n",
       " 'True',\n",
       " 'and',\n",
       " 'as',\n",
       " 'assert',\n",
       " 'async',\n",
       " 'await',\n",
       " 'break',\n",
       " 'class',\n",
       " 'continue',\n",
       " 'def',\n",
       " 'del',\n",
       " 'elif',\n",
       " 'else',\n",
       " 'except',\n",
       " 'finally',\n",
       " 'for',\n",
       " 'from',\n",
       " 'global',\n",
       " 'if',\n",
       " 'import',\n",
       " 'in',\n",
       " 'is',\n",
       " 'lambda',\n",
       " 'nonlocal',\n",
       " 'not',\n",
       " 'or',\n",
       " 'pass',\n",
       " 'raise',\n",
       " 'return',\n",
       " 'try',\n",
       " 'while',\n",
       " 'with',\n",
       " 'yield']"
      ]
     },
     "execution_count": 2,
     "metadata": {},
     "output_type": "execute_result"
    }
   ],
   "source": [
    "import keyword\n",
    "keyword.kwlist"
   ]
  },
  {
   "cell_type": "markdown",
   "id": "4d098c86",
   "metadata": {},
   "source": [
    "# DATA TYPES\n",
    "\n",
    "- Data Type represents the type of data present inside a variable.<br>\n",
    "- In Python we are not required to specify the type explicitly. Based on value provided, the type will be assigned automatically.Hence Python is dynamically Typed Language.<br><br>\n",
    "\n",
    "Python contains the following inbuilt data types<br>\n",
    "1) Int<br> 2) Float<br> 3) Complex<br> 4) Bool<br> 5) Str<br> 6) Bytes<br> 7) Bytearray<br> 8) Range<br> 9) List<br> 10) Tuple<br> 11) Set<br> 12) Frozenset<br> 13) Dict<br> 14) None<br>\n",
    "\n",
    "![](images/2.png)\n",
    "**Note:** Python contains several inbuilt functions<br>\n",
    "\n",
    "1) **type():** to check the type of variable<br>\n",
    "2) **id():** to get address of object<br>\n",
    "3) **print():** to print the value<br><br>\n",
    "\n",
    "In Python everything is an Object.<br><br>\n",
    "\n",
    "# 1) int Data Type:\n",
    "We can use int data type to represent whole numbers (integral values)<br>\n",
    "Eg:<br>\n",
    "a = 10<br>\n",
    "type(a) #int<br><br>\n",
    "\n",
    "**Note:**<br><br>\n",
    "- In Python2 we have long data type to represent very large integral values.<br>\n",
    "- But in Python3 there is no long type explicitly and we can represent long values also by using int type only.<br><br>\n",
    "We can represent int values in the following ways<br>\n",
    "1) Decimal form<br> 2) Binary form<br> 3) Octal form<br> 4) Hexa decimal form<br><br>\n",
    "\n",
    "\n",
    "### I) Decimal Form (Base-10):\n",
    "- It is the default number system in Python<br>\n",
    "- The allowed digits are: 0 to 9<br>\n",
    "- **Eg:** a =10<br><br>\n",
    "\n",
    "### II) Binary Form (Base-2):\n",
    "- The allowed digits are : 0 & 1<br> \n",
    "- Literal value should be prefixed with 0b or 0B<br>\n",
    "- **Eg:** \n",
    "> a = 0B1111<br>\n",
    "> a = 0B123<br>\n",
    "> a = b111<br><br>\n",
    "\n",
    "### III) Octal Form (Base-8):\n",
    "- The allowed digits are : 0 to 7<br>\n",
    "- Literal value should be prefixed with 0o or 0O.<br>\n",
    "- **Eg:**<br>\n",
    "> a = 0o123<br>\n",
    "> a = 0o786<br><br>\n",
    "\n",
    "### IV) Hexa Decimal Form (Base-16):\n",
    "- The allowed digits are: 0 to 9, a-f (both lower and upper cases are allowed)<br>\n",
    "- Literal value should be prefixed with 0x or 0X<br>\n",
    "- **Eg:**\n",
    "> a = 0XFACE<br>\n",
    "> a = 0XBeef<br>\n",
    "> a = 0XBeer<br><br>\n",
    "\n",
    "**Note:**<br>\n",
    "Being a programmer we can specify literal values in decimal, binary, octal and hexa decimal forms. But PVM will always provide values only in decimal form.<br><br>"
   ]
  },
  {
   "cell_type": "code",
   "execution_count": 1,
   "id": "5a8c5ff7",
   "metadata": {},
   "outputs": [
    {
     "name": "stdout",
     "output_type": "stream",
     "text": [
      "10\n",
      "8\n",
      "16\n",
      "2\n"
     ]
    }
   ],
   "source": [
    "a=10\n",
    "b=0o10\n",
    "c=0X10\n",
    "d=0B10\n",
    "print(a) #10\n",
    "print(b) #8\n",
    "print(c) #16\n",
    "print(d) #2"
   ]
  },
  {
   "cell_type": "markdown",
   "id": "7a83e649",
   "metadata": {},
   "source": [
    "## Base Conversions\n",
    "Python provide the following in-built functions for base conversions<br>\n",
    "### 1) bin():\n",
    "We can use bin() to convert from any base to binary\n"
   ]
  },
  {
   "cell_type": "code",
   "execution_count": 2,
   "id": "292b6034",
   "metadata": {},
   "outputs": [
    {
     "data": {
      "text/plain": [
       "'0b1111'"
      ]
     },
     "execution_count": 2,
     "metadata": {},
     "output_type": "execute_result"
    }
   ],
   "source": [
    "bin(15)"
   ]
  },
  {
   "cell_type": "code",
   "execution_count": 3,
   "id": "b42078c0",
   "metadata": {},
   "outputs": [
    {
     "data": {
      "text/plain": [
       "'0b1010'"
      ]
     },
     "execution_count": 3,
     "metadata": {},
     "output_type": "execute_result"
    }
   ],
   "source": [
    "bin(0o12)"
   ]
  },
  {
   "cell_type": "code",
   "execution_count": 4,
   "id": "88eece14",
   "metadata": {},
   "outputs": [
    {
     "data": {
      "text/plain": [
       "'0b10010'"
      ]
     },
     "execution_count": 4,
     "metadata": {},
     "output_type": "execute_result"
    }
   ],
   "source": [
    "bin(0X12)"
   ]
  },
  {
   "cell_type": "markdown",
   "id": "37be3002",
   "metadata": {},
   "source": [
    "### 2) oct():\n",
    "We can use oct() to convert from any base to octal"
   ]
  },
  {
   "cell_type": "code",
   "execution_count": 5,
   "id": "ac64642c",
   "metadata": {},
   "outputs": [
    {
     "data": {
      "text/plain": [
       "'0o12'"
      ]
     },
     "execution_count": 5,
     "metadata": {},
     "output_type": "execute_result"
    }
   ],
   "source": [
    "oct(10)"
   ]
  },
  {
   "cell_type": "code",
   "execution_count": 6,
   "id": "69322aa8",
   "metadata": {},
   "outputs": [
    {
     "data": {
      "text/plain": [
       "'0o17'"
      ]
     },
     "execution_count": 6,
     "metadata": {},
     "output_type": "execute_result"
    }
   ],
   "source": [
    "oct(0B1111)"
   ]
  },
  {
   "cell_type": "code",
   "execution_count": 7,
   "id": "edce460f",
   "metadata": {},
   "outputs": [
    {
     "data": {
      "text/plain": [
       "'0o443'"
      ]
     },
     "execution_count": 7,
     "metadata": {},
     "output_type": "execute_result"
    }
   ],
   "source": [
    "oct(0X123)"
   ]
  },
  {
   "cell_type": "markdown",
   "id": "8db93e52",
   "metadata": {},
   "source": [
    "### 3) hex():\n",
    "We can use hex() to convert from any base to hexa decimal"
   ]
  },
  {
   "cell_type": "code",
   "execution_count": 8,
   "id": "2139eefd",
   "metadata": {},
   "outputs": [
    {
     "data": {
      "text/plain": [
       "'0x64'"
      ]
     },
     "execution_count": 8,
     "metadata": {},
     "output_type": "execute_result"
    }
   ],
   "source": [
    "hex(100)"
   ]
  },
  {
   "cell_type": "code",
   "execution_count": 9,
   "id": "76fc7d5e",
   "metadata": {},
   "outputs": [
    {
     "data": {
      "text/plain": [
       "'0x3f'"
      ]
     },
     "execution_count": 9,
     "metadata": {},
     "output_type": "execute_result"
    }
   ],
   "source": [
    "hex(0B111111)"
   ]
  },
  {
   "cell_type": "code",
   "execution_count": 10,
   "id": "a2e3c72f",
   "metadata": {},
   "outputs": [
    {
     "data": {
      "text/plain": [
       "'0x14e5'"
      ]
     },
     "execution_count": 10,
     "metadata": {},
     "output_type": "execute_result"
    }
   ],
   "source": [
    "hex(0o12345)"
   ]
  },
  {
   "cell_type": "markdown",
   "id": "c53cbae4",
   "metadata": {},
   "source": [
    "## 2) Float Data Type\n",
    "\n",
    "- We can use float data type to represent floating point values (decimal values)"
   ]
  },
  {
   "cell_type": "code",
   "execution_count": 11,
   "id": "096d191d",
   "metadata": {},
   "outputs": [
    {
     "data": {
      "text/plain": [
       "float"
      ]
     },
     "execution_count": 11,
     "metadata": {},
     "output_type": "execute_result"
    }
   ],
   "source": [
    "f=1.23445\n",
    "type(f)"
   ]
  },
  {
   "cell_type": "markdown",
   "id": "73c26c69",
   "metadata": {},
   "source": [
    "- We can also represent floating point values by using exponential form (Scientific Notation)"
   ]
  },
  {
   "cell_type": "code",
   "execution_count": 12,
   "id": "1769f3e6",
   "metadata": {},
   "outputs": [
    {
     "name": "stdout",
     "output_type": "stream",
     "text": [
      "140.0\n"
     ]
    }
   ],
   "source": [
    "f=1.4e2 # Instead of 'e' we can use 'E'\n",
    "print(f)"
   ]
  },
  {
   "cell_type": "markdown",
   "id": "334d2507",
   "metadata": {},
   "source": [
    "- The main advantage of exponential form is we can represent big values in less memory.<br><br>\n",
    "\n",
    "**Note:**<br>\n",
    "We can represent int values in decimal, binary, octal and hexa decimal forms. But we can represent float values only by using decimal form."
   ]
  },
  {
   "cell_type": "code",
   "execution_count": 13,
   "id": "3e1efa2b",
   "metadata": {},
   "outputs": [
    {
     "ename": "SyntaxError",
     "evalue": "invalid syntax (<ipython-input-13-bd59c796438a>, line 1)",
     "output_type": "error",
     "traceback": [
      "\u001b[1;36m  File \u001b[1;32m\"<ipython-input-13-bd59c796438a>\"\u001b[1;36m, line \u001b[1;32m1\u001b[0m\n\u001b[1;33m    f = 0B11.01\u001b[0m\n\u001b[1;37m            ^\u001b[0m\n\u001b[1;31mSyntaxError\u001b[0m\u001b[1;31m:\u001b[0m invalid syntax\n"
     ]
    }
   ],
   "source": [
    "f = 0B11.01\n",
    "print(f) # This will be invalid sytax"
   ]
  },
  {
   "cell_type": "code",
   "execution_count": 14,
   "id": "d6cdf7b1",
   "metadata": {},
   "outputs": [
    {
     "ename": "SyntaxError",
     "evalue": "invalid syntax (<ipython-input-14-61bbbb8e6e51>, line 1)",
     "output_type": "error",
     "traceback": [
      "\u001b[1;36m  File \u001b[1;32m\"<ipython-input-14-61bbbb8e6e51>\"\u001b[1;36m, line \u001b[1;32m1\u001b[0m\n\u001b[1;33m    f = 0o12.567\u001b[0m\n\u001b[1;37m            ^\u001b[0m\n\u001b[1;31mSyntaxError\u001b[0m\u001b[1;31m:\u001b[0m invalid syntax\n"
     ]
    }
   ],
   "source": [
    "f = 0o12.567\n",
    "print(f)"
   ]
  },
  {
   "cell_type": "code",
   "execution_count": 15,
   "id": "35d9fc7f",
   "metadata": {},
   "outputs": [
    {
     "ename": "SyntaxError",
     "evalue": "invalid syntax (<ipython-input-15-4cce22551dd7>, line 1)",
     "output_type": "error",
     "traceback": [
      "\u001b[1;36m  File \u001b[1;32m\"<ipython-input-15-4cce22551dd7>\"\u001b[1;36m, line \u001b[1;32m1\u001b[0m\n\u001b[1;33m    f = 0X156.123\u001b[0m\n\u001b[1;37m             ^\u001b[0m\n\u001b[1;31mSyntaxError\u001b[0m\u001b[1;31m:\u001b[0m invalid syntax\n"
     ]
    }
   ],
   "source": [
    "f = 0X156.123\n",
    "print(f)"
   ]
  },
  {
   "cell_type": "markdown",
   "id": "cdf6dc26",
   "metadata": {},
   "source": [
    "## 3) Complex Data Type:\n",
    "- A complex number is of the form<br>\n",
    "![](images/3.png)<br>\n",
    "- ‘a’ and ‘b’ contain Intergers OR Floating Point Values.<br>\n",
    "\n",
    "**Eg:**<br>\n",
    "> 3+5j<br>\n",
    "> 10+5.5j<br>\n",
    "> 0.5+0.1j<br><br>\n",
    "\n",
    "- In the real part if we use int value then we can specify that either by decimal, octal, binary or hexa decimal form.<br>\n",
    "- But imaginary part should be specified only by using decimal form."
   ]
  },
  {
   "cell_type": "code",
   "execution_count": 16,
   "id": "37a89b13",
   "metadata": {},
   "outputs": [
    {
     "data": {
      "text/plain": [
       "(3+5j)"
      ]
     },
     "execution_count": 16,
     "metadata": {},
     "output_type": "execute_result"
    }
   ],
   "source": [
    "a=0B11+5j #Valid\n",
    "a"
   ]
  },
  {
   "cell_type": "code",
   "execution_count": 17,
   "id": "545af6f8",
   "metadata": {},
   "outputs": [
    {
     "ename": "SyntaxError",
     "evalue": "invalid syntax (<ipython-input-17-692cbb285c8a>, line 1)",
     "output_type": "error",
     "traceback": [
      "\u001b[1;36m  File \u001b[1;32m\"<ipython-input-17-692cbb285c8a>\"\u001b[1;36m, line \u001b[1;32m1\u001b[0m\n\u001b[1;33m    a=3+0B11j\u001b[0m\n\u001b[1;37m            ^\u001b[0m\n\u001b[1;31mSyntaxError\u001b[0m\u001b[1;31m:\u001b[0m invalid syntax\n"
     ]
    }
   ],
   "source": [
    "a=3+0B11j # Not Valid as imaginary value is not decimal\n",
    "a"
   ]
  },
  {
   "cell_type": "markdown",
   "id": "75d3daef",
   "metadata": {},
   "source": [
    "Even we can perform operations on complex type values."
   ]
  },
  {
   "cell_type": "code",
   "execution_count": 19,
   "id": "d139501e",
   "metadata": {},
   "outputs": [
    {
     "name": "stdout",
     "output_type": "stream",
     "text": [
      "(30+4j)\n"
     ]
    },
    {
     "data": {
      "text/plain": [
       "complex"
      ]
     },
     "execution_count": 19,
     "metadata": {},
     "output_type": "execute_result"
    }
   ],
   "source": [
    "a=10+1.5j\n",
    "b=20+2.5j\n",
    "c=a+b\n",
    "print(c)\n",
    "type(c)"
   ]
  },
  {
   "cell_type": "markdown",
   "id": "6d2db0b8",
   "metadata": {},
   "source": [
    "**Note:** Complex data type has some inbuilt attributes to retrieve the real part and imaginary part"
   ]
  },
  {
   "cell_type": "code",
   "execution_count": 22,
   "id": "df5f9dba",
   "metadata": {},
   "outputs": [
    {
     "name": "stdout",
     "output_type": "stream",
     "text": [
      "10.5\n",
      "3.6\n"
     ]
    }
   ],
   "source": [
    "c=10.5+3.6j\n",
    "print(c.real) # it will output real number\n",
    "print(c.imag) # it will output imaginary number"
   ]
  },
  {
   "cell_type": "markdown",
   "id": "c65501fe",
   "metadata": {},
   "source": [
    "We can use complex type generally in scientific Applications and electrical engineering Applications."
   ]
  },
  {
   "cell_type": "markdown",
   "id": "4d36294c",
   "metadata": {},
   "source": [
    "## 4) bool Data Type:\n",
    "- We can use this data type to represent boolean values.<br>\n",
    "- The only allowed values for this data type are: **True** and **False**<br>\n",
    "- Internally Python represents True as 1 and False as 0"
   ]
  },
  {
   "cell_type": "code",
   "execution_count": 23,
   "id": "3297955c",
   "metadata": {},
   "outputs": [
    {
     "data": {
      "text/plain": [
       "bool"
      ]
     },
     "execution_count": 23,
     "metadata": {},
     "output_type": "execute_result"
    }
   ],
   "source": [
    "b=True\n",
    "type(b)"
   ]
  },
  {
   "cell_type": "code",
   "execution_count": 24,
   "id": "073c57c8",
   "metadata": {},
   "outputs": [
    {
     "name": "stdout",
     "output_type": "stream",
     "text": [
      "True\n"
     ]
    }
   ],
   "source": [
    "# Example\n",
    "a=10\n",
    "b=30\n",
    "c=a<b\n",
    "print(c)"
   ]
  },
  {
   "cell_type": "code",
   "execution_count": 25,
   "id": "91160165",
   "metadata": {},
   "outputs": [
    {
     "data": {
      "text/plain": [
       "2"
      ]
     },
     "execution_count": 25,
     "metadata": {},
     "output_type": "execute_result"
    }
   ],
   "source": [
    "True + True # True is 1"
   ]
  },
  {
   "cell_type": "code",
   "execution_count": 26,
   "id": "590afd57",
   "metadata": {},
   "outputs": [
    {
     "data": {
      "text/plain": [
       "1"
      ]
     },
     "execution_count": 26,
     "metadata": {},
     "output_type": "execute_result"
    }
   ],
   "source": [
    "True - False # True is 1 and False is 0"
   ]
  },
  {
   "cell_type": "markdown",
   "id": "77615670",
   "metadata": {},
   "source": [
    "## 5) str Data Type:\n",
    "- str represents String data type. <br>\n",
    "- A String is a sequence of characters enclosed within single quotes or double quotes.<br>\n",
    "> s1 = 'sairam'<br>\n",
    "> s1 = \"sairam\"<br>\n",
    "\n",
    "By using single quotes or double quotes we cannot represent multi line string literals.<br>"
   ]
  },
  {
   "cell_type": "code",
   "execution_count": 28,
   "id": "de1b5d9c",
   "metadata": {},
   "outputs": [
    {
     "ename": "SyntaxError",
     "evalue": "EOL while scanning string literal (<ipython-input-28-522ce2ad33f2>, line 1)",
     "output_type": "error",
     "traceback": [
      "\u001b[1;36m  File \u001b[1;32m\"<ipython-input-28-522ce2ad33f2>\"\u001b[1;36m, line \u001b[1;32m1\u001b[0m\n\u001b[1;33m    s1=\"sai\u001b[0m\n\u001b[1;37m           ^\u001b[0m\n\u001b[1;31mSyntaxError\u001b[0m\u001b[1;31m:\u001b[0m EOL while scanning string literal\n"
     ]
    }
   ],
   "source": [
    "s1=\"sai\n",
    "ram\" # This will result error."
   ]
  },
  {
   "cell_type": "markdown",
   "id": "bb2c5135",
   "metadata": {},
   "source": [
    "For this requirement we should go for triple single quotes **(''')** or triple double quotes **(\"\"\")**"
   ]
  },
  {
   "cell_type": "code",
   "execution_count": 31,
   "id": "9dd48878",
   "metadata": {},
   "outputs": [
    {
     "name": "stdout",
     "output_type": "stream",
     "text": [
      "sai\n",
      "ram\n"
     ]
    }
   ],
   "source": [
    "s1 = '''sai\n",
    "ram'''\n",
    "print(s1)"
   ]
  },
  {
   "cell_type": "code",
   "execution_count": 33,
   "id": "b40beb92",
   "metadata": {},
   "outputs": [
    {
     "name": "stdout",
     "output_type": "stream",
     "text": [
      "sai\n",
      "ram\n"
     ]
    }
   ],
   "source": [
    "s1 = \"\"\"sai\n",
    "ram\"\"\"\n",
    "print(s1)"
   ]
  },
  {
   "cell_type": "markdown",
   "id": "e2a905e1",
   "metadata": {},
   "source": [
    "- We can also use triple quotes to use single quote or double quote in our String.<br> "
   ]
  },
  {
   "cell_type": "code",
   "execution_count": 34,
   "id": "19d00f0e",
   "metadata": {},
   "outputs": [
    {
     "data": {
      "text/plain": [
       "'This is \" character'"
      ]
     },
     "execution_count": 34,
     "metadata": {},
     "output_type": "execute_result"
    }
   ],
   "source": [
    "'''This is \" character'''"
   ]
  },
  {
   "cell_type": "markdown",
   "id": "8249341b",
   "metadata": {},
   "source": [
    "- We can embed one string in another string"
   ]
  },
  {
   "cell_type": "code",
   "execution_count": 36,
   "id": "d157c844",
   "metadata": {},
   "outputs": [
    {
     "data": {
      "text/plain": [
       "'This \"Python class very helpful\" for java students'"
      ]
     },
     "execution_count": 36,
     "metadata": {},
     "output_type": "execute_result"
    }
   ],
   "source": [
    "'''This \"Python class very helpful\" for java students'''"
   ]
  },
  {
   "cell_type": "markdown",
   "id": "0f4e4828",
   "metadata": {},
   "source": [
    "## Slicing of Strings:\n",
    "\n",
    "1) slice means a piece<br>\n",
    "2) **[ ]** operator is called slice operator, which can be used to retrieve parts of String.<br>\n",
    "3) In Python Strings follows zero based index.<br>\n",
    "4) The index can be either +ve or -ve.<br>\n",
    "5) +ve index means forward direction from Left to Right<br>\n",
    "6) -ve index means backward direction from Right to Left<br>\n",
    "![](images/4.png)"
   ]
  },
  {
   "cell_type": "code",
   "execution_count": 40,
   "id": "119c044c",
   "metadata": {},
   "outputs": [
    {
     "name": "stdout",
     "output_type": "stream",
     "text": [
      "s[0] =  S\n",
      "s[1] =  A\n",
      "s[-1] =  M\n",
      "s[1:40] =  AIRAM\n",
      "s[1:] =  AIRAM\n",
      "s[:4] =  SAIR\n",
      "s[:] =  SAIRAM\n",
      "s*3 =  SAIRAMSAIRAMSAIRAM\n",
      "6\n"
     ]
    }
   ],
   "source": [
    "s = \"SAIRAM\"\n",
    "print(\"s[0] = \",s[0])\n",
    "print(\"s[1] = \",s[1])\n",
    "print(\"s[-1] = \",s[-1])\n",
    "print(\"s[1:40] = \",s[1:40])\n",
    "print(\"s[1:] = \",s[1:])\n",
    "print(\"s[:4] = \",s[:4])\n",
    "print(\"s[:] = \",s[:])\n",
    "print(\"s*3 = \",s*3)\n",
    "print(len(s))"
   ]
  },
  {
   "cell_type": "markdown",
   "id": "e2c89d27",
   "metadata": {},
   "source": [
    "### Note:\n",
    "1) In Python the following data types are considered as Fundamental Data types<br>\n",
    "> - int<br>\n",
    "> - float<br>\n",
    "> - complex<br>\n",
    "> - bool<br>\n",
    "> - str<br><br>\n",
    "\n",
    "2) In Python, we can represent char values also by using str type and explicitly char type is not available."
   ]
  },
  {
   "cell_type": "code",
   "execution_count": 41,
   "id": "a423acd4",
   "metadata": {},
   "outputs": [
    {
     "data": {
      "text/plain": [
       "str"
      ]
     },
     "execution_count": 41,
     "metadata": {},
     "output_type": "execute_result"
    }
   ],
   "source": [
    "c='a'\n",
    "type(c)"
   ]
  },
  {
   "cell_type": "markdown",
   "id": "031a7cdb",
   "metadata": {},
   "source": [
    "3) long Data Type is available in Python2 but not in Python3. In Python3 long values also we can represent by using int type only.<br><br>\n",
    "4) In Python we can present char Value also by using str Type and explicitly char Type is not available."
   ]
  },
  {
   "cell_type": "markdown",
   "id": "41cca17d",
   "metadata": {},
   "source": [
    "# TYPE CASTING\n",
    "- We can convert one type value to another type. This conversion is called Typecasting or Type coersion.<br>\n",
    "- The following are various inbuilt functions for type casting.<br>\n",
    "> 1) int()<br>\n",
    "> 2) float()<br>\n",
    "> 3) complex()<br>\n",
    "> 4) bool()<br>\n",
    "> 5) str()<br><br>\n",
    "\n",
    "## int():\n",
    "We can use this function to convert values from other types to int"
   ]
  },
  {
   "cell_type": "code",
   "execution_count": 1,
   "id": "f186f53e",
   "metadata": {},
   "outputs": [
    {
     "data": {
      "text/plain": [
       "123"
      ]
     },
     "execution_count": 1,
     "metadata": {},
     "output_type": "execute_result"
    }
   ],
   "source": [
    "int(123.456)"
   ]
  },
  {
   "cell_type": "code",
   "execution_count": 2,
   "id": "dfbc7209",
   "metadata": {},
   "outputs": [
    {
     "ename": "TypeError",
     "evalue": "can't convert complex to int",
     "output_type": "error",
     "traceback": [
      "\u001b[1;31m---------------------------------------------------------------------------\u001b[0m",
      "\u001b[1;31mTypeError\u001b[0m                                 Traceback (most recent call last)",
      "\u001b[1;32m<ipython-input-2-aeeb86d69c41>\u001b[0m in \u001b[0;36m<module>\u001b[1;34m\u001b[0m\n\u001b[1;32m----> 1\u001b[1;33m \u001b[0mint\u001b[0m\u001b[1;33m(\u001b[0m\u001b[1;36m10\u001b[0m\u001b[1;33m+\u001b[0m\u001b[1;36m5j\u001b[0m\u001b[1;33m)\u001b[0m\u001b[1;33m\u001b[0m\u001b[1;33m\u001b[0m\u001b[0m\n\u001b[0m",
      "\u001b[1;31mTypeError\u001b[0m: can't convert complex to int"
     ]
    }
   ],
   "source": [
    "int(10+5j)"
   ]
  },
  {
   "cell_type": "code",
   "execution_count": 3,
   "id": "125c15d0",
   "metadata": {},
   "outputs": [
    {
     "data": {
      "text/plain": [
       "1"
      ]
     },
     "execution_count": 3,
     "metadata": {},
     "output_type": "execute_result"
    }
   ],
   "source": [
    "int(True)"
   ]
  },
  {
   "cell_type": "code",
   "execution_count": 4,
   "id": "501f9d25",
   "metadata": {},
   "outputs": [
    {
     "data": {
      "text/plain": [
       "0"
      ]
     },
     "execution_count": 4,
     "metadata": {},
     "output_type": "execute_result"
    }
   ],
   "source": [
    "int(False)"
   ]
  },
  {
   "cell_type": "code",
   "execution_count": 5,
   "id": "f88f18f8",
   "metadata": {},
   "outputs": [
    {
     "data": {
      "text/plain": [
       "10"
      ]
     },
     "execution_count": 5,
     "metadata": {},
     "output_type": "execute_result"
    }
   ],
   "source": [
    "int(\"10\")"
   ]
  },
  {
   "cell_type": "code",
   "execution_count": 6,
   "id": "ef04581d",
   "metadata": {},
   "outputs": [
    {
     "ename": "ValueError",
     "evalue": "invalid literal for int() with base 10: '10.2'",
     "output_type": "error",
     "traceback": [
      "\u001b[1;31m---------------------------------------------------------------------------\u001b[0m",
      "\u001b[1;31mValueError\u001b[0m                                Traceback (most recent call last)",
      "\u001b[1;32m<ipython-input-6-e15135b960ac>\u001b[0m in \u001b[0;36m<module>\u001b[1;34m\u001b[0m\n\u001b[1;32m----> 1\u001b[1;33m \u001b[0mint\u001b[0m\u001b[1;33m(\u001b[0m\u001b[1;34m\"10.2\"\u001b[0m\u001b[1;33m)\u001b[0m\u001b[1;33m\u001b[0m\u001b[1;33m\u001b[0m\u001b[0m\n\u001b[0m",
      "\u001b[1;31mValueError\u001b[0m: invalid literal for int() with base 10: '10.2'"
     ]
    }
   ],
   "source": [
    "int(\"10.2\")"
   ]
  },
  {
   "cell_type": "code",
   "execution_count": 7,
   "id": "4e458ba4",
   "metadata": {},
   "outputs": [
    {
     "ename": "ValueError",
     "evalue": "invalid literal for int() with base 10: 'ten'",
     "output_type": "error",
     "traceback": [
      "\u001b[1;31m---------------------------------------------------------------------------\u001b[0m",
      "\u001b[1;31mValueError\u001b[0m                                Traceback (most recent call last)",
      "\u001b[1;32m<ipython-input-7-846b3cf4a083>\u001b[0m in \u001b[0;36m<module>\u001b[1;34m\u001b[0m\n\u001b[1;32m----> 1\u001b[1;33m \u001b[0mint\u001b[0m\u001b[1;33m(\u001b[0m\u001b[1;34m\"ten\"\u001b[0m\u001b[1;33m)\u001b[0m\u001b[1;33m\u001b[0m\u001b[1;33m\u001b[0m\u001b[0m\n\u001b[0m",
      "\u001b[1;31mValueError\u001b[0m: invalid literal for int() with base 10: 'ten'"
     ]
    }
   ],
   "source": [
    "int(\"ten\")"
   ]
  },
  {
   "cell_type": "code",
   "execution_count": 8,
   "id": "db3bff9a",
   "metadata": {},
   "outputs": [
    {
     "ename": "ValueError",
     "evalue": "invalid literal for int() with base 10: '0B1111'",
     "output_type": "error",
     "traceback": [
      "\u001b[1;31m---------------------------------------------------------------------------\u001b[0m",
      "\u001b[1;31mValueError\u001b[0m                                Traceback (most recent call last)",
      "\u001b[1;32m<ipython-input-8-0f3a8d756b59>\u001b[0m in \u001b[0;36m<module>\u001b[1;34m\u001b[0m\n\u001b[1;32m----> 1\u001b[1;33m \u001b[0mint\u001b[0m\u001b[1;33m(\u001b[0m\u001b[1;34m\"0B1111\"\u001b[0m\u001b[1;33m)\u001b[0m\u001b[1;33m\u001b[0m\u001b[1;33m\u001b[0m\u001b[0m\n\u001b[0m",
      "\u001b[1;31mValueError\u001b[0m: invalid literal for int() with base 10: '0B1111'"
     ]
    }
   ],
   "source": [
    "int(\"0B1111\")"
   ]
  },
  {
   "cell_type": "markdown",
   "id": "db6741da",
   "metadata": {},
   "source": [
    "**Note:**<br>\n",
    "1) We can convert from any type to int except complex type.<br>\n",
    "2) If we want to convert str type to int type, compulsary str should contain only integral value and should be specified in base-10.<br><br>\n",
    "\n",
    "## float():\n",
    "We can use float() function to convert other type values to float type."
   ]
  },
  {
   "cell_type": "code",
   "execution_count": 9,
   "id": "fcf92448",
   "metadata": {},
   "outputs": [
    {
     "data": {
      "text/plain": [
       "10.0"
      ]
     },
     "execution_count": 9,
     "metadata": {},
     "output_type": "execute_result"
    }
   ],
   "source": [
    "float(10)"
   ]
  },
  {
   "cell_type": "code",
   "execution_count": 10,
   "id": "ec09c4ba",
   "metadata": {},
   "outputs": [
    {
     "ename": "TypeError",
     "evalue": "can't convert complex to float",
     "output_type": "error",
     "traceback": [
      "\u001b[1;31m---------------------------------------------------------------------------\u001b[0m",
      "\u001b[1;31mTypeError\u001b[0m                                 Traceback (most recent call last)",
      "\u001b[1;32m<ipython-input-10-6cf2399a10a3>\u001b[0m in \u001b[0;36m<module>\u001b[1;34m\u001b[0m\n\u001b[1;32m----> 1\u001b[1;33m \u001b[0mfloat\u001b[0m\u001b[1;33m(\u001b[0m\u001b[1;36m5\u001b[0m\u001b[1;33m+\u001b[0m\u001b[1;36m10j\u001b[0m\u001b[1;33m)\u001b[0m\u001b[1;33m\u001b[0m\u001b[1;33m\u001b[0m\u001b[0m\n\u001b[0m",
      "\u001b[1;31mTypeError\u001b[0m: can't convert complex to float"
     ]
    }
   ],
   "source": [
    "float(5+10j)"
   ]
  },
  {
   "cell_type": "code",
   "execution_count": 11,
   "id": "3976901d",
   "metadata": {},
   "outputs": [
    {
     "data": {
      "text/plain": [
       "1.0"
      ]
     },
     "execution_count": 11,
     "metadata": {},
     "output_type": "execute_result"
    }
   ],
   "source": [
    "float(True)"
   ]
  },
  {
   "cell_type": "code",
   "execution_count": 12,
   "id": "de2bbf63",
   "metadata": {},
   "outputs": [
    {
     "data": {
      "text/plain": [
       "0.0"
      ]
     },
     "execution_count": 12,
     "metadata": {},
     "output_type": "execute_result"
    }
   ],
   "source": [
    "float(False)"
   ]
  },
  {
   "cell_type": "code",
   "execution_count": 13,
   "id": "741abea3",
   "metadata": {},
   "outputs": [
    {
     "data": {
      "text/plain": [
       "10.0"
      ]
     },
     "execution_count": 13,
     "metadata": {},
     "output_type": "execute_result"
    }
   ],
   "source": [
    "float(\"10\")"
   ]
  },
  {
   "cell_type": "code",
   "execution_count": 14,
   "id": "ef412237",
   "metadata": {},
   "outputs": [
    {
     "data": {
      "text/plain": [
       "10.25"
      ]
     },
     "execution_count": 14,
     "metadata": {},
     "output_type": "execute_result"
    }
   ],
   "source": [
    "float(\"10.25\")"
   ]
  },
  {
   "cell_type": "code",
   "execution_count": 15,
   "id": "05d1a2bd",
   "metadata": {},
   "outputs": [
    {
     "ename": "ValueError",
     "evalue": "could not convert string to float: 'ten'",
     "output_type": "error",
     "traceback": [
      "\u001b[1;31m---------------------------------------------------------------------------\u001b[0m",
      "\u001b[1;31mValueError\u001b[0m                                Traceback (most recent call last)",
      "\u001b[1;32m<ipython-input-15-c8abde1341af>\u001b[0m in \u001b[0;36m<module>\u001b[1;34m\u001b[0m\n\u001b[1;32m----> 1\u001b[1;33m \u001b[0mfloat\u001b[0m\u001b[1;33m(\u001b[0m\u001b[1;34m\"ten\"\u001b[0m\u001b[1;33m)\u001b[0m\u001b[1;33m\u001b[0m\u001b[1;33m\u001b[0m\u001b[0m\n\u001b[0m",
      "\u001b[1;31mValueError\u001b[0m: could not convert string to float: 'ten'"
     ]
    }
   ],
   "source": [
    "float(\"ten\")"
   ]
  },
  {
   "cell_type": "code",
   "execution_count": 16,
   "id": "6bc27e31",
   "metadata": {},
   "outputs": [
    {
     "ename": "ValueError",
     "evalue": "could not convert string to float: '0B1111'",
     "output_type": "error",
     "traceback": [
      "\u001b[1;31m---------------------------------------------------------------------------\u001b[0m",
      "\u001b[1;31mValueError\u001b[0m                                Traceback (most recent call last)",
      "\u001b[1;32m<ipython-input-16-62ed3c7df456>\u001b[0m in \u001b[0;36m<module>\u001b[1;34m\u001b[0m\n\u001b[1;32m----> 1\u001b[1;33m \u001b[0mfloat\u001b[0m\u001b[1;33m(\u001b[0m\u001b[1;34m\"0B1111\"\u001b[0m\u001b[1;33m)\u001b[0m\u001b[1;33m\u001b[0m\u001b[1;33m\u001b[0m\u001b[0m\n\u001b[0m",
      "\u001b[1;31mValueError\u001b[0m: could not convert string to float: '0B1111'"
     ]
    }
   ],
   "source": [
    "float(\"0B1111\")"
   ]
  },
  {
   "cell_type": "markdown",
   "id": "537585c9",
   "metadata": {},
   "source": [
    "**Note:**<br>\n",
    "1) We can convert any type value to float type except complex type.<br>\n",
    "2) Whenever we are trying to convert str type to float type compulsary str should be either integral or floating point literal and should be specified only in base-10.<br><br>\n",
    "\n",
    "## complex():\n",
    "We can use complex() function to convert other types to complex type."
   ]
  },
  {
   "cell_type": "markdown",
   "id": "a59abc0c",
   "metadata": {},
   "source": [
    "**Form-1: complex(x)**<br>\n",
    "We can use this function to convert x into complex number with real part x and imaginary part 0."
   ]
  },
  {
   "cell_type": "code",
   "execution_count": 17,
   "id": "7fd22973",
   "metadata": {},
   "outputs": [
    {
     "data": {
      "text/plain": [
       "(10+0j)"
      ]
     },
     "execution_count": 17,
     "metadata": {},
     "output_type": "execute_result"
    }
   ],
   "source": [
    "complex(10)"
   ]
  },
  {
   "cell_type": "code",
   "execution_count": 18,
   "id": "9eff3697",
   "metadata": {},
   "outputs": [
    {
     "data": {
      "text/plain": [
       "(10.5+0j)"
      ]
     },
     "execution_count": 18,
     "metadata": {},
     "output_type": "execute_result"
    }
   ],
   "source": [
    "complex(10.5)"
   ]
  },
  {
   "cell_type": "code",
   "execution_count": 19,
   "id": "e8d0a0ef",
   "metadata": {},
   "outputs": [
    {
     "data": {
      "text/plain": [
       "(1+0j)"
      ]
     },
     "execution_count": 19,
     "metadata": {},
     "output_type": "execute_result"
    }
   ],
   "source": [
    "complex(True)"
   ]
  },
  {
   "cell_type": "code",
   "execution_count": 20,
   "id": "55e3ca89",
   "metadata": {},
   "outputs": [
    {
     "data": {
      "text/plain": [
       "0j"
      ]
     },
     "execution_count": 20,
     "metadata": {},
     "output_type": "execute_result"
    }
   ],
   "source": [
    "complex(False)"
   ]
  },
  {
   "cell_type": "code",
   "execution_count": 21,
   "id": "7f1da117",
   "metadata": {},
   "outputs": [
    {
     "data": {
      "text/plain": [
       "(10+0j)"
      ]
     },
     "execution_count": 21,
     "metadata": {},
     "output_type": "execute_result"
    }
   ],
   "source": [
    "complex(\"10\")"
   ]
  },
  {
   "cell_type": "code",
   "execution_count": 22,
   "id": "397ea24c",
   "metadata": {},
   "outputs": [
    {
     "data": {
      "text/plain": [
       "(10.5+0j)"
      ]
     },
     "execution_count": 22,
     "metadata": {},
     "output_type": "execute_result"
    }
   ],
   "source": [
    "complex(\"10.5\")"
   ]
  },
  {
   "cell_type": "code",
   "execution_count": 23,
   "id": "dd6a04c3",
   "metadata": {},
   "outputs": [
    {
     "ename": "ValueError",
     "evalue": "complex() arg is a malformed string",
     "output_type": "error",
     "traceback": [
      "\u001b[1;31m---------------------------------------------------------------------------\u001b[0m",
      "\u001b[1;31mValueError\u001b[0m                                Traceback (most recent call last)",
      "\u001b[1;32m<ipython-input-23-b7bf9859d3d9>\u001b[0m in \u001b[0;36m<module>\u001b[1;34m\u001b[0m\n\u001b[1;32m----> 1\u001b[1;33m \u001b[0mcomplex\u001b[0m\u001b[1;33m(\u001b[0m\u001b[1;34m\"ten\"\u001b[0m\u001b[1;33m)\u001b[0m\u001b[1;33m\u001b[0m\u001b[1;33m\u001b[0m\u001b[0m\n\u001b[0m",
      "\u001b[1;31mValueError\u001b[0m: complex() arg is a malformed string"
     ]
    }
   ],
   "source": [
    "complex(\"ten\")"
   ]
  },
  {
   "cell_type": "markdown",
   "id": "dc6748f3",
   "metadata": {},
   "source": [
    "**Form-2: complex(x,y)**<br>\n",
    "We can use this method to convert x and y into complex number such that x will be real part and y will be imaginary part."
   ]
  },
  {
   "cell_type": "code",
   "execution_count": 24,
   "id": "65d68070",
   "metadata": {},
   "outputs": [
    {
     "data": {
      "text/plain": [
       "(15-6j)"
      ]
     },
     "execution_count": 24,
     "metadata": {},
     "output_type": "execute_result"
    }
   ],
   "source": [
    "complex(15,-6)"
   ]
  },
  {
   "cell_type": "code",
   "execution_count": 25,
   "id": "a9596437",
   "metadata": {},
   "outputs": [
    {
     "data": {
      "text/plain": [
       "(10+2j)"
      ]
     },
     "execution_count": 25,
     "metadata": {},
     "output_type": "execute_result"
    }
   ],
   "source": [
    "complex(10,2)"
   ]
  },
  {
   "cell_type": "code",
   "execution_count": 26,
   "id": "efb2b2db",
   "metadata": {},
   "outputs": [
    {
     "data": {
      "text/plain": [
       "(1+0j)"
      ]
     },
     "execution_count": 26,
     "metadata": {},
     "output_type": "execute_result"
    }
   ],
   "source": [
    "complex(True,False)"
   ]
  },
  {
   "cell_type": "markdown",
   "id": "bf25a1fa",
   "metadata": {},
   "source": [
    "## bool(): \n",
    "We can use this function to convert other type values to bool type."
   ]
  },
  {
   "cell_type": "code",
   "execution_count": 27,
   "id": "b1544108",
   "metadata": {},
   "outputs": [
    {
     "data": {
      "text/plain": [
       "False"
      ]
     },
     "execution_count": 27,
     "metadata": {},
     "output_type": "execute_result"
    }
   ],
   "source": [
    "bool(0)"
   ]
  },
  {
   "cell_type": "code",
   "execution_count": 28,
   "id": "d007c8ec",
   "metadata": {},
   "outputs": [
    {
     "data": {
      "text/plain": [
       "True"
      ]
     },
     "execution_count": 28,
     "metadata": {},
     "output_type": "execute_result"
    }
   ],
   "source": [
    "bool(1)"
   ]
  },
  {
   "cell_type": "code",
   "execution_count": 31,
   "id": "bafe8e81",
   "metadata": {},
   "outputs": [
    {
     "data": {
      "text/plain": [
       "True"
      ]
     },
     "execution_count": 31,
     "metadata": {},
     "output_type": "execute_result"
    }
   ],
   "source": [
    "bool(\"True\")"
   ]
  },
  {
   "cell_type": "code",
   "execution_count": 32,
   "id": "98fa69ca",
   "metadata": {},
   "outputs": [
    {
     "data": {
      "text/plain": [
       "True"
      ]
     },
     "execution_count": 32,
     "metadata": {},
     "output_type": "execute_result"
    }
   ],
   "source": [
    "bool(\"False\")"
   ]
  },
  {
   "cell_type": "code",
   "execution_count": 33,
   "id": "dd15a7d0",
   "metadata": {},
   "outputs": [
    {
     "data": {
      "text/plain": [
       "True"
      ]
     },
     "execution_count": 33,
     "metadata": {},
     "output_type": "execute_result"
    }
   ],
   "source": [
    "bool(10)"
   ]
  },
  {
   "cell_type": "code",
   "execution_count": 34,
   "id": "249fdbdd",
   "metadata": {},
   "outputs": [
    {
     "data": {
      "text/plain": [
       "True"
      ]
     },
     "execution_count": 34,
     "metadata": {},
     "output_type": "execute_result"
    }
   ],
   "source": [
    "bool(10.6)"
   ]
  },
  {
   "cell_type": "code",
   "execution_count": 35,
   "id": "a5567083",
   "metadata": {},
   "outputs": [
    {
     "data": {
      "text/plain": [
       "True"
      ]
     },
     "execution_count": 35,
     "metadata": {},
     "output_type": "execute_result"
    }
   ],
   "source": [
    "bool(0.178)"
   ]
  },
  {
   "cell_type": "code",
   "execution_count": 36,
   "id": "083c07ba",
   "metadata": {},
   "outputs": [
    {
     "data": {
      "text/plain": [
       "False"
      ]
     },
     "execution_count": 36,
     "metadata": {},
     "output_type": "execute_result"
    }
   ],
   "source": [
    "bool(0.0)"
   ]
  },
  {
   "cell_type": "code",
   "execution_count": 37,
   "id": "38566b45",
   "metadata": {},
   "outputs": [
    {
     "data": {
      "text/plain": [
       "True"
      ]
     },
     "execution_count": 37,
     "metadata": {},
     "output_type": "execute_result"
    }
   ],
   "source": [
    "bool(10-2j)"
   ]
  },
  {
   "cell_type": "code",
   "execution_count": 38,
   "id": "be43db79",
   "metadata": {},
   "outputs": [
    {
     "data": {
      "text/plain": [
       "True"
      ]
     },
     "execution_count": 38,
     "metadata": {},
     "output_type": "execute_result"
    }
   ],
   "source": [
    "bool(0+1.5j)"
   ]
  },
  {
   "cell_type": "code",
   "execution_count": 39,
   "id": "4ecb3a36",
   "metadata": {},
   "outputs": [
    {
     "data": {
      "text/plain": [
       "False"
      ]
     },
     "execution_count": 39,
     "metadata": {},
     "output_type": "execute_result"
    }
   ],
   "source": [
    "bool(0+0j)"
   ]
  },
  {
   "cell_type": "code",
   "execution_count": 40,
   "id": "c3fe7252",
   "metadata": {},
   "outputs": [
    {
     "data": {
      "text/plain": [
       "False"
      ]
     },
     "execution_count": 40,
     "metadata": {},
     "output_type": "execute_result"
    }
   ],
   "source": [
    "bool(\"\")"
   ]
  },
  {
   "cell_type": "markdown",
   "id": "e7ae70ba",
   "metadata": {},
   "source": [
    "![](images/5.png)"
   ]
  },
  {
   "cell_type": "markdown",
   "id": "091c1c91",
   "metadata": {},
   "source": [
    "## str(): \n",
    "We can use this method to convert other type values to str type."
   ]
  },
  {
   "cell_type": "code",
   "execution_count": 41,
   "id": "1fee4ac9",
   "metadata": {},
   "outputs": [
    {
     "data": {
      "text/plain": [
       "'10'"
      ]
     },
     "execution_count": 41,
     "metadata": {},
     "output_type": "execute_result"
    }
   ],
   "source": [
    "str(10)"
   ]
  },
  {
   "cell_type": "code",
   "execution_count": 42,
   "id": "5e0c8f62",
   "metadata": {},
   "outputs": [
    {
     "data": {
      "text/plain": [
       "'10.5'"
      ]
     },
     "execution_count": 42,
     "metadata": {},
     "output_type": "execute_result"
    }
   ],
   "source": [
    "str(10.5)"
   ]
  },
  {
   "cell_type": "code",
   "execution_count": 43,
   "id": "471c55bf",
   "metadata": {},
   "outputs": [
    {
     "data": {
      "text/plain": [
       "'(10+5j)'"
      ]
     },
     "execution_count": 43,
     "metadata": {},
     "output_type": "execute_result"
    }
   ],
   "source": [
    "str(10+5j)"
   ]
  },
  {
   "cell_type": "code",
   "execution_count": 44,
   "id": "36d7917b",
   "metadata": {},
   "outputs": [
    {
     "data": {
      "text/plain": [
       "'True'"
      ]
     },
     "execution_count": 44,
     "metadata": {},
     "output_type": "execute_result"
    }
   ],
   "source": [
    "str(True)"
   ]
  },
  {
   "cell_type": "markdown",
   "id": "2fb4aecb",
   "metadata": {},
   "source": [
    "## Fundamental Data Types vs Immutability:\n",
    "֍ All Fundamental Data types are immutable. i.e once we creates an object,we cannot perform any changes in that object. If we are trying to change then with those changes a new object will be created. This non-chageable behaviour is called immutability.<br><br>\n",
    "֍ In Python if a new object is required, then PVM won’t create object immediately. First it will check is any object available with the required content or not. If available then existing object will be reused. If it is not available then only a new object will be created. The advantage of this approach is memory utilization and performance will be improved.<br><br>\n",
    "֍ But the problem in this approach is, several references pointing to the same object, by using one reference if we are allowed to change the content in the existing object then the remaining references will be effected. To prevent this immutability concept is required. According to this once creates an object we are not allowed to change content. If we are trying to change with those changes a new object will be created."
   ]
  },
  {
   "cell_type": "code",
   "execution_count": 45,
   "id": "7e2dccbd",
   "metadata": {},
   "outputs": [
    {
     "data": {
      "text/plain": [
       "True"
      ]
     },
     "execution_count": 45,
     "metadata": {},
     "output_type": "execute_result"
    }
   ],
   "source": [
    "a=10\n",
    "b=10\n",
    "a is b"
   ]
  },
  {
   "cell_type": "code",
   "execution_count": 46,
   "id": "eb58f3d5",
   "metadata": {},
   "outputs": [
    {
     "data": {
      "text/plain": [
       "140710735456336"
      ]
     },
     "execution_count": 46,
     "metadata": {},
     "output_type": "execute_result"
    }
   ],
   "source": [
    "id(a)"
   ]
  },
  {
   "cell_type": "code",
   "execution_count": 47,
   "id": "ab5b3f26",
   "metadata": {},
   "outputs": [
    {
     "data": {
      "text/plain": [
       "140710735456336"
      ]
     },
     "execution_count": 47,
     "metadata": {},
     "output_type": "execute_result"
    }
   ],
   "source": [
    "id(b)"
   ]
  },
  {
   "cell_type": "code",
   "execution_count": 48,
   "id": "ba5ed86d",
   "metadata": {},
   "outputs": [
    {
     "data": {
      "text/plain": [
       "False"
      ]
     },
     "execution_count": 48,
     "metadata": {},
     "output_type": "execute_result"
    }
   ],
   "source": [
    "a=10+5j\n",
    "b=10+5j\n",
    "a is b"
   ]
  },
  {
   "cell_type": "code",
   "execution_count": 49,
   "id": "56a0b7cd",
   "metadata": {},
   "outputs": [
    {
     "data": {
      "text/plain": [
       "1192274302672"
      ]
     },
     "execution_count": 49,
     "metadata": {},
     "output_type": "execute_result"
    }
   ],
   "source": [
    "id(a)"
   ]
  },
  {
   "cell_type": "code",
   "execution_count": 50,
   "id": "25298928",
   "metadata": {},
   "outputs": [
    {
     "data": {
      "text/plain": [
       "1192274301840"
      ]
     },
     "execution_count": 50,
     "metadata": {},
     "output_type": "execute_result"
    }
   ],
   "source": [
    "id(b)"
   ]
  },
  {
   "cell_type": "code",
   "execution_count": 51,
   "id": "276ae2ff",
   "metadata": {},
   "outputs": [
    {
     "data": {
      "text/plain": [
       "True"
      ]
     },
     "execution_count": 51,
     "metadata": {},
     "output_type": "execute_result"
    }
   ],
   "source": [
    "a= True\n",
    "b= True\n",
    "a is b"
   ]
  },
  {
   "cell_type": "code",
   "execution_count": 52,
   "id": "99946a15",
   "metadata": {},
   "outputs": [
    {
     "data": {
      "text/plain": [
       "140710735173456"
      ]
     },
     "execution_count": 52,
     "metadata": {},
     "output_type": "execute_result"
    }
   ],
   "source": [
    "id(a)"
   ]
  },
  {
   "cell_type": "code",
   "execution_count": 53,
   "id": "c7b15fba",
   "metadata": {},
   "outputs": [
    {
     "data": {
      "text/plain": [
       "140710735173456"
      ]
     },
     "execution_count": 53,
     "metadata": {},
     "output_type": "execute_result"
    }
   ],
   "source": [
    "id(b)"
   ]
  },
  {
   "cell_type": "code",
   "execution_count": 54,
   "id": "0f58b06c",
   "metadata": {},
   "outputs": [
    {
     "data": {
      "text/plain": [
       "True"
      ]
     },
     "execution_count": 54,
     "metadata": {},
     "output_type": "execute_result"
    }
   ],
   "source": [
    "a='sairam'\n",
    "b='sairam'\n",
    "a is b"
   ]
  },
  {
   "cell_type": "code",
   "execution_count": 55,
   "id": "ebdb45b7",
   "metadata": {},
   "outputs": [
    {
     "data": {
      "text/plain": [
       "1192274439216"
      ]
     },
     "execution_count": 55,
     "metadata": {},
     "output_type": "execute_result"
    }
   ],
   "source": [
    "id(a)"
   ]
  },
  {
   "cell_type": "code",
   "execution_count": 56,
   "id": "6d29b17f",
   "metadata": {},
   "outputs": [
    {
     "data": {
      "text/plain": [
       "1192274439216"
      ]
     },
     "execution_count": 56,
     "metadata": {},
     "output_type": "execute_result"
    }
   ],
   "source": [
    "id(b)"
   ]
  },
  {
   "cell_type": "markdown",
   "id": "15337768",
   "metadata": {},
   "source": [
    "## 6) bytes Data Type:\n",
    "bytes data type represents a group of byte numbers just like an array."
   ]
  },
  {
   "cell_type": "code",
   "execution_count": 57,
   "id": "0b2e35b1",
   "metadata": {},
   "outputs": [
    {
     "data": {
      "text/plain": [
       "bytes"
      ]
     },
     "execution_count": 57,
     "metadata": {},
     "output_type": "execute_result"
    }
   ],
   "source": [
    "x=[10,20,30,40]\n",
    "b=bytes(x)\n",
    "type(b)"
   ]
  },
  {
   "cell_type": "code",
   "execution_count": 58,
   "id": "07b8f9b0",
   "metadata": {},
   "outputs": [
    {
     "name": "stdout",
     "output_type": "stream",
     "text": [
      "10\n"
     ]
    }
   ],
   "source": [
    "print(b[0])"
   ]
  },
  {
   "cell_type": "code",
   "execution_count": 59,
   "id": "1520acf1",
   "metadata": {},
   "outputs": [
    {
     "name": "stdout",
     "output_type": "stream",
     "text": [
      "20\n"
     ]
    }
   ],
   "source": [
    "print(b[1])"
   ]
  },
  {
   "cell_type": "code",
   "execution_count": 60,
   "id": "f733a8ae",
   "metadata": {},
   "outputs": [
    {
     "name": "stdout",
     "output_type": "stream",
     "text": [
      "40\n"
     ]
    }
   ],
   "source": [
    "print(b[-1])"
   ]
  },
  {
   "cell_type": "code",
   "execution_count": 62,
   "id": "f5c1df44",
   "metadata": {},
   "outputs": [
    {
     "name": "stdout",
     "output_type": "stream",
     "text": [
      "10\n",
      "20\n",
      "30\n",
      "40\n"
     ]
    }
   ],
   "source": [
    "for i in b: print(i)"
   ]
  },
  {
   "cell_type": "markdown",
   "id": "433b078b",
   "metadata": {},
   "source": [
    "**Conclusion 1:**<br>\n",
    "The only allowed values for byte data type are 0 to 256. By mistake if we are trying to provide any other values then we will get value error."
   ]
  },
  {
   "cell_type": "code",
   "execution_count": 63,
   "id": "8d0b84a7",
   "metadata": {},
   "outputs": [
    {
     "ename": "ValueError",
     "evalue": "bytes must be in range(0, 256)",
     "output_type": "error",
     "traceback": [
      "\u001b[1;31m---------------------------------------------------------------------------\u001b[0m",
      "\u001b[1;31mValueError\u001b[0m                                Traceback (most recent call last)",
      "\u001b[1;32m<ipython-input-63-f308853ce357>\u001b[0m in \u001b[0;36m<module>\u001b[1;34m\u001b[0m\n\u001b[0;32m      1\u001b[0m \u001b[0mx\u001b[0m\u001b[1;33m=\u001b[0m\u001b[1;33m[\u001b[0m\u001b[1;36m257\u001b[0m\u001b[1;33m,\u001b[0m\u001b[1;36m258\u001b[0m\u001b[1;33m]\u001b[0m\u001b[1;33m\u001b[0m\u001b[1;33m\u001b[0m\u001b[0m\n\u001b[1;32m----> 2\u001b[1;33m \u001b[0mb\u001b[0m\u001b[1;33m=\u001b[0m\u001b[0mbytes\u001b[0m\u001b[1;33m(\u001b[0m\u001b[0mx\u001b[0m\u001b[1;33m)\u001b[0m\u001b[1;33m\u001b[0m\u001b[1;33m\u001b[0m\u001b[0m\n\u001b[0m",
      "\u001b[1;31mValueError\u001b[0m: bytes must be in range(0, 256)"
     ]
    }
   ],
   "source": [
    "x=[257,258]\n",
    "b=bytes(x)"
   ]
  },
  {
   "cell_type": "markdown",
   "id": "403e6a12",
   "metadata": {},
   "source": [
    "**Conclusion 2:**<br>\n",
    "Once we creates bytes data type value, we cannot change its values,otherwise we will get TypeError."
   ]
  },
  {
   "cell_type": "code",
   "execution_count": 64,
   "id": "cf325cda",
   "metadata": {},
   "outputs": [
    {
     "ename": "TypeError",
     "evalue": "'bytes' object does not support item assignment",
     "output_type": "error",
     "traceback": [
      "\u001b[1;31m---------------------------------------------------------------------------\u001b[0m",
      "\u001b[1;31mTypeError\u001b[0m                                 Traceback (most recent call last)",
      "\u001b[1;32m<ipython-input-64-aada7435d3a9>\u001b[0m in \u001b[0;36m<module>\u001b[1;34m\u001b[0m\n\u001b[0;32m      1\u001b[0m \u001b[0mx\u001b[0m\u001b[1;33m=\u001b[0m\u001b[1;33m[\u001b[0m\u001b[1;36m10\u001b[0m\u001b[1;33m,\u001b[0m\u001b[1;36m20\u001b[0m\u001b[1;33m,\u001b[0m\u001b[1;36m30\u001b[0m\u001b[1;33m,\u001b[0m\u001b[1;36m40\u001b[0m\u001b[1;33m]\u001b[0m\u001b[1;33m\u001b[0m\u001b[1;33m\u001b[0m\u001b[0m\n\u001b[0;32m      2\u001b[0m \u001b[0mb\u001b[0m\u001b[1;33m=\u001b[0m\u001b[0mbytes\u001b[0m\u001b[1;33m(\u001b[0m\u001b[0mx\u001b[0m\u001b[1;33m)\u001b[0m\u001b[1;33m\u001b[0m\u001b[1;33m\u001b[0m\u001b[0m\n\u001b[1;32m----> 3\u001b[1;33m \u001b[0mb\u001b[0m\u001b[1;33m[\u001b[0m\u001b[1;36m0\u001b[0m\u001b[1;33m]\u001b[0m\u001b[1;33m=\u001b[0m\u001b[1;36m100\u001b[0m\u001b[1;33m\u001b[0m\u001b[1;33m\u001b[0m\u001b[0m\n\u001b[0m",
      "\u001b[1;31mTypeError\u001b[0m: 'bytes' object does not support item assignment"
     ]
    }
   ],
   "source": [
    "x=[10,20,30,40]\n",
    "b=bytes(x)\n",
    "b[0]=100"
   ]
  },
  {
   "cell_type": "markdown",
   "id": "70dc07e3",
   "metadata": {},
   "source": [
    "## 7) bytearray Data Type:<br>\n",
    "bytearray is exactly same as bytes data type except that its elements can be modified."
   ]
  },
  {
   "cell_type": "code",
   "execution_count": 66,
   "id": "fabb970c",
   "metadata": {},
   "outputs": [
    {
     "name": "stdout",
     "output_type": "stream",
     "text": [
      "10\n",
      "20\n",
      "30\n",
      "40\n",
      "\n",
      "100\n",
      "20\n",
      "30\n",
      "40\n"
     ]
    }
   ],
   "source": [
    "x=[10,20,30,40]\n",
    "b=bytearray(x)\n",
    "for i in b: print(i)\n",
    "b[0]=100\n",
    "print()\n",
    "for i in b: print(i)"
   ]
  },
  {
   "cell_type": "code",
   "execution_count": 69,
   "id": "74002181",
   "metadata": {},
   "outputs": [
    {
     "ename": "ValueError",
     "evalue": "byte must be in range(0, 256)",
     "output_type": "error",
     "traceback": [
      "\u001b[1;31m---------------------------------------------------------------------------\u001b[0m",
      "\u001b[1;31mValueError\u001b[0m                                Traceback (most recent call last)",
      "\u001b[1;32m<ipython-input-69-ea2dae7a8909>\u001b[0m in \u001b[0;36m<module>\u001b[1;34m\u001b[0m\n\u001b[0;32m      1\u001b[0m \u001b[0mx\u001b[0m\u001b[1;33m=\u001b[0m\u001b[1;33m[\u001b[0m\u001b[1;36m10\u001b[0m\u001b[1;33m,\u001b[0m\u001b[1;36m256\u001b[0m\u001b[1;33m]\u001b[0m\u001b[1;33m\u001b[0m\u001b[1;33m\u001b[0m\u001b[0m\n\u001b[1;32m----> 2\u001b[1;33m \u001b[0mb\u001b[0m\u001b[1;33m=\u001b[0m\u001b[0mbytearray\u001b[0m\u001b[1;33m(\u001b[0m\u001b[0mx\u001b[0m\u001b[1;33m)\u001b[0m\u001b[1;33m\u001b[0m\u001b[1;33m\u001b[0m\u001b[0m\n\u001b[0m",
      "\u001b[1;31mValueError\u001b[0m: byte must be in range(0, 256)"
     ]
    }
   ],
   "source": [
    "x=[10,256] #256 is out of range, give ValueError\n",
    "b=bytearray(x)\n"
   ]
  },
  {
   "cell_type": "markdown",
   "id": "aa5a3599",
   "metadata": {},
   "source": [
    "## 8) List Data Type:\n",
    "If we want to represent a group of values as a single entity where insertion order required to preserve and duplicates are allowed then we should go for list data type.<br>\n",
    "\n",
    "> 1) Insertion Order is preserved<br>\n",
    "> 2) Heterogeneous Objects are allowed<br>\n",
    "> 3) Duplicates are allowed<br>\n",
    "> 4) Growable in nature<br>\n",
    "> 5) Values should be enclosed within square brackets."
   ]
  },
  {
   "cell_type": "code",
   "execution_count": 1,
   "id": "5b6fd3e9",
   "metadata": {},
   "outputs": [
    {
     "name": "stdout",
     "output_type": "stream",
     "text": [
      "[10, 20.56, 'Sairam', True, 10]\n"
     ]
    }
   ],
   "source": [
    "list = [10,20.56,'Sairam',True,10]\n",
    "print(list)"
   ]
  },
  {
   "cell_type": "code",
   "execution_count": 2,
   "id": "2d1e89e2",
   "metadata": {},
   "outputs": [
    {
     "data": {
      "text/plain": [
       "10"
      ]
     },
     "execution_count": 2,
     "metadata": {},
     "output_type": "execute_result"
    }
   ],
   "source": [
    "list[0]"
   ]
  },
  {
   "cell_type": "code",
   "execution_count": 3,
   "id": "69064bf7",
   "metadata": {},
   "outputs": [
    {
     "data": {
      "text/plain": [
       "10"
      ]
     },
     "execution_count": 3,
     "metadata": {},
     "output_type": "execute_result"
    }
   ],
   "source": [
    "list[-1]"
   ]
  },
  {
   "cell_type": "code",
   "execution_count": 4,
   "id": "f5f8a470",
   "metadata": {},
   "outputs": [
    {
     "data": {
      "text/plain": [
       "[20.56, 'Sairam']"
      ]
     },
     "execution_count": 4,
     "metadata": {},
     "output_type": "execute_result"
    }
   ],
   "source": [
    "list[1:3]"
   ]
  },
  {
   "cell_type": "code",
   "execution_count": 5,
   "id": "901e2c25",
   "metadata": {},
   "outputs": [
    {
     "name": "stdout",
     "output_type": "stream",
     "text": [
      "10\n",
      "20.56\n",
      "Sairam\n",
      "True\n",
      "10\n"
     ]
    }
   ],
   "source": [
    "for i in list: print(i)"
   ]
  },
  {
   "cell_type": "markdown",
   "id": "b409d3f5",
   "metadata": {},
   "source": [
    "list is growable in nature. i.e based on our requirement we can increase or decrease the size."
   ]
  },
  {
   "cell_type": "code",
   "execution_count": 6,
   "id": "c3985439",
   "metadata": {},
   "outputs": [],
   "source": [
    "list = [10,20,30]"
   ]
  },
  {
   "cell_type": "code",
   "execution_count": 8,
   "id": "48a065f6",
   "metadata": {},
   "outputs": [
    {
     "data": {
      "text/plain": [
       "[10, 20, 30, 'durga', 'durga']"
      ]
     },
     "execution_count": 8,
     "metadata": {},
     "output_type": "execute_result"
    }
   ],
   "source": [
    "list.append(\"durga\")\n",
    "list"
   ]
  },
  {
   "cell_type": "code",
   "execution_count": 9,
   "id": "3a4ff3eb",
   "metadata": {},
   "outputs": [
    {
     "data": {
      "text/plain": [
       "[20, 30, 'durga', 'durga']"
      ]
     },
     "execution_count": 9,
     "metadata": {},
     "output_type": "execute_result"
    }
   ],
   "source": [
    "list.remove(10)\n",
    "list"
   ]
  },
  {
   "cell_type": "code",
   "execution_count": 11,
   "id": "175a3fa1",
   "metadata": {},
   "outputs": [
    {
     "data": {
      "text/plain": [
       "[20, 30, 'durga', 'durga', 20, 30, 'durga', 'durga']"
      ]
     },
     "execution_count": 11,
     "metadata": {},
     "output_type": "execute_result"
    }
   ],
   "source": [
    "list1=list*2\n",
    "list1"
   ]
  },
  {
   "cell_type": "markdown",
   "id": "3c8a8fa1",
   "metadata": {},
   "source": [
    "**Note:** An ordered, mutable, heterogenous collection of elemnts is nothing but list, where duplicates also allowed."
   ]
  },
  {
   "cell_type": "markdown",
   "id": "8c5498fe",
   "metadata": {},
   "source": [
    "## 9) Tuple Data Type:\n",
    "- tuple data type is exactly same as list data type except that it is immutable.i.e we cannot chage values.<br>\n",
    "- Tuple elements can be represented within parenthesis."
   ]
  },
  {
   "cell_type": "code",
   "execution_count": 12,
   "id": "729cc8d8",
   "metadata": {},
   "outputs": [
    {
     "data": {
      "text/plain": [
       "tuple"
      ]
     },
     "execution_count": 12,
     "metadata": {},
     "output_type": "execute_result"
    }
   ],
   "source": [
    "t=(10,20,30,40)\n",
    "type(t)"
   ]
  },
  {
   "cell_type": "code",
   "execution_count": 13,
   "id": "b696d015",
   "metadata": {},
   "outputs": [
    {
     "data": {
      "text/plain": [
       "10"
      ]
     },
     "execution_count": 13,
     "metadata": {},
     "output_type": "execute_result"
    }
   ],
   "source": [
    "t[0]"
   ]
  },
  {
   "cell_type": "code",
   "execution_count": 14,
   "id": "0984ac79",
   "metadata": {},
   "outputs": [
    {
     "ename": "TypeError",
     "evalue": "'tuple' object does not support item assignment",
     "output_type": "error",
     "traceback": [
      "\u001b[1;31m---------------------------------------------------------------------------\u001b[0m",
      "\u001b[1;31mTypeError\u001b[0m                                 Traceback (most recent call last)",
      "\u001b[1;32m~\\AppData\\Local\\Temp/ipykernel_916/22706322.py\u001b[0m in \u001b[0;36m<module>\u001b[1;34m\u001b[0m\n\u001b[1;32m----> 1\u001b[1;33m \u001b[0mt\u001b[0m\u001b[1;33m[\u001b[0m\u001b[1;36m0\u001b[0m\u001b[1;33m]\u001b[0m \u001b[1;33m=\u001b[0m \u001b[1;36m100\u001b[0m \u001b[1;31m# this will give TypeError as tuple wont allow changes.\u001b[0m\u001b[1;33m\u001b[0m\u001b[1;33m\u001b[0m\u001b[0m\n\u001b[0m",
      "\u001b[1;31mTypeError\u001b[0m: 'tuple' object does not support item assignment"
     ]
    }
   ],
   "source": [
    "t[0] = 100 # this will give TypeError as tuple wont allow changes."
   ]
  },
  {
   "cell_type": "code",
   "execution_count": 15,
   "id": "3ae18e86",
   "metadata": {},
   "outputs": [
    {
     "ename": "AttributeError",
     "evalue": "'tuple' object has no attribute 'append'",
     "output_type": "error",
     "traceback": [
      "\u001b[1;31m---------------------------------------------------------------------------\u001b[0m",
      "\u001b[1;31mAttributeError\u001b[0m                            Traceback (most recent call last)",
      "\u001b[1;32m~\\AppData\\Local\\Temp/ipykernel_916/3314754024.py\u001b[0m in \u001b[0;36m<module>\u001b[1;34m\u001b[0m\n\u001b[1;32m----> 1\u001b[1;33m \u001b[0mt\u001b[0m\u001b[1;33m.\u001b[0m\u001b[0mappend\u001b[0m\u001b[1;33m(\u001b[0m\u001b[1;34m\"sairam\"\u001b[0m\u001b[1;33m)\u001b[0m \u001b[1;31m# This will also raise Error as below\u001b[0m\u001b[1;33m\u001b[0m\u001b[1;33m\u001b[0m\u001b[0m\n\u001b[0m",
      "\u001b[1;31mAttributeError\u001b[0m: 'tuple' object has no attribute 'append'"
     ]
    }
   ],
   "source": [
    "t.append(\"sairam\") # This will also raise Error as below as it doen't allow to change its contents."
   ]
  },
  {
   "cell_type": "code",
   "execution_count": 16,
   "id": "fcc0a5e8",
   "metadata": {},
   "outputs": [
    {
     "ename": "AttributeError",
     "evalue": "'tuple' object has no attribute 'remove'",
     "output_type": "error",
     "traceback": [
      "\u001b[1;31m---------------------------------------------------------------------------\u001b[0m",
      "\u001b[1;31mAttributeError\u001b[0m                            Traceback (most recent call last)",
      "\u001b[1;32m~\\AppData\\Local\\Temp/ipykernel_916/14926405.py\u001b[0m in \u001b[0;36m<module>\u001b[1;34m\u001b[0m\n\u001b[1;32m----> 1\u001b[1;33m \u001b[0mt\u001b[0m\u001b[1;33m.\u001b[0m\u001b[0mremove\u001b[0m\u001b[1;33m(\u001b[0m\u001b[1;36m10\u001b[0m\u001b[1;33m)\u001b[0m\u001b[1;33m\u001b[0m\u001b[1;33m\u001b[0m\u001b[0m\n\u001b[0m",
      "\u001b[1;31mAttributeError\u001b[0m: 'tuple' object has no attribute 'remove'"
     ]
    }
   ],
   "source": [
    "t.remove(10)"
   ]
  },
  {
   "cell_type": "markdown",
   "id": "379b94d2",
   "metadata": {},
   "source": [
    "**Note:** tuple is the read only version of list"
   ]
  },
  {
   "cell_type": "markdown",
   "id": "8a46761e",
   "metadata": {},
   "source": [
    "## 10) Range Data Type:\n",
    "- range Data Type represents a sequence of numbers.<br>\n",
    "- The elements present in range Data type are not modifiable. i.e range Data type is immutable.<br><br>\n",
    "\n",
    "**Form-1:** range(10)<br> generate numbers from 0 to 9\n"
   ]
  },
  {
   "cell_type": "code",
   "execution_count": 20,
   "id": "41c0bac3",
   "metadata": {},
   "outputs": [
    {
     "name": "stdout",
     "output_type": "stream",
     "text": [
      "0\n",
      "1\n",
      "2\n",
      "3\n",
      "4\n",
      "5\n",
      "6\n",
      "7\n",
      "8\n",
      "9\n"
     ]
    }
   ],
   "source": [
    "r = range(10)\n",
    "for i in r: print(i)"
   ]
  },
  {
   "cell_type": "markdown",
   "id": "d5772496",
   "metadata": {},
   "source": [
    "**Form-2:** range(10, 20)<br>\n",
    "generate numbers from 10 to 19"
   ]
  },
  {
   "cell_type": "code",
   "execution_count": 21,
   "id": "fa96709a",
   "metadata": {},
   "outputs": [
    {
     "name": "stdout",
     "output_type": "stream",
     "text": [
      "10\n",
      "11\n",
      "12\n",
      "13\n",
      "14\n",
      "15\n",
      "16\n",
      "17\n",
      "18\n",
      "19\n"
     ]
    }
   ],
   "source": [
    "r = range(10,20)\n",
    "for i in r: print(i)"
   ]
  },
  {
   "cell_type": "markdown",
   "id": "43b5b2fe",
   "metadata": {},
   "source": [
    "**Form-3:** range(10, 20, 2)<br>\n",
    "2 means increment value"
   ]
  },
  {
   "cell_type": "code",
   "execution_count": 22,
   "id": "f15fc4a8",
   "metadata": {},
   "outputs": [
    {
     "name": "stdout",
     "output_type": "stream",
     "text": [
      "10\n",
      "12\n",
      "14\n",
      "16\n",
      "18\n"
     ]
    }
   ],
   "source": [
    "# Example 1\n",
    "r = range(10,20,2)\n",
    "for i in r: print(i)"
   ]
  },
  {
   "cell_type": "markdown",
   "id": "a9370bae",
   "metadata": {},
   "source": [
    "We can access elements present in the range Data Type by using index."
   ]
  },
  {
   "cell_type": "code",
   "execution_count": 24,
   "id": "d54a70e9",
   "metadata": {},
   "outputs": [
    {
     "data": {
      "text/plain": [
       "10"
      ]
     },
     "execution_count": 24,
     "metadata": {},
     "output_type": "execute_result"
    }
   ],
   "source": [
    "# Example 2:\n",
    "r = range(10,20)\n",
    "r[0]"
   ]
  },
  {
   "cell_type": "code",
   "execution_count": 25,
   "id": "ac7ae758",
   "metadata": {},
   "outputs": [
    {
     "ename": "IndexError",
     "evalue": "range object index out of range",
     "output_type": "error",
     "traceback": [
      "\u001b[1;31m---------------------------------------------------------------------------\u001b[0m",
      "\u001b[1;31mIndexError\u001b[0m                                Traceback (most recent call last)",
      "\u001b[1;32m~\\AppData\\Local\\Temp/ipykernel_916/2450227716.py\u001b[0m in \u001b[0;36m<module>\u001b[1;34m\u001b[0m\n\u001b[1;32m----> 1\u001b[1;33m \u001b[0mr\u001b[0m\u001b[1;33m[\u001b[0m\u001b[1;36m12\u001b[0m\u001b[1;33m]\u001b[0m\u001b[1;33m\u001b[0m\u001b[1;33m\u001b[0m\u001b[0m\n\u001b[0m",
      "\u001b[1;31mIndexError\u001b[0m: range object index out of range"
     ]
    }
   ],
   "source": [
    "r[12] # Will raise IndexError as it has only range from 0 to 9."
   ]
  },
  {
   "cell_type": "markdown",
   "id": "ea266164",
   "metadata": {},
   "source": [
    "We cannot modify the values of range data type"
   ]
  },
  {
   "cell_type": "code",
   "execution_count": 26,
   "id": "a05ef34c",
   "metadata": {},
   "outputs": [
    {
     "ename": "TypeError",
     "evalue": "'range' object does not support item assignment",
     "output_type": "error",
     "traceback": [
      "\u001b[1;31m---------------------------------------------------------------------------\u001b[0m",
      "\u001b[1;31mTypeError\u001b[0m                                 Traceback (most recent call last)",
      "\u001b[1;32m~\\AppData\\Local\\Temp/ipykernel_916/3589217873.py\u001b[0m in \u001b[0;36m<module>\u001b[1;34m\u001b[0m\n\u001b[1;32m----> 1\u001b[1;33m \u001b[0mr\u001b[0m\u001b[1;33m[\u001b[0m\u001b[1;36m0\u001b[0m\u001b[1;33m]\u001b[0m \u001b[1;33m=\u001b[0m \u001b[1;36m100\u001b[0m\u001b[1;33m\u001b[0m\u001b[1;33m\u001b[0m\u001b[0m\n\u001b[0m",
      "\u001b[1;31mTypeError\u001b[0m: 'range' object does not support item assignment"
     ]
    }
   ],
   "source": [
    "r[0] = 100 "
   ]
  },
  {
   "cell_type": "markdown",
   "id": "5368580d",
   "metadata": {},
   "source": [
    "We can create a list of values with range data type"
   ]
  },
  {
   "cell_type": "markdown",
   "id": "b8221906",
   "metadata": {},
   "source": [
    "## 11) set Data Type:\n",
    "֍ If we want to represent a group of values without duplicates where order is not important then we should go for set Data Type.<br>\n",
    "> 1) Insertion order is not preserved<br>\n",
    "> 2) Duplicates are not allowed<br>\n",
    "> 3) Heterogeneous objects are allowed<br>\n",
    "> 4) Index concept is not applicable<br>\n",
    "> 5) It is mutable collection<br>\n",
    "> 6) Growable in nature"
   ]
  },
  {
   "cell_type": "code",
   "execution_count": 31,
   "id": "81aeeceb",
   "metadata": {},
   "outputs": [],
   "source": [
    "s = {100,0,200,10.0,\"Sairam\"}"
   ]
  },
  {
   "cell_type": "code",
   "execution_count": 32,
   "id": "11c4589b",
   "metadata": {},
   "outputs": [
    {
     "ename": "TypeError",
     "evalue": "'set' object is not subscriptable",
     "output_type": "error",
     "traceback": [
      "\u001b[1;31m---------------------------------------------------------------------------\u001b[0m",
      "\u001b[1;31mTypeError\u001b[0m                                 Traceback (most recent call last)",
      "\u001b[1;32m~\\AppData\\Local\\Temp/ipykernel_916/243613605.py\u001b[0m in \u001b[0;36m<module>\u001b[1;34m\u001b[0m\n\u001b[1;32m----> 1\u001b[1;33m \u001b[0ms\u001b[0m\u001b[1;33m[\u001b[0m\u001b[1;36m0\u001b[0m\u001b[1;33m]\u001b[0m\u001b[1;33m\u001b[0m\u001b[1;33m\u001b[0m\u001b[0m\n\u001b[0m",
      "\u001b[1;31mTypeError\u001b[0m: 'set' object is not subscriptable"
     ]
    }
   ],
   "source": [
    "s[0] # Set doesnt support indexing"
   ]
  },
  {
   "cell_type": "markdown",
   "id": "f845e775",
   "metadata": {},
   "source": [
    "֍ set is growable in nature, based on our requirement we can increase or decrease the size."
   ]
  },
  {
   "cell_type": "code",
   "execution_count": 33,
   "id": "c3a74e10",
   "metadata": {},
   "outputs": [
    {
     "data": {
      "text/plain": [
       "{0, 10.0, 100, 200, 60, 'Sairam'}"
      ]
     },
     "execution_count": 33,
     "metadata": {},
     "output_type": "execute_result"
    }
   ],
   "source": [
    "s.add(60)\n",
    "s"
   ]
  },
  {
   "cell_type": "code",
   "execution_count": 34,
   "id": "9aa64e9c",
   "metadata": {},
   "outputs": [],
   "source": [
    "s.remove(100)"
   ]
  },
  {
   "cell_type": "code",
   "execution_count": 35,
   "id": "24deea7c",
   "metadata": {},
   "outputs": [
    {
     "data": {
      "text/plain": [
       "{0, 10.0, 200, 60, 'Sairam'}"
      ]
     },
     "execution_count": 35,
     "metadata": {},
     "output_type": "execute_result"
    }
   ],
   "source": [
    "s"
   ]
  },
  {
   "cell_type": "markdown",
   "id": "3fbd078a",
   "metadata": {},
   "source": [
    "## 12) frozenset Data Type:\n",
    "֍ It is exactly same as set except that it is immutable.<br>\n",
    "֍ Hence we cannot use add or remove functions."
   ]
  },
  {
   "cell_type": "code",
   "execution_count": 37,
   "id": "8b915b3e",
   "metadata": {},
   "outputs": [
    {
     "data": {
      "text/plain": [
       "frozenset"
      ]
     },
     "execution_count": 37,
     "metadata": {},
     "output_type": "execute_result"
    }
   ],
   "source": [
    "s={10,20,30,40}\n",
    "fs  = frozenset(s)\n",
    "type(fs)"
   ]
  },
  {
   "cell_type": "code",
   "execution_count": 38,
   "id": "343f13f0",
   "metadata": {},
   "outputs": [
    {
     "data": {
      "text/plain": [
       "frozenset({10, 20, 30, 40})"
      ]
     },
     "execution_count": 38,
     "metadata": {},
     "output_type": "execute_result"
    }
   ],
   "source": [
    "fs"
   ]
  },
  {
   "cell_type": "code",
   "execution_count": 39,
   "id": "076dcda1",
   "metadata": {},
   "outputs": [
    {
     "name": "stdout",
     "output_type": "stream",
     "text": [
      "40\n",
      "10\n",
      "20\n",
      "30\n"
     ]
    }
   ],
   "source": [
    "for i in fs: print(i)"
   ]
  },
  {
   "cell_type": "code",
   "execution_count": 40,
   "id": "0180796b",
   "metadata": {},
   "outputs": [
    {
     "ename": "AttributeError",
     "evalue": "'frozenset' object has no attribute 'add'",
     "output_type": "error",
     "traceback": [
      "\u001b[1;31m---------------------------------------------------------------------------\u001b[0m",
      "\u001b[1;31mAttributeError\u001b[0m                            Traceback (most recent call last)",
      "\u001b[1;32m~\\AppData\\Local\\Temp/ipykernel_916/1150403617.py\u001b[0m in \u001b[0;36m<module>\u001b[1;34m\u001b[0m\n\u001b[1;32m----> 1\u001b[1;33m \u001b[0mfs\u001b[0m\u001b[1;33m.\u001b[0m\u001b[0madd\u001b[0m\u001b[1;33m(\u001b[0m\u001b[1;36m10\u001b[0m\u001b[1;33m)\u001b[0m\u001b[1;33m\u001b[0m\u001b[1;33m\u001b[0m\u001b[0m\n\u001b[0m",
      "\u001b[1;31mAttributeError\u001b[0m: 'frozenset' object has no attribute 'add'"
     ]
    }
   ],
   "source": [
    "fs.add(10)"
   ]
  },
  {
   "cell_type": "code",
   "execution_count": 41,
   "id": "532ec13f",
   "metadata": {},
   "outputs": [
    {
     "ename": "AttributeError",
     "evalue": "'frozenset' object has no attribute 'remove'",
     "output_type": "error",
     "traceback": [
      "\u001b[1;31m---------------------------------------------------------------------------\u001b[0m",
      "\u001b[1;31mAttributeError\u001b[0m                            Traceback (most recent call last)",
      "\u001b[1;32m~\\AppData\\Local\\Temp/ipykernel_916/500030008.py\u001b[0m in \u001b[0;36m<module>\u001b[1;34m\u001b[0m\n\u001b[1;32m----> 1\u001b[1;33m \u001b[0mfs\u001b[0m\u001b[1;33m.\u001b[0m\u001b[0mremove\u001b[0m\u001b[1;33m(\u001b[0m\u001b[1;36m10\u001b[0m\u001b[1;33m)\u001b[0m\u001b[1;33m\u001b[0m\u001b[1;33m\u001b[0m\u001b[0m\n\u001b[0m",
      "\u001b[1;31mAttributeError\u001b[0m: 'frozenset' object has no attribute 'remove'"
     ]
    }
   ],
   "source": [
    "fs.remove(10)"
   ]
  },
  {
   "cell_type": "markdown",
   "id": "57281af9",
   "metadata": {},
   "source": [
    "## 13) dict Data Type:\n",
    "֍ If we want to represent a group of values as key-value pairs then we should go for dict data type.<br><br>\n",
    "֍ **Eg:** d = {101:'durga',102:'ravi',103:'shiva'}<br><br>\n",
    "֍ Duplicate keys are not allowed but values can be duplicated. If we are trying to insert an entry with duplicate key then old value will be replaced with new value."
   ]
  },
  {
   "cell_type": "code",
   "execution_count": 42,
   "id": "bfb611cb",
   "metadata": {},
   "outputs": [
    {
     "data": {
      "text/plain": [
       "{101: 'sunny', 102: 'ravi', 103: 'shiva'}"
      ]
     },
     "execution_count": 42,
     "metadata": {},
     "output_type": "execute_result"
    }
   ],
   "source": [
    "d={101:'durga',102:'ravi',103:'shiva'}\n",
    "d[101] = 'sunny'\n",
    "d"
   ]
  },
  {
   "cell_type": "code",
   "execution_count": 43,
   "id": "7c51d53f",
   "metadata": {},
   "outputs": [
    {
     "name": "stdout",
     "output_type": "stream",
     "text": [
      "{'a': 'apple', 'b': 'banana'}\n"
     ]
    }
   ],
   "source": [
    "# We can create empty dictionary as follows\n",
    "d={}\n",
    "\n",
    "# We can add key-value pairs as follows\n",
    "d['a'] = 'apple'\n",
    "d['b'] = 'banana'\n",
    "print(d)"
   ]
  },
  {
   "cell_type": "markdown",
   "id": "bd018088",
   "metadata": {},
   "source": [
    "**Note:** dict is mutable and the order won’t be preserved."
   ]
  },
  {
   "cell_type": "markdown",
   "id": "86191ebb",
   "metadata": {},
   "source": [
    "**Note:**\n",
    "1) In general we can use bytes and bytearray data types to represent binary information like images, video files etc<br><br>\n",
    "2) In Python2 long data type is available. But in Python3 it is not available and we can represent long values also by using int type only.<br><br> 3) In Python there is no char data type. Hence we can represent char values also by using str type.<br>\n",
    "![](images/6.png)<br>\n",
    "![](images/7-1.png)<br>\n",
    "\n",
    "## 14) None Data Type:\n",
    "- None means nothing or No value associated.<br>\n",
    "- If the value is not available, then to handle such type of cases None introduced.<br>"
   ]
  },
  {
   "cell_type": "code",
   "execution_count": 45,
   "id": "0d394cad",
   "metadata": {},
   "outputs": [
    {
     "name": "stdout",
     "output_type": "stream",
     "text": [
      "None\n"
     ]
    }
   ],
   "source": [
    "# Eg\n",
    "def m1():\n",
    "    a = 10 # No Value Assigned to m1()\n",
    "print(m1())"
   ]
  },
  {
   "cell_type": "code",
   "execution_count": 46,
   "id": "8dda3e9e",
   "metadata": {},
   "outputs": [
    {
     "name": "stdout",
     "output_type": "stream",
     "text": [
      "10\n"
     ]
    }
   ],
   "source": [
    "# Eg\n",
    "def m1():\n",
    "    return 10 # Value Assigned to m1() to return on calling it.\n",
    "print(m1())"
   ]
  },
  {
   "cell_type": "markdown",
   "id": "5d520c83",
   "metadata": {},
   "source": [
    "## Escape Characters:\n",
    "In String literals we can use esacpe characters to associate a special meaning."
   ]
  },
  {
   "cell_type": "code",
   "execution_count": 47,
   "id": "75adf177",
   "metadata": {},
   "outputs": [
    {
     "name": "stdout",
     "output_type": "stream",
     "text": [
      "python\n",
      "learning\n"
     ]
    }
   ],
   "source": [
    "s = \"python\\nlearning\"\n",
    "print(s)"
   ]
  },
  {
   "cell_type": "code",
   "execution_count": 48,
   "id": "44d2f2b0",
   "metadata": {},
   "outputs": [
    {
     "name": "stdout",
     "output_type": "stream",
     "text": [
      "python\tlearning\n"
     ]
    }
   ],
   "source": [
    "s = \"python\\tlearning\"\n",
    "print(s)"
   ]
  },
  {
   "cell_type": "code",
   "execution_count": 49,
   "id": "0aee99a3",
   "metadata": {},
   "outputs": [
    {
     "ename": "SyntaxError",
     "evalue": "invalid syntax (Temp/ipykernel_916/2474377451.py, line 1)",
     "output_type": "error",
     "traceback": [
      "\u001b[1;36m  File \u001b[1;32m\"C:\\Users\\kksai\\AppData\\Local\\Temp/ipykernel_916/2474377451.py\"\u001b[1;36m, line \u001b[1;32m1\u001b[0m\n\u001b[1;33m    s = \"python\" learning\"\u001b[0m\n\u001b[1;37m                 ^\u001b[0m\n\u001b[1;31mSyntaxError\u001b[0m\u001b[1;31m:\u001b[0m invalid syntax\n"
     ]
    }
   ],
   "source": [
    "s = \"python\" learning\"\n",
    "print(s)"
   ]
  },
  {
   "cell_type": "code",
   "execution_count": 50,
   "id": "1bc9c233",
   "metadata": {},
   "outputs": [
    {
     "name": "stdout",
     "output_type": "stream",
     "text": [
      "python\" learning\n"
     ]
    }
   ],
   "source": [
    "s = \"python\\\" learning\"\n",
    "print(s)"
   ]
  },
  {
   "cell_type": "markdown",
   "id": "7ac0f2c2",
   "metadata": {},
   "source": [
    "The following are various important escape characters in Python<br>\n",
    "\n",
    "> 1) **\\n** ==> New Line<br>\n",
    "> 2) **\\t** ==> Horizontal Tab<br>\n",
    "> 3) **\\r** ==> Carriage Return<br>\n",
    "> 4) **\\b** ==> Back Space<br>\n",
    "> 5) **\\f** ==> Form Feed<br>\n",
    "> 6) **\\v** ==> Vertical Tab<br>\n",
    "> 7) **\\\\'** ==> Single Quote<br>\n",
    "> 8) **\\\\\"** ==> Double Quote<br>\n",
    "> 9) **\\\\\\** ==> Back Slash Symbol<br>\n",
    "> ....<br><br>\n",
    "\n",
    "### Constants:\n",
    "- Constants concept is not applicable in Python.<br>\n",
    "- But it is convention to use only uppercase characters if we don’t want to change value.<br>\n",
    "- MAX_VALUE = 10<br>\n",
    "- It is just convention but we can change the value."
   ]
  },
  {
   "cell_type": "code",
   "execution_count": null,
   "id": "9ff41719",
   "metadata": {},
   "outputs": [],
   "source": []
  }
 ],
 "metadata": {
  "kernelspec": {
   "display_name": "Python 3 (ipykernel)",
   "language": "python",
   "name": "python3"
  },
  "language_info": {
   "codemirror_mode": {
    "name": "ipython",
    "version": 3
   },
   "file_extension": ".py",
   "mimetype": "text/x-python",
   "name": "python",
   "nbconvert_exporter": "python",
   "pygments_lexer": "ipython3",
   "version": "3.8.8"
  }
 },
 "nbformat": 4,
 "nbformat_minor": 5
}
