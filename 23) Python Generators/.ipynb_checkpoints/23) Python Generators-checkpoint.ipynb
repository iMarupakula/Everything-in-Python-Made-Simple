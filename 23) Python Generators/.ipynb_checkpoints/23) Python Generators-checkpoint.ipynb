{
 "cells": [
  {
   "cell_type": "markdown",
   "metadata": {},
   "source": [
    "# Python Generators\n",
    "\n",
    "Generator is a function which is responsible to generate a sequence of values. We can write generator functions just like ordinary functions, but it uses **'yield'** keyword to return values.<br>\n",
    "\n",
    "<img src=\"Supportive_Files/generator.png\" width=400><br>\n",
    "\n",
    "## Traditional Collections vs Generators\n",
    "\n",
    "#### Normal Collections:"
   ]
  },
  {
   "cell_type": "code",
   "execution_count": 3,
   "metadata": {},
   "outputs": [
    {
     "name": "stdout",
     "output_type": "stream",
     "text": [
      "[0, 1, 4, 9, 16, 25, 36, 49, 64, 81]\n",
      "0\n"
     ]
    }
   ],
   "source": [
    "l=[x*x for x in range(10)]\n",
    "print(l)\n",
    "print(l[0])"
   ]
  },
  {
   "cell_type": "markdown",
   "metadata": {},
   "source": [
    "```Python\n",
    "l=[x*x for x in range(1000000)] # Don't try to run this code, it will take time.\n",
    "```\n",
    "For the ranges like 10000,100000,1000000 etc. Everytime objects has to be created and store in List at begining itself. This will consume a lot of memory and sometimes due to lack of memory, MemoryError will be raised. <br>\n",
    "\n",
    "But for the same requirement, we can go with generators as follows.\n"
   ]
  },
  {
   "cell_type": "code",
   "execution_count": 4,
   "metadata": {},
   "outputs": [
    {
     "name": "stdout",
     "output_type": "stream",
     "text": [
      "<class 'generator'>\n"
     ]
    }
   ],
   "source": [
    "g = (x*x for x in range(10))\n",
    "print(type(g))"
   ]
  },
  {
   "cell_type": "code",
   "execution_count": 3,
   "metadata": {},
   "outputs": [
    {
     "name": "stdout",
     "output_type": "stream",
     "text": [
      "0\n",
      "1\n",
      "4\n",
      "9\n",
      "16\n",
      "25\n",
      "36\n",
      "49\n",
      "64\n",
      "81\n"
     ]
    },
    {
     "ename": "StopIteration",
     "evalue": "",
     "output_type": "error",
     "traceback": [
      "\u001b[1;31m---------------------------------------------------------------------------\u001b[0m",
      "\u001b[1;31mStopIteration\u001b[0m                             Traceback (most recent call last)",
      "\u001b[1;32m<ipython-input-3-f6d5ce88d2a4>\u001b[0m in \u001b[0;36m<module>\u001b[1;34m\u001b[0m\n\u001b[0;32m      1\u001b[0m \u001b[0mg\u001b[0m \u001b[1;33m=\u001b[0m \u001b[1;33m(\u001b[0m\u001b[0mx\u001b[0m\u001b[1;33m*\u001b[0m\u001b[0mx\u001b[0m \u001b[1;32mfor\u001b[0m \u001b[0mx\u001b[0m \u001b[1;32min\u001b[0m \u001b[0mrange\u001b[0m\u001b[1;33m(\u001b[0m\u001b[1;36m10\u001b[0m\u001b[1;33m)\u001b[0m\u001b[1;33m)\u001b[0m\u001b[1;33m\u001b[0m\u001b[1;33m\u001b[0m\u001b[0m\n\u001b[0;32m      2\u001b[0m \u001b[1;32mwhile\u001b[0m \u001b[1;32mTrue\u001b[0m\u001b[1;33m:\u001b[0m\u001b[1;33m\u001b[0m\u001b[1;33m\u001b[0m\u001b[0m\n\u001b[1;32m----> 3\u001b[1;33m     \u001b[0mprint\u001b[0m\u001b[1;33m(\u001b[0m\u001b[0mnext\u001b[0m\u001b[1;33m(\u001b[0m\u001b[0mg\u001b[0m\u001b[1;33m)\u001b[0m\u001b[1;33m)\u001b[0m\u001b[1;33m\u001b[0m\u001b[1;33m\u001b[0m\u001b[0m\n\u001b[0m",
      "\u001b[1;31mStopIteration\u001b[0m: "
     ]
    }
   ],
   "source": [
    "g = (x*x for x in range(10)) # We can also try big values 100000000000 etc. \n",
    "while True:\n",
    "    print(next(g))"
   ]
  },
  {
   "cell_type": "markdown",
   "metadata": {},
   "source": [
    "```Python\n",
    "g = (x*x for x in range(10000000)) \n",
    "while True:\n",
    "    print(next(g))\n",
    "```\n",
    "There will not be any Memory Issues or Erros with generators. It is because, generator won't store the values. So we can use big values. <br><br>\n",
    "\n",
    "For large amount of data gatherings we can't use traditional collections. We can go with generators in that case."
   ]
  },
  {
   "cell_type": "code",
   "execution_count": 8,
   "metadata": {},
   "outputs": [
    {
     "name": "stdout",
     "output_type": "stream",
     "text": [
      "<class 'generator'>\n",
      "A\n",
      "B\n",
      "C\n"
     ]
    },
    {
     "ename": "StopIteration",
     "evalue": "",
     "output_type": "error",
     "traceback": [
      "\u001b[1;31m---------------------------------------------------------------------------\u001b[0m",
      "\u001b[1;31mStopIteration\u001b[0m                             Traceback (most recent call last)",
      "\u001b[1;32m<ipython-input-8-4a3605be3028>\u001b[0m in \u001b[0;36m<module>\u001b[1;34m\u001b[0m\n\u001b[0;32m     11\u001b[0m \u001b[0mprint\u001b[0m\u001b[1;33m(\u001b[0m\u001b[0mnext\u001b[0m\u001b[1;33m(\u001b[0m\u001b[0mg\u001b[0m\u001b[1;33m)\u001b[0m\u001b[1;33m)\u001b[0m \u001b[1;31m#B\u001b[0m\u001b[1;33m\u001b[0m\u001b[1;33m\u001b[0m\u001b[0m\n\u001b[0;32m     12\u001b[0m \u001b[0mprint\u001b[0m\u001b[1;33m(\u001b[0m\u001b[0mnext\u001b[0m\u001b[1;33m(\u001b[0m\u001b[0mg\u001b[0m\u001b[1;33m)\u001b[0m\u001b[1;33m)\u001b[0m \u001b[1;31m#C\u001b[0m\u001b[1;33m\u001b[0m\u001b[1;33m\u001b[0m\u001b[0m\n\u001b[1;32m---> 13\u001b[1;33m \u001b[0mprint\u001b[0m\u001b[1;33m(\u001b[0m\u001b[0mnext\u001b[0m\u001b[1;33m(\u001b[0m\u001b[0mg\u001b[0m\u001b[1;33m)\u001b[0m\u001b[1;33m)\u001b[0m \u001b[1;31m# Error\u001b[0m\u001b[1;33m\u001b[0m\u001b[1;33m\u001b[0m\u001b[0m\n\u001b[0m",
      "\u001b[1;31mStopIteration\u001b[0m: "
     ]
    }
   ],
   "source": [
    "# Write a Generator function to generate 3 values 'A','B','C'\n",
    "\n",
    "def mygen():\n",
    "    yield 'A'\n",
    "    yield 'B'\n",
    "    yield 'C'\n",
    "\n",
    "g = mygen()\n",
    "print(type(g))\n",
    "print(next(g)) #A\n",
    "print(next(g)) #B\n",
    "print(next(g)) #C\n",
    "print(next(g)) # StopIteration Error since i thas only 3 values."
   ]
  },
  {
   "cell_type": "code",
   "execution_count": 11,
   "metadata": {},
   "outputs": [
    {
     "name": "stdout",
     "output_type": "stream",
     "text": [
      "A\n",
      "B\n",
      "C\n"
     ]
    }
   ],
   "source": [
    "g = mygen()\n",
    "\n",
    "for i in g:\n",
    "    print(i) # If we use this, we wont get any exception."
   ]
  },
  {
   "cell_type": "code",
   "execution_count": 12,
   "metadata": {},
   "outputs": [
    {
     "name": "stdout",
     "output_type": "stream",
     "text": [
      "1\n",
      "2\n",
      "3\n",
      "4\n",
      "5\n",
      "6\n",
      "7\n",
      "8\n",
      "9\n",
      "10\n"
     ]
    }
   ],
   "source": [
    "# Write a generator function to generate first n values ?\n",
    "\n",
    "def first_n_values_generator(n):\n",
    "    i=1\n",
    "    while i<=n:\n",
    "        yield i\n",
    "        i=i+1\n",
    "        \n",
    "g=first_n_values_generator(10)\n",
    "for x in g:\n",
    "    print(x)"
   ]
  },
  {
   "cell_type": "code",
   "execution_count": 15,
   "metadata": {},
   "outputs": [
    {
     "name": "stdout",
     "output_type": "stream",
     "text": [
      "10\n",
      "9\n",
      "8\n",
      "7\n",
      "6\n",
      "5\n",
      "4\n",
      "3\n",
      "2\n",
      "1\n"
     ]
    }
   ],
   "source": [
    "# write a generator function to generate values for countdown with provided max value?\n",
    "def countdown_generator(num):\n",
    "    while num>=1:\n",
    "        yield num # If nay function internally uses yield keyword then that function is a generator function.\n",
    "        num = num-1\n",
    "\n",
    "import time\n",
    "g=countdown_generator(10)\n",
    "for x in g:\n",
    "    print(x)\n",
    "    time.sleep(1)"
   ]
  },
  {
   "cell_type": "markdown",
   "metadata": {},
   "source": [
    "**Note:** If any function internally uses yield keyword then that function is a generator function."
   ]
  },
  {
   "cell_type": "code",
   "execution_count": 20,
   "metadata": {},
   "outputs": [
    {
     "name": "stdout",
     "output_type": "stream",
     "text": [
      "Enter no. of fibonacci numbers:10\n",
      "0\n",
      "1\n",
      "1\n",
      "2\n",
      "3\n",
      "5\n",
      "8\n",
      "13\n",
      "21\n"
     ]
    }
   ],
   "source": [
    "# Write a generator function to generate Fibonacci Numbers?\n",
    "# The next number is the sum of previous two numbers.\n",
    "# 0,1,1,2,3,5,8,13\n",
    "\n",
    "def fibonacci_sequence_generator():\n",
    "    a,b=0,1\n",
    "    while True:\n",
    "        yield a\n",
    "        a,b=b,a+b\n",
    "        \n",
    "g=fibonacci_sequence_generator()\n",
    "count=1\n",
    "n=int(input(\"Enter no. of fibonacci numbers:\"))\n",
    "while count<n:\n",
    "    print(next(g))\n",
    "    count=count+1"
   ]
  },
  {
   "cell_type": "markdown",
   "metadata": {},
   "source": [
    "### Performance Comparison of Collections & Generators"
   ]
  },
  {
   "cell_type": "code",
   "execution_count": 29,
   "metadata": {},
   "outputs": [
    {
     "name": "stdout",
     "output_type": "stream",
     "text": [
      "Time Required to prepare student list: 5.069999997431296e-05\n"
     ]
    }
   ],
   "source": [
    "# Normal Collection\n",
    "import random\n",
    "import time\n",
    "\n",
    "names=['Sairam','Sunny','Bunny','Mahesh']\n",
    "subjects=['Python','Java','DataScience']\n",
    "\n",
    "\n",
    "def student_list(num):\n",
    "    students=[]\n",
    "    for i in range(n):\n",
    "        student={'id':i,'name':random.choice(names),'subject':random.choice(subjects)}\n",
    "        students.append(student)\n",
    "    return students\n",
    "\n",
    "t1=time.perf_counter()\n",
    "students=student_list(10000)\n",
    "t2=time.perf_counter()\n",
    "print(\"Time Required to prepare student list:\",(t2-t1))"
   ]
  },
  {
   "cell_type": "code",
   "execution_count": 30,
   "metadata": {},
   "outputs": [
    {
     "name": "stdout",
     "output_type": "stream",
     "text": [
      "Time Required to prepare student Student Generator: 3.079999987676274e-05\n"
     ]
    }
   ],
   "source": [
    "# Generator\n",
    "def student_generator(num):\n",
    "    for i in range(n):\n",
    "        student={'id':i,'name':random.choice(names),'subject':random.choice(subjects)}\n",
    "        \n",
    "    yield student\n",
    "    \n",
    "t1=time.perf_counter()\n",
    "g=student_generator(10000)\n",
    "t2=time.perf_counter()\n",
    "print(\"Time Required to prepare student Student Generator:\",(t2-t1))"
   ]
  },
  {
   "cell_type": "markdown",
   "metadata": {},
   "source": [
    "Generator has took less time compared to normal collections.\n",
    "\n",
    "### Advantages and Limitations of Generators:\n",
    "\n",
    "#### Advantages:\n",
    "1) Memory Utilization will be improved compared to traditional collections.<br>\n",
    "2) Perfomance will be improved when comapred with traditional collections<br>\n",
    "3) Best suitable if we want to handle very huge volume of files, handling lakhs of records from database etc.<br>\n",
    "\n",
    "#### Limitations:\n",
    "1) It won't Store Data<br>\n",
    "2) We can't retrive a particular element with indexing like in collections.<br>"
   ]
  },
  {
   "cell_type": "code",
   "execution_count": 31,
   "metadata": {},
   "outputs": [
    {
     "name": "stdout",
     "output_type": "stream",
     "text": [
      "[1, 2, 3, 4, 5]\n"
     ]
    }
   ],
   "source": [
    "# How to convert generator object into the list?\n",
    "def first_n_values_generator(n):\n",
    "    i=1\n",
    "    while i<=n:\n",
    "        yield i\n",
    "        i=i+1\n",
    "        \n",
    "g=first_n_values_generator(5)\n",
    "l=list(g) # T Convert Generator Object to the list.\n",
    "print(l)"
   ]
  },
  {
   "cell_type": "markdown",
   "metadata": {},
   "source": [
    "### Difference between Decorator and Generator\n",
    "\n",
    "**Decorator**<br>\n",
    "If we want to extend functionality of the existing function without modifying that.<br><br>\n",
    "\n",
    "**Generator**<br>\n",
    "If we want to generate a sequence of values then we should go for generators."
   ]
  },
  {
   "cell_type": "markdown",
   "metadata": {},
   "source": [
    "**Refer below links for more information:**<br>\n",
    "https://www.programiz.com/python-programming/generator<br>\n",
    "https://www.geeksforgeeks.org/generators-in-python/<br>\n",
    "https://realpython.com/introduction-to-python-generators/<br>\n",
    "\n",
    "# ====================== THE END =========================\n"
   ]
  }
 ],
 "metadata": {
  "kernelspec": {
   "display_name": "Python 3",
   "language": "python",
   "name": "python3"
  },
  "language_info": {
   "codemirror_mode": {
    "name": "ipython",
    "version": 3
   },
   "file_extension": ".py",
   "mimetype": "text/x-python",
   "name": "python",
   "nbconvert_exporter": "python",
   "pygments_lexer": "ipython3",
   "version": "3.8.3"
  }
 },
 "nbformat": 4,
 "nbformat_minor": 4
}
